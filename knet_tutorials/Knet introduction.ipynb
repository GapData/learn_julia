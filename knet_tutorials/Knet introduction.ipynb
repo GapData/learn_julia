{
 "cells": [
  {
   "cell_type": "markdown",
   "metadata": {},
   "source": [
    "# Introduction to Knet"
   ]
  },
  {
   "cell_type": "markdown",
   "metadata": {},
   "source": [
    "# Linear regression Example"
   ]
  },
  {
   "cell_type": "code",
   "execution_count": 1,
   "metadata": {},
   "outputs": [
    {
     "data": {
      "text/plain": [
       "predict (generic function with 1 method)"
      ]
     },
     "execution_count": 1,
     "metadata": {},
     "output_type": "execute_result"
    }
   ],
   "source": [
    "function predict(w, x)\n",
    "    return w[1]*x .+ w[2]\n",
    "end"
   ]
  },
  {
   "cell_type": "code",
   "execution_count": 2,
   "metadata": {},
   "outputs": [
    {
     "data": {
      "text/plain": [
       "loss (generic function with 1 method)"
      ]
     },
     "execution_count": 2,
     "metadata": {},
     "output_type": "execute_result"
    }
   ],
   "source": [
    "function loss(w, x, y)\n",
    "    return sum((y - predict(w,x)).*(y - predict(w,x)))/length(y)\n",
    "end"
   ]
  },
  {
   "cell_type": "code",
   "execution_count": 3,
   "metadata": {},
   "outputs": [
    {
     "data": {
      "text/plain": [
       "(::gradfun) (generic function with 1 method)"
      ]
     },
     "execution_count": 3,
     "metadata": {},
     "output_type": "execute_result"
    }
   ],
   "source": [
    "using Knet\n",
    "lossgradient = grad(loss)"
   ]
  },
  {
   "cell_type": "markdown",
   "metadata": {},
   "source": [
    "### Load the data"
   ]
  },
  {
   "cell_type": "code",
   "execution_count": 4,
   "metadata": {
    "collapsed": true
   },
   "outputs": [],
   "source": [
    "X = Array(1:50);"
   ]
  },
  {
   "cell_type": "code",
   "execution_count": 5,
   "metadata": {
    "collapsed": true
   },
   "outputs": [],
   "source": [
    "y = [(x + sin(x[1] + rand(1)[1]/100))/2 for x in X];"
   ]
  },
  {
   "cell_type": "code",
   "execution_count": 6,
   "metadata": {},
   "outputs": [
    {
     "data": {
      "text/plain": [
       "(50,50)"
      ]
     },
     "execution_count": 6,
     "metadata": {},
     "output_type": "execute_result"
    }
   ],
   "source": [
    "length(X), length(y)"
   ]
  },
  {
   "cell_type": "code",
   "execution_count": 18,
   "metadata": {
    "collapsed": true
   },
   "outputs": [],
   "source": [
    "data = []\n",
    "for i in 1:length(X)\n",
    "    push!(data,(X[i], y[i][1]))\n",
    "end"
   ]
  },
  {
   "cell_type": "code",
   "execution_count": 22,
   "metadata": {},
   "outputs": [
    {
     "name": "stderr",
     "output_type": "stream",
     "text": [
      "\u001b[1m\u001b[34mINFO: Precompiling module PyPlot.\n",
      "\u001b[0m\n",
      "signal (11): Segmentation fault: 11\n",
      "while loading /Users/david/.julia/v0.5/PyCall/src/pyclass.jl, in expression starting on line 45\n",
      "julia_type_to_llvm at /Users/osx/buildbot/slave/package_osx10_9-x64/build/src/./cgutils.cpp:318\n",
      "mark_julia_const at /Users/osx/buildbot/slave/package_osx10_9-x64/build/src/codegen.cpp:641 [inlined]\n",
      "emit_expr at /Users/osx/buildbot/slave/package_osx10_9-x64/build/src/codegen.cpp:3140\n",
      "emit_invoke at /Users/osx/buildbot/slave/package_osx10_9-x64/build/src/codegen.cpp:2669 [inlined]\n",
      "emit_expr at /Users/osx/buildbot/slave/package_osx10_9-x64/build/src/codegen.cpp:3162\n",
      "emit_jlcall at /Users/osx/buildbot/slave/package_osx10_9-x64/build/src/codegen.cpp:2578\n",
      "emit_call at /Users/osx/buildbot/slave/package_osx10_9-x64/build/src/codegen.cpp:2739\n",
      "emit_expr at /Users/osx/buildbot/slave/package_osx10_9-x64/build/src/codegen.cpp:3172\n",
      "emit_function at /Users/osx/buildbot/slave/package_osx10_9-x64/build/src/codegen.cpp:4691\n",
      "jl_compile_linfo at /Users/osx/buildbot/slave/package_osx10_9-x64/build/src/codegen.cpp:809\n",
      "jl_compile_for_dispatch at /Users/osx/buildbot/slave/package_osx10_9-x64/build/src/gf.c:1310\n",
      "jl_call_method_internal at /Users/osx/buildbot/slave/package_osx10_9-x64/build/src/./julia_internal.h:184 [inlined]\n",
      "jl_apply_generic at /Users/osx/buildbot/slave/package_osx10_9-x64/build/src/gf.c:1942\n",
      "@capture at /Users/david/.julia/v0.5/MacroTools/src/macro.jl:61\n",
      "jl_call_method_internal at /Users/osx/buildbot/slave/package_osx10_9-x64/build/src/./julia_internal.h:189 [inlined]\n",
      "fl_invoke_julia_macro at /Users/osx/buildbot/slave/package_osx10_9-x64/build/src/ast.c:161\n",
      "apply_cl at /Users/osx/buildbot/slave/package_osx10_9-x64/build/src/flisp/flisp.c:1227\n",
      "_applyn at /Users/osx/buildbot/slave/package_osx10_9-x64/build/src/flisp/flisp.c:678\n",
      "fl_map1 at /Users/osx/buildbot/slave/package_osx10_9-x64/build/src/flisp/flisp.c:2220\n",
      "apply_cl at /Users/osx/buildbot/slave/package_osx10_9-x64/build/src/flisp/flisp.c:1177\n",
      "_applyn at /Users/osx/buildbot/slave/package_osx10_9-x64/build/src/flisp/flisp.c:678\n",
      "fl_map1 at /Users/osx/buildbot/slave/package_osx10_9-x64/build/src/flisp/flisp.c:2220\n",
      "apply_cl at /Users/osx/buildbot/slave/package_osx10_9-x64/build/src/flisp/flisp.c:1177\n",
      "_applyn at /Users/osx/buildbot/slave/package_osx10_9-x64/build/src/flisp/flisp.c:678\n",
      "fl_map1 at /Users/osx/buildbot/slave/package_osx10_9-x64/build/src/flisp/flisp.c:2220\n",
      "apply_cl at /Users/osx/buildbot/slave/package_osx10_9-x64/build/src/flisp/flisp.c:1177\n",
      "do_trycatch at /Users/osx/buildbot/slave/package_osx10_9-x64/build/src/flisp/flisp.c:899\n",
      "apply_cl at /Users/osx/buildbot/slave/package_osx10_9-x64/build/src/flisp/flisp.c:1807\n",
      "_applyn at /Users/osx/buildbot/slave/package_osx10_9-x64/build/src/flisp/flisp.c:678\n",
      "fl_applyn at /Users/osx/buildbot/slave/package_osx10_9-x64/build/src/flisp/flisp.c:723\n",
      "jl_parse_eval_all at /Users/osx/buildbot/slave/package_osx10_9-x64/build/src/ast.c:702\n",
      "jl_load at /Users/osx/buildbot/slave/package_osx10_9-x64/build/src/toplevel.c:596 [inlined]\n",
      "jl_load_ at /Users/osx/buildbot/slave/package_osx10_9-x64/build/src/toplevel.c:605\n",
      "include_from_node1 at ./loading.jl:488\n",
      "jlcall_include_from_node1_20125 at /Applications/Julia-0.5.app/Contents/Resources/julia/lib/julia/sys.dylib (unknown line)\n",
      "jl_call_method_internal at /Users/osx/buildbot/slave/package_osx10_9-x64/build/src/./julia_internal.h:189 [inlined]\n",
      "jl_apply_generic at /Users/osx/buildbot/slave/package_osx10_9-x64/build/src/gf.c:1942\n",
      "do_call at /Users/osx/buildbot/slave/package_osx10_9-x64/build/src/interpreter.c:66\n",
      "eval at /Users/osx/buildbot/slave/package_osx10_9-x64/build/src/interpreter.c:190\n",
      "jl_toplevel_eval_flex at /Users/osx/buildbot/slave/package_osx10_9-x64/build/src/toplevel.c:558\n",
      "jl_eval_module_expr at /Users/osx/buildbot/slave/package_osx10_9-x64/build/src/toplevel.c:196\n",
      "jl_toplevel_eval_flex at /Users/osx/buildbot/slave/package_osx10_9-x64/build/src/toplevel.c:465\n",
      "jl_parse_eval_all at /Users/osx/buildbot/slave/package_osx10_9-x64/build/src/ast.c:717\n",
      "jl_load at /Users/osx/buildbot/slave/package_osx10_9-x64/build/src/toplevel.c:596 [inlined]\n",
      "jl_load_ at /Users/osx/buildbot/slave/package_osx10_9-x64/build/src/toplevel.c:605\n",
      "include_from_node1 at ./loading.jl:488\n",
      "jlcall_include_from_node1_20125 at /Applications/Julia-0.5.app/Contents/Resources/julia/lib/julia/sys.dylib (unknown line)\n",
      "jl_call_method_internal at /Users/osx/buildbot/slave/package_osx10_9-x64/build/src/./julia_internal.h:189 [inlined]\n",
      "jl_apply_generic at /Users/osx/buildbot/slave/package_osx10_9-x64/build/src/gf.c:1942\n",
      "do_call at /Users/osx/buildbot/slave/package_osx10_9-x64/build/src/interpreter.c:66\n",
      "eval at /Users/osx/buildbot/slave/package_osx10_9-x64/build/src/interpreter.c:190\n",
      "jl_toplevel_eval_flex at /Users/osx/buildbot/slave/package_osx10_9-x64/build/src/toplevel.c:558\n",
      "jl_toplevel_eval_in_warn at /Users/osx/buildbot/slave/package_osx10_9-x64/build/src/builtins.c:590\n",
      "macro expansion; at ./none:2 [inlined]\n",
      "anonymous at ./<missing> (unknown line)\n",
      "unknown function (ip: 0x31acc47a1)\n",
      "jl_call_method_internal at /Users/osx/buildbot/slave/package_osx10_9-x64/build/src/./julia_internal.h:189 [inlined]\n",
      "jl_toplevel_eval_flex at /Users/osx/buildbot/slave/package_osx10_9-x64/build/src/toplevel.c:569\n",
      "jl_toplevel_eval_in_warn at /Users/osx/buildbot/slave/package_osx10_9-x64/build/src/builtins.c:590\n",
      "eval at ./boot.jl:234\n",
      "jlcall_eval_19752 at /Applications/Julia-0.5.app/Contents/Resources/julia/lib/julia/sys.dylib (unknown line)\n",
      "jl_call_method_internal at /Users/osx/buildbot/slave/package_osx10_9-x64/build/src/./julia_internal.h:189 [inlined]\n",
      "jl_apply_generic at /Users/osx/buildbot/slave/package_osx10_9-x64/build/src/gf.c:1942\n",
      "process_options at ./client.jl:239\n",
      "_start at ./client.jl:318\n",
      "jlcall__start_21452 at /Applications/Julia-0.5.app/Contents/Resources/julia/lib/julia/sys.dylib (unknown line)\n",
      "jl_call_method_internal at /Users/osx/buildbot/slave/package_osx10_9-x64/build/src/./julia_internal.h:189 [inlined]\n",
      "jl_apply_generic at /Users/osx/buildbot/slave/package_osx10_9-x64/build/src/gf.c:1942\n",
      "true_main at /Applications/Julia-0.5.app/Contents/Resources/julia/bin/julia (unknown line)\n",
      "main at /Applications/Julia-0.5.app/Contents/Resources/julia/bin/julia (unknown line)\n",
      "Allocations: 1868033 (Pool: 1867158; Big: 875); GC: 0\n",
      "\u001b[1m\u001b[31mERROR: LoadError: Failed to precompile PyCall to /Users/david/.julia/lib/v0.5/PyCall.ji.\n",
      " in compilecache(::String) at ./loading.jl:593\n",
      " in require(::Symbol) at ./loading.jl:393\n",
      " in require(::Symbol) at /Applications/Julia-0.5.app/Contents/Resources/julia/lib/julia/sys.dylib:?\n",
      " in include_from_node1(::String) at ./loading.jl:488\n",
      " in include_from_node1(::String) at /Applications/Julia-0.5.app/Contents/Resources/julia/lib/julia/sys.dylib:?\n",
      " in macro expansion; at ./none:2 [inlined]\n",
      " in anonymous at ./<missing>:?\n",
      " in eval(::Module, ::Any) at ./boot.jl:234\n",
      " in eval(::Module, ::Any) at /Applications/Julia-0.5.app/Contents/Resources/julia/lib/julia/sys.dylib:?\n",
      " in process_options(::Base.JLOptions) at ./client.jl:239\n",
      " in _start() at ./client.jl:318\n",
      " in _start() at /Applications/Julia-0.5.app/Contents/Resources/julia/lib/julia/sys.dylib:?\n",
      "while loading /Users/david/.julia/v0.5/PyPlot/src/PyPlot.jl, in expression starting on line 5\n",
      "\u001b[0m"
     ]
    },
    {
     "ename": "LoadError",
     "evalue": "Failed to precompile PyPlot to /Users/david/.julia/lib/v0.5/PyPlot.ji.",
     "output_type": "error",
     "traceback": [
      "Failed to precompile PyPlot to /Users/david/.julia/lib/v0.5/PyPlot.ji.",
      "",
      " in compilecache(::String) at ./loading.jl:593",
      " in require(::Symbol) at ./loading.jl:422",
      " in require(::Symbol) at /Applications/Julia-0.5.app/Contents/Resources/julia/lib/julia/sys.dylib:?"
     ]
    }
   ],
   "source": [
    "using PyPlot"
   ]
  },
  {
   "cell_type": "code",
   "execution_count": 9,
   "metadata": {
    "scrolled": true
   },
   "outputs": [
    {
     "ename": "LoadError",
     "evalue": "UndefVarError: scatter not defined",
     "output_type": "error",
     "traceback": [
      "UndefVarError: scatter not defined",
      ""
     ]
    }
   ],
   "source": [
    "scatter(X, y, color=\"red\", linewidth=1.0)"
   ]
  },
  {
   "cell_type": "markdown",
   "metadata": {},
   "source": [
    "## Train the model using full batch gradient descent"
   ]
  },
  {
   "cell_type": "code",
   "execution_count": 10,
   "metadata": {},
   "outputs": [
    {
     "data": {
      "text/plain": [
       "train (generic function with 1 method)"
      ]
     },
     "execution_count": 10,
     "metadata": {},
     "output_type": "execute_result"
    }
   ],
   "source": [
    "function train(w, X, y ; lr=0.01, n_epochs=10)\n",
    "    \n",
    "    n_samples = length(y)\n",
    "    loss_evolution = zeros(n_epochs)\n",
    "    \n",
    "    for epoch in 1:n_epochs\n",
    "        loss_evolution[epoch] = loss(w, X, y)\n",
    "        dw = lossgradient(w, X, y)\n",
    "        \n",
    "        for i in 1:length(w)\n",
    "            w[i] = w[i] - lr * dw[i];\n",
    "        end\n",
    "    end\n",
    "    \n",
    "    return w, loss_evolution\n",
    "end"
   ]
  },
  {
   "cell_type": "code",
   "execution_count": 11,
   "metadata": {},
   "outputs": [
    {
     "data": {
      "text/plain": [
       "2-element Array{Float64,1}:\n",
       " 0.001\n",
       " 0.0  "
      ]
     },
     "execution_count": 11,
     "metadata": {},
     "output_type": "execute_result"
    }
   ],
   "source": [
    "w = Array([0.001, 0.])"
   ]
  },
  {
   "cell_type": "code",
   "execution_count": 12,
   "metadata": {
    "collapsed": true,
    "scrolled": true
   },
   "outputs": [],
   "source": [
    "w, loss_evol = train(w, X, y ; lr=0.0001, n_epochs=100);"
   ]
  },
  {
   "cell_type": "code",
   "execution_count": 13,
   "metadata": {},
   "outputs": [
    {
     "ename": "LoadError",
     "evalue": "UndefVarError: plot not defined",
     "output_type": "error",
     "traceback": [
      "UndefVarError: plot not defined",
      ""
     ]
    }
   ],
   "source": [
    "plot(loss_evol)"
   ]
  },
  {
   "cell_type": "code",
   "execution_count": 14,
   "metadata": {
    "scrolled": false
   },
   "outputs": [
    {
     "ename": "LoadError",
     "evalue": "UndefVarError: scatter not defined",
     "output_type": "error",
     "traceback": [
      "UndefVarError: scatter not defined",
      ""
     ]
    }
   ],
   "source": [
    "scatter(X, y, color=\"red\", linewidth=1.0)\n",
    "plot(X, predict(w,X) , color=\"blue\", linewidth=1.0)"
   ]
  },
  {
   "cell_type": "markdown",
   "metadata": {},
   "source": [
    "# Linear Regression as type"
   ]
  },
  {
   "cell_type": "code",
   "execution_count": 15,
   "metadata": {},
   "outputs": [
    {
     "ename": "LoadError",
     "evalue": "TypeError: LinearRegressor: in type definition, expected Type{T}, got Bool",
     "output_type": "error",
     "traceback": [
      "TypeError: LinearRegressor: in type definition, expected Type{T}, got Bool",
      ""
     ]
    }
   ],
   "source": [
    "type LinearRegressor\n",
    "    n_features::Int32\n",
    "    w::Array{Float32}\n",
    "    b::Float32\n",
    "    trained::false\n",
    "end"
   ]
  },
  {
   "cell_type": "code",
   "execution_count": 16,
   "metadata": {},
   "outputs": [
    {
     "ename": "LoadError",
     "evalue": "UndefVarError: LinearRegressor not defined",
     "output_type": "error",
     "traceback": [
      "UndefVarError: LinearRegressor not defined",
      ""
     ]
    }
   ],
   "source": [
    "linear_reg = LinearRegressor([2],3)"
   ]
  },
  {
   "cell_type": "code",
   "execution_count": null,
   "metadata": {
    "collapsed": true
   },
   "outputs": [],
   "source": []
  }
 ],
 "metadata": {
  "kernelspec": {
   "display_name": "Julia 0.5.0",
   "language": "julia",
   "name": "julia-0.5"
  },
  "language_info": {
   "file_extension": ".jl",
   "mimetype": "application/julia",
   "name": "julia",
   "version": "0.5.0"
  }
 },
 "nbformat": 4,
 "nbformat_minor": 1
}
