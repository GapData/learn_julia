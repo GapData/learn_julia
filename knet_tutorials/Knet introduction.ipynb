{
 "cells": [
  {
   "cell_type": "markdown",
   "metadata": {},
   "source": [
    "# Introduction to Knet"
   ]
  },
  {
   "cell_type": "markdown",
   "metadata": {},
   "source": [
    "# Linear regression Example"
   ]
  },
  {
   "cell_type": "code",
   "execution_count": 1,
   "metadata": {
    "collapsed": false
   },
   "outputs": [
    {
     "data": {
      "text/plain": [
       "predict (generic function with 1 method)"
      ]
     },
     "execution_count": 1,
     "metadata": {},
     "output_type": "execute_result"
    }
   ],
   "source": [
    "function predict(w, x)\n",
    "    return w[1]*x .+ w[2]\n",
    "end"
   ]
  },
  {
   "cell_type": "code",
   "execution_count": 2,
   "metadata": {
    "collapsed": false
   },
   "outputs": [
    {
     "data": {
      "text/plain": [
       "loss (generic function with 1 method)"
      ]
     },
     "execution_count": 2,
     "metadata": {},
     "output_type": "execute_result"
    }
   ],
   "source": [
    "function loss(w, x, y)\n",
    "    return sum((y - predict(w,x)).*(y - predict(w,x)))/length(y)\n",
    "end"
   ]
  },
  {
   "cell_type": "code",
   "execution_count": 3,
   "metadata": {
    "collapsed": false
   },
   "outputs": [
    {
     "name": "stderr",
     "output_type": "stream",
     "text": [
      "INFO: No GPU found, Knet using the CPU\n"
     ]
    },
    {
     "data": {
      "text/plain": [
       "(::gradfun) (generic function with 1 method)"
      ]
     },
     "execution_count": 3,
     "metadata": {},
     "output_type": "execute_result"
    }
   ],
   "source": [
    "using Knet\n",
    "lossgradient = grad(loss)"
   ]
  },
  {
   "cell_type": "markdown",
   "metadata": {},
   "source": [
    "### Load the data"
   ]
  },
  {
   "cell_type": "code",
   "execution_count": 4,
   "metadata": {
    "collapsed": false
   },
   "outputs": [],
   "source": [
    "X = Array(1:50);"
   ]
  },
  {
   "cell_type": "code",
   "execution_count": 5,
   "metadata": {
    "collapsed": false
   },
   "outputs": [],
   "source": [
    "y = [(x + sin(x[1] + rand(1)[1]/100))/2 for x in X];"
   ]
  },
  {
   "cell_type": "code",
   "execution_count": 6,
   "metadata": {
    "collapsed": false
   },
   "outputs": [
    {
     "data": {
      "text/plain": [
       "(50,50)"
      ]
     },
     "execution_count": 6,
     "metadata": {},
     "output_type": "execute_result"
    }
   ],
   "source": [
    "length(X), length(y)"
   ]
  },
  {
   "cell_type": "code",
   "execution_count": 7,
   "metadata": {
    "collapsed": false
   },
   "outputs": [],
   "source": [
    "data = []\n",
    "for i in 1:length(X)\n",
    "    push!(data,(X[i], y[i][1]))\n",
    "end"
   ]
  },
  {
   "cell_type": "code",
   "execution_count": 8,
   "metadata": {
    "collapsed": false
   },
   "outputs": [],
   "source": [
    "using PyPlot"
   ]
  },
  {
   "cell_type": "code",
   "execution_count": 9,
   "metadata": {
    "collapsed": false,
    "scrolled": true
   },
   "outputs": [
    {
     "data": {
      "image/png": "[encoded data removed]",
      "text/plain": [
       "PyPlot.Figure(PyObject <matplotlib.figure.Figure object at 0x317ffa080>)"
      ]
     },
     "metadata": {},
     "output_type": "display_data"
    },
    {
     "data": {
      "text/plain": [
       "PyObject <matplotlib.collections.PathCollection object at 0x31ad7d518>"
      ]
     },
     "execution_count": 9,
     "metadata": {},
     "output_type": "execute_result"
    },
    {
     "name": "stderr",
     "output_type": "stream",
     "text": [
      "WARNING: Base.writemime is deprecated.\n",
      "  likely near /Users/david/.julia/v0.5/IJulia/src/kernel.jl:31\n",
      "WARNING: Base.writemime is deprecated.\n",
      "  likely near /Users/david/.julia/v0.5/IJulia/src/kernel.jl:31\n",
      "WARNING: Base.writemime is deprecated.\n",
      "  likely near /Users/david/.julia/v0.5/IJulia/src/kernel.jl:31\n",
      "WARNING: Base.writemime is deprecated.\n",
      "  likely near /Users/david/.julia/v0.5/IJulia/src/kernel.jl:31\n",
      "WARNING: Base.writemime is deprecated.\n",
      "  likely near /Users/david/.julia/v0.5/IJulia/src/kernel.jl:31\n",
      "WARNING: Base.writemime is deprecated.\n",
      "  likely near /Users/david/.julia/v0.5/IJulia/src/kernel.jl:31\n",
      "WARNING: Base.writemime is deprecated.\n",
      "  likely near /Users/david/.julia/v0.5/IJulia/src/kernel.jl:31\n",
      "WARNING: Base.writemime is deprecated.\n",
      "  likely near /Users/david/.julia/v0.5/IJulia/src/kernel.jl:31\n",
      "WARNING: Base.writemime is deprecated.\n",
      "  likely near /Users/david/.julia/v0.5/IJulia/src/kernel.jl:31\n",
      "WARNING: Base.writemime is deprecated.\n",
      "  likely near /Users/david/.julia/v0.5/IJulia/src/kernel.jl:31\n",
      "WARNING: Base.writemime is deprecated.\n",
      "  likely near /Users/david/.julia/v0.5/IJulia/src/kernel.jl:31\n",
      "WARNING: Base.writemime is deprecated.\n",
      "  likely near /Users/david/.julia/v0.5/IJulia/src/kernel.jl:31\n",
      "WARNING: Base.writemime is deprecated.\n",
      "  likely near /Users/david/.julia/v0.5/IJulia/src/kernel.jl:31\n",
      "in show at /Users/david/.julia/v0.5/PyCall/src/PyCall.jl\n",
      "WARNING: Base.writemime is deprecated.\n",
      "  likely near /Users/david/.julia/v0.5/IJulia/src/kernel.jl:31\n",
      "in show at /Users/david/.julia/v0.5/PyCall/src/PyCall.jl\n",
      "WARNING: Base.writemime is deprecated.\n",
      "  likely near /Users/david/.julia/v0.5/IJulia/src/kernel.jl:31\n",
      "in show at /Users/david/.julia/v0.5/PyCall/src/PyCall.jl\n",
      "WARNING: Base.writemime is deprecated.\n",
      "  likely near /Users/david/.julia/v0.5/IJulia/src/kernel.jl:31\n",
      "in show at /Users/david/.julia/v0.5/PyCall/src/PyCall.jl\n",
      "WARNING: Base.writemime is deprecated.\n",
      "  likely near /Users/david/.julia/v0.5/IJulia/src/kernel.jl:31\n",
      "in show at /Users/david/.julia/v0.5/PyCall/src/PyCall.jl\n",
      "WARNING: Base.writemime is deprecated.\n",
      "  likely near /Users/david/.julia/v0.5/IJulia/src/kernel.jl:31\n",
      "in show at /Users/david/.julia/v0.5/PyCall/src/PyCall.jl\n",
      "WARNING: Base.writemime is deprecated.\n",
      "  likely near /Users/david/.julia/v0.5/IJulia/src/kernel.jl:31\n",
      "in show at /Users/david/.julia/v0.5/PyCall/src/PyCall.jl\n",
      "WARNING: Base.writemime is deprecated.\n",
      "  likely near /Users/david/.julia/v0.5/IJulia/src/kernel.jl:31\n",
      "in show at /Users/david/.julia/v0.5/PyCall/src/PyCall.jl\n",
      "WARNING: Base.writemime is deprecated.\n",
      "  likely near /Users/david/.julia/v0.5/IJulia/src/kernel.jl:31\n",
      "in show at /Users/david/.julia/v0.5/PyCall/src/PyCall.jl\n",
      "WARNING: Base.writemime is deprecated.\n",
      "  likely near /Users/david/.julia/v0.5/IJulia/src/kernel.jl:31\n",
      "in show at /Users/david/.julia/v0.5/PyCall/src/PyCall.jl\n",
      "WARNING: Base.writemime is deprecated.\n",
      "  likely near /Users/david/.julia/v0.5/IJulia/src/kernel.jl:31\n",
      "in show at /Users/david/.julia/v0.5/PyCall/src/PyCall.jl\n",
      "WARNING: Base.writemime is deprecated.\n",
      "  likely near /Users/david/.julia/v0.5/IJulia/src/kernel.jl:31\n",
      "in show at /Users/david/.julia/v0.5/PyCall/src/PyCall.jl\n"
     ]
    }
   ],
   "source": [
    "scatter(X, y, color=\"red\", linewidth=1.0)"
   ]
  },
  {
   "cell_type": "markdown",
   "metadata": {},
   "source": [
    "## Train the model using full batch gradient descent"
   ]
  },
  {
   "cell_type": "code",
   "execution_count": 10,
   "metadata": {
    "collapsed": false
   },
   "outputs": [
    {
     "data": {
      "text/plain": [
       "train (generic function with 1 method)"
      ]
     },
     "execution_count": 10,
     "metadata": {},
     "output_type": "execute_result"
    }
   ],
   "source": [
    "function train(w, X, y ; lr=0.01, n_epochs=10)\n",
    "    \n",
    "    n_samples = length(y)\n",
    "    loss_evolution = zeros(n_epochs)\n",
    "    \n",
    "    for epoch in 1:n_epochs\n",
    "        loss_evolution[epoch] = loss(w, X, y)\n",
    "        dw = lossgradient(w, X, y)\n",
    "        \n",
    "        for i in 1:length(w)\n",
    "            w[i] = w[i] - lr * dw[i];\n",
    "        end\n",
    "    end\n",
    "    \n",
    "    return w, loss_evolution\n",
    "end"
   ]
  },
  {
   "cell_type": "code",
   "execution_count": 11,
   "metadata": {
    "collapsed": false
   },
   "outputs": [
    {
     "data": {
      "text/plain": [
       "2-element Array{Float64,1}:\n",
       " 0.001\n",
       " 0.0  "
      ]
     },
     "execution_count": 11,
     "metadata": {},
     "output_type": "execute_result"
    }
   ],
   "source": [
    "w = Array([0.001, 0.])"
   ]
  },
  {
   "cell_type": "code",
   "execution_count": 12,
   "metadata": {
    "collapsed": false,
    "scrolled": true
   },
   "outputs": [],
   "source": [
    "w, loss_evol = train(w, X, y ; lr=0.0001, n_epochs=100);"
   ]
  },
  {
   "cell_type": "code",
   "execution_count": 13,
   "metadata": {
    "collapsed": false
   },
   "outputs": [
    {
     "data": {
      "image/png": "[encoded data removed]",
      "text/plain": [
       "PyPlot.Figure(PyObject <matplotlib.figure.Figure object at 0x31ac016a0>)"
      ]
     },
     "metadata": {},
     "output_type": "display_data"
    },
    {
     "data": {
      "text/plain": [
       "1-element Array{Any,1}:\n",
       " PyObject <matplotlib.lines.Line2D object at 0x31aaad080>"
      ]
     },
     "execution_count": 13,
     "metadata": {},
     "output_type": "execute_result"
    }
   ],
   "source": [
    "plot(loss_evol)"
   ]
  },
  {
   "cell_type": "code",
   "execution_count": 14,
   "metadata": {
    "collapsed": false,
    "scrolled": false
   },
   "outputs": [
    {
     "data": {
      "image/png": "[encoded data removed]",
      "text/plain": [
       "PyPlot.Figure(PyObject <matplotlib.figure.Figure object at 0x31aac1a90>)"
      ]
     },
     "metadata": {},
     "output_type": "display_data"
    },
    {
     "data": {
      "text/plain": [
       "1-element Array{Any,1}:\n",
       " PyObject <matplotlib.lines.Line2D object at 0x31ab5b320>"
      ]
     },
     "execution_count": 14,
     "metadata": {},
     "output_type": "execute_result"
    }
   ],
   "source": [
    "scatter(X, y, color=\"red\", linewidth=1.0)\n",
    "plot(X, predict(w,X) , color=\"blue\", linewidth=1.0)"
   ]
  },
  {
   "cell_type": "markdown",
   "metadata": {},
   "source": [
    "# Linear Regression as type"
   ]
  },
  {
   "cell_type": "code",
   "execution_count": null,
   "metadata": {
    "collapsed": false
   },
   "outputs": [],
   "source": [
    "type LinearRegressor\n",
    "    n_features::Int32\n",
    "    w::Array{Float32}\n",
    "    b::Float32\n",
    "    trained::false\n",
    "end"
   ]
  },
  {
   "cell_type": "code",
   "execution_count": null,
   "metadata": {
    "collapsed": false
   },
   "outputs": [],
   "source": [
    "linear_reg = LinearRegressor([2],3)"
   ]
  },
  {
   "cell_type": "code",
   "execution_count": null,
   "metadata": {
    "collapsed": false
   },
   "outputs": [],
   "source": [
    "linear_reg."
   ]
  },
  {
   "cell_type": "code",
   "execution_count": null,
   "metadata": {
    "collapsed": true
   },
   "outputs": [],
   "source": []
  }
 ],
 "metadata": {
  "kernelspec": {
   "display_name": "Julia 0.5.0",
   "language": "julia",
   "name": "julia-0.5"
  },
  "language_info": {
   "file_extension": ".jl",
   "mimetype": "application/julia",
   "name": "julia",
   "version": "0.5.0"
  }
 },
 "nbformat": 4,
 "nbformat_minor": 0
}
