{
 "cells": [
  {
   "cell_type": "markdown",
   "metadata": {},
   "source": [
    "# GPUArrays in julia"
   ]
  },
  {
   "cell_type": "markdown",
   "metadata": {},
   "source": [
    "#### QUESTIONS\n",
    "\n",
    "- How do we list all possible openCL devices? cpus and gpus?\n",
    "- How do we select a particular device, send an array there and make an operation\n",
    "- How do we check at anytime, how much memory is on a device:\n",
    "    - In this example if  `A_mul_B!(X_result, X, X)` is done using bigger matrices OSX becomes completly unusable (the graphical user interface). We should use the GPU that is not beeing used for the graphical user interface."
   ]
  },
  {
   "cell_type": "code",
   "execution_count": 1,
   "metadata": {
    "collapsed": true
   },
   "outputs": [],
   "source": [
    "using GPUArrays\n",
    "using BenchmarkTools"
   ]
  },
  {
   "cell_type": "code",
   "execution_count": 2,
   "metadata": {
    "collapsed": true
   },
   "outputs": [],
   "source": [
    "X = rand(Float32,200,200);\n",
    "X_result = zeros(X);"
   ]
  },
  {
   "cell_type": "code",
   "execution_count": 3,
   "metadata": {},
   "outputs": [
    {
     "data": {
      "text/plain": [
       "(:julia, :opencl)"
      ]
     },
     "execution_count": 3,
     "metadata": {},
     "output_type": "execute_result"
    }
   ],
   "source": [
    "GPUArrays.supported_backends()"
   ]
  },
  {
   "cell_type": "code",
   "execution_count": 4,
   "metadata": {},
   "outputs": [
    {
     "data": {
      "text/plain": [
       "(:BLAS, :CLBLAS)"
      ]
     },
     "execution_count": 4,
     "metadata": {},
     "output_type": "execute_result"
    }
   ],
   "source": [
    "GPUArrays.supported_blas_libs()"
   ]
  },
  {
   "cell_type": "code",
   "execution_count": 5,
   "metadata": {},
   "outputs": [
    {
     "data": {
      "text/plain": [
       "GPUArrays"
      ]
     },
     "execution_count": 5,
     "metadata": {},
     "output_type": "execute_result"
    }
   ],
   "source": [
    "GPUArrays"
   ]
  },
  {
   "cell_type": "markdown",
   "metadata": {},
   "source": [
    "#### Mapping arrays to devices\n",
    "\n",
    "Let `X` be an array. When doing  `X_gpu = GPUArray(X)`."
   ]
  },
  {
   "cell_type": "code",
   "execution_count": 6,
   "metadata": {
    "collapsed": true
   },
   "outputs": [],
   "source": [
    "X_gpu = GPUArray(X);\n",
    "X_result_gpu = GPUArray(zeros(Float32,200,200));"
   ]
  },
  {
   "cell_type": "code",
   "execution_count": 7,
   "metadata": {},
   "outputs": [
    {
     "data": {
      "text/plain": [
       "CLContext: AMD Radeon HD - FirePro D300 Compute Engine"
      ]
     },
     "execution_count": 7,
     "metadata": {},
     "output_type": "execute_result"
    }
   ],
   "source": [
    "GPUArrays.CLBackend.CLContext()"
   ]
  },
  {
   "cell_type": "code",
   "execution_count": 9,
   "metadata": {},
   "outputs": [
    {
     "data": {
      "text/plain": [
       "CLContext: AMD Radeon HD - FirePro D300 Compute Engine"
      ]
     },
     "execution_count": 9,
     "metadata": {},
     "output_type": "execute_result"
    }
   ],
   "source": [
    "CLBackend.current_context()"
   ]
  },
  {
   "cell_type": "markdown",
   "metadata": {},
   "source": [
    "## Matrix multiplication demo"
   ]
  },
  {
   "cell_type": "code",
   "execution_count": null,
   "metadata": {},
   "outputs": [
    {
     "name": "stdout",
     "output_type": "stream",
     "text": [
      "\n",
      "CPU times\n",
      "size: 100 x 100 seconds: 0.492055662 seconds\n",
      "size: 200 x 200 seconds: 0.000188722 seconds\n",
      "size: 300 x 300 seconds: 0.00093443 seconds\n",
      "size: 400 x 400 seconds: 0.001689195 seconds\n",
      "size: 500 x 500 seconds: 0.00334348 seconds\n",
      "size: 600 x 600 seconds: 0.003039236 seconds\n",
      "size: 700 x 700 seconds: 0.004727789 seconds\n",
      "size: 800 x 800 seconds: 0.00778064 seconds\n",
      "size: 900 x 900 seconds: 0.010136177 seconds\n",
      "size: 1000 x 1000 seconds: 0.014474952 seconds\n",
      "\n",
      "GPU times\n",
      "size: 100"
     ]
    }
   ],
   "source": [
    "sizes = [x for x in 100:100:1000];\n",
    "cpu_times = Dict()\n",
    "gpu_times = Dict()\n",
    "\n",
    "println(\"\\nCPU times\")\n",
    "for s in sizes\n",
    "    X = rand(Float32,s,s);\n",
    "    X_result = zeros(X);\n",
    "    res_cpu = @elapsed A_mul_B!(X_result, X,X)\n",
    "    println(\"size: \", s, \" x \", s, \" seconds: \", res_cpu, \" seconds\")\n",
    "    #cpu_times[s] = mean(res_cpu.times)/10^6\n",
    "end\n",
    "\n",
    "println(\"\\nGPU times\")\n",
    "for s in sizes\n",
    "    X = rand(Float32,s,s);\n",
    "    X_result = zeros(X);\n",
    "    X_gpu = GPUArray(X);\n",
    "    X_result_gpu = GPUArray(zeros(Float32,s,s));\n",
    "\n",
    "    res_gpu = @elapsed A_mul_B!(X_result_gpu, X_gpu, X_gpu)\n",
    "    println(\"size: \", s, \" x \", s, \" seconds: \", res_gpu, \" seconds\")\n",
    "    #gpu_times[s] = mean(res_gpu.times)/10^6\n",
    "end\n"
   ]
  },
  {
   "cell_type": "markdown",
   "metadata": {},
   "source": [
    "#### Choosing a device"
   ]
  },
  {
   "cell_type": "code",
   "execution_count": 9,
   "metadata": {},
   "outputs": [
    {
     "data": {
      "text/plain": [
       "CLContext: AMD Radeon HD - FirePro D300 Compute Engine"
      ]
     },
     "execution_count": 9,
     "metadata": {},
     "output_type": "execute_result"
    }
   ],
   "source": [
    "#CLBackend.init(device_type=:gpu,device_idx=1)  ### How do we seelct a particular GPU?\n",
    "CLBackend.init()"
   ]
  },
  {
   "cell_type": "markdown",
   "metadata": {},
   "source": [
    "\n",
    "## Using CLBLAS"
   ]
  },
  {
   "cell_type": "code",
   "execution_count": 10,
   "metadata": {},
   "outputs": [
    {
     "data": {
      "text/markdown": [
       "```\n",
       "gemm!(tA, tB, alpha, A, B, beta, C)\n",
       "```\n",
       "\n",
       "Update `C` as `alpha*A*B + beta*C` or the other three variants according to [`tA`](@ref stdlib-blas-trans) and `tB`. Returns the updated `C`.\n"
      ],
      "text/plain": [
       "```\n",
       "gemm!(tA, tB, alpha, A, B, beta, C)\n",
       "```\n",
       "\n",
       "Update `C` as `alpha*A*B + beta*C` or the other three variants according to [`tA`](@ref stdlib-blas-trans) and `tB`. Returns the updated `C`.\n"
      ]
     },
     "execution_count": 10,
     "metadata": {},
     "output_type": "execute_result"
    }
   ],
   "source": [
    "?CLBLAS.gemm!"
   ]
  },
  {
   "cell_type": "code",
   "execution_count": 11,
   "metadata": {},
   "outputs": [
    {
     "name": "stderr",
     "output_type": "stream",
     "text": [
      "base64 binary data: G1s5MW1FUlJPUiAodW5oYW5kbGVkIHRhc2sgZmFpbHVyZSk6IBtbOTFtT3BlbkNMIEVycm9yOiBPcGVuQ0wuQ29udGV4dCBlcnJvcjogyFGt14Z/G1szOW0KU3RhY2t0cmFjZToKIFsxXSAbWzFtcmFpc2VfY29udGV4dF9lcnJvchtbMjJtG1syMm0bWzFtKBtbMjJtG1syMm06OlN0cmluZywgOjpTdHJpbmcbWzFtKRtbMjJtG1syMm0gYXQgG1sxbS9Vc2Vycy9tYWNwcm8vLmp1bGlhL3YwLjYvT3BlbkNML3NyYy9jb250ZXh0LmpsOjEwORtbMjJtG1syMm0KIFsyXSAbWzFtbWFjcm8gZXhwYW5zaW9uG1syMm0bWzIybSBhdCAbWzFtL1VzZXJzL21hY3Byby8uanVsaWEvdjAuNi9PcGVuQ0wvc3JjL2NvbnRleHQuamw6MTQ4G1syMm0bWzIybSBbaW5saW5lZF0KIFszXSAbWzFtKDo6T3BlbkNMLmNsLiMjNDMjNDQpG1syMm0bWzIybRtbMW0oG1syMm0bWzIybRtbMW0pG1syMm0bWzIybSBhdCAbWzFtLi90YXNrLmpsOjMzNRtbMjJtG1syMm0KG1szOW0=\n"
     ]
    },
    {
     "data": {
      "text/plain": [
       "BenchmarkTools.Trial: \n",
       "  memory estimate:  1.67 KiB\n",
       "  allocs estimate:  62\n",
       "  --------------\n",
       "  minimum time:     20.038 μs (0.00% GC)\n",
       "  median time:      24.783 μs (0.00% GC)\n",
       "  mean time:        26.176 μs (0.00% GC)\n",
       "  maximum time:     132.573 μs (0.00% GC)\n",
       "  --------------\n",
       "  samples:          10000\n",
       "  evals/sample:     1"
      ]
     },
     "execution_count": 11,
     "metadata": {},
     "output_type": "execute_result"
    }
   ],
   "source": [
    "# Since alpha=1., beta=0 this is doing C = A * B  \n",
    "@benchmark CLBLAS.gemm!('N', 'N', Float32(1.0), X_gpu, X_gpu, Float32(0.0), X_result_gpu)"
   ]
  },
  {
   "cell_type": "code",
   "execution_count": 12,
   "metadata": {
    "collapsed": true
   },
   "outputs": [],
   "source": [
    "A_mul_B!(X_result, X, X);"
   ]
  },
  {
   "cell_type": "code",
   "execution_count": 13,
   "metadata": {},
   "outputs": [
    {
     "data": {
      "text/plain": [
       "true"
      ]
     },
     "execution_count": 13,
     "metadata": {},
     "output_type": "execute_result"
    }
   ],
   "source": [
    "isapprox(Array(X_result_gpu), X_result)"
   ]
  },
  {
   "cell_type": "code",
   "execution_count": 18,
   "metadata": {},
   "outputs": [
    {
     "ename": "LoadError",
     "evalue": "\u001b[91mUndefVarError: free not defined\u001b[39m",
     "output_type": "error",
     "traceback": [
      "\u001b[91mUndefVarError: free not defined\u001b[39m",
      "",
      "Stacktrace:",
      " [1] \u001b[1minclude_string\u001b[22m\u001b[22m\u001b[1m(\u001b[22m\u001b[22m::String, ::String\u001b[1m)\u001b[22m\u001b[22m at \u001b[1m/Applications/Julia-0.6.app/Contents/Resources/julia/lib/julia/sys.dylib:?\u001b[22m\u001b[22m"
     ]
    }
   ],
   "source": [
    "free(X_gpu), free(X_result_gpu)"
   ]
  },
  {
   "cell_type": "markdown",
   "metadata": {},
   "source": [
    "## Benchmarking array operations\n",
    "\n",
    "We can use functions such `A_mul_B!` with `GPUArray` objects.  Multiple dispatch will take care of using the targeted GPU.\n",
    "\n",
    "- A_mul_B!\n",
    "- A_mul_Bc!\n"
   ]
  },
  {
   "cell_type": "code",
   "execution_count": 19,
   "metadata": {},
   "outputs": [
    {
     "data": {
      "text/plain": [
       "BenchmarkTools.Trial: \n",
       "  memory estimate:  0 bytes\n",
       "  allocs estimate:  0\n",
       "  --------------\n",
       "  minimum time:     131.119 μs (0.00% GC)\n",
       "  median time:      134.124 μs (0.00% GC)\n",
       "  mean time:        146.956 μs (0.00% GC)\n",
       "  maximum time:     333.347 μs (0.00% GC)\n",
       "  --------------\n",
       "  samples:          10000\n",
       "  evals/sample:     1"
      ]
     },
     "execution_count": 19,
     "metadata": {},
     "output_type": "execute_result"
    }
   ],
   "source": [
    "@benchmark A_mul_B!(X_result, X, X)"
   ]
  },
  {
   "cell_type": "code",
   "execution_count": 20,
   "metadata": {},
   "outputs": [
    {
     "data": {
      "text/plain": [
       "BenchmarkTools.Trial: \n",
       "  memory estimate:  1.67 KiB\n",
       "  allocs estimate:  62\n",
       "  --------------\n",
       "  minimum time:     20.481 μs (0.00% GC)\n",
       "  median time:      24.641 μs (0.00% GC)\n",
       "  mean time:        25.318 μs (0.00% GC)\n",
       "  maximum time:     91.758 μs (0.00% GC)\n",
       "  --------------\n",
       "  samples:          10000\n",
       "  evals/sample:     1"
      ]
     },
     "execution_count": 20,
     "metadata": {},
     "output_type": "execute_result"
    }
   ],
   "source": [
    "@benchmark A_mul_B!(X_result_gpu, X_gpu, X_gpu)"
   ]
  },
  {
   "cell_type": "code",
   "execution_count": 21,
   "metadata": {},
   "outputs": [
    {
     "data": {
      "text/plain": [
       "true"
      ]
     },
     "execution_count": 21,
     "metadata": {},
     "output_type": "execute_result"
    }
   ],
   "source": [
    "isapprox(Array(X_result_gpu), X_result)"
   ]
  },
  {
   "cell_type": "markdown",
   "metadata": {},
   "source": [
    "### Benchmarking A_mul_B! for different sizes\n",
    "\n",
    "Notice that a microseconds (μ) is one milionth of a second"
   ]
  },
  {
   "cell_type": "code",
   "execution_count": null,
   "metadata": {
    "collapsed": true
   },
   "outputs": [],
   "source": [
    "sizes = [x for x in 100:100:400];\n",
    "cpu_times = Dict()\n",
    "gpu_times = Dict()"
   ]
  },
  {
   "cell_type": "code",
   "execution_count": null,
   "metadata": {
    "collapsed": true
   },
   "outputs": [],
   "source": [
    "for s in sizes\n",
    "    X = rand(Float32,s,s);\n",
    "    X_result = zeros(X);\n",
    "\n",
    "    X_gpu = GPUArray(X);\n",
    "    X_result_gpu = GPUArray(zeros(Float32,s,s));\n",
    "    \n",
    "    res_cpu = @benchmark A_mul_B!(X_result, X,X)\n",
    "    res_gpu = @benchmark A_mul_B!(X_result_gpu, X_gpu, X_gpu)\n",
    "    \n",
    "    println(\"\\nsize: \", s, \" x \", s)\n",
    "    println(\"\\t cpu mean time taken: \", mean(res_cpu.times)/10^6, \" seconds\")\n",
    "    println(\"\\t gpu mean time taken: \", mean(res_gpu.times)/10^6, \" seconds\")\n",
    "    cpu_times[s] = mean(res_cpu.times)/10^6\n",
    "    gpu_times[s] = mean(res_gpu.times)/10^6\n",
    "\n",
    "end"
   ]
  },
  {
   "cell_type": "markdown",
   "metadata": {},
   "source": [
    "## TODO: Explain, test, the following\n",
    "\n",
    "- Check at anytime how much memory is available in the GPU\n",
    "- Check at which device the GPUArray  is beeing send to, decide how to do it"
   ]
  },
  {
   "cell_type": "code",
   "execution_count": null,
   "metadata": {
    "collapsed": true
   },
   "outputs": [],
   "source": [
    "res = @benchmark A_mul_B!(X_result_gpu, X_gpu, X_gpu)"
   ]
  },
  {
   "cell_type": "code",
   "execution_count": null,
   "metadata": {
    "collapsed": true
   },
   "outputs": [],
   "source": [
    "println(\"mean time taken: \", mean(res.times)/10^6, \" seconds\")"
   ]
  },
  {
   "cell_type": "code",
   "execution_count": null,
   "metadata": {
    "collapsed": true
   },
   "outputs": [],
   "source": []
  }
 ],
 "metadata": {
  "kernelspec": {
   "display_name": "Julia 0.6.0",
   "language": "julia",
   "name": "julia-0.6"
  },
  "language_info": {
   "file_extension": ".jl",
   "mimetype": "application/julia",
   "name": "julia",
   "version": "0.6.0"
  }
 },
 "nbformat": 4,
 "nbformat_minor": 2
}
