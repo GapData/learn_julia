{
 "cells": [
  {
   "cell_type": "markdown",
   "metadata": {},
   "source": [
    "## Benchmarking Perceptron\n",
    "\n",
    "\n",
    "#### About profiling julia code\n",
    "\n",
    "- https://thirld.com/blog/2015/05/30/julia-profiling-cheat-sheet/\n",
    "\n",
    "#### Examples of speeding up code\n",
    "\n",
    "There is a small number of \"tricks\" that can be applied to speed up execution time and save memory allocations. This is paramount for enjoying C like speed with julia code.\n",
    "\n",
    "- https://discourse.julialang.org/t/speed-up-this-code-game/3666"
   ]
  },
  {
   "cell_type": "code",
   "execution_count": 1,
   "metadata": {},
   "outputs": [
    {
     "name": "stdout",
     "output_type": "stream",
     "text": [
      "Julia Version 0.5.0\n",
      "Commit 3c9d753 (2016-09-19 18:14 UTC)\n",
      "Platform Info:\n",
      "  System: Darwin (x86_64-apple-darwin13.4.0)\n",
      "  CPU: Intel(R) Core(TM) i7-4650U CPU @ 1.70GHz\n",
      "  WORD_SIZE: 64\n",
      "  BLAS: libopenblas (USE64BITINT DYNAMIC_ARCH NO_AFFINITY Haswell)\n",
      "  LAPACK: libopenblas64_\n",
      "  LIBM: libopenlibm\n",
      "  LLVM: libLLVM-3.7.1 (ORCJIT, haswell)\n"
     ]
    }
   ],
   "source": [
    "workspace()\n",
    "versioninfo()"
   ]
  },
  {
   "cell_type": "code",
   "execution_count": 2,
   "metadata": {},
   "outputs": [
    {
     "name": "stderr",
     "output_type": "stream",
     "text": [
      "WARNING: Method definition take!(Task) in module Compat at /Users/david/.julia/v0.5/Compat/src/Compat.jl:53 overwritten in module Compat at /Users/david/.julia/v0.5/Compat/src/Compat.jl:53.\n",
      "WARNING: Method definition take!(Main.Base.AbstractIOBuffer) in module Compat at /Users/david/.julia/v0.5/Compat/src/Compat.jl:1170 overwritten in module Compat at /Users/david/.julia/v0.5/Compat/src/Compat.jl:1170.\n",
      "WARNING: Method definition redirect_stderr(Function, Any) in module Compat at /Users/david/.julia/v0.5/Compat/src/Compat.jl:1055 overwritten in module Compat at /Users/david/.julia/v0.5/Compat/src/Compat.jl:1055.\n",
      "WARNING: Method definition ones(AbstractArray) in module Compat at /Users/david/.julia/v0.5/Compat/src/Compat.jl:1430 overwritten in module Compat at /Users/david/.julia/v0.5/Compat/src/Compat.jl:1430.\n",
      "WARNING: Method definition ones(AbstractArray, Type) in module Compat at /Users/david/.julia/v0.5/Compat/src/Compat.jl:1430 overwritten in module Compat at /Users/david/.julia/v0.5/Compat/src/Compat.jl:1430.\n",
      "WARNING: Method definition ones(AbstractArray, Type, Tuple) in module Compat at /Users/david/.julia/v0.5/Compat/src/Compat.jl:1428 overwritten in module Compat at /Users/david/.julia/v0.5/Compat/src/Compat.jl:1428.\n",
      "WARNING: Method definition ones(AbstractArray, Type, Any...) in module Compat at /Users/david/.julia/v0.5/Compat/src/Compat.jl:1429 overwritten in module Compat at /Users/david/.julia/v0.5/Compat/src/Compat.jl:1429.\n",
      "WARNING: Method definition bswap(Main.Base.Complex) in module Compat at /Users/david/.julia/v0.5/Compat/src/Compat.jl:1464 overwritten in module Compat at /Users/david/.julia/v0.5/Compat/src/Compat.jl:1464.\n",
      "WARNING: Method definition isassigned(Main.Base.RefValue) in module Compat at /Users/david/.julia/v0.5/Compat/src/Compat.jl:1455 overwritten in module Compat at /Users/david/.julia/v0.5/Compat/src/Compat.jl:1455.\n",
      "WARNING: Method definition broadcast(Any, Tuple{Vararg{T<:Any, #N<:Any}}, Tuple{Vararg{T<:Any, #N<:Any}}...) in module Compat at /Users/david/.julia/v0.5/Compat/src/Compat.jl:1120 overwritten in module Compat at /Users/david/.julia/v0.5/Compat/src/Compat.jl:1120.\n",
      "WARNING: Method definition zeros(AbstractArray) in module Compat at /Users/david/.julia/v0.5/Compat/src/Compat.jl:1430 overwritten in module Compat at /Users/david/.julia/v0.5/Compat/src/Compat.jl:1430.\n",
      "WARNING: Method definition zeros(AbstractArray, Type) in module Compat at /Users/david/.julia/v0.5/Compat/src/Compat.jl:1430 overwritten in module Compat at /Users/david/.julia/v0.5/Compat/src/Compat.jl:1430.\n",
      "WARNING: Method definition zeros(AbstractArray, Type, Tuple) in module Compat at /Users/david/.julia/v0.5/Compat/src/Compat.jl:1428 overwritten in module Compat at /Users/david/.julia/v0.5/Compat/src/Compat.jl:1428.\n",
      "WARNING: Method definition zeros(AbstractArray, Type, Any...) in module Compat at /Users/david/.julia/v0.5/Compat/src/Compat.jl:1429 overwritten in module Compat at /Users/david/.julia/v0.5/Compat/src/Compat.jl:1429.\n",
      "WARNING: Method definition isless(Union{Main.Base.Dates.Day, Main.Base.Dates.Millisecond, Main.Base.Dates.Hour, Main.Base.Dates.Week, Main.Base.Dates.Second, Main.Base.Dates.Minute}, Union{Main.Base.Dates.Year, Main.Base.Dates.Month}) in module Compat at /Users/david/.julia/v0.5/Compat/src/Compat.jl:1505 overwritten in module Compat at /Users/david/.julia/v0.5/Compat/src/Compat.jl:1505.\n",
      "WARNING: Method definition isless(Union{Main.Base.Dates.Year, Main.Base.Dates.Month}, Union{Main.Base.Dates.Day, Main.Base.Dates.Millisecond, Main.Base.Dates.Hour, Main.Base.Dates.Week, Main.Base.Dates.Second, Main.Base.Dates.Minute}) in module Compat at /Users/david/.julia/v0.5/Compat/src/Compat.jl:1506 overwritten in module Compat at /Users/david/.julia/v0.5/Compat/src/Compat.jl:1506.\n",
      "WARNING: Method definition isless(Main.Base.Dates.Period, Main.Base.Dates.Period) in module Compat at /Users/david/.julia/v0.5/Compat/src/Compat.jl:1500 overwritten in module Compat at /Users/david/.julia/v0.5/Compat/src/Compat.jl:1500.\n",
      "WARNING: Method definition convert(Type{Main.Base.Set{#T<:Any}}, Main.Base.Set{#T<:Any}) in module Compat at /Users/david/.julia/v0.5/Compat/src/Compat.jl:1449 overwritten in module Compat at /Users/david/.julia/v0.5/Compat/src/Compat.jl:1449.\n",
      "WARNING: Method definition convert(Type{Main.Base.Set{#T<:Any}}, Main.Base.Set) in module Compat at /Users/david/.julia/v0.5/Compat/src/Compat.jl:1450 overwritten in module Compat at /Users/david/.julia/v0.5/Compat/src/Compat.jl:1450.\n",
      "WARNING: Method definition redirect_stdout(Function, Any) in module Compat at /Users/david/.julia/v0.5/Compat/src/Compat.jl:1055 overwritten in module Compat at /Users/david/.julia/v0.5/Compat/src/Compat.jl:1055.\n",
      "WARNING: Method definition unsafe_trunc(Type{#T<:Integer}, Integer) in module Compat at /Users/david/.julia/v0.5/Compat/src/Compat.jl:1459 overwritten in module Compat at /Users/david/.julia/v0.5/Compat/src/Compat.jl:1459.\n",
      "WARNING: Method definition isnull(Any) in module Compat at /Users/david/.julia/v0.5/Compat/src/Compat.jl:1135 overwritten in module Compat at /Users/david/.julia/v0.5/Compat/src/Compat.jl:1135.\n",
      "WARNING: Method definition redirect_stdin(Function, Any) in module Compat at /Users/david/.julia/v0.5/Compat/src/Compat.jl:1055 overwritten in module Compat at /Users/david/.julia/v0.5/Compat/src/Compat.jl:1055.\n",
      "WARNING: Method definition ==(Union{Main.Base.Dates.Day, Main.Base.Dates.Millisecond, Main.Base.Dates.Hour, Main.Base.Dates.Week, Main.Base.Dates.Second, Main.Base.Dates.Minute}, Union{Main.Base.Dates.Year, Main.Base.Dates.Month}) in module Compat at /Users/david/.julia/v0.5/Compat/src/Compat.jl:1503 overwritten in module Compat at /Users/david/.julia/v0.5/Compat/src/Compat.jl:1503.\n",
      "WARNING: Method definition ==(Union{Main.Base.Dates.Year, Main.Base.Dates.Month}, Union{Main.Base.Dates.Day, Main.Base.Dates.Millisecond, Main.Base.Dates.Hour, Main.Base.Dates.Week, Main.Base.Dates.Second, Main.Base.Dates.Minute}) in module Compat at /Users/david/.julia/v0.5/Compat/src/Compat.jl:1504 overwritten in module Compat at /Users/david/.julia/v0.5/Compat/src/Compat.jl:1504.\n",
      "WARNING: Method definition ==(Main.Base.Dates.Period, Main.Base.Dates.Period) in module Compat at /Users/david/.julia/v0.5/Compat/src/Compat.jl:1499 overwritten in module Compat at /Users/david/.julia/v0.5/Compat/src/Compat.jl:1499.\n",
      "WARNING: Method definition !(Function) in module Compat at /Users/david/.julia/v0.5/Compat/src/Compat.jl:1203 overwritten in module Compat at /Users/david/.julia/v0.5/Compat/src/Compat.jl:1203.\n",
      "WARNING: Method definition (::Type{Main.Base.LinearIndexing})(Type{#T<:Any}) in module Compat at /Users/david/.julia/v0.5/Compat/src/Compat.jl:1420 overwritten in module Compat at /Users/david/.julia/v0.5/Compat/src/Compat.jl:1420.\n",
      "WARNING: Method definition (::Type{Main.Base.LinearIndexing})(Any...) in module Compat at /Users/david/.julia/v0.5/Compat/src/Compat.jl:1421 overwritten in module Compat at /Users/david/.julia/v0.5/Compat/src/Compat.jl:1421.\n"
     ]
    }
   ],
   "source": [
    "using MNIST\n",
    "using BenchmarkTools"
   ]
  },
  {
   "cell_type": "code",
   "execution_count": 3,
   "metadata": {},
   "outputs": [
    {
     "data": {
      "text/plain": [
       "784"
      ]
     },
     "execution_count": 3,
     "metadata": {},
     "output_type": "execute_result"
    }
   ],
   "source": [
    "\n",
    "source_path = join(push!(split(pwd(),\"/\")[1:end-1],\"source/\" ),\"/\")\n",
    "\n",
    "if !contains(==,LOAD_PATH, source_path) \n",
    "    push!(LOAD_PATH, source_path)\n",
    "end\n",
    "\n",
    "using MulticlassPerceptron4\n",
    "using MulticlassPerceptron3\n",
    "using MulticlassPerceptron2\n",
    "using MulticlassPerceptron1\n",
    "\n",
    "percep1 = MulticlassPerceptron1.MPerceptron(Float32, 10, 784)\n",
    "percep2 = MulticlassPerceptron2.MPerceptron(Float32, 10, 784)\n",
    "percep3 = MulticlassPerceptron3.MPerceptron(Float32, 10, 784)\n",
    "percep4 = MulticlassPerceptron4.MPerceptron(Float32, 10, 784)\n",
    "\n",
    "n_classes = 10\n",
    "n_features = 784"
   ]
  },
  {
   "cell_type": "code",
   "execution_count": 4,
   "metadata": {
    "collapsed": true
   },
   "outputs": [],
   "source": [
    "X_train, y_train = MNIST.traindata();\n",
    "X_test, y_test = MNIST.testdata();\n",
    "y_train = y_train + 1\n",
    "y_test = y_test + 1;\n",
    "\n",
    "T = Float32\n",
    "X_train = Array{T}((X_train - minimum(X_train))/(maximum(X_train) - minimum(X_train)))\n",
    "y_train = Array{Int64}(y_train)\n",
    "X_test = Array{T}(X_test - minimum(X_test))/(maximum(X_test) - minimum(X_test)) \n",
    "y_test = Array{Int64}(y_test);"
   ]
  },
  {
   "cell_type": "code",
   "execution_count": 5,
   "metadata": {
    "scrolled": true
   },
   "outputs": [
    {
     "name": "stdout",
     "output_type": "stream",
     "text": [
      "Accuracy epoch 1 is :0.6029333333333333\n",
      "Accuracy epoch 1 is :0.7073\n",
      "Accuracy epoch 1 is :0.7523833333333333\n",
      "Accuracy epoch 1 is :0.7765333333333333\n",
      "Accuracy epoch 1 is :0.7937333333333333\n",
      "Accuracy epoch 1 is :0.8056333333333333\n",
      "Accuracy epoch 1 is :0.8144166666666667\n",
      "Accuracy epoch 1 is :0.8219166666666666\n",
      "Accuracy epoch 1 is :0.82865\n",
      "Accuracy epoch 1 is :0.8334\n",
      "Accuracy epoch 1 is :0.8372833333333334\n",
      "Accuracy epoch 1 is :0.8408666666666667\n",
      "Accuracy epoch 1 is :0.8443333333333334\n"
     ]
    },
    {
     "data": {
      "text/plain": [
       "BenchmarkTools.Trial: \n",
       "  memory estimate:  705.54 MiB\n",
       "  allocs estimate:  971238\n",
       "  --------------\n",
       "  minimum time:     1.125 s (8.42% GC)\n",
       "  median time:      1.142 s (8.28% GC)\n",
       "  mean time:        1.155 s (7.83% GC)\n",
       "  maximum time:     1.214 s (6.16% GC)\n",
       "  --------------\n",
       "  samples:          5\n",
       "  evals/sample:     1"
      ]
     },
     "execution_count": 5,
     "metadata": {},
     "output_type": "execute_result"
    }
   ],
   "source": [
    "@benchmark MulticlassPerceptron1.fit!(percep1, X_train, y_train, 1, 0.0001)"
   ]
  },
  {
   "cell_type": "code",
   "execution_count": null,
   "metadata": {
    "collapsed": true
   },
   "outputs": [],
   "source": []
  },
  {
   "cell_type": "markdown",
   "metadata": {},
   "source": [
    "#### MulticlassPerceptron2\n",
    "\n",
    "- Using views instead of copying examples"
   ]
  },
  {
   "cell_type": "code",
   "execution_count": 6,
   "metadata": {},
   "outputs": [
    {
     "name": "stdout",
     "output_type": "stream",
     "text": [
      "Accuracy epoch 1 is :0.5750833333333333\n",
      "Accuracy epoch 1 is :0.6893166666666667\n",
      "Accuracy epoch 1 is :0.741\n",
      "Accuracy epoch 1 is :0.7695833333333333\n",
      "Accuracy epoch 1 is :0.7873833333333333\n",
      "Accuracy epoch 1 is :0.7999166666666667\n",
      "Accuracy epoch 1 is :0.80935\n",
      "Accuracy epoch 1 is :0.8174666666666667\n",
      "Accuracy epoch 1 is :0.8239333333333333\n",
      "Accuracy epoch 1 is :0.82875\n",
      "Accuracy epoch 1 is :0.8329166666666666\n",
      "Accuracy epoch 1 is :0.8365\n",
      "Accuracy epoch 1 is :0.83975\n",
      "Accuracy epoch 1 is :0.8424833333333334\n",
      "Accuracy epoch 1 is :0.8452333333333333\n",
      "Accuracy epoch 1 is :0.8474666666666667\n",
      "Accuracy epoch 1 is :0.84985\n",
      "Accuracy epoch 1 is :0.8515666666666667\n",
      "Accuracy epoch 1 is :0.8531666666666666\n",
      "Accuracy epoch 1 is :0.8552166666666666\n",
      "Accuracy epoch 1 is :0.85645\n",
      "Accuracy epoch 1 is :0.8578666666666667\n",
      "Accuracy epoch 1 is :0.8593333333333333\n",
      "Accuracy epoch 1 is :0.8605333333333334\n",
      "Accuracy epoch 1 is :0.862\n",
      "Accuracy epoch 1 is :0.8631\n",
      "Accuracy epoch 1 is :0.8638833333333333\n",
      "Accuracy epoch 1 is :0.86465\n",
      "Accuracy epoch 1 is :0.8654\n",
      "Accuracy epoch 1 is :0.8662666666666666\n"
     ]
    },
    {
     "data": {
      "text/plain": [
       "BenchmarkTools.Trial: \n",
       "  memory estimate:  192.61 MiB\n",
       "  allocs estimate:  745367\n",
       "  --------------\n",
       "  minimum time:     371.087 ms (7.39% GC)\n",
       "  median time:      388.771 ms (7.06% GC)\n",
       "  mean time:        392.453 ms (7.15% GC)\n",
       "  maximum time:     420.398 ms (6.21% GC)\n",
       "  --------------\n",
       "  samples:          13\n",
       "  evals/sample:     1"
      ]
     },
     "execution_count": 6,
     "metadata": {},
     "output_type": "execute_result"
    }
   ],
   "source": [
    "@benchmark MulticlassPerceptron2.fit!(percep2, X_train, y_train, 1, 0.0001)"
   ]
  },
  {
   "cell_type": "markdown",
   "metadata": {},
   "source": [
    "#### MulticlassPerceptron3\n",
    "\n",
    "- Using views instead of copying examples\n",
    "- using inbounds\n"
   ]
  },
  {
   "cell_type": "code",
   "execution_count": 7,
   "metadata": {
    "scrolled": false
   },
   "outputs": [
    {
     "name": "stdout",
     "output_type": "stream",
     "text": [
      "Accuracy epoch 1 is :0.58715\n",
      "Accuracy epoch 1 is :0.7063666666666667\n",
      "Accuracy epoch 1 is :0.75265\n",
      "Accuracy epoch 1 is :0.77875\n",
      "Accuracy epoch 1 is :0.79605\n",
      "Accuracy epoch 1 is :0.8074333333333333\n",
      "Accuracy epoch 1 is :0.8168166666666666\n",
      "Accuracy epoch 1 is :0.82355\n",
      "Accuracy epoch 1 is :0.82915\n",
      "Accuracy epoch 1 is :0.8333333333333334\n",
      "Accuracy epoch 1 is :0.8376333333333333\n",
      "Accuracy epoch 1 is :0.8411833333333333\n",
      "Accuracy epoch 1 is :0.84465\n",
      "Accuracy epoch 1 is :0.84715\n",
      "Accuracy epoch 1 is :0.84955\n",
      "Accuracy epoch 1 is :0.8521833333333333\n",
      "Accuracy epoch 1 is :0.8541333333333333\n",
      "Accuracy epoch 1 is :0.8559833333333333\n",
      "Accuracy epoch 1 is :0.8577666666666667\n",
      "Accuracy epoch 1 is :0.8592333333333333\n",
      "Accuracy epoch 1 is :0.8606333333333334\n",
      "Accuracy epoch 1 is :0.86195\n",
      "Accuracy epoch 1 is :0.8631166666666666\n",
      "Accuracy epoch 1 is :0.8638833333333333\n",
      "Accuracy epoch 1 is :0.8649166666666667\n",
      "Accuracy epoch 1 is :0.8658166666666667\n",
      "Accuracy epoch 1 is :0.8665833333333334\n",
      "Accuracy epoch 1 is :0.86735\n",
      "Accuracy epoch 1 is :0.86805\n",
      "Accuracy epoch 1 is :0.8692166666666666\n"
     ]
    },
    {
     "data": {
      "text/plain": [
       "BenchmarkTools.Trial: \n",
       "  memory estimate:  175.35 MiB\n",
       "  allocs estimate:  606096\n",
       "  --------------\n",
       "  minimum time:     371.294 ms (6.60% GC)\n",
       "  median time:      393.596 ms (5.86% GC)\n",
       "  mean time:        393.375 ms (5.83% GC)\n",
       "  maximum time:     408.442 ms (5.31% GC)\n",
       "  --------------\n",
       "  samples:          13\n",
       "  evals/sample:     1"
      ]
     },
     "execution_count": 7,
     "metadata": {},
     "output_type": "execute_result"
    }
   ],
   "source": [
    "@benchmark MulticlassPerceptron3.fit!(percep3, X_train, y_train, 1, 0.0001)"
   ]
  },
  {
   "cell_type": "markdown",
   "metadata": {
    "collapsed": true
   },
   "source": [
    "#### MulticlassPerceptron4\n",
    "\n",
    "- Using views instead of copying examples\n",
    "- using views\n",
    "- prealocated vector for predicting all datapoints\n",
    "- using .* sintax for loop fusion"
   ]
  },
  {
   "cell_type": "code",
   "execution_count": 8,
   "metadata": {
    "scrolled": false
   },
   "outputs": [
    {
     "name": "stdout",
     "output_type": "stream",
     "text": [
      "Accuracy epoch 1 is :0.5976666666666667\n",
      "Accuracy epoch 1 is :0.7063333333333334\n",
      "Accuracy epoch 1 is :0.7502833333333333\n",
      "Accuracy epoch 1 is :0.7754333333333333\n",
      "Accuracy epoch 1 is :0.7918666666666667\n",
      "Accuracy epoch 1 is :0.8035\n",
      "Accuracy epoch 1 is :0.8128833333333333\n",
      "Accuracy epoch 1 is :0.8202333333333334\n",
      "Accuracy epoch 1 is :0.8261166666666667\n",
      "Accuracy epoch 1 is :0.83105\n",
      "Accuracy epoch 1 is :0.8361333333333333\n",
      "Accuracy epoch 1 is :0.8396666666666667\n",
      "Accuracy epoch 1 is :0.8419666666666666\n",
      "Accuracy epoch 1 is :0.8445333333333334\n",
      "Accuracy epoch 1 is :0.8472333333333333\n",
      "Accuracy epoch 1 is :0.8497166666666667\n",
      "Accuracy epoch 1 is :0.8513666666666667\n",
      "Accuracy epoch 1 is :0.8531666666666666\n",
      "Accuracy epoch 1 is :0.8547833333333333\n",
      "Accuracy epoch 1 is :0.8560666666666666\n",
      "Accuracy epoch 1 is :0.8579333333333333\n",
      "Accuracy epoch 1 is :0.8592666666666666\n",
      "Accuracy epoch 1 is :0.8608166666666667\n",
      "Accuracy epoch 1 is :0.8617\n",
      "Accuracy epoch 1 is :0.8629666666666667\n",
      "Accuracy epoch 1 is :0.8639333333333333\n",
      "Accuracy epoch 1 is :0.8647666666666667\n",
      "Accuracy epoch 1 is :0.8658333333333333\n",
      "Accuracy epoch 1 is :0.8666833333333334\n",
      "Accuracy epoch 1 is :0.8678\n"
     ]
    },
    {
     "data": {
      "text/plain": [
       "BenchmarkTools.Trial: \n",
       "  memory estimate:  176.38 MiB\n",
       "  allocs estimate:  607427\n",
       "  --------------\n",
       "  minimum time:     365.966 ms (6.86% GC)\n",
       "  median time:      394.657 ms (6.35% GC)\n",
       "  mean time:        390.801 ms (6.33% GC)\n",
       "  maximum time:     415.926 ms (5.89% GC)\n",
       "  --------------\n",
       "  samples:          13\n",
       "  evals/sample:     1"
      ]
     },
     "execution_count": 8,
     "metadata": {},
     "output_type": "execute_result"
    }
   ],
   "source": [
    "@benchmark MulticlassPerceptron4.fit!(percep4, X_train, y_train, 1, 0.0001)"
   ]
  },
  {
   "cell_type": "markdown",
   "metadata": {},
   "source": [
    "#### MulticlassPerceptron5\n",
    "\n",
    "**What else can be improved?**\n",
    "\n",
    "`\n",
    "memory estimate:  79.56 MiB\n",
    "`\n",
    "\n",
    "**Can we push the code to memory estimate 0 ?**\n",
    "\n",
    "**Are we really using the BLAS at the fullest potential?**\n"
   ]
  },
  {
   "cell_type": "code",
   "execution_count": null,
   "metadata": {
    "collapsed": true
   },
   "outputs": [],
   "source": []
  }
 ],
 "metadata": {
  "anaconda-cloud": {},
  "kernelspec": {
   "display_name": "Julia 0.5.0",
   "language": "julia",
   "name": "julia-0.5"
  },
  "language_info": {
   "file_extension": ".jl",
   "mimetype": "application/julia",
   "name": "julia",
   "version": "0.5.0"
  }
 },
 "nbformat": 4,
 "nbformat_minor": 1
}
