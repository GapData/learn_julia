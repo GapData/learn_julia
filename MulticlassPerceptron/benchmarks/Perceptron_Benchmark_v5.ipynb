{
 "cells": [
  {
   "cell_type": "markdown",
   "metadata": {},
   "source": [
    "## Benchmarking Perceptron\n",
    "\n",
    "\n",
    "#### About profiling julia code\n",
    "\n",
    "- https://thirld.com/blog/2015/05/30/julia-profiling-cheat-sheet/\n",
    "\n",
    "#### Examples of speeding up code\n",
    "\n",
    "There is a small number of \"tricks\" that can be applied to speed up execution time and save memory allocations. This is paramount for enjoying C like speed with julia code.\n",
    "\n",
    "- https://discourse.julialang.org/t/speed-up-this-code-game/3666"
   ]
  },
  {
   "cell_type": "code",
   "execution_count": 1,
   "metadata": {},
   "outputs": [
    {
     "name": "stdout",
     "output_type": "stream",
     "text": [
      "Julia Version 0.5.0\n",
      "Commit 3c9d753 (2016-09-19 18:14 UTC)\n",
      "Platform Info:\n",
      "  System: Darwin (x86_64-apple-darwin13.4.0)\n",
      "  CPU: Intel(R) Core(TM) i7-4650U CPU @ 1.70GHz\n",
      "  WORD_SIZE: 64\n",
      "  BLAS: libopenblas (USE64BITINT DYNAMIC_ARCH NO_AFFINITY Haswell)\n",
      "  LAPACK: libopenblas64_\n",
      "  LIBM: libopenlibm\n",
      "  LLVM: libLLVM-3.7.1 (ORCJIT, haswell)\n"
     ]
    }
   ],
   "source": [
    "workspace()\n",
    "versioninfo()"
   ]
  },
  {
   "cell_type": "code",
   "execution_count": 2,
   "metadata": {},
   "outputs": [
    {
     "name": "stderr",
     "output_type": "stream",
     "text": [
      "WARNING: Method definition take!(Task) in module Compat at /Users/david/.julia/v0.5/Compat/src/Compat.jl:53 overwritten in module Compat at /Users/david/.julia/v0.5/Compat/src/Compat.jl:53.\n",
      "WARNING: Method definition take!(Main.Base.AbstractIOBuffer) in module Compat at /Users/david/.julia/v0.5/Compat/src/Compat.jl:1170 overwritten in module Compat at /Users/david/.julia/v0.5/Compat/src/Compat.jl:1170.\n",
      "WARNING: Method definition redirect_stderr(Function, Any) in module Compat at /Users/david/.julia/v0.5/Compat/src/Compat.jl:1055 overwritten in module Compat at /Users/david/.julia/v0.5/Compat/src/Compat.jl:1055.\n",
      "WARNING: Method definition ones(AbstractArray) in module Compat at /Users/david/.julia/v0.5/Compat/src/Compat.jl:1430 overwritten in module Compat at /Users/david/.julia/v0.5/Compat/src/Compat.jl:1430.\n",
      "WARNING: Method definition ones(AbstractArray, Type) in module Compat at /Users/david/.julia/v0.5/Compat/src/Compat.jl:1430 overwritten in module Compat at /Users/david/.julia/v0.5/Compat/src/Compat.jl:1430.\n",
      "WARNING: Method definition ones(AbstractArray, Type, Tuple) in module Compat at /Users/david/.julia/v0.5/Compat/src/Compat.jl:1428 overwritten in module Compat at /Users/david/.julia/v0.5/Compat/src/Compat.jl:1428.\n",
      "WARNING: Method definition ones(AbstractArray, Type, Any...) in module Compat at /Users/david/.julia/v0.5/Compat/src/Compat.jl:1429 overwritten in module Compat at /Users/david/.julia/v0.5/Compat/src/Compat.jl:1429.\n",
      "WARNING: Method definition bswap(Main.Base.Complex) in module Compat at /Users/david/.julia/v0.5/Compat/src/Compat.jl:1464 overwritten in module Compat at /Users/david/.julia/v0.5/Compat/src/Compat.jl:1464.\n",
      "WARNING: Method definition isassigned(Main.Base.RefValue) in module Compat at /Users/david/.julia/v0.5/Compat/src/Compat.jl:1455 overwritten in module Compat at /Users/david/.julia/v0.5/Compat/src/Compat.jl:1455.\n",
      "WARNING: Method definition broadcast(Any, Tuple{Vararg{T<:Any, #N<:Any}}, Tuple{Vararg{T<:Any, #N<:Any}}...) in module Compat at /Users/david/.julia/v0.5/Compat/src/Compat.jl:1120 overwritten in module Compat at /Users/david/.julia/v0.5/Compat/src/Compat.jl:1120.\n",
      "WARNING: Method definition zeros(AbstractArray) in module Compat at /Users/david/.julia/v0.5/Compat/src/Compat.jl:1430 overwritten in module Compat at /Users/david/.julia/v0.5/Compat/src/Compat.jl:1430.\n",
      "WARNING: Method definition zeros(AbstractArray, Type) in module Compat at /Users/david/.julia/v0.5/Compat/src/Compat.jl:1430 overwritten in module Compat at /Users/david/.julia/v0.5/Compat/src/Compat.jl:1430.\n",
      "WARNING: Method definition zeros(AbstractArray, Type, Tuple) in module Compat at /Users/david/.julia/v0.5/Compat/src/Compat.jl:1428 overwritten in module Compat at /Users/david/.julia/v0.5/Compat/src/Compat.jl:1428.\n",
      "WARNING: Method definition zeros(AbstractArray, Type, Any...) in module Compat at /Users/david/.julia/v0.5/Compat/src/Compat.jl:1429 overwritten in module Compat at /Users/david/.julia/v0.5/Compat/src/Compat.jl:1429.\n",
      "WARNING: Method definition isless(Union{Main.Base.Dates.Day, Main.Base.Dates.Millisecond, Main.Base.Dates.Hour, Main.Base.Dates.Week, Main.Base.Dates.Second, Main.Base.Dates.Minute}, Union{Main.Base.Dates.Year, Main.Base.Dates.Month}) in module Compat at /Users/david/.julia/v0.5/Compat/src/Compat.jl:1505 overwritten in module Compat at /Users/david/.julia/v0.5/Compat/src/Compat.jl:1505.\n",
      "WARNING: Method definition isless(Union{Main.Base.Dates.Year, Main.Base.Dates.Month}, Union{Main.Base.Dates.Day, Main.Base.Dates.Millisecond, Main.Base.Dates.Hour, Main.Base.Dates.Week, Main.Base.Dates.Second, Main.Base.Dates.Minute}) in module Compat at /Users/david/.julia/v0.5/Compat/src/Compat.jl:1506 overwritten in module Compat at /Users/david/.julia/v0.5/Compat/src/Compat.jl:1506.\n",
      "WARNING: Method definition isless(Main.Base.Dates.Period, Main.Base.Dates.Period) in module Compat at /Users/david/.julia/v0.5/Compat/src/Compat.jl:1500 overwritten in module Compat at /Users/david/.julia/v0.5/Compat/src/Compat.jl:1500.\n",
      "WARNING: Method definition convert(Type{Main.Base.Set{#T<:Any}}, Main.Base.Set{#T<:Any}) in module Compat at /Users/david/.julia/v0.5/Compat/src/Compat.jl:1449 overwritten in module Compat at /Users/david/.julia/v0.5/Compat/src/Compat.jl:1449.\n",
      "WARNING: Method definition convert(Type{Main.Base.Set{#T<:Any}}, Main.Base.Set) in module Compat at /Users/david/.julia/v0.5/Compat/src/Compat.jl:1450 overwritten in module Compat at /Users/david/.julia/v0.5/Compat/src/Compat.jl:1450.\n",
      "WARNING: Method definition redirect_stdout(Function, Any) in module Compat at /Users/david/.julia/v0.5/Compat/src/Compat.jl:1055 overwritten in module Compat at /Users/david/.julia/v0.5/Compat/src/Compat.jl:1055.\n",
      "WARNING: Method definition unsafe_trunc(Type{#T<:Integer}, Integer) in module Compat at /Users/david/.julia/v0.5/Compat/src/Compat.jl:1459 overwritten in module Compat at /Users/david/.julia/v0.5/Compat/src/Compat.jl:1459.\n",
      "WARNING: Method definition isnull(Any) in module Compat at /Users/david/.julia/v0.5/Compat/src/Compat.jl:1135 overwritten in module Compat at /Users/david/.julia/v0.5/Compat/src/Compat.jl:1135.\n",
      "WARNING: Method definition redirect_stdin(Function, Any) in module Compat at /Users/david/.julia/v0.5/Compat/src/Compat.jl:1055 overwritten in module Compat at /Users/david/.julia/v0.5/Compat/src/Compat.jl:1055.\n",
      "WARNING: Method definition ==(Union{Main.Base.Dates.Day, Main.Base.Dates.Millisecond, Main.Base.Dates.Hour, Main.Base.Dates.Week, Main.Base.Dates.Second, Main.Base.Dates.Minute}, Union{Main.Base.Dates.Year, Main.Base.Dates.Month}) in module Compat at /Users/david/.julia/v0.5/Compat/src/Compat.jl:1503 overwritten in module Compat at /Users/david/.julia/v0.5/Compat/src/Compat.jl:1503.\n",
      "WARNING: Method definition ==(Union{Main.Base.Dates.Year, Main.Base.Dates.Month}, Union{Main.Base.Dates.Day, Main.Base.Dates.Millisecond, Main.Base.Dates.Hour, Main.Base.Dates.Week, Main.Base.Dates.Second, Main.Base.Dates.Minute}) in module Compat at /Users/david/.julia/v0.5/Compat/src/Compat.jl:1504 overwritten in module Compat at /Users/david/.julia/v0.5/Compat/src/Compat.jl:1504.\n",
      "WARNING: Method definition ==(Main.Base.Dates.Period, Main.Base.Dates.Period) in module Compat at /Users/david/.julia/v0.5/Compat/src/Compat.jl:1499 overwritten in module Compat at /Users/david/.julia/v0.5/Compat/src/Compat.jl:1499.\n",
      "WARNING: Method definition !(Function) in module Compat at /Users/david/.julia/v0.5/Compat/src/Compat.jl:1203 overwritten in module Compat at /Users/david/.julia/v0.5/Compat/src/Compat.jl:1203.\n",
      "WARNING: Method definition (::Type{Main.Base.LinearIndexing})(Type{#T<:Any}) in module Compat at /Users/david/.julia/v0.5/Compat/src/Compat.jl:1420 overwritten in module Compat at /Users/david/.julia/v0.5/Compat/src/Compat.jl:1420.\n",
      "WARNING: Method definition (::Type{Main.Base.LinearIndexing})(Any...) in module Compat at /Users/david/.julia/v0.5/Compat/src/Compat.jl:1421 overwritten in module Compat at /Users/david/.julia/v0.5/Compat/src/Compat.jl:1421.\n",
      "\u001b[1m\u001b[34mINFO: Recompiling stale cache file /Users/david/.julia/lib/v0.5/HDF5.ji for module HDF5.\n",
      "\u001b[0m\u001b[1m\u001b[34mINFO: Recompiling stale cache file /Users/david/.julia/lib/v0.5/JLD.ji for module JLD.\n",
      "\u001b[0m"
     ]
    }
   ],
   "source": [
    "using MNIST\n",
    "using BenchmarkTools"
   ]
  },
  {
   "cell_type": "code",
   "execution_count": 3,
   "metadata": {},
   "outputs": [
    {
     "data": {
      "text/plain": [
       "784"
      ]
     },
     "execution_count": 3,
     "metadata": {},
     "output_type": "execute_result"
    }
   ],
   "source": [
    "\n",
    "source_path = join(push!(split(pwd(),\"/\")[1:end-1],\"source/\" ),\"/\")\n",
    "\n",
    "if !contains(==,LOAD_PATH, source_path) \n",
    "    push!(LOAD_PATH, source_path)\n",
    "end\n",
    "\n",
    "using MulticlassPerceptron4\n",
    "using MulticlassPerceptron3\n",
    "using MulticlassPerceptron2\n",
    "using MulticlassPerceptron1\n",
    "\n",
    "percep1 = MulticlassPerceptron1.MPerceptron(Float32, 10, 784)\n",
    "percep2 = MulticlassPerceptron2.MPerceptron(Float32, 10, 784)\n",
    "percep3 = MulticlassPerceptron3.MPerceptron(Float32, 10, 784)\n",
    "percep4 = MulticlassPerceptron4.MPerceptron(Float32, 10, 784)\n",
    "\n",
    "n_classes = 10\n",
    "n_features = 784"
   ]
  },
  {
   "cell_type": "code",
   "execution_count": 4,
   "metadata": {},
   "outputs": [],
   "source": [
    "X_train, y_train = MNIST.traindata();\n",
    "X_test, y_test = MNIST.testdata();\n",
    "y_train = y_train + 1\n",
    "y_test = y_test + 1;\n",
    "\n",
    "T = Float32\n",
    "X_train = Array{T}((X_train - minimum(X_train))/(maximum(X_train) - minimum(X_train)))\n",
    "y_train = Array{Int64}(y_train)\n",
    "X_test = Array{T}(X_test - minimum(X_test))/(maximum(X_test) - minimum(X_test)) \n",
    "y_test = Array{Int64}(y_test);"
   ]
  },
  {
   "cell_type": "code",
   "execution_count": 5,
   "metadata": {
    "scrolled": true
   },
   "outputs": [
    {
     "name": "stdout",
     "output_type": "stream",
     "text": [
      "Accuracy epoch 1 is :0.5796666666666667\n",
      "Accuracy epoch 1 is :0.7022\n",
      "Accuracy epoch 1 is :0.7491833333333333\n",
      "Accuracy epoch 1 is :0.77645\n",
      "Accuracy epoch 1 is :0.7931333333333334\n",
      "Accuracy epoch 1 is :0.8054333333333333\n",
      "Accuracy epoch 1 is :0.81405\n",
      "Accuracy epoch 1 is :0.8209166666666666\n",
      "Accuracy epoch 1 is :0.82665\n",
      "Accuracy epoch 1 is :0.83145\n",
      "Accuracy epoch 1 is :0.8356166666666667\n",
      "Accuracy epoch 1 is :0.83925\n",
      "Accuracy epoch 1 is :0.84205\n"
     ]
    },
    {
     "data": {
      "text/plain": [
       "BenchmarkTools.Trial: \n",
       "  memory estimate:  709.59 MiB\n",
       "  allocs estimate:  973140\n",
       "  --------------\n",
       "  minimum time:     1.173 s (8.96% GC)\n",
       "  median time:      1.184 s (8.72% GC)\n",
       "  mean time:        1.195 s (8.47% GC)\n",
       "  maximum time:     1.249 s (7.47% GC)\n",
       "  --------------\n",
       "  samples:          5\n",
       "  evals/sample:     1"
      ]
     },
     "execution_count": 5,
     "metadata": {},
     "output_type": "execute_result"
    }
   ],
   "source": [
    "@benchmark MulticlassPerceptron1.fit!(percep1, X_train, y_train, 1, 0.0001)"
   ]
  },
  {
   "cell_type": "code",
   "execution_count": null,
   "metadata": {
    "collapsed": true
   },
   "outputs": [],
   "source": []
  },
  {
   "cell_type": "markdown",
   "metadata": {},
   "source": [
    "#### MulticlassPerceptron2\n",
    "\n",
    "- Using views instead of copying examples"
   ]
  },
  {
   "cell_type": "code",
   "execution_count": 6,
   "metadata": {},
   "outputs": [
    {
     "name": "stdout",
     "output_type": "stream",
     "text": [
      "Accuracy epoch 1 is :0.5883666666666667\n",
      "Accuracy epoch 1 is :0.7023833333333334\n",
      "Accuracy epoch 1 is :0.74805\n",
      "Accuracy epoch 1 is :0.77335\n",
      "Accuracy epoch 1 is :0.7912833333333333\n",
      "Accuracy epoch 1 is :0.80395\n",
      "Accuracy epoch 1 is :0.8132\n",
      "Accuracy epoch 1 is :0.8216333333333333\n",
      "Accuracy epoch 1 is :0.8285\n",
      "Accuracy epoch 1 is :0.8330833333333333\n",
      "Accuracy epoch 1 is :0.8373333333333334\n",
      "Accuracy epoch 1 is :0.8410833333333333\n",
      "Accuracy epoch 1 is :0.8439166666666666\n",
      "Accuracy epoch 1 is :0.8469833333333333\n",
      "Accuracy epoch 1 is :0.84905\n",
      "Accuracy epoch 1 is :0.8511333333333333\n",
      "Accuracy epoch 1 is :0.8530333333333333\n",
      "Accuracy epoch 1 is :0.8551333333333333\n",
      "Accuracy epoch 1 is :0.8563666666666667\n",
      "Accuracy epoch 1 is :0.8579166666666667\n",
      "Accuracy epoch 1 is :0.8590666666666666\n",
      "Accuracy epoch 1 is :0.8601833333333333\n",
      "Accuracy epoch 1 is :0.8615166666666667\n",
      "Accuracy epoch 1 is :0.8625\n",
      "Accuracy epoch 1 is :0.8636666666666667\n",
      "Accuracy epoch 1 is :0.8646166666666667\n",
      "Accuracy epoch 1 is :0.8657666666666667\n",
      "Accuracy epoch 1 is :0.8667833333333334\n",
      "Accuracy epoch 1 is :0.8676833333333334\n"
     ]
    },
    {
     "data": {
      "text/plain": [
       "BenchmarkTools.Trial: \n",
       "  memory estimate:  192.18 MiB\n",
       "  allocs estimate:  744946\n",
       "  --------------\n",
       "  minimum time:     387.767 ms (6.67% GC)\n",
       "  median time:      427.512 ms (6.42% GC)\n",
       "  mean time:        422.479 ms (6.46% GC)\n",
       "  maximum time:     438.480 ms (6.39% GC)\n",
       "  --------------\n",
       "  samples:          12\n",
       "  evals/sample:     1"
      ]
     },
     "execution_count": 6,
     "metadata": {},
     "output_type": "execute_result"
    }
   ],
   "source": [
    "@benchmark MulticlassPerceptron2.fit!(percep2, X_train, y_train, 1, 0.0001)"
   ]
  },
  {
   "cell_type": "markdown",
   "metadata": {},
   "source": [
    "#### MulticlassPerceptron3\n",
    "\n",
    "- Using views instead of copying examples\n",
    "- using inbounds\n"
   ]
  },
  {
   "cell_type": "code",
   "execution_count": 7,
   "metadata": {
    "scrolled": true
   },
   "outputs": [
    {
     "name": "stdout",
     "output_type": "stream",
     "text": [
      "Accuracy epoch 1 is :0.6104166666666667\n",
      "Accuracy epoch 1 is :0.7093333333333334\n",
      "Accuracy epoch 1 is :0.7542833333333333\n",
      "Accuracy epoch 1 is :0.7803333333333333\n",
      "Accuracy epoch 1 is :0.7979666666666667\n",
      "Accuracy epoch 1 is :0.8096833333333333\n",
      "Accuracy epoch 1 is :0.8182333333333334\n",
      "Accuracy epoch 1 is :0.8257166666666667\n",
      "Accuracy epoch 1 is :0.8314166666666667\n",
      "Accuracy epoch 1 is :0.8358833333333333\n",
      "Accuracy epoch 1 is :0.84005\n",
      "Accuracy epoch 1 is :0.8439666666666666\n",
      "Accuracy epoch 1 is :0.84705\n",
      "Accuracy epoch 1 is :0.84905\n",
      "Accuracy epoch 1 is :0.8513833333333334\n",
      "Accuracy epoch 1 is :0.85335\n",
      "Accuracy epoch 1 is :0.8556166666666667\n",
      "Accuracy epoch 1 is :0.8572833333333333\n",
      "Accuracy epoch 1 is :0.8587\n",
      "Accuracy epoch 1 is :0.8601333333333333\n",
      "Accuracy epoch 1 is :0.8611333333333333\n",
      "Accuracy epoch 1 is :0.8625666666666667\n",
      "Accuracy epoch 1 is :0.86375\n",
      "Accuracy epoch 1 is :0.8647833333333333\n",
      "Accuracy epoch 1 is :0.8656\n",
      "Accuracy epoch 1 is :0.8664666666666667\n",
      "Accuracy epoch 1 is :0.86725\n",
      "Accuracy epoch 1 is :0.8680666666666667\n",
      "Accuracy epoch 1 is :0.8687333333333334\n",
      "Accuracy epoch 1 is :0.8694666666666667\n"
     ]
    },
    {
     "data": {
      "text/plain": [
       "BenchmarkTools.Trial: \n",
       "  memory estimate:  174.01 MiB\n",
       "  allocs estimate:  604995\n",
       "  --------------\n",
       "  minimum time:     391.165 ms (6.12% GC)\n",
       "  median time:      416.557 ms (6.37% GC)\n",
       "  mean time:        414.780 ms (6.50% GC)\n",
       "  maximum time:     444.447 ms (5.51% GC)\n",
       "  --------------\n",
       "  samples:          13\n",
       "  evals/sample:     1"
      ]
     },
     "execution_count": 7,
     "metadata": {},
     "output_type": "execute_result"
    }
   ],
   "source": [
    "@benchmark MulticlassPerceptron3.fit!(percep3, X_train, y_train, 1, 0.0001)"
   ]
  },
  {
   "cell_type": "markdown",
   "metadata": {
    "collapsed": true
   },
   "source": [
    "#### MulticlassPerceptron4\n",
    "\n",
    "- Using views instead of copying examples\n",
    "- using views\n",
    "- prealocated vector for predicting all datapoints\n",
    "- using .* sintax for loop fusion"
   ]
  },
  {
   "cell_type": "code",
   "execution_count": 8,
   "metadata": {
    "scrolled": true
   },
   "outputs": [
    {
     "name": "stdout",
     "output_type": "stream",
     "text": [
      "Accuracy epoch 1 is :0.60905\n",
      "Accuracy epoch 1 is :0.71725\n",
      "Accuracy epoch 1 is :0.7590666666666667\n",
      "Accuracy epoch 1 is :0.78205\n",
      "Accuracy epoch 1 is :0.7967333333333333\n",
      "Accuracy epoch 1 is :0.8072666666666667\n",
      "Accuracy epoch 1 is :0.81635\n",
      "Accuracy epoch 1 is :0.8227833333333333\n",
      "Accuracy epoch 1 is :0.8286833333333333\n",
      "Accuracy epoch 1 is :0.83315\n",
      "Accuracy epoch 1 is :0.8372333333333334\n",
      "Accuracy epoch 1 is :0.8404666666666667\n",
      "Accuracy epoch 1 is :0.8436833333333333\n",
      "Accuracy epoch 1 is :0.8462\n",
      "Accuracy epoch 1 is :0.8488\n",
      "Accuracy epoch 1 is :0.85095\n",
      "Accuracy epoch 1 is :0.8525833333333334\n",
      "Accuracy epoch 1 is :0.8540333333333333\n",
      "Accuracy epoch 1 is :0.8558\n",
      "Accuracy epoch 1 is :0.85725\n",
      "Accuracy epoch 1 is :0.8587333333333333\n",
      "Accuracy epoch 1 is :0.85995\n",
      "Accuracy epoch 1 is :0.8608166666666667\n",
      "Accuracy epoch 1 is :0.8619333333333333\n",
      "Accuracy epoch 1 is :0.86305\n",
      "Accuracy epoch 1 is :0.86425\n",
      "Accuracy epoch 1 is :0.8652166666666666\n",
      "Accuracy epoch 1 is :0.8659666666666667\n"
     ]
    },
    {
     "data": {
      "text/plain": [
       "BenchmarkTools.Trial: \n",
       "  memory estimate:  178.69 MiB\n",
       "  allocs estimate:  609384\n",
       "  --------------\n",
       "  minimum time:     382.655 ms (8.37% GC)\n",
       "  median time:      421.207 ms (6.73% GC)\n",
       "  mean time:        462.182 ms (6.11% GC)\n",
       "  maximum time:     576.767 ms (4.71% GC)\n",
       "  --------------\n",
       "  samples:          11\n",
       "  evals/sample:     1"
      ]
     },
     "execution_count": 8,
     "metadata": {},
     "output_type": "execute_result"
    }
   ],
   "source": [
    "@benchmark MulticlassPerceptron4.fit!(percep4, X_train, y_train, 1, 0.0001)"
   ]
  },
  {
   "cell_type": "markdown",
   "metadata": {},
   "source": [
    "#### MulticlassPerceptron5\n",
    "\n",
    "**What else can be improved?**\n",
    "\n",
    "`\n",
    "memory estimate:  79.56 MiB\n",
    "`\n",
    "\n",
    "**Can we push the code to memory estimate 0 ?**\n",
    "\n",
    "**Are we really using the BLAS at the fullest potential?**\n"
   ]
  },
  {
   "cell_type": "code",
   "execution_count": null,
   "metadata": {
    "collapsed": true
   },
   "outputs": [],
   "source": []
  }
 ],
 "metadata": {
  "anaconda-cloud": {},
  "kernelspec": {
   "display_name": "Julia 0.5.0",
   "language": "julia",
   "name": "julia-0.5"
  },
  "language_info": {
   "file_extension": ".jl",
   "mimetype": "application/julia",
   "name": "julia",
   "version": "0.5.0"
  }
 },
 "nbformat": 4,
 "nbformat_minor": 1
}
