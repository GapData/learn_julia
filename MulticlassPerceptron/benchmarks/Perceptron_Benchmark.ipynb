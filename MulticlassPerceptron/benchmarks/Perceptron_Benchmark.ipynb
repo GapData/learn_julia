{
 "cells": [
  {
   "cell_type": "markdown",
   "metadata": {},
   "source": [
    "## Benchmarking Perceptron"
   ]
  },
  {
   "cell_type": "code",
   "execution_count": 1,
   "metadata": {
    "collapsed": false
   },
   "outputs": [
    {
     "data": {
      "text/plain": [
       "Float32"
      ]
     },
     "execution_count": 1,
     "metadata": {},
     "output_type": "execute_result"
    }
   ],
   "source": [
    "using MNIST\n",
    "using BenchmarkTools\n",
    "\n",
    "source_path = join(push!(split(pwd(),\"/\")[1:end-1],\"source/\" ),\"/\")\n",
    "\n",
    "if !contains(==,LOAD_PATH, source_path) \n",
    "    push!(LOAD_PATH, source_path)\n",
    "end\n",
    "\n",
    "using MulticlassPerceptron6\n",
    "using MulticlassPerceptron5\n",
    "using MulticlassPerceptron4\n",
    "using MulticlassPerceptron3\n",
    "using MulticlassPerceptron2\n",
    "using MulticlassPerceptron\n",
    "\n",
    "percep1 = MulticlassPerceptron.MPerceptron(10,784)\n",
    "percep2 = MulticlassPerceptron2.MPerceptron(10,784)\n",
    "percep3 = MulticlassPerceptron3.MPerceptron(10,784)\n",
    "percep4 = MulticlassPerceptron4.MPerceptron(10,784)\n",
    "percep5 = MulticlassPerceptron5.MPerceptron(10,784)\n",
    "percep6 = MulticlassPerceptron6.MPerceptron(10,784)\n",
    "\n",
    "n_classes = 10\n",
    "n_features = 784\n",
    "T = Float32\n",
    "\n",
    "#percep1 = MulticlassPerceptron.MPerceptron{T}(rand(T, n_classes,n_features), zeros(T, n_classes), n_classes, n_features)\n",
    "#percep2 = MulticlassPerceptron2.MPerceptron{T}(rand(T, n_classes,n_features), zeros(T, n_classes), n_classes, n_features)\n",
    "#percep3 = MulticlassPerceptron3.MPerceptron{T}(rand(T, n_classes,n_features), zeros(T, n_classes), n_classes, n_features)\n",
    "#percep4 = MulticlassPerceptron4.MPerceptron{T}(rand(T, n_classes,n_features), zeros(T, n_classes), n_classes, n_features)\n",
    "#percep5 = MulticlassPerceptron5.MPerceptron{T}(rand(T, n_classes,n_features), zeros(T, n_classes), n_classes, n_features)"
   ]
  },
  {
   "cell_type": "code",
   "execution_count": 2,
   "metadata": {
    "collapsed": false
   },
   "outputs": [],
   "source": [
    "X_train, y_train = MNIST.traindata();\n",
    "X_test, y_test = MNIST.testdata();\n",
    "y_train = y_train + 1\n",
    "y_test = y_test + 1;"
   ]
  },
  {
   "cell_type": "code",
   "execution_count": 3,
   "metadata": {
    "collapsed": true
   },
   "outputs": [],
   "source": [
    "T = Float32\n",
    "X_train = Array{T}((X_train - minimum(X_train))/(maximum(X_train) - minimum(X_train)))\n",
    "y_train = Array{Int64}(y_train)\n",
    "X_test = Array{T}(X_test - minimum(X_test))/(maximum(X_test) - minimum(X_test)) \n",
    "y_test = Array{Int64}(y_test);"
   ]
  },
  {
   "cell_type": "code",
   "execution_count": null,
   "metadata": {
    "collapsed": false
   },
   "outputs": [],
   "source": [
    "@benchmark MulticlassPerceptron.fit!(percep1, X_train, y_train, 1, 0.0001)"
   ]
  },
  {
   "cell_type": "markdown",
   "metadata": {},
   "source": [
    "#### MulticlassPerceptron2\n",
    "\n",
    "Using views instead of copying examples"
   ]
  },
  {
   "cell_type": "code",
   "execution_count": null,
   "metadata": {
    "collapsed": false
   },
   "outputs": [],
   "source": [
    "@benchmark MulticlassPerceptron2.fit!(percep2, X_train, y_train, 1, 0.0001)"
   ]
  },
  {
   "cell_type": "markdown",
   "metadata": {},
   "source": [
    "#### MulticlassPerceptron3"
   ]
  },
  {
   "cell_type": "code",
   "execution_count": null,
   "metadata": {
    "collapsed": false,
    "scrolled": true
   },
   "outputs": [],
   "source": [
    "@benchmark MulticlassPerceptron3.fit!(percep3, X_train, y_train, 1, 0.0001)"
   ]
  },
  {
   "cell_type": "markdown",
   "metadata": {
    "collapsed": true
   },
   "source": [
    "#### MulticlassPerceptron4\n",
    "\n",
    "- prediction vector prealocated before\n",
    "- using inbounds"
   ]
  },
  {
   "cell_type": "code",
   "execution_count": null,
   "metadata": {
    "collapsed": false,
    "scrolled": true
   },
   "outputs": [],
   "source": [
    "@benchmark MulticlassPerceptron4.fit!(percep4, X_train, y_train, 1, 0.0001)"
   ]
  },
  {
   "cell_type": "markdown",
   "metadata": {},
   "source": [
    "#### MulticlassPerceptron5\n",
    "\n",
    "- prediction vector prealocated before\n",
    "- using inbounds\n",
    "- copying the current datapoint x = X[:,m] at every update"
   ]
  },
  {
   "cell_type": "code",
   "execution_count": null,
   "metadata": {
    "collapsed": false
   },
   "outputs": [],
   "source": [
    "@benchmark MulticlassPerceptron5.fit!(percep5, X_train, y_train, 1, 0.0001)"
   ]
  },
  {
   "cell_type": "markdown",
   "metadata": {},
   "source": [
    "#### Multiclass perceptron6"
   ]
  },
  {
   "cell_type": "code",
   "execution_count": null,
   "metadata": {
    "collapsed": false
   },
   "outputs": [],
   "source": [
    "typeof(X_train)"
   ]
  },
  {
   "cell_type": "code",
   "execution_count": 4,
   "metadata": {
    "collapsed": false
   },
   "outputs": [
    {
     "ename": "LoadError",
     "evalue": "MethodError: Cannot `convert` an object of type Float64 to an object of type Array{Float32,2}\nThis may have arisen from a call to the constructor Array{Float32,2}(...),\nsince type constructors fall back to convert methods.",
     "output_type": "error",
     "traceback": [
      "MethodError: Cannot `convert` an object of type Float64 to an object of type Array{Float32,2}\nThis may have arisen from a call to the constructor Array{Float32,2}(...),\nsince type constructors fall back to convert methods.",
      "",
      " in copy!(::Base.LinearFast, ::Array{Array{Float32,2},1}, ::Base.LinearFast, ::Array{Float64,1}) at ./abstractarray.jl:558",
      " in convert(::Type{Array{Array{Float32,2},N}}, ::Array{Float64,1}) at ./array.jl:282",
      " in fit!(::MulticlassPerceptron6.MPerceptron{Float64}, ::Array{Float32,2}, ::Array{Int64,1}, ::Int64, ::Float64) at /home/david/Documents/git_stuff/learn_julia/MulticlassPerceptron/source/MulticlassPerceptron6.jl:48",
      " in ##core#267() at /home/david/.julia/v0.6/BenchmarkTools/src/execution.jl:290",
      " in ##sample#268(::BenchmarkTools.Parameters) at /home/david/.julia/v0.6/BenchmarkTools/src/execution.jl:296",
      " in #_run#1(::Bool, ::String, ::Array{Any,1}, ::Function, ::BenchmarkTools.Benchmark{Symbol(\"##benchmark#266\")}, ::BenchmarkTools.Parameters) at /home/david/.julia/v0.6/BenchmarkTools/src/execution.jl:324",
      " in (::BenchmarkTools.#kw##_run)(::Array{Any,1}, ::BenchmarkTools.#_run, ::BenchmarkTools.Benchmark{Symbol(\"##benchmark#266\")}, ::BenchmarkTools.Parameters) at ./<missing>:0",
      " in anonymous at ./<missing>:?",
      " in #run_result#16(::Array{Any,1}, ::Function, ::BenchmarkTools.Benchmark{Symbol(\"##benchmark#266\")}, ::BenchmarkTools.Parameters) at /home/david/.julia/v0.6/BenchmarkTools/src/execution.jl:40",
      " in (::BenchmarkTools.#kw##run_result)(::Array{Any,1}, ::BenchmarkTools.#run_result, ::BenchmarkTools.Benchmark{Symbol(\"##benchmark#266\")}, ::BenchmarkTools.Parameters) at ./<missing>:0",
      " in #run#17(::Array{Any,1}, ::Function, ::BenchmarkTools.Benchmark{Symbol(\"##benchmark#266\")}, ::BenchmarkTools.Parameters) at /home/david/.julia/v0.6/BenchmarkTools/src/execution.jl:43",
      " in (::Base.#kw##run)(::Array{Any,1}, ::Base.#run, ::BenchmarkTools.Benchmark{Symbol(\"##benchmark#266\")}, ::BenchmarkTools.Parameters) at ./<missing>:0",
      " in warmup(::BenchmarkTools.Benchmark{Symbol(\"##benchmark#266\")}) at /home/david/.julia/v0.6/BenchmarkTools/src/execution.jl:78"
     ]
    }
   ],
   "source": [
    "@benchmark MulticlassPerceptron6.fit!(percep6, X_train, y_train, 1, 0.0001)"
   ]
  },
  {
   "cell_type": "code",
   "execution_count": null,
   "metadata": {
    "collapsed": false
   },
   "outputs": [],
   "source": [
    "typeof(X_train[:,1])"
   ]
  },
  {
   "cell_type": "code",
   "execution_count": null,
   "metadata": {
    "collapsed": false
   },
   "outputs": [],
   "source": [
    "typeof(zeros(Float32, percep6.n_features))"
   ]
  },
  {
   "cell_type": "code",
   "execution_count": null,
   "metadata": {
    "collapsed": true
   },
   "outputs": [],
   "source": []
  }
 ],
 "metadata": {
  "kernelspec": {
   "display_name": "Julia 0.6.0-dev",
   "language": "julia",
   "name": "julia-0.6"
  },
  "language_info": {
   "file_extension": ".jl",
   "mimetype": "application/julia",
   "name": "julia",
   "version": "0.6.0"
  }
 },
 "nbformat": 4,
 "nbformat_minor": 0
}
