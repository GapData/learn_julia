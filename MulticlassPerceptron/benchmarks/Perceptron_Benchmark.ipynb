{
 "cells": [
  {
   "cell_type": "markdown",
   "metadata": {},
   "source": [
    "## Benchmarking Perceptron\n",
    "\n",
    "\n",
    "#### About profiling julia code\n",
    "\n",
    "- https://thirld.com/blog/2015/05/30/julia-profiling-cheat-sheet/"
   ]
  },
  {
   "cell_type": "code",
   "execution_count": 1,
   "metadata": {
    "collapsed": false
   },
   "outputs": [
    {
     "name": "stdout",
     "output_type": "stream",
     "text": [
      "Julia Version 0.6.0-dev.1393\n",
      "Commit e19a8bf (2016-12-09 01:03 UTC)\n",
      "Platform Info:\n",
      "  OS: Linux (x86_64-linux-gnu)\n",
      "  CPU: Intel(R) Core(TM) i7-4600U CPU @ 2.10GHz\n",
      "  WORD_SIZE: 64\n",
      "  BLAS: libopenblas (NO_LAPACKE DYNAMIC_ARCH NO_AFFINITY Haswell)\n",
      "  LAPACK: liblapack.so.3\n",
      "  LIBM: libopenlibm\n",
      "  LLVM: libLLVM-3.7.1 (ORCJIT, haswell)\n"
     ]
    }
   ],
   "source": [
    "versioninfo()"
   ]
  },
  {
   "cell_type": "code",
   "execution_count": 2,
   "metadata": {
    "collapsed": false
   },
   "outputs": [
    {
     "data": {
      "text/plain": [
       "Float32"
      ]
     },
     "execution_count": 2,
     "metadata": {},
     "output_type": "execute_result"
    }
   ],
   "source": [
    "using MNIST\n",
    "using BenchmarkTools\n",
    "\n",
    "source_path = join(push!(split(pwd(),\"/\")[1:end-1],\"source/\" ),\"/\")\n",
    "\n",
    "if !contains(==,LOAD_PATH, source_path) \n",
    "    push!(LOAD_PATH, source_path)\n",
    "end\n",
    "\n",
    "using MulticlassPerceptron6\n",
    "using MulticlassPerceptron5\n",
    "using MulticlassPerceptron4\n",
    "using MulticlassPerceptron3\n",
    "using MulticlassPerceptron2\n",
    "using MulticlassPerceptron\n",
    "\n",
    "percep1 = MulticlassPerceptron.MPerceptron(10,784)\n",
    "percep2 = MulticlassPerceptron2.MPerceptron(10,784)\n",
    "percep3 = MulticlassPerceptron3.MPerceptron(10,784)\n",
    "percep4 = MulticlassPerceptron4.MPerceptron(10,784)\n",
    "percep5 = MulticlassPerceptron5.MPerceptron(10,784)\n",
    "percep6 = MulticlassPerceptron6.MPerceptron(10,784)\n",
    "\n",
    "n_classes = 10\n",
    "n_features = 784\n",
    "T = Float32\n",
    "\n",
    "#percep1 = MulticlassPerceptron.MPerceptron{T}(rand(T, n_classes,n_features), zeros(T, n_classes), n_classes, n_features)\n",
    "#percep2 = MulticlassPerceptron2.MPerceptron{T}(rand(T, n_classes,n_features), zeros(T, n_classes), n_classes, n_features)\n",
    "#percep3 = MulticlassPerceptron3.MPerceptron{T}(rand(T, n_classes,n_features), zeros(T, n_classes), n_classes, n_features)\n",
    "#percep4 = MulticlassPerceptron4.MPerceptron{T}(rand(T, n_classes,n_features), zeros(T, n_classes), n_classes, n_features)\n",
    "#percep5 = MulticlassPerceptron5.MPerceptron{T}(rand(T, n_classes,n_features), zeros(T, n_classes), n_classes, n_features)"
   ]
  },
  {
   "cell_type": "code",
   "execution_count": 3,
   "metadata": {
    "collapsed": true
   },
   "outputs": [],
   "source": [
    "X_train, y_train = MNIST.traindata();\n",
    "X_test, y_test = MNIST.testdata();\n",
    "y_train = y_train + 1\n",
    "y_test = y_test + 1;"
   ]
  },
  {
   "cell_type": "code",
   "execution_count": 4,
   "metadata": {
    "collapsed": true
   },
   "outputs": [],
   "source": [
    "T = Float32\n",
    "X_train = Array{T}((X_train - minimum(X_train))/(maximum(X_train) - minimum(X_train)))\n",
    "y_train = Array{Int64}(y_train)\n",
    "X_test = Array{T}(X_test - minimum(X_test))/(maximum(X_test) - minimum(X_test)) \n",
    "y_test = Array{Int64}(y_test);"
   ]
  },
  {
   "cell_type": "code",
   "execution_count": 5,
   "metadata": {
    "collapsed": false
   },
   "outputs": [
    {
     "name": "stdout",
     "output_type": "stream",
     "text": [
      "Accuracy epoch 1 is :0.6019666666666666\n",
      "Accuracy epoch 1 is :0.7139333333333333\n",
      "Accuracy epoch 1 is :0.7582833333333333\n",
      "Accuracy epoch 1 is :0.7823333333333333\n",
      "Accuracy epoch 1 is :0.79845\n",
      "Accuracy epoch 1 is :0.8103833333333333\n",
      "Accuracy epoch 1 is :0.8193\n",
      "Accuracy epoch 1 is :0.8252333333333334\n",
      "Accuracy epoch 1 is :0.8307833333333333\n",
      "Accuracy epoch 1 is :0.8354666666666667\n",
      "Accuracy epoch 1 is :0.83885\n",
      "Accuracy epoch 1 is :0.8418833333333333\n"
     ]
    },
    {
     "data": {
      "text/plain": [
       "BenchmarkTools.Trial: \n",
       "  memory estimate:  1.13 GiB\n",
       "  allocs estimate:  1566986\n",
       "  --------------\n",
       "  minimum time:     1.222 s (4.39% GC)\n",
       "  median time:      1.270 s (4.42% GC)\n",
       "  mean time:        1.270 s (4.47% GC)\n",
       "  maximum time:     1.320 s (4.64% GC)\n",
       "  --------------\n",
       "  samples:          4\n",
       "  evals/sample:     1"
      ]
     },
     "execution_count": 5,
     "metadata": {},
     "output_type": "execute_result"
    }
   ],
   "source": [
    "@benchmark MulticlassPerceptron.fit!(percep1, X_train, y_train, 1, 0.0001)"
   ]
  },
  {
   "cell_type": "markdown",
   "metadata": {},
   "source": [
    "#### MulticlassPerceptron2\n",
    "\n",
    "Using views instead of copying examples"
   ]
  },
  {
   "cell_type": "code",
   "execution_count": 6,
   "metadata": {
    "collapsed": false
   },
   "outputs": [
    {
     "name": "stdout",
     "output_type": "stream",
     "text": [
      "Accuracy epoch 1 is :0.5533333333333333\n",
      "Accuracy epoch 1 is :0.67565\n",
      "Accuracy epoch 1 is :0.7302833333333333\n",
      "Accuracy epoch 1 is :0.7610833333333333\n",
      "Accuracy epoch 1 is :0.7809166666666667\n",
      "Accuracy epoch 1 is :0.7955\n",
      "Accuracy epoch 1 is :0.8065833333333333\n",
      "Accuracy epoch 1 is :0.81535\n",
      "Accuracy epoch 1 is :0.8214\n"
     ]
    }
   ],
   "source": [
    "@benchmark MulticlassPerceptron2.fit!(percep2, X_train, y_train, 1, 0.0001)"
   ]
  },
  {
   "cell_type": "markdown",
   "metadata": {},
   "source": [
    "#### MulticlassPerceptron3"
   ]
  },
  {
   "cell_type": "code",
   "execution_count": null,
   "metadata": {
    "collapsed": false,
    "scrolled": true
   },
   "outputs": [
    {
     "name": "stdout",
     "output_type": "stream",
     "text": [
      "Accuracy epoch 1 is :0.5623666666666667\n",
      "Accuracy epoch 1 is :0.6963833333333334\n",
      "Accuracy epoch 1 is :0.74705\n",
      "Accuracy epoch 1 is :0.77665\n",
      "Accuracy epoch 1 is :0.7946666666666666\n"
     ]
    }
   ],
   "source": [
    "@benchmark MulticlassPerceptron3.fit!(percep3, X_train, y_train, 1, 0.0001)"
   ]
  },
  {
   "cell_type": "markdown",
   "metadata": {
    "collapsed": true
   },
   "source": [
    "#### MulticlassPerceptron4\n",
    "\n",
    "- prediction vector prealocated before\n",
    "- using inbounds"
   ]
  },
  {
   "cell_type": "code",
   "execution_count": null,
   "metadata": {
    "collapsed": false,
    "scrolled": true
   },
   "outputs": [],
   "source": [
    "@benchmark MulticlassPerceptron4.fit!(percep4, X_train, y_train, 1, 0.0001)"
   ]
  },
  {
   "cell_type": "markdown",
   "metadata": {},
   "source": [
    "#### MulticlassPerceptron5\n",
    "\n",
    "- prediction vector prealocated before\n",
    "- using inbounds\n",
    "- copying the current datapoint x = X[:,m] at every update"
   ]
  },
  {
   "cell_type": "code",
   "execution_count": null,
   "metadata": {
    "collapsed": false
   },
   "outputs": [],
   "source": [
    "@benchmark MulticlassPerceptron5.fit!(percep5, X_train, y_train, 1, 0.0001)"
   ]
  },
  {
   "cell_type": "markdown",
   "metadata": {},
   "source": [
    "#### Multiclass perceptron6: Not working... why?"
   ]
  },
  {
   "cell_type": "code",
   "execution_count": null,
   "metadata": {
    "collapsed": false
   },
   "outputs": [],
   "source": [
    "typeof(X_train)"
   ]
  },
  {
   "cell_type": "code",
   "execution_count": null,
   "metadata": {
    "collapsed": false
   },
   "outputs": [],
   "source": [
    "@benchmark MulticlassPerceptron6.fit!(percep6, X_train, y_train, 1, 0.0001)"
   ]
  },
  {
   "cell_type": "code",
   "execution_count": null,
   "metadata": {
    "collapsed": true
   },
   "outputs": [],
   "source": []
  },
  {
   "cell_type": "code",
   "execution_count": null,
   "metadata": {
    "collapsed": true
   },
   "outputs": [],
   "source": []
  },
  {
   "cell_type": "code",
   "execution_count": null,
   "metadata": {
    "collapsed": true
   },
   "outputs": [],
   "source": []
  },
  {
   "cell_type": "markdown",
   "metadata": {},
   "source": [
    "#### Profiling the code"
   ]
  },
  {
   "cell_type": "code",
   "execution_count": null,
   "metadata": {
    "collapsed": false
   },
   "outputs": [],
   "source": [
    "#Profile.clear()\n",
    "#@profile MulticlassPerceptron5.fit!(percep5, X_train, y_train, 1, 0.0001)"
   ]
  },
  {
   "cell_type": "code",
   "execution_count": null,
   "metadata": {
    "collapsed": false
   },
   "outputs": [],
   "source": [
    "#using ProfileView\n",
    "#ProfileView.view()"
   ]
  },
  {
   "cell_type": "code",
   "execution_count": null,
   "metadata": {
    "collapsed": false
   },
   "outputs": [],
   "source": [
    "#a = zeros(Float32,10)\n",
    "\n",
    "#MulticlassPerceptron5.predict(percep5, X_train[:,3],a)"
   ]
  },
  {
   "cell_type": "code",
   "execution_count": null,
   "metadata": {
    "collapsed": false
   },
   "outputs": [],
   "source": [
    "#@benchmark MulticlassPerceptron5.predict(percep5, X_train[:,3],a)"
   ]
  }
 ],
 "metadata": {
  "anaconda-cloud": {},
  "kernelspec": {
   "display_name": "Julia 0.6.0-dev",
   "language": "julia",
   "name": "julia-0.6"
  },
  "language_info": {
   "file_extension": ".jl",
   "mimetype": "application/julia",
   "name": "julia",
   "version": "0.6.0"
  }
 },
 "nbformat": 4,
 "nbformat_minor": 1
}
