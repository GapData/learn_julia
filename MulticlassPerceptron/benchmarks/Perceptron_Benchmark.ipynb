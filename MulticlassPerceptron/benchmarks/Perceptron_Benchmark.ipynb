{
 "cells": [
  {
   "cell_type": "markdown",
   "metadata": {},
   "source": [
    "## Benchmarking Perceptron"
   ]
  },
  {
   "cell_type": "code",
   "execution_count": 1,
   "metadata": {
    "collapsed": false
   },
   "outputs": [],
   "source": [
    "using MNIST\n",
    "using BenchmarkTools\n",
    "\n",
    "source_path = join(push!(split(pwd(),\"/\")[1:end-1],\"source/\" ),\"/\")\n",
    "\n",
    "if !contains(==,LOAD_PATH, source_path) \n",
    "    push!(LOAD_PATH, source_path)\n",
    "end\n",
    "\n",
    "using MulticlassPerceptron3, MulticlassPerceptron2, MulticlassPerceptron"
   ]
  },
  {
   "cell_type": "code",
   "execution_count": 2,
   "metadata": {
    "collapsed": false
   },
   "outputs": [],
   "source": [
    "X_train, y_train = MNIST.traindata();\n",
    "X_test, y_test = MNIST.testdata();\n",
    "y_train = y_train + 1\n",
    "y_test = y_test + 1;"
   ]
  },
  {
   "cell_type": "code",
   "execution_count": 3,
   "metadata": {
    "collapsed": true
   },
   "outputs": [],
   "source": [
    "T = Float32\n",
    "X_train = Array{T}((X_train - minimum(X_train))/(maximum(X_train) - minimum(X_train)))\n",
    "y_train = Array{Int64}(y_train)\n",
    "X_test = Array{T}(X_test - minimum(X_test))/(maximum(X_test) - minimum(X_test)) \n",
    "y_test = Array{Int64}(y_test);"
   ]
  },
  {
   "cell_type": "code",
   "execution_count": 4,
   "metadata": {
    "collapsed": false
   },
   "outputs": [
    {
     "data": {
      "text/plain": [
       "Perceptron{Float64}(n_classes=10, n_features=784)"
      ]
     },
     "execution_count": 4,
     "metadata": {},
     "output_type": "execute_result"
    }
   ],
   "source": [
    "percep1 = MulticlassPerceptron.MPerceptron(10,784)"
   ]
  },
  {
   "cell_type": "code",
   "execution_count": 5,
   "metadata": {
    "collapsed": false
   },
   "outputs": [
    {
     "name": "stdout",
     "output_type": "stream",
     "text": [
      "Accuracy epoch 1 is :0.57875\n",
      "Accuracy epoch 1 is :0.6984166666666667\n",
      "Accuracy epoch 1 is :0.7490833333333333\n",
      "Accuracy epoch 1 is :0.7763\n",
      "Accuracy epoch 1 is :0.7932\n",
      "Accuracy epoch 1 is :0.8057\n",
      "Accuracy epoch 1 is :0.8154\n",
      "Accuracy epoch 1 is :0.8222166666666667\n",
      "Accuracy epoch 1 is :0.8288666666666666\n",
      "Accuracy epoch 1 is :0.8341\n",
      "Accuracy epoch 1 is :0.83825\n",
      "Accuracy epoch 1 is :0.8419333333333333\n"
     ]
    },
    {
     "data": {
      "text/plain": [
       "BenchmarkTools.Trial: \n",
       "  memory estimate:  1.14 GiB\n",
       "  allocs estimate:  1568394\n",
       "  --------------\n",
       "  minimum time:     1.258 s (5.00% GC)\n",
       "  median time:      1.386 s (4.81% GC)\n",
       "  mean time:        1.381 s (4.79% GC)\n",
       "  maximum time:     1.495 s (4.70% GC)\n",
       "  --------------\n",
       "  samples:          4\n",
       "  evals/sample:     1"
      ]
     },
     "execution_count": 5,
     "metadata": {},
     "output_type": "execute_result"
    }
   ],
   "source": [
    "@benchmark MulticlassPerceptron.fit!(percep1, X_train, y_train, 1, 0.0001)"
   ]
  },
  {
   "cell_type": "markdown",
   "metadata": {},
   "source": [
    "#### MulticlassPerceptron2\n",
    "\n",
    "Using views instead of copying examples"
   ]
  },
  {
   "cell_type": "code",
   "execution_count": 6,
   "metadata": {
    "collapsed": false
   },
   "outputs": [
    {
     "data": {
      "text/plain": [
       "Perceptron{Float64}(n_classes=10, n_features=784)"
      ]
     },
     "execution_count": 6,
     "metadata": {},
     "output_type": "execute_result"
    }
   ],
   "source": [
    "percep2 = MulticlassPerceptron2.MPerceptron(10,784)"
   ]
  },
  {
   "cell_type": "code",
   "execution_count": 7,
   "metadata": {
    "collapsed": false
   },
   "outputs": [
    {
     "name": "stdout",
     "output_type": "stream",
     "text": [
      "Accuracy epoch 1 is :0.5894666666666667\n",
      "Accuracy epoch 1 is :0.696\n",
      "Accuracy epoch 1 is :0.7435333333333334\n",
      "Accuracy epoch 1 is :0.7684833333333333\n",
      "Accuracy epoch 1 is :0.7871166666666667\n",
      "Accuracy epoch 1 is :0.8\n",
      "Accuracy epoch 1 is :0.81045\n",
      "Accuracy epoch 1 is :0.8182833333333334\n"
     ]
    },
    {
     "data": {
      "text/plain": [
       "BenchmarkTools.Trial: \n",
       "  memory estimate:  1.15 GiB\n",
       "  allocs estimate:  2418901\n",
       "  --------------\n",
       "  minimum time:     1.719 s (3.75% GC)\n",
       "  median time:      1.752 s (3.75% GC)\n",
       "  mean time:        1.792 s (3.76% GC)\n",
       "  maximum time:     1.906 s (3.77% GC)\n",
       "  --------------\n",
       "  samples:          3\n",
       "  evals/sample:     1"
      ]
     },
     "execution_count": 7,
     "metadata": {},
     "output_type": "execute_result"
    }
   ],
   "source": [
    "@benchmark MulticlassPerceptron2.fit!(percep2, X_train, y_train, 1, 0.0001)"
   ]
  },
  {
   "cell_type": "markdown",
   "metadata": {},
   "source": [
    "#### MulticlassPerceptron3"
   ]
  },
  {
   "cell_type": "code",
   "execution_count": 8,
   "metadata": {
    "collapsed": false
   },
   "outputs": [
    {
     "data": {
      "text/plain": [
       "Perceptron{Float64}(n_classes=10, n_features=784)"
      ]
     },
     "execution_count": 8,
     "metadata": {},
     "output_type": "execute_result"
    }
   ],
   "source": [
    "percep3 = MulticlassPerceptron3.MPerceptron(10,784)"
   ]
  },
  {
   "cell_type": "code",
   "execution_count": 9,
   "metadata": {
    "collapsed": false
   },
   "outputs": [
    {
     "data": {
      "text/plain": [
       "predict (generic function with 1 method)"
      ]
     },
     "execution_count": 9,
     "metadata": {},
     "output_type": "execute_result"
    }
   ],
   "source": [
    "MulticlassPerceptron3.predict"
   ]
  },
  {
   "cell_type": "code",
   "execution_count": 10,
   "metadata": {
    "collapsed": false,
    "scrolled": true
   },
   "outputs": [
    {
     "name": "stdout",
     "output_type": "stream",
     "text": [
      "Accuracy epoch 1 is :0.6058333333333333\n",
      "Accuracy epoch 1 is :0.7158666666666667\n",
      "Accuracy epoch 1 is :0.75935\n",
      "Accuracy epoch 1 is :0.7829166666666667\n",
      "Accuracy epoch 1 is :0.7983\n",
      "Accuracy epoch 1 is :0.81025\n",
      "Accuracy epoch 1 is :0.8184\n",
      "Accuracy epoch 1 is :0.82525\n",
      "Accuracy epoch 1 is :0.8303166666666667\n",
      "Accuracy epoch 1 is :0.8345833333333333\n",
      "Accuracy epoch 1 is :0.8381166666666666\n",
      "Accuracy epoch 1 is :0.84195\n"
     ]
    },
    {
     "data": {
      "text/plain": [
       "BenchmarkTools.Trial: \n",
       "  memory estimate:  324.63 MiB\n",
       "  allocs estimate:  608159\n",
       "  --------------\n",
       "  minimum time:     1.311 s (1.38% GC)\n",
       "  median time:      1.316 s (1.37% GC)\n",
       "  mean time:        1.317 s (1.37% GC)\n",
       "  maximum time:     1.325 s (1.42% GC)\n",
       "  --------------\n",
       "  samples:          4\n",
       "  evals/sample:     1"
      ]
     },
     "execution_count": 10,
     "metadata": {},
     "output_type": "execute_result"
    }
   ],
   "source": [
    "@benchmark MulticlassPerceptron3.fit!(percep3, X_train, y_train, 1, 0.0001)"
   ]
  },
  {
   "cell_type": "code",
   "execution_count": null,
   "metadata": {
    "collapsed": true
   },
   "outputs": [],
   "source": []
  }
 ],
 "metadata": {
  "kernelspec": {
   "display_name": "Julia 0.6.0-dev",
   "language": "julia",
   "name": "julia-0.6"
  },
  "language_info": {
   "file_extension": ".jl",
   "mimetype": "application/julia",
   "name": "julia",
   "version": "0.6.0"
  }
 },
 "nbformat": 4,
 "nbformat_minor": 0
}
