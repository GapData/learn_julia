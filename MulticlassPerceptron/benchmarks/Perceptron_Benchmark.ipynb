{
 "cells": [
  {
   "cell_type": "markdown",
   "metadata": {},
   "source": [
    "## Benchmarking Perceptron\n",
    "\n",
    "\n",
    "#### About profiling julia code\n",
    "\n",
    "- https://thirld.com/blog/2015/05/30/julia-profiling-cheat-sheet/"
   ]
  },
  {
   "cell_type": "code",
   "execution_count": 1,
   "metadata": {
    "collapsed": false
   },
   "outputs": [
    {
     "data": {
      "text/plain": [
       "Float32"
      ]
     },
     "execution_count": 1,
     "metadata": {},
     "output_type": "execute_result"
    }
   ],
   "source": [
    "using MNIST\n",
    "using BenchmarkTools\n",
    "\n",
    "source_path = join(push!(split(pwd(),\"/\")[1:end-1],\"source/\" ),\"/\")\n",
    "\n",
    "if !contains(==,LOAD_PATH, source_path) \n",
    "    push!(LOAD_PATH, source_path)\n",
    "end\n",
    "\n",
    "using MulticlassPerceptron6\n",
    "using MulticlassPerceptron5\n",
    "using MulticlassPerceptron4\n",
    "using MulticlassPerceptron3\n",
    "using MulticlassPerceptron2\n",
    "using MulticlassPerceptron\n",
    "\n",
    "percep1 = MulticlassPerceptron.MPerceptron(10,784)\n",
    "percep2 = MulticlassPerceptron2.MPerceptron(10,784)\n",
    "percep3 = MulticlassPerceptron3.MPerceptron(10,784)\n",
    "percep4 = MulticlassPerceptron4.MPerceptron(10,784)\n",
    "percep5 = MulticlassPerceptron5.MPerceptron(10,784)\n",
    "percep6 = MulticlassPerceptron6.MPerceptron(10,784)\n",
    "\n",
    "n_classes = 10\n",
    "n_features = 784\n",
    "T = Float32\n",
    "\n",
    "#percep1 = MulticlassPerceptron.MPerceptron{T}(rand(T, n_classes,n_features), zeros(T, n_classes), n_classes, n_features)\n",
    "#percep2 = MulticlassPerceptron2.MPerceptron{T}(rand(T, n_classes,n_features), zeros(T, n_classes), n_classes, n_features)\n",
    "#percep3 = MulticlassPerceptron3.MPerceptron{T}(rand(T, n_classes,n_features), zeros(T, n_classes), n_classes, n_features)\n",
    "#percep4 = MulticlassPerceptron4.MPerceptron{T}(rand(T, n_classes,n_features), zeros(T, n_classes), n_classes, n_features)\n",
    "#percep5 = MulticlassPerceptron5.MPerceptron{T}(rand(T, n_classes,n_features), zeros(T, n_classes), n_classes, n_features)"
   ]
  },
  {
   "cell_type": "code",
   "execution_count": 2,
   "metadata": {
    "collapsed": true
   },
   "outputs": [],
   "source": [
    "X_train, y_train = MNIST.traindata();\n",
    "X_test, y_test = MNIST.testdata();\n",
    "y_train = y_train + 1\n",
    "y_test = y_test + 1;"
   ]
  },
  {
   "cell_type": "code",
   "execution_count": 3,
   "metadata": {
    "collapsed": true
   },
   "outputs": [],
   "source": [
    "T = Float32\n",
    "X_train = Array{T}((X_train - minimum(X_train))/(maximum(X_train) - minimum(X_train)))\n",
    "y_train = Array{Int64}(y_train)\n",
    "X_test = Array{T}(X_test - minimum(X_test))/(maximum(X_test) - minimum(X_test)) \n",
    "y_test = Array{Int64}(y_test);"
   ]
  },
  {
   "cell_type": "code",
   "execution_count": 4,
   "metadata": {
    "collapsed": false
   },
   "outputs": [
    {
     "name": "stdout",
     "output_type": "stream",
     "text": [
      "Accuracy epoch 1 is :0.5963333333333334\n",
      "Accuracy epoch 1 is :0.7000333333333333\n",
      "Accuracy epoch 1 is :0.7464833333333334\n",
      "Accuracy epoch 1 is :0.7728833333333334\n",
      "Accuracy epoch 1 is :0.7902666666666667\n",
      "Accuracy epoch 1 is :0.8026\n",
      "Accuracy epoch 1 is :0.8109666666666666\n",
      "Accuracy epoch 1 is :0.8182166666666667\n",
      "Accuracy epoch 1 is :0.8245666666666667\n",
      "Accuracy epoch 1 is :0.8294666666666667\n",
      "Accuracy epoch 1 is :0.83345\n",
      "Accuracy epoch 1 is :0.83745\n",
      "Accuracy epoch 1 is :0.8409833333333333\n"
     ]
    },
    {
     "data": {
      "text/plain": [
       "BenchmarkTools.Trial: \n",
       "  memory estimate:  1.14 GiB\n",
       "  allocs estimate:  1570957\n",
       "  --------------\n",
       "  minimum time:     1.205 s (4.59% GC)\n",
       "  median time:      1.222 s (4.55% GC)\n",
       "  mean time:        1.220 s (4.55% GC)\n",
       "  maximum time:     1.234 s (4.51% GC)\n",
       "  --------------\n",
       "  samples:          5\n",
       "  evals/sample:     1"
      ]
     },
     "execution_count": 4,
     "metadata": {},
     "output_type": "execute_result"
    }
   ],
   "source": [
    "@benchmark MulticlassPerceptron.fit!(percep1, X_train, y_train, 1, 0.0001)"
   ]
  },
  {
   "cell_type": "markdown",
   "metadata": {},
   "source": [
    "#### MulticlassPerceptron2\n",
    "\n",
    "Using views instead of copying examples"
   ]
  },
  {
   "cell_type": "code",
   "execution_count": 5,
   "metadata": {
    "collapsed": false
   },
   "outputs": [
    {
     "name": "stdout",
     "output_type": "stream",
     "text": [
      "Accuracy epoch 1 is :0.5922666666666667\n",
      "Accuracy epoch 1 is :0.7046\n",
      "Accuracy epoch 1 is :0.7517666666666667\n",
      "Accuracy epoch 1 is :0.7779333333333334\n",
      "Accuracy epoch 1 is :0.7943833333333333\n",
      "Accuracy epoch 1 is :0.80725\n",
      "Accuracy epoch 1 is :0.8167333333333333\n",
      "Accuracy epoch 1 is :0.8230666666666666\n"
     ]
    }
   ],
   "source": [
    "@benchmark MulticlassPerceptron2.fit!(percep2, X_train, y_train, 1, 0.0001)"
   ]
  },
  {
   "cell_type": "markdown",
   "metadata": {},
   "source": [
    "#### MulticlassPerceptron3"
   ]
  },
  {
   "cell_type": "code",
   "execution_count": 6,
   "metadata": {
    "collapsed": false,
    "scrolled": true
   },
   "outputs": [
    {
     "name": "stdout",
     "output_type": "stream",
     "text": [
      "Accuracy epoch 1 is :0.5949666666666666\n",
      "Accuracy epoch 1 is :0.69945\n",
      "Accuracy epoch 1 is :0.7458333333333333\n",
      "Accuracy epoch 1 is :0.7711666666666667\n",
      "Accuracy epoch 1 is :0.78785\n",
      "Accuracy epoch 1 is :0.8005166666666667\n",
      "Accuracy epoch 1 is :0.81045\n",
      "Accuracy epoch 1 is :0.8175666666666667\n",
      "Accuracy epoch 1 is :0.8235833333333333\n",
      "Accuracy epoch 1 is :0.829\n",
      "Accuracy epoch 1 is :0.8336166666666667\n",
      "Accuracy epoch 1 is :0.8372166666666667\n"
     ]
    },
    {
     "data": {
      "text/plain": [
       "BenchmarkTools.Trial: \n",
       "  memory estimate:  336.40 MiB\n",
       "  allocs estimate:  618008\n",
       "  --------------\n",
       "  minimum time:     1.289 s (1.27% GC)\n",
       "  median time:      1.304 s (1.35% GC)\n",
       "  mean time:        1.328 s (1.36% GC)\n",
       "  maximum time:     1.414 s (1.48% GC)\n",
       "  --------------\n",
       "  samples:          4\n",
       "  evals/sample:     1"
      ]
     },
     "execution_count": 6,
     "metadata": {},
     "output_type": "execute_result"
    }
   ],
   "source": [
    "@benchmark MulticlassPerceptron3.fit!(percep3, X_train, y_train, 1, 0.0001)"
   ]
  },
  {
   "cell_type": "markdown",
   "metadata": {
    "collapsed": true
   },
   "source": [
    "#### MulticlassPerceptron4\n",
    "\n",
    "- prediction vector prealocated before\n",
    "- using inbounds"
   ]
  },
  {
   "cell_type": "code",
   "execution_count": 7,
   "metadata": {
    "collapsed": false,
    "scrolled": true
   },
   "outputs": [
    {
     "name": "stdout",
     "output_type": "stream",
     "text": [
      "Accuracy epoch 1 is :0.5737666666666666\n",
      "Accuracy epoch 1 is :0.6881166666666667\n",
      "Accuracy epoch 1 is :0.73875\n",
      "Accuracy epoch 1 is :0.7671666666666667\n",
      "Accuracy epoch 1 is :0.78695\n",
      "Accuracy epoch 1 is :0.7999166666666667\n",
      "Accuracy epoch 1 is :0.8097\n",
      "Accuracy epoch 1 is :0.8182333333333334\n",
      "Accuracy epoch 1 is :0.82535\n",
      "Accuracy epoch 1 is :0.8311166666666666\n",
      "Accuracy epoch 1 is :0.8355166666666667\n",
      "Accuracy epoch 1 is :0.8393666666666667\n"
     ]
    },
    {
     "data": {
      "text/plain": [
       "BenchmarkTools.Trial: \n",
       "  memory estimate:  331.46 MiB\n",
       "  allocs estimate:  673557\n",
       "  --------------\n",
       "  minimum time:     1.282 s (1.25% GC)\n",
       "  median time:      1.313 s (1.35% GC)\n",
       "  mean time:        1.325 s (1.33% GC)\n",
       "  maximum time:     1.392 s (1.38% GC)\n",
       "  --------------\n",
       "  samples:          4\n",
       "  evals/sample:     1"
      ]
     },
     "execution_count": 7,
     "metadata": {},
     "output_type": "execute_result"
    }
   ],
   "source": [
    "@benchmark MulticlassPerceptron4.fit!(percep4, X_train, y_train, 1, 0.0001)"
   ]
  },
  {
   "cell_type": "markdown",
   "metadata": {},
   "source": [
    "#### MulticlassPerceptron5\n",
    "\n",
    "- prediction vector prealocated before\n",
    "- using inbounds\n",
    "- copying the current datapoint x = X[:,m] at every update"
   ]
  },
  {
   "cell_type": "code",
   "execution_count": 8,
   "metadata": {
    "collapsed": false
   },
   "outputs": [
    {
     "name": "stdout",
     "output_type": "stream",
     "text": [
      "Accuracy epoch 1 is :0.5880333333333333\n",
      "Accuracy epoch 1 is :0.69735\n",
      "Accuracy epoch 1 is :0.7452166666666666\n",
      "Accuracy epoch 1 is :0.7722833333333333\n",
      "Accuracy epoch 1 is :0.7909333333333334\n",
      "Accuracy epoch 1 is :0.80435\n",
      "Accuracy epoch 1 is :0.8136333333333333\n",
      "Accuracy epoch 1 is :0.8217333333333333\n",
      "Accuracy epoch 1 is :0.8279\n",
      "Accuracy epoch 1 is :0.83275\n",
      "Accuracy epoch 1 is :0.83695\n",
      "Accuracy epoch 1 is :0.8400166666666666\n",
      "Accuracy epoch 1 is :0.84305\n"
     ]
    },
    {
     "data": {
      "text/plain": [
       "BenchmarkTools.Trial: \n",
       "  memory estimate:  566.03 MiB\n",
       "  allocs estimate:  726988\n",
       "  --------------\n",
       "  minimum time:     1.019 s (2.87% GC)\n",
       "  median time:      1.025 s (2.90% GC)\n",
       "  mean time:        1.027 s (2.91% GC)\n",
       "  maximum time:     1.039 s (3.00% GC)\n",
       "  --------------\n",
       "  samples:          5\n",
       "  evals/sample:     1"
      ]
     },
     "execution_count": 8,
     "metadata": {},
     "output_type": "execute_result"
    }
   ],
   "source": [
    "@benchmark MulticlassPerceptron5.fit!(percep5, X_train, y_train, 1, 0.0001)"
   ]
  },
  {
   "cell_type": "code",
   "execution_count": 9,
   "metadata": {
    "collapsed": false
   },
   "outputs": [],
   "source": [
    "#Profile.clear()\n",
    "#@profile MulticlassPerceptron5.fit!(percep5, X_train, y_train, 1, 0.0001)"
   ]
  },
  {
   "cell_type": "code",
   "execution_count": 10,
   "metadata": {
    "collapsed": false
   },
   "outputs": [],
   "source": [
    "#using ProfileView\n",
    "#ProfileView.view()"
   ]
  },
  {
   "cell_type": "code",
   "execution_count": 11,
   "metadata": {
    "collapsed": false
   },
   "outputs": [],
   "source": [
    "#a = zeros(Float32,10)\n",
    "\n",
    "#MulticlassPerceptron5.predict(percep5, X_train[:,3],a)"
   ]
  },
  {
   "cell_type": "code",
   "execution_count": 12,
   "metadata": {
    "collapsed": false
   },
   "outputs": [],
   "source": [
    "#@benchmark MulticlassPerceptron5.predict(percep5, X_train[:,3],a)"
   ]
  },
  {
   "cell_type": "code",
   "execution_count": null,
   "metadata": {
    "collapsed": true
   },
   "outputs": [],
   "source": [
    "function predict(h::MPerceptron, x, placeholder)\n",
    "    placeholder .= A_mul_B!(placeholder, h.W, x) .+ h.b\n",
    "    return indmax(placeholder)\n",
    "end"
   ]
  },
  {
   "cell_type": "code",
   "execution_count": 49,
   "metadata": {
    "collapsed": true
   },
   "outputs": [],
   "source": [
    "#BLAS.gemm('N','N', 1., percep5.W, Array{Float64}(X_train[:,1]))"
   ]
  },
  {
   "cell_type": "markdown",
   "metadata": {},
   "source": [
    "#### Multiclass perceptron6"
   ]
  },
  {
   "cell_type": "code",
   "execution_count": 5,
   "metadata": {
    "collapsed": false
   },
   "outputs": [
    {
     "data": {
      "text/plain": [
       "Array{Float32,2}"
      ]
     },
     "execution_count": 5,
     "metadata": {},
     "output_type": "execute_result"
    }
   ],
   "source": [
    "typeof(X_train)"
   ]
  },
  {
   "cell_type": "code",
   "execution_count": 4,
   "metadata": {
    "collapsed": false
   },
   "outputs": [
    {
     "ename": "LoadError",
     "evalue": "MethodError: Cannot `convert` an object of type Float64 to an object of type Array{Float32,2}\nThis may have arisen from a call to the constructor Array{Float32,2}(...),\nsince type constructors fall back to convert methods.",
     "output_type": "error",
     "traceback": [
      "MethodError: Cannot `convert` an object of type Float64 to an object of type Array{Float32,2}\nThis may have arisen from a call to the constructor Array{Float32,2}(...),\nsince type constructors fall back to convert methods.",
      "",
      " in copy!(::Base.LinearFast, ::Array{Array{Float32,2},1}, ::Base.LinearFast, ::Array{Float64,1}) at ./abstractarray.jl:559",
      " in convert(::Type{Array{Array{Float32,2},N}}, ::Array{Float64,1}) at ./array.jl:235",
      " in fit!(::MulticlassPerceptron6.MPerceptron{Float64}, ::Array{Float32,2}, ::Array{Int64,1}, ::Int64, ::Float64) at /Users/macpro/Documents/git_stuff/learn_julia/MulticlassPerceptron/source/MulticlassPerceptron6.jl:48",
      " in ##core#287() at /Users/macpro/.julia/v0.5/BenchmarkTools/src/execution.jl:283",
      " in ##sample#288(::BenchmarkTools.Parameters) at /Users/macpro/.julia/v0.5/BenchmarkTools/src/execution.jl:289",
      " in #_run#1(::Bool, ::String, ::Array{Any,1}, ::Function, ::BenchmarkTools.Benchmark{Symbol(\"##benchmark#286\")}, ::BenchmarkTools.Parameters) at /Users/macpro/.julia/v0.5/BenchmarkTools/src/execution.jl:317",
      " in (::BenchmarkTools.#kw##_run)(::Array{Any,1}, ::BenchmarkTools.#_run, ::BenchmarkTools.Benchmark{Symbol(\"##benchmark#286\")}, ::BenchmarkTools.Parameters) at ./<missing>:0",
      " in anonymous at ./<missing>:?",
      " in #run_result#16(::Array{Any,1}, ::Function, ::BenchmarkTools.Benchmark{Symbol(\"##benchmark#286\")}, ::BenchmarkTools.Parameters) at /Users/macpro/.julia/v0.5/BenchmarkTools/src/execution.jl:33",
      " in (::BenchmarkTools.#kw##run_result)(::Array{Any,1}, ::BenchmarkTools.#run_result, ::BenchmarkTools.Benchmark{Symbol(\"##benchmark#286\")}, ::BenchmarkTools.Parameters) at ./<missing>:0",
      " in #run#17(::Array{Any,1}, ::Function, ::BenchmarkTools.Benchmark{Symbol(\"##benchmark#286\")}, ::BenchmarkTools.Parameters) at /Users/macpro/.julia/v0.5/BenchmarkTools/src/execution.jl:36",
      " in (::Base.#kw##run)(::Array{Any,1}, ::Base.#run, ::BenchmarkTools.Benchmark{Symbol(\"##benchmark#286\")}, ::BenchmarkTools.Parameters) at ./<missing>:0",
      " in warmup(::BenchmarkTools.Benchmark{Symbol(\"##benchmark#286\")}) at /Users/macpro/.julia/v0.5/BenchmarkTools/src/execution.jl:71"
     ]
    }
   ],
   "source": [
    "@benchmark MulticlassPerceptron6.fit!(percep6, X_train, y_train, 1, 0.0001)"
   ]
  },
  {
   "cell_type": "code",
   "execution_count": null,
   "metadata": {
    "collapsed": true
   },
   "outputs": [],
   "source": [
    "typeof(X_train[:,1])"
   ]
  },
  {
   "cell_type": "code",
   "execution_count": null,
   "metadata": {
    "collapsed": true
   },
   "outputs": [],
   "source": [
    "typeof(zeros(Float32, percep6.n_features))"
   ]
  },
  {
   "cell_type": "code",
   "execution_count": null,
   "metadata": {
    "collapsed": true
   },
   "outputs": [],
   "source": []
  }
 ],
 "metadata": {
  "anaconda-cloud": {},
  "kernelspec": {
   "display_name": "Julia 0.5.0",
   "language": "julia",
   "name": "julia-0.5"
  },
  "language_info": {
   "file_extension": ".jl",
   "mimetype": "application/julia",
   "name": "julia",
   "version": "0.6.0"
  }
 },
 "nbformat": 4,
 "nbformat_minor": 1
}
