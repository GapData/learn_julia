{
 "cells": [
  {
   "cell_type": "markdown",
   "metadata": {},
   "source": [
    "## Benchmarking Perceptron"
   ]
  },
  {
   "cell_type": "code",
   "execution_count": 23,
   "metadata": {
    "collapsed": false
   },
   "outputs": [
    {
     "data": {
      "text/plain": [
       "Float32"
      ]
     },
     "execution_count": 23,
     "metadata": {},
     "output_type": "execute_result"
    }
   ],
   "source": [
    "using MNIST\n",
    "using BenchmarkTools\n",
    "\n",
    "source_path = join(push!(split(pwd(),\"/\")[1:end-1],\"source/\" ),\"/\")\n",
    "\n",
    "if !contains(==,LOAD_PATH, source_path) \n",
    "    push!(LOAD_PATH, source_path)\n",
    "end\n",
    "\n",
    "using MulticlassPerceptron5\n",
    "using MulticlassPerceptron4\n",
    "using MulticlassPerceptron3\n",
    "using MulticlassPerceptron2\n",
    "using MulticlassPerceptron\n",
    "\n",
    "percep1 = MulticlassPerceptron.MPerceptron(10,784)\n",
    "percep2 = MulticlassPerceptron2.MPerceptron(10,784)\n",
    "percep3 = MulticlassPerceptron3.MPerceptron(10,784)\n",
    "percep4 = MulticlassPerceptron4.MPerceptron(10,784)\n",
    "percep5 = MulticlassPerceptron5.MPerceptron(10,784)\n",
    "\n",
    "n_classes = 10\n",
    "n_features = 784\n",
    "T = Float32\n",
    "\n",
    "#percep1 = MulticlassPerceptron.MPerceptron{T}(rand(T, n_classes,n_features), zeros(T, n_classes), n_classes, n_features)\n",
    "#percep2 = MulticlassPerceptron2.MPerceptron{T}(rand(T, n_classes,n_features), zeros(T, n_classes), n_classes, n_features)\n",
    "#percep3 = MulticlassPerceptron3.MPerceptron{T}(rand(T, n_classes,n_features), zeros(T, n_classes), n_classes, n_features)\n",
    "#percep4 = MulticlassPerceptron4.MPerceptron{T}(rand(T, n_classes,n_features), zeros(T, n_classes), n_classes, n_features)\n",
    "#percep5 = MulticlassPerceptron5.MPerceptron{T}(rand(T, n_classes,n_features), zeros(T, n_classes), n_classes, n_features)"
   ]
  },
  {
   "cell_type": "code",
   "execution_count": 24,
   "metadata": {
    "collapsed": false
   },
   "outputs": [],
   "source": [
    "X_train, y_train = MNIST.traindata();\n",
    "X_test, y_test = MNIST.testdata();\n",
    "y_train = y_train + 1\n",
    "y_test = y_test + 1;"
   ]
  },
  {
   "cell_type": "code",
   "execution_count": 25,
   "metadata": {
    "collapsed": true
   },
   "outputs": [],
   "source": [
    "T = Float32\n",
    "X_train = Array{T}((X_train - minimum(X_train))/(maximum(X_train) - minimum(X_train)))\n",
    "y_train = Array{Int64}(y_train)\n",
    "X_test = Array{T}(X_test - minimum(X_test))/(maximum(X_test) - minimum(X_test)) \n",
    "y_test = Array{Int64}(y_test);"
   ]
  },
  {
   "cell_type": "code",
   "execution_count": 26,
   "metadata": {
    "collapsed": false
   },
   "outputs": [
    {
     "name": "stdout",
     "output_type": "stream",
     "text": [
      "Accuracy epoch 1 is :0.5708333333333333\n",
      "Accuracy epoch 1 is :0.6910666666666667\n",
      "Accuracy epoch 1 is :0.7422666666666666\n",
      "Accuracy epoch 1 is :0.77175\n",
      "Accuracy epoch 1 is :0.7904833333333333\n",
      "Accuracy epoch 1 is :0.8041166666666667\n",
      "Accuracy epoch 1 is :0.8132833333333334\n",
      "Accuracy epoch 1 is :0.8207833333333333\n",
      "Accuracy epoch 1 is :0.8269166666666666\n",
      "Accuracy epoch 1 is :0.83175\n",
      "Accuracy epoch 1 is :0.83565\n",
      "Accuracy epoch 1 is :0.8390333333333333\n",
      "Accuracy epoch 1 is :0.8416833333333333\n"
     ]
    },
    {
     "data": {
      "text/plain": [
       "BenchmarkTools.Trial: \n",
       "  memory estimate:  1.14 GiB\n",
       "  allocs estimate:  1569271\n",
       "  --------------\n",
       "  minimum time:     1.176 s (4.99% GC)\n",
       "  median time:      1.203 s (4.88% GC)\n",
       "  mean time:        1.206 s (4.95% GC)\n",
       "  maximum time:     1.244 s (4.98% GC)\n",
       "  --------------\n",
       "  samples:          5\n",
       "  evals/sample:     1"
      ]
     },
     "execution_count": 26,
     "metadata": {},
     "output_type": "execute_result"
    }
   ],
   "source": [
    "@benchmark MulticlassPerceptron.fit!(percep1, X_train, y_train, 1, 0.0001)"
   ]
  },
  {
   "cell_type": "markdown",
   "metadata": {},
   "source": [
    "#### MulticlassPerceptron2\n",
    "\n",
    "Using views instead of copying examples"
   ]
  },
  {
   "cell_type": "code",
   "execution_count": null,
   "metadata": {
    "collapsed": false
   },
   "outputs": [],
   "source": [
    "@benchmark MulticlassPerceptron2.fit!(percep2, X_train, y_train, 1, 0.0001)"
   ]
  },
  {
   "cell_type": "markdown",
   "metadata": {},
   "source": [
    "#### MulticlassPerceptron3"
   ]
  },
  {
   "cell_type": "code",
   "execution_count": null,
   "metadata": {
    "collapsed": false,
    "scrolled": true
   },
   "outputs": [],
   "source": [
    "@benchmark MulticlassPerceptron3.fit!(percep3, X_train, y_train, 1, 0.0001)"
   ]
  },
  {
   "cell_type": "markdown",
   "metadata": {
    "collapsed": true
   },
   "source": [
    "#### MulticlassPerceptron4\n",
    "\n",
    "- prediction vector prealocated before\n",
    "- using inbounds"
   ]
  },
  {
   "cell_type": "code",
   "execution_count": null,
   "metadata": {
    "collapsed": false
   },
   "outputs": [],
   "source": [
    "@benchmark MulticlassPerceptron4.fit!(percep4, X_train, y_train, 1, 0.0001)"
   ]
  },
  {
   "cell_type": "code",
   "execution_count": null,
   "metadata": {
    "collapsed": false
   },
   "outputs": [],
   "source": [
    "@time MulticlassPerceptron4.accuracy(rand(10^4),rand(10^4))"
   ]
  },
  {
   "cell_type": "markdown",
   "metadata": {},
   "source": [
    "#### MulticlassPerceptron4\n",
    "\n",
    "- prediction vector prealocated before\n",
    "- using inbounds"
   ]
  },
  {
   "cell_type": "code",
   "execution_count": null,
   "metadata": {
    "collapsed": false
   },
   "outputs": [],
   "source": [
    "@benchmark MulticlassPerceptron5.fit!(percep5, X_train, y_train, 1, 0.0001)"
   ]
  },
  {
   "cell_type": "code",
   "execution_count": null,
   "metadata": {
    "collapsed": true
   },
   "outputs": [],
   "source": []
  },
  {
   "cell_type": "code",
   "execution_count": null,
   "metadata": {
    "collapsed": true
   },
   "outputs": [],
   "source": []
  },
  {
   "cell_type": "markdown",
   "metadata": {},
   "source": [
    "#### simd insane stuff"
   ]
  },
  {
   "cell_type": "code",
   "execution_count": null,
   "metadata": {
    "collapsed": false
   },
   "outputs": [],
   "source": [
    "function suma(n)\n",
    "    aux = 0\n",
    "    @simd for i in 1:n\n",
    "        aux +=i\n",
    "    end\n",
    "    return aux\n",
    "end"
   ]
  },
  {
   "cell_type": "code",
   "execution_count": null,
   "metadata": {
    "collapsed": false
   },
   "outputs": [],
   "source": [
    "@macroexpand  @simd for i in 1:n\n",
    "        aux +=i\n",
    "    end"
   ]
  },
  {
   "cell_type": "code",
   "execution_count": null,
   "metadata": {
    "collapsed": true
   },
   "outputs": [],
   "source": []
  }
 ],
 "metadata": {
  "kernelspec": {
   "display_name": "Julia 0.6.0-dev",
   "language": "julia",
   "name": "julia-0.6"
  },
  "language_info": {
   "file_extension": ".jl",
   "mimetype": "application/julia",
   "name": "julia",
   "version": "0.6.0"
  }
 },
 "nbformat": 4,
 "nbformat_minor": 0
}
