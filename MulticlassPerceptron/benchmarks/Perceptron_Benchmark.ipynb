{
 "cells": [
  {
   "cell_type": "markdown",
   "metadata": {},
   "source": [
    "## Benchmarking Perceptron\n",
    "\n",
    "\n",
    "#### About profiling julia code\n",
    "\n",
    "- https://thirld.com/blog/2015/05/30/julia-profiling-cheat-sheet/"
   ]
  },
  {
   "cell_type": "code",
   "execution_count": 1,
   "metadata": {
    "collapsed": false
   },
   "outputs": [
    {
     "name": "stdout",
     "output_type": "stream",
     "text": [
      "Julia Version 0.6.0-dev.1393\n",
      "Commit e19a8bf (2016-12-09 01:03 UTC)\n",
      "Platform Info:\n",
      "  OS: Linux (x86_64-linux-gnu)\n",
      "  CPU: Intel(R) Core(TM) i7-4600U CPU @ 2.10GHz\n",
      "  WORD_SIZE: 64\n",
      "  BLAS: libopenblas (NO_LAPACKE DYNAMIC_ARCH NO_AFFINITY Haswell)\n",
      "  LAPACK: liblapack.so.3\n",
      "  LIBM: libopenlibm\n",
      "  LLVM: libLLVM-3.7.1 (ORCJIT, haswell)\n"
     ]
    }
   ],
   "source": [
    "versioninfo()"
   ]
  },
  {
   "cell_type": "code",
   "execution_count": 2,
   "metadata": {
    "collapsed": false
   },
   "outputs": [
    {
     "ename": "LoadError",
     "evalue": "UndefVarError: MulticlassPerceptron7 not defined",
     "output_type": "error",
     "traceback": [
      "UndefVarError: MulticlassPerceptron7 not defined",
      ""
     ]
    }
   ],
   "source": [
    "using MNIST\n",
    "using BenchmarkTools\n",
    "\n",
    "source_path = join(push!(split(pwd(),\"/\")[1:end-1],\"source/\" ),\"/\")\n",
    "\n",
    "if !contains(==,LOAD_PATH, source_path) \n",
    "    push!(LOAD_PATH, source_path)\n",
    "end\n",
    "\n",
    "using MulticlassPerceptron6\n",
    "using MulticlassPerceptron5\n",
    "using MulticlassPerceptron4\n",
    "using MulticlassPerceptron3\n",
    "using MulticlassPerceptron2\n",
    "using MulticlassPerceptron\n",
    "\n",
    "percep1 = MulticlassPerceptron.MPerceptron(10,784)\n",
    "percep2 = MulticlassPerceptron2.MPerceptron(10,784)\n",
    "percep3 = MulticlassPerceptron3.MPerceptron(10,784)\n",
    "percep4 = MulticlassPerceptron4.MPerceptron(10,784)\n",
    "percep5 = MulticlassPerceptron5.MPerceptron(10,784)\n",
    "percep6 = MulticlassPerceptron6.MPerceptron(10,784)\n",
    "percep7 = MulticlassPerceptron7.MPerceptron(10,784)\n",
    "\n",
    "\n",
    "n_classes = 10\n",
    "n_features = 784\n",
    "T = Float32\n",
    "\n",
    "#percep1 = MulticlassPerceptron.MPerceptron{T}(rand(T, n_classes,n_features), zeros(T, n_classes), n_classes, n_features)\n",
    "#percep2 = MulticlassPerceptron2.MPerceptron{T}(rand(T, n_classes,n_features), zeros(T, n_classes), n_classes, n_features)\n",
    "#percep3 = MulticlassPerceptron3.MPerceptron{T}(rand(T, n_classes,n_features), zeros(T, n_classes), n_classes, n_features)\n",
    "#percep4 = MulticlassPerceptron4.MPerceptron{T}(rand(T, n_classes,n_features), zeros(T, n_classes), n_classes, n_features)\n",
    "#percep5 = MulticlassPerceptron5.MPerceptron{T}(rand(T, n_classes,n_features), zeros(T, n_classes), n_classes, n_features)"
   ]
  },
  {
   "cell_type": "code",
   "execution_count": 3,
   "metadata": {
    "collapsed": true
   },
   "outputs": [],
   "source": [
    "X_train, y_train = MNIST.traindata();\n",
    "X_test, y_test = MNIST.testdata();\n",
    "y_train = y_train + 1\n",
    "y_test = y_test + 1;"
   ]
  },
  {
   "cell_type": "code",
   "execution_count": 4,
   "metadata": {
    "collapsed": true
   },
   "outputs": [],
   "source": [
    "T = Float32\n",
    "X_train = Array{T}((X_train - minimum(X_train))/(maximum(X_train) - minimum(X_train)))\n",
    "y_train = Array{Int64}(y_train)\n",
    "X_test = Array{T}(X_test - minimum(X_test))/(maximum(X_test) - minimum(X_test)) \n",
    "y_test = Array{Int64}(y_test);"
   ]
  },
  {
   "cell_type": "code",
   "execution_count": 5,
   "metadata": {
    "collapsed": false
   },
   "outputs": [
    {
     "name": "stdout",
     "output_type": "stream",
     "text": [
      "Accuracy epoch 1 is :0.60505\n",
      "Accuracy epoch 1 is :0.7095333333333333\n",
      "Accuracy epoch 1 is :0.7543\n",
      "Accuracy epoch 1 is :0.7789666666666667\n",
      "Accuracy epoch 1 is :0.7960833333333334\n",
      "Accuracy epoch 1 is :0.8069333333333333\n",
      "Accuracy epoch 1 is :0.81635\n",
      "Accuracy epoch 1 is :0.8232166666666667\n",
      "Accuracy epoch 1 is :0.8288166666666666\n",
      "Accuracy epoch 1 is :0.8338666666666666\n",
      "Accuracy epoch 1 is :0.8378833333333333\n",
      "Accuracy epoch 1 is :0.84175\n",
      "Accuracy epoch 1 is :0.8445666666666667\n"
     ]
    },
    {
     "data": {
      "text/plain": [
       "BenchmarkTools.Trial: \n",
       "  memory estimate:  1.13 GiB\n",
       "  allocs estimate:  1564619\n",
       "  --------------\n",
       "  minimum time:     1.168 s (4.80% GC)\n",
       "  median time:      1.192 s (4.91% GC)\n",
       "  mean time:        1.221 s (4.79% GC)\n",
       "  maximum time:     1.317 s (4.72% GC)\n",
       "  --------------\n",
       "  samples:          5\n",
       "  evals/sample:     1"
      ]
     },
     "execution_count": 5,
     "metadata": {},
     "output_type": "execute_result"
    }
   ],
   "source": [
    "@benchmark MulticlassPerceptron.fit!(percep1, X_train, y_train, 1, 0.0001)"
   ]
  },
  {
   "cell_type": "markdown",
   "metadata": {},
   "source": [
    "#### MulticlassPerceptron2\n",
    "\n",
    "Using views instead of copying examples"
   ]
  },
  {
   "cell_type": "code",
   "execution_count": 6,
   "metadata": {
    "collapsed": false
   },
   "outputs": [
    {
     "name": "stdout",
     "output_type": "stream",
     "text": [
      "Accuracy epoch 1 is :0.56985\n",
      "Accuracy epoch 1 is :0.6920833333333334\n",
      "Accuracy epoch 1 is :0.74235\n",
      "Accuracy epoch 1 is :0.7710333333333333\n",
      "Accuracy epoch 1 is :0.7885666666666666\n",
      "Accuracy epoch 1 is :0.8020166666666667\n",
      "Accuracy epoch 1 is :0.8117666666666666\n",
      "Accuracy epoch 1 is :0.8190666666666667\n",
      "Accuracy epoch 1 is :0.8251833333333334\n"
     ]
    },
    {
     "data": {
      "text/plain": [
       "BenchmarkTools.Trial: \n",
       "  memory estimate:  1.14 GiB\n",
       "  allocs estimate:  2401680\n",
       "  --------------\n",
       "  minimum time:     1.588 s (3.78% GC)\n",
       "  median time:      1.599 s (3.79% GC)\n",
       "  mean time:        1.611 s (3.75% GC)\n",
       "  maximum time:     1.658 s (3.70% GC)\n",
       "  --------------\n",
       "  samples:          4\n",
       "  evals/sample:     1"
      ]
     },
     "execution_count": 6,
     "metadata": {},
     "output_type": "execute_result"
    }
   ],
   "source": [
    "@benchmark MulticlassPerceptron2.fit!(percep2, X_train, y_train, 1, 0.0001)"
   ]
  },
  {
   "cell_type": "markdown",
   "metadata": {},
   "source": [
    "#### MulticlassPerceptron3\n",
    "\n",
    "- using inbounds\n",
    "- using views"
   ]
  },
  {
   "cell_type": "code",
   "execution_count": 7,
   "metadata": {
    "collapsed": false,
    "scrolled": true
   },
   "outputs": [
    {
     "name": "stdout",
     "output_type": "stream",
     "text": [
      "Accuracy epoch 1 is :0.5972666666666666\n",
      "Accuracy epoch 1 is :0.7052\n",
      "Accuracy epoch 1 is :0.74975\n",
      "Accuracy epoch 1 is :0.7757666666666667\n",
      "Accuracy epoch 1 is :0.7936666666666666\n",
      "Accuracy epoch 1 is :0.8056166666666666\n",
      "Accuracy epoch 1 is :0.8147\n",
      "Accuracy epoch 1 is :0.8214333333333333\n",
      "Accuracy epoch 1 is :0.82745\n",
      "Accuracy epoch 1 is :0.8326333333333333\n",
      "Accuracy epoch 1 is :0.8377833333333333\n",
      "Accuracy epoch 1 is :0.8416166666666667\n"
     ]
    }
   ],
   "source": [
    "@benchmark MulticlassPerceptron3.fit!(percep3, X_train, y_train, 1, 0.0001)"
   ]
  },
  {
   "cell_type": "markdown",
   "metadata": {
    "collapsed": true
   },
   "source": [
    "#### MulticlassPerceptron4\n",
    "\n",
    "- using inbounds\n",
    "- using views\n",
    "- prediction vector prealocated before\n"
   ]
  },
  {
   "cell_type": "code",
   "execution_count": 17,
   "metadata": {
    "collapsed": false,
    "scrolled": true
   },
   "outputs": [
    {
     "name": "stdout",
     "output_type": "stream",
     "text": [
      "Accuracy epoch 1 is :0.8329166666666666\n",
      "Accuracy epoch 1 is :0.8372\n",
      "Accuracy epoch 1 is :0.84125\n",
      "Accuracy epoch 1 is :0.8443833333333334\n",
      "Accuracy epoch 1 is :0.8470833333333333\n",
      "Accuracy epoch 1 is :0.8498333333333333\n",
      "Accuracy epoch 1 is :0.8516\n",
      "Accuracy epoch 1 is :0.8533166666666666\n",
      "Accuracy epoch 1 is :0.8549666666666667\n",
      "Accuracy epoch 1 is :0.8562333333333333\n",
      "Accuracy epoch 1 is :0.8581\n",
      "Accuracy epoch 1 is :0.85955\n"
     ]
    },
    {
     "data": {
      "text/plain": [
       "BenchmarkTools.Trial: \n",
       "  memory estimate:  292.13 MiB\n",
       "  allocs estimate:  640634\n",
       "  --------------\n",
       "  minimum time:     1.241 s (1.34% GC)\n",
       "  median time:      1.269 s (1.26% GC)\n",
       "  mean time:        1.265 s (1.25% GC)\n",
       "  maximum time:     1.282 s (1.34% GC)\n",
       "  --------------\n",
       "  samples:          4\n",
       "  evals/sample:     1"
      ]
     },
     "execution_count": 17,
     "metadata": {},
     "output_type": "execute_result"
    }
   ],
   "source": [
    "@benchmark MulticlassPerceptron4.fit!(percep4, X_train, y_train, 1, 0.0001)"
   ]
  },
  {
   "cell_type": "markdown",
   "metadata": {},
   "source": [
    "#### MulticlassPerceptron5\n",
    "\n",
    "- prediction vector prealocated before\n",
    "- using inbounds\n",
    "- copying the current datapoint x = X[:,m] at every update\n",
    "- No inplace ops:  \n",
    "    ```h.W[y_tr[m], :] .+= learning_rate * x```"
   ]
  },
  {
   "cell_type": "code",
   "execution_count": 9,
   "metadata": {
    "collapsed": false
   },
   "outputs": [
    {
     "name": "stdout",
     "output_type": "stream",
     "text": [
      "Accuracy epoch 1 is :0.5732833333333334\n",
      "Accuracy epoch 1 is :0.69575\n",
      "Accuracy epoch 1 is :0.7459\n",
      "Accuracy epoch 1 is :0.7753333333333333\n",
      "Accuracy epoch 1 is :0.79355\n",
      "Accuracy epoch 1 is :0.8054166666666667\n",
      "Accuracy epoch 1 is :0.8145833333333333\n",
      "Accuracy epoch 1 is :0.82185\n",
      "Accuracy epoch 1 is :0.8276\n",
      "Accuracy epoch 1 is :0.8329666666666666\n",
      "Accuracy epoch 1 is :0.83735\n",
      "Accuracy epoch 1 is :0.8408833333333333\n",
      "Accuracy epoch 1 is :0.84395\n"
     ]
    },
    {
     "data": {
      "text/plain": [
       "BenchmarkTools.Trial: \n",
       "  memory estimate:  564.62 MiB\n",
       "  allocs estimate:  725995\n",
       "  --------------\n",
       "  minimum time:     995.571 ms (2.98% GC)\n",
       "  median time:      1.013 s (2.99% GC)\n",
       "  mean time:        1.010 s (2.96% GC)\n",
       "  maximum time:     1.019 s (3.02% GC)\n",
       "  --------------\n",
       "  samples:          5\n",
       "  evals/sample:     1"
      ]
     },
     "execution_count": 9,
     "metadata": {},
     "output_type": "execute_result"
    }
   ],
   "source": [
    "@benchmark MulticlassPerceptron5.fit!(percep5, X_train, y_train, 1, 0.0001)"
   ]
  },
  {
   "cell_type": "markdown",
   "metadata": {},
   "source": [
    "#### MulticlassPerceptron6\n",
    "\n",
    "- prediction vector prealocated before\n",
    "- using inbounds\n",
    "- copying the current datapoint x = X[:,m] at every update\n",
    "- Inplace operations:\n",
    "    ```h.W[y_tr[m], :] .+= learning_rate .* x```\n"
   ]
  },
  {
   "cell_type": "code",
   "execution_count": 10,
   "metadata": {
    "collapsed": false
   },
   "outputs": [
    {
     "name": "stdout",
     "output_type": "stream",
     "text": [
      "Accuracy epoch 1 is :0.60495\n",
      "Accuracy epoch 1 is :0.7119\n",
      "Accuracy epoch 1 is :0.7554833333333333\n",
      "Accuracy epoch 1 is :0.7805166666666666\n",
      "Accuracy epoch 1 is :0.7963166666666667\n",
      "Accuracy epoch 1 is :0.8081\n",
      "Accuracy epoch 1 is :0.8172166666666667\n",
      "Accuracy epoch 1 is :0.824\n",
      "Accuracy epoch 1 is :0.8293333333333334\n",
      "Accuracy epoch 1 is :0.8338\n",
      "Accuracy epoch 1 is :0.8379833333333333\n",
      "Accuracy epoch 1 is :0.84135\n",
      "Accuracy epoch 1 is :0.84455\n"
     ]
    },
    {
     "data": {
      "text/plain": [
       "BenchmarkTools.Trial: \n",
       "  memory estimate:  561.84 MiB\n",
       "  allocs estimate:  724043\n",
       "  --------------\n",
       "  minimum time:     993.263 ms (2.99% GC)\n",
       "  median time:      1.004 s (2.95% GC)\n",
       "  mean time:        1.003 s (2.94% GC)\n",
       "  maximum time:     1.014 s (2.84% GC)\n",
       "  --------------\n",
       "  samples:          5\n",
       "  evals/sample:     1"
      ]
     },
     "execution_count": 10,
     "metadata": {},
     "output_type": "execute_result"
    }
   ],
   "source": [
    "@benchmark MulticlassPerceptron6.fit!(percep6, X_train, y_train, 1, 0.0001)"
   ]
  },
  {
   "cell_type": "code",
   "execution_count": null,
   "metadata": {
    "collapsed": true
   },
   "outputs": [],
   "source": []
  },
  {
   "cell_type": "code",
   "execution_count": null,
   "metadata": {
    "collapsed": true
   },
   "outputs": [],
   "source": []
  },
  {
   "cell_type": "markdown",
   "metadata": {},
   "source": [
    "#### Multiclass perceptron7: Not working... why?"
   ]
  },
  {
   "cell_type": "code",
   "execution_count": 11,
   "metadata": {
    "collapsed": false
   },
   "outputs": [
    {
     "data": {
      "text/plain": [
       "Array{Float32,2}"
      ]
     },
     "execution_count": 11,
     "metadata": {},
     "output_type": "execute_result"
    }
   ],
   "source": [
    "typeof(X_train)"
   ]
  },
  {
   "cell_type": "code",
   "execution_count": 12,
   "metadata": {
    "collapsed": false
   },
   "outputs": [],
   "source": [
    "#@benchmark MulticlassPerceptron7.fit!(percep7, X_train, y_train, 1, 0.0001)"
   ]
  },
  {
   "cell_type": "code",
   "execution_count": null,
   "metadata": {
    "collapsed": true
   },
   "outputs": [],
   "source": []
  },
  {
   "cell_type": "code",
   "execution_count": null,
   "metadata": {
    "collapsed": true
   },
   "outputs": [],
   "source": []
  },
  {
   "cell_type": "code",
   "execution_count": null,
   "metadata": {
    "collapsed": true
   },
   "outputs": [],
   "source": []
  },
  {
   "cell_type": "markdown",
   "metadata": {},
   "source": [
    "#### Profiling the code"
   ]
  },
  {
   "cell_type": "code",
   "execution_count": 13,
   "metadata": {
    "collapsed": false
   },
   "outputs": [],
   "source": [
    "#Profile.clear()\n",
    "#@profile MulticlassPerceptron5.fit!(percep5, X_train, y_train, 1, 0.0001)"
   ]
  },
  {
   "cell_type": "code",
   "execution_count": 14,
   "metadata": {
    "collapsed": false
   },
   "outputs": [],
   "source": [
    "#using ProfileView\n",
    "#ProfileView.view()"
   ]
  },
  {
   "cell_type": "code",
   "execution_count": 15,
   "metadata": {
    "collapsed": false
   },
   "outputs": [],
   "source": [
    "#a = zeros(Float32,10)\n",
    "\n",
    "#MulticlassPerceptron5.predict(percep5, X_train[:,3],a)"
   ]
  },
  {
   "cell_type": "code",
   "execution_count": 16,
   "metadata": {
    "collapsed": false
   },
   "outputs": [],
   "source": [
    "#@benchmark MulticlassPerceptron5.predict(percep5, X_train[:,3],a)"
   ]
  }
 ],
 "metadata": {
  "anaconda-cloud": {},
  "kernelspec": {
   "display_name": "Julia 0.6.0-dev",
   "language": "julia",
   "name": "julia-0.6"
  },
  "language_info": {
   "file_extension": ".jl",
   "mimetype": "application/julia",
   "name": "julia",
   "version": "0.6.0"
  }
 },
 "nbformat": 4,
 "nbformat_minor": 1
}
