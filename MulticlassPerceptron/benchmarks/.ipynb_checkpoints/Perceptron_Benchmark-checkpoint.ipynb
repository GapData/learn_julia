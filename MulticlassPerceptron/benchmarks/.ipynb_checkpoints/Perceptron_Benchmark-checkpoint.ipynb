{
 "cells": [
  {
   "cell_type": "markdown",
   "metadata": {},
   "source": [
    "## Benchmarking Perceptron\n",
    "\n",
    "\n",
    "#### About profiling julia code\n",
    "\n",
    "- https://thirld.com/blog/2015/05/30/julia-profiling-cheat-sheet/"
   ]
  },
  {
   "cell_type": "code",
   "execution_count": 1,
   "metadata": {
    "collapsed": false
   },
   "outputs": [
    {
     "name": "stdout",
     "output_type": "stream",
     "text": [
      "Julia Version 0.6.0-dev.2417\n",
      "Commit e63fec8 (2017-01-27 19:42 UTC)\n",
      "Platform Info:\n",
      "  OS: macOS (x86_64-apple-darwin13.4.0)\n",
      "  CPU: Intel(R) Core(TM) i7-3720QM CPU @ 2.60GHz\n",
      "  WORD_SIZE: 64\n",
      "  BLAS: libopenblas (USE64BITINT DYNAMIC_ARCH NO_AFFINITY Sandybridge)\n",
      "  LAPACK: libopenblas64_\n",
      "  LIBM: libopenlibm\n",
      "  LLVM: libLLVM-3.9.1 (ORCJIT, ivybridge)\n"
     ]
    }
   ],
   "source": [
    "versioninfo()"
   ]
  },
  {
   "cell_type": "code",
   "execution_count": null,
   "metadata": {
    "collapsed": false
   },
   "outputs": [],
   "source": [
    "using MNIST\n",
    "using BenchmarkTools\n",
    "\n",
    "source_path = join(push!(split(pwd(),\"/\")[1:end-1],\"source/\" ),\"/\")\n",
    "\n",
    "if !contains(==,LOAD_PATH, source_path) \n",
    "    push!(LOAD_PATH, source_path)\n",
    "end\n",
    "\n",
    "using MulticlassPerceptron6\n",
    "using MulticlassPerceptron5\n",
    "using MulticlassPerceptron4\n",
    "using MulticlassPerceptron3\n",
    "using MulticlassPerceptron2\n",
    "using MulticlassPerceptron\n",
    "\n",
    "percep1 = MulticlassPerceptron.MPerceptron(Float32, 10, 784)\n",
    "percep2 = MulticlassPerceptron2.MPerceptron(Float32, 10, 784)\n",
    "percep3 = MulticlassPerceptron3.MPerceptron(Float32, 10, 784)\n",
    "percep4 = MulticlassPerceptron4.MPerceptron(Float32, 10, 784)\n",
    "percep5 = MulticlassPerceptron5.MPerceptron(Float32, 10, 784)\n",
    "percep6 = MulticlassPerceptron6.MPerceptron(Float32, 10, 784)\n",
    "#percep7 = MulticlassPerceptron7.MPerceptron(Float32, 10, 784)\n",
    "\n",
    "n_classes = 10\n",
    "n_features = 784\n",
    "T = Float32\n",
    "\n",
    "#percep1 = MulticlassPerceptron.MPerceptron{T}(rand(T, n_classes,n_features), zeros(T, n_classes), n_classes, n_features)\n",
    "#percep2 = MulticlassPerceptron2.MPerceptron{T}(rand(T, n_classes,n_features), zeros(T, n_classes), n_classes, n_features)\n",
    "#percep3 = MulticlassPerceptron3.MPerceptron{T}(rand(T, n_classes,n_features), zeros(T, n_classes), n_classes, n_features)\n",
    "#percep4 = MulticlassPerceptron4.MPerceptron{T}(rand(T, n_classes,n_features), zeros(T, n_classes), n_classes, n_features)\n",
    "#percep5 = MulticlassPerceptron5.MPerceptron{T}(rand(T, n_classes,n_features), zeros(T, n_classes), n_classes, n_features)"
   ]
  },
  {
   "cell_type": "code",
   "execution_count": null,
   "metadata": {
    "collapsed": false
   },
   "outputs": [],
   "source": [
    "X_train, y_train = MNIST.traindata();\n",
    "X_test, y_test = MNIST.testdata();\n",
    "y_train = y_train + 1\n",
    "y_test = y_test + 1;"
   ]
  },
  {
   "cell_type": "code",
   "execution_count": null,
   "metadata": {
    "collapsed": true
   },
   "outputs": [],
   "source": [
    "T = Float32\n",
    "X_train = Array{T}((X_train - minimum(X_train))/(maximum(X_train) - minimum(X_train)))\n",
    "y_train = Array{Int64}(y_train)\n",
    "X_test = Array{T}(X_test - minimum(X_test))/(maximum(X_test) - minimum(X_test)) \n",
    "y_test = Array{Int64}(y_test);"
   ]
  },
  {
   "cell_type": "code",
   "execution_count": 6,
   "metadata": {
    "collapsed": false
   },
   "outputs": [
    {
     "ename": "LoadError",
     "evalue": "\u001b[91mInterruptException:\u001b[39m",
     "output_type": "error",
     "traceback": [
      "\u001b[91mInterruptException:\u001b[39m",
      "",
      "Stacktrace:",
      " [1] \u001b[1m*\u001b[22m\u001b[22m\u001b[1m(\u001b[22m\u001b[22m::Array{Float32,2}, ::Array{Float64,1}\u001b[1m)\u001b[22m\u001b[22m at \u001b[1m./linalg/matmul.jl:77\u001b[22m\u001b[22m",
      " [2] \u001b[1mpredict\u001b[22m\u001b[22m\u001b[1m(\u001b[22m\u001b[22m::MulticlassPerceptron.MPerceptron{Float32}, ::Array{Float64,1}\u001b[1m)\u001b[22m\u001b[22m at \u001b[1m/Users/davidbuchacaprats/Documents/git_stuff/learn_julia/MulticlassPerceptron/source/MulticlassPerceptron.jl:31\u001b[22m\u001b[22m",
      " [3] \u001b[1mfit!\u001b[22m\u001b[22m\u001b[1m(\u001b[22m\u001b[22m::MulticlassPerceptron.MPerceptron{Float32}, ::Array{Float32,2}, ::Array{Int64,1}, ::Int64, ::Float64\u001b[1m)\u001b[22m\u001b[22m at \u001b[1m/Users/davidbuchacaprats/Documents/git_stuff/learn_julia/MulticlassPerceptron/source/MulticlassPerceptron.jl:56\u001b[22m\u001b[22m",
      " [4] \u001b[1m##core#342\u001b[22m\u001b[22m\u001b[1m(\u001b[22m\u001b[22m\u001b[1m)\u001b[22m\u001b[22m at \u001b[1m/Users/davidbuchacaprats/.julia/v0.6/BenchmarkTools/src/execution.jl:290\u001b[22m\u001b[22m",
      " [5] \u001b[1m##sample#343\u001b[22m\u001b[22m\u001b[1m(\u001b[22m\u001b[22m::BenchmarkTools.Parameters\u001b[1m)\u001b[22m\u001b[22m at \u001b[1m/Users/davidbuchacaprats/.julia/v0.6/BenchmarkTools/src/execution.jl:296\u001b[22m\u001b[22m",
      " [6] \u001b[1m#_run#2\u001b[22m\u001b[22m\u001b[1m(\u001b[22m\u001b[22m::Bool, ::String, ::Array{Any,1}, ::Function, ::BenchmarkTools.Benchmark{Symbol(\"##benchmark#341\")}, ::BenchmarkTools.Parameters\u001b[1m)\u001b[22m\u001b[22m at \u001b[1m/Users/davidbuchacaprats/.julia/v0.6/BenchmarkTools/src/execution.jl:324\u001b[22m\u001b[22m",
      " [7] \u001b[1m(::BenchmarkTools.#kw##_run)\u001b[22m\u001b[22m\u001b[1m(\u001b[22m\u001b[22m::Array{Any,1}, ::BenchmarkTools.#_run, ::BenchmarkTools.Benchmark{Symbol(\"##benchmark#341\")}, ::BenchmarkTools.Parameters\u001b[1m)\u001b[22m\u001b[22m at \u001b[1m./<missing>:0\u001b[22m\u001b[22m",
      " [8] \u001b[1manonymous\u001b[22m\u001b[22m at \u001b[1m./<missing>:?\u001b[22m\u001b[22m",
      " [9] \u001b[1m#run_result#16\u001b[22m\u001b[22m\u001b[1m(\u001b[22m\u001b[22m::Array{Any,1}, ::Function, ::BenchmarkTools.Benchmark{Symbol(\"##benchmark#341\")}, ::BenchmarkTools.Parameters\u001b[1m)\u001b[22m\u001b[22m at \u001b[1m/Users/davidbuchacaprats/.julia/v0.6/BenchmarkTools/src/execution.jl:40\u001b[22m\u001b[22m",
      " [10] \u001b[1m(::BenchmarkTools.#kw##run_result)\u001b[22m\u001b[22m\u001b[1m(\u001b[22m\u001b[22m::Array{Any,1}, ::BenchmarkTools.#run_result, ::BenchmarkTools.Benchmark{Symbol(\"##benchmark#341\")}, ::BenchmarkTools.Parameters\u001b[1m)\u001b[22m\u001b[22m at \u001b[1m./<missing>:0\u001b[22m\u001b[22m",
      " [11] \u001b[1m#run#17\u001b[22m\u001b[22m\u001b[1m(\u001b[22m\u001b[22m::Array{Any,1}, ::Function, ::BenchmarkTools.Benchmark{Symbol(\"##benchmark#341\")}, ::BenchmarkTools.Parameters\u001b[1m)\u001b[22m\u001b[22m at \u001b[1m/Users/davidbuchacaprats/.julia/v0.6/BenchmarkTools/src/execution.jl:43\u001b[22m\u001b[22m",
      " [12] \u001b[1m(::Base.#kw##run)\u001b[22m\u001b[22m\u001b[1m(\u001b[22m\u001b[22m::Array{Any,1}, ::Base.#run, ::BenchmarkTools.Benchmark{Symbol(\"##benchmark#341\")}, ::BenchmarkTools.Parameters\u001b[1m)\u001b[22m\u001b[22m at \u001b[1m./<missing>:0\u001b[22m\u001b[22m",
      " [13] \u001b[1mwarmup\u001b[22m\u001b[22m\u001b[1m(\u001b[22m\u001b[22m::BenchmarkTools.Benchmark{Symbol(\"##benchmark#341\")}\u001b[1m)\u001b[22m\u001b[22m at \u001b[1m/Users/davidbuchacaprats/.julia/v0.6/BenchmarkTools/src/execution.jl:78\u001b[22m\u001b[22m"
     ]
    }
   ],
   "source": [
    "@benchmark MulticlassPerceptron.fit!(percep1, X_train, y_train, 1, 0.0001)"
   ]
  },
  {
   "cell_type": "markdown",
   "metadata": {},
   "source": [
    "#### MulticlassPerceptron2\n",
    "\n",
    "Using views instead of copying examples"
   ]
  },
  {
   "cell_type": "code",
   "execution_count": 6,
   "metadata": {
    "collapsed": false
   },
   "outputs": [
    {
     "name": "stdout",
     "output_type": "stream",
     "text": [
      "Accuracy epoch 1 is :0.56985\n",
      "Accuracy epoch 1 is :0.6920833333333334\n",
      "Accuracy epoch 1 is :0.74235\n",
      "Accuracy epoch 1 is :0.7710333333333333\n",
      "Accuracy epoch 1 is :0.7885666666666666\n",
      "Accuracy epoch 1 is :0.8020166666666667\n",
      "Accuracy epoch 1 is :0.8117666666666666\n",
      "Accuracy epoch 1 is :0.8190666666666667\n",
      "Accuracy epoch 1 is :0.8251833333333334\n"
     ]
    },
    {
     "data": {
      "text/plain": [
       "BenchmarkTools.Trial: \n",
       "  memory estimate:  1.14 GiB\n",
       "  allocs estimate:  2401680\n",
       "  --------------\n",
       "  minimum time:     1.588 s (3.78% GC)\n",
       "  median time:      1.599 s (3.79% GC)\n",
       "  mean time:        1.611 s (3.75% GC)\n",
       "  maximum time:     1.658 s (3.70% GC)\n",
       "  --------------\n",
       "  samples:          4\n",
       "  evals/sample:     1"
      ]
     },
     "execution_count": 6,
     "metadata": {},
     "output_type": "execute_result"
    }
   ],
   "source": [
    "@benchmark MulticlassPerceptron2.fit!(percep2, X_train, y_train, 1, 0.0001)"
   ]
  },
  {
   "cell_type": "markdown",
   "metadata": {},
   "source": [
    "#### MulticlassPerceptron3\n",
    "\n",
    "- using inbounds\n",
    "- using views"
   ]
  },
  {
   "cell_type": "code",
   "execution_count": 7,
   "metadata": {
    "collapsed": false,
    "scrolled": true
   },
   "outputs": [
    {
     "name": "stdout",
     "output_type": "stream",
     "text": [
      "Accuracy epoch 1 is :0.5972666666666666\n",
      "Accuracy epoch 1 is :0.7052\n",
      "Accuracy epoch 1 is :0.74975\n",
      "Accuracy epoch 1 is :0.7757666666666667\n",
      "Accuracy epoch 1 is :0.7936666666666666\n",
      "Accuracy epoch 1 is :0.8056166666666666\n",
      "Accuracy epoch 1 is :0.8147\n",
      "Accuracy epoch 1 is :0.8214333333333333\n",
      "Accuracy epoch 1 is :0.82745\n",
      "Accuracy epoch 1 is :0.8326333333333333\n",
      "Accuracy epoch 1 is :0.8377833333333333\n",
      "Accuracy epoch 1 is :0.8416166666666667\n"
     ]
    }
   ],
   "source": [
    "@benchmark MulticlassPerceptron3.fit!(percep3, X_train, y_train, 1, 0.0001)"
   ]
  },
  {
   "cell_type": "markdown",
   "metadata": {
    "collapsed": true
   },
   "source": [
    "#### MulticlassPerceptron4\n",
    "\n",
    "- using inbounds\n",
    "- using views\n",
    "- prediction vector prealocated before\n"
   ]
  },
  {
   "cell_type": "code",
   "execution_count": 5,
   "metadata": {
    "collapsed": false,
    "scrolled": true
   },
   "outputs": [
    {
     "name": "stdout",
     "output_type": "stream",
     "text": [
      "  0.186155 seconds (360.00 k allocations: 9.155 MiB)\n",
      "Accuracy epoch 1 is :0.6003\n",
      "  0.171435 seconds (360.00 k allocations: 9.155 MiB)\n",
      "Accuracy epoch 1 is :0.7099833333333333\n",
      "  0.171120 seconds (360.00 k allocations: 9.155 MiB, 1.64% gc time)\n",
      "Accuracy epoch 1 is :0.7548666666666667\n",
      "  0.193690 seconds (360.00 k allocations: 9.155 MiB)\n",
      "Accuracy epoch 1 is :0.77975\n",
      "  0.167620 seconds (360.00 k allocations: 9.155 MiB)\n",
      "Accuracy epoch 1 is :0.7952833333333333\n",
      "  0.162997 seconds (360.00 k allocations: 9.155 MiB)\n",
      "Accuracy epoch 1 is :0.80765\n",
      "  0.174270 seconds (360.00 k allocations: 9.155 MiB, 1.69% gc time)\n",
      "Accuracy epoch 1 is :0.81675\n",
      "  0.166941 seconds (360.00 k allocations: 9.155 MiB)\n",
      "Accuracy epoch 1 is :0.824\n",
      "  0.180057 seconds (360.00 k allocations: 9.155 MiB, 1.04% gc time)\n",
      "Accuracy epoch 1 is :0.8295\n",
      "  0.162910 seconds (360.00 k allocations: 9.155 MiB)\n",
      "Accuracy epoch 1 is :0.8340666666666666\n",
      "  0.165267 seconds (360.00 k allocations: 9.155 MiB)\n",
      "Accuracy epoch 1 is :0.8385\n",
      "  0.200064 seconds (360.00 k allocations: 9.155 MiB)\n",
      "Accuracy epoch 1 is :0.8418833333333333\n",
      "  0.174493 seconds (360.00 k allocations: 9.155 MiB)\n",
      "Accuracy epoch 1 is :0.84495\n",
      "  0.177222 seconds (360.00 k allocations: 9.155 MiB)\n",
      "Accuracy epoch 1 is :0.8476833333333333\n"
     ]
    },
    {
     "data": {
      "text/plain": [
       "BenchmarkTools.Trial: \n",
       "  memory estimate:  85.60 MiB\n",
       "  allocs estimate:  1162211\n",
       "  --------------\n",
       "  minimum time:     895.936 ms (1.49% GC)\n",
       "  median time:      942.764 ms (1.29% GC)\n",
       "  mean time:        947.475 ms (1.26% GC)\n",
       "  maximum time:     988.338 ms (1.03% GC)\n",
       "  --------------\n",
       "  samples:          6\n",
       "  evals/sample:     1"
      ]
     },
     "execution_count": 5,
     "metadata": {},
     "output_type": "execute_result"
    }
   ],
   "source": [
    "@benchmark MulticlassPerceptron4.fit!(percep4, X_train, y_train, 1, 0.0001)"
   ]
  },
  {
   "cell_type": "markdown",
   "metadata": {},
   "source": [
    "#### MulticlassPerceptron5\n",
    "\n",
    "- prediction vector prealocated before\n",
    "- using inbounds\n",
    "- copying the current datapoint x = X[:,m] at every update\n",
    "- No inplace ops:  \n",
    "    ```h.W[y_tr[m], :] .+= learning_rate * x```"
   ]
  },
  {
   "cell_type": "code",
   "execution_count": 9,
   "metadata": {
    "collapsed": false
   },
   "outputs": [
    {
     "name": "stdout",
     "output_type": "stream",
     "text": [
      "Accuracy epoch 1 is :0.6022166666666666\n",
      "Accuracy epoch 1 is :0.7082\n",
      "Accuracy epoch 1 is :0.7526833333333334\n",
      "Accuracy epoch 1 is :0.7774166666666666\n",
      "Accuracy epoch 1 is :0.79345\n",
      "Accuracy epoch 1 is :0.8058666666666666\n",
      "Accuracy epoch 1 is :0.81435\n",
      "Accuracy epoch 1 is :0.8225166666666667\n",
      "Accuracy epoch 1 is :0.8285333333333333\n",
      "Accuracy epoch 1 is :0.8335833333333333\n",
      "Accuracy epoch 1 is :0.8373166666666667\n",
      "Accuracy epoch 1 is :0.8413333333333334\n"
     ]
    },
    {
     "data": {
      "text/plain": [
       "BenchmarkTools.Trial: \n",
       "  memory estimate:  510.30 MiB\n",
       "  allocs estimate:  735228\n",
       "  --------------\n",
       "  minimum time:     1.350 s (4.41% GC)\n",
       "  median time:      1.378 s (3.83% GC)\n",
       "  mean time:        1.379 s (4.02% GC)\n",
       "  maximum time:     1.409 s (3.14% GC)\n",
       "  --------------\n",
       "  samples:          4\n",
       "  evals/sample:     1"
      ]
     },
     "execution_count": 9,
     "metadata": {},
     "output_type": "execute_result"
    }
   ],
   "source": [
    "@benchmark MulticlassPerceptron5.fit!(percep5, X_train, y_train, 1, 0.0001)"
   ]
  },
  {
   "cell_type": "markdown",
   "metadata": {},
   "source": [
    "#### MulticlassPerceptron6\n",
    "\n",
    "- prediction vector prealocated before\n",
    "- using inbounds\n",
    "- copying the current datapoint x = X[:,m] at every update\n",
    "- Inplace operations:\n",
    "    ```h.W[y_tr[m], :] .+= learning_rate .* x```\n"
   ]
  },
  {
   "cell_type": "code",
   "execution_count": 8,
   "metadata": {
    "collapsed": false
   },
   "outputs": [
    {
     "name": "stdout",
     "output_type": "stream",
     "text": [
      "Accuracy epoch 1 is :0.8281833333333334\n",
      "Accuracy epoch 1 is :0.83305\n",
      "Accuracy epoch 1 is :0.8364\n",
      "Accuracy epoch 1 is :0.8397666666666667\n",
      "Accuracy epoch 1 is :0.8430833333333333\n",
      "Accuracy epoch 1 is :0.84555\n",
      "Accuracy epoch 1 is :0.8481\n",
      "Accuracy epoch 1 is :0.8503666666666667\n"
     ]
    },
    {
     "data": {
      "text/plain": [
       "BenchmarkTools.Trial: \n",
       "  memory estimate:  268.95 MiB\n",
       "  allocs estimate:  1231924\n",
       "  --------------\n",
       "  minimum time:     1.655 s (2.17% GC)\n",
       "  median time:      1.788 s (1.68% GC)\n",
       "  mean time:        1.773 s (1.72% GC)\n",
       "  maximum time:     1.875 s (1.60% GC)\n",
       "  --------------\n",
       "  samples:          3\n",
       "  evals/sample:     1"
      ]
     },
     "execution_count": 8,
     "metadata": {},
     "output_type": "execute_result"
    }
   ],
   "source": [
    "@benchmark MulticlassPerceptron6.fit!(percep6, X_train, y_train, 1, 0.0001)"
   ]
  },
  {
   "cell_type": "code",
   "execution_count": null,
   "metadata": {
    "collapsed": true
   },
   "outputs": [],
   "source": []
  },
  {
   "cell_type": "code",
   "execution_count": null,
   "metadata": {
    "collapsed": true
   },
   "outputs": [],
   "source": []
  },
  {
   "cell_type": "markdown",
   "metadata": {},
   "source": [
    "#### Multiclass perceptron7: Not working... why?"
   ]
  },
  {
   "cell_type": "code",
   "execution_count": 11,
   "metadata": {
    "collapsed": false
   },
   "outputs": [
    {
     "data": {
      "text/plain": [
       "Array{Float32,2}"
      ]
     },
     "execution_count": 11,
     "metadata": {},
     "output_type": "execute_result"
    }
   ],
   "source": [
    "typeof(X_train)"
   ]
  },
  {
   "cell_type": "code",
   "execution_count": 12,
   "metadata": {
    "collapsed": false
   },
   "outputs": [],
   "source": [
    "#@benchmark MulticlassPerceptron7.fit!(percep7, X_train, y_train, 1, 0.0001)"
   ]
  },
  {
   "cell_type": "code",
   "execution_count": null,
   "metadata": {
    "collapsed": true
   },
   "outputs": [],
   "source": []
  },
  {
   "cell_type": "code",
   "execution_count": null,
   "metadata": {
    "collapsed": true
   },
   "outputs": [],
   "source": []
  },
  {
   "cell_type": "code",
   "execution_count": null,
   "metadata": {
    "collapsed": true
   },
   "outputs": [],
   "source": []
  },
  {
   "cell_type": "markdown",
   "metadata": {},
   "source": [
    "#### Profiling the code"
   ]
  },
  {
   "cell_type": "code",
   "execution_count": 13,
   "metadata": {
    "collapsed": false
   },
   "outputs": [],
   "source": [
    "#Profile.clear()\n",
    "#@profile MulticlassPerceptron5.fit!(percep5, X_train, y_train, 1, 0.0001)"
   ]
  },
  {
   "cell_type": "code",
   "execution_count": 14,
   "metadata": {
    "collapsed": false
   },
   "outputs": [],
   "source": [
    "#using ProfileView\n",
    "#ProfileView.view()"
   ]
  },
  {
   "cell_type": "code",
   "execution_count": 15,
   "metadata": {
    "collapsed": false
   },
   "outputs": [],
   "source": [
    "#a = zeros(Float32,10)\n",
    "\n",
    "#MulticlassPerceptron5.predict(percep5, X_train[:,3],a)"
   ]
  },
  {
   "cell_type": "code",
   "execution_count": 16,
   "metadata": {
    "collapsed": false
   },
   "outputs": [],
   "source": [
    "#@benchmark MulticlassPerceptron5.predict(percep5, X_train[:,3],a)"
   ]
  }
 ],
 "metadata": {
  "anaconda-cloud": {},
  "kernelspec": {
   "display_name": "Julia 0.6.0-dev",
   "language": "julia",
   "name": "julia-0.6"
  },
  "language_info": {
   "file_extension": ".jl",
   "mimetype": "application/julia",
   "name": "julia",
   "version": "0.6.0"
  }
 },
 "nbformat": 4,
 "nbformat_minor": 1
}
