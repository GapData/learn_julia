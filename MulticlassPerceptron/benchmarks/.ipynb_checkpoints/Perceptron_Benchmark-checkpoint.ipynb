{
 "cells": [
  {
   "cell_type": "markdown",
   "metadata": {},
   "source": [
    "## Benchmarking Perceptron\n",
    "\n",
    "\n",
    "#### About profiling julia code\n",
    "\n",
    "- https://thirld.com/blog/2015/05/30/julia-profiling-cheat-sheet/\n",
    "\n",
    "#### Examples of speeding up code\n",
    "\n",
    "There is a small number of \"tricks\" that can be applied to speed up execution time and save memory allocations. This is paramount for enjoying C like speed with julia code.\n",
    "\n",
    "- https://discourse.julialang.org/t/speed-up-this-code-game/3666"
   ]
  },
  {
   "cell_type": "code",
   "execution_count": 13,
   "metadata": {},
   "outputs": [
    {
     "name": "stdout",
     "output_type": "stream",
     "text": [
      "Julia Version 0.6.0-dev.2069\n",
      "Commit ff9a949 (2017-01-13 02:17 UTC)\n",
      "Platform Info:\n",
      "  OS: macOS (x86_64-apple-darwin13.4.0)\n",
      "  CPU: Intel(R) Core(TM) i7-4650U CPU @ 1.70GHz\n",
      "  WORD_SIZE: 64\n",
      "  BLAS: libopenblas (USE64BITINT DYNAMIC_ARCH NO_AFFINITY Haswell)\n",
      "  LAPACK: libopenblas64_\n",
      "  LIBM: libopenlibm\n",
      "  LLVM: libLLVM-3.9.1 (ORCJIT, haswell)\n"
     ]
    }
   ],
   "source": [
    "workspace()\n",
    "versioninfo()"
   ]
  },
  {
   "cell_type": "code",
   "execution_count": 17,
   "metadata": {},
   "outputs": [
    {
     "data": {
      "text/plain": [
       "Float32"
      ]
     },
     "execution_count": 17,
     "metadata": {},
     "output_type": "execute_result"
    }
   ],
   "source": [
    "using MNIST\n",
    "using BenchmarkTools\n",
    "\n",
    "source_path = join(push!(split(pwd(),\"/\")[1:end-1],\"source/\" ),\"/\")\n",
    "\n",
    "if !contains(==,LOAD_PATH, source_path) \n",
    "    push!(LOAD_PATH, source_path)\n",
    "end\n",
    "\n",
    "using MulticlassPerceptron4\n",
    "using MulticlassPerceptron3\n",
    "using MulticlassPerceptron2\n",
    "using MulticlassPerceptron1\n",
    "\n",
    "percep1 = MulticlassPerceptron1.MPerceptron(Float32, 10, 784)\n",
    "percep2 = MulticlassPerceptron2.MPerceptron(Float32, 10, 784)\n",
    "percep3 = MulticlassPerceptron3.MPerceptron(Float32, 10, 784)\n",
    "percep4 = MulticlassPerceptron4.MPerceptron(Float32, 10, 784)\n",
    "\n",
    "n_classes = 10\n",
    "n_features = 784"
   ]
  },
  {
   "cell_type": "code",
   "execution_count": 18,
   "metadata": {
    "collapsed": true
   },
   "outputs": [],
   "source": [
    "X_train, y_train = MNIST.traindata();\n",
    "X_test, y_test = MNIST.testdata();\n",
    "y_train = y_train + 1\n",
    "y_test = y_test + 1;\n",
    "\n",
    "T = Float32\n",
    "X_train = Array{T}((X_train - minimum(X_train))/(maximum(X_train) - minimum(X_train)))\n",
    "y_train = Array{Int64}(y_train)\n",
    "X_test = Array{T}(X_test - minimum(X_test))/(maximum(X_test) - minimum(X_test)) \n",
    "y_test = Array{Int64}(y_test);"
   ]
  },
  {
   "cell_type": "code",
   "execution_count": 4,
   "metadata": {
    "scrolled": true
   },
   "outputs": [
    {
     "name": "stdout",
     "output_type": "stream",
     "text": [
      "Accuracy epoch 1 is :0.6012666666666666\n",
      "Accuracy epoch 1 is :0.7109\n",
      "Accuracy epoch 1 is :0.7563666666666666\n",
      "Accuracy epoch 1 is :0.78075\n",
      "Accuracy epoch 1 is :0.7967\n",
      "Accuracy epoch 1 is :0.8081833333333334\n",
      "Accuracy epoch 1 is :0.81715\n",
      "Accuracy epoch 1 is :0.8237666666666666\n"
     ]
    },
    {
     "data": {
      "text/plain": [
       "BenchmarkTools.Trial: \n",
       "  memory estimate:  628.05 MiB\n",
       "  allocs estimate:  1611772\n",
       "  --------------\n",
       "  minimum time:     2.028 s (0.00% GC)\n",
       "  median time:      2.085 s (14.42% GC)\n",
       "  mean time:        2.150 s (10.59% GC)\n",
       "  maximum time:     2.338 s (12.86% GC)\n",
       "  --------------\n",
       "  samples:          3\n",
       "  evals/sample:     1"
      ]
     },
     "execution_count": 4,
     "metadata": {},
     "output_type": "execute_result"
    }
   ],
   "source": [
    "@benchmark MulticlassPerceptron1.fit!(percep1, X_train, y_train, 1, 0.0001)"
   ]
  },
  {
   "cell_type": "markdown",
   "metadata": {},
   "source": [
    "#### MulticlassPerceptron2\n",
    "\n",
    "- Using views instead of copying examples"
   ]
  },
  {
   "cell_type": "code",
   "execution_count": 5,
   "metadata": {},
   "outputs": [
    {
     "name": "stdout",
     "output_type": "stream",
     "text": [
      "Accuracy epoch 1 is :0.5819666666666666\n",
      "Accuracy epoch 1 is :0.7014166666666667\n",
      "Accuracy epoch 1 is :0.7470666666666667\n",
      "Accuracy epoch 1 is :0.7752333333333333\n",
      "Accuracy epoch 1 is :0.79275\n",
      "Accuracy epoch 1 is :0.8056333333333333\n",
      "Accuracy epoch 1 is :0.8148\n",
      "Accuracy epoch 1 is :0.8216\n",
      "Accuracy epoch 1 is :0.82805\n"
     ]
    },
    {
     "data": {
      "text/plain": [
       "BenchmarkTools.Trial: \n",
       "  memory estimate:  251.18 MiB\n",
       "  allocs estimate:  1499874\n",
       "  --------------\n",
       "  minimum time:     1.276 s (2.47% GC)\n",
       "  median time:      1.361 s (2.49% GC)\n",
       "  mean time:        1.371 s (2.54% GC)\n",
       "  maximum time:     1.485 s (2.37% GC)\n",
       "  --------------\n",
       "  samples:          4\n",
       "  evals/sample:     1"
      ]
     },
     "execution_count": 5,
     "metadata": {},
     "output_type": "execute_result"
    }
   ],
   "source": [
    "@benchmark MulticlassPerceptron2.fit!(percep2, X_train, y_train, 1, 0.0001)"
   ]
  },
  {
   "cell_type": "markdown",
   "metadata": {},
   "source": [
    "#### MulticlassPerceptron3\n",
    "\n",
    "- Using views instead of copying examples\n",
    "- using inbounds\n"
   ]
  },
  {
   "cell_type": "code",
   "execution_count": 43,
   "metadata": {
    "scrolled": true
   },
   "outputs": [
    {
     "name": "stdout",
     "output_type": "stream",
     "text": [
      "Accuracy epoch 1 is :0.58455\n",
      "Accuracy epoch 1 is :0.6983666666666667\n",
      "Accuracy epoch 1 is :0.74455\n",
      "Accuracy epoch 1 is :0.7709666666666667\n",
      "Accuracy epoch 1 is :0.78955\n",
      "Accuracy epoch 1 is :0.8026\n",
      "Accuracy epoch 1 is :0.8122833333333334\n",
      "Accuracy epoch 1 is :0.8204166666666667\n",
      "Accuracy epoch 1 is :0.8261666666666667\n",
      "Accuracy epoch 1 is :0.8315\n",
      "Accuracy epoch 1 is :0.8355666666666667\n",
      "Accuracy epoch 1 is :0.8387\n",
      "Accuracy epoch 1 is :0.8418833333333333\n"
     ]
    },
    {
     "data": {
      "text/plain": [
       "BenchmarkTools.Trial: \n",
       "  memory estimate:  210.27 MiB\n",
       "  allocs estimate:  1500277\n",
       "  --------------\n",
       "  minimum time:     1.117 s (3.12% GC)\n",
       "  median time:      1.179 s (2.95% GC)\n",
       "  mean time:        1.182 s (2.97% GC)\n",
       "  maximum time:     1.240 s (2.99% GC)\n",
       "  --------------\n",
       "  samples:          5\n",
       "  evals/sample:     1"
      ]
     },
     "execution_count": 43,
     "metadata": {},
     "output_type": "execute_result"
    }
   ],
   "source": [
    "@benchmark MulticlassPerceptron3.fit!(percep3, X_train, y_train, 1, 0.0001)"
   ]
  },
  {
   "cell_type": "markdown",
   "metadata": {
    "collapsed": true
   },
   "source": [
    "#### MulticlassPerceptron4\n",
    "\n",
    "- Using views instead of copying examples\n",
    "- using views\n",
    "- prealocated vector for predicting all datapoints\n",
    "- using .* sintax for loop fusion"
   ]
  },
  {
   "cell_type": "code",
   "execution_count": 42,
   "metadata": {
    "scrolled": true
   },
   "outputs": [
    {
     "name": "stdout",
     "output_type": "stream",
     "text": [
      "Accuracy epoch 1 is :0.8626166666666667\n",
      "Accuracy epoch 1 is :0.8637166666666667\n",
      "Accuracy epoch 1 is :0.8647833333333333\n",
      "Accuracy epoch 1 is :0.8659\n",
      "Accuracy epoch 1 is :0.8664166666666666\n",
      "Accuracy epoch 1 is :0.8675\n",
      "Accuracy epoch 1 is :0.8682\n",
      "Accuracy epoch 1 is :0.8687166666666667\n",
      "Accuracy epoch 1 is :0.8691333333333333\n",
      "Accuracy epoch 1 is :0.8701\n",
      "Accuracy epoch 1 is :0.8707166666666667\n",
      "Accuracy epoch 1 is :0.8714333333333333\n",
      "Accuracy epoch 1 is :0.8720333333333333\n",
      "Accuracy epoch 1 is :0.8725666666666667\n"
     ]
    },
    {
     "data": {
      "text/plain": [
       "BenchmarkTools.Trial: \n",
       "  memory estimate:  79.56 MiB\n",
       "  allocs estimate:  1398264\n",
       "  --------------\n",
       "  minimum time:     946.407 ms (1.25% GC)\n",
       "  median time:      978.270 ms (1.49% GC)\n",
       "  mean time:        972.575 ms (1.50% GC)\n",
       "  maximum time:     995.436 ms (1.69% GC)\n",
       "  --------------\n",
       "  samples:          6\n",
       "  evals/sample:     1"
      ]
     },
     "execution_count": 42,
     "metadata": {},
     "output_type": "execute_result"
    }
   ],
   "source": [
    "@benchmark MulticlassPerceptron4.fit!(percep4, X_train, y_train, 1, 0.0001)"
   ]
  },
  {
   "cell_type": "markdown",
   "metadata": {},
   "source": [
    "#### MulticlassPerceptron5\n",
    "\n",
    "**What else can be improved?**\n",
    "\n",
    "`\n",
    "memory estimate:  79.56 MiB\n",
    "`\n",
    "\n",
    "**Can we push the code to memory estimate 0 ?**\n",
    "\n",
    "**Are we really using the BLAS at the fullest potential?**\n"
   ]
  },
  {
   "cell_type": "code",
   "execution_count": null,
   "metadata": {
    "collapsed": true
   },
   "outputs": [],
   "source": []
  }
 ],
 "metadata": {
  "anaconda-cloud": {},
  "kernelspec": {
   "display_name": "Julia 0.6.0-dev",
   "language": "julia",
   "name": "julia-0.6"
  },
  "language_info": {
   "file_extension": ".jl",
   "mimetype": "application/julia",
   "name": "julia",
   "version": "0.6.0"
  }
 },
 "nbformat": 4,
 "nbformat_minor": 1
}
