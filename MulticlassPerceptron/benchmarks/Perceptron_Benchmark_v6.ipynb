{
 "cells": [
  {
   "cell_type": "markdown",
   "metadata": {},
   "source": [
    "## Benchmarking Perceptron\n",
    "\n",
    "\n",
    "#### About profiling julia code\n",
    "\n",
    "- https://thirld.com/blog/2015/05/30/julia-profiling-cheat-sheet/\n",
    "\n",
    "#### Examples of speeding up code\n",
    "\n",
    "There is a small number of \"tricks\" that can be applied to speed up execution time and save memory allocations. This is paramount for enjoying C like speed with julia code.\n",
    "\n",
    "- https://discourse.julialang.org/t/speed-up-this-code-game/3666"
   ]
  },
  {
   "cell_type": "code",
   "execution_count": 2,
   "metadata": {},
   "outputs": [
    {
     "name": "stdout",
     "output_type": "stream",
     "text": [
      "Julia Version 0.6.0-rc1.0\n",
      "Commit 6bdb3950bd (2017-05-07 00:00 UTC)\n",
      "Platform Info:\n",
      "  OS: macOS (x86_64-apple-darwin13.4.0)\n",
      "  CPU: Intel(R) Core(TM) i7-4650U CPU @ 1.70GHz\n",
      "  WORD_SIZE: 64\n",
      "  BLAS: libopenblas (USE64BITINT DYNAMIC_ARCH NO_AFFINITY Haswell)\n",
      "  LAPACK: libopenblas64_\n",
      "  LIBM: libopenlibm\n",
      "  LLVM: libLLVM-3.9.1 (ORCJIT, haswell)\n"
     ]
    }
   ],
   "source": [
    "versioninfo()"
   ]
  },
  {
   "cell_type": "code",
   "execution_count": null,
   "metadata": {
    "collapsed": true
   },
   "outputs": [],
   "source": [
    "using MNIST\n",
    "using BenchmarkTools"
   ]
  },
  {
   "cell_type": "code",
   "execution_count": null,
   "metadata": {
    "collapsed": true
   },
   "outputs": [],
   "source": [
    "source_path = join(push!(split(pwd(),\"/\")[1:end-1],\"source/\" ),\"/\")\n",
    "\n",
    "if !contains(==,LOAD_PATH, source_path) \n",
    "    push!(LOAD_PATH, source_path)\n",
    "end\n",
    "\n",
    "using MulticlassPerceptron4\n",
    "using MulticlassPerceptron3\n",
    "using MulticlassPerceptron2\n",
    "using MulticlassPerceptron1\n",
    "\n",
    "percep1 = MulticlassPerceptron1.MPerceptron(Float32, 10, 784)\n",
    "percep2 = MulticlassPerceptron2.MPerceptron(Float32, 10, 784)\n",
    "percep3 = MulticlassPerceptron3.MPerceptron(Float32, 10, 784)\n",
    "percep4 = MulticlassPerceptron4.MPerceptron(Float32, 10, 784)\n",
    "\n",
    "n_classes = 10\n",
    "n_features = 784"
   ]
  },
  {
   "cell_type": "code",
   "execution_count": null,
   "metadata": {
    "collapsed": true
   },
   "outputs": [],
   "source": [
    "X_train, y_train = MNIST.traindata();\n",
    "X_test, y_test = MNIST.testdata();\n",
    "y_train = y_train + 1\n",
    "y_test = y_test + 1;\n",
    "\n",
    "T = Float32\n",
    "X_train = Array{T}((X_train - minimum(X_train))/(maximum(X_train) - minimum(X_train)))\n",
    "y_train = Array{Int64}(y_train)\n",
    "X_test = Array{T}(X_test - minimum(X_test))/(maximum(X_test) - minimum(X_test)) \n",
    "y_test = Array{Int64}(y_test);"
   ]
  },
  {
   "cell_type": "code",
   "execution_count": null,
   "metadata": {
    "collapsed": true,
    "scrolled": true
   },
   "outputs": [],
   "source": [
    "@benchmark MulticlassPerceptron1.fit!(percep1, X_train, y_train, 1, 0.0001)"
   ]
  },
  {
   "cell_type": "markdown",
   "metadata": {},
   "source": [
    "#### MulticlassPerceptron2\n",
    "\n",
    "- Using views instead of copying examples"
   ]
  },
  {
   "cell_type": "code",
   "execution_count": null,
   "metadata": {
    "collapsed": true
   },
   "outputs": [],
   "source": [
    "@benchmark MulticlassPerceptron2.fit!(percep2, X_train, y_train, 1, 0.0001)"
   ]
  },
  {
   "cell_type": "markdown",
   "metadata": {},
   "source": [
    "#### MulticlassPerceptron3\n",
    "\n",
    "- Using views instead of copying examples\n",
    "- using inbounds\n"
   ]
  },
  {
   "cell_type": "code",
   "execution_count": null,
   "metadata": {
    "collapsed": true,
    "scrolled": true
   },
   "outputs": [],
   "source": [
    "@benchmark MulticlassPerceptron3.fit!(percep3, X_train, y_train, 1, 0.0001)"
   ]
  },
  {
   "cell_type": "markdown",
   "metadata": {
    "collapsed": true
   },
   "source": [
    "#### MulticlassPerceptron4\n",
    "\n",
    "- Using views instead of copying examples\n",
    "- using views\n",
    "- prealocated vector for predicting all datapoints\n",
    "- using .* sintax for loop fusion"
   ]
  },
  {
   "cell_type": "code",
   "execution_count": null,
   "metadata": {
    "collapsed": true,
    "scrolled": true
   },
   "outputs": [],
   "source": [
    "@benchmark MulticlassPerceptron4.fit!(percep4, X_train, y_train, 1, 0.0001)"
   ]
  },
  {
   "cell_type": "markdown",
   "metadata": {},
   "source": [
    "#### MulticlassPerceptron5\n",
    "\n",
    "**What else can be improved?**\n",
    "\n",
    "**Can we push the code to memory estimate 0 ?**\n",
    "\n",
    "**Are we really using the BLAS at the fullest potential?**\n"
   ]
  },
  {
   "cell_type": "code",
   "execution_count": null,
   "metadata": {
    "collapsed": true
   },
   "outputs": [],
   "source": []
  }
 ],
 "metadata": {
  "anaconda-cloud": {},
  "kernelspec": {
   "display_name": "Julia 0.6.0-dev",
   "language": "julia",
   "name": "julia-0.6"
  },
  "language_info": {
   "file_extension": ".jl",
   "mimetype": "application/julia",
   "name": "julia",
   "version": "0.6.0"
  }
 },
 "nbformat": 4,
 "nbformat_minor": 1
}
