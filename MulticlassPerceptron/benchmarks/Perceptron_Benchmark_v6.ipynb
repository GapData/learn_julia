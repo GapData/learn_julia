{
 "cells": [
  {
   "cell_type": "markdown",
   "metadata": {},
   "source": [
    "## Benchmarking Perceptron\n",
    "\n",
    "\n",
    "#### About profiling julia code\n",
    "\n",
    "- https://thirld.com/blog/2015/05/30/julia-profiling-cheat-sheet/\n",
    "\n",
    "#### Examples of speeding up code\n",
    "\n",
    "There is a small number of \"tricks\" that can be applied to speed up execution time and save memory allocations. This is paramount for enjoying C like speed with julia code.\n",
    "\n",
    "- https://discourse.julialang.org/t/speed-up-this-code-game/3666"
   ]
  },
  {
   "cell_type": "code",
   "execution_count": 1,
   "metadata": {},
   "outputs": [
    {
     "name": "stdout",
     "output_type": "stream",
     "text": [
      "Julia Version 0.6.0-rc1.0\n",
      "Commit 6bdb3950bd (2017-05-07 00:00 UTC)\n",
      "Platform Info:\n",
      "  OS: macOS (x86_64-apple-darwin13.4.0)\n",
      "  CPU: Intel(R) Core(TM) i7-4650U CPU @ 1.70GHz\n",
      "  WORD_SIZE: 64\n",
      "  BLAS: libopenblas (USE64BITINT DYNAMIC_ARCH NO_AFFINITY Haswell)\n",
      "  LAPACK: libopenblas64_\n",
      "  LIBM: libopenlibm\n",
      "  LLVM: libLLVM-3.9.1 (ORCJIT, haswell)\n"
     ]
    }
   ],
   "source": [
    "versioninfo()"
   ]
  },
  {
   "cell_type": "code",
   "execution_count": 2,
   "metadata": {
    "collapsed": true
   },
   "outputs": [],
   "source": [
    "using MNIST\n",
    "using BenchmarkTools"
   ]
  },
  {
   "cell_type": "code",
   "execution_count": 3,
   "metadata": {},
   "outputs": [
    {
     "data": {
      "text/plain": [
       "784"
      ]
     },
     "execution_count": 3,
     "metadata": {},
     "output_type": "execute_result"
    }
   ],
   "source": [
    "source_path = join(push!(split(pwd(),\"/\")[1:end-1],\"source/\" ),\"/\")\n",
    "\n",
    "if !contains(==,LOAD_PATH, source_path) \n",
    "    push!(LOAD_PATH, source_path)\n",
    "end\n",
    "\n",
    "using MulticlassPerceptron4\n",
    "using MulticlassPerceptron3\n",
    "using MulticlassPerceptron2\n",
    "using MulticlassPerceptron1\n",
    "\n",
    "percep1 = MulticlassPerceptron1.MPerceptron(Float32, 10, 784)\n",
    "percep2 = MulticlassPerceptron2.MPerceptron(Float32, 10, 784)\n",
    "percep3 = MulticlassPerceptron3.MPerceptron(Float32, 10, 784)\n",
    "percep4 = MulticlassPerceptron4.MPerceptron(Float32, 10, 784)\n",
    "\n",
    "n_classes = 10\n",
    "n_features = 784"
   ]
  },
  {
   "cell_type": "code",
   "execution_count": 4,
   "metadata": {},
   "outputs": [
    {
     "name": "stderr",
     "output_type": "stream",
     "text": [
      "\u001b[1m\u001b[33mWARNING: \u001b[39m\u001b[22m\u001b[33mArray{T}(::Type{T}, m::Int, n::Int) is deprecated, use Array{T}(m, n) instead.\u001b[39m\n",
      "Stacktrace:\n",
      " [1] \u001b[1mdepwarn\u001b[22m\u001b[22m\u001b[1m(\u001b[22m\u001b[22m::String, ::Symbol\u001b[1m)\u001b[22m\u001b[22m at \u001b[1m./deprecated.jl:64\u001b[22m\u001b[22m\n",
      " [2] \u001b[1mArray\u001b[22m\u001b[22m\u001b[1m(\u001b[22m\u001b[22m::Type{Float64}, ::Int64, ::Int64\u001b[1m)\u001b[22m\u001b[22m at \u001b[1m./deprecated.jl:51\u001b[22m\u001b[22m\n",
      " [3] \u001b[1mtraindata\u001b[22m\u001b[22m\u001b[1m(\u001b[22m\u001b[22m\u001b[1m)\u001b[22m\u001b[22m at \u001b[1m/Users/david/.julia/v0.6/MNIST/src/MNIST.jl:88\u001b[22m\u001b[22m\n",
      " [4] \u001b[1minclude_string\u001b[22m\u001b[22m\u001b[1m(\u001b[22m\u001b[22m::String, ::String\u001b[1m)\u001b[22m\u001b[22m at \u001b[1m./loading.jl:498\u001b[22m\u001b[22m\n",
      " [5] \u001b[1mexecute_request\u001b[22m\u001b[22m\u001b[1m(\u001b[22m\u001b[22m::ZMQ.Socket, ::IJulia.Msg\u001b[1m)\u001b[22m\u001b[22m at \u001b[1m/Users/david/.julia/v0.6/IJulia/src/execute_request.jl:156\u001b[22m\u001b[22m\n",
      " [6] \u001b[1meventloop\u001b[22m\u001b[22m\u001b[1m(\u001b[22m\u001b[22m::ZMQ.Socket\u001b[1m)\u001b[22m\u001b[22m at \u001b[1m/Users/david/.julia/v0.6/IJulia/src/eventloop.jl:8\u001b[22m\u001b[22m\n",
      " [7] \u001b[1m(::IJulia.##9#12)\u001b[22m\u001b[22m\u001b[1m(\u001b[22m\u001b[22m\u001b[1m)\u001b[22m\u001b[22m at \u001b[1m./task.jl:335\u001b[22m\u001b[22m\n",
      "while loading In[4], in expression starting on line 1\n",
      "\u001b[1m\u001b[33mWARNING: \u001b[39m\u001b[22m\u001b[33mArray{T}(::Type{T}, m::Int) is deprecated, use Array{T}(m) instead.\u001b[39m\n",
      "Stacktrace:\n",
      " [1] \u001b[1mdepwarn\u001b[22m\u001b[22m\u001b[1m(\u001b[22m\u001b[22m::String, ::Symbol\u001b[1m)\u001b[22m\u001b[22m at \u001b[1m./deprecated.jl:64\u001b[22m\u001b[22m\n",
      " [2] \u001b[1mArray\u001b[22m\u001b[22m\u001b[1m(\u001b[22m\u001b[22m::Type{Float64}, ::Int64\u001b[1m)\u001b[22m\u001b[22m at \u001b[1m./deprecated.jl:51\u001b[22m\u001b[22m\n",
      " [3] \u001b[1mtraindata\u001b[22m\u001b[22m\u001b[1m(\u001b[22m\u001b[22m\u001b[1m)\u001b[22m\u001b[22m at \u001b[1m/Users/david/.julia/v0.6/MNIST/src/MNIST.jl:89\u001b[22m\u001b[22m\n",
      " [4] \u001b[1minclude_string\u001b[22m\u001b[22m\u001b[1m(\u001b[22m\u001b[22m::String, ::String\u001b[1m)\u001b[22m\u001b[22m at \u001b[1m./loading.jl:498\u001b[22m\u001b[22m\n",
      " [5] \u001b[1mexecute_request\u001b[22m\u001b[22m\u001b[1m(\u001b[22m\u001b[22m::ZMQ.Socket, ::IJulia.Msg\u001b[1m)\u001b[22m\u001b[22m at \u001b[1m/Users/david/.julia/v0.6/IJulia/src/execute_request.jl:156\u001b[22m\u001b[22m\n",
      " [6] \u001b[1meventloop\u001b[22m\u001b[22m\u001b[1m(\u001b[22m\u001b[22m::ZMQ.Socket\u001b[1m)\u001b[22m\u001b[22m at \u001b[1m/Users/david/.julia/v0.6/IJulia/src/eventloop.jl:8\u001b[22m\u001b[22m\n",
      " [7] \u001b[1m(::IJulia.##9#12)\u001b[22m\u001b[22m\u001b[1m(\u001b[22m\u001b[22m\u001b[1m)\u001b[22m\u001b[22m at \u001b[1m./task.jl:335\u001b[22m\u001b[22m\n",
      "while loading In[4], in expression starting on line 1\n",
      "\u001b[1m\u001b[33mWARNING: \u001b[39m\u001b[22m\u001b[33mArray{T}(::Type{T}, m::Int, n::Int) is deprecated, use Array{T}(m, n) instead.\u001b[39m\n",
      "Stacktrace:\n",
      " [1] \u001b[1mdepwarn\u001b[22m\u001b[22m\u001b[1m(\u001b[22m\u001b[22m::String, ::Symbol\u001b[1m)\u001b[22m\u001b[22m at \u001b[1m./deprecated.jl:64\u001b[22m\u001b[22m\n",
      " [2] \u001b[1mArray\u001b[22m\u001b[22m\u001b[1m(\u001b[22m\u001b[22m::Type{Float64}, ::Int64, ::Int64\u001b[1m)\u001b[22m\u001b[22m at \u001b[1m./deprecated.jl:51\u001b[22m\u001b[22m\n",
      " [3] \u001b[1mtestdata\u001b[22m\u001b[22m\u001b[1m(\u001b[22m\u001b[22m\u001b[1m)\u001b[22m\u001b[22m at \u001b[1m/Users/david/.julia/v0.6/MNIST/src/MNIST.jl:99\u001b[22m\u001b[22m\n",
      " [4] \u001b[1minclude_string\u001b[22m\u001b[22m\u001b[1m(\u001b[22m\u001b[22m::String, ::String\u001b[1m)\u001b[22m\u001b[22m at \u001b[1m./loading.jl:498\u001b[22m\u001b[22m\n",
      " [5] \u001b[1mexecute_request\u001b[22m\u001b[22m\u001b[1m(\u001b[22m\u001b[22m::ZMQ.Socket, ::IJulia.Msg\u001b[1m)\u001b[22m\u001b[22m at \u001b[1m/Users/david/.julia/v0.6/IJulia/src/execute_request.jl:156\u001b[22m\u001b[22m\n",
      " [6] \u001b[1meventloop\u001b[22m\u001b[22m\u001b[1m(\u001b[22m\u001b[22m::ZMQ.Socket\u001b[1m)\u001b[22m\u001b[22m at \u001b[1m/Users/david/.julia/v0.6/IJulia/src/eventloop.jl:8\u001b[22m\u001b[22m\n",
      " [7] \u001b[1m(::IJulia.##9#12)\u001b[22m\u001b[22m\u001b[1m(\u001b[22m\u001b[22m\u001b[1m)\u001b[22m\u001b[22m at \u001b[1m./task.jl:335\u001b[22m\u001b[22m\n",
      "while loading In[4], in expression starting on line 2\n",
      "\u001b[1m\u001b[33mWARNING: \u001b[39m\u001b[22m\u001b[33mArray{T}(::Type{T}, m::Int) is deprecated, use Array{T}(m) instead.\u001b[39m\n",
      "Stacktrace:\n",
      " [1] \u001b[1mdepwarn\u001b[22m\u001b[22m\u001b[1m(\u001b[22m\u001b[22m::String, ::Symbol\u001b[1m)\u001b[22m\u001b[22m at \u001b[1m./deprecated.jl:64\u001b[22m\u001b[22m\n",
      " [2] \u001b[1mArray\u001b[22m\u001b[22m\u001b[1m(\u001b[22m\u001b[22m::Type{Float64}, ::Int64\u001b[1m)\u001b[22m\u001b[22m at \u001b[1m./deprecated.jl:51\u001b[22m\u001b[22m\n",
      " [3] \u001b[1mtestdata\u001b[22m\u001b[22m\u001b[1m(\u001b[22m\u001b[22m\u001b[1m)\u001b[22m\u001b[22m at \u001b[1m/Users/david/.julia/v0.6/MNIST/src/MNIST.jl:100\u001b[22m\u001b[22m\n",
      " [4] \u001b[1minclude_string\u001b[22m\u001b[22m\u001b[1m(\u001b[22m\u001b[22m::String, ::String\u001b[1m)\u001b[22m\u001b[22m at \u001b[1m./loading.jl:498\u001b[22m\u001b[22m\n",
      " [5] \u001b[1mexecute_request\u001b[22m\u001b[22m\u001b[1m(\u001b[22m\u001b[22m::ZMQ.Socket, ::IJulia.Msg\u001b[1m)\u001b[22m\u001b[22m at \u001b[1m/Users/david/.julia/v0.6/IJulia/src/execute_request.jl:156\u001b[22m\u001b[22m\n",
      " [6] \u001b[1meventloop\u001b[22m\u001b[22m\u001b[1m(\u001b[22m\u001b[22m::ZMQ.Socket\u001b[1m)\u001b[22m\u001b[22m at \u001b[1m/Users/david/.julia/v0.6/IJulia/src/eventloop.jl:8\u001b[22m\u001b[22m\n",
      " [7] \u001b[1m(::IJulia.##9#12)\u001b[22m\u001b[22m\u001b[1m(\u001b[22m\u001b[22m\u001b[1m)\u001b[22m\u001b[22m at \u001b[1m./task.jl:335\u001b[22m\u001b[22m\n",
      "while loading In[4], in expression starting on line 2\n"
     ]
    }
   ],
   "source": [
    "X_train, y_train = MNIST.traindata();\n",
    "X_test, y_test = MNIST.testdata();\n",
    "y_train = y_train + 1\n",
    "y_test = y_test + 1;\n",
    "\n",
    "T = Float32\n",
    "X_train = Array{T}((X_train - minimum(X_train))/(maximum(X_train) - minimum(X_train)))\n",
    "y_train = Array{Int64}(y_train)\n",
    "X_test = Array{T}(X_test - minimum(X_test))/(maximum(X_test) - minimum(X_test)) \n",
    "y_test = Array{Int64}(y_test);"
   ]
  },
  {
   "cell_type": "code",
   "execution_count": 5,
   "metadata": {
    "scrolled": true
   },
   "outputs": [
    {
     "name": "stdout",
     "output_type": "stream",
     "text": [
      "Accuracy epoch 1 is :0.5877166666666667\n",
      "Accuracy epoch 1 is :0.70205\n",
      "Accuracy epoch 1 is :0.7513666666666666\n",
      "Accuracy epoch 1 is :0.7771833333333333\n",
      "Accuracy epoch 1 is :0.7952\n",
      "Accuracy epoch 1 is :0.8076166666666666\n",
      "Accuracy epoch 1 is :0.8163666666666667\n",
      "Accuracy epoch 1 is :0.8235333333333333\n",
      "Accuracy epoch 1 is :0.82915\n",
      "Accuracy epoch 1 is :0.8340166666666666\n",
      "Accuracy epoch 1 is :0.8383833333333334\n",
      "Accuracy epoch 1 is :0.8424\n",
      "Accuracy epoch 1 is :0.8450833333333333\n",
      "Accuracy epoch 1 is :0.8476833333333333\n"
     ]
    },
    {
     "data": {
      "text/plain": [
       "BenchmarkTools.Trial: \n",
       "  memory estimate:  581.69 MiB\n",
       "  allocs estimate:  655081\n",
       "  --------------\n",
       "  minimum time:     911.939 ms (9.59% GC)\n",
       "  median time:      945.465 ms (8.91% GC)\n",
       "  mean time:        952.875 ms (8.76% GC)\n",
       "  maximum time:     1.011 s (7.75% GC)\n",
       "  --------------\n",
       "  samples:          6\n",
       "  evals/sample:     1"
      ]
     },
     "execution_count": 5,
     "metadata": {},
     "output_type": "execute_result"
    }
   ],
   "source": [
    "@benchmark MulticlassPerceptron1.fit!(percep1, X_train, y_train, 1, 0.0001)"
   ]
  },
  {
   "cell_type": "markdown",
   "metadata": {},
   "source": [
    "#### MulticlassPerceptron2\n",
    "\n",
    "- Using views instead of copying examples"
   ]
  },
  {
   "cell_type": "code",
   "execution_count": 6,
   "metadata": {},
   "outputs": [
    {
     "name": "stdout",
     "output_type": "stream",
     "text": [
      "Accuracy epoch 1 is :0.6088666666666667\n",
      "Accuracy epoch 1 is :0.70935\n",
      "Accuracy epoch 1 is :0.7524333333333333\n",
      "Accuracy epoch 1 is :0.7760833333333333\n",
      "Accuracy epoch 1 is :0.7926333333333333\n",
      "Accuracy epoch 1 is :0.80415\n",
      "Accuracy epoch 1 is :0.8133333333333334\n",
      "Accuracy epoch 1 is :0.8204666666666667\n",
      "Accuracy epoch 1 is :0.8267\n",
      "Accuracy epoch 1 is :0.8313833333333334\n",
      "Accuracy epoch 1 is :0.8357166666666667\n",
      "Accuracy epoch 1 is :0.8392666666666667\n",
      "Accuracy epoch 1 is :0.8424\n",
      "Accuracy epoch 1 is :0.8453166666666667\n",
      "Accuracy epoch 1 is :0.84805\n",
      "Accuracy epoch 1 is :0.85035\n",
      "Accuracy epoch 1 is :0.8523166666666666\n",
      "Accuracy epoch 1 is :0.8540166666666666\n",
      "Accuracy epoch 1 is :0.85625\n",
      "Accuracy epoch 1 is :0.8575833333333334\n",
      "Accuracy epoch 1 is :0.8591333333333333\n",
      "Accuracy epoch 1 is :0.8600833333333333\n",
      "Accuracy epoch 1 is :0.8613833333333333\n",
      "Accuracy epoch 1 is :0.8629333333333333\n",
      "Accuracy epoch 1 is :0.86425\n",
      "Accuracy epoch 1 is :0.865\n"
     ]
    },
    {
     "data": {
      "text/plain": [
       "BenchmarkTools.Trial: \n",
       "  memory estimate:  187.84 MiB\n",
       "  allocs estimate:  490908\n",
       "  --------------\n",
       "  minimum time:     352.676 ms (7.80% GC)\n",
       "  median time:      362.943 ms (7.25% GC)\n",
       "  mean time:        368.206 ms (7.13% GC)\n",
       "  maximum time:     411.802 ms (6.23% GC)\n",
       "  --------------\n",
       "  samples:          14\n",
       "  evals/sample:     1"
      ]
     },
     "execution_count": 6,
     "metadata": {},
     "output_type": "execute_result"
    }
   ],
   "source": [
    "@benchmark MulticlassPerceptron2.fit!(percep2, X_train, y_train, 1, 0.0001)"
   ]
  },
  {
   "cell_type": "markdown",
   "metadata": {},
   "source": [
    "#### MulticlassPerceptron3\n",
    "\n",
    "- Using views instead of copying examples\n",
    "- using inbounds\n"
   ]
  },
  {
   "cell_type": "code",
   "execution_count": 7,
   "metadata": {
    "scrolled": true
   },
   "outputs": [
    {
     "name": "stdout",
     "output_type": "stream",
     "text": [
      "Accuracy epoch 1 is :0.60565\n",
      "Accuracy epoch 1 is :0.71085\n",
      "Accuracy epoch 1 is :0.7527833333333334\n",
      "Accuracy epoch 1 is :0.7762833333333333\n",
      "Accuracy epoch 1 is :0.7918833333333334\n",
      "Accuracy epoch 1 is :0.8034833333333333\n",
      "Accuracy epoch 1 is :0.8123666666666667\n",
      "Accuracy epoch 1 is :0.8195166666666667\n",
      "Accuracy epoch 1 is :0.8252\n",
      "Accuracy epoch 1 is :0.83075\n",
      "Accuracy epoch 1 is :0.83485\n",
      "Accuracy epoch 1 is :0.8379833333333333\n",
      "Accuracy epoch 1 is :0.8409833333333333\n",
      "Accuracy epoch 1 is :0.8438833333333333\n",
      "Accuracy epoch 1 is :0.8464\n",
      "Accuracy epoch 1 is :0.8487333333333333\n",
      "Accuracy epoch 1 is :0.8504666666666667\n",
      "Accuracy epoch 1 is :0.8524\n",
      "Accuracy epoch 1 is :0.8540166666666666\n",
      "Accuracy epoch 1 is :0.8558833333333333\n",
      "Accuracy epoch 1 is :0.8576666666666667\n",
      "Accuracy epoch 1 is :0.8585333333333334\n",
      "Accuracy epoch 1 is :0.85965\n",
      "Accuracy epoch 1 is :0.861\n",
      "Accuracy epoch 1 is :0.8621333333333333\n",
      "Accuracy epoch 1 is :0.8630166666666667\n",
      "Accuracy epoch 1 is :0.8639\n",
      "Accuracy epoch 1 is :0.8647166666666667\n",
      "Accuracy epoch 1 is :0.8653333333333333\n",
      "Accuracy epoch 1 is :0.8657833333333333\n",
      "Accuracy epoch 1 is :0.8666\n",
      "Accuracy epoch 1 is :0.8672166666666666\n"
     ]
    },
    {
     "data": {
      "text/plain": [
       "BenchmarkTools.Trial: \n",
       "  memory estimate:  153.74 MiB\n",
       "  allocs estimate:  168537\n",
       "  --------------\n",
       "  minimum time:     334.486 ms (6.96% GC)\n",
       "  median time:      354.597 ms (6.24% GC)\n",
       "  mean time:        358.858 ms (6.28% GC)\n",
       "  maximum time:     386.456 ms (4.97% GC)\n",
       "  --------------\n",
       "  samples:          15\n",
       "  evals/sample:     1"
      ]
     },
     "execution_count": 7,
     "metadata": {},
     "output_type": "execute_result"
    }
   ],
   "source": [
    "@benchmark MulticlassPerceptron3.fit!(percep3, X_train, y_train, 1, 0.0001)"
   ]
  },
  {
   "cell_type": "markdown",
   "metadata": {
    "collapsed": true
   },
   "source": [
    "#### MulticlassPerceptron4\n",
    "\n",
    "- Using views instead of copying examples\n",
    "- using views\n",
    "- prealocated vector for predicting all datapoints\n",
    "- using .* sintax for loop fusion"
   ]
  },
  {
   "cell_type": "code",
   "execution_count": 8,
   "metadata": {
    "scrolled": true
   },
   "outputs": [
    {
     "name": "stdout",
     "output_type": "stream",
     "text": [
      "Accuracy epoch 1 is :0.6072666666666666\n",
      "Accuracy epoch 1 is :0.7085\n",
      "Accuracy epoch 1 is :0.7536333333333334\n",
      "Accuracy epoch 1 is :0.7773\n",
      "Accuracy epoch 1 is :0.79215\n",
      "Accuracy epoch 1 is :0.8029\n",
      "Accuracy epoch 1 is :0.81185\n",
      "Accuracy epoch 1 is :0.8189\n",
      "Accuracy epoch 1 is :0.82535\n",
      "Accuracy epoch 1 is :0.8301833333333334\n",
      "Accuracy epoch 1 is :0.83405\n",
      "Accuracy epoch 1 is :0.83755\n",
      "Accuracy epoch 1 is :0.8409\n",
      "Accuracy epoch 1 is :0.84315\n",
      "Accuracy epoch 1 is :0.8458333333333333\n",
      "Accuracy epoch 1 is :0.8478166666666667\n",
      "Accuracy epoch 1 is :0.8499833333333333\n",
      "Accuracy epoch 1 is :0.8519166666666667\n",
      "Accuracy epoch 1 is :0.8538166666666667\n",
      "Accuracy epoch 1 is :0.85535\n",
      "Accuracy epoch 1 is :0.8572\n",
      "Accuracy epoch 1 is :0.85865\n",
      "Accuracy epoch 1 is :0.8598166666666667\n",
      "Accuracy epoch 1 is :0.8607166666666667\n",
      "Accuracy epoch 1 is :0.8616666666666667\n",
      "Accuracy epoch 1 is :0.8625833333333334\n",
      "Accuracy epoch 1 is :0.8635666666666667\n",
      "Accuracy epoch 1 is :0.8642666666666666\n",
      "Accuracy epoch 1 is :0.8654\n",
      "Accuracy epoch 1 is :0.8661833333333333\n",
      "Accuracy epoch 1 is :0.8670333333333333\n",
      "Accuracy epoch 1 is :0.8677166666666667\n",
      "Accuracy epoch 1 is :0.8684166666666666\n"
     ]
    },
    {
     "data": {
      "text/plain": [
       "BenchmarkTools.Trial: \n",
       "  memory estimate:  55.41 MiB\n",
       "  allocs estimate:  152284\n",
       "  --------------\n",
       "  minimum time:     292.554 ms (2.45% GC)\n",
       "  median time:      311.382 ms (2.84% GC)\n",
       "  mean time:        315.694 ms (2.79% GC)\n",
       "  maximum time:     350.124 ms (1.75% GC)\n",
       "  --------------\n",
       "  samples:          16\n",
       "  evals/sample:     1"
      ]
     },
     "execution_count": 8,
     "metadata": {},
     "output_type": "execute_result"
    }
   ],
   "source": [
    "@benchmark MulticlassPerceptron4.fit!(percep4, X_train, y_train, 1, 0.0001)"
   ]
  },
  {
   "cell_type": "markdown",
   "metadata": {},
   "source": [
    "#### MulticlassPerceptron5\n",
    "\n",
    "**What else can be improved?**\n",
    "\n",
    "**Can we push the code to memory estimate 0 ?**\n",
    "\n",
    "**Are we really using the BLAS at the fullest potential?**\n"
   ]
  },
  {
   "cell_type": "code",
   "execution_count": null,
   "metadata": {
    "collapsed": true
   },
   "outputs": [],
   "source": []
  }
 ],
 "metadata": {
  "anaconda-cloud": {},
  "kernelspec": {
   "display_name": "Julia 0.6.0-dev",
   "language": "julia",
   "name": "julia-0.6"
  },
  "language_info": {
   "file_extension": ".jl",
   "mimetype": "application/julia",
   "name": "julia",
   "version": "0.6.0"
  }
 },
 "nbformat": 4,
 "nbformat_minor": 1
}
