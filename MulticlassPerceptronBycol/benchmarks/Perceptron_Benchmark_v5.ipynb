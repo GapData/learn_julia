{
 "cells": [
  {
   "cell_type": "markdown",
   "metadata": {},
   "source": [
    "## Benchmarking Perceptron\n",
    "\n",
    "\n",
    "#### About profiling julia code\n",
    "\n",
    "- https://thirld.com/blog/2015/05/30/julia-profiling-cheat-sheet/\n",
    "\n",
    "#### Examples of speeding up code\n",
    "\n",
    "There is a small number of \"tricks\" that can be applied to speed up execution time and save memory allocations. This is paramount for enjoying C like speed with julia code.\n",
    "\n",
    "- https://discourse.julialang.org/t/speed-up-this-code-game/3666"
   ]
  },
  {
   "cell_type": "code",
   "execution_count": 1,
   "metadata": {},
   "outputs": [
    {
     "name": "stdout",
     "output_type": "stream",
     "text": [
      "Julia Version 0.5.0\n",
      "Commit 3c9d753 (2016-09-19 18:14 UTC)\n",
      "Platform Info:\n",
      "  System: Darwin (x86_64-apple-darwin13.4.0)\n",
      "  CPU: Intel(R) Core(TM) i7-4650U CPU @ 1.70GHz\n",
      "  WORD_SIZE: 64\n",
      "  BLAS: libopenblas (USE64BITINT DYNAMIC_ARCH NO_AFFINITY Haswell)\n",
      "  LAPACK: libopenblas64_\n",
      "  LIBM: libopenlibm\n",
      "  LLVM: libLLVM-3.7.1 (ORCJIT, haswell)\n"
     ]
    }
   ],
   "source": [
    "workspace()\n",
    "versioninfo()"
   ]
  },
  {
   "cell_type": "code",
   "execution_count": 2,
   "metadata": {},
   "outputs": [
    {
     "name": "stderr",
     "output_type": "stream",
     "text": [
      "WARNING: Method definition take!(Task) in module Compat at /Users/david/.julia/v0.5/Compat/src/Compat.jl:53 overwritten in module Compat at /Users/david/.julia/v0.5/Compat/src/Compat.jl:53.\n",
      "WARNING: Method definition take!(Main.Base.AbstractIOBuffer) in module Compat at /Users/david/.julia/v0.5/Compat/src/Compat.jl:1170 overwritten in module Compat at /Users/david/.julia/v0.5/Compat/src/Compat.jl:1170.\n",
      "WARNING: Method definition redirect_stderr(Function, Any) in module Compat at /Users/david/.julia/v0.5/Compat/src/Compat.jl:1055 overwritten in module Compat at /Users/david/.julia/v0.5/Compat/src/Compat.jl:1055.\n",
      "WARNING: Method definition ones(AbstractArray) in module Compat at /Users/david/.julia/v0.5/Compat/src/Compat.jl:1430 overwritten in module Compat at /Users/david/.julia/v0.5/Compat/src/Compat.jl:1430.\n",
      "WARNING: Method definition ones(AbstractArray, Type) in module Compat at /Users/david/.julia/v0.5/Compat/src/Compat.jl:1430 overwritten in module Compat at /Users/david/.julia/v0.5/Compat/src/Compat.jl:1430.\n",
      "WARNING: Method definition ones(AbstractArray, Type, Tuple) in module Compat at /Users/david/.julia/v0.5/Compat/src/Compat.jl:1428 overwritten in module Compat at /Users/david/.julia/v0.5/Compat/src/Compat.jl:1428.\n",
      "WARNING: Method definition ones(AbstractArray, Type, Any...) in module Compat at /Users/david/.julia/v0.5/Compat/src/Compat.jl:1429 overwritten in module Compat at /Users/david/.julia/v0.5/Compat/src/Compat.jl:1429.\n",
      "WARNING: Method definition bswap(Main.Base.Complex) in module Compat at /Users/david/.julia/v0.5/Compat/src/Compat.jl:1464 overwritten in module Compat at /Users/david/.julia/v0.5/Compat/src/Compat.jl:1464.\n",
      "WARNING: Method definition isassigned(Main.Base.RefValue) in module Compat at /Users/david/.julia/v0.5/Compat/src/Compat.jl:1455 overwritten in module Compat at /Users/david/.julia/v0.5/Compat/src/Compat.jl:1455.\n",
      "WARNING: Method definition broadcast(Any, Tuple{Vararg{T<:Any, #N<:Any}}, Tuple{Vararg{T<:Any, #N<:Any}}...) in module Compat at /Users/david/.julia/v0.5/Compat/src/Compat.jl:1120 overwritten in module Compat at /Users/david/.julia/v0.5/Compat/src/Compat.jl:1120.\n",
      "WARNING: Method definition zeros(AbstractArray) in module Compat at /Users/david/.julia/v0.5/Compat/src/Compat.jl:1430 overwritten in module Compat at /Users/david/.julia/v0.5/Compat/src/Compat.jl:1430.\n",
      "WARNING: Method definition zeros(AbstractArray, Type) in module Compat at /Users/david/.julia/v0.5/Compat/src/Compat.jl:1430 overwritten in module Compat at /Users/david/.julia/v0.5/Compat/src/Compat.jl:1430.\n",
      "WARNING: Method definition zeros(AbstractArray, Type, Tuple) in module Compat at /Users/david/.julia/v0.5/Compat/src/Compat.jl:1428 overwritten in module Compat at /Users/david/.julia/v0.5/Compat/src/Compat.jl:1428.\n",
      "WARNING: Method definition zeros(AbstractArray, Type, Any...) in module Compat at /Users/david/.julia/v0.5/Compat/src/Compat.jl:1429 overwritten in module Compat at /Users/david/.julia/v0.5/Compat/src/Compat.jl:1429.\n",
      "WARNING: Method definition isless(Union{Main.Base.Dates.Day, Main.Base.Dates.Millisecond, Main.Base.Dates.Hour, Main.Base.Dates.Week, Main.Base.Dates.Second, Main.Base.Dates.Minute}, Union{Main.Base.Dates.Year, Main.Base.Dates.Month}) in module Compat at /Users/david/.julia/v0.5/Compat/src/Compat.jl:1505 overwritten in module Compat at /Users/david/.julia/v0.5/Compat/src/Compat.jl:1505.\n",
      "WARNING: Method definition isless(Union{Main.Base.Dates.Year, Main.Base.Dates.Month}, Union{Main.Base.Dates.Day, Main.Base.Dates.Millisecond, Main.Base.Dates.Hour, Main.Base.Dates.Week, Main.Base.Dates.Second, Main.Base.Dates.Minute}) in module Compat at /Users/david/.julia/v0.5/Compat/src/Compat.jl:1506 overwritten in module Compat at /Users/david/.julia/v0.5/Compat/src/Compat.jl:1506.\n",
      "WARNING: Method definition isless(Main.Base.Dates.Period, Main.Base.Dates.Period) in module Compat at /Users/david/.julia/v0.5/Compat/src/Compat.jl:1500 overwritten in module Compat at /Users/david/.julia/v0.5/Compat/src/Compat.jl:1500.\n",
      "WARNING: Method definition convert(Type{Main.Base.Set{#T<:Any}}, Main.Base.Set{#T<:Any}) in module Compat at /Users/david/.julia/v0.5/Compat/src/Compat.jl:1449 overwritten in module Compat at /Users/david/.julia/v0.5/Compat/src/Compat.jl:1449.\n",
      "WARNING: Method definition convert(Type{Main.Base.Set{#T<:Any}}, Main.Base.Set) in module Compat at /Users/david/.julia/v0.5/Compat/src/Compat.jl:1450 overwritten in module Compat at /Users/david/.julia/v0.5/Compat/src/Compat.jl:1450.\n",
      "WARNING: Method definition redirect_stdout(Function, Any) in module Compat at /Users/david/.julia/v0.5/Compat/src/Compat.jl:1055 overwritten in module Compat at /Users/david/.julia/v0.5/Compat/src/Compat.jl:1055.\n",
      "WARNING: Method definition unsafe_trunc(Type{#T<:Integer}, Integer) in module Compat at /Users/david/.julia/v0.5/Compat/src/Compat.jl:1459 overwritten in module Compat at /Users/david/.julia/v0.5/Compat/src/Compat.jl:1459.\n",
      "WARNING: Method definition isnull(Any) in module Compat at /Users/david/.julia/v0.5/Compat/src/Compat.jl:1135 overwritten in module Compat at /Users/david/.julia/v0.5/Compat/src/Compat.jl:1135.\n",
      "WARNING: Method definition redirect_stdin(Function, Any) in module Compat at /Users/david/.julia/v0.5/Compat/src/Compat.jl:1055 overwritten in module Compat at /Users/david/.julia/v0.5/Compat/src/Compat.jl:1055.\n",
      "WARNING: Method definition ==(Union{Main.Base.Dates.Day, Main.Base.Dates.Millisecond, Main.Base.Dates.Hour, Main.Base.Dates.Week, Main.Base.Dates.Second, Main.Base.Dates.Minute}, Union{Main.Base.Dates.Year, Main.Base.Dates.Month}) in module Compat at /Users/david/.julia/v0.5/Compat/src/Compat.jl:1503 overwritten in module Compat at /Users/david/.julia/v0.5/Compat/src/Compat.jl:1503.\n",
      "WARNING: Method definition ==(Union{Main.Base.Dates.Year, Main.Base.Dates.Month}, Union{Main.Base.Dates.Day, Main.Base.Dates.Millisecond, Main.Base.Dates.Hour, Main.Base.Dates.Week, Main.Base.Dates.Second, Main.Base.Dates.Minute}) in module Compat at /Users/david/.julia/v0.5/Compat/src/Compat.jl:1504 overwritten in module Compat at /Users/david/.julia/v0.5/Compat/src/Compat.jl:1504.\n",
      "WARNING: Method definition ==(Main.Base.Dates.Period, Main.Base.Dates.Period) in module Compat at /Users/david/.julia/v0.5/Compat/src/Compat.jl:1499 overwritten in module Compat at /Users/david/.julia/v0.5/Compat/src/Compat.jl:1499.\n",
      "WARNING: Method definition !(Function) in module Compat at /Users/david/.julia/v0.5/Compat/src/Compat.jl:1203 overwritten in module Compat at /Users/david/.julia/v0.5/Compat/src/Compat.jl:1203.\n",
      "WARNING: Method definition (::Type{Main.Base.LinearIndexing})(Type{#T<:Any}) in module Compat at /Users/david/.julia/v0.5/Compat/src/Compat.jl:1420 overwritten in module Compat at /Users/david/.julia/v0.5/Compat/src/Compat.jl:1420.\n",
      "WARNING: Method definition (::Type{Main.Base.LinearIndexing})(Any...) in module Compat at /Users/david/.julia/v0.5/Compat/src/Compat.jl:1421 overwritten in module Compat at /Users/david/.julia/v0.5/Compat/src/Compat.jl:1421.\n"
     ]
    }
   ],
   "source": [
    "using MNIST\n",
    "using BenchmarkTools"
   ]
  },
  {
   "cell_type": "code",
   "execution_count": 3,
   "metadata": {},
   "outputs": [
    {
     "data": {
      "text/plain": [
       "784"
      ]
     },
     "execution_count": 3,
     "metadata": {},
     "output_type": "execute_result"
    }
   ],
   "source": [
    "\n",
    "source_path = join(push!(split(pwd(),\"/\")[1:end-1],\"source/\" ),\"/\")\n",
    "\n",
    "if !contains(==,LOAD_PATH, source_path) \n",
    "    push!(LOAD_PATH, source_path)\n",
    "end\n",
    "\n",
    "using MulticlassPerceptron4\n",
    "using MulticlassPerceptron3\n",
    "using MulticlassPerceptron2\n",
    "using MulticlassPerceptron1\n",
    "\n",
    "percep1 = MulticlassPerceptron1.MPerceptron(Float32, 10, 784)\n",
    "percep2 = MulticlassPerceptron2.MPerceptron(Float32, 10, 784)\n",
    "percep3 = MulticlassPerceptron3.MPerceptron(Float32, 10, 784)\n",
    "percep4 = MulticlassPerceptron4.MPerceptron(Float32, 10, 784)\n",
    "\n",
    "n_classes = 10\n",
    "n_features = 784"
   ]
  },
  {
   "cell_type": "code",
   "execution_count": 4,
   "metadata": {
    "collapsed": true
   },
   "outputs": [],
   "source": [
    "X_train, y_train = MNIST.traindata();\n",
    "X_test, y_test = MNIST.testdata();\n",
    "y_train = y_train + 1\n",
    "y_test = y_test + 1;\n",
    "\n",
    "T = Float32\n",
    "X_train = Array{T}((X_train - minimum(X_train))/(maximum(X_train) - minimum(X_train)))\n",
    "y_train = Array{Int64}(y_train)\n",
    "X_test = Array{T}(X_test - minimum(X_test))/(maximum(X_test) - minimum(X_test)) \n",
    "y_test = Array{Int64}(y_test);"
   ]
  },
  {
   "cell_type": "code",
   "execution_count": 5,
   "metadata": {
    "scrolled": true
   },
   "outputs": [
    {
     "name": "stdout",
     "output_type": "stream",
     "text": [
      "Accuracy epoch 1 is :0.5694833333333333\n",
      "Accuracy epoch 1 is :0.6897666666666666\n",
      "Accuracy epoch 1 is :0.7429333333333333\n",
      "Accuracy epoch 1 is :0.7706333333333333\n",
      "Accuracy epoch 1 is :0.7892833333333333\n",
      "Accuracy epoch 1 is :0.8021833333333334\n",
      "Accuracy epoch 1 is :0.8119333333333333\n",
      "Accuracy epoch 1 is :0.8197\n",
      "Accuracy epoch 1 is :0.8252333333333334\n",
      "Accuracy epoch 1 is :0.83065\n",
      "Accuracy epoch 1 is :0.8352166666666667\n",
      "Accuracy epoch 1 is :0.8387166666666667\n",
      "Accuracy epoch 1 is :0.8422666666666667\n"
     ]
    },
    {
     "data": {
      "text/plain": [
       "BenchmarkTools.Trial: \n",
       "  memory estimate:  712.49 MiB\n",
       "  allocs estimate:  974412\n",
       "  --------------\n",
       "  minimum time:     987.298 ms (8.42% GC)\n",
       "  median time:      1.200 s (7.94% GC)\n",
       "  mean time:        1.211 s (8.77% GC)\n",
       "  maximum time:     1.492 s (10.67% GC)\n",
       "  --------------\n",
       "  samples:          5\n",
       "  evals/sample:     1"
      ]
     },
     "execution_count": 5,
     "metadata": {},
     "output_type": "execute_result"
    }
   ],
   "source": [
    "@benchmark MulticlassPerceptron1.fit!(percep1, X_train, y_train, 1, 0.0001)"
   ]
  },
  {
   "cell_type": "code",
   "execution_count": null,
   "metadata": {
    "collapsed": true
   },
   "outputs": [],
   "source": []
  },
  {
   "cell_type": "markdown",
   "metadata": {},
   "source": [
    "#### MulticlassPerceptron2\n",
    "\n",
    "- Using views instead of copying examples"
   ]
  },
  {
   "cell_type": "code",
   "execution_count": 6,
   "metadata": {},
   "outputs": [
    {
     "name": "stdout",
     "output_type": "stream",
     "text": [
      "Accuracy epoch 1 is :0.5942\n",
      "Accuracy epoch 1 is :0.7090666666666666\n",
      "Accuracy epoch 1 is :0.7551166666666667\n",
      "Accuracy epoch 1 is :0.7815\n",
      "Accuracy epoch 1 is :0.79785\n",
      "Accuracy epoch 1 is :0.8095833333333333\n",
      "Accuracy epoch 1 is :0.8181333333333334\n",
      "Accuracy epoch 1 is :0.8250333333333333\n",
      "Accuracy epoch 1 is :0.8307833333333333\n",
      "Accuracy epoch 1 is :0.8353666666666667\n",
      "Accuracy epoch 1 is :0.83925\n",
      "Accuracy epoch 1 is :0.8430666666666666\n",
      "Accuracy epoch 1 is :0.8461166666666666\n",
      "Accuracy epoch 1 is :0.8485833333333334\n",
      "Accuracy epoch 1 is :0.8511\n",
      "Accuracy epoch 1 is :0.8528\n",
      "Accuracy epoch 1 is :0.8549166666666667\n",
      "Accuracy epoch 1 is :0.8566\n",
      "Accuracy epoch 1 is :0.8579\n",
      "Accuracy epoch 1 is :0.8593166666666666\n",
      "Accuracy epoch 1 is :0.8607666666666667\n",
      "Accuracy epoch 1 is :0.8619\n",
      "Accuracy epoch 1 is :0.8629166666666667\n",
      "Accuracy epoch 1 is :0.8639\n",
      "Accuracy epoch 1 is :0.8648666666666667\n",
      "Accuracy epoch 1 is :0.8658833333333333\n",
      "Accuracy epoch 1 is :0.8667833333333334\n",
      "Accuracy epoch 1 is :0.8672833333333333\n",
      "Accuracy epoch 1 is :0.8679166666666667\n",
      "Accuracy epoch 1 is :0.86885\n",
      "Accuracy epoch 1 is :0.8696333333333334\n",
      "Accuracy epoch 1 is :0.8703333333333333\n",
      "Accuracy epoch 1 is :0.8709\n",
      "Accuracy epoch 1 is :0.8715166666666667\n",
      "Accuracy epoch 1 is :0.8718\n",
      "Accuracy epoch 1 is :0.87235\n",
      "Accuracy epoch 1 is :0.8726666666666667\n",
      "Accuracy epoch 1 is :0.8732\n",
      "Accuracy epoch 1 is :0.87375\n",
      "Accuracy epoch 1 is :0.8741166666666667\n",
      "Accuracy epoch 1 is :0.8747166666666667\n",
      "Accuracy epoch 1 is :0.87505\n",
      "Accuracy epoch 1 is :0.8754333333333333\n",
      "Accuracy epoch 1 is :0.8759166666666667\n",
      "Accuracy epoch 1 is :0.8762\n"
     ]
    },
    {
     "data": {
      "text/plain": [
       "BenchmarkTools.Trial: \n",
       "  memory estimate:  179.90 MiB\n",
       "  allocs estimate:  719121\n",
       "  --------------\n",
       "  minimum time:     211.234 ms (11.97% GC)\n",
       "  median time:      231.052 ms (10.69% GC)\n",
       "  mean time:        230.448 ms (10.77% GC)\n",
       "  maximum time:     259.418 ms (10.83% GC)\n",
       "  --------------\n",
       "  samples:          22\n",
       "  evals/sample:     1"
      ]
     },
     "execution_count": 6,
     "metadata": {},
     "output_type": "execute_result"
    }
   ],
   "source": [
    "@benchmark MulticlassPerceptron2.fit!(percep2, X_train, y_train, 1, 0.0001)"
   ]
  },
  {
   "cell_type": "markdown",
   "metadata": {},
   "source": [
    "#### MulticlassPerceptron3\n",
    "\n",
    "- Using views instead of copying examples\n",
    "- using inbounds\n"
   ]
  },
  {
   "cell_type": "code",
   "execution_count": 7,
   "metadata": {
    "scrolled": false
   },
   "outputs": [
    {
     "name": "stdout",
     "output_type": "stream",
     "text": [
      "Accuracy epoch 1 is :0.5858666666666666\n",
      "Accuracy epoch 1 is :0.7003\n",
      "Accuracy epoch 1 is :0.7468333333333333\n",
      "Accuracy epoch 1 is :0.7737333333333334\n",
      "Accuracy epoch 1 is :0.79125\n",
      "Accuracy epoch 1 is :0.80305\n",
      "Accuracy epoch 1 is :0.8128\n",
      "Accuracy epoch 1 is :0.8205833333333333\n",
      "Accuracy epoch 1 is :0.8262666666666667\n",
      "Accuracy epoch 1 is :0.8312333333333334\n",
      "Accuracy epoch 1 is :0.8356\n",
      "Accuracy epoch 1 is :0.8387833333333333\n",
      "Accuracy epoch 1 is :0.84235\n",
      "Accuracy epoch 1 is :0.8453666666666667\n",
      "Accuracy epoch 1 is :0.8476\n",
      "Accuracy epoch 1 is :0.8498666666666667\n",
      "Accuracy epoch 1 is :0.8515166666666667\n",
      "Accuracy epoch 1 is :0.8533166666666666\n",
      "Accuracy epoch 1 is :0.8548166666666667\n",
      "Accuracy epoch 1 is :0.8564166666666667\n",
      "Accuracy epoch 1 is :0.8571833333333333\n",
      "Accuracy epoch 1 is :0.8585833333333334\n",
      "Accuracy epoch 1 is :0.8599333333333333\n",
      "Accuracy epoch 1 is :0.86105\n",
      "Accuracy epoch 1 is :0.86165\n",
      "Accuracy epoch 1 is :0.8625666666666667\n",
      "Accuracy epoch 1 is :0.86395\n",
      "Accuracy epoch 1 is :0.8648166666666667\n",
      "Accuracy epoch 1 is :0.8659\n",
      "Accuracy epoch 1 is :0.8661333333333333\n",
      "Accuracy epoch 1 is :0.8672\n",
      "Accuracy epoch 1 is :0.8677666666666667\n",
      "Accuracy epoch 1 is :0.8688833333333333\n",
      "Accuracy epoch 1 is :0.8694666666666667\n",
      "Accuracy epoch 1 is :0.8701166666666666\n",
      "Accuracy epoch 1 is :0.8705666666666667\n",
      "Accuracy epoch 1 is :0.8709666666666667\n",
      "Accuracy epoch 1 is :0.8715333333333334\n",
      "Accuracy epoch 1 is :0.87215\n",
      "Accuracy epoch 1 is :0.8731333333333333\n",
      "Accuracy epoch 1 is :0.87355\n",
      "Accuracy epoch 1 is :0.8742166666666666\n",
      "Accuracy epoch 1 is :0.8745333333333334\n",
      "Accuracy epoch 1 is :0.8752333333333333\n",
      "Accuracy epoch 1 is :0.8757333333333334\n"
     ]
    },
    {
     "data": {
      "text/plain": [
       "BenchmarkTools.Trial: \n",
       "  memory estimate:  167.94 MiB\n",
       "  allocs estimate:  599860\n",
       "  --------------\n",
       "  minimum time:     213.061 ms (12.94% GC)\n",
       "  median time:      230.968 ms (11.86% GC)\n",
       "  mean time:        231.726 ms (11.62% GC)\n",
       "  maximum time:     251.474 ms (10.74% GC)\n",
       "  --------------\n",
       "  samples:          22\n",
       "  evals/sample:     1"
      ]
     },
     "execution_count": 7,
     "metadata": {},
     "output_type": "execute_result"
    }
   ],
   "source": [
    "@benchmark MulticlassPerceptron3.fit!(percep3, X_train, y_train, 1, 0.0001)"
   ]
  },
  {
   "cell_type": "markdown",
   "metadata": {
    "collapsed": true
   },
   "source": [
    "#### MulticlassPerceptron4\n",
    "\n",
    "- Using views instead of copying examples\n",
    "- using views\n",
    "- prealocated vector for predicting all datapoints\n",
    "- using .* sintax for loop fusion"
   ]
  },
  {
   "cell_type": "code",
   "execution_count": 8,
   "metadata": {
    "scrolled": false
   },
   "outputs": [
    {
     "name": "stdout",
     "output_type": "stream",
     "text": [
      "Accuracy epoch 1 is :0.5830166666666666\n",
      "Accuracy epoch 1 is :0.69805\n",
      "Accuracy epoch 1 is :0.7456333333333334\n",
      "Accuracy epoch 1 is :0.7720333333333333\n",
      "Accuracy epoch 1 is :0.7898166666666666\n",
      "Accuracy epoch 1 is :0.80155\n",
      "Accuracy epoch 1 is :0.8115666666666667\n",
      "Accuracy epoch 1 is :0.8188666666666666\n",
      "Accuracy epoch 1 is :0.82475\n",
      "Accuracy epoch 1 is :0.8298166666666666\n",
      "Accuracy epoch 1 is :0.8339\n",
      "Accuracy epoch 1 is :0.8381166666666666\n",
      "Accuracy epoch 1 is :0.8415333333333334\n",
      "Accuracy epoch 1 is :0.8446666666666667\n",
      "Accuracy epoch 1 is :0.8472166666666666\n",
      "Accuracy epoch 1 is :0.8495833333333334\n",
      "Accuracy epoch 1 is :0.8520833333333333\n",
      "Accuracy epoch 1 is :0.8540166666666666\n",
      "Accuracy epoch 1 is :0.8558\n",
      "Accuracy epoch 1 is :0.8575666666666667\n",
      "Accuracy epoch 1 is :0.85935\n",
      "Accuracy epoch 1 is :0.8607833333333333\n",
      "Accuracy epoch 1 is :0.8617833333333333\n",
      "Accuracy epoch 1 is :0.8625166666666667\n",
      "Accuracy epoch 1 is :0.8634833333333334\n",
      "Accuracy epoch 1 is :0.8644666666666667\n",
      "Accuracy epoch 1 is :0.8653166666666666\n",
      "Accuracy epoch 1 is :0.86635\n",
      "Accuracy epoch 1 is :0.8668833333333333\n",
      "Accuracy epoch 1 is :0.8675166666666667\n",
      "Accuracy epoch 1 is :0.8683833333333333\n",
      "Accuracy epoch 1 is :0.8696166666666667\n",
      "Accuracy epoch 1 is :0.87025\n",
      "Accuracy epoch 1 is :0.8708\n",
      "Accuracy epoch 1 is :0.8715\n",
      "Accuracy epoch 1 is :0.8723833333333333\n",
      "Accuracy epoch 1 is :0.8727166666666667\n",
      "Accuracy epoch 1 is :0.8732333333333333\n",
      "Accuracy epoch 1 is :0.8738833333333333\n",
      "Accuracy epoch 1 is :0.87455\n",
      "Accuracy epoch 1 is :0.8749\n",
      "Accuracy epoch 1 is :0.8753666666666666\n",
      "Accuracy epoch 1 is :0.8758666666666667\n",
      "Accuracy epoch 1 is :0.8766166666666667\n",
      "Accuracy epoch 1 is :0.8769166666666667\n",
      "Accuracy epoch 1 is :0.8774\n"
     ]
    },
    {
     "data": {
      "text/plain": [
       "BenchmarkTools.Trial: \n",
       "  memory estimate:  165.31 MiB\n",
       "  allocs estimate:  598078\n",
       "  --------------\n",
       "  minimum time:     206.841 ms (12.28% GC)\n",
       "  median time:      220.375 ms (12.35% GC)\n",
       "  mean time:        222.287 ms (12.33% GC)\n",
       "  maximum time:     245.430 ms (11.09% GC)\n",
       "  --------------\n",
       "  samples:          23\n",
       "  evals/sample:     1"
      ]
     },
     "execution_count": 8,
     "metadata": {},
     "output_type": "execute_result"
    }
   ],
   "source": [
    "@benchmark MulticlassPerceptron4.fit!(percep4, X_train, y_train, 1, 0.0001)"
   ]
  },
  {
   "cell_type": "markdown",
   "metadata": {},
   "source": [
    "#### MulticlassPerceptron5\n",
    "\n",
    "**What else can be improved?**\n",
    "\n",
    "`\n",
    "memory estimate:  79.56 MiB\n",
    "`\n",
    "\n",
    "**Can we push the code to memory estimate 0 ?**\n",
    "\n",
    "**Are we really using the BLAS at the fullest potential?**\n"
   ]
  },
  {
   "cell_type": "code",
   "execution_count": null,
   "metadata": {
    "collapsed": true
   },
   "outputs": [],
   "source": []
  }
 ],
 "metadata": {
  "anaconda-cloud": {},
  "kernelspec": {
   "display_name": "Julia 0.5.0",
   "language": "julia",
   "name": "julia-0.5"
  },
  "language_info": {
   "file_extension": ".jl",
   "mimetype": "application/julia",
   "name": "julia",
   "version": "0.5.0"
  }
 },
 "nbformat": 4,
 "nbformat_minor": 1
}
