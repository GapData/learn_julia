{
 "cells": [
  {
   "cell_type": "markdown",
   "metadata": {},
   "source": [
    "## Benchmarking Perceptron\n",
    "\n",
    "\n",
    "#### About profiling julia code\n",
    "\n",
    "- https://thirld.com/blog/2015/05/30/julia-profiling-cheat-sheet/\n",
    "\n",
    "#### Examples of speeding up code\n",
    "\n",
    "There is a small number of \"tricks\" that can be applied to speed up execution time and save memory allocations. This is paramount for enjoying C like speed with julia code.\n",
    "\n",
    "- https://discourse.julialang.org/t/speed-up-this-code-game/3666"
   ]
  },
  {
   "cell_type": "code",
   "execution_count": 1,
   "metadata": {},
   "outputs": [
    {
     "name": "stdout",
     "output_type": "stream",
     "text": [
      "Julia Version 0.5.0\n",
      "Commit 3c9d753 (2016-09-19 18:14 UTC)\n",
      "Platform Info:\n",
      "  System: Darwin (x86_64-apple-darwin13.4.0)\n",
      "  CPU: Intel(R) Core(TM) i7-4650U CPU @ 1.70GHz\n",
      "  WORD_SIZE: 64\n",
      "  BLAS: libopenblas (USE64BITINT DYNAMIC_ARCH NO_AFFINITY Haswell)\n",
      "  LAPACK: libopenblas64_\n",
      "  LIBM: libopenlibm\n",
      "  LLVM: libLLVM-3.7.1 (ORCJIT, haswell)\n"
     ]
    }
   ],
   "source": [
    "workspace()\n",
    "versioninfo()"
   ]
  },
  {
   "cell_type": "code",
   "execution_count": 2,
   "metadata": {},
   "outputs": [
    {
     "name": "stderr",
     "output_type": "stream",
     "text": [
      "WARNING: Method definition redirect_stdin(Function, Any) in module Compat at /Users/david/.julia/v0.5/Compat/src/Compat.jl:1057 overwritten in module Compat at /Users/david/.julia/v0.5/Compat/src/Compat.jl:1057.\n",
      "WARNING: Method definition ==(Union{Main.Base.Dates.Day, Main.Base.Dates.Millisecond, Main.Base.Dates.Hour, Main.Base.Dates.Week, Main.Base.Dates.Second, Main.Base.Dates.Minute}, Union{Main.Base.Dates.Year, Main.Base.Dates.Month}) in module Compat at /Users/david/.julia/v0.5/Compat/src/Compat.jl:1513 overwritten in module Compat at /Users/david/.julia/v0.5/Compat/src/Compat.jl:1513.\n",
      "WARNING: Method definition ==(Union{Main.Base.Dates.Year, Main.Base.Dates.Month}, Union{Main.Base.Dates.Day, Main.Base.Dates.Millisecond, Main.Base.Dates.Hour, Main.Base.Dates.Week, Main.Base.Dates.Second, Main.Base.Dates.Minute}) in module Compat at /Users/david/.julia/v0.5/Compat/src/Compat.jl:1514 overwritten in module Compat at /Users/david/.julia/v0.5/Compat/src/Compat.jl:1514.\n",
      "WARNING: Method definition ==(Main.Base.Dates.Period, Main.Base.Dates.Period) in module Compat at /Users/david/.julia/v0.5/Compat/src/Compat.jl:1509 overwritten in module Compat at /Users/david/.julia/v0.5/Compat/src/Compat.jl:1509.\n",
      "WARNING: Method definition isassigned(Main.Base.RefValue) in module Compat at /Users/david/.julia/v0.5/Compat/src/Compat.jl:1465 overwritten in module Compat at /Users/david/.julia/v0.5/Compat/src/Compat.jl:1465.\n",
      "WARNING: Method definition unsafe_trunc(Type{#T<:Integer}, Integer) in module Compat at /Users/david/.julia/v0.5/Compat/src/Compat.jl:1469 overwritten in module Compat at /Users/david/.julia/v0.5/Compat/src/Compat.jl:1469.\n",
      "WARNING: Method definition isless(Union{Main.Base.Dates.Day, Main.Base.Dates.Millisecond, Main.Base.Dates.Hour, Main.Base.Dates.Week, Main.Base.Dates.Second, Main.Base.Dates.Minute}, Union{Main.Base.Dates.Year, Main.Base.Dates.Month}) in module Compat at /Users/david/.julia/v0.5/Compat/src/Compat.jl:1515 overwritten in module Compat at /Users/david/.julia/v0.5/Compat/src/Compat.jl:1515.\n",
      "WARNING: Method definition isless(Union{Main.Base.Dates.Year, Main.Base.Dates.Month}, Union{Main.Base.Dates.Day, Main.Base.Dates.Millisecond, Main.Base.Dates.Hour, Main.Base.Dates.Week, Main.Base.Dates.Second, Main.Base.Dates.Minute}) in module Compat at /Users/david/.julia/v0.5/Compat/src/Compat.jl:1516 overwritten in module Compat at /Users/david/.julia/v0.5/Compat/src/Compat.jl:1516.\n",
      "WARNING: Method definition isless(Main.Base.Dates.Period, Main.Base.Dates.Period) in module Compat at /Users/david/.julia/v0.5/Compat/src/Compat.jl:1510 overwritten in module Compat at /Users/david/.julia/v0.5/Compat/src/Compat.jl:1510.\n",
      "WARNING: Method definition convert(Type{Main.Base.Set{#T<:Any}}, Main.Base.Set{#T<:Any}) in module Compat at /Users/david/.julia/v0.5/Compat/src/Compat.jl:1459 overwritten in module Compat at /Users/david/.julia/v0.5/Compat/src/Compat.jl:1459.\n",
      "WARNING: Method definition convert(Type{Main.Base.Set{#T<:Any}}, Main.Base.Set) in module Compat at /Users/david/.julia/v0.5/Compat/src/Compat.jl:1460 overwritten in module Compat at /Users/david/.julia/v0.5/Compat/src/Compat.jl:1460.\n",
      "WARNING: Method definition bswap(Main.Base.Complex) in module Compat at /Users/david/.julia/v0.5/Compat/src/Compat.jl:1474 overwritten in module Compat at /Users/david/.julia/v0.5/Compat/src/Compat.jl:1474.\n",
      "WARNING: Method definition isnull(Any) in module Compat at /Users/david/.julia/v0.5/Compat/src/Compat.jl:1137 overwritten in module Compat at /Users/david/.julia/v0.5/Compat/src/Compat.jl:1137.\n",
      "WARNING: Method definition !(Function) in module Compat at /Users/david/.julia/v0.5/Compat/src/Compat.jl:1205 overwritten in module Compat at /Users/david/.julia/v0.5/Compat/src/Compat.jl:1205.\n",
      "WARNING: Method definition take!(Task) in module Compat at /Users/david/.julia/v0.5/Compat/src/Compat.jl:53 overwritten in module Compat at /Users/david/.julia/v0.5/Compat/src/Compat.jl:53.\n",
      "WARNING: Method definition take!(Main.Base.AbstractIOBuffer) in module Compat at /Users/david/.julia/v0.5/Compat/src/Compat.jl:1172 overwritten in module Compat at /Users/david/.julia/v0.5/Compat/src/Compat.jl:1172.\n",
      "WARNING: Method definition broadcast(Any, Tuple{Vararg{T<:Any, #N<:Any}}, Tuple{Vararg{T<:Any, #N<:Any}}...) in module Compat at /Users/david/.julia/v0.5/Compat/src/Compat.jl:1122 overwritten in module Compat at /Users/david/.julia/v0.5/Compat/src/Compat.jl:1122.\n",
      "WARNING: Method definition redirect_stdout(Function, Any) in module Compat at /Users/david/.julia/v0.5/Compat/src/Compat.jl:1057 overwritten in module Compat at /Users/david/.julia/v0.5/Compat/src/Compat.jl:1057.\n",
      "WARNING: Method definition redirect_stderr(Function, Any) in module Compat at /Users/david/.julia/v0.5/Compat/src/Compat.jl:1057 overwritten in module Compat at /Users/david/.julia/v0.5/Compat/src/Compat.jl:1057.\n",
      "WARNING: Method definition zeros(AbstractArray) in module Compat at /Users/david/.julia/v0.5/Compat/src/Compat.jl:1440 overwritten in module Compat at /Users/david/.julia/v0.5/Compat/src/Compat.jl:1440.\n",
      "WARNING: Method definition zeros(AbstractArray, Type) in module Compat at /Users/david/.julia/v0.5/Compat/src/Compat.jl:1440 overwritten in module Compat at /Users/david/.julia/v0.5/Compat/src/Compat.jl:1440.\n",
      "WARNING: Method definition zeros(AbstractArray, Type, Tuple) in module Compat at /Users/david/.julia/v0.5/Compat/src/Compat.jl:1438 overwritten in module Compat at /Users/david/.julia/v0.5/Compat/src/Compat.jl:1438.\n",
      "WARNING: Method definition zeros(AbstractArray, Type, Any...) in module Compat at /Users/david/.julia/v0.5/Compat/src/Compat.jl:1439 overwritten in module Compat at /Users/david/.julia/v0.5/Compat/src/Compat.jl:1439.\n",
      "WARNING: Method definition ones(AbstractArray) in module Compat at /Users/david/.julia/v0.5/Compat/src/Compat.jl:1440 overwritten in module Compat at /Users/david/.julia/v0.5/Compat/src/Compat.jl:1440.\n",
      "WARNING: Method definition ones(AbstractArray, Type) in module Compat at /Users/david/.julia/v0.5/Compat/src/Compat.jl:1440 overwritten in module Compat at /Users/david/.julia/v0.5/Compat/src/Compat.jl:1440.\n",
      "WARNING: Method definition ones(AbstractArray, Type, Tuple) in module Compat at /Users/david/.julia/v0.5/Compat/src/Compat.jl:1438 overwritten in module Compat at /Users/david/.julia/v0.5/Compat/src/Compat.jl:1438.\n",
      "WARNING: Method definition ones(AbstractArray, Type, Any...) in module Compat at /Users/david/.julia/v0.5/Compat/src/Compat.jl:1439 overwritten in module Compat at /Users/david/.julia/v0.5/Compat/src/Compat.jl:1439.\n",
      "WARNING: Method definition (::Type{Main.Base.LinearIndexing})(Type{#T<:Any}) in module Compat at /Users/david/.julia/v0.5/Compat/src/Compat.jl:1430 overwritten in module Compat at /Users/david/.julia/v0.5/Compat/src/Compat.jl:1430.\n",
      "WARNING: Method definition (::Type{Main.Base.LinearIndexing})(Any...) in module Compat at /Users/david/.julia/v0.5/Compat/src/Compat.jl:1431 overwritten in module Compat at /Users/david/.julia/v0.5/Compat/src/Compat.jl:1431.\n"
     ]
    }
   ],
   "source": [
    "using MNIST\n",
    "using BenchmarkTools"
   ]
  },
  {
   "cell_type": "code",
   "execution_count": 3,
   "metadata": {},
   "outputs": [
    {
     "data": {
      "text/plain": [
       "784"
      ]
     },
     "execution_count": 3,
     "metadata": {},
     "output_type": "execute_result"
    }
   ],
   "source": [
    "\n",
    "source_path = join(push!(split(pwd(),\"/\")[1:end-1],\"source/\" ),\"/\")\n",
    "\n",
    "if !contains(==,LOAD_PATH, source_path) \n",
    "    push!(LOAD_PATH, source_path)\n",
    "end\n",
    "\n",
    "using MulticlassPerceptron4\n",
    "using MulticlassPerceptron3\n",
    "using MulticlassPerceptron2\n",
    "using MulticlassPerceptron1\n",
    "\n",
    "percep1 = MulticlassPerceptron1.MPerceptron(Float32, 10, 784)\n",
    "percep2 = MulticlassPerceptron2.MPerceptron(Float32, 10, 784)\n",
    "percep3 = MulticlassPerceptron3.MPerceptron(Float32, 10, 784)\n",
    "percep4 = MulticlassPerceptron4.MPerceptron(Float32, 10, 784)\n",
    "\n",
    "n_classes = 10\n",
    "n_features = 784"
   ]
  },
  {
   "cell_type": "code",
   "execution_count": 4,
   "metadata": {
    "collapsed": true
   },
   "outputs": [],
   "source": [
    "X_train, y_train = MNIST.traindata();\n",
    "X_test, y_test = MNIST.testdata();\n",
    "y_train = y_train + 1\n",
    "y_test = y_test + 1;\n",
    "\n",
    "T = Float32\n",
    "X_train = Array{T}((X_train - minimum(X_train))/(maximum(X_train) - minimum(X_train)))\n",
    "y_train = Array{Int64}(y_train)\n",
    "X_test = Array{T}(X_test - minimum(X_test))/(maximum(X_test) - minimum(X_test)) \n",
    "y_test = Array{Int64}(y_test);"
   ]
  },
  {
   "cell_type": "code",
   "execution_count": 5,
   "metadata": {
    "scrolled": true
   },
   "outputs": [
    {
     "name": "stdout",
     "output_type": "stream",
     "text": [
      "Accuracy epoch 1 is :0.5894666666666667\n",
      "Accuracy epoch 1 is :0.7051833333333334\n",
      "Accuracy epoch 1 is :0.7507666666666667\n",
      "Accuracy epoch 1 is :0.7770666666666667\n",
      "Accuracy epoch 1 is :0.79365\n",
      "Accuracy epoch 1 is :0.8064166666666667\n",
      "Accuracy epoch 1 is :0.81505\n",
      "Accuracy epoch 1 is :0.8219666666666666\n",
      "Accuracy epoch 1 is :0.8288666666666666\n",
      "Accuracy epoch 1 is :0.8337333333333333\n",
      "Accuracy epoch 1 is :0.8371\n",
      "Accuracy epoch 1 is :0.8411666666666666\n",
      "Accuracy epoch 1 is :0.8443833333333334\n",
      "Accuracy epoch 1 is :0.8470166666666666\n"
     ]
    },
    {
     "data": {
      "text/plain": [
       "BenchmarkTools.Trial: \n",
       "  memory estimate:  700.82 MiB\n",
       "  allocs estimate:  969112\n",
       "  --------------\n",
       "  minimum time:     860.834 ms (10.09% GC)\n",
       "  median time:      875.897 ms (10.42% GC)\n",
       "  mean time:        876.136 ms (10.42% GC)\n",
       "  maximum time:     896.919 ms (11.08% GC)\n",
       "  --------------\n",
       "  samples:          6\n",
       "  evals/sample:     1"
      ]
     },
     "execution_count": 5,
     "metadata": {},
     "output_type": "execute_result"
    }
   ],
   "source": [
    "@benchmark MulticlassPerceptron1.fit!(percep1, X_train, y_train, 1, 0.0001)"
   ]
  },
  {
   "cell_type": "markdown",
   "metadata": {},
   "source": [
    "#### MulticlassPerceptron2\n",
    "\n",
    "- Using views instead of copying examples"
   ]
  },
  {
   "cell_type": "code",
   "execution_count": 6,
   "metadata": {},
   "outputs": [
    {
     "name": "stdout",
     "output_type": "stream",
     "text": [
      "Accuracy epoch 1 is :0.5932333333333333\n",
      "Accuracy epoch 1 is :0.70485\n",
      "Accuracy epoch 1 is :0.75085\n",
      "Accuracy epoch 1 is :0.7765\n",
      "Accuracy epoch 1 is :0.7934\n",
      "Accuracy epoch 1 is :0.8061333333333334\n",
      "Accuracy epoch 1 is :0.8143333333333334\n",
      "Accuracy epoch 1 is :0.8213166666666667\n",
      "Accuracy epoch 1 is :0.8264166666666667\n",
      "Accuracy epoch 1 is :0.8309833333333333\n",
      "Accuracy epoch 1 is :0.8352666666666667\n",
      "Accuracy epoch 1 is :0.8387166666666667\n",
      "Accuracy epoch 1 is :0.84155\n",
      "Accuracy epoch 1 is :0.8442666666666667\n",
      "Accuracy epoch 1 is :0.8470166666666666\n",
      "Accuracy epoch 1 is :0.8488833333333333\n",
      "Accuracy epoch 1 is :0.8509166666666667\n",
      "Accuracy epoch 1 is :0.8524666666666667\n",
      "Accuracy epoch 1 is :0.85395\n",
      "Accuracy epoch 1 is :0.8556166666666667\n",
      "Accuracy epoch 1 is :0.8570666666666666\n",
      "Accuracy epoch 1 is :0.8582833333333333\n",
      "Accuracy epoch 1 is :0.8593166666666666\n",
      "Accuracy epoch 1 is :0.8604333333333334\n",
      "Accuracy epoch 1 is :0.8614\n",
      "Accuracy epoch 1 is :0.8624833333333334\n",
      "Accuracy epoch 1 is :0.8633\n",
      "Accuracy epoch 1 is :0.8643\n",
      "Accuracy epoch 1 is :0.8653833333333333\n",
      "Accuracy epoch 1 is :0.8662333333333333\n",
      "Accuracy epoch 1 is :0.8669333333333333\n",
      "Accuracy epoch 1 is :0.8675166666666667\n",
      "Accuracy epoch 1 is :0.8685\n",
      "Accuracy epoch 1 is :0.86905\n",
      "Accuracy epoch 1 is :0.8698833333333333\n",
      "Accuracy epoch 1 is :0.8705666666666667\n",
      "Accuracy epoch 1 is :0.87125\n",
      "Accuracy epoch 1 is :0.87175\n",
      "Accuracy epoch 1 is :0.8723833333333333\n",
      "Accuracy epoch 1 is :0.87265\n",
      "Accuracy epoch 1 is :0.8729166666666667\n",
      "Accuracy epoch 1 is :0.8735666666666667\n",
      "Accuracy epoch 1 is :0.87385\n",
      "Accuracy epoch 1 is :0.8744833333333333\n",
      "Accuracy epoch 1 is :0.8748166666666667\n",
      "Accuracy epoch 1 is :0.8752333333333333\n"
     ]
    },
    {
     "data": {
      "text/plain": [
       "BenchmarkTools.Trial: \n",
       "  memory estimate:  181.04 MiB\n",
       "  allocs estimate:  720092\n",
       "  --------------\n",
       "  minimum time:     209.718 ms (10.96% GC)\n",
       "  median time:      227.584 ms (11.73% GC)\n",
       "  mean time:        226.012 ms (11.55% GC)\n",
       "  maximum time:     240.665 ms (9.36% GC)\n",
       "  --------------\n",
       "  samples:          23\n",
       "  evals/sample:     1"
      ]
     },
     "execution_count": 6,
     "metadata": {},
     "output_type": "execute_result"
    }
   ],
   "source": [
    "@benchmark MulticlassPerceptron2.fit!(percep2, X_train, y_train, 1, 0.0001)"
   ]
  },
  {
   "cell_type": "markdown",
   "metadata": {},
   "source": [
    "#### MulticlassPerceptron3\n",
    "\n",
    "- Using views instead of copying examples\n",
    "- using inbounds\n"
   ]
  },
  {
   "cell_type": "code",
   "execution_count": 7,
   "metadata": {
    "scrolled": false
   },
   "outputs": [
    {
     "name": "stdout",
     "output_type": "stream",
     "text": [
      "Accuracy epoch 1 is :0.59695\n",
      "Accuracy epoch 1 is :0.7084666666666667\n",
      "Accuracy epoch 1 is :0.7534\n",
      "Accuracy epoch 1 is :0.77915\n",
      "Accuracy epoch 1 is :0.7957833333333333\n",
      "Accuracy epoch 1 is :0.8073666666666667\n",
      "Accuracy epoch 1 is :0.8166166666666667\n",
      "Accuracy epoch 1 is :0.8236166666666667\n",
      "Accuracy epoch 1 is :0.82945\n",
      "Accuracy epoch 1 is :0.8336166666666667\n",
      "Accuracy epoch 1 is :0.83795\n",
      "Accuracy epoch 1 is :0.84165\n",
      "Accuracy epoch 1 is :0.8445833333333334\n",
      "Accuracy epoch 1 is :0.8474833333333334\n",
      "Accuracy epoch 1 is :0.8503166666666667\n",
      "Accuracy epoch 1 is :0.8523833333333334\n",
      "Accuracy epoch 1 is :0.8544833333333334\n",
      "Accuracy epoch 1 is :0.8561\n",
      "Accuracy epoch 1 is :0.8578666666666667\n",
      "Accuracy epoch 1 is :0.8595\n",
      "Accuracy epoch 1 is :0.8606666666666667\n",
      "Accuracy epoch 1 is :0.8614166666666667\n",
      "Accuracy epoch 1 is :0.8623833333333333\n",
      "Accuracy epoch 1 is :0.8632\n",
      "Accuracy epoch 1 is :0.8646666666666667\n",
      "Accuracy epoch 1 is :0.8657166666666667\n",
      "Accuracy epoch 1 is :0.8668\n",
      "Accuracy epoch 1 is :0.86795\n",
      "Accuracy epoch 1 is :0.8686666666666667\n",
      "Accuracy epoch 1 is :0.8692833333333333\n",
      "Accuracy epoch 1 is :0.8700333333333333\n",
      "Accuracy epoch 1 is :0.8709333333333333\n",
      "Accuracy epoch 1 is :0.8718666666666667\n",
      "Accuracy epoch 1 is :0.8727333333333334\n",
      "Accuracy epoch 1 is :0.8729666666666667\n",
      "Accuracy epoch 1 is :0.8731833333333333\n",
      "Accuracy epoch 1 is :0.874\n",
      "Accuracy epoch 1 is :0.8742166666666666\n",
      "Accuracy epoch 1 is :0.87465\n",
      "Accuracy epoch 1 is :0.8752\n",
      "Accuracy epoch 1 is :0.8759\n",
      "Accuracy epoch 1 is :0.8763833333333333\n",
      "Accuracy epoch 1 is :0.8770833333333333\n",
      "Accuracy epoch 1 is :0.8774\n",
      "Accuracy epoch 1 is :0.87745\n",
      "Accuracy epoch 1 is :0.8780833333333333\n"
     ]
    },
    {
     "data": {
      "text/plain": [
       "BenchmarkTools.Trial: \n",
       "  memory estimate:  165.55 MiB\n",
       "  allocs estimate:  597863\n",
       "  --------------\n",
       "  minimum time:     211.919 ms (12.93% GC)\n",
       "  median time:      220.678 ms (12.17% GC)\n",
       "  mean time:        222.796 ms (11.57% GC)\n",
       "  maximum time:     236.384 ms (9.65% GC)\n",
       "  --------------\n",
       "  samples:          23\n",
       "  evals/sample:     1"
      ]
     },
     "execution_count": 7,
     "metadata": {},
     "output_type": "execute_result"
    }
   ],
   "source": [
    "@benchmark MulticlassPerceptron3.fit!(percep3, X_train, y_train, 1, 0.0001)"
   ]
  },
  {
   "cell_type": "markdown",
   "metadata": {
    "collapsed": true
   },
   "source": [
    "#### MulticlassPerceptron4\n",
    "\n",
    "- Using views instead of copying examples\n",
    "- using views\n",
    "- prealocated vector for predicting all datapoints\n",
    "- using .* sintax for loop fusion"
   ]
  },
  {
   "cell_type": "code",
   "execution_count": 8,
   "metadata": {
    "scrolled": false
   },
   "outputs": [
    {
     "name": "stdout",
     "output_type": "stream",
     "text": [
      "Accuracy epoch 1 is :0.6235833333333334\n",
      "Accuracy epoch 1 is :0.7199333333333333\n",
      "Accuracy epoch 1 is :0.7609666666666667\n",
      "Accuracy epoch 1 is :0.7843833333333333\n",
      "Accuracy epoch 1 is :0.7973833333333333\n",
      "Accuracy epoch 1 is :0.8086666666666666\n",
      "Accuracy epoch 1 is :0.8170333333333333\n",
      "Accuracy epoch 1 is :0.8238\n",
      "Accuracy epoch 1 is :0.8295333333333333\n",
      "Accuracy epoch 1 is :0.8341666666666666\n",
      "Accuracy epoch 1 is :0.8380666666666666\n",
      "Accuracy epoch 1 is :0.8412166666666666\n",
      "Accuracy epoch 1 is :0.8442166666666666\n",
      "Accuracy epoch 1 is :0.8469\n",
      "Accuracy epoch 1 is :0.8497166666666667\n",
      "Accuracy epoch 1 is :0.8519166666666667\n",
      "Accuracy epoch 1 is :0.8538333333333333\n",
      "Accuracy epoch 1 is :0.8555333333333334\n",
      "Accuracy epoch 1 is :0.8568166666666667\n",
      "Accuracy epoch 1 is :0.8581666666666666\n",
      "Accuracy epoch 1 is :0.8594166666666667\n",
      "Accuracy epoch 1 is :0.86095\n",
      "Accuracy epoch 1 is :0.8619166666666667\n",
      "Accuracy epoch 1 is :0.8630833333333333\n",
      "Accuracy epoch 1 is :0.8638333333333333\n",
      "Accuracy epoch 1 is :0.8646\n",
      "Accuracy epoch 1 is :0.8656333333333334\n",
      "Accuracy epoch 1 is :0.8666\n",
      "Accuracy epoch 1 is :0.8672666666666666\n",
      "Accuracy epoch 1 is :0.86805\n",
      "Accuracy epoch 1 is :0.8687333333333334\n",
      "Accuracy epoch 1 is :0.86945\n",
      "Accuracy epoch 1 is :0.87025\n",
      "Accuracy epoch 1 is :0.8709166666666667\n",
      "Accuracy epoch 1 is :0.8716\n",
      "Accuracy epoch 1 is :0.8725\n",
      "Accuracy epoch 1 is :0.8728166666666667\n",
      "Accuracy epoch 1 is :0.8730833333333333\n",
      "Accuracy epoch 1 is :0.8736\n",
      "Accuracy epoch 1 is :0.87425\n",
      "Accuracy epoch 1 is :0.8748333333333334\n",
      "Accuracy epoch 1 is :0.8755166666666667\n",
      "Accuracy epoch 1 is :0.8761833333333333\n",
      "Accuracy epoch 1 is :0.8764333333333333\n",
      "Accuracy epoch 1 is :0.8766833333333334\n",
      "Accuracy epoch 1 is :0.8773\n"
     ]
    },
    {
     "data": {
      "text/plain": [
       "BenchmarkTools.Trial: \n",
       "  memory estimate:  166.40 MiB\n",
       "  allocs estimate:  613176\n",
       "  --------------\n",
       "  minimum time:     206.422 ms (13.18% GC)\n",
       "  median time:      220.692 ms (12.33% GC)\n",
       "  mean time:        221.952 ms (12.18% GC)\n",
       "  maximum time:     233.333 ms (9.98% GC)\n",
       "  --------------\n",
       "  samples:          23\n",
       "  evals/sample:     1"
      ]
     },
     "execution_count": 8,
     "metadata": {},
     "output_type": "execute_result"
    }
   ],
   "source": [
    "@benchmark MulticlassPerceptron4.fit!(percep4, X_train, y_train, 1, 0.0001)"
   ]
  },
  {
   "cell_type": "markdown",
   "metadata": {},
   "source": [
    "#### MulticlassPerceptron5\n",
    "\n",
    "**What else can be improved?**\n",
    "\n",
    "`\n",
    "memory estimate:  79.56 MiB\n",
    "`\n",
    "\n",
    "**Can we push the code to memory estimate 0 ?**\n",
    "\n",
    "**Are we really using the BLAS at the fullest potential?**\n"
   ]
  },
  {
   "cell_type": "code",
   "execution_count": null,
   "metadata": {
    "collapsed": true
   },
   "outputs": [],
   "source": []
  }
 ],
 "metadata": {
  "anaconda-cloud": {},
  "kernelspec": {
   "display_name": "Julia 0.5.0",
   "language": "julia",
   "name": "julia-0.5"
  },
  "language_info": {
   "file_extension": ".jl",
   "mimetype": "application/julia",
   "name": "julia",
   "version": "0.5.0"
  }
 },
 "nbformat": 4,
 "nbformat_minor": 1
}
