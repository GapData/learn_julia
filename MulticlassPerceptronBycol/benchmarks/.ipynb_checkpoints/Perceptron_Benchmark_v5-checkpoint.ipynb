{
 "cells": [
  {
   "cell_type": "markdown",
   "metadata": {},
   "source": [
    "## Benchmarking Perceptron\n",
    "\n",
    "\n",
    "#### About profiling julia code\n",
    "\n",
    "- https://thirld.com/blog/2015/05/30/julia-profiling-cheat-sheet/\n",
    "\n",
    "#### Examples of speeding up code\n",
    "\n",
    "There is a small number of \"tricks\" that can be applied to speed up execution time and save memory allocations. This is paramount for enjoying C like speed with julia code.\n",
    "\n",
    "- https://discourse.julialang.org/t/speed-up-this-code-game/3666"
   ]
  },
  {
   "cell_type": "code",
   "execution_count": 1,
   "metadata": {},
   "outputs": [
    {
     "name": "stdout",
     "output_type": "stream",
     "text": [
      "Julia Version 0.5.0\n",
      "Commit 3c9d753 (2016-09-19 18:14 UTC)\n",
      "Platform Info:\n",
      "  System: Darwin (x86_64-apple-darwin13.4.0)\n",
      "  CPU: Intel(R) Xeon(R) CPU E5-1620 v2 @ 3.70GHz\n",
      "  WORD_SIZE: 64\n",
      "  BLAS: libopenblas (USE64BITINT DYNAMIC_ARCH NO_AFFINITY Sandybridge)\n",
      "  LAPACK: libopenblas64_\n",
      "  LIBM: libopenlibm\n",
      "  LLVM: libLLVM-3.7.1 (ORCJIT, ivybridge)\n"
     ]
    }
   ],
   "source": [
    "workspace()\n",
    "versioninfo()"
   ]
  },
  {
   "cell_type": "code",
   "execution_count": 2,
   "metadata": {},
   "outputs": [
    {
     "name": "stderr",
     "output_type": "stream",
     "text": [
      "WARNING: Method definition (::Type{Main.Base.LinearIndexing})(Type{#T<:Any}) in module Compat at /Users/macpro/.julia/v0.5/Compat/src/Compat.jl:1410 overwritten in module Compat at /Users/macpro/.julia/v0.5/Compat/src/Compat.jl:1410.\n",
      "WARNING: Method definition (::Type{Main.Base.LinearIndexing})(Any...) in module Compat at /Users/macpro/.julia/v0.5/Compat/src/Compat.jl:1411 overwritten in module Compat at /Users/macpro/.julia/v0.5/Compat/src/Compat.jl:1411.\n",
      "WARNING: Method definition isnull(Any) in module Compat at /Users/macpro/.julia/v0.5/Compat/src/Compat.jl:1133 overwritten in module Compat at /Users/macpro/.julia/v0.5/Compat/src/Compat.jl:1133.\n",
      "WARNING: Method definition broadcast(Any, Tuple{Vararg{T<:Any, #N<:Any}}, Tuple{Vararg{T<:Any, #N<:Any}}...) in module Compat at /Users/macpro/.julia/v0.5/Compat/src/Compat.jl:1118 overwritten in module Compat at /Users/macpro/.julia/v0.5/Compat/src/Compat.jl:1118.\n",
      "WARNING: Method definition redirect_stderr(Function, Any) in module Compat at /Users/macpro/.julia/v0.5/Compat/src/Compat.jl:1053 overwritten in module Compat at /Users/macpro/.julia/v0.5/Compat/src/Compat.jl:1053.\n",
      "WARNING: Method definition redirect_stdout(Function, Any) in module Compat at /Users/macpro/.julia/v0.5/Compat/src/Compat.jl:1053 overwritten in module Compat at /Users/macpro/.julia/v0.5/Compat/src/Compat.jl:1053.\n",
      "WARNING: Method definition take!(Task) in module Compat at /Users/macpro/.julia/v0.5/Compat/src/Compat.jl:53 overwritten in module Compat at /Users/macpro/.julia/v0.5/Compat/src/Compat.jl:53.\n",
      "WARNING: Method definition take!(Main.Base.AbstractIOBuffer) in module Compat at /Users/macpro/.julia/v0.5/Compat/src/Compat.jl:1160 overwritten in module Compat at /Users/macpro/.julia/v0.5/Compat/src/Compat.jl:1160.\n",
      "WARNING: Method definition redirect_stdin(Function, Any) in module Compat at /Users/macpro/.julia/v0.5/Compat/src/Compat.jl:1053 overwritten in module Compat at /Users/macpro/.julia/v0.5/Compat/src/Compat.jl:1053.\n",
      "WARNING: Method definition !(Function) in module Compat at /Users/macpro/.julia/v0.5/Compat/src/Compat.jl:1193 overwritten in module Compat at /Users/macpro/.julia/v0.5/Compat/src/Compat.jl:1193.\n"
     ]
    }
   ],
   "source": [
    "using MNIST\n",
    "using BenchmarkTools"
   ]
  },
  {
   "cell_type": "code",
   "execution_count": 3,
   "metadata": {},
   "outputs": [
    {
     "data": {
      "text/plain": [
       "784"
      ]
     },
     "execution_count": 3,
     "metadata": {},
     "output_type": "execute_result"
    }
   ],
   "source": [
    "\n",
    "source_path = join(push!(split(pwd(),\"/\")[1:end-1],\"source/\" ),\"/\")\n",
    "\n",
    "if !contains(==,LOAD_PATH, source_path) \n",
    "    push!(LOAD_PATH, source_path)\n",
    "end\n",
    "\n",
    "using MulticlassPerceptron4\n",
    "using MulticlassPerceptron3\n",
    "using MulticlassPerceptron2\n",
    "using MulticlassPerceptron1\n",
    "\n",
    "percep1 = MulticlassPerceptron1.MPerceptron(Float32, 10, 784)\n",
    "percep2 = MulticlassPerceptron2.MPerceptron(Float32, 10, 784)\n",
    "percep3 = MulticlassPerceptron3.MPerceptron(Float32, 10, 784)\n",
    "percep4 = MulticlassPerceptron4.MPerceptron(Float32, 10, 784)\n",
    "\n",
    "n_classes = 10\n",
    "n_features = 784"
   ]
  },
  {
   "cell_type": "code",
   "execution_count": 4,
   "metadata": {
    "collapsed": true
   },
   "outputs": [],
   "source": [
    "X_train, y_train = MNIST.traindata();\n",
    "X_test, y_test = MNIST.testdata();\n",
    "y_train = y_train + 1\n",
    "y_test = y_test + 1;\n",
    "\n",
    "T = Float32\n",
    "X_train = Array{T}((X_train - minimum(X_train))/(maximum(X_train) - minimum(X_train)))\n",
    "y_train = Array{Int64}(y_train)\n",
    "X_test = Array{T}(X_test - minimum(X_test))/(maximum(X_test) - minimum(X_test)) \n",
    "y_test = Array{Int64}(y_test);"
   ]
  },
  {
   "cell_type": "code",
   "execution_count": 5,
   "metadata": {
    "scrolled": true
   },
   "outputs": [
    {
     "name": "stdout",
     "output_type": "stream",
     "text": [
      "Accuracy epoch 1 is :0.5903833333333334\n",
      "Accuracy epoch 1 is :0.7073666666666667\n",
      "Accuracy epoch 1 is :0.7545666666666667\n",
      "Accuracy epoch 1 is :0.7810833333333334\n",
      "Accuracy epoch 1 is :0.7972\n",
      "Accuracy epoch 1 is :0.8089833333333334\n",
      "Accuracy epoch 1 is :0.8175666666666667\n",
      "Accuracy epoch 1 is :0.8243333333333334\n",
      "Accuracy epoch 1 is :0.8298833333333333\n",
      "Accuracy epoch 1 is :0.8346833333333333\n",
      "Accuracy epoch 1 is :0.8386666666666667\n",
      "Accuracy epoch 1 is :0.8422666666666667\n"
     ]
    },
    {
     "data": {
      "text/plain": [
       "BenchmarkTools.Trial: \n",
       "  memory estimate:  709.89 MiB\n",
       "  allocs estimate:  973207\n",
       "  --------------\n",
       "  minimum time:     1.199 s (5.91% GC)\n",
       "  median time:      1.407 s (6.33% GC)\n",
       "  mean time:        1.415 s (6.15% GC)\n",
       "  maximum time:     1.644 s (6.02% GC)\n",
       "  --------------\n",
       "  samples:          4\n",
       "  evals/sample:     1\n",
       "  time tolerance:   5.00%\n",
       "  memory tolerance: 1.00%"
      ]
     },
     "execution_count": 5,
     "metadata": {},
     "output_type": "execute_result"
    }
   ],
   "source": [
    "@benchmark MulticlassPerceptron1.fit!(percep1, X_train, y_train, 1, 0.0001)"
   ]
  },
  {
   "cell_type": "code",
   "execution_count": null,
   "metadata": {
    "collapsed": true
   },
   "outputs": [],
   "source": []
  },
  {
   "cell_type": "markdown",
   "metadata": {},
   "source": [
    "#### MulticlassPerceptron2\n",
    "\n",
    "- Using views instead of copying examples"
   ]
  },
  {
   "cell_type": "code",
   "execution_count": 6,
   "metadata": {},
   "outputs": [
    {
     "name": "stdout",
     "output_type": "stream",
     "text": [
      "Accuracy epoch 1 is :0.5722333333333334\n",
      "Accuracy epoch 1 is :0.6888833333333333\n",
      "Accuracy epoch 1 is :0.7408333333333333\n",
      "Accuracy epoch 1 is :0.7699666666666667\n",
      "Accuracy epoch 1 is :0.7884333333333333\n",
      "Accuracy epoch 1 is :0.8015666666666666\n",
      "Accuracy epoch 1 is :0.8125666666666667\n",
      "Accuracy epoch 1 is :0.8203666666666667\n",
      "Accuracy epoch 1 is :0.82675\n",
      "Accuracy epoch 1 is :0.8321833333333334\n",
      "Accuracy epoch 1 is :0.8368\n",
      "Accuracy epoch 1 is :0.8404666666666667\n",
      "Accuracy epoch 1 is :0.8433166666666667\n",
      "Accuracy epoch 1 is :0.8458333333333333\n"
     ]
    },
    {
     "data": {
      "text/plain": [
       "BenchmarkTools.Trial: \n",
       "  memory estimate:  215.62 MiB\n",
       "  allocs estimate:  749275\n",
       "  --------------\n",
       "  minimum time:     893.643 ms (3.07% GC)\n",
       "  median time:      935.521 ms (2.92% GC)\n",
       "  mean time:        962.262 ms (2.88% GC)\n",
       "  maximum time:     1.136 s (2.39% GC)\n",
       "  --------------\n",
       "  samples:          6\n",
       "  evals/sample:     1\n",
       "  time tolerance:   5.00%\n",
       "  memory tolerance: 1.00%"
      ]
     },
     "execution_count": 6,
     "metadata": {},
     "output_type": "execute_result"
    }
   ],
   "source": [
    "@benchmark MulticlassPerceptron2.fit!(percep2, X_train, y_train, 1, 0.0001)"
   ]
  },
  {
   "cell_type": "markdown",
   "metadata": {},
   "source": [
    "#### MulticlassPerceptron3\n",
    "\n",
    "- Using views instead of copying examples\n",
    "- using inbounds\n"
   ]
  },
  {
   "cell_type": "code",
   "execution_count": 7,
   "metadata": {
    "scrolled": false
   },
   "outputs": [
    {
     "name": "stdout",
     "output_type": "stream",
     "text": [
      "Accuracy epoch 1 is :0.61255\n",
      "Accuracy epoch 1 is :0.7124666666666667\n",
      "Accuracy epoch 1 is :0.7564333333333333\n",
      "Accuracy epoch 1 is :0.78075\n",
      "Accuracy epoch 1 is :0.79665\n",
      "Accuracy epoch 1 is :0.8093\n",
      "Accuracy epoch 1 is :0.8179333333333333\n",
      "Accuracy epoch 1 is :0.8249833333333333\n",
      "Accuracy epoch 1 is :0.8312333333333334\n",
      "Accuracy epoch 1 is :0.8364666666666667\n",
      "Accuracy epoch 1 is :0.8404666666666667\n",
      "Accuracy epoch 1 is :0.8437166666666667\n",
      "Accuracy epoch 1 is :0.8471166666666666\n",
      "Accuracy epoch 1 is :0.8497833333333333\n"
     ]
    },
    {
     "data": {
      "text/plain": [
       "BenchmarkTools.Trial: \n",
       "  memory estimate:  199.08 MiB\n",
       "  allocs estimate:  626183\n",
       "  --------------\n",
       "  minimum time:     824.302 ms (2.33% GC)\n",
       "  median time:      838.756 ms (2.55% GC)\n",
       "  mean time:        854.798 ms (2.60% GC)\n",
       "  maximum time:     939.911 ms (2.16% GC)\n",
       "  --------------\n",
       "  samples:          6\n",
       "  evals/sample:     1\n",
       "  time tolerance:   5.00%\n",
       "  memory tolerance: 1.00%"
      ]
     },
     "execution_count": 7,
     "metadata": {},
     "output_type": "execute_result"
    }
   ],
   "source": [
    "@benchmark MulticlassPerceptron3.fit!(percep3, X_train, y_train, 1, 0.0001)"
   ]
  },
  {
   "cell_type": "markdown",
   "metadata": {
    "collapsed": true
   },
   "source": [
    "#### MulticlassPerceptron4\n",
    "\n",
    "- Using views instead of copying examples\n",
    "- using views\n",
    "- prealocated vector for predicting all datapoints\n",
    "- using .* sintax for loop fusion"
   ]
  },
  {
   "cell_type": "code",
   "execution_count": 8,
   "metadata": {
    "scrolled": false
   },
   "outputs": [
    {
     "name": "stdout",
     "output_type": "stream",
     "text": [
      "Accuracy epoch 1 is :0.58355\n",
      "Accuracy epoch 1 is :0.69715\n",
      "Accuracy epoch 1 is :0.74565\n",
      "Accuracy epoch 1 is :0.7748\n",
      "Accuracy epoch 1 is :0.7925166666666666\n",
      "Accuracy epoch 1 is :0.80565\n",
      "Accuracy epoch 1 is :0.81535\n",
      "Accuracy epoch 1 is :0.82295\n",
      "Accuracy epoch 1 is :0.8287666666666667\n",
      "Accuracy epoch 1 is :0.83395\n",
      "Accuracy epoch 1 is :0.8381\n",
      "Accuracy epoch 1 is :0.8415\n",
      "Accuracy epoch 1 is :0.8446333333333333\n",
      "Accuracy epoch 1 is :0.8471333333333333\n"
     ]
    },
    {
     "data": {
      "text/plain": [
       "BenchmarkTools.Trial: \n",
       "  memory estimate:  201.32 MiB\n",
       "  allocs estimate:  628515\n",
       "  --------------\n",
       "  minimum time:     833.639 ms (2.82% GC)\n",
       "  median time:      864.468 ms (3.15% GC)\n",
       "  mean time:        900.856 ms (2.96% GC)\n",
       "  maximum time:     1.035 s (3.15% GC)\n",
       "  --------------\n",
       "  samples:          6\n",
       "  evals/sample:     1\n",
       "  time tolerance:   5.00%\n",
       "  memory tolerance: 1.00%"
      ]
     },
     "execution_count": 8,
     "metadata": {},
     "output_type": "execute_result"
    }
   ],
   "source": [
    "@benchmark MulticlassPerceptron4.fit!(percep4, X_train, y_train, 1, 0.0001)"
   ]
  },
  {
   "cell_type": "markdown",
   "metadata": {},
   "source": [
    "#### MulticlassPerceptron5\n",
    "\n",
    "**What else can be improved?**\n",
    "\n",
    "`\n",
    "memory estimate:  79.56 MiB\n",
    "`\n",
    "\n",
    "**Can we push the code to memory estimate 0 ?**\n",
    "\n",
    "**Are we really using the BLAS at the fullest potential?**\n"
   ]
  },
  {
   "cell_type": "code",
   "execution_count": null,
   "metadata": {
    "collapsed": true
   },
   "outputs": [],
   "source": []
  }
 ],
 "metadata": {
  "anaconda-cloud": {},
  "kernelspec": {
   "display_name": "Julia 0.5.0",
   "language": "julia",
   "name": "julia-0.5"
  },
  "language_info": {
   "file_extension": ".jl",
   "mimetype": "application/julia",
   "name": "julia",
   "version": "0.5.0"
  }
 },
 "nbformat": 4,
 "nbformat_minor": 1
}
