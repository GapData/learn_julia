{
 "cells": [
  {
   "cell_type": "markdown",
   "metadata": {},
   "source": [
    "## Benchmarking Perceptron\n",
    "\n",
    "\n",
    "#### About profiling julia code\n",
    "\n",
    "- https://thirld.com/blog/2015/05/30/julia-profiling-cheat-sheet/\n",
    "\n",
    "#### Examples of speeding up code\n",
    "\n",
    "There is a small number of \"tricks\" that can be applied to speed up execution time and save memory allocations. This is paramount for enjoying C like speed with julia code.\n",
    "\n",
    "- https://discourse.julialang.org/t/speed-up-this-code-game/3666"
   ]
  },
  {
   "cell_type": "code",
   "execution_count": 1,
   "metadata": {},
   "outputs": [
    {
     "name": "stdout",
     "output_type": "stream",
     "text": [
      "Julia Version 0.6.0-rc1.0\n",
      "Commit 6bdb3950bd (2017-05-07 00:00 UTC)\n",
      "Platform Info:\n",
      "  OS: macOS (x86_64-apple-darwin13.4.0)\n",
      "  CPU: Intel(R) Core(TM) i7-4650U CPU @ 1.70GHz\n",
      "  WORD_SIZE: 64\n",
      "  BLAS: libopenblas (USE64BITINT DYNAMIC_ARCH NO_AFFINITY Haswell)\n",
      "  LAPACK: libopenblas64_\n",
      "  LIBM: libopenlibm\n",
      "  LLVM: libLLVM-3.9.1 (ORCJIT, haswell)\n"
     ]
    }
   ],
   "source": [
    "versioninfo()"
   ]
  },
  {
   "cell_type": "code",
   "execution_count": 2,
   "metadata": {
    "collapsed": true
   },
   "outputs": [],
   "source": [
    "using MNIST\n",
    "using BenchmarkTools"
   ]
  },
  {
   "cell_type": "code",
   "execution_count": 3,
   "metadata": {},
   "outputs": [
    {
     "data": {
      "text/plain": [
       "784"
      ]
     },
     "execution_count": 3,
     "metadata": {},
     "output_type": "execute_result"
    }
   ],
   "source": [
    "source_path = join(push!(split(pwd(),\"/\")[1:end-1],\"source/\" ),\"/\")\n",
    "\n",
    "if !contains(==,LOAD_PATH, source_path) \n",
    "    push!(LOAD_PATH, source_path)\n",
    "end\n",
    "\n",
    "using MulticlassPerceptron4\n",
    "using MulticlassPerceptron3\n",
    "using MulticlassPerceptron2\n",
    "using MulticlassPerceptron1\n",
    "\n",
    "percep1 = MulticlassPerceptron1.MPerceptron(Float32, 10, 784)\n",
    "percep2 = MulticlassPerceptron2.MPerceptron(Float32, 10, 784)\n",
    "percep3 = MulticlassPerceptron3.MPerceptron(Float32, 10, 784)\n",
    "percep4 = MulticlassPerceptron4.MPerceptron(Float32, 10, 784)\n",
    "\n",
    "n_classes = 10\n",
    "n_features = 784"
   ]
  },
  {
   "cell_type": "code",
   "execution_count": 4,
   "metadata": {},
   "outputs": [
    {
     "name": "stderr",
     "output_type": "stream",
     "text": [
      "\u001b[1m\u001b[33mWARNING: \u001b[39m\u001b[22m\u001b[33mArray{T}(::Type{T}, m::Int, n::Int) is deprecated, use Array{T}(m, n) instead.\u001b[39m\n",
      "Stacktrace:\n",
      " [1] \u001b[1mdepwarn\u001b[22m\u001b[22m\u001b[1m(\u001b[22m\u001b[22m::String, ::Symbol\u001b[1m)\u001b[22m\u001b[22m at \u001b[1m./deprecated.jl:64\u001b[22m\u001b[22m\n",
      " [2] \u001b[1mArray\u001b[22m\u001b[22m\u001b[1m(\u001b[22m\u001b[22m::Type{Float64}, ::Int64, ::Int64\u001b[1m)\u001b[22m\u001b[22m at \u001b[1m./deprecated.jl:51\u001b[22m\u001b[22m\n",
      " [3] \u001b[1mtraindata\u001b[22m\u001b[22m\u001b[1m(\u001b[22m\u001b[22m\u001b[1m)\u001b[22m\u001b[22m at \u001b[1m/Users/david/.julia/v0.6/MNIST/src/MNIST.jl:88\u001b[22m\u001b[22m\n",
      " [4] \u001b[1minclude_string\u001b[22m\u001b[22m\u001b[1m(\u001b[22m\u001b[22m::String, ::String\u001b[1m)\u001b[22m\u001b[22m at \u001b[1m./loading.jl:498\u001b[22m\u001b[22m\n",
      " [5] \u001b[1mexecute_request\u001b[22m\u001b[22m\u001b[1m(\u001b[22m\u001b[22m::ZMQ.Socket, ::IJulia.Msg\u001b[1m)\u001b[22m\u001b[22m at \u001b[1m/Users/david/.julia/v0.6/IJulia/src/execute_request.jl:156\u001b[22m\u001b[22m\n",
      " [6] \u001b[1meventloop\u001b[22m\u001b[22m\u001b[1m(\u001b[22m\u001b[22m::ZMQ.Socket\u001b[1m)\u001b[22m\u001b[22m at \u001b[1m/Users/david/.julia/v0.6/IJulia/src/eventloop.jl:8\u001b[22m\u001b[22m\n",
      " [7] \u001b[1m(::IJulia.##9#12)\u001b[22m\u001b[22m\u001b[1m(\u001b[22m\u001b[22m\u001b[1m)\u001b[22m\u001b[22m at \u001b[1m./task.jl:335\u001b[22m\u001b[22m\n",
      "while loading In[4], in expression starting on line 1\n",
      "\u001b[1m\u001b[33mWARNING: \u001b[39m\u001b[22m\u001b[33mArray{T}(::Type{T}, m::Int) is deprecated, use Array{T}(m) instead.\u001b[39m\n",
      "Stacktrace:\n",
      " [1] \u001b[1mdepwarn\u001b[22m\u001b[22m\u001b[1m(\u001b[22m\u001b[22m::String, ::Symbol\u001b[1m)\u001b[22m\u001b[22m at \u001b[1m./deprecated.jl:64\u001b[22m\u001b[22m\n",
      " [2] \u001b[1mArray\u001b[22m\u001b[22m\u001b[1m(\u001b[22m\u001b[22m::Type{Float64}, ::Int64\u001b[1m)\u001b[22m\u001b[22m at \u001b[1m./deprecated.jl:51\u001b[22m\u001b[22m\n",
      " [3] \u001b[1mtraindata\u001b[22m\u001b[22m\u001b[1m(\u001b[22m\u001b[22m\u001b[1m)\u001b[22m\u001b[22m at \u001b[1m/Users/david/.julia/v0.6/MNIST/src/MNIST.jl:89\u001b[22m\u001b[22m\n",
      " [4] \u001b[1minclude_string\u001b[22m\u001b[22m\u001b[1m(\u001b[22m\u001b[22m::String, ::String\u001b[1m)\u001b[22m\u001b[22m at \u001b[1m./loading.jl:498\u001b[22m\u001b[22m\n",
      " [5] \u001b[1mexecute_request\u001b[22m\u001b[22m\u001b[1m(\u001b[22m\u001b[22m::ZMQ.Socket, ::IJulia.Msg\u001b[1m)\u001b[22m\u001b[22m at \u001b[1m/Users/david/.julia/v0.6/IJulia/src/execute_request.jl:156\u001b[22m\u001b[22m\n",
      " [6] \u001b[1meventloop\u001b[22m\u001b[22m\u001b[1m(\u001b[22m\u001b[22m::ZMQ.Socket\u001b[1m)\u001b[22m\u001b[22m at \u001b[1m/Users/david/.julia/v0.6/IJulia/src/eventloop.jl:8\u001b[22m\u001b[22m\n",
      " [7] \u001b[1m(::IJulia.##9#12)\u001b[22m\u001b[22m\u001b[1m(\u001b[22m\u001b[22m\u001b[1m)\u001b[22m\u001b[22m at \u001b[1m./task.jl:335\u001b[22m\u001b[22m\n",
      "while loading In[4], in expression starting on line 1\n",
      "\u001b[1m\u001b[33mWARNING: \u001b[39m\u001b[22m\u001b[33mArray{T}(::Type{T}, m::Int, n::Int) is deprecated, use Array{T}(m, n) instead.\u001b[39m\n",
      "Stacktrace:\n",
      " [1] \u001b[1mdepwarn\u001b[22m\u001b[22m\u001b[1m(\u001b[22m\u001b[22m::String, ::Symbol\u001b[1m)\u001b[22m\u001b[22m at \u001b[1m./deprecated.jl:64\u001b[22m\u001b[22m\n",
      " [2] \u001b[1mArray\u001b[22m\u001b[22m\u001b[1m(\u001b[22m\u001b[22m::Type{Float64}, ::Int64, ::Int64\u001b[1m)\u001b[22m\u001b[22m at \u001b[1m./deprecated.jl:51\u001b[22m\u001b[22m\n",
      " [3] \u001b[1mtestdata\u001b[22m\u001b[22m\u001b[1m(\u001b[22m\u001b[22m\u001b[1m)\u001b[22m\u001b[22m at \u001b[1m/Users/david/.julia/v0.6/MNIST/src/MNIST.jl:99\u001b[22m\u001b[22m\n",
      " [4] \u001b[1minclude_string\u001b[22m\u001b[22m\u001b[1m(\u001b[22m\u001b[22m::String, ::String\u001b[1m)\u001b[22m\u001b[22m at \u001b[1m./loading.jl:498\u001b[22m\u001b[22m\n",
      " [5] \u001b[1mexecute_request\u001b[22m\u001b[22m\u001b[1m(\u001b[22m\u001b[22m::ZMQ.Socket, ::IJulia.Msg\u001b[1m)\u001b[22m\u001b[22m at \u001b[1m/Users/david/.julia/v0.6/IJulia/src/execute_request.jl:156\u001b[22m\u001b[22m\n",
      " [6] \u001b[1meventloop\u001b[22m\u001b[22m\u001b[1m(\u001b[22m\u001b[22m::ZMQ.Socket\u001b[1m)\u001b[22m\u001b[22m at \u001b[1m/Users/david/.julia/v0.6/IJulia/src/eventloop.jl:8\u001b[22m\u001b[22m\n",
      " [7] \u001b[1m(::IJulia.##9#12)\u001b[22m\u001b[22m\u001b[1m(\u001b[22m\u001b[22m\u001b[1m)\u001b[22m\u001b[22m at \u001b[1m./task.jl:335\u001b[22m\u001b[22m\n",
      "while loading In[4], in expression starting on line 2\n",
      "\u001b[1m\u001b[33mWARNING: \u001b[39m\u001b[22m\u001b[33mArray{T}(::Type{T}, m::Int) is deprecated, use Array{T}(m) instead.\u001b[39m\n",
      "Stacktrace:\n",
      " [1] \u001b[1mdepwarn\u001b[22m\u001b[22m\u001b[1m(\u001b[22m\u001b[22m::String, ::Symbol\u001b[1m)\u001b[22m\u001b[22m at \u001b[1m./deprecated.jl:64\u001b[22m\u001b[22m\n",
      " [2] \u001b[1mArray\u001b[22m\u001b[22m\u001b[1m(\u001b[22m\u001b[22m::Type{Float64}, ::Int64\u001b[1m)\u001b[22m\u001b[22m at \u001b[1m./deprecated.jl:51\u001b[22m\u001b[22m\n",
      " [3] \u001b[1mtestdata\u001b[22m\u001b[22m\u001b[1m(\u001b[22m\u001b[22m\u001b[1m)\u001b[22m\u001b[22m at \u001b[1m/Users/david/.julia/v0.6/MNIST/src/MNIST.jl:100\u001b[22m\u001b[22m\n",
      " [4] \u001b[1minclude_string\u001b[22m\u001b[22m\u001b[1m(\u001b[22m\u001b[22m::String, ::String\u001b[1m)\u001b[22m\u001b[22m at \u001b[1m./loading.jl:498\u001b[22m\u001b[22m\n",
      " [5] \u001b[1mexecute_request\u001b[22m\u001b[22m\u001b[1m(\u001b[22m\u001b[22m::ZMQ.Socket, ::IJulia.Msg\u001b[1m)\u001b[22m\u001b[22m at \u001b[1m/Users/david/.julia/v0.6/IJulia/src/execute_request.jl:156\u001b[22m\u001b[22m\n",
      " [6] \u001b[1meventloop\u001b[22m\u001b[22m\u001b[1m(\u001b[22m\u001b[22m::ZMQ.Socket\u001b[1m)\u001b[22m\u001b[22m at \u001b[1m/Users/david/.julia/v0.6/IJulia/src/eventloop.jl:8\u001b[22m\u001b[22m\n",
      " [7] \u001b[1m(::IJulia.##9#12)\u001b[22m\u001b[22m\u001b[1m(\u001b[22m\u001b[22m\u001b[1m)\u001b[22m\u001b[22m at \u001b[1m./task.jl:335\u001b[22m\u001b[22m\n",
      "while loading In[4], in expression starting on line 2\n"
     ]
    }
   ],
   "source": [
    "X_train, y_train = MNIST.traindata();\n",
    "X_test, y_test = MNIST.testdata();\n",
    "y_train = y_train + 1\n",
    "y_test = y_test + 1;\n",
    "\n",
    "T = Float32\n",
    "X_train = Array{T}((X_train - minimum(X_train))/(maximum(X_train) - minimum(X_train)))\n",
    "y_train = Array{Int64}(y_train)\n",
    "X_test = Array{T}(X_test - minimum(X_test))/(maximum(X_test) - minimum(X_test)) \n",
    "y_test = Array{Int64}(y_test);"
   ]
  },
  {
   "cell_type": "code",
   "execution_count": 5,
   "metadata": {
    "scrolled": true
   },
   "outputs": [
    {
     "name": "stdout",
     "output_type": "stream",
     "text": [
      "Accuracy epoch 1 is :0.6132166666666666\n",
      "Accuracy epoch 1 is :0.7161166666666666\n",
      "Accuracy epoch 1 is :0.7579333333333333\n",
      "Accuracy epoch 1 is :0.78195\n",
      "Accuracy epoch 1 is :0.7981\n",
      "Accuracy epoch 1 is :0.8085\n",
      "Accuracy epoch 1 is :0.8167\n",
      "Accuracy epoch 1 is :0.8238\n",
      "Accuracy epoch 1 is :0.8295333333333333\n",
      "Accuracy epoch 1 is :0.8339166666666666\n",
      "Accuracy epoch 1 is :0.8383833333333334\n",
      "Accuracy epoch 1 is :0.842\n",
      "Accuracy epoch 1 is :0.8450333333333333\n",
      "Accuracy epoch 1 is :0.8477333333333333\n",
      "Accuracy epoch 1 is :0.8500333333333333\n",
      "Accuracy epoch 1 is :0.8519166666666667\n",
      "Accuracy epoch 1 is :0.8539833333333333\n",
      "Accuracy epoch 1 is :0.8558\n",
      "Accuracy epoch 1 is :0.8575666666666667\n"
     ]
    },
    {
     "data": {
      "text/plain": [
       "BenchmarkTools.Trial: \n",
       "  memory estimate:  570.32 MiB\n",
       "  allocs estimate:  651377\n",
       "  --------------\n",
       "  minimum time:     774.821 ms (11.54% GC)\n",
       "  median time:      794.364 ms (11.25% GC)\n",
       "  mean time:        797.025 ms (11.14% GC)\n",
       "  maximum time:     828.901 ms (10.31% GC)\n",
       "  --------------\n",
       "  samples:          7\n",
       "  evals/sample:     1"
      ]
     },
     "execution_count": 5,
     "metadata": {},
     "output_type": "execute_result"
    }
   ],
   "source": [
    "@benchmark MulticlassPerceptron1.fit!(percep1, X_train, y_train, 1, 0.0001)"
   ]
  },
  {
   "cell_type": "markdown",
   "metadata": {},
   "source": [
    "#### MulticlassPerceptron2\n",
    "\n",
    "- Using views instead of copying examples"
   ]
  },
  {
   "cell_type": "code",
   "execution_count": 6,
   "metadata": {},
   "outputs": [
    {
     "name": "stdout",
     "output_type": "stream",
     "text": [
      "Accuracy epoch 1 is :0.5672\n",
      "Accuracy epoch 1 is :0.6941\n",
      "Accuracy epoch 1 is :0.74735\n",
      "Accuracy epoch 1 is :0.7748\n",
      "Accuracy epoch 1 is :0.7930166666666667\n",
      "Accuracy epoch 1 is :0.80565\n",
      "Accuracy epoch 1 is :0.81495\n",
      "Accuracy epoch 1 is :0.8223\n",
      "Accuracy epoch 1 is :0.8286333333333333\n",
      "Accuracy epoch 1 is :0.8332666666666667\n",
      "Accuracy epoch 1 is :0.8368833333333333\n",
      "Accuracy epoch 1 is :0.8402\n",
      "Accuracy epoch 1 is :0.8428833333333333\n",
      "Accuracy epoch 1 is :0.8455\n",
      "Accuracy epoch 1 is :0.8479\n",
      "Accuracy epoch 1 is :0.85005\n",
      "Accuracy epoch 1 is :0.8517\n",
      "Accuracy epoch 1 is :0.8534666666666667\n",
      "Accuracy epoch 1 is :0.8553\n",
      "Accuracy epoch 1 is :0.8570333333333333\n",
      "Accuracy epoch 1 is :0.8585\n",
      "Accuracy epoch 1 is :0.8598333333333333\n",
      "Accuracy epoch 1 is :0.8609166666666667\n",
      "Accuracy epoch 1 is :0.8624166666666667\n",
      "Accuracy epoch 1 is :0.86385\n",
      "Accuracy epoch 1 is :0.8649166666666667\n",
      "Accuracy epoch 1 is :0.8654333333333334\n",
      "Accuracy epoch 1 is :0.8663833333333333\n",
      "Accuracy epoch 1 is :0.8672333333333333\n",
      "Accuracy epoch 1 is :0.8677\n",
      "Accuracy epoch 1 is :0.8682333333333333\n",
      "Accuracy epoch 1 is :0.8689666666666667\n",
      "Accuracy epoch 1 is :0.8697666666666667\n",
      "Accuracy epoch 1 is :0.8703166666666666\n",
      "Accuracy epoch 1 is :0.8707166666666667\n",
      "Accuracy epoch 1 is :0.8712\n",
      "Accuracy epoch 1 is :0.8717166666666667\n",
      "Accuracy epoch 1 is :0.8719166666666667\n",
      "Accuracy epoch 1 is :0.8725666666666667\n",
      "Accuracy epoch 1 is :0.87305\n",
      "Accuracy epoch 1 is :0.8736333333333334\n",
      "Accuracy epoch 1 is :0.8738333333333334\n",
      "Accuracy epoch 1 is :0.8744\n",
      "Accuracy epoch 1 is :0.8749166666666667\n",
      "Accuracy epoch 1 is :0.8751333333333333\n",
      "Accuracy epoch 1 is :0.8756166666666667\n",
      "Accuracy epoch 1 is :0.8760666666666667\n",
      "Accuracy epoch 1 is :0.87655\n",
      "Accuracy epoch 1 is :0.877\n",
      "Accuracy epoch 1 is :0.8774666666666666\n",
      "Accuracy epoch 1 is :0.8778333333333334\n",
      "Accuracy epoch 1 is :0.8783\n",
      "Accuracy epoch 1 is :0.8790333333333333\n",
      "Accuracy epoch 1 is :0.8793\n",
      "Accuracy epoch 1 is :0.8797333333333334\n",
      "Accuracy epoch 1 is :0.8797166666666667\n"
     ]
    },
    {
     "data": {
      "text/plain": [
       "BenchmarkTools.Trial: \n",
       "  memory estimate:  168.74 MiB\n",
       "  allocs estimate:  403891\n",
       "  --------------\n",
       "  minimum time:     181.127 ms (12.42% GC)\n",
       "  median time:      191.025 ms (13.01% GC)\n",
       "  mean time:        193.447 ms (12.77% GC)\n",
       "  maximum time:     229.107 ms (11.54% GC)\n",
       "  --------------\n",
       "  samples:          26\n",
       "  evals/sample:     1"
      ]
     },
     "execution_count": 6,
     "metadata": {},
     "output_type": "execute_result"
    }
   ],
   "source": [
    "@benchmark MulticlassPerceptron2.fit!(percep2, X_train, y_train, 1, 0.0001)"
   ]
  },
  {
   "cell_type": "markdown",
   "metadata": {},
   "source": [
    "#### MulticlassPerceptron3\n",
    "\n",
    "- Using views instead of copying examples\n",
    "- using inbounds\n"
   ]
  },
  {
   "cell_type": "code",
   "execution_count": 7,
   "metadata": {
    "scrolled": true
   },
   "outputs": [
    {
     "name": "stdout",
     "output_type": "stream",
     "text": [
      "Accuracy epoch 1 is :0.5811833333333334\n",
      "Accuracy epoch 1 is :0.7026\n",
      "Accuracy epoch 1 is :0.7492333333333333\n",
      "Accuracy epoch 1 is :0.7760166666666667\n",
      "Accuracy epoch 1 is :0.7925166666666666\n",
      "Accuracy epoch 1 is :0.8052666666666667\n",
      "Accuracy epoch 1 is :0.81565\n",
      "Accuracy epoch 1 is :0.8234666666666667\n",
      "Accuracy epoch 1 is :0.8293666666666667\n",
      "Accuracy epoch 1 is :0.8346\n",
      "Accuracy epoch 1 is :0.8378\n",
      "Accuracy epoch 1 is :0.8417666666666667\n",
      "Accuracy epoch 1 is :0.8444\n",
      "Accuracy epoch 1 is :0.8469666666666666\n",
      "Accuracy epoch 1 is :0.8491833333333333\n",
      "Accuracy epoch 1 is :0.8509166666666667\n",
      "Accuracy epoch 1 is :0.8526\n",
      "Accuracy epoch 1 is :0.8544833333333334\n",
      "Accuracy epoch 1 is :0.8558666666666667\n",
      "Accuracy epoch 1 is :0.8576166666666667\n",
      "Accuracy epoch 1 is :0.85935\n",
      "Accuracy epoch 1 is :0.8606166666666667\n",
      "Accuracy epoch 1 is :0.8615666666666667\n",
      "Accuracy epoch 1 is :0.8626333333333334\n",
      "Accuracy epoch 1 is :0.86355\n",
      "Accuracy epoch 1 is :0.8646166666666667\n",
      "Accuracy epoch 1 is :0.8653\n",
      "Accuracy epoch 1 is :0.86645\n",
      "Accuracy epoch 1 is :0.8670333333333333\n",
      "Accuracy epoch 1 is :0.86785\n",
      "Accuracy epoch 1 is :0.86845\n",
      "Accuracy epoch 1 is :0.8693833333333333\n",
      "Accuracy epoch 1 is :0.8701166666666666\n",
      "Accuracy epoch 1 is :0.87065\n",
      "Accuracy epoch 1 is :0.8715833333333334\n",
      "Accuracy epoch 1 is :0.8722833333333333\n",
      "Accuracy epoch 1 is :0.8728\n",
      "Accuracy epoch 1 is :0.8734333333333333\n",
      "Accuracy epoch 1 is :0.8738833333333333\n",
      "Accuracy epoch 1 is :0.8745\n",
      "Accuracy epoch 1 is :0.8749666666666667\n",
      "Accuracy epoch 1 is :0.87535\n",
      "Accuracy epoch 1 is :0.87575\n",
      "Accuracy epoch 1 is :0.8762833333333333\n",
      "Accuracy epoch 1 is :0.8769333333333333\n",
      "Accuracy epoch 1 is :0.8774166666666666\n",
      "Accuracy epoch 1 is :0.87785\n",
      "Accuracy epoch 1 is :0.8783333333333333\n",
      "Accuracy epoch 1 is :0.8787666666666667\n",
      "Accuracy epoch 1 is :0.879\n",
      "Accuracy epoch 1 is :0.8792\n",
      "Accuracy epoch 1 is :0.87935\n",
      "Accuracy epoch 1 is :0.8801166666666667\n",
      "Accuracy epoch 1 is :0.8804833333333333\n",
      "Accuracy epoch 1 is :0.88075\n",
      "Accuracy epoch 1 is :0.8812666666666666\n",
      "Accuracy epoch 1 is :0.8815166666666666\n"
     ]
    },
    {
     "data": {
      "text/plain": [
       "BenchmarkTools.Trial: \n",
       "  memory estimate:  137.82 MiB\n",
       "  allocs estimate:  163364\n",
       "  --------------\n",
       "  minimum time:     172.431 ms (11.11% GC)\n",
       "  median time:      184.856 ms (11.81% GC)\n",
       "  mean time:        185.669 ms (11.43% GC)\n",
       "  maximum time:     206.155 ms (11.67% GC)\n",
       "  --------------\n",
       "  samples:          27\n",
       "  evals/sample:     1"
      ]
     },
     "execution_count": 7,
     "metadata": {},
     "output_type": "execute_result"
    }
   ],
   "source": [
    "@benchmark MulticlassPerceptron3.fit!(percep3, X_train, y_train, 1, 0.0001)"
   ]
  },
  {
   "cell_type": "markdown",
   "metadata": {
    "collapsed": true
   },
   "source": [
    "#### MulticlassPerceptron4\n",
    "\n",
    "- Using views instead of copying examples\n",
    "- using views\n",
    "- prealocated vector for predicting all datapoints\n",
    "- using .* sintax for loop fusion"
   ]
  },
  {
   "cell_type": "code",
   "execution_count": 8,
   "metadata": {
    "scrolled": true
   },
   "outputs": [
    {
     "name": "stdout",
     "output_type": "stream",
     "text": [
      "Accuracy epoch 1 is :0.5978833333333333\n",
      "Accuracy epoch 1 is :0.704\n",
      "Accuracy epoch 1 is :0.7501166666666667\n",
      "Accuracy epoch 1 is :0.7755833333333333\n",
      "Accuracy epoch 1 is :0.79225\n",
      "Accuracy epoch 1 is :0.8042\n",
      "Accuracy epoch 1 is :0.8130166666666667\n",
      "Accuracy epoch 1 is :0.8214166666666667\n",
      "Accuracy epoch 1 is :0.8270166666666666\n",
      "Accuracy epoch 1 is :0.8322666666666667\n",
      "Accuracy epoch 1 is :0.8369\n",
      "Accuracy epoch 1 is :0.8408833333333333\n",
      "Accuracy epoch 1 is :0.8436333333333333\n",
      "Accuracy epoch 1 is :0.8469\n",
      "Accuracy epoch 1 is :0.84945\n",
      "Accuracy epoch 1 is :0.8514\n",
      "Accuracy epoch 1 is :0.8533333333333334\n",
      "Accuracy epoch 1 is :0.8551333333333333\n",
      "Accuracy epoch 1 is :0.8568833333333333\n",
      "Accuracy epoch 1 is :0.85835\n",
      "Accuracy epoch 1 is :0.8596166666666667\n",
      "Accuracy epoch 1 is :0.8614166666666667\n",
      "Accuracy epoch 1 is :0.8627\n",
      "Accuracy epoch 1 is :0.8636333333333334\n",
      "Accuracy epoch 1 is :0.8645666666666667\n",
      "Accuracy epoch 1 is :0.8657333333333334\n",
      "Accuracy epoch 1 is :0.8663666666666666\n",
      "Accuracy epoch 1 is :0.8674\n",
      "Accuracy epoch 1 is :0.86835\n",
      "Accuracy epoch 1 is :0.86965\n",
      "Accuracy epoch 1 is :0.8702666666666666\n",
      "Accuracy epoch 1 is :0.8708166666666667\n",
      "Accuracy epoch 1 is :0.87165\n",
      "Accuracy epoch 1 is :0.8720333333333333\n",
      "Accuracy epoch 1 is :0.8724666666666666\n",
      "Accuracy epoch 1 is :0.8729666666666667\n",
      "Accuracy epoch 1 is :0.87325\n",
      "Accuracy epoch 1 is :0.8739166666666667\n",
      "Accuracy epoch 1 is :0.87435\n",
      "Accuracy epoch 1 is :0.8752333333333333\n",
      "Accuracy epoch 1 is :0.8758\n",
      "Accuracy epoch 1 is :0.8763666666666666\n",
      "Accuracy epoch 1 is :0.8771833333333333\n",
      "Accuracy epoch 1 is :0.8775833333333334\n",
      "Accuracy epoch 1 is :0.87795\n",
      "Accuracy epoch 1 is :0.8783666666666666\n",
      "Accuracy epoch 1 is :0.87875\n",
      "Accuracy epoch 1 is :0.87935\n",
      "Accuracy epoch 1 is :0.8796333333333334\n",
      "Accuracy epoch 1 is :0.87975\n",
      "Accuracy epoch 1 is :0.8802833333333333\n",
      "Accuracy epoch 1 is :0.88045\n",
      "Accuracy epoch 1 is :0.8808333333333334\n",
      "Accuracy epoch 1 is :0.8810166666666667\n",
      "Accuracy epoch 1 is :0.8813333333333333\n",
      "Accuracy epoch 1 is :0.8817666666666667\n",
      "Accuracy epoch 1 is :0.8820166666666667\n",
      "Accuracy epoch 1 is :0.8824833333333333\n"
     ]
    },
    {
     "data": {
      "text/plain": [
       "BenchmarkTools.Trial: \n",
       "  memory estimate:  135.88 MiB\n",
       "  allocs estimate:  162894\n",
       "  --------------\n",
       "  minimum time:     166.493 ms (12.82% GC)\n",
       "  median time:      184.598 ms (11.08% GC)\n",
       "  mean time:        183.802 ms (11.35% GC)\n",
       "  maximum time:     199.643 ms (9.84% GC)\n",
       "  --------------\n",
       "  samples:          28\n",
       "  evals/sample:     1"
      ]
     },
     "execution_count": 8,
     "metadata": {},
     "output_type": "execute_result"
    }
   ],
   "source": [
    "@benchmark MulticlassPerceptron4.fit!(percep4, X_train, y_train, 1, 0.0001)"
   ]
  },
  {
   "cell_type": "markdown",
   "metadata": {},
   "source": [
    "#### MulticlassPerceptron5\n",
    "\n",
    "**What else can be improved?**\n",
    "\n",
    "**Can we push the code to memory estimate 0 ?**\n",
    "\n",
    "**Are we really using the BLAS at the fullest potential?**\n"
   ]
  },
  {
   "cell_type": "code",
   "execution_count": null,
   "metadata": {
    "collapsed": true
   },
   "outputs": [],
   "source": []
  }
 ],
 "metadata": {
  "anaconda-cloud": {},
  "kernelspec": {
   "display_name": "Julia 0.6.0-dev",
   "language": "julia",
   "name": "julia-0.6"
  },
  "language_info": {
   "file_extension": ".jl",
   "mimetype": "application/julia",
   "name": "julia",
   "version": "0.6.0"
  }
 },
 "nbformat": 4,
 "nbformat_minor": 1
}
