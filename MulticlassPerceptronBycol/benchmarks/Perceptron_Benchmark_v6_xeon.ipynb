{
 "cells": [
  {
   "cell_type": "markdown",
   "metadata": {},
   "source": [
    "## Benchmarking Perceptron\n",
    "\n",
    "\n",
    "#### About profiling julia code\n",
    "\n",
    "- https://thirld.com/blog/2015/05/30/julia-profiling-cheat-sheet/\n",
    "\n",
    "#### Examples of speeding up code\n",
    "\n",
    "There is a small number of \"tricks\" that can be applied to speed up execution time and save memory allocations. This is paramount for enjoying C like speed with julia code.\n",
    "\n",
    "- https://discourse.julialang.org/t/speed-up-this-code-game/3666"
   ]
  },
  {
   "cell_type": "code",
   "execution_count": 1,
   "metadata": {},
   "outputs": [
    {
     "name": "stdout",
     "output_type": "stream",
     "text": [
      "Julia Version 0.6.0-rc1.0\n",
      "Commit 6bdb3950bd (2017-05-07 00:00 UTC)\n",
      "Platform Info:\n",
      "  OS: macOS (x86_64-apple-darwin13.4.0)\n",
      "  CPU: Intel(R) Core(TM) i7-4650U CPU @ 1.70GHz\n",
      "  WORD_SIZE: 64\n",
      "  BLAS: libopenblas (USE64BITINT DYNAMIC_ARCH NO_AFFINITY Haswell)\n",
      "  LAPACK: libopenblas64_\n",
      "  LIBM: libopenlibm\n",
      "  LLVM: libLLVM-3.9.1 (ORCJIT, haswell)\n"
     ]
    }
   ],
   "source": [
    "versioninfo()"
   ]
  },
  {
   "cell_type": "code",
   "execution_count": 2,
   "metadata": {
    "collapsed": true
   },
   "outputs": [],
   "source": [
    "using MNIST\n",
    "using BenchmarkTools"
   ]
  },
  {
   "cell_type": "code",
   "execution_count": 3,
   "metadata": {},
   "outputs": [
    {
     "data": {
      "text/plain": [
       "784"
      ]
     },
     "execution_count": 3,
     "metadata": {},
     "output_type": "execute_result"
    }
   ],
   "source": [
    "source_path = join(push!(split(pwd(),\"/\")[1:end-1],\"source/\" ),\"/\")\n",
    "\n",
    "if !contains(==,LOAD_PATH, source_path) \n",
    "    push!(LOAD_PATH, source_path)\n",
    "end\n",
    "\n",
    "using MulticlassPerceptron4\n",
    "using MulticlassPerceptron3\n",
    "using MulticlassPerceptron2\n",
    "using MulticlassPerceptron1\n",
    "\n",
    "percep1 = MulticlassPerceptron1.MPerceptron(Float32, 10, 784)\n",
    "percep2 = MulticlassPerceptron2.MPerceptron(Float32, 10, 784)\n",
    "percep3 = MulticlassPerceptron3.MPerceptron(Float32, 10, 784)\n",
    "percep4 = MulticlassPerceptron4.MPerceptron(Float32, 10, 784)\n",
    "\n",
    "n_classes = 10\n",
    "n_features = 784"
   ]
  },
  {
   "cell_type": "code",
   "execution_count": 4,
   "metadata": {},
   "outputs": [
    {
     "name": "stderr",
     "output_type": "stream",
     "text": [
      "\u001b[1m\u001b[33mWARNING: \u001b[39m\u001b[22m\u001b[33mArray{T}(::Type{T}, m::Int, n::Int) is deprecated, use Array{T}(m, n) instead.\u001b[39m\n",
      "Stacktrace:\n",
      " [1] \u001b[1mdepwarn\u001b[22m\u001b[22m\u001b[1m(\u001b[22m\u001b[22m::String, ::Symbol\u001b[1m)\u001b[22m\u001b[22m at \u001b[1m./deprecated.jl:64\u001b[22m\u001b[22m\n",
      " [2] \u001b[1mArray\u001b[22m\u001b[22m\u001b[1m(\u001b[22m\u001b[22m::Type{Float64}, ::Int64, ::Int64\u001b[1m)\u001b[22m\u001b[22m at \u001b[1m./deprecated.jl:51\u001b[22m\u001b[22m\n",
      " [3] \u001b[1mtraindata\u001b[22m\u001b[22m\u001b[1m(\u001b[22m\u001b[22m\u001b[1m)\u001b[22m\u001b[22m at \u001b[1m/Users/david/.julia/v0.6/MNIST/src/MNIST.jl:88\u001b[22m\u001b[22m\n",
      " [4] \u001b[1minclude_string\u001b[22m\u001b[22m\u001b[1m(\u001b[22m\u001b[22m::String, ::String\u001b[1m)\u001b[22m\u001b[22m at \u001b[1m./loading.jl:498\u001b[22m\u001b[22m\n",
      " [5] \u001b[1mexecute_request\u001b[22m\u001b[22m\u001b[1m(\u001b[22m\u001b[22m::ZMQ.Socket, ::IJulia.Msg\u001b[1m)\u001b[22m\u001b[22m at \u001b[1m/Users/david/.julia/v0.6/IJulia/src/execute_request.jl:156\u001b[22m\u001b[22m\n",
      " [6] \u001b[1meventloop\u001b[22m\u001b[22m\u001b[1m(\u001b[22m\u001b[22m::ZMQ.Socket\u001b[1m)\u001b[22m\u001b[22m at \u001b[1m/Users/david/.julia/v0.6/IJulia/src/eventloop.jl:8\u001b[22m\u001b[22m\n",
      " [7] \u001b[1m(::IJulia.##9#12)\u001b[22m\u001b[22m\u001b[1m(\u001b[22m\u001b[22m\u001b[1m)\u001b[22m\u001b[22m at \u001b[1m./task.jl:335\u001b[22m\u001b[22m\n",
      "while loading In[4], in expression starting on line 1\n",
      "\u001b[1m\u001b[33mWARNING: \u001b[39m\u001b[22m\u001b[33mArray{T}(::Type{T}, m::Int) is deprecated, use Array{T}(m) instead.\u001b[39m\n",
      "Stacktrace:\n",
      " [1] \u001b[1mdepwarn\u001b[22m\u001b[22m\u001b[1m(\u001b[22m\u001b[22m::String, ::Symbol\u001b[1m)\u001b[22m\u001b[22m at \u001b[1m./deprecated.jl:64\u001b[22m\u001b[22m\n",
      " [2] \u001b[1mArray\u001b[22m\u001b[22m\u001b[1m(\u001b[22m\u001b[22m::Type{Float64}, ::Int64\u001b[1m)\u001b[22m\u001b[22m at \u001b[1m./deprecated.jl:51\u001b[22m\u001b[22m\n",
      " [3] \u001b[1mtraindata\u001b[22m\u001b[22m\u001b[1m(\u001b[22m\u001b[22m\u001b[1m)\u001b[22m\u001b[22m at \u001b[1m/Users/david/.julia/v0.6/MNIST/src/MNIST.jl:89\u001b[22m\u001b[22m\n",
      " [4] \u001b[1minclude_string\u001b[22m\u001b[22m\u001b[1m(\u001b[22m\u001b[22m::String, ::String\u001b[1m)\u001b[22m\u001b[22m at \u001b[1m./loading.jl:498\u001b[22m\u001b[22m\n",
      " [5] \u001b[1mexecute_request\u001b[22m\u001b[22m\u001b[1m(\u001b[22m\u001b[22m::ZMQ.Socket, ::IJulia.Msg\u001b[1m)\u001b[22m\u001b[22m at \u001b[1m/Users/david/.julia/v0.6/IJulia/src/execute_request.jl:156\u001b[22m\u001b[22m\n",
      " [6] \u001b[1meventloop\u001b[22m\u001b[22m\u001b[1m(\u001b[22m\u001b[22m::ZMQ.Socket\u001b[1m)\u001b[22m\u001b[22m at \u001b[1m/Users/david/.julia/v0.6/IJulia/src/eventloop.jl:8\u001b[22m\u001b[22m\n",
      " [7] \u001b[1m(::IJulia.##9#12)\u001b[22m\u001b[22m\u001b[1m(\u001b[22m\u001b[22m\u001b[1m)\u001b[22m\u001b[22m at \u001b[1m./task.jl:335\u001b[22m\u001b[22m\n",
      "while loading In[4], in expression starting on line 1\n",
      "\u001b[1m\u001b[33mWARNING: \u001b[39m\u001b[22m\u001b[33mArray{T}(::Type{T}, m::Int, n::Int) is deprecated, use Array{T}(m, n) instead.\u001b[39m\n",
      "Stacktrace:\n",
      " [1] \u001b[1mdepwarn\u001b[22m\u001b[22m\u001b[1m(\u001b[22m\u001b[22m::String, ::Symbol\u001b[1m)\u001b[22m\u001b[22m at \u001b[1m./deprecated.jl:64\u001b[22m\u001b[22m\n",
      " [2] \u001b[1mArray\u001b[22m\u001b[22m\u001b[1m(\u001b[22m\u001b[22m::Type{Float64}, ::Int64, ::Int64\u001b[1m)\u001b[22m\u001b[22m at \u001b[1m./deprecated.jl:51\u001b[22m\u001b[22m\n",
      " [3] \u001b[1mtestdata\u001b[22m\u001b[22m\u001b[1m(\u001b[22m\u001b[22m\u001b[1m)\u001b[22m\u001b[22m at \u001b[1m/Users/david/.julia/v0.6/MNIST/src/MNIST.jl:99\u001b[22m\u001b[22m\n",
      " [4] \u001b[1minclude_string\u001b[22m\u001b[22m\u001b[1m(\u001b[22m\u001b[22m::String, ::String\u001b[1m)\u001b[22m\u001b[22m at \u001b[1m./loading.jl:498\u001b[22m\u001b[22m\n",
      " [5] \u001b[1mexecute_request\u001b[22m\u001b[22m\u001b[1m(\u001b[22m\u001b[22m::ZMQ.Socket, ::IJulia.Msg\u001b[1m)\u001b[22m\u001b[22m at \u001b[1m/Users/david/.julia/v0.6/IJulia/src/execute_request.jl:156\u001b[22m\u001b[22m\n",
      " [6] \u001b[1meventloop\u001b[22m\u001b[22m\u001b[1m(\u001b[22m\u001b[22m::ZMQ.Socket\u001b[1m)\u001b[22m\u001b[22m at \u001b[1m/Users/david/.julia/v0.6/IJulia/src/eventloop.jl:8\u001b[22m\u001b[22m\n",
      " [7] \u001b[1m(::IJulia.##9#12)\u001b[22m\u001b[22m\u001b[1m(\u001b[22m\u001b[22m\u001b[1m)\u001b[22m\u001b[22m at \u001b[1m./task.jl:335\u001b[22m\u001b[22m\n",
      "while loading In[4], in expression starting on line 2\n",
      "\u001b[1m\u001b[33mWARNING: \u001b[39m\u001b[22m\u001b[33mArray{T}(::Type{T}, m::Int) is deprecated, use Array{T}(m) instead.\u001b[39m\n",
      "Stacktrace:\n",
      " [1] \u001b[1mdepwarn\u001b[22m\u001b[22m\u001b[1m(\u001b[22m\u001b[22m::String, ::Symbol\u001b[1m)\u001b[22m\u001b[22m at \u001b[1m./deprecated.jl:64\u001b[22m\u001b[22m\n",
      " [2] \u001b[1mArray\u001b[22m\u001b[22m\u001b[1m(\u001b[22m\u001b[22m::Type{Float64}, ::Int64\u001b[1m)\u001b[22m\u001b[22m at \u001b[1m./deprecated.jl:51\u001b[22m\u001b[22m\n",
      " [3] \u001b[1mtestdata\u001b[22m\u001b[22m\u001b[1m(\u001b[22m\u001b[22m\u001b[1m)\u001b[22m\u001b[22m at \u001b[1m/Users/david/.julia/v0.6/MNIST/src/MNIST.jl:100\u001b[22m\u001b[22m\n",
      " [4] \u001b[1minclude_string\u001b[22m\u001b[22m\u001b[1m(\u001b[22m\u001b[22m::String, ::String\u001b[1m)\u001b[22m\u001b[22m at \u001b[1m./loading.jl:498\u001b[22m\u001b[22m\n",
      " [5] \u001b[1mexecute_request\u001b[22m\u001b[22m\u001b[1m(\u001b[22m\u001b[22m::ZMQ.Socket, ::IJulia.Msg\u001b[1m)\u001b[22m\u001b[22m at \u001b[1m/Users/david/.julia/v0.6/IJulia/src/execute_request.jl:156\u001b[22m\u001b[22m\n",
      " [6] \u001b[1meventloop\u001b[22m\u001b[22m\u001b[1m(\u001b[22m\u001b[22m::ZMQ.Socket\u001b[1m)\u001b[22m\u001b[22m at \u001b[1m/Users/david/.julia/v0.6/IJulia/src/eventloop.jl:8\u001b[22m\u001b[22m\n",
      " [7] \u001b[1m(::IJulia.##9#12)\u001b[22m\u001b[22m\u001b[1m(\u001b[22m\u001b[22m\u001b[1m)\u001b[22m\u001b[22m at \u001b[1m./task.jl:335\u001b[22m\u001b[22m\n",
      "while loading In[4], in expression starting on line 2\n"
     ]
    }
   ],
   "source": [
    "X_train, y_train = MNIST.traindata();\n",
    "X_test, y_test = MNIST.testdata();\n",
    "y_train = y_train + 1\n",
    "y_test = y_test + 1;\n",
    "\n",
    "T = Float32\n",
    "X_train = Array{T}((X_train - minimum(X_train))/(maximum(X_train) - minimum(X_train)))\n",
    "y_train = Array{Int64}(y_train)\n",
    "X_test = Array{T}(X_test - minimum(X_test))/(maximum(X_test) - minimum(X_test)) \n",
    "y_test = Array{Int64}(y_test);"
   ]
  },
  {
   "cell_type": "code",
   "execution_count": 5,
   "metadata": {
    "scrolled": true
   },
   "outputs": [
    {
     "name": "stdout",
     "output_type": "stream",
     "text": [
      "Accuracy epoch 1 is :0.5818833333333333\n",
      "Accuracy epoch 1 is :0.6920666666666667\n",
      "Accuracy epoch 1 is :0.7402\n",
      "Accuracy epoch 1 is :0.7685166666666666\n",
      "Accuracy epoch 1 is :0.7872166666666667\n",
      "Accuracy epoch 1 is :0.7997\n",
      "Accuracy epoch 1 is :0.8089\n",
      "Accuracy epoch 1 is :0.8170833333333334\n",
      "Accuracy epoch 1 is :0.8233833333333334\n",
      "Accuracy epoch 1 is :0.8283333333333334\n",
      "Accuracy epoch 1 is :0.8327333333333333\n",
      "Accuracy epoch 1 is :0.83655\n",
      "Accuracy epoch 1 is :0.8397666666666667\n",
      "Accuracy epoch 1 is :0.8432166666666666\n"
     ]
    },
    {
     "data": {
      "text/plain": [
       "BenchmarkTools.Trial: \n",
       "  memory estimate:  586.84 MiB\n",
       "  allocs estimate:  656755\n",
       "  --------------\n",
       "  minimum time:     803.514 ms (11.57% GC)\n",
       "  median time:      844.181 ms (10.22% GC)\n",
       "  mean time:        845.986 ms (10.18% GC)\n",
       "  maximum time:     915.224 ms (8.96% GC)\n",
       "  --------------\n",
       "  samples:          6\n",
       "  evals/sample:     1"
      ]
     },
     "execution_count": 5,
     "metadata": {},
     "output_type": "execute_result"
    }
   ],
   "source": [
    "@benchmark MulticlassPerceptron1.fit!(percep1, X_train, y_train, 1, 0.0001)"
   ]
  },
  {
   "cell_type": "markdown",
   "metadata": {},
   "source": [
    "#### MulticlassPerceptron2\n",
    "\n",
    "- Using views instead of copying examples"
   ]
  },
  {
   "cell_type": "code",
   "execution_count": 6,
   "metadata": {},
   "outputs": [
    {
     "name": "stdout",
     "output_type": "stream",
     "text": [
      "Accuracy epoch 1 is :0.5744\n",
      "Accuracy epoch 1 is :0.6903833333333333\n",
      "Accuracy epoch 1 is :0.7405\n",
      "Accuracy epoch 1 is :0.7701333333333333\n",
      "Accuracy epoch 1 is :0.78705\n",
      "Accuracy epoch 1 is :0.7994833333333333\n",
      "Accuracy epoch 1 is :0.8094\n",
      "Accuracy epoch 1 is :0.8174\n",
      "Accuracy epoch 1 is :0.8227833333333333\n",
      "Accuracy epoch 1 is :0.8274166666666667\n",
      "Accuracy epoch 1 is :0.83135\n",
      "Accuracy epoch 1 is :0.8353333333333334\n",
      "Accuracy epoch 1 is :0.83845\n",
      "Accuracy epoch 1 is :0.8416333333333333\n",
      "Accuracy epoch 1 is :0.84455\n",
      "Accuracy epoch 1 is :0.8477333333333333\n",
      "Accuracy epoch 1 is :0.8500166666666666\n",
      "Accuracy epoch 1 is :0.8518333333333333\n",
      "Accuracy epoch 1 is :0.8535833333333334\n",
      "Accuracy epoch 1 is :0.8547666666666667\n",
      "Accuracy epoch 1 is :0.85655\n",
      "Accuracy epoch 1 is :0.8584666666666667\n",
      "Accuracy epoch 1 is :0.8598\n",
      "Accuracy epoch 1 is :0.8607\n",
      "Accuracy epoch 1 is :0.8618166666666667\n",
      "Accuracy epoch 1 is :0.86275\n",
      "Accuracy epoch 1 is :0.86385\n",
      "Accuracy epoch 1 is :0.8649\n",
      "Accuracy epoch 1 is :0.8657333333333334\n",
      "Accuracy epoch 1 is :0.86695\n",
      "Accuracy epoch 1 is :0.8674166666666666\n",
      "Accuracy epoch 1 is :0.8683333333333333\n",
      "Accuracy epoch 1 is :0.8688166666666667\n",
      "Accuracy epoch 1 is :0.8694166666666666\n",
      "Accuracy epoch 1 is :0.8703666666666666\n",
      "Accuracy epoch 1 is :0.87075\n",
      "Accuracy epoch 1 is :0.87115\n",
      "Accuracy epoch 1 is :0.8718166666666667\n",
      "Accuracy epoch 1 is :0.87225\n",
      "Accuracy epoch 1 is :0.8730333333333333\n",
      "Accuracy epoch 1 is :0.8734666666666666\n",
      "Accuracy epoch 1 is :0.8739666666666667\n",
      "Accuracy epoch 1 is :0.8742833333333333\n",
      "Accuracy epoch 1 is :0.8752166666666666\n",
      "Accuracy epoch 1 is :0.876\n",
      "Accuracy epoch 1 is :0.8763166666666666\n",
      "Accuracy epoch 1 is :0.8765833333333334\n",
      "Accuracy epoch 1 is :0.87695\n",
      "Accuracy epoch 1 is :0.87725\n",
      "Accuracy epoch 1 is :0.8776666666666667\n",
      "Accuracy epoch 1 is :0.8779333333333333\n",
      "Accuracy epoch 1 is :0.8784166666666666\n",
      "Accuracy epoch 1 is :0.8788\n",
      "Accuracy epoch 1 is :0.8792\n",
      "Accuracy epoch 1 is :0.8791833333333333\n"
     ]
    },
    {
     "data": {
      "text/plain": [
       "BenchmarkTools.Trial: \n",
       "  memory estimate:  169.67 MiB\n",
       "  allocs estimate:  404174\n",
       "  --------------\n",
       "  minimum time:     179.531 ms (13.01% GC)\n",
       "  median time:      207.601 ms (12.09% GC)\n",
       "  mean time:        202.122 ms (12.53% GC)\n",
       "  maximum time:     223.196 ms (13.18% GC)\n",
       "  --------------\n",
       "  samples:          25\n",
       "  evals/sample:     1"
      ]
     },
     "execution_count": 6,
     "metadata": {},
     "output_type": "execute_result"
    }
   ],
   "source": [
    "@benchmark MulticlassPerceptron2.fit!(percep2, X_train, y_train, 1, 0.0001)"
   ]
  },
  {
   "cell_type": "markdown",
   "metadata": {},
   "source": [
    "#### MulticlassPerceptron3\n",
    "\n",
    "- Using views instead of copying examples\n",
    "- using inbounds\n"
   ]
  },
  {
   "cell_type": "code",
   "execution_count": 7,
   "metadata": {
    "scrolled": true
   },
   "outputs": [
    {
     "name": "stdout",
     "output_type": "stream",
     "text": [
      "Accuracy epoch 1 is :0.6027166666666667\n",
      "Accuracy epoch 1 is :0.7050333333333333\n",
      "Accuracy epoch 1 is :0.7494666666666666\n",
      "Accuracy epoch 1 is :0.7739\n",
      "Accuracy epoch 1 is :0.7906333333333333\n",
      "Accuracy epoch 1 is :0.8027166666666666\n",
      "Accuracy epoch 1 is :0.8119\n",
      "Accuracy epoch 1 is :0.8189833333333333\n",
      "Accuracy epoch 1 is :0.8249166666666666\n",
      "Accuracy epoch 1 is :0.82995\n",
      "Accuracy epoch 1 is :0.83455\n",
      "Accuracy epoch 1 is :0.8379666666666666\n",
      "Accuracy epoch 1 is :0.8413666666666667\n",
      "Accuracy epoch 1 is :0.8445\n",
      "Accuracy epoch 1 is :0.8467666666666667\n",
      "Accuracy epoch 1 is :0.84895\n",
      "Accuracy epoch 1 is :0.8515\n",
      "Accuracy epoch 1 is :0.8532\n",
      "Accuracy epoch 1 is :0.8549666666666667\n",
      "Accuracy epoch 1 is :0.8566333333333334\n",
      "Accuracy epoch 1 is :0.8580666666666666\n",
      "Accuracy epoch 1 is :0.8595333333333334\n",
      "Accuracy epoch 1 is :0.8609333333333333\n",
      "Accuracy epoch 1 is :0.8621166666666666\n",
      "Accuracy epoch 1 is :0.8633166666666666\n",
      "Accuracy epoch 1 is :0.8641\n",
      "Accuracy epoch 1 is :0.8649166666666667\n",
      "Accuracy epoch 1 is :0.8658\n",
      "Accuracy epoch 1 is :0.8667333333333334\n",
      "Accuracy epoch 1 is :0.8676166666666667\n",
      "Accuracy epoch 1 is :0.8685166666666667\n",
      "Accuracy epoch 1 is :0.8691333333333333\n",
      "Accuracy epoch 1 is :0.86995\n",
      "Accuracy epoch 1 is :0.8704333333333333\n",
      "Accuracy epoch 1 is :0.8712833333333333\n",
      "Accuracy epoch 1 is :0.8720833333333333\n",
      "Accuracy epoch 1 is :0.87265\n",
      "Accuracy epoch 1 is :0.8731166666666667\n",
      "Accuracy epoch 1 is :0.8738833333333333\n",
      "Accuracy epoch 1 is :0.8740333333333333\n",
      "Accuracy epoch 1 is :0.8743666666666666\n",
      "Accuracy epoch 1 is :0.8747166666666667\n",
      "Accuracy epoch 1 is :0.87485\n",
      "Accuracy epoch 1 is :0.8755166666666667\n",
      "Accuracy epoch 1 is :0.8758666666666667\n",
      "Accuracy epoch 1 is :0.8764166666666666\n",
      "Accuracy epoch 1 is :0.8770666666666667\n",
      "Accuracy epoch 1 is :0.8774833333333333\n",
      "Accuracy epoch 1 is :0.87795\n",
      "Accuracy epoch 1 is :0.87835\n",
      "Accuracy epoch 1 is :0.8786\n",
      "Accuracy epoch 1 is :0.8792\n",
      "Accuracy epoch 1 is :0.87965\n",
      "Accuracy epoch 1 is :0.8799\n",
      "Accuracy epoch 1 is :0.88005\n",
      "Accuracy epoch 1 is :0.8803166666666666\n",
      "Accuracy epoch 1 is :0.8808\n"
     ]
    },
    {
     "data": {
      "text/plain": [
       "BenchmarkTools.Trial: \n",
       "  memory estimate:  138.58 MiB\n",
       "  allocs estimate:  163609\n",
       "  --------------\n",
       "  minimum time:     166.153 ms (9.73% GC)\n",
       "  median time:      186.867 ms (12.05% GC)\n",
       "  mean time:        186.546 ms (11.97% GC)\n",
       "  maximum time:     200.547 ms (12.37% GC)\n",
       "  --------------\n",
       "  samples:          27\n",
       "  evals/sample:     1"
      ]
     },
     "execution_count": 7,
     "metadata": {},
     "output_type": "execute_result"
    }
   ],
   "source": [
    "@benchmark MulticlassPerceptron3.fit!(percep3, X_train, y_train, 1, 0.0001)"
   ]
  },
  {
   "cell_type": "markdown",
   "metadata": {
    "collapsed": true
   },
   "source": [
    "#### MulticlassPerceptron4\n",
    "\n",
    "- Using views instead of copying examples\n",
    "- using views\n",
    "- prealocated vector for predicting all datapoints\n",
    "- using .* sintax for loop fusion"
   ]
  },
  {
   "cell_type": "code",
   "execution_count": 8,
   "metadata": {
    "scrolled": true
   },
   "outputs": [
    {
     "name": "stdout",
     "output_type": "stream",
     "text": [
      "Accuracy epoch 1 is :0.5922166666666666\n",
      "Accuracy epoch 1 is :0.7018666666666666\n",
      "Accuracy epoch 1 is :0.7483333333333333\n",
      "Accuracy epoch 1 is :0.7743666666666666\n",
      "Accuracy epoch 1 is :0.7906\n",
      "Accuracy epoch 1 is :0.8036\n",
      "Accuracy epoch 1 is :0.8131333333333334\n",
      "Accuracy epoch 1 is :0.8203\n",
      "Accuracy epoch 1 is :0.8267833333333333\n",
      "Accuracy epoch 1 is :0.8311833333333334\n",
      "Accuracy epoch 1 is :0.8355166666666667\n",
      "Accuracy epoch 1 is :0.8388833333333333\n",
      "Accuracy epoch 1 is :0.8424\n",
      "Accuracy epoch 1 is :0.8451166666666666\n",
      "Accuracy epoch 1 is :0.8475333333333334\n",
      "Accuracy epoch 1 is :0.8497333333333333\n",
      "Accuracy epoch 1 is :0.8521666666666666\n",
      "Accuracy epoch 1 is :0.8539333333333333\n",
      "Accuracy epoch 1 is :0.8555666666666667\n",
      "Accuracy epoch 1 is :0.8571333333333333\n",
      "Accuracy epoch 1 is :0.8587833333333333\n",
      "Accuracy epoch 1 is :0.8600833333333333\n",
      "Accuracy epoch 1 is :0.8607833333333333\n",
      "Accuracy epoch 1 is :0.8621166666666666\n",
      "Accuracy epoch 1 is :0.8635666666666667\n",
      "Accuracy epoch 1 is :0.8643333333333333\n",
      "Accuracy epoch 1 is :0.86475\n",
      "Accuracy epoch 1 is :0.8656666666666667\n",
      "Accuracy epoch 1 is :0.8664333333333334\n",
      "Accuracy epoch 1 is :0.8673\n",
      "Accuracy epoch 1 is :0.8682166666666666\n",
      "Accuracy epoch 1 is :0.8690166666666667\n",
      "Accuracy epoch 1 is :0.86945\n",
      "Accuracy epoch 1 is :0.8702833333333333\n",
      "Accuracy epoch 1 is :0.8707166666666667\n",
      "Accuracy epoch 1 is :0.8714333333333333\n",
      "Accuracy epoch 1 is :0.8720166666666667\n",
      "Accuracy epoch 1 is :0.8725333333333334\n",
      "Accuracy epoch 1 is :0.8729666666666667\n",
      "Accuracy epoch 1 is :0.8735833333333334\n",
      "Accuracy epoch 1 is :0.8740833333333333\n",
      "Accuracy epoch 1 is :0.8746\n",
      "Accuracy epoch 1 is :0.8752\n",
      "Accuracy epoch 1 is :0.87545\n",
      "Accuracy epoch 1 is :0.87585\n",
      "Accuracy epoch 1 is :0.8762\n",
      "Accuracy epoch 1 is :0.8767666666666667\n",
      "Accuracy epoch 1 is :0.8772833333333333\n",
      "Accuracy epoch 1 is :0.8777833333333334\n",
      "Accuracy epoch 1 is :0.878\n",
      "Accuracy epoch 1 is :0.87855\n",
      "Accuracy epoch 1 is :0.8789333333333333\n",
      "Accuracy epoch 1 is :0.87905\n",
      "Accuracy epoch 1 is :0.87935\n",
      "Accuracy epoch 1 is :0.87945\n",
      "Accuracy epoch 1 is :0.8795833333333334\n",
      "Accuracy epoch 1 is :0.8799333333333333\n",
      "Accuracy epoch 1 is :0.8801666666666667\n",
      "Accuracy epoch 1 is :0.8806833333333334\n",
      "Accuracy epoch 1 is :0.881\n",
      "Accuracy epoch 1 is :0.88145\n",
      "Accuracy epoch 1 is :0.88205\n",
      "Accuracy epoch 1 is :0.8822\n",
      "Accuracy epoch 1 is :0.8827333333333334\n",
      "Accuracy epoch 1 is :0.8826666666666667\n",
      "Accuracy epoch 1 is :0.8829333333333333\n",
      "Accuracy epoch 1 is :0.8832\n",
      "Accuracy epoch 1 is :0.8837\n",
      "Accuracy epoch 1 is :0.8839666666666667\n",
      "Accuracy epoch 1 is :0.8841666666666667\n",
      "Accuracy epoch 1 is :0.88435\n"
     ]
    },
    {
     "data": {
      "text/plain": [
       "BenchmarkTools.Trial: \n",
       "  memory estimate:  50.93 MiB\n",
       "  allocs estimate:  217951\n",
       "  --------------\n",
       "  minimum time:     135.942 ms (4.60% GC)\n",
       "  median time:      155.537 ms (5.01% GC)\n",
       "  mean time:        152.846 ms (5.75% GC)\n",
       "  maximum time:     160.916 ms (4.70% GC)\n",
       "  --------------\n",
       "  samples:          33\n",
       "  evals/sample:     1"
      ]
     },
     "execution_count": 8,
     "metadata": {},
     "output_type": "execute_result"
    }
   ],
   "source": [
    "@benchmark MulticlassPerceptron4.fit!(percep4, X_train, y_train, 1, 0.0001)"
   ]
  },
  {
   "cell_type": "markdown",
   "metadata": {},
   "source": [
    "#### MulticlassPerceptron5\n",
    "\n",
    "**What else can be improved?**\n",
    "\n",
    "**Can we push the code to memory estimate 0 ?**\n",
    "\n",
    "**Are we really using the BLAS at the fullest potential?**\n"
   ]
  },
  {
   "cell_type": "code",
   "execution_count": null,
   "metadata": {
    "collapsed": true
   },
   "outputs": [],
   "source": []
  }
 ],
 "metadata": {
  "anaconda-cloud": {},
  "kernelspec": {
   "display_name": "Julia 0.6.0-dev",
   "language": "julia",
   "name": "julia-0.6"
  },
  "language_info": {
   "file_extension": ".jl",
   "mimetype": "application/julia",
   "name": "julia",
   "version": "0.6.0"
  }
 },
 "nbformat": 4,
 "nbformat_minor": 1
}
