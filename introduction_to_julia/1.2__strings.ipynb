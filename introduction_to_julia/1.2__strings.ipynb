{
 "cells": [
  {
   "cell_type": "markdown",
   "metadata": {},
   "source": [
    "\n",
    "# Strings in julia\n",
    "\n",
    "\n",
    "#### Characters: the `Char` type\n",
    "\n",
    "\n",
    "Characters are simply symbols such as letters {`A, B, C,` ...} , punctuations symbols {`;,:,`...} or digits {`1,2,3,`...}. In English these characters are standardized together with a mapping to integer values between 0 and 127 by the ASCII standard. \n",
    "\n",
    "Julia has the type `Char` which is used to define a character. Characters are defined between single quotes.\n",
    "```julia\n",
    "x = 't'\n",
    "typeof(x)\n",
    "Char\n",
    "```\n"
   ]
  },
  {
   "cell_type": "code",
   "execution_count": 60,
   "metadata": {},
   "outputs": [
    {
     "data": {
      "text/plain": [
       "Char"
      ]
     },
     "execution_count": 60,
     "metadata": {},
     "output_type": "execute_result"
    }
   ],
   "source": [
    "x = 't'\n",
    "typeof(x)"
   ]
  },
  {
   "cell_type": "markdown",
   "metadata": {},
   "source": [
    "We can convert `Char` types to integers to get the numeric integer associated to each charater. "
   ]
  },
  {
   "cell_type": "code",
   "execution_count": 78,
   "metadata": {},
   "outputs": [
    {
     "data": {
      "text/plain": [
       "(32, 33)"
      ]
     },
     "execution_count": 78,
     "metadata": {},
     "output_type": "execute_result"
    }
   ],
   "source": [
    "Int(' '), Int('!')"
   ]
  },
  {
   "cell_type": "markdown",
   "metadata": {},
   "source": [
    "We can also convert integers to characters"
   ]
  },
  {
   "cell_type": "code",
   "execution_count": 106,
   "metadata": {
    "scrolled": true
   },
   "outputs": [
    {
     "data": {
      "text/plain": [
       "19-element Array{Char,1}:\n",
       " ' ' \n",
       " '!' \n",
       " '\"' \n",
       " '#' \n",
       " '$' \n",
       " '%' \n",
       " '&' \n",
       " '\\''\n",
       " '(' \n",
       " ')' \n",
       " '*' \n",
       " '+' \n",
       " ',' \n",
       " '-' \n",
       " '.' \n",
       " '/' \n",
       " '0' \n",
       " '1' \n",
       " '2' "
      ]
     },
     "execution_count": 106,
     "metadata": {},
     "output_type": "execute_result"
    }
   ],
   "source": [
    "[Char(x) for x in 32:50]"
   ]
  },
  {
   "cell_type": "markdown",
   "metadata": {},
   "source": [
    "There are some \"special\" characters that do not have any special symbol assigned to them. These characters from the ASCII encoding are usually written using combinations standard symbols, for example `x = '\\x01'` is the first ASCII character.\n"
   ]
  },
  {
   "cell_type": "code",
   "execution_count": 105,
   "metadata": {},
   "outputs": [
    {
     "data": {
      "text/plain": [
       "Char"
      ]
     },
     "execution_count": 105,
     "metadata": {},
     "output_type": "execute_result"
    }
   ],
   "source": [
    "typeof('\\x01')"
   ]
  },
  {
   "cell_type": "code",
   "execution_count": 128,
   "metadata": {},
   "outputs": [
    {
     "data": {
      "text/plain": [
       "10-element Array{Char,1}:\n",
       " '\\x01'\n",
       " '\\x02'\n",
       " '\\x03'\n",
       " '\\x04'\n",
       " '\\x05'\n",
       " '\\x06'\n",
       " '\\a'  \n",
       " '\\b'  \n",
       " '\\t'  \n",
       " '\\n'  "
      ]
     },
     "execution_count": 128,
     "metadata": {},
     "output_type": "execute_result"
    }
   ],
   "source": [
    "[Char(x) for x in 1:10]"
   ]
  },
  {
   "cell_type": "markdown",
   "metadata": {},
   "source": [
    "## ASCII characters and beyond\n",
    "\n",
    "\n",
    "In order to verify if a character is in ASCII, julia has the function **`isascii`** function.\n",
    "\n",
    "Unicode characters extend ASCII into a huge number of symbols. https://unicode-table.com/en/#hangul-jamo"
   ]
  },
  {
   "cell_type": "code",
   "execution_count": 130,
   "metadata": {},
   "outputs": [
    {
     "data": {
      "text/plain": [
       "(true, false)"
      ]
     },
     "execution_count": 130,
     "metadata": {},
     "output_type": "execute_result"
    }
   ],
   "source": [
    "isascii('c'), isascii('ç')"
   ]
  },
  {
   "cell_type": "markdown",
   "metadata": {},
   "source": [
    "\n",
    "#### Strings: the `String` type\n",
    "\n",
    "Strings are sequences of characters. Strings are defined between quotes. For example, `x = \"This is a string\"`, is a `string`.\n",
    "\n",
    "\n",
    "In order to verify if a string is in ASCII, julia has the function **`isascii`** which returns `true` if all the characters of the `string` anre ASCII (and false otherwise).\n",
    "```julia\n",
    "println(isascii(\"hunter\"), \" \",  isascii(\"caçador\"))\n",
    "true false\n",
    "```\n",
    "\n",
    "There are many other characters used in non-English languages, including variants of the ASCII characters with accents and other modifications, related scripts such as Cyrillic and Greek, and scripts completely unrelated to ASCII and English, including Arabic, Chinese, Hebrew, Hindi, Japanese, and Korean. \n",
    "\n",
    "\n",
    "The Unicode standard tackles the complexities of what exactly a character is, and is generally accepted as the definitive standard addressing this problem. Depending on your needs, you can either ignore these complexities entirely and just pretend that only ASCII characters exist, or you can write code that can handle any of the characters or encodings that one may encounter when handling non-ASCII text. \n",
    "\n",
    "Julia makes dealing with plain ASCII text simple and efficient, and handling Unicode is as simple and efficient as possible. In particular, you can write C-style string code to process ASCII strings, and they will work as expected, both in terms of performance and semantics. If such code encounters non-ASCII text, it will gracefully fail with a clear error message, rather than silently introducing corrupt results. When this happens, modifying the code to handle non-ASCII data is straightforward.\n",
    "\n"
   ]
  },
  {
   "cell_type": "code",
   "execution_count": 31,
   "metadata": {},
   "outputs": [
    {
     "data": {
      "text/plain": [
       "String"
      ]
     },
     "execution_count": 31,
     "metadata": {},
     "output_type": "execute_result"
    }
   ],
   "source": [
    "a = \"the house is big\"\n",
    "typeof(a)"
   ]
  },
  {
   "cell_type": "code",
   "execution_count": 30,
   "metadata": {},
   "outputs": [
    {
     "name": "stdout",
     "output_type": "stream",
     "text": [
      "true false\n"
     ]
    }
   ],
   "source": [
    "println(isascii(\"hunter\"),\" \",  isascii(\"caçador\"))"
   ]
  },
  {
   "cell_type": "code",
   "execution_count": null,
   "metadata": {
    "collapsed": true
   },
   "outputs": [],
   "source": []
  }
 ],
 "metadata": {
  "kernelspec": {
   "display_name": "Julia 0.6.0",
   "language": "julia",
   "name": "julia-0.6"
  },
  "language_info": {
   "file_extension": ".jl",
   "mimetype": "application/julia",
   "name": "julia",
   "version": "0.6.0"
  }
 },
 "nbformat": 4,
 "nbformat_minor": 1
}
