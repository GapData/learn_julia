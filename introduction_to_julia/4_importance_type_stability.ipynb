{
 "cells": [
  {
   "cell_type": "markdown",
   "metadata": {
    "collapsed": true
   },
   "source": [
    "# Benchmarking typed stable code"
   ]
  },
  {
   "cell_type": "code",
   "execution_count": 1,
   "metadata": {
    "collapsed": false
   },
   "outputs": [
    {
     "name": "stderr",
     "output_type": "stream",
     "text": [
      "\u001b[1m\u001b[36mINFO: \u001b[39m\u001b[22m\u001b[36mRecompiling stale cache file /Users/david/.julia/lib/v0.6/JLD.ji for module JLD.\n",
      "\u001b[39mWARNING: could not import Base.lastidx into LegacyStrings\n"
     ]
    }
   ],
   "source": [
    "using BenchmarkTools"
   ]
  },
  {
   "cell_type": "code",
   "execution_count": 2,
   "metadata": {
    "collapsed": false
   },
   "outputs": [
    {
     "data": {
      "text/plain": [
       "sumsqrtn (generic function with 1 method)"
      ]
     },
     "execution_count": 2,
     "metadata": {},
     "output_type": "execute_result"
    }
   ],
   "source": [
    "function sumsqrtn(n::Int)\n",
    "    r = 0\n",
    "    for i = 1:n\n",
    "        r = r + sqrt(i)\n",
    "    end\n",
    "return r end"
   ]
  },
  {
   "cell_type": "code",
   "execution_count": 5,
   "metadata": {
    "collapsed": false
   },
   "outputs": [
    {
     "name": "stdout",
     "output_type": "stream",
     "text": [
      "  0.000004 seconds (34 allocations: 640 bytes)\n",
      "  0.292040 seconds (30.00 M allocations: 457.764 MB, 10.44% gc time)\n"
     ]
    },
    {
     "data": {
      "text/plain": [
       "2.1081852648716972e10"
      ]
     },
     "execution_count": 5,
     "metadata": {},
     "output_type": "execute_result"
    }
   ],
   "source": [
    "@time sumsqrtn(10)\n",
    "@time sumsqrtn(10^7)"
   ]
  },
  {
   "cell_type": "code",
   "execution_count": 6,
   "metadata": {
    "collapsed": false
   },
   "outputs": [
    {
     "data": {
      "text/plain": [
       "(Float64,Int64)"
      ]
     },
     "execution_count": 6,
     "metadata": {},
     "output_type": "execute_result"
    }
   ],
   "source": [
    "typeof(sqrt(4)), typeof(0)"
   ]
  },
  {
   "cell_type": "markdown",
   "metadata": {},
   "source": [
    "#### what is wrong with the previous code?\n",
    "\n",
    "Notice that **```r```** changes its type inside the function.\n",
    "It is first defined as an integer but then it changes to float.\n",
    "\n",
    "\n",
    "You can check how the compiler infers types of the variables inside a function using the **```@code_warntype```** method."
   ]
  },
  {
   "cell_type": "code",
   "execution_count": 7,
   "metadata": {
    "collapsed": false,
    "scrolled": true
   },
   "outputs": [
    {
     "name": "stdout",
     "output_type": "stream",
     "text": [
      "Variables:\n",
      "  #self#::#sumsqrtn\n",
      "  n::Int64\n",
      "  i::Int64\n",
      "  #temp#@_4::Int64\n",
      "  r\u001b[1m\u001b[91m::Any\u001b[39m\u001b[22m\n",
      "  #temp#@_6::Core.MethodInstance\n",
      "  #temp#@_7::Float64\n",
      "\n",
      "Body:\n",
      "  begin \n",
      "      r\u001b[1m\u001b[91m::Any\u001b[39m\u001b[22m = 0 # line 3:\n",
      "      SSAValue(2) = (Base.select_value)((Base.sle_int)(1,n::Int64)::Bool,n::Int64,(Base.box)(Int64,(Base.sub_int)(1,1)))::Int64\n",
      "      #temp#@_4::Int64 = 1\n",
      "      5: \n",
      "      unless (Base.box)(Base.Bool,(Base.not_int)((#temp#@_4::Int64 === (Base.box)(Int64,(Base.add_int)(SSAValue(2),1)))::Bool)) goto 30\n",
      "      SSAValue(3) = #temp#@_4::Int64\n",
      "      SSAValue(4) = (Base.box)(Int64,(Base.add_int)(#temp#@_4::Int64,1))\n",
      "      i::Int64 = SSAValue(3)\n",
      "      #temp#@_4::Int64 = SSAValue(4) # line 4:\n",
      "      unless (r\u001b[1m\u001b[91m::Union{Float64,Int64}\u001b[39m\u001b[22m isa Float64)\u001b[1m\u001b[91m::Any\u001b[39m\u001b[22m goto 15\n",
      "      #temp#@_6::Core.MethodInstance = MethodInstance for \u001b[1m+\u001b[22m\u001b[22m\u001b[1m(\u001b[22m\u001b[22m::Float64, ::Float64\u001b[1m)\u001b[22m\u001b[22m\n",
      "      goto 24\n",
      "      15: \n",
      "      unless (r\u001b[1m\u001b[91m::Union{Float64,Int64}\u001b[39m\u001b[22m isa Int64)\u001b[1m\u001b[91m::Any\u001b[39m\u001b[22m goto 19\n",
      "      #temp#@_6::Core.MethodInstance = MethodInstance for \u001b[1m+\u001b[22m\u001b[22m\u001b[1m(\u001b[22m\u001b[22m::Int64, ::Float64\u001b[1m)\u001b[22m\u001b[22m\n",
      "      goto 24\n",
      "      19: \n",
      "      goto 21\n",
      "      21: \n",
      "      #temp#@_7::Float64 = (r\u001b[1m\u001b[91m::Union{Float64,Int64}\u001b[39m\u001b[22m + (Base.Math.box)(Base.Math.Float64,(Base.Math.sqrt_llvm)((Base.box)(Float64,(Base.sitofp)(Float64,i::Int64))))::Float64)::Float64\n",
      "      goto 26\n",
      "      24: \n",
      "      #temp#@_7::Float64 = $(Expr(:invoke, :(#temp#@_6), :(Main.+), :(r::Union{Float64,Int64}), :((Base.Math.box)(Base.Math.Float64,(Base.Math.sqrt_llvm)((Base.box)(Float64,(Base.sitofp)(Float64,i))))::Float64)))\n",
      "      26: \n",
      "      r\u001b[1m\u001b[91m::Any\u001b[39m\u001b[22m = #temp#@_7::Float64\n",
      "      28: \n",
      "      goto 5\n",
      "      30:  # line 6:\n",
      "      return r\u001b[1m\u001b[91m::Union{Float64,Int64}\u001b[39m\u001b[22m\n",
      "  end\u001b[1m\u001b[91m::Union{Float64,Int64}\u001b[39m\u001b[22m\n"
     ]
    }
   ],
   "source": [
    "@code_warntype sumsqrtn(10)"
   ]
  },
  {
   "cell_type": "markdown",
   "metadata": {},
   "source": [
    "Let us rewrite the function defining ```r```as float. Doing so we will avoid changing its type inside the function and it will run faster."
   ]
  },
  {
   "cell_type": "code",
   "execution_count": 11,
   "metadata": {
    "collapsed": false
   },
   "outputs": [
    {
     "data": {
      "text/plain": [
       "sumsqrtn2 (generic function with 2 methods)"
      ]
     },
     "execution_count": 11,
     "metadata": {},
     "output_type": "execute_result"
    }
   ],
   "source": [
    "function sumsqrtn2(n::Int64) \n",
    "    r = 0.\n",
    "    for i = 1:n\n",
    "        r = r + sqrt(i)\n",
    "    end\n",
    "return r end"
   ]
  },
  {
   "cell_type": "code",
   "execution_count": 13,
   "metadata": {
    "collapsed": false
   },
   "outputs": [
    {
     "name": "stdout",
     "output_type": "stream",
     "text": [
      "  0.000014 seconds (6 allocations: 192 bytes)\n",
      "  0.095450 seconds (6 allocations: 192 bytes)\n"
     ]
    },
    {
     "data": {
      "text/plain": [
       "2.1081852648716972e10"
      ]
     },
     "execution_count": 13,
     "metadata": {},
     "output_type": "execute_result"
    }
   ],
   "source": [
    "@time sumsqrtn2(10^3)\n",
    "@time sumsqrtn2(10^7)"
   ]
  },
  {
   "cell_type": "code",
   "execution_count": 14,
   "metadata": {
    "collapsed": false
   },
   "outputs": [
    {
     "name": "stdout",
     "output_type": "stream",
     "text": [
      "Variables:\n",
      "  #self#::#sumsqrtn2\n",
      "  n::Int64\n",
      "  i::Int64\n",
      "  #temp#::Int64\n",
      "  r::Float64\n",
      "\n",
      "Body:\n",
      "  begin \n",
      "      r::Float64 = 0.0 # line 3:\n",
      "      SSAValue(3) = (Base.select_value)((Base.sle_int)(1,n::Int64)::Bool,n::Int64,(Base.box)(Int64,(Base.sub_int)(1,1)))::Int64\n",
      "      #temp#::Int64 = 1\n",
      "      5: \n",
      "      unless (Base.box)(Base.Bool,(Base.not_int)((#temp#::Int64 === (Base.box)(Int64,(Base.add_int)(SSAValue(3),1)))::Bool)) goto 16\n",
      "      SSAValue(4) = #temp#::Int64\n",
      "      SSAValue(5) = (Base.box)(Int64,(Base.add_int)(#temp#::Int64,1))\n",
      "      i::Int64 = SSAValue(4)\n",
      "      #temp#::Int64 = SSAValue(5) # line 4:\n",
      "      SSAValue(2) = (Base.Math.box)(Base.Math.Float64,(Base.Math.sqrt_llvm)((Base.box)(Float64,(Base.sitofp)(Float64,i::Int64))))::Float64\n",
      "      r::Float64 = (Base.box)(Base.Float64,(Base.add_float)(r::Float64,SSAValue(2)))\n",
      "      14: \n",
      "      goto 5\n",
      "      16:  # line 6:\n",
      "      return r::Float64\n",
      "  end::Float64\n"
     ]
    }
   ],
   "source": [
    "@code_warntype sumsqrtn2(10)"
   ]
  },
  {
   "cell_type": "markdown",
   "metadata": {},
   "source": [
    "### optimize operations"
   ]
  },
  {
   "cell_type": "code",
   "execution_count": 15,
   "metadata": {
    "collapsed": false
   },
   "outputs": [
    {
     "data": {
      "text/plain": [
       "sum_opt2 (generic function with 1 method)"
      ]
     },
     "execution_count": 15,
     "metadata": {},
     "output_type": "execute_result"
    }
   ],
   "source": [
    "function sum_opt2(n) \n",
    "    r = 0.\n",
    "    for i = 1:n\n",
    "        r = r + sqrt(i)\n",
    "    end\n",
    "return r end"
   ]
  },
  {
   "cell_type": "code",
   "execution_count": 17,
   "metadata": {
    "collapsed": false
   },
   "outputs": [
    {
     "name": "stdout",
     "output_type": "stream",
     "text": [
      "  0.098142 seconds (6 allocations: 192 bytes)\n"
     ]
    },
    {
     "data": {
      "text/plain": [
       "2.1081852648716972e10"
      ]
     },
     "execution_count": 17,
     "metadata": {},
     "output_type": "execute_result"
    }
   ],
   "source": [
    "@time sum_opt2(10^7)"
   ]
  },
  {
   "cell_type": "code",
   "execution_count": null,
   "metadata": {
    "collapsed": true
   },
   "outputs": [],
   "source": []
  },
  {
   "cell_type": "code",
   "execution_count": 18,
   "metadata": {
    "collapsed": false
   },
   "outputs": [
    {
     "data": {
      "text/plain": [
       "sum_opt2 (generic function with 2 methods)"
      ]
     },
     "execution_count": 18,
     "metadata": {},
     "output_type": "execute_result"
    }
   ],
   "source": [
    "function sum_opt2(n,d) \n",
    "    r = zeros(d)\n",
    "    for i = 1:n\n",
    "        for j in 1:d\n",
    "            r[j] = r[j] + sqrt(i)\n",
    "        end\n",
    "    end\n",
    "return r \n",
    "end"
   ]
  },
  {
   "cell_type": "code",
   "execution_count": 20,
   "metadata": {
    "collapsed": false
   },
   "outputs": [
    {
     "data": {
      "text/plain": [
       "BenchmarkTools.Trial: \n",
       "  memory estimate:  128 bytes\n",
       "  allocs estimate:  1\n",
       "  --------------\n",
       "  minimum time:     428.228 μs (0.00% GC)\n",
       "  median time:      440.947 μs (0.00% GC)\n",
       "  mean time:        482.978 μs (0.00% GC)\n",
       "  maximum time:     1.379 ms (0.00% GC)\n",
       "  --------------\n",
       "  samples:          10000\n",
       "  evals/sample:     1\n",
       "  time tolerance:   5.00%\n",
       "  memory tolerance: 1.00%"
      ]
     },
     "execution_count": 20,
     "metadata": {},
     "output_type": "execute_result"
    }
   ],
   "source": [
    "@benchmark sum_opt2(10^5,5)"
   ]
  },
  {
   "cell_type": "code",
   "execution_count": 21,
   "metadata": {
    "collapsed": false
   },
   "outputs": [
    {
     "data": {
      "text/plain": [
       "sum_opt3 (generic function with 1 method)"
      ]
     },
     "execution_count": 21,
     "metadata": {},
     "output_type": "execute_result"
    }
   ],
   "source": [
    "function sum_opt3(n,d) \n",
    "    r = zeros(d)\n",
    "    for i = 1:n\n",
    "        r = r + sqrt(i)\n",
    "    end\n",
    "return r \n",
    "end"
   ]
  },
  {
   "cell_type": "code",
   "execution_count": 22,
   "metadata": {
    "collapsed": false,
    "scrolled": true
   },
   "outputs": [
    {
     "data": {
      "text/plain": [
       "BenchmarkTools.Trial: \n",
       "  memory estimate:  12.21 MiB\n",
       "  allocs estimate:  100001\n",
       "  --------------\n",
       "  minimum time:     3.490 ms (0.00% GC)\n",
       "  median time:      4.458 ms (15.20% GC)\n",
       "  mean time:        4.474 ms (9.15% GC)\n",
       "  maximum time:     8.388 ms (12.12% GC)\n",
       "  --------------\n",
       "  samples:          1107\n",
       "  evals/sample:     1\n",
       "  time tolerance:   5.00%\n",
       "  memory tolerance: 1.00%"
      ]
     },
     "execution_count": 22,
     "metadata": {},
     "output_type": "execute_result"
    }
   ],
   "source": [
    "@benchmark sum_opt3(10^5,5)"
   ]
  },
  {
   "cell_type": "code",
   "execution_count": 24,
   "metadata": {
    "collapsed": false
   },
   "outputs": [
    {
     "data": {
      "text/plain": [
       "sum_opt4 (generic function with 1 method)"
      ]
     },
     "execution_count": 24,
     "metadata": {},
     "output_type": "execute_result"
    }
   ],
   "source": [
    "function sum_opt4(n,d) \n",
    "    r = zeros(d)\n",
    "    for i = 1:n\n",
    "        r .= r .+ sqrt(i)\n",
    "    end\n",
    "return r \n",
    "end"
   ]
  },
  {
   "cell_type": "code",
   "execution_count": 25,
   "metadata": {
    "collapsed": false
   },
   "outputs": [
    {
     "data": {
      "text/plain": [
       "BenchmarkTools.Trial: \n",
       "  memory estimate:  128 bytes\n",
       "  allocs estimate:  1\n",
       "  --------------\n",
       "  minimum time:     1.114 ms (0.00% GC)\n",
       "  median time:      1.121 ms (0.00% GC)\n",
       "  mean time:        1.144 ms (0.00% GC)\n",
       "  maximum time:     2.245 ms (0.00% GC)\n",
       "  --------------\n",
       "  samples:          4356\n",
       "  evals/sample:     1\n",
       "  time tolerance:   5.00%\n",
       "  memory tolerance: 1.00%"
      ]
     },
     "execution_count": 25,
     "metadata": {},
     "output_type": "execute_result"
    }
   ],
   "source": [
    "@benchmark sum_opt4(10^5,5)"
   ]
  },
  {
   "cell_type": "markdown",
   "metadata": {
    "collapsed": true
   },
   "source": [
    "#### verify type inestability using @code_warntype"
   ]
  },
  {
   "cell_type": "code",
   "execution_count": 100,
   "metadata": {
    "collapsed": false
   },
   "outputs": [],
   "source": [
    "# In this case r is Any \n",
    "# The type of r changes and this heavily penalizes speed\n",
    "#@code_warntype sumsqrtn(10);"
   ]
  },
  {
   "cell_type": "code",
   "execution_count": 101,
   "metadata": {
    "collapsed": false
   },
   "outputs": [],
   "source": [
    "# In this case r is Float64 during the execution\n",
    "#@code_warntype sumsqrtn2(10)"
   ]
  },
  {
   "cell_type": "markdown",
   "metadata": {},
   "source": [
    "## Use ```local``` to fix type of a variable\n",
    "\n",
    "If we do not want to profile the code using **```@code_warntype```** we can u **'''local'''** to ensure the type of the variable."
   ]
  },
  {
   "cell_type": "code",
   "execution_count": 26,
   "metadata": {
    "collapsed": true
   },
   "outputs": [],
   "source": [
    "workspace()"
   ]
  },
  {
   "cell_type": "code",
   "execution_count": 27,
   "metadata": {
    "collapsed": false
   },
   "outputs": [
    {
     "data": {
      "text/plain": [
       "sumsqrtn (generic function with 1 method)"
      ]
     },
     "execution_count": 27,
     "metadata": {},
     "output_type": "execute_result"
    }
   ],
   "source": [
    "function sumsqrtn(n::Int)\n",
    "    local r::Int64 = 0\n",
    "    \n",
    "    for i = 1:n\n",
    "        r = r + sqrt(i)\n",
    "    end\n",
    "return r end"
   ]
  },
  {
   "cell_type": "code",
   "execution_count": 28,
   "metadata": {
    "collapsed": false
   },
   "outputs": [
    {
     "ename": "LoadError",
     "evalue": "\u001b[91mInexactError()\u001b[39m",
     "output_type": "error",
     "traceback": [
      "\u001b[91mInexactError()\u001b[39m",
      "",
      "Stacktrace:",
      " [1] \u001b[1mconvert\u001b[22m\u001b[22m\u001b[1m(\u001b[22m\u001b[22m::Type{Int64}, ::Float64\u001b[1m)\u001b[22m\u001b[22m at \u001b[1m/Applications/Julia-0.6.app/Contents/Resources/julia/lib/julia/sys.dylib:?\u001b[22m\u001b[22m",
      " [2] \u001b[1msumsqrtn\u001b[22m\u001b[22m\u001b[1m(\u001b[22m\u001b[22m::Int64\u001b[1m)\u001b[22m\u001b[22m at \u001b[1m./In[27]:5\u001b[22m\u001b[22m"
     ]
    }
   ],
   "source": [
    "sumsqrtn(10)"
   ]
  },
  {
   "cell_type": "code",
   "execution_count": null,
   "metadata": {
    "collapsed": true
   },
   "outputs": [],
   "source": []
  },
  {
   "cell_type": "code",
   "execution_count": null,
   "metadata": {
    "collapsed": true
   },
   "outputs": [],
   "source": []
  },
  {
   "cell_type": "code",
   "execution_count": null,
   "metadata": {
    "collapsed": true
   },
   "outputs": [],
   "source": []
  },
  {
   "cell_type": "code",
   "execution_count": null,
   "metadata": {
    "collapsed": true
   },
   "outputs": [],
   "source": []
  },
  {
   "cell_type": "code",
   "execution_count": null,
   "metadata": {
    "collapsed": true
   },
   "outputs": [],
   "source": []
  },
  {
   "cell_type": "code",
   "execution_count": null,
   "metadata": {
    "collapsed": true
   },
   "outputs": [],
   "source": []
  },
  {
   "cell_type": "code",
   "execution_count": null,
   "metadata": {
    "collapsed": true
   },
   "outputs": [],
   "source": []
  }
 ],
 "metadata": {
  "kernelspec": {
   "display_name": "Julia 0.6.0-dev",
   "language": "julia",
   "name": "julia-0.6"
  },
  "language_info": {
   "file_extension": ".jl",
   "mimetype": "application/julia",
   "name": "julia",
   "version": "0.6.0"
  }
 },
 "nbformat": 4,
 "nbformat_minor": 0
}
