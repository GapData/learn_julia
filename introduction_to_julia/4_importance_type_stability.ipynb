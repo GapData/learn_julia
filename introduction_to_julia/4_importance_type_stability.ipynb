{
 "cells": [
  {
   "cell_type": "markdown",
   "metadata": {
    "collapsed": true
   },
   "source": [
    "# Benchmarking typed stable code"
   ]
  },
  {
   "cell_type": "code",
   "execution_count": 1,
   "metadata": {
    "collapsed": false
   },
   "outputs": [
    {
     "name": "stderr",
     "output_type": "stream",
     "text": [
      "\u001b[1m\u001b[36mINFO: \u001b[39m\u001b[22m\u001b[36mRecompiling stale cache file /Users/davidbuchacaprats/.julia/lib/v0.6/JLD.ji for module JLD.\n",
      "\u001b[39m"
     ]
    }
   ],
   "source": [
    "using BenchmarkTools"
   ]
  },
  {
   "cell_type": "code",
   "execution_count": 2,
   "metadata": {
    "collapsed": false
   },
   "outputs": [
    {
     "data": {
      "text/plain": [
       "sumsqrtn (generic function with 1 method)"
      ]
     },
     "execution_count": 2,
     "metadata": {},
     "output_type": "execute_result"
    }
   ],
   "source": [
    "function sumsqrtn(n::Int)\n",
    "    r = 0\n",
    "    for i = 1:n\n",
    "        r = r + sqrt(i)\n",
    "    end\n",
    "return r end"
   ]
  },
  {
   "cell_type": "code",
   "execution_count": 3,
   "metadata": {
    "collapsed": false
   },
   "outputs": [
    {
     "name": "stdout",
     "output_type": "stream",
     "text": [
      "  0.017507 seconds (2.11 k allocations: 102.550 KiB)\n",
      "  0.319274 seconds (30.00 M allocations: 457.764 MiB, 8.71% gc time)\n"
     ]
    },
    {
     "data": {
      "text/plain": [
       "2.1081852648716972e10"
      ]
     },
     "execution_count": 3,
     "metadata": {},
     "output_type": "execute_result"
    }
   ],
   "source": [
    "@time sumsqrtn(10)\n",
    "@time sumsqrtn(10^7)"
   ]
  },
  {
   "cell_type": "code",
   "execution_count": 4,
   "metadata": {
    "collapsed": false
   },
   "outputs": [
    {
     "data": {
      "text/plain": [
       "(Float64,Int64)"
      ]
     },
     "execution_count": 4,
     "metadata": {},
     "output_type": "execute_result"
    }
   ],
   "source": [
    "typeof(sqrt(4)), typeof(0)"
   ]
  },
  {
   "cell_type": "markdown",
   "metadata": {},
   "source": [
    "#### what is wrong with the previous code?\n",
    "\n",
    "Notice that **```r```** changes its type inside the function.\n",
    "It is first defined as an integer but then it changes to float.\n",
    "\n",
    "\n",
    "You can check how the compiler infers types of the variables inside a function using the **```@code_warntype```** method."
   ]
  },
  {
   "cell_type": "code",
   "execution_count": 7,
   "metadata": {
    "collapsed": false,
    "scrolled": true
   },
   "outputs": [
    {
     "name": "stdout",
     "output_type": "stream",
     "text": [
      "Variables:\n",
      "  #self#::#sumsqrtn\n",
      "  n::Int64\n",
      "  i::Int64\n",
      "  #temp#@_4::Int64\n",
      "  r\u001b[1m\u001b[91m::Any\u001b[39m\u001b[22m\n",
      "  #temp#@_6::Core.MethodInstance\n",
      "  #temp#@_7::Float64\n",
      "\n",
      "Body:\n",
      "  begin \n",
      "      r\u001b[1m\u001b[91m::Any\u001b[39m\u001b[22m = 0 # line 3:\n",
      "      SSAValue(2) = (Base.select_value)((Base.sle_int)(1,n::Int64)::Bool,n::Int64,(Base.box)(Int64,(Base.sub_int)(1,1)))::Int64\n",
      "      #temp#@_4::Int64 = 1\n",
      "      5: \n",
      "      unless (Base.box)(Base.Bool,(Base.not_int)((#temp#@_4::Int64 === (Base.box)(Int64,(Base.add_int)(SSAValue(2),1)))::Bool)) goto 30\n",
      "      SSAValue(3) = #temp#@_4::Int64\n",
      "      SSAValue(4) = (Base.box)(Int64,(Base.add_int)(#temp#@_4::Int64,1))\n",
      "      i::Int64 = SSAValue(3)\n",
      "      #temp#@_4::Int64 = SSAValue(4) # line 4:\n",
      "      unless (r\u001b[1m\u001b[91m::Union{Float64,Int64}\u001b[39m\u001b[22m isa Float64)\u001b[1m\u001b[91m::Any\u001b[39m\u001b[22m goto 15\n",
      "      #temp#@_6::Core.MethodInstance = MethodInstance for \u001b[1m+\u001b[22m\u001b[22m\u001b[1m(\u001b[22m\u001b[22m::Float64, ::Float64\u001b[1m)\u001b[22m\u001b[22m\n",
      "      goto 24\n",
      "      15: \n",
      "      unless (r\u001b[1m\u001b[91m::Union{Float64,Int64}\u001b[39m\u001b[22m isa Int64)\u001b[1m\u001b[91m::Any\u001b[39m\u001b[22m goto 19\n",
      "      #temp#@_6::Core.MethodInstance = MethodInstance for \u001b[1m+\u001b[22m\u001b[22m\u001b[1m(\u001b[22m\u001b[22m::Int64, ::Float64\u001b[1m)\u001b[22m\u001b[22m\n",
      "      goto 24\n",
      "      19: \n",
      "      goto 21\n",
      "      21: \n",
      "      #temp#@_7::Float64 = (r\u001b[1m\u001b[91m::Union{Float64,Int64}\u001b[39m\u001b[22m + (Base.Math.box)(Base.Math.Float64,(Base.Math.sqrt_llvm)((Base.box)(Float64,(Base.sitofp)(Float64,i::Int64))))::Float64)::Float64\n",
      "      goto 26\n",
      "      24: \n",
      "      #temp#@_7::Float64 = $(Expr(:invoke, :(#temp#@_6), :(Main.+), :(r::Union{Float64,Int64}), :((Base.Math.box)(Base.Math.Float64,(Base.Math.sqrt_llvm)((Base.box)(Float64,(Base.sitofp)(Float64,i))))::Float64)))\n",
      "      26: \n",
      "      r\u001b[1m\u001b[91m::Any\u001b[39m\u001b[22m = #temp#@_7::Float64\n",
      "      28: \n",
      "      goto 5\n",
      "      30:  # line 6:\n",
      "      return r\u001b[1m\u001b[91m::Union{Float64,Int64}\u001b[39m\u001b[22m\n",
      "  end\u001b[1m\u001b[91m::Union{Float64,Int64}\u001b[39m\u001b[22m\n"
     ]
    }
   ],
   "source": [
    "@code_warntype sumsqrtn(10)"
   ]
  },
  {
   "cell_type": "markdown",
   "metadata": {},
   "source": [
    "Let us rewrite the function defining ```r```as float. Doing so we will avoid changing its type inside the function and it will run faster."
   ]
  },
  {
   "cell_type": "code",
   "execution_count": 5,
   "metadata": {
    "collapsed": false
   },
   "outputs": [
    {
     "data": {
      "text/plain": [
       "sumsqrtn2 (generic function with 1 method)"
      ]
     },
     "execution_count": 5,
     "metadata": {},
     "output_type": "execute_result"
    }
   ],
   "source": [
    "function sumsqrtn2(n::Int64) \n",
    "    r = 0.\n",
    "    for i = 1:n\n",
    "        r = r + sqrt(i)\n",
    "    end\n",
    "return r end"
   ]
  },
  {
   "cell_type": "code",
   "execution_count": 6,
   "metadata": {
    "collapsed": false
   },
   "outputs": [
    {
     "name": "stdout",
     "output_type": "stream",
     "text": [
      "  0.007542 seconds (1.33 k allocations: 64.019 KiB)\n",
      "  0.074949 seconds (6 allocations: 192 bytes)\n"
     ]
    },
    {
     "data": {
      "text/plain": [
       "2.1081852648716972e10"
      ]
     },
     "execution_count": 6,
     "metadata": {},
     "output_type": "execute_result"
    }
   ],
   "source": [
    "@time sumsqrtn2(10^3)\n",
    "@time sumsqrtn2(10^7)"
   ]
  },
  {
   "cell_type": "code",
   "execution_count": 14,
   "metadata": {
    "collapsed": false
   },
   "outputs": [
    {
     "name": "stdout",
     "output_type": "stream",
     "text": [
      "Variables:\n",
      "  #self#::#sumsqrtn2\n",
      "  n::Int64\n",
      "  i::Int64\n",
      "  #temp#::Int64\n",
      "  r::Float64\n",
      "\n",
      "Body:\n",
      "  begin \n",
      "      r::Float64 = 0.0 # line 3:\n",
      "      SSAValue(3) = (Base.select_value)((Base.sle_int)(1,n::Int64)::Bool,n::Int64,(Base.box)(Int64,(Base.sub_int)(1,1)))::Int64\n",
      "      #temp#::Int64 = 1\n",
      "      5: \n",
      "      unless (Base.box)(Base.Bool,(Base.not_int)((#temp#::Int64 === (Base.box)(Int64,(Base.add_int)(SSAValue(3),1)))::Bool)) goto 16\n",
      "      SSAValue(4) = #temp#::Int64\n",
      "      SSAValue(5) = (Base.box)(Int64,(Base.add_int)(#temp#::Int64,1))\n",
      "      i::Int64 = SSAValue(4)\n",
      "      #temp#::Int64 = SSAValue(5) # line 4:\n",
      "      SSAValue(2) = (Base.Math.box)(Base.Math.Float64,(Base.Math.sqrt_llvm)((Base.box)(Float64,(Base.sitofp)(Float64,i::Int64))))::Float64\n",
      "      r::Float64 = (Base.box)(Base.Float64,(Base.add_float)(r::Float64,SSAValue(2)))\n",
      "      14: \n",
      "      goto 5\n",
      "      16:  # line 6:\n",
      "      return r::Float64\n",
      "  end::Float64\n"
     ]
    }
   ],
   "source": [
    "@code_warntype sumsqrtn2(10)"
   ]
  },
  {
   "cell_type": "markdown",
   "metadata": {},
   "source": [
    "### optimize operations\n",
    "\n",
    "```julia\n",
    "function sumsqrtn(n::Int)\n",
    "    r = 0\n",
    "    for i = 1:n\n",
    "        r = r + sqrt(i)\n",
    "    end\n",
    "return r end\n",
    "```"
   ]
  },
  {
   "cell_type": "code",
   "execution_count": 14,
   "metadata": {
    "collapsed": false
   },
   "outputs": [
    {
     "data": {
      "text/plain": [
       "sum_opt2 (generic function with 1 method)"
      ]
     },
     "execution_count": 14,
     "metadata": {},
     "output_type": "execute_result"
    }
   ],
   "source": [
    "function sum_opt2(n) \n",
    "    r = 0.\n",
    "    for i = 1:n\n",
    "        r = r + sqrt(i)\n",
    "    end\n",
    "return r end"
   ]
  },
  {
   "cell_type": "code",
   "execution_count": 15,
   "metadata": {
    "collapsed": false
   },
   "outputs": [
    {
     "name": "stdout",
     "output_type": "stream",
     "text": [
      "  0.315240 seconds (30.00 M allocations: 457.764 MiB, 9.52% gc time)\n"
     ]
    },
    {
     "data": {
      "text/plain": [
       "2.1081852648716972e10"
      ]
     },
     "execution_count": 15,
     "metadata": {},
     "output_type": "execute_result"
    }
   ],
   "source": [
    "@time sumsqrtn(10^7)"
   ]
  },
  {
   "cell_type": "code",
   "execution_count": 12,
   "metadata": {
    "collapsed": false
   },
   "outputs": [
    {
     "name": "stdout",
     "output_type": "stream",
     "text": [
      "  0.074096 seconds (6 allocations: 192 bytes)\n"
     ]
    },
    {
     "data": {
      "text/plain": [
       "2.1081852648716972e10"
      ]
     },
     "execution_count": 12,
     "metadata": {},
     "output_type": "execute_result"
    }
   ],
   "source": [
    "@time sum_opt2(10^7)"
   ]
  },
  {
   "cell_type": "code",
   "execution_count": 13,
   "metadata": {
    "collapsed": false
   },
   "outputs": [
    {
     "name": "stdout",
     "output_type": "stream",
     "text": [
      "Variables:\n",
      "  #self#::#sum_opt2\n",
      "  n::Int64\n",
      "  i::Int64\n",
      "  #temp#::Int64\n",
      "  r::Float64\n",
      "\n",
      "Body:\n",
      "  begin \n",
      "      r::Float64 = 0.0 # line 3:\n",
      "      SSAValue(3) = (Base.select_value)((Base.sle_int)(1,n::Int64)::Bool,n::Int64,(Base.sub_int)(1,1)::Int64)::Int64\n",
      "      #temp#::Int64 = 1\n",
      "      5: \n",
      "      unless (Base.not_int)((#temp#::Int64 === (Base.add_int)(SSAValue(3),1)::Int64)::Bool)::Bool goto 16\n",
      "      SSAValue(4) = #temp#::Int64\n",
      "      SSAValue(5) = (Base.add_int)(#temp#::Int64,1)::Int64\n",
      "      i::Int64 = SSAValue(4)\n",
      "      #temp#::Int64 = SSAValue(5) # line 4:\n",
      "      SSAValue(2) = (Base.Math.sqrt_llvm)((Base.sitofp)(Float64,i::Int64)::Float64)::Float64\n",
      "      r::Float64 = (Base.add_float)(r::Float64,SSAValue(2))::Float64\n",
      "      14: \n",
      "      goto 5\n",
      "      16:  # line 6:\n",
      "      return r::Float64\n",
      "  end::Float64\n"
     ]
    }
   ],
   "source": [
    "@code_warntype sum_opt2(10)"
   ]
  },
  {
   "cell_type": "code",
   "execution_count": 100,
   "metadata": {
    "collapsed": false
   },
   "outputs": [],
   "source": [
    "# In this case r is Any \n",
    "# The type of r changes and this heavily penalizes speed\n",
    "#@code_warntype sumsqrtn(10);"
   ]
  },
  {
   "cell_type": "code",
   "execution_count": 101,
   "metadata": {
    "collapsed": false
   },
   "outputs": [],
   "source": [
    "# In this case r is Float64 during the execution\n",
    "#@code_warntype sumsqrtn2(10)"
   ]
  },
  {
   "cell_type": "markdown",
   "metadata": {},
   "source": [
    "## Use ```local``` to fix type of a variable\n",
    "\n",
    "If we do not want to profile the code using **```@code_warntype```** we can type the **'''local'''** variables to ensure the type of the variables is not done incorrectly."
   ]
  },
  {
   "cell_type": "code",
   "execution_count": 1,
   "metadata": {
    "collapsed": true
   },
   "outputs": [],
   "source": [
    "workspace()"
   ]
  },
  {
   "cell_type": "code",
   "execution_count": 14,
   "metadata": {
    "collapsed": false
   },
   "outputs": [
    {
     "name": "stderr",
     "output_type": "stream",
     "text": [
      "WARNING: Method definition sumsqrtn(Int64) in module Main at In[12]:2 overwritten at In[14]:2.\n"
     ]
    },
    {
     "data": {
      "text/plain": [
       "sumsqrtn (generic function with 1 method)"
      ]
     },
     "execution_count": 14,
     "metadata": {},
     "output_type": "execute_result"
    }
   ],
   "source": [
    "function sumsqrtn(n::Int)\n",
    "    r::Float64 = 0\n",
    "    \n",
    "    for i = 1:n\n",
    "        r = r + sqrt(i)\n",
    "    end\n",
    "return r end"
   ]
  },
  {
   "cell_type": "code",
   "execution_count": 15,
   "metadata": {
    "collapsed": false
   },
   "outputs": [
    {
     "name": "stdout",
     "output_type": "stream",
     "text": [
      "  0.081791 seconds (3.03 k allocations: 130.746 KB)\n"
     ]
    },
    {
     "data": {
      "text/plain": [
       "2.1081852648716972e10"
      ]
     },
     "execution_count": 15,
     "metadata": {},
     "output_type": "execute_result"
    }
   ],
   "source": [
    "@time sumsqrtn(10^7)"
   ]
  },
  {
   "cell_type": "code",
   "execution_count": 16,
   "metadata": {
    "collapsed": false
   },
   "outputs": [
    {
     "name": "stderr",
     "output_type": "stream",
     "text": [
      "WARNING: Method definition sumsqrtn(Int64) in module Main at In[14]:2 overwritten at In[16]:2.\n"
     ]
    },
    {
     "data": {
      "text/plain": [
       "sumsqrtn (generic function with 1 method)"
      ]
     },
     "execution_count": 16,
     "metadata": {},
     "output_type": "execute_result"
    }
   ],
   "source": [
    "function sumsqrtn(n::Int)\n",
    "    r::Int64 = 0\n",
    "    \n",
    "    for i = 1:n\n",
    "        r = r + sqrt(i)\n",
    "    end\n",
    "return r end"
   ]
  },
  {
   "cell_type": "code",
   "execution_count": 17,
   "metadata": {
    "collapsed": false
   },
   "outputs": [
    {
     "ename": "LoadError",
     "evalue": "InexactError()",
     "output_type": "error",
     "traceback": [
      "InexactError()",
      "",
      " in sumsqrtn(::Int64) at ./In[16]:5"
     ]
    }
   ],
   "source": [
    "@time sumsqrtn(10^7)"
   ]
  }
 ],
 "metadata": {
  "kernelspec": {
   "display_name": "Julia 0.5.0",
   "language": "julia",
   "name": "julia-0.5"
  },
  "language_info": {
   "file_extension": ".jl",
   "mimetype": "application/julia",
   "name": "julia",
   "version": "0.5.0"
  }
 },
 "nbformat": 4,
 "nbformat_minor": 0
}
