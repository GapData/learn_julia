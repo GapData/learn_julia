{
 "cells": [
  {
   "cell_type": "markdown",
   "metadata": {},
   "source": [
    "## Generating tasks\n",
    "\n",
    "There are several functions that are relevant for parallel computing in Julia\n",
    "\n",
    "- `t = remotecall(f, nth_process, args...; kwargs...) ` allows us to call `f` into process `nth_process`.\n",
    "\n",
    "- `fetch(t)` allows us to recumerate in the main process the result of the task t."
   ]
  },
  {
   "cell_type": "code",
   "execution_count": 2,
   "metadata": {
    "scrolled": true
   },
   "outputs": [
    {
     "name": "stdout",
     "output_type": "stream",
     "text": [
      "search: \u001b[1mr\u001b[22m\u001b[1me\u001b[22m\u001b[1mm\u001b[22m\u001b[1mo\u001b[22m\u001b[1mt\u001b[22m\u001b[1me\u001b[22m\u001b[1mc\u001b[22m\u001b[1ma\u001b[22m\u001b[1ml\u001b[22m\u001b[1ml\u001b[22m \u001b[1mr\u001b[22m\u001b[1me\u001b[22m\u001b[1mm\u001b[22m\u001b[1mo\u001b[22m\u001b[1mt\u001b[22m\u001b[1me\u001b[22m\u001b[1mc\u001b[22m\u001b[1ma\u001b[22m\u001b[1ml\u001b[22m\u001b[1ml\u001b[22m_wait \u001b[1mr\u001b[22m\u001b[1me\u001b[22m\u001b[1mm\u001b[22m\u001b[1mo\u001b[22m\u001b[1mt\u001b[22m\u001b[1me\u001b[22m\u001b[1mc\u001b[22m\u001b[1ma\u001b[22m\u001b[1ml\u001b[22m\u001b[1ml\u001b[22m_fetch \u001b[1mR\u001b[22m\u001b[1me\u001b[22m\u001b[1mm\u001b[22m\u001b[1mo\u001b[22m\u001b[1mt\u001b[22m\u001b[1me\u001b[22m\u001b[1mC\u001b[22mh\u001b[1ma\u001b[22mnne\u001b[1ml\u001b[22m\n",
      "\n"
     ]
    },
    {
     "data": {
      "text/markdown": [
       "```\n",
       "remotecall(f, id::Integer, args...; kwargs...) -> Future\n",
       "```\n",
       "\n",
       "Call a function `f` asynchronously on the given arguments on the specified process. Returns a [`Future`](@ref). Keyword arguments, if any, are passed through to `f`.\n",
       "\n",
       "```\n",
       "remotecall(f, pool::AbstractWorkerPool, args...; kwargs...) -> Future\n",
       "```\n",
       "\n",
       "`WorkerPool` variant of `remotecall(f, pid, ....)`. Waits for and takes a free worker from `pool` and performs a `remotecall` on it.\n"
      ],
      "text/plain": [
       "```\n",
       "remotecall(f, id::Integer, args...; kwargs...) -> Future\n",
       "```\n",
       "\n",
       "Call a function `f` asynchronously on the given arguments on the specified process. Returns a [`Future`](@ref). Keyword arguments, if any, are passed through to `f`.\n",
       "\n",
       "```\n",
       "remotecall(f, pool::AbstractWorkerPool, args...; kwargs...) -> Future\n",
       "```\n",
       "\n",
       "`WorkerPool` variant of `remotecall(f, pid, ....)`. Waits for and takes a free worker from `pool` and performs a `remotecall` on it.\n"
      ]
     },
     "execution_count": 2,
     "metadata": {},
     "output_type": "execute_result"
    }
   ],
   "source": [
    "?remotecall"
   ]
  },
  {
   "cell_type": "markdown",
   "metadata": {},
   "source": [
    "### `remotecall` and `fetch` functions\n",
    "\n",
    "The `remotecall` function allows us send a function to a certain thread ad execute it there. Then we can use the function `fetch` to retrieve the result of the function.\n",
    "\n",
    "What `remotecall` does is to generate a `Future` object.\n",
    "\n",
    "A `Future` object is a subtype of `Base.Distributed.AbstractRemoteRef` that allows us to identify some task to a process.\n",
    "\n",
    "- `Base.Distributed.AbstractRemoteRef` has 2 subtypes\n",
    "    - `Future`\n",
    "    - `RemoteChannel`\n",
    "    \n",
    "    \n",
    "    \n",
    "```julia\n",
    "id = 2 # worker/process id\n",
    "task = remotecall(rand,id,(5,3))\n",
    "result = fetch(task)\n",
    "```\n",
    "    \n",
    "    \n",
    "##### `remotecall` function and `@spawnat` macro\n",
    "\n",
    "We can use the `@spawnat` macro to execute some function to a certain process. This macro works as follows:\n",
    "\n",
    "```julia\n",
    "id = 2 # worker/process id\n",
    "t = @spawnat id rand(10) .+ 2\n",
    "result = fetch(t)\n",
    "```\n"
   ]
  },
  {
   "cell_type": "code",
   "execution_count": 186,
   "metadata": {},
   "outputs": [
    {
     "name": "stdout",
     "output_type": "stream",
     "text": [
      "Base.Distributed.AbstractRemoteRef\n",
      "Union{DataType, UnionAll}[Future, RemoteChannel]\n"
     ]
    }
   ],
   "source": [
    "println(supertype(Future))\n",
    "println(subtypes(Base.Distributed.AbstractRemoteRef))"
   ]
  },
  {
   "cell_type": "code",
   "execution_count": 187,
   "metadata": {},
   "outputs": [
    {
     "data": {
      "text/plain": [
       "Future(1, 1, 75, Nullable{Any}())"
      ]
     },
     "execution_count": 187,
     "metadata": {},
     "output_type": "execute_result"
    }
   ],
   "source": [
    "task = remotecall(rand,1,(5,3))"
   ]
  },
  {
   "cell_type": "markdown",
   "metadata": {},
   "source": [
    "we can get the result of the task doing `fetch(task)`"
   ]
  },
  {
   "cell_type": "code",
   "execution_count": 188,
   "metadata": {},
   "outputs": [
    {
     "data": {
      "text/plain": [
       "5×3 Array{Float64,2}:\n",
       " 0.276478    0.24084   0.237455\n",
       " 0.990272    0.621523  0.865307\n",
       " 0.595366    0.649491  0.741228\n",
       " 0.00757128  0.479466  0.692141\n",
       " 0.629508    0.143286  0.949581"
      ]
     },
     "execution_count": 188,
     "metadata": {},
     "output_type": "execute_result"
    }
   ],
   "source": [
    "fetch(task)"
   ]
  },
  {
   "cell_type": "markdown",
   "metadata": {},
   "source": [
    "We can specify the worker that we want to assign the remotecall with its id.\n",
    "\n",
    "Now let us generate a 2x10 matrix in worker 2."
   ]
  },
  {
   "cell_type": "code",
   "execution_count": 189,
   "metadata": {},
   "outputs": [
    {
     "data": {
      "text/plain": [
       "8-element Array{Int64,1}:\n",
       " 10\n",
       " 11\n",
       " 12\n",
       " 13\n",
       " 14\n",
       " 15\n",
       " 16\n",
       " 17"
      ]
     },
     "execution_count": 189,
     "metadata": {},
     "output_type": "execute_result"
    }
   ],
   "source": [
    "addprocs()"
   ]
  },
  {
   "cell_type": "code",
   "execution_count": 190,
   "metadata": {},
   "outputs": [
    {
     "data": {
      "text/plain": [
       "Future(2, 1, 84, Nullable{Any}())"
      ]
     },
     "execution_count": 190,
     "metadata": {},
     "output_type": "execute_result"
    }
   ],
   "source": [
    "task2 = remotecall(rand,2,(2,10))"
   ]
  },
  {
   "cell_type": "code",
   "execution_count": 191,
   "metadata": {},
   "outputs": [
    {
     "data": {
      "text/plain": [
       "2×10 Array{Float64,2}:\n",
       " 0.833629  0.87937   0.677581  0.23421   …  0.746736  0.0192053  0.301025\n",
       " 0.991665  0.958105  0.74373   0.129838     0.514981  0.66606    0.463229"
      ]
     },
     "execution_count": 191,
     "metadata": {},
     "output_type": "execute_result"
    }
   ],
   "source": [
    "fetch(task2)"
   ]
  },
  {
   "cell_type": "markdown",
   "metadata": {},
   "source": [
    "### **`remotecall_fetch`** function \n",
    "\n",
    "If we want to get the result of the function that we run using `remotecall`, instead of using `remotecall` and `fetch` we can do a single call to the function **`remotecall_fetch`**."
   ]
  },
  {
   "cell_type": "code",
   "execution_count": 192,
   "metadata": {},
   "outputs": [
    {
     "name": "stdout",
     "output_type": "stream",
     "text": [
      "search: \u001b[1mr\u001b[22m\u001b[1me\u001b[22m\u001b[1mm\u001b[22m\u001b[1mo\u001b[22m\u001b[1mt\u001b[22m\u001b[1me\u001b[22m\u001b[1mc\u001b[22m\u001b[1ma\u001b[22m\u001b[1ml\u001b[22m\u001b[1ml\u001b[22m\u001b[1m_\u001b[22m\u001b[1mf\u001b[22m\u001b[1me\u001b[22m\u001b[1mt\u001b[22m\u001b[1mc\u001b[22m\u001b[1mh\u001b[22m \u001b[1mr\u001b[22m\u001b[1me\u001b[22m\u001b[1mm\u001b[22m\u001b[1mo\u001b[22m\u001b[1mt\u001b[22m\u001b[1me\u001b[22m\u001b[1mc\u001b[22m\u001b[1ma\u001b[22m\u001b[1ml\u001b[22m\u001b[1ml\u001b[22m\u001b[1m_\u001b[22mwait\n",
      "\n"
     ]
    },
    {
     "data": {
      "text/markdown": [
       "```\n",
       "remotecall_fetch(f, id::Integer, args...; kwargs...)\n",
       "```\n",
       "\n",
       "Perform `fetch(remotecall(...))` in one message. Keyword arguments, if any, are passed through to `f`. Any remote exceptions are captured in a [`RemoteException`](@ref) and thrown.\n",
       "\n",
       "See also [`fetch`](@ref) and [`remotecall`](@ref).\n",
       "\n",
       "```\n",
       "remotecall_fetch(f, pool::AbstractWorkerPool, args...; kwargs...) -> result\n",
       "```\n",
       "\n",
       "`WorkerPool` variant of `remotecall_fetch(f, pid, ....)`. Waits for and takes a free worker from `pool` and performs a `remotecall_fetch` on it.\n"
      ],
      "text/plain": [
       "```\n",
       "remotecall_fetch(f, id::Integer, args...; kwargs...)\n",
       "```\n",
       "\n",
       "Perform `fetch(remotecall(...))` in one message. Keyword arguments, if any, are passed through to `f`. Any remote exceptions are captured in a [`RemoteException`](@ref) and thrown.\n",
       "\n",
       "See also [`fetch`](@ref) and [`remotecall`](@ref).\n",
       "\n",
       "```\n",
       "remotecall_fetch(f, pool::AbstractWorkerPool, args...; kwargs...) -> result\n",
       "```\n",
       "\n",
       "`WorkerPool` variant of `remotecall_fetch(f, pid, ....)`. Waits for and takes a free worker from `pool` and performs a `remotecall_fetch` on it.\n"
      ]
     },
     "execution_count": 192,
     "metadata": {},
     "output_type": "execute_result"
    }
   ],
   "source": [
    "?remotecall_fetch"
   ]
  },
  {
   "cell_type": "markdown",
   "metadata": {},
   "source": [
    "Notice that sending a function to a worker, waiting the worker to finisht the execution of the function and returning the result to the main worker (or process) takes time. It is not trivial to take advantage of this function."
   ]
  },
  {
   "cell_type": "code",
   "execution_count": 193,
   "metadata": {},
   "outputs": [
    {
     "name": "stdout",
     "output_type": "stream",
     "text": [
      "  0.000333 seconds (97 allocations: 2.969 KiB)\n"
     ]
    },
    {
     "data": {
      "text/plain": [
       "2×10 Array{Float64,2}:\n",
       " 0.0861554  0.706942  0.898549  0.940014  …  0.613416  0.914992   0.512348\n",
       " 0.176484   0.271358  0.770157  0.575554     0.945261  0.0519798  0.662977"
      ]
     },
     "execution_count": 193,
     "metadata": {},
     "output_type": "execute_result"
    }
   ],
   "source": [
    "@time remotecall_fetch(rand,2,(2,10))"
   ]
  },
  {
   "cell_type": "code",
   "execution_count": 194,
   "metadata": {},
   "outputs": [
    {
     "name": "stdout",
     "output_type": "stream",
     "text": [
      "  0.000006 seconds (5 allocations: 400 bytes)\n"
     ]
    },
    {
     "data": {
      "text/plain": [
       "2×10 Array{Float64,2}:\n",
       " 0.479556  0.44672   0.0540984  0.620533  …  0.7005    0.868207  0.498375\n",
       " 0.128198  0.640125  0.718999   0.990833     0.143077  0.730378  0.544621"
      ]
     },
     "execution_count": 194,
     "metadata": {},
     "output_type": "execute_result"
    }
   ],
   "source": [
    "@time rand(2,10)"
   ]
  },
  {
   "cell_type": "markdown",
   "metadata": {},
   "source": [
    "## Moving Data between processess\n",
    "\n",
    "Usually we will want to do something more complex than to create an array in a process and send it to the main process. "
   ]
  },
  {
   "cell_type": "markdown",
   "metadata": {},
   "source": [
    "#### `@spawn` macro and `Distributed.spawn_somewhere`  function.\n",
    "\n",
    "Sometimes we don't need (or want) to explicitly control which worker will execute a task. In the case of `remotecall(f, id, args)` and `remotecall_fetch(f, id, args)` we had to explicitly tell the functions the `id` of the worker that will take the job. \n",
    "\n",
    "A simple way to execute a function in a different process than the main process, without any need to control the `id` of the worker, is to use the `@spawn` macro. This macro will execute an expression in an available worker.\n",
    "\n",
    "The `@spawn` macro ends up using the `Distributed.spawn_somewhere` function.\n",
    "\n"
   ]
  },
  {
   "cell_type": "code",
   "execution_count": 195,
   "metadata": {
    "scrolled": true
   },
   "outputs": [
    {
     "data": {
      "text/markdown": [
       "```\n",
       "@spawn\n",
       "```\n",
       "\n",
       "Creates a closure around an expression and runs it on an automatically-chosen process, returning a [`Future`](@ref) to the result.\n"
      ],
      "text/plain": [
       "```\n",
       "@spawn\n",
       "```\n",
       "\n",
       "Creates a closure around an expression and runs it on an automatically-chosen process, returning a [`Future`](@ref) to the result.\n"
      ]
     },
     "execution_count": 195,
     "metadata": {},
     "output_type": "execute_result"
    }
   ],
   "source": [
    "?@spawn"
   ]
  },
  {
   "cell_type": "code",
   "execution_count": 196,
   "metadata": {},
   "outputs": [],
   "source": [
    "m = rand(1000,1000);"
   ]
  },
  {
   "cell_type": "code",
   "execution_count": 197,
   "metadata": {},
   "outputs": [
    {
     "data": {
      "text/plain": [
       "Future(2, 1, 87, Nullable{Any}())"
      ]
     },
     "execution_count": 197,
     "metadata": {},
     "output_type": "execute_result"
    }
   ],
   "source": [
    "squared = @spawn m^2"
   ]
  },
  {
   "cell_type": "code",
   "execution_count": 198,
   "metadata": {},
   "outputs": [
    {
     "data": {
      "text/plain": [
       "1000×1000 Array{Float64,2}:\n",
       " 242.025  242.69   244.783  248.33   …  248.823  242.285  246.893  240.034\n",
       " 251.233  250.4    257.441  250.633     257.972  252.298  253.505  253.985\n",
       " 246.157  243.957  251.767  251.724     254.085  248.012  253.429  248.421\n",
       " 239.912  246.906  250.325  255.908     247.527  245.938  249.477  247.999\n",
       " 246.22   250.468  260.711  262.508     258.827  253.909  251.05   255.893\n",
       " 242.225  245.557  251.492  246.47   …  249.55   241.657  247.301  245.94 \n",
       " 240.315  239.083  247.634  245.96      244.474  239.432  242.189  242.713\n",
       " 247.113  243.45   253.68   255.297     255.98   252.688  255.56   253.621\n",
       " 242.332  238.216  242.819  246.633     247.934  238.251  247.086  244.665\n",
       " 255.359  255.19   259.751  259.982     256.078  253.759  257.323  254.628\n",
       " 249.237  244.057  253.351  256.897  …  253.203  252.842  255.884  253.931\n",
       " 245.469  238.558  242.289  248.61      244.69   235.643  250.532  248.708\n",
       " 243.894  248.365  257.448  246.811     252.515  247.338  249.915  247.336\n",
       "   ⋮                                 ⋱                                    \n",
       " 240.801  241.288  248.61   248.166     247.764  242.002  245.296  250.469\n",
       " 242.291  241.451  251.838  254.28      251.824  250.417  254.371  252.406\n",
       " 251.785  248.089  253.328  251.63   …  247.946  248.047  250.881  249.494\n",
       " 238.469  244.508  248.698  250.387     249.917  241.602  248.32   245.18 \n",
       " 245.217  243.875  249.702  250.724     244.787  243.346  248.94   249.266\n",
       " 245.379  246.792  249.49   248.951     250.814  242.288  250.155  252.792\n",
       " 245.886  249.716  253.746  253.658     254.223  250.764  257.793  254.873\n",
       " 245.325  245.471  251.278  256.225  …  250.238  248.041  254.624  251.918\n",
       " 252.707  250.787  254.521  259.771     257.821  251.206  262.145  256.208\n",
       " 241.718  240.157  250.98   245.152     245.335  243.445  247.465  247.166\n",
       " 243.525  244.078  253.603  254.405     253.239  251.516  255.237  256.908\n",
       " 245.13   248.556  258.862  254.8       250.421  248.081  250.755  251.951"
      ]
     },
     "execution_count": 198,
     "metadata": {},
     "output_type": "execute_result"
    }
   ],
   "source": [
    "fetch(squared)"
   ]
  },
  {
   "cell_type": "code",
   "execution_count": 199,
   "metadata": {},
   "outputs": [
    {
     "data": {
      "text/plain": [
       "1000×1000 Array{Float64,2}:\n",
       " 242.025  242.69   244.783  248.33   …  248.823  242.285  246.893  240.034\n",
       " 251.233  250.4    257.441  250.633     257.972  252.298  253.505  253.985\n",
       " 246.157  243.957  251.767  251.724     254.085  248.012  253.429  248.421\n",
       " 239.912  246.906  250.325  255.908     247.527  245.938  249.477  247.999\n",
       " 246.22   250.468  260.711  262.508     258.827  253.909  251.05   255.893\n",
       " 242.225  245.557  251.492  246.47   …  249.55   241.657  247.301  245.94 \n",
       " 240.315  239.083  247.634  245.96      244.474  239.432  242.189  242.713\n",
       " 247.113  243.45   253.68   255.297     255.98   252.688  255.56   253.621\n",
       " 242.332  238.216  242.819  246.633     247.934  238.251  247.086  244.665\n",
       " 255.359  255.19   259.751  259.982     256.078  253.759  257.323  254.628\n",
       " 249.237  244.057  253.351  256.897  …  253.203  252.842  255.884  253.931\n",
       " 245.469  238.558  242.289  248.61      244.69   235.643  250.532  248.708\n",
       " 243.894  248.365  257.448  246.811     252.515  247.338  249.915  247.336\n",
       "   ⋮                                 ⋱                                    \n",
       " 240.801  241.288  248.61   248.166     247.764  242.002  245.296  250.469\n",
       " 242.291  241.451  251.838  254.28      251.824  250.417  254.371  252.406\n",
       " 251.785  248.089  253.328  251.63   …  247.946  248.047  250.881  249.494\n",
       " 238.469  244.508  248.698  250.387     249.917  241.602  248.32   245.18 \n",
       " 245.217  243.875  249.702  250.724     244.787  243.346  248.94   249.266\n",
       " 245.379  246.792  249.49   248.951     250.814  242.288  250.155  252.792\n",
       " 245.886  249.716  253.746  253.658     254.223  250.764  257.793  254.873\n",
       " 245.325  245.471  251.278  256.225  …  250.238  248.041  254.624  251.918\n",
       " 252.707  250.787  254.521  259.771     257.821  251.206  262.145  256.208\n",
       " 241.718  240.157  250.98   245.152     245.335  243.445  247.465  247.166\n",
       " 243.525  244.078  253.603  254.405     253.239  251.516  255.237  256.908\n",
       " 245.13   248.556  258.862  254.8       250.421  248.081  250.755  251.951"
      ]
     },
     "execution_count": 199,
     "metadata": {},
     "output_type": "execute_result"
    }
   ],
   "source": [
    "fetch(@spawnat 2 m^2)"
   ]
  },
  {
   "cell_type": "markdown",
   "metadata": {},
   "source": [
    "#### What `@spawn` does internally\n",
    "\n",
    "spawn_somewhere(thunk) = spawnat(nextproc(),thunk)\n"
   ]
  },
  {
   "cell_type": "code",
   "execution_count": 200,
   "metadata": {},
   "outputs": [
    {
     "data": {
      "text/plain": [
       ":((Base.Distributed.spawn_somewhere)((()->begin  # distributed/macros.jl, line 20:\n",
       "                m ^ 2\n",
       "            end)))"
      ]
     },
     "execution_count": 200,
     "metadata": {},
     "output_type": "execute_result"
    }
   ],
   "source": [
    "@macroexpand @spawn m^2"
   ]
  },
  {
   "cell_type": "code",
   "execution_count": 201,
   "metadata": {
    "scrolled": false
   },
   "outputs": [
    {
     "data": {
      "text/markdown": [
       "No documentation found.\n",
       "\n",
       "`Base.Distributed.spawn_somewhere` is a `Function`.\n",
       "\n",
       "```\n",
       "# 1 method for generic function \"spawn_somewhere\":\n",
       "spawn_somewhere(thunk) in Base.Distributed at distributed/macros.jl:17\n",
       "```\n"
      ],
      "text/plain": [
       "No documentation found.\n",
       "\n",
       "`Base.Distributed.spawn_somewhere` is a `Function`.\n",
       "\n",
       "```\n",
       "# 1 method for generic function \"spawn_somewhere\":\n",
       "spawn_somewhere(thunk) in Base.Distributed at distributed/macros.jl:17\n",
       "```\n"
      ]
     },
     "execution_count": 201,
     "metadata": {},
     "output_type": "execute_result"
    }
   ],
   "source": [
    "?Distributed.spawn_somewhere"
   ]
  },
  {
   "cell_type": "code",
   "execution_count": 202,
   "metadata": {},
   "outputs": [
    {
     "data": {
      "text/plain": [
       "Future(3, 1, 91, Nullable{Any}())"
      ]
     },
     "execution_count": 202,
     "metadata": {},
     "output_type": "execute_result"
    }
   ],
   "source": [
    "aux = Distributed.spawn_somewhere(x->x^2(m))"
   ]
  },
  {
   "cell_type": "code",
   "execution_count": 205,
   "metadata": {
    "scrolled": true
   },
   "outputs": [
    {
     "ename": "LoadError",
     "evalue": "\u001b[91mOn worker 3:\n\u001b[91mMethodError: no method matching (::Base.Serializer.__deserialized_types__.##71#72)()\u001b[0m\nClosest candidates are:\n  #71(\u001b[91m::Any\u001b[39m) at In[202]:1\u001b[39m\n#103 at ./distributed/process_messages.jl:264 [inlined]\nrun_work_thunk at ./distributed/process_messages.jl:56\nrun_work_thunk at ./distributed/process_messages.jl:65 [inlined]\n#96 at ./event.jl:73\u001b[39m",
     "output_type": "error",
     "traceback": [
      "\u001b[91mOn worker 3:\n\u001b[91mMethodError: no method matching (::Base.Serializer.__deserialized_types__.##71#72)()\u001b[0m\nClosest candidates are:\n  #71(\u001b[91m::Any\u001b[39m) at In[202]:1\u001b[39m\n#103 at ./distributed/process_messages.jl:264 [inlined]\nrun_work_thunk at ./distributed/process_messages.jl:56\nrun_work_thunk at ./distributed/process_messages.jl:65 [inlined]\n#96 at ./event.jl:73\u001b[39m",
      "",
      "Stacktrace:",
      " [1] \u001b[1m#remotecall_fetch#141\u001b[22m\u001b[22m\u001b[1m(\u001b[22m\u001b[22m::Array{Any,1}, ::Function, ::Function, ::Base.Distributed.Worker, ::Base.Distributed.RRID, ::Vararg{Base.Distributed.RRID,N} where N\u001b[1m)\u001b[22m\u001b[22m at \u001b[1m./distributed/remotecall.jl:354\u001b[22m\u001b[22m",
      " [2] \u001b[1mremotecall_fetch\u001b[22m\u001b[22m\u001b[1m(\u001b[22m\u001b[22m::Function, ::Base.Distributed.Worker, ::Base.Distributed.RRID, ::Vararg{Base.Distributed.RRID,N} where N\u001b[1m)\u001b[22m\u001b[22m at \u001b[1m./distributed/remotecall.jl:346\u001b[22m\u001b[22m",
      " [3] \u001b[1m#remotecall_fetch#144\u001b[22m\u001b[22m\u001b[1m(\u001b[22m\u001b[22m::Array{Any,1}, ::Function, ::Function, ::Int64, ::Base.Distributed.RRID, ::Vararg{Base.Distributed.RRID,N} where N\u001b[1m)\u001b[22m\u001b[22m at \u001b[1m./distributed/remotecall.jl:367\u001b[22m\u001b[22m",
      " [4] \u001b[1mcall_on_owner\u001b[22m\u001b[22m\u001b[1m(\u001b[22m\u001b[22m::Function, ::Future\u001b[1m)\u001b[22m\u001b[22m at \u001b[1m./distributed/remotecall.jl:440\u001b[22m\u001b[22m",
      " [5] \u001b[1mfetch\u001b[22m\u001b[22m\u001b[1m(\u001b[22m\u001b[22m::Future\u001b[1m)\u001b[22m\u001b[22m at \u001b[1m./distributed/remotecall.jl:460\u001b[22m\u001b[22m",
      " [6] \u001b[1minclude_string\u001b[22m\u001b[22m\u001b[1m(\u001b[22m\u001b[22m::String, ::String\u001b[1m)\u001b[22m\u001b[22m at \u001b[1m./loading.jl:522\u001b[22m\u001b[22m"
     ]
    }
   ],
   "source": [
    "# Why is this not working??\n",
    "fetch(aux)"
   ]
  },
  {
   "cell_type": "code",
   "execution_count": 206,
   "metadata": {},
   "outputs": [
    {
     "data": {
      "text/html": [
       "spawn_somewhere(thunk) at <a href=\"https://github.com/JuliaLang/julia/tree/0d7248e2ff65bd6886ba3f003bf5aeab929edab5/base/distributed/macros.jl#L17\" target=\"_blank\">distributed/macros.jl:17</a>"
      ],
      "text/plain": [
       "spawn_somewhere(thunk) in Base.Distributed at distributed/macros.jl:17"
      ]
     },
     "execution_count": 206,
     "metadata": {},
     "output_type": "execute_result"
    }
   ],
   "source": [
    "@which Distributed.spawn_somewhere(x-> x^2)"
   ]
  },
  {
   "cell_type": "code",
   "execution_count": 209,
   "metadata": {},
   "outputs": [
    {
     "data": {
      "text/plain": [
       "16"
      ]
     },
     "execution_count": 209,
     "metadata": {},
     "output_type": "execute_result"
    }
   ],
   "source": [
    "nworkers()"
   ]
  },
  {
   "cell_type": "code",
   "execution_count": 213,
   "metadata": {},
   "outputs": [
    {
     "data": {
      "text/plain": [
       "17"
      ]
     },
     "execution_count": 213,
     "metadata": {},
     "output_type": "execute_result"
    }
   ],
   "source": [
    "nprocs()"
   ]
  },
  {
   "cell_type": "markdown",
   "metadata": {},
   "source": [
    "#### Understanding where data is "
   ]
  },
  {
   "cell_type": "code",
   "execution_count": 217,
   "metadata": {},
   "outputs": [
    {
     "data": {
      "text/plain": [
       "5×5 Array{Float64,2}:\n",
       "  1.46853    -1.53682    1.30386   2.31497  -0.561842\n",
       "  3.52336    -4.04827   -3.8246    3.35829   2.16229 \n",
       " -0.653903    1.43576   -3.12595   5.70666  -2.80629 \n",
       " -3.53757     0.727602   2.22825   3.01629  -1.86741 \n",
       "  0.0674948   3.86534   -3.44     -1.11669  -1.41904 "
      ]
     },
     "execution_count": 217,
     "metadata": {},
     "output_type": "execute_result"
    }
   ],
   "source": [
    "a=@spawn randn(5,5)^2 #This is allocated into another process\n",
    "fetch(a)"
   ]
  },
  {
   "cell_type": "code",
   "execution_count": 218,
   "metadata": {},
   "outputs": [
    {
     "data": {
      "text/plain": [
       "5×5 Array{Float64,2}:\n",
       " 1.50994   1.42094   1.01669   1.5138    1.19659 \n",
       " 1.46354   1.08328   0.781699  1.20854   0.885973\n",
       " 0.980027  0.670013  0.899145  0.872088  0.649319\n",
       " 2.15017   1.85373   1.46218   1.81961   1.0685  \n",
       " 1.59937   1.32017   1.06774   1.2648    1.21548 "
      ]
     },
     "execution_count": 218,
     "metadata": {},
     "output_type": "execute_result"
    }
   ],
   "source": [
    "b=rand(5,5) # this is created in main process, send to another and the result fetched back\n",
    "task = @spawn b^2\n",
    "fetch(task)"
   ]
  },
  {
   "cell_type": "markdown",
   "metadata": {},
   "source": [
    "### Everywhere macro"
   ]
  },
  {
   "cell_type": "code",
   "execution_count": 212,
   "metadata": {},
   "outputs": [
    {
     "data": {
      "text/plain": [
       "quote  # distributed/macros.jl, line 99:\n",
       "    nothing # distributed/macros.jl, line 100:\n",
       "    (Base.Distributed.sync_begin)() # distributed/macros.jl, line 101:\n",
       "    for #81#pid = (Base.Distributed.workers)() # distributed/macros.jl, line 102:\n",
       "        (Base.Distributed.async_run_thunk)((()->begin  # distributed/macros.jl, line 102:\n",
       "                    (Base.Distributed.remotecall_fetch)(Base.Distributed.eval_ew_expr, #81#pid, $(Expr(:copyast, :($(QuoteNode(:(m ^ 2)))))))\n",
       "                end)) # distributed/macros.jl, line 103:\n",
       "        (Base.Distributed.yield)()\n",
       "    end # distributed/macros.jl, line 108:\n",
       "    if (Base.Distributed.nprocs)() > 1 # distributed/macros.jl, line 109:\n",
       "        (Base.Distributed.async_run_thunk)((()->begin  # distributed/macros.jl, line 109:\n",
       "                    (Base.Distributed.eval_ew_expr)($(Expr(:copyast, :($(QuoteNode(:(m ^ 2)))))))\n",
       "                end))\n",
       "    end # distributed/macros.jl, line 112:\n",
       "    (Base.Distributed.sync_end)()\n",
       "end"
      ]
     },
     "execution_count": 212,
     "metadata": {},
     "output_type": "execute_result"
    }
   ],
   "source": [
    "@macroexpand @everywhere m^2"
   ]
  },
  {
   "cell_type": "code",
   "execution_count": null,
   "metadata": {
    "collapsed": true
   },
   "outputs": [],
   "source": []
  },
  {
   "cell_type": "code",
   "execution_count": null,
   "metadata": {
    "collapsed": true
   },
   "outputs": [],
   "source": []
  },
  {
   "cell_type": "code",
   "execution_count": null,
   "metadata": {
    "collapsed": true
   },
   "outputs": [],
   "source": []
  },
  {
   "cell_type": "code",
   "execution_count": null,
   "metadata": {
    "collapsed": true
   },
   "outputs": [],
   "source": []
  }
 ],
 "metadata": {
  "kernelspec": {
   "display_name": "Julia 0.6.1",
   "language": "julia",
   "name": "julia-0.6"
  },
  "language_info": {
   "file_extension": ".jl",
   "mimetype": "application/julia",
   "name": "julia",
   "version": "0.6.1"
  }
 },
 "nbformat": 4,
 "nbformat_minor": 2
}
