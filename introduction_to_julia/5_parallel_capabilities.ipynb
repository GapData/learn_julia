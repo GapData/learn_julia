{
 "cells": [
  {
   "cell_type": "markdown",
   "metadata": {},
   "source": [
    "# Parallelize code using native julia methods\n",
    "\n",
    "This notebook presents an example of a typical a parallel problem (count stuff on a big dataset)\n",
    "and uses native julia conde only to solve it. The code will involve two steps:\n",
    "\n",
    "- 1) Split data across processes, make independent computations on each process and get partial results\n",
    "- 2) Join partial results\n",
    "\n",
    "This notebook will focus on the use of the functions pmap, @spawn, fetch and remotecall.\n",
    "\n",
    "Some related material:\n",
    "\n",
    "- http://docs.julialang.org/en/release-0.5/manual/parallel-computing/\n",
    "- https://github.com/JuliaLang/julia/blob/master/examples/wordcount.jl\n",
    "- https://blog.ajdecon.org/parallel-word-count-with-julia-an-interesting/\n",
    "\n"
   ]
  },
  {
   "cell_type": "markdown",
   "metadata": {},
   "source": [
    "#### montecarlo example"
   ]
  },
  {
   "cell_type": "code",
   "execution_count": 1,
   "metadata": {},
   "outputs": [
    {
     "data": {
      "text/plain": [
       "find_pi (generic function with 1 method)"
      ]
     },
     "execution_count": 1,
     "metadata": {},
     "output_type": "execute_result"
    }
   ],
   "source": [
    "function find_pi(n) \n",
    "    inside = 0\n",
    "    for i = 1:n\n",
    "    x = rand(); y = rand()\n",
    "    inside += (x^2 + y^2) <= 1\n",
    "    end\n",
    "    4 * inside/ n\n",
    "end"
   ]
  },
  {
   "cell_type": "code",
   "execution_count": 5,
   "metadata": {},
   "outputs": [
    {
     "name": "stdout",
     "output_type": "stream",
     "text": [
      "  0.015498 seconds (5.16 k allocations: 274.803 KiB)\n"
     ]
    }
   ],
   "source": [
    "@time find_pi(10);"
   ]
  },
  {
   "cell_type": "code",
   "execution_count": 6,
   "metadata": {},
   "outputs": [
    {
     "name": "stdout",
     "output_type": "stream",
     "text": [
      "  4.723181 seconds (5 allocations: 176 bytes)\n"
     ]
    }
   ],
   "source": [
    "@time find_pi(1_000_000_000);"
   ]
  },
  {
   "cell_type": "code",
   "execution_count": 7,
   "metadata": {},
   "outputs": [
    {
     "data": {
      "text/plain": [
       "1-element Array{Int64,1}:\n",
       " 1"
      ]
     },
     "execution_count": 7,
     "metadata": {},
     "output_type": "execute_result"
    }
   ],
   "source": [
    "workers()"
   ]
  },
  {
   "cell_type": "code",
   "execution_count": 8,
   "metadata": {
    "collapsed": true
   },
   "outputs": [],
   "source": [
    "addprocs(4);"
   ]
  },
  {
   "cell_type": "code",
   "execution_count": 10,
   "metadata": {},
   "outputs": [],
   "source": [
    "@everywhere function find_pi(n) \n",
    "    inside = 0\n",
    "    for i = 1:n\n",
    "        x = rand(); y = rand()\n",
    "        inside += (x^2 + y^2) <= 1\n",
    "    end\n",
    "    4 * inside/ n\n",
    "end"
   ]
  },
  {
   "cell_type": "code",
   "execution_count": 13,
   "metadata": {},
   "outputs": [
    {
     "data": {
      "text/plain": [
       "pfind_pi (generic function with 1 method)"
      ]
     },
     "execution_count": 13,
     "metadata": {},
     "output_type": "execute_result"
    }
   ],
   "source": [
    "pfind_pi(N)= mean( pmap(n->find_pi(n), [N/nworkers() for i=1:nworkers()] ))"
   ]
  },
  {
   "cell_type": "code",
   "execution_count": 18,
   "metadata": {},
   "outputs": [
    {
     "name": "stdout",
     "output_type": "stream",
     "text": [
      "  0.001603 seconds (676 allocations: 62.375 KiB)\n"
     ]
    }
   ],
   "source": [
    "@time pfind_pi(1_00);"
   ]
  },
  {
   "cell_type": "markdown",
   "metadata": {},
   "source": [
    "#### Serial vs parallel versions"
   ]
  },
  {
   "cell_type": "code",
   "execution_count": 16,
   "metadata": {},
   "outputs": [
    {
     "name": "stdout",
     "output_type": "stream",
     "text": [
      "  2.580743 seconds (737 allocations: 64.578 KiB)\n"
     ]
    }
   ],
   "source": [
    "@time pfind_pi(1_000_000_000);"
   ]
  },
  {
   "cell_type": "code",
   "execution_count": 17,
   "metadata": {},
   "outputs": [
    {
     "name": "stdout",
     "output_type": "stream",
     "text": [
      "  4.773313 seconds (2.71 k allocations: 140.011 KiB)\n"
     ]
    }
   ],
   "source": [
    "@time find_pi(1_000_000_000);"
   ]
  },
  {
   "cell_type": "markdown",
   "metadata": {},
   "source": [
    "## Counting elements"
   ]
  },
  {
   "cell_type": "code",
   "execution_count": 1,
   "metadata": {},
   "outputs": [
    {
     "data": {
      "text/plain": [
       "4-element Array{Int64,1}:\n",
       " 2\n",
       " 3\n",
       " 4\n",
       " 5"
      ]
     },
     "execution_count": 1,
     "metadata": {},
     "output_type": "execute_result"
    }
   ],
   "source": [
    "addprocs(4) "
   ]
  },
  {
   "cell_type": "code",
   "execution_count": 20,
   "metadata": {},
   "outputs": [
    {
     "data": {
      "text/plain": [
       "4-element Array{Int64,1}:\n",
       " 2\n",
       " 3\n",
       " 4\n",
       " 5"
      ]
     },
     "execution_count": 20,
     "metadata": {},
     "output_type": "execute_result"
    }
   ],
   "source": [
    "workers()"
   ]
  },
  {
   "cell_type": "code",
   "execution_count": 21,
   "metadata": {},
   "outputs": [],
   "source": [
    "big_array = rand(1:10, 10^8);"
   ]
  },
  {
   "cell_type": "code",
   "execution_count": 22,
   "metadata": {},
   "outputs": [
    {
     "data": {
      "text/plain": [
       "count_elements (generic function with 1 method)"
      ]
     },
     "execution_count": 22,
     "metadata": {},
     "output_type": "execute_result"
    }
   ],
   "source": [
    "function count_elements(array::Array{Int64})\n",
    "    n = length(array)\n",
    "    counts = Dict{Int64}{Int64}()\n",
    "    for i in array\n",
    "        if i in keys(counts)\n",
    "            counts[i] += 1 \n",
    "        else\n",
    "            counts[i] = 1\n",
    "        end\n",
    "    end\n",
    "    return counts\n",
    "end"
   ]
  },
  {
   "cell_type": "code",
   "execution_count": 23,
   "metadata": {},
   "outputs": [
    {
     "name": "stdout",
     "output_type": "stream",
     "text": [
      "  5.487689 seconds (20.31 k allocations: 1.113 MiB)\n"
     ]
    }
   ],
   "source": [
    "@time result_sequential = count_elements(big_array);"
   ]
  },
  {
   "cell_type": "markdown",
   "metadata": {},
   "source": [
    "#### Faster way to create counts\n",
    "\n",
    "Notice that this version is using **`get(counts,i,0)`**."
   ]
  },
  {
   "cell_type": "code",
   "execution_count": 28,
   "metadata": {},
   "outputs": [
    {
     "data": {
      "text/plain": [
       "count_elements2 (generic function with 1 method)"
      ]
     },
     "execution_count": 28,
     "metadata": {},
     "output_type": "execute_result"
    }
   ],
   "source": [
    "function count_elements2(array::Array{Int64})\n",
    "    n = length(array)\n",
    "    counts = Dict{Int64}{Int64}()\n",
    "    for i in array\n",
    "        counts[i] = get(counts,i,0) + 1\n",
    "    end\n",
    "    return counts\n",
    "end"
   ]
  },
  {
   "cell_type": "code",
   "execution_count": 29,
   "metadata": {},
   "outputs": [
    {
     "name": "stdout",
     "output_type": "stream",
     "text": [
      "  3.884165 seconds (1.34 k allocations: 70.337 KiB)\n"
     ]
    }
   ],
   "source": [
    "@time count_elements2(big_array);"
   ]
  },
  {
   "cell_type": "markdown",
   "metadata": {},
   "source": [
    "### pmap function\n",
    "\n",
    "Now we will build a custom reducer to aggregate the partial results then we will split the data\n",
    "into similar size chunks and split the workload into different processess."
   ]
  },
  {
   "cell_type": "code",
   "execution_count": 30,
   "metadata": {},
   "outputs": [
    {
     "data": {
      "text/plain": [
       "count_reduce (generic function with 1 method)"
      ]
     },
     "execution_count": 30,
     "metadata": {},
     "output_type": "execute_result"
    }
   ],
   "source": [
    "# reducer\n",
    "function count_reduce(array_of_count_dicts)\n",
    "    counts_combined = Dict{Int64}{Int64}()\n",
    "    \n",
    "    for d in array_of_count_dicts\n",
    "        for k in keys(d)\n",
    "            if k in keys(counts_combined)\n",
    "                counts_combined[k] += d[k]  \n",
    "            else\n",
    "                counts_combined[k] = d[k] \n",
    "            end\n",
    "        end\n",
    "    end\n",
    "    return counts_combined\n",
    "end"
   ]
  },
  {
   "cell_type": "code",
   "execution_count": 31,
   "metadata": {
    "scrolled": true
   },
   "outputs": [
    {
     "ename": "LoadError",
     "evalue": "\u001b[91mOn worker 4:\n\u001b[91mUndefVarError: #count_elements not defined\u001b[39m\ndeserialize_datatype at ./serialize.jl:969\nhandle_deserialize at ./serialize.jl:674\ndeserialize at ./serialize.jl:634\nhandle_deserialize at ./serialize.jl:681\ndeserialize_msg at ./distributed/messages.jl:98\nmessage_handler_loop at ./distributed/process_messages.jl:161\nprocess_tcp_streams at ./distributed/process_messages.jl:118\n#99 at ./event.jl:73\u001b[39m",
     "output_type": "error",
     "traceback": [
      "\u001b[91mOn worker 4:\n\u001b[91mUndefVarError: #count_elements not defined\u001b[39m\ndeserialize_datatype at ./serialize.jl:969\nhandle_deserialize at ./serialize.jl:674\ndeserialize at ./serialize.jl:634\nhandle_deserialize at ./serialize.jl:681\ndeserialize_msg at ./distributed/messages.jl:98\nmessage_handler_loop at ./distributed/process_messages.jl:161\nprocess_tcp_streams at ./distributed/process_messages.jl:118\n#99 at ./event.jl:73\u001b[39m",
      "",
      "Stacktrace:",
      " [1] \u001b[1m#568\u001b[22m\u001b[22m at \u001b[1m./asyncmap.jl:178\u001b[22m\u001b[22m [inlined]",
      " [2] \u001b[1mforeach\u001b[22m\u001b[22m\u001b[1m(\u001b[22m\u001b[22m::Base.##568#570, ::Array{Any,1}\u001b[1m)\u001b[22m\u001b[22m at \u001b[1m./abstractarray.jl:1731\u001b[22m\u001b[22m",
      " [3] \u001b[1mmaptwice\u001b[22m\u001b[22m\u001b[1m(\u001b[22m\u001b[22m::Function, ::Channel{Any}, ::Array{Any,1}, ::Array{Array{Int64,1},1}, ::Vararg{Array{Array{Int64,1},1},N} where N\u001b[1m)\u001b[22m\u001b[22m at \u001b[1m./asyncmap.jl:178\u001b[22m\u001b[22m",
      " [4] \u001b[1mwrap_n_exec_twice\u001b[22m\u001b[22m\u001b[1m(\u001b[22m\u001b[22m::Channel{Any}, ::Array{Any,1}, ::Base.Distributed.##204#207{WorkerPool}, ::Function, ::Array{Array{Int64,1},1}, ::Vararg{Array{Array{Int64,1},1},N} where N\u001b[1m)\u001b[22m\u001b[22m at \u001b[1m./asyncmap.jl:154\u001b[22m\u001b[22m",
      " [5] \u001b[1m#async_usemap#553\u001b[22m\u001b[22m\u001b[1m(\u001b[22m\u001b[22m::Function, ::Void, ::Function, ::Base.Distributed.##188#190, ::Array{Array{Int64,1},1}, ::Vararg{Array{Array{Int64,1},1},N} where N\u001b[1m)\u001b[22m\u001b[22m at \u001b[1m./asyncmap.jl:103\u001b[22m\u001b[22m",
      " [6] \u001b[1m(::Base.#kw##async_usemap)\u001b[22m\u001b[22m\u001b[1m(\u001b[22m\u001b[22m::Array{Any,1}, ::Base.#async_usemap, ::Function, ::Array{Array{Int64,1},1}, ::Vararg{Array{Array{Int64,1},1},N} where N\u001b[1m)\u001b[22m\u001b[22m at \u001b[1m./<missing>:0\u001b[22m\u001b[22m",
      " [7] \u001b[1m(::Base.#kw##asyncmap)\u001b[22m\u001b[22m\u001b[1m(\u001b[22m\u001b[22m::Array{Any,1}, ::Base.#asyncmap, ::Function, ::Array{Array{Int64,1},1}\u001b[1m)\u001b[22m\u001b[22m at \u001b[1m./<missing>:0\u001b[22m\u001b[22m",
      " [8] \u001b[1m#pmap#203\u001b[22m\u001b[22m\u001b[1m(\u001b[22m\u001b[22m::Bool, ::Int64, ::Void, ::Array{Any,1}, ::Void, ::Function, ::WorkerPool, ::Function, ::Array{Array{Int64,1},1}\u001b[1m)\u001b[22m\u001b[22m at \u001b[1m./distributed/pmap.jl:126\u001b[22m\u001b[22m",
      " [9] \u001b[1mpmap\u001b[22m\u001b[22m\u001b[1m(\u001b[22m\u001b[22m::WorkerPool, ::Function, ::Array{Array{Int64,1},1}\u001b[1m)\u001b[22m\u001b[22m at \u001b[1m./distributed/pmap.jl:101\u001b[22m\u001b[22m",
      " [10] \u001b[1m#pmap#213\u001b[22m\u001b[22m\u001b[1m(\u001b[22m\u001b[22m::Array{Any,1}, ::Function, ::Function, ::Array{Array{Int64,1},1}\u001b[1m)\u001b[22m\u001b[22m at \u001b[1m./distributed/pmap.jl:156\u001b[22m\u001b[22m",
      " [11] \u001b[1mpmap\u001b[22m\u001b[22m\u001b[1m(\u001b[22m\u001b[22m::Function, ::Array{Array{Int64,1},1}\u001b[1m)\u001b[22m\u001b[22m at \u001b[1m./distributed/pmap.jl:156\u001b[22m\u001b[22m",
      " [12] \u001b[1minclude_string\u001b[22m\u001b[22m\u001b[1m(\u001b[22m\u001b[22m::String, ::String\u001b[1m)\u001b[22m\u001b[22m at \u001b[1m./loading.jl:515\u001b[22m\u001b[22m"
     ]
    }
   ],
   "source": [
    "# This code will fail because the different workers do not have the ¨count_elements\" function\n",
    "@time begin\n",
    "    n = length(big_array)\n",
    "    n_processors = length(workers())\n",
    "    splits_ind = [Int(x) for x in 1:(n/n_processors):(n+1)]\n",
    "    big_array_splits = [big_array[x:y-1] for (x,y) in zip(splits_ind[1:end-1], splits_ind[2:end])]\n",
    "    res = pmap(count_elements, big_array_splits)\n",
    "    d = count_reduce(res)\n",
    "end"
   ]
  },
  {
   "cell_type": "code",
   "execution_count": 32,
   "metadata": {},
   "outputs": [],
   "source": [
    "@everywhere function count_elements(array::Array{Int64})\n",
    "    n = length(array)\n",
    "    counts = Dict{Int64}{Int64}()\n",
    "    for i in array\n",
    "        if i in keys(counts)\n",
    "            counts[i] += 1 \n",
    "        else\n",
    "            counts[i] = 1\n",
    "        end\n",
    "    end\n",
    "    return counts\n",
    "end"
   ]
  },
  {
   "cell_type": "code",
   "execution_count": 34,
   "metadata": {},
   "outputs": [
    {
     "name": "stdout",
     "output_type": "stream",
     "text": [
      "  4.916874 seconds (15.95 k allocations: 763.813 MiB, 5.67% gc time)\n"
     ]
    },
    {
     "data": {
      "text/plain": [
       "Dict{Int64,Int64} with 10 entries:\n",
       "  7  => 10002619\n",
       "  4  => 9997099\n",
       "  9  => 9995722\n",
       "  10 => 9998713\n",
       "  2  => 9996473\n",
       "  3  => 10002016\n",
       "  8  => 10001209\n",
       "  5  => 10003816\n",
       "  6  => 9997415\n",
       "  1  => 10004918"
      ]
     },
     "execution_count": 34,
     "metadata": {},
     "output_type": "execute_result"
    }
   ],
   "source": [
    "@time begin\n",
    "    n = length(big_array)\n",
    "    n_processors = length(workers())\n",
    "    splits_ind = [Int(x) for x in 1:(n/n_processors):(n+1)]\n",
    "    big_array_splits = [big_array[x:y-1] for (x,y) in zip(splits_ind[1:end-1], splits_ind[2:end])]\n",
    "    res = pmap(count_elements, big_array_splits)\n",
    "    result_paralel = count_reduce(res);\n",
    "end"
   ]
  },
  {
   "cell_type": "code",
   "execution_count": 16,
   "metadata": {},
   "outputs": [
    {
     "data": {
      "text/plain": [
       "true"
      ]
     },
     "execution_count": 16,
     "metadata": {},
     "output_type": "execute_result"
    }
   ],
   "source": [
    "# Both computations yield to the exact same result\n",
    "result_paralel  == result_sequential"
   ]
  },
  {
   "cell_type": "markdown",
   "metadata": {},
   "source": [
    "### @spawn and fetch functions\n",
    "\n",
    "Using **```@spawn```** and **```fetch```** we can build our own pmaplike function.\n",
    "\n",
    "- **```@spawn```**: Creates a closure around an expression and runs it on an automatically-chosen process, returning a Future to the result.\n",
    "\n",
    "- **```fetch```**: Gets the computation returned from the Future object that we build using **```@spawn```**."
   ]
  },
  {
   "cell_type": "code",
   "execution_count": 35,
   "metadata": {},
   "outputs": [
    {
     "data": {
      "text/plain": [
       "4-element Array{Int64,1}:\n",
       " 2\n",
       " 3\n",
       " 4\n",
       " 5"
      ]
     },
     "execution_count": 35,
     "metadata": {},
     "output_type": "execute_result"
    }
   ],
   "source": [
    "workers()"
   ]
  },
  {
   "cell_type": "code",
   "execution_count": 36,
   "metadata": {},
   "outputs": [
    {
     "data": {
      "text/plain": [
       "parallel_wordcount (generic function with 1 method)"
      ]
     },
     "execution_count": 36,
     "metadata": {},
     "output_type": "execute_result"
    }
   ],
   "source": [
    "# 1) Splits input string into nprocs() equal-sized chunks (last one rounds up),\n",
    "# 2) @spawns wordcount() for each chunk to run in parallel. \n",
    "# 3) Then fetch()s results and performs count_reduce().\n",
    "\n",
    "function parallel_wordcount(big_array, n_processors)\n",
    "    \n",
    "    n = length(big_array)\n",
    "    splits_ind = [Int(x) for x in 1:(n/n_processors):(n+1)]\n",
    "    big_array_splits = [big_array[x:y-1] for (x,y) in zip(splits_ind[1:end-1], splits_ind[2:end])]\n",
    "    \n",
    "    partial_res = []\n",
    "    for subarray in big_array_splits\n",
    "        push!(partial_res, @spawn count_elements(subarray) )\n",
    "    end    \n",
    "    results = [fetch(r) for r in partial_res]\n",
    "    return count_reduce(results)\n",
    "end"
   ]
  },
  {
   "cell_type": "code",
   "execution_count": 37,
   "metadata": {},
   "outputs": [
    {
     "name": "stdout",
     "output_type": "stream",
     "text": [
      "  5.593987 seconds (251.25 k allocations: 777.149 MiB, 4.69% gc time)\n"
     ]
    }
   ],
   "source": [
    "@time r = parallel_wordcount(big_array, 4);"
   ]
  },
  {
   "cell_type": "code",
   "execution_count": 38,
   "metadata": {},
   "outputs": [
    {
     "data": {
      "text/plain": [
       "Dict{Int64,Int64} with 10 entries:\n",
       "  7  => 10002619\n",
       "  4  => 9997099\n",
       "  9  => 9995722\n",
       "  10 => 9998713\n",
       "  2  => 9996473\n",
       "  3  => 10002016\n",
       "  8  => 10001209\n",
       "  5  => 10003816\n",
       "  6  => 9997415\n",
       "  1  => 10004918"
      ]
     },
     "execution_count": 38,
     "metadata": {},
     "output_type": "execute_result"
    }
   ],
   "source": [
    "r"
   ]
  },
  {
   "cell_type": "markdown",
   "metadata": {},
   "source": [
    "### Let us look at the code piece by piece|"
   ]
  },
  {
   "cell_type": "code",
   "execution_count": 49,
   "metadata": {},
   "outputs": [
    {
     "data": {
      "text/plain": [
       "4-element Array{Int64,1}:\n",
       " 2\n",
       " 3\n",
       " 4\n",
       " 5"
      ]
     },
     "execution_count": 49,
     "metadata": {},
     "output_type": "execute_result"
    }
   ],
   "source": [
    "workers()"
   ]
  },
  {
   "cell_type": "code",
   "execution_count": 50,
   "metadata": {},
   "outputs": [
    {
     "name": "stdout",
     "output_type": "stream",
     "text": [
      "search: \u001b[1mr\u001b[22m\u001b[1me\u001b[22m\u001b[1mm\u001b[22m\u001b[1mo\u001b[22m\u001b[1mt\u001b[22m\u001b[1me\u001b[22m\u001b[1mc\u001b[22m\u001b[1ma\u001b[22m\u001b[1ml\u001b[22m\u001b[1ml\u001b[22m \u001b[1mr\u001b[22m\u001b[1me\u001b[22m\u001b[1mm\u001b[22m\u001b[1mo\u001b[22m\u001b[1mt\u001b[22m\u001b[1me\u001b[22m\u001b[1mc\u001b[22m\u001b[1ma\u001b[22m\u001b[1ml\u001b[22m\u001b[1ml\u001b[22m_wait \u001b[1mr\u001b[22m\u001b[1me\u001b[22m\u001b[1mm\u001b[22m\u001b[1mo\u001b[22m\u001b[1mt\u001b[22m\u001b[1me\u001b[22m\u001b[1mc\u001b[22m\u001b[1ma\u001b[22m\u001b[1ml\u001b[22m\u001b[1ml\u001b[22m_fetch \u001b[1mR\u001b[22m\u001b[1me\u001b[22m\u001b[1mm\u001b[22m\u001b[1mo\u001b[22m\u001b[1mt\u001b[22m\u001b[1me\u001b[22m\u001b[1mC\u001b[22mh\u001b[1ma\u001b[22mnne\u001b[1ml\u001b[22m\n",
      "\n"
     ]
    },
    {
     "data": {
      "text/markdown": [
       "```\n",
       "remotecall(f, id::Integer, args...; kwargs...) -> Future\n",
       "```\n",
       "\n",
       "Call a function `f` asynchronously on the given arguments on the specified process. Returns a [`Future`](@ref). Keyword arguments, if any, are passed through to `f`.\n",
       "\n",
       "```\n",
       "remotecall(f, pool::AbstractWorkerPool, args...; kwargs...) -> Future\n",
       "```\n",
       "\n",
       "`WorkerPool` variant of `remotecall(f, pid, ....)`. Waits for and takes a free worker from `pool` and performs a `remotecall` on it.\n"
      ],
      "text/plain": [
       "```\n",
       "remotecall(f, id::Integer, args...; kwargs...) -> Future\n",
       "```\n",
       "\n",
       "Call a function `f` asynchronously on the given arguments on the specified process. Returns a [`Future`](@ref). Keyword arguments, if any, are passed through to `f`.\n",
       "\n",
       "```\n",
       "remotecall(f, pool::AbstractWorkerPool, args...; kwargs...) -> Future\n",
       "```\n",
       "\n",
       "`WorkerPool` variant of `remotecall(f, pid, ....)`. Waits for and takes a free worker from `pool` and performs a `remotecall` on it.\n"
      ]
     },
     "execution_count": 50,
     "metadata": {},
     "output_type": "execute_result"
    }
   ],
   "source": [
    "?remotecall"
   ]
  },
  {
   "cell_type": "code",
   "execution_count": 48,
   "metadata": {},
   "outputs": [
    {
     "ename": "LoadError",
     "evalue": "\u001b[91mMethodError: no method matching remotecall(::Int64, ::Base.Random.#rand, ::Int64, ::Int64)\u001b[0m\nClosest candidates are:\n  remotecall(::Any, \u001b[91m::Base.Distributed.LocalProcess\u001b[39m, ::Any...; kwargs...) at distributed/remotecall.jl:318\n  remotecall(::Any, \u001b[91m::Base.Distributed.Worker\u001b[39m, ::Any...; kwargs...) at distributed/remotecall.jl:324\n  remotecall(::Any, \u001b[91m::Integer\u001b[39m, ::Any...; kwargs...) at distributed/remotecall.jl:336\n  ...\u001b[39m",
     "output_type": "error",
     "traceback": [
      "\u001b[91mMethodError: no method matching remotecall(::Int64, ::Base.Random.#rand, ::Int64, ::Int64)\u001b[0m\nClosest candidates are:\n  remotecall(::Any, \u001b[91m::Base.Distributed.LocalProcess\u001b[39m, ::Any...; kwargs...) at distributed/remotecall.jl:318\n  remotecall(::Any, \u001b[91m::Base.Distributed.Worker\u001b[39m, ::Any...; kwargs...) at distributed/remotecall.jl:324\n  remotecall(::Any, \u001b[91m::Integer\u001b[39m, ::Any...; kwargs...) at distributed/remotecall.jl:336\n  ...\u001b[39m",
      "",
      "Stacktrace:",
      " [1] \u001b[1minclude_string\u001b[22m\u001b[22m\u001b[1m(\u001b[22m\u001b[22m::String, ::String\u001b[1m)\u001b[22m\u001b[22m at \u001b[1m./loading.jl:515\u001b[22m\u001b[22m"
     ]
    }
   ],
   "source": [
    "#run a command on a different worker\n",
    "rmatrix = remotecall(2, rand, 2, 2)\n",
    "print(rmatrix)"
   ]
  },
  {
   "cell_type": "code",
   "execution_count": 43,
   "metadata": {},
   "outputs": [
    {
     "ename": "LoadError",
     "evalue": "\u001b[91mUndefVarError: rmatrix not defined\u001b[39m",
     "output_type": "error",
     "traceback": [
      "\u001b[91mUndefVarError: rmatrix not defined\u001b[39m",
      "",
      "Stacktrace:",
      " [1] \u001b[1minclude_string\u001b[22m\u001b[22m\u001b[1m(\u001b[22m\u001b[22m::String, ::String\u001b[1m)\u001b[22m\u001b[22m at \u001b[1m./loading.jl:515\u001b[22m\u001b[22m"
     ]
    }
   ],
   "source": [
    "rmatrix"
   ]
  },
  {
   "cell_type": "code",
   "execution_count": 44,
   "metadata": {},
   "outputs": [
    {
     "ename": "LoadError",
     "evalue": "\u001b[91mUndefVarError: rmatrix not defined\u001b[39m",
     "output_type": "error",
     "traceback": [
      "\u001b[91mUndefVarError: rmatrix not defined\u001b[39m",
      "",
      "Stacktrace:",
      " [1] \u001b[1minclude_string\u001b[22m\u001b[22m\u001b[1m(\u001b[22m\u001b[22m::String, ::String\u001b[1m)\u001b[22m\u001b[22m at \u001b[1m./loading.jl:515\u001b[22m\u001b[22m"
     ]
    }
   ],
   "source": [
    "fetch(rmatrix)"
   ]
  },
  {
   "cell_type": "code",
   "execution_count": null,
   "metadata": {
    "collapsed": true
   },
   "outputs": [],
   "source": [
    "partial_res = []\n",
    "for subarray in big_array_splits\n",
    "    r = remotecall(count_elements, subarray)\n",
    "    push!(partial_res, @spawn count_elements(subarray) )\n",
    "end"
   ]
  }
 ],
 "metadata": {
  "anaconda-cloud": {},
  "kernelspec": {
   "display_name": "Julia 0.6.0",
   "language": "julia",
   "name": "julia-0.6"
  },
  "language_info": {
   "file_extension": ".jl",
   "mimetype": "application/julia",
   "name": "julia",
   "version": "0.6.0"
  }
 },
 "nbformat": 4,
 "nbformat_minor": 1
}
