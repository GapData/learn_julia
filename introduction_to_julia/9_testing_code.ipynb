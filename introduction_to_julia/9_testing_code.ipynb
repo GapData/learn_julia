{
 "cells": [
  {
   "cell_type": "markdown",
   "metadata": {},
   "source": [
    "\n",
    "# Testing your code\n",
    "\n",
    "Simple unit testing can be performed with the `@test()` and `@test_throws()` macros:\n",
    "\n",
    "- @test ex\n",
    "    - Tests that the expression ex evaluates to true. Returns a Pass Result if it does, a Fail Result if it is false, and an Error Result if it could not be evaluated.\n",
    "    \n",
    "- @test_throws extype ex\n",
    "   - Tests that the expression ex throws an exception of type extype.\n",
    "\n",
    "\n"
   ]
  },
  {
   "cell_type": "markdown",
   "metadata": {},
   "source": [
    "#### @test macro: Testing if x is approximately y given  epsilon\n",
    "\n",
    "To check wheter `x` is approximately `y` given a tolerance `epsilon` we can use the macro\n",
    "    \n",
    "```julia\n",
    "@test x ≈ y atol=epsilon\n",
    "```"
   ]
  },
  {
   "cell_type": "code",
   "execution_count": 1,
   "metadata": {
    "collapsed": false
   },
   "outputs": [
    {
     "ename": "LoadError",
     "evalue": "\u001b[91mUndefVarError: @test not defined\u001b[39m",
     "output_type": "error",
     "traceback": [
      "\u001b[91mUndefVarError: @test not defined\u001b[39m",
      ""
     ]
    }
   ],
   "source": [
    "@test 1.0 ≈ 0.99 atol=0.000001"
   ]
  },
  {
   "cell_type": "code",
   "execution_count": 2,
   "metadata": {
    "collapsed": false
   },
   "outputs": [
    {
     "ename": "LoadError",
     "evalue": "\u001b[91mUndefVarError: @test not defined\u001b[39m",
     "output_type": "error",
     "traceback": [
      "\u001b[91mUndefVarError: @test not defined\u001b[39m",
      ""
     ]
    }
   ],
   "source": [
    "@test 1.0 ≈ 0.9999999999 atol=0.000001"
   ]
  },
  {
   "cell_type": "markdown",
   "metadata": {},
   "source": [
    "### Example 1: Ensuring Numerical derivative checking\n",
    "\n",
    "Let us suppose we have build a method to check numerically the derivative of a function at a given point (using the definition of derivative). Before using it we can make a battery of tests to convince ourselves that the implementation verifies all the mentioned cases"
   ]
  },
  {
   "cell_type": "code",
   "execution_count": 3,
   "metadata": {
    "collapsed": true
   },
   "outputs": [],
   "source": [
    "using Base.Test"
   ]
  },
  {
   "cell_type": "code",
   "execution_count": 4,
   "metadata": {
    "collapsed": false,
    "scrolled": true
   },
   "outputs": [
    {
     "data": {
      "text/plain": [
       "derivative_check"
      ]
     },
     "execution_count": 4,
     "metadata": {},
     "output_type": "execute_result"
    }
   ],
   "source": [
    "\"\"\"\n",
    "Checks whether `f_prime` is the derivative of `f` at point `x`.\n",
    "\n",
    "The function checks the numerical validity of `f_prime` approximating the derivative of `f` at point \n",
    "`x` using the definition of derivative.\n",
    "\"\"\"\n",
    "function derivative_check(f, f_prime, x; epsilon = 1.e-6, tol = 1.e-3)\n",
    "            \n",
    "    approx_f_prime_at_x = abs(f(x + epsilon) - f(x - epsilon)) / (2. *  epsilon )\n",
    "    if abs(f_prime(x) -  approx_f_prime_at_x) <= tol\n",
    "        return true\n",
    "    else\n",
    "        return false\n",
    "    end\n",
    "    \n",
    "end"
   ]
  },
  {
   "cell_type": "code",
   "execution_count": 5,
   "metadata": {
    "collapsed": false
   },
   "outputs": [
    {
     "data": {
      "text/plain": [
       "f_prime (generic function with 1 method)"
      ]
     },
     "execution_count": 5,
     "metadata": {},
     "output_type": "execute_result"
    }
   ],
   "source": [
    "f(x) = 2.*x\n",
    "f_prime(x) = 2. "
   ]
  },
  {
   "cell_type": "code",
   "execution_count": 10,
   "metadata": {
    "collapsed": false
   },
   "outputs": [
    {
     "data": {
      "text/plain": [
       "true"
      ]
     },
     "execution_count": 10,
     "metadata": {},
     "output_type": "execute_result"
    }
   ],
   "source": [
    "derivative_check(f, f_prime, 23.)"
   ]
  },
  {
   "cell_type": "markdown",
   "metadata": {},
   "source": [
    "#### Writting the tests inside the @test macro"
   ]
  },
  {
   "cell_type": "code",
   "execution_count": 9,
   "metadata": {
    "collapsed": false
   },
   "outputs": [
    {
     "data": {
      "text/plain": [
       "\u001b[1m\u001b[32mTest Passed\n",
       "\u001b[39m\u001b[22m"
      ]
     },
     "execution_count": 9,
     "metadata": {},
     "output_type": "execute_result"
    }
   ],
   "source": [
    "@test derivative_check(f, f_prime, 5.)"
   ]
  },
  {
   "cell_type": "markdown",
   "metadata": {},
   "source": [
    "#### Writting a test set\n",
    "\n",
    "\n",
    "We can include different tests of a function capturing different scenarios.\n",
    "\n",
    "If we at some point change the function and one of the tests breaks we will have the information"
   ]
  },
  {
   "cell_type": "code",
   "execution_count": 13,
   "metadata": {
    "collapsed": false,
    "scrolled": true
   },
   "outputs": [
    {
     "name": "stdout",
     "output_type": "stream",
     "text": [
      "\u001b[1m\u001b[37mTest Summary:             | \u001b[39m\u001b[22m\u001b[1m\u001b[32mPass  \u001b[39m\u001b[22m\u001b[1m\u001b[36mTotal\u001b[39m\u001b[22m\n",
      "Derivative checking Tests | \u001b[32m   7  \u001b[39m\u001b[36m    7\u001b[39m\n"
     ]
    },
    {
     "data": {
      "text/plain": [
       "Base.Test.DefaultTestSet(\"Derivative checking Tests\", Any[Base.Test.DefaultTestSet(\"Line derivatives\", Any[], 3, false), Base.Test.DefaultTestSet(\"Polinomical grade 2\", Any[Base.Test.DefaultTestSet(\"testing x**2 + 23\", Any[], 2, false), Base.Test.DefaultTestSet(\"testing x**2 + x + 23\", Any[], 2, false)], 0, false)], 0, false)"
      ]
     },
     "execution_count": 13,
     "metadata": {},
     "output_type": "execute_result"
    }
   ],
   "source": [
    "@testset \"Derivative checking Tests\" begin\n",
    "    @testset \"Line derivatives\" begin\n",
    "          f(x) = 2.*x\n",
    "          f_prime(x) = 2. \n",
    "          @test derivative_check(f, f_prime, 23.)\n",
    "          @test derivative_check(f, f_prime, 0.)\n",
    "          @test derivative_check(f, f_prime, 10.)\n",
    "    end\n",
    "    @testset \"Polinomical grade 2\" begin\n",
    "        @testset \"testing x**2 + 23\" begin\n",
    "            f(x) = x^2 + 23\n",
    "            f_prime(x) = 2.*x  \n",
    "            @test derivative_check(f, f_prime, 1.)\n",
    "            @test derivative_check(f, f_prime, 2.)\n",
    "        end\n",
    "        @testset \"testing x**2 + x + 23\" begin\n",
    "            f(x) = x^2 + x + 23\n",
    "            f_prime(x) = 2.*x  + 1  \n",
    "            @test derivative_check(f, f_prime, 1.)\n",
    "            @test derivative_check(f, f_prime, 2.)\n",
    "        end\n",
    "    end\n",
    "    \n",
    "end"
   ]
  }
 ],
 "metadata": {
  "kernelspec": {
   "display_name": "Julia 0.6.0-rc3",
   "language": "julia",
   "name": "julia-0.6"
  },
  "language_info": {
   "file_extension": ".jl",
   "mimetype": "application/julia",
   "name": "julia",
   "version": "0.6.0"
  }
 },
 "nbformat": 4,
 "nbformat_minor": 0
}
