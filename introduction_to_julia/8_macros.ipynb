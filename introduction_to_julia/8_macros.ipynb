{
 "cells": [
  {
   "cell_type": "markdown",
   "metadata": {},
   "source": [
    "# Macros\n",
    "\n",
    "## time macro"
   ]
  },
  {
   "cell_type": "code",
   "execution_count": 157,
   "metadata": {},
   "outputs": [
    {
     "name": "stderr",
     "output_type": "stream",
     "text": [
      "\u001b[1m\u001b[33mWARNING: \u001b[39m\u001b[22m\u001b[33mreplacing docs for '@timeit :: Tuple{Any}' in module 'Main'.\u001b[39m\n"
     ]
    },
    {
     "data": {
      "text/plain": [
       "@timeit"
      ]
     },
     "execution_count": 157,
     "metadata": {},
     "output_type": "execute_result"
    }
   ],
   "source": [
    "\n",
    "\"\"\"\n",
    "    @timeit expression\n",
    "Compute the time taken to execute `expression`\n",
    "#### Example\n",
    "\n",
    "```julia\n",
    "julia> @timeit 2+2\n",
    "Elapsed time in seconds: \n",
    "0.002308\n",
    "```\n",
    "\"\"\"\n",
    "macro timeit(expression)\n",
    "    quote\n",
    "        local t0 = time()\n",
    "        local val = $(esc(expression))\n",
    "        local t1 = time()\n",
    "        println(\"Elapsed time in seconds: \" )\n",
    "        @printf  \"%3.f\\n\" t1-t0\n",
    "    end\n",
    "end"
   ]
  },
  {
   "cell_type": "code",
   "execution_count": 156,
   "metadata": {},
   "outputs": [
    {
     "data": {
      "text/markdown": [
       "```\n",
       "@timeit expression\n",
       "```\n",
       "\n",
       "Compute the time taken to execute `expression`\n",
       "\n",
       "#### Example\n",
       "\n",
       "```julia\n",
       "julia> @timeit 2+2\n",
       "Elapsed time in seconds: \n",
       "0.002308\n",
       "```\n"
      ],
      "text/plain": [
       "```\n",
       "@timeit expression\n",
       "```\n",
       "\n",
       "Compute the time taken to execute `expression`\n",
       "\n",
       "#### Example\n",
       "\n",
       "```julia\n",
       "julia> @timeit 2+2\n",
       "Elapsed time in seconds: \n",
       "0.002308\n",
       "```\n"
      ]
     },
     "execution_count": 156,
     "metadata": {},
     "output_type": "execute_result"
    }
   ],
   "source": [
    "?@timeit"
   ]
  },
  {
   "cell_type": "code",
   "execution_count": 154,
   "metadata": {},
   "outputs": [
    {
     "name": "stdout",
     "output_type": "stream",
     "text": [
      "Elapsed time in seconds: \n",
      "0.000007\n"
     ]
    }
   ],
   "source": [
    "@timeit 2+232==23"
   ]
  },
  {
   "cell_type": "code",
   "execution_count": 141,
   "metadata": {},
   "outputs": [
    {
     "data": {
      "text/plain": [
       "f (generic function with 1 method)"
      ]
     },
     "execution_count": 141,
     "metadata": {},
     "output_type": "execute_result"
    }
   ],
   "source": [
    "f(x) = x +1"
   ]
  },
  {
   "cell_type": "code",
   "execution_count": 113,
   "metadata": {},
   "outputs": [
    {
     "name": "stdout",
     "output_type": "stream",
     "text": [
      "Elapsed time in seconds: \n",
      "0.002308\n"
     ]
    },
    {
     "data": {
      "text/plain": [
       "11"
      ]
     },
     "execution_count": 113,
     "metadata": {},
     "output_type": "execute_result"
    }
   ],
   "source": [
    "@timeit f(10)"
   ]
  },
  {
   "cell_type": "code",
   "execution_count": null,
   "metadata": {
    "collapsed": true
   },
   "outputs": [],
   "source": [
    "#"
   ]
  }
 ],
 "metadata": {
  "kernelspec": {
   "display_name": "Julia 0.6.0-dev",
   "language": "julia",
   "name": "julia-0.6"
  },
  "language_info": {
   "file_extension": ".jl",
   "mimetype": "application/julia",
   "name": "julia",
   "version": "0.6.0"
  }
 },
 "nbformat": 4,
 "nbformat_minor": 1
}
