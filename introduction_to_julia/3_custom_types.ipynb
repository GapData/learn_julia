{
 "cells": [
  {
   "cell_type": "markdown",
   "metadata": {
    "collapsed": true
   },
   "source": [
    "# Defining your own type\n",
    "\n",
    "Types can be thought as boxes containing fields. Every field has a name and it is highly recoomended to have a type as well (but not required)\n",
    "\n"
   ]
  },
  {
   "cell_type": "code",
   "execution_count": 12,
   "metadata": {
    "collapsed": false
   },
   "outputs": [],
   "source": [
    "type Point{T}\n",
    "    x::T\n",
    "    y::T\n",
    "end"
   ]
  },
  {
   "cell_type": "code",
   "execution_count": 32,
   "metadata": {
    "collapsed": false
   },
   "outputs": [
    {
     "data": {
      "text/plain": [
       "Point{Int64}(2,3)"
      ]
     },
     "execution_count": 32,
     "metadata": {},
     "output_type": "execute_result"
    }
   ],
   "source": [
    "p1 = Point{Int64}(2,3)"
   ]
  },
  {
   "cell_type": "code",
   "execution_count": 36,
   "metadata": {
    "collapsed": false
   },
   "outputs": [
    {
     "data": {
      "text/plain": [
       "Point{String}(\"maria\",\"pepe\")"
      ]
     },
     "execution_count": 36,
     "metadata": {},
     "output_type": "execute_result"
    }
   ],
   "source": [
    "p2 = Point{String}(\"maria\",\"pepe\")"
   ]
  },
  {
   "cell_type": "code",
   "execution_count": 38,
   "metadata": {
    "collapsed": false
   },
   "outputs": [
    {
     "data": {
      "text/plain": [
       "Point{String}(\"maria\",\"pepe\")"
      ]
     },
     "execution_count": 38,
     "metadata": {},
     "output_type": "execute_result"
    }
   ],
   "source": [
    "p2 = Point(\"maria\",\"pepe\")"
   ]
  },
  {
   "cell_type": "code",
   "execution_count": 41,
   "metadata": {
    "collapsed": false
   },
   "outputs": [
    {
     "ename": "LoadError",
     "evalue": "MethodError: no method matching Point{T}(::String, ::Int64)\u001b[0m\nClosest candidates are:\n  Point{T}{T}(::T, \u001b[1m\u001b[31m::T\u001b[0m) at In[12]:2\n  Point{T}{T}(::Any) at sysimg.jl:66\u001b[0m",
     "output_type": "error",
     "traceback": [
      "MethodError: no method matching Point{T}(::String, ::Int64)\u001b[0m\nClosest candidates are:\n  Point{T}{T}(::T, \u001b[1m\u001b[31m::T\u001b[0m) at In[12]:2\n  Point{T}{T}(::Any) at sysimg.jl:66\u001b[0m",
      ""
     ]
    }
   ],
   "source": [
    "p2 = Point(\"maria\",3)"
   ]
  },
  {
   "cell_type": "code",
   "execution_count": 53,
   "metadata": {
    "collapsed": false
   },
   "outputs": [
    {
     "ename": "LoadError",
     "evalue": "MethodError: no method matching Point{T}(::Point{String}, ::Point{Int64})\u001b[0m\nClosest candidates are:\n  Point{T}{T}(::T, \u001b[1m\u001b[31m::T\u001b[0m) at In[12]:2\n  Point{T}{T}(::Any) at sysimg.jl:66\u001b[0m",
     "output_type": "error",
     "traceback": [
      "MethodError: no method matching Point{T}(::Point{String}, ::Point{Int64})\u001b[0m\nClosest candidates are:\n  Point{T}{T}(::T, \u001b[1m\u001b[31m::T\u001b[0m) at In[12]:2\n  Point{T}{T}(::Any) at sysimg.jl:66\u001b[0m",
      ""
     ]
    }
   ],
   "source": [
    "p2 = Point( Point(\"maria\",\"la\"),Point(3,3))"
   ]
  },
  {
   "cell_type": "code",
   "execution_count": 45,
   "metadata": {
    "collapsed": false
   },
   "outputs": [
    {
     "data": {
      "text/plain": [
       "Point{Point{Int64}}(Point{Int64}(5412,123),Point{Int64}(3,3))"
      ]
     },
     "execution_count": 45,
     "metadata": {},
     "output_type": "execute_result"
    }
   ],
   "source": [
    "p2 = Point( Point(5412,123),Point(3,3))"
   ]
  },
  {
   "cell_type": "code",
   "execution_count": 34,
   "metadata": {
    "collapsed": false
   },
   "outputs": [
    {
     "name": "stderr",
     "output_type": "stream",
     "text": [
      "WARNING: Method definition (::Type{Main.PointRestricted{#T<:Real}})(Any, Any) in module Main at In[24]:2 overwritten at In[34]:2.\n",
      "WARNING: Method definition (::Type{Main.PointRestricted})(#T<:Real, #T<:Real) in module Main at In[24]:2 overwritten at In[34]:2.\n"
     ]
    }
   ],
   "source": [
    "type PointRestricted{T<:Real}\n",
    "    x::T\n",
    "    y::T\n",
    "end"
   ]
  },
  {
   "cell_type": "code",
   "execution_count": 35,
   "metadata": {
    "collapsed": false
   },
   "outputs": [
    {
     "ename": "LoadError",
     "evalue": "TypeError: PointRestricted: in T, expected T<:Real, got Type{String}",
     "output_type": "error",
     "traceback": [
      "TypeError: PointRestricted: in T, expected T<:Real, got Type{String}",
      ""
     ]
    }
   ],
   "source": [
    "PointRestricted{String}(\"pepe\",\"pepa\")"
   ]
  },
  {
   "cell_type": "code",
   "execution_count": 49,
   "metadata": {
    "collapsed": false
   },
   "outputs": [
    {
     "data": {
      "text/plain": [
       "PointRestricted{Int32}(1,45)"
      ]
     },
     "execution_count": 49,
     "metadata": {},
     "output_type": "execute_result"
    }
   ],
   "source": [
    "PointRestricted{Int32}(1,45)"
   ]
  },
  {
   "cell_type": "code",
   "execution_count": 47,
   "metadata": {
    "collapsed": false
   },
   "outputs": [
    {
     "data": {
      "text/plain": [
       ":(2 + 2)"
      ]
     },
     "execution_count": 47,
     "metadata": {},
     "output_type": "execute_result"
    }
   ],
   "source": [
    "parse(\"2+2\")"
   ]
  },
  {
   "cell_type": "code",
   "execution_count": 48,
   "metadata": {
    "collapsed": false
   },
   "outputs": [
    {
     "data": {
      "text/plain": [
       "4"
      ]
     },
     "execution_count": 48,
     "metadata": {},
     "output_type": "execute_result"
    }
   ],
   "source": [
    "eval(parse(\"2+2\"))"
   ]
  },
  {
   "cell_type": "code",
   "execution_count": null,
   "metadata": {
    "collapsed": false
   },
   "outputs": [],
   "source": [
    "workspace()\n",
    "type House\n",
    "    squared_meters\n",
    "    price\n",
    "    city\n",
    "    \n",
    "    House(squared_meters, price) = new(squared_meters, price, \"Unkown\")\n",
    "end\n"
   ]
  },
  {
   "cell_type": "code",
   "execution_count": null,
   "metadata": {
    "collapsed": false
   },
   "outputs": [],
   "source": [
    "home = House(60,100000)"
   ]
  },
  {
   "cell_type": "markdown",
   "metadata": {},
   "source": [
    "#### Parametric types\n",
    "\n",
    "Parametric types are `Type` objects that take as parameters other `Type` objects or numbers.\n",
    "\n"
   ]
  },
  {
   "cell_type": "code",
   "execution_count": 5,
   "metadata": {
    "collapsed": false
   },
   "outputs": [
    {
     "name": "stderr",
     "output_type": "stream",
     "text": [
      "WARNING: Method definition (::Type{Main.House_p{#T<:Real}})(Any, Any) in module Main at In[1]:6 overwritten at In[5]:6.\n"
     ]
    }
   ],
   "source": [
    "type House_p{T<:Real}\n",
    "    squared_meters::T\n",
    "    price::T\n",
    "    city::String\n",
    "    \n",
    "    House_p(squared_meters, price) = new(squared_meters, price, \"Unkown\")\n",
    "end\n"
   ]
  },
  {
   "cell_type": "code",
   "execution_count": 6,
   "metadata": {
    "collapsed": false
   },
   "outputs": [
    {
     "data": {
      "text/plain": [
       "House_p{Float32}(60.0f0,100000.0f0,\"Unkown\")"
      ]
     },
     "execution_count": 6,
     "metadata": {},
     "output_type": "execute_result"
    }
   ],
   "source": [
    "home_p = House_p{Float32}(60,100000)"
   ]
  },
  {
   "cell_type": "code",
   "execution_count": 7,
   "metadata": {
    "collapsed": false
   },
   "outputs": [
    {
     "data": {
      "text/plain": [
       "Float32"
      ]
     },
     "execution_count": 7,
     "metadata": {},
     "output_type": "execute_result"
    }
   ],
   "source": [
    "typeof(home_p.squared_meters)"
   ]
  },
  {
   "cell_type": "code",
   "execution_count": 11,
   "metadata": {
    "collapsed": false
   },
   "outputs": [
    {
     "ename": "LoadError",
     "evalue": "MethodError: no method matching House_p{T<:Real}(::Int64, ::Int64, ::String)\u001b[0m\nClosest candidates are:\n  House_p{T<:Real}{T}(::Any) at sysimg.jl:66\u001b[0m",
     "output_type": "error",
     "traceback": [
      "MethodError: no method matching House_p{T<:Real}(::Int64, ::Int64, ::String)\u001b[0m\nClosest candidates are:\n  House_p{T<:Real}{T}(::Any) at sysimg.jl:66\u001b[0m",
      ""
     ]
    }
   ],
   "source": [
    "home_p = House_p(60,10,\"la\")"
   ]
  },
  {
   "cell_type": "markdown",
   "metadata": {},
   "source": [
    "#### Can we use a default parameterized type?"
   ]
  },
  {
   "cell_type": "code",
   "execution_count": null,
   "metadata": {
    "collapsed": false
   },
   "outputs": [],
   "source": [
    "Array([2])"
   ]
  },
  {
   "cell_type": "code",
   "execution_count": null,
   "metadata": {
    "collapsed": false
   },
   "outputs": [],
   "source": [
    "type House_2{T<:Real}\n",
    "    squared_meters::T\n",
    "    price::T\n",
    "    city\n",
    "    \n",
    "    House_2(squared_meters, price) = new(squared_meters, price, \"Unkown\")\n",
    "end\n"
   ]
  },
  {
   "cell_type": "code",
   "execution_count": null,
   "metadata": {
    "collapsed": true
   },
   "outputs": [],
   "source": []
  },
  {
   "cell_type": "code",
   "execution_count": null,
   "metadata": {
    "collapsed": true
   },
   "outputs": [],
   "source": []
  },
  {
   "cell_type": "code",
   "execution_count": null,
   "metadata": {
    "collapsed": true
   },
   "outputs": [],
   "source": []
  },
  {
   "cell_type": "code",
   "execution_count": null,
   "metadata": {
    "collapsed": true
   },
   "outputs": [],
   "source": [
    "workspace()\n",
    "type troll{T}\n",
    "    weigsht::T\n",
    "    height::T\n",
    "end"
   ]
  },
  {
   "cell_type": "code",
   "execution_count": null,
   "metadata": {
    "collapsed": false
   },
   "outputs": [],
   "source": [
    "a_troll = troll(3,4)"
   ]
  },
  {
   "cell_type": "code",
   "execution_count": null,
   "metadata": {
    "collapsed": false
   },
   "outputs": [],
   "source": [
    "a_troll"
   ]
  },
  {
   "cell_type": "markdown",
   "metadata": {},
   "source": [
    "WE can use other types to define a troll"
   ]
  },
  {
   "cell_type": "code",
   "execution_count": null,
   "metadata": {
    "collapsed": false
   },
   "outputs": [],
   "source": [
    "a_troll = troll(3., 4.)"
   ]
  },
  {
   "cell_type": "markdown",
   "metadata": {},
   "source": [
    "Nevertheless we defined ty type stating that every filed had to be form the same type. Therefore troll(3,4.) will not work"
   ]
  },
  {
   "cell_type": "code",
   "execution_count": null,
   "metadata": {
    "collapsed": false
   },
   "outputs": [],
   "source": [
    "a_troll = troll(3,4.)"
   ]
  },
  {
   "cell_type": "markdown",
   "metadata": {},
   "source": [
    "### Creating inner constructors\n",
    "\n",
    "We can add a function inside a type used to instanciate the type.\n",
    "\n",
    "This function can be used for example in order to..\n",
    "\n",
    "- Put restrictions on the type, such as..\n",
    "     - not allow negative values \n",
    "     - Not allow 'rare' characters"
   ]
  },
  {
   "cell_type": "code",
   "execution_count": null,
   "metadata": {
    "collapsed": true
   },
   "outputs": [],
   "source": [
    "workspace()"
   ]
  },
  {
   "cell_type": "code",
   "execution_count": null,
   "metadata": {
    "collapsed": false
   },
   "outputs": [],
   "source": [
    "type Giant{T}\n",
    "    weight::T\n",
    "    height::T\n",
    "    intelligence::String\n",
    "    \n",
    "    function Giant(w, h, i)\n",
    "        if h<2\n",
    "            throw(ArgumentError(\"Giants are taller\\n\"))\n",
    "        end\n",
    "        return new(w,h,i)\n",
    "    end\n",
    "end"
   ]
  },
  {
   "cell_type": "code",
   "execution_count": null,
   "metadata": {
    "collapsed": false
   },
   "outputs": [],
   "source": [
    "methodswith(Giant)"
   ]
  },
  {
   "cell_type": "code",
   "execution_count": null,
   "metadata": {
    "collapsed": false
   },
   "outputs": [],
   "source": [
    "type Family\n",
    "    name::AbstractString\n",
    "    members::Array{AbstractString, 1}\n",
    "    extended::Bool\n",
    "    # constructor that takes one argument and generates a default\n",
    "    # for the other two values\n",
    "    Family(name::AbstractString) = new(name, AbstractString[], false)\n",
    "    # constructor that takes two arguements and infers the third\n",
    "    Family(name::AbstractString, members) = new(name, members, length(members) > 3)\n",
    "end\n",
    "\n",
    "fam1 = Family(\"blogs\")\n",
    "println(fam1)"
   ]
  },
  {
   "cell_type": "markdown",
   "metadata": {},
   "source": [
    "Notice that if a constructor is defined inside a type we must explicitly define a way to instanciate new elements for every possible type T."
   ]
  },
  {
   "cell_type": "code",
   "execution_count": null,
   "metadata": {
    "collapsed": false
   },
   "outputs": [],
   "source": [
    "Giant(3.,4.,\"low\")"
   ]
  },
  {
   "cell_type": "markdown",
   "metadata": {},
   "source": [
    "Let us do it"
   ]
  },
  {
   "cell_type": "code",
   "execution_count": null,
   "metadata": {
    "collapsed": false
   },
   "outputs": [],
   "source": [
    "Giant{T}(weight::T, height::T, intelligence::String) = Giant{T}(weight, height, intelligence)\n",
    "\n",
    "#Giant{T}(weight::T, height::T) = Giant{T}(weight, height ; intelligence=\"low\")"
   ]
  },
  {
   "cell_type": "code",
   "execution_count": null,
   "metadata": {
    "collapsed": false
   },
   "outputs": [],
   "source": [
    "methodswith(Giant)"
   ]
  },
  {
   "cell_type": "code",
   "execution_count": null,
   "metadata": {
    "collapsed": false
   },
   "outputs": [],
   "source": [
    "giant = Giant(3., 4., \"low\")"
   ]
  },
  {
   "cell_type": "code",
   "execution_count": null,
   "metadata": {
    "collapsed": false
   },
   "outputs": [],
   "source": [
    "giant.height, giant.weight, giant.intelligence"
   ]
  },
  {
   "cell_type": "markdown",
   "metadata": {},
   "source": [
    "Notice that, sice we have written a restriction on the height of the giant\n",
    "we cannot instanciate giants with less than 2 meter height"
   ]
  },
  {
   "cell_type": "code",
   "execution_count": null,
   "metadata": {
    "collapsed": false
   },
   "outputs": [],
   "source": [
    "giant = Giant(3.,4.,\"medium\")"
   ]
  },
  {
   "cell_type": "code",
   "execution_count": null,
   "metadata": {
    "collapsed": false
   },
   "outputs": [],
   "source": [
    "giant.height, giant.weight, giant.intelligence"
   ]
  },
  {
   "cell_type": "code",
   "execution_count": null,
   "metadata": {
    "collapsed": false
   },
   "outputs": [],
   "source": [
    "giant = Giant(3.,1.,\"medium\")"
   ]
  },
  {
   "cell_type": "markdown",
   "metadata": {},
   "source": [
    "### Assigning  a default value to a type \n",
    "\n",
    "By default we might think that Giants are quite stupid and therefore we might be interested into assigning \"stupid\" intelligence as default.\n",
    "\n",
    "Notice that default values in Julia are defined after ```;```\n",
    "\n",
    "This can be specially handly in order to provide default values for types, for example when there could be 'standard values' for some of the fileds inside a type and we do not want to bother the user selecting field values. \n",
    "\n",
    "Using this trick we can allow the user to set values to all the fields the user wants to but at the same time, allow the user **not to** define all possible fields ."
   ]
  },
  {
   "cell_type": "code",
   "execution_count": null,
   "metadata": {
    "collapsed": true
   },
   "outputs": [],
   "source": [
    "workspace()"
   ]
  },
  {
   "cell_type": "code",
   "execution_count": null,
   "metadata": {
    "collapsed": false
   },
   "outputs": [],
   "source": [
    "type Giant{T}\n",
    "    weight::T\n",
    "    height::T\n",
    "    intelligence::String\n",
    "    \n",
    "    function Giant(w, h ; intelligence=\"stupid\")\n",
    "        if h<2\n",
    "            throw(ArgumentError(\"Giants are taller\\n\"))\n",
    "        end\n",
    "        return new(w, h ,  intelligence)\n",
    "    end\n",
    "    \n",
    "end\n",
    "\n",
    "## IMPORTANT TO ADD CONSTRUCTOR FOR EVERY TYPE T !!!!\n",
    "Giant{T}(weight::T, height::T) = Giant{T}(weight, height)\n"
   ]
  },
  {
   "cell_type": "code",
   "execution_count": null,
   "metadata": {
    "collapsed": false
   },
   "outputs": [],
   "source": [
    "giant = Giant(3.,5.)"
   ]
  },
  {
   "cell_type": "code",
   "execution_count": null,
   "metadata": {
    "collapsed": false
   },
   "outputs": [],
   "source": [
    "giant.weight, giant.height, giant.intelligence"
   ]
  },
  {
   "cell_type": "code",
   "execution_count": null,
   "metadata": {
    "collapsed": false,
    "scrolled": true
   },
   "outputs": [],
   "source": [
    "giant.intelligence = \"smart\""
   ]
  },
  {
   "cell_type": "code",
   "execution_count": null,
   "metadata": {
    "collapsed": false
   },
   "outputs": [],
   "source": [
    "giant.weight, giant.height, giant.intelligence"
   ]
  },
  {
   "cell_type": "markdown",
   "metadata": {},
   "source": [
    "Notice that we cannot pass now a value for the field intelligence"
   ]
  },
  {
   "cell_type": "code",
   "execution_count": null,
   "metadata": {
    "collapsed": false
   },
   "outputs": [],
   "source": [
    "rare_giant = Giant(5.,4.,\"smart\")"
   ]
  },
  {
   "cell_type": "markdown",
   "metadata": {},
   "source": [
    "Notice that we cannot use this definition since we need to specify how to create a Giant  when we pass the intelligence field."
   ]
  },
  {
   "cell_type": "markdown",
   "metadata": {},
   "source": [
    "### Allowing types to have fields with defeault values\n",
    "\n",
    "https://groups.google.com/forum/#!topic/julia-users/9jM7GIoh7YY"
   ]
  },
  {
   "cell_type": "code",
   "execution_count": null,
   "metadata": {
    "collapsed": false
   },
   "outputs": [],
   "source": [
    "workspace()\n",
    "\n",
    "type Giant{T}\n",
    "    weight::T\n",
    "    height::T\n",
    "    intelligence::String\n",
    "    \n",
    "    function Giant(w, h ; intelligence=\"stupid\")\n",
    "        if h<2\n",
    "            throw(ArgumentError(\"Giants are taller\\n\"))\n",
    "        end\n",
    "        return new(w, h, intelligence)\n",
    "    end\n",
    "    \n",
    "    function Giant(w, h, intelligence)\n",
    "        if h<2\n",
    "            throw(ArgumentError(\"Giants are taller\\n\"))\n",
    "        end\n",
    "        return new(w, h, intelligence)\n",
    "    end\n",
    "end\n",
    "\n",
    "## IMPORTANT TO ADD CONSTRUCTOR FOR EVERY TYPE T !!!!\n",
    "Giant{T}(weight::T, height::T) = Giant{T}(weight, height)\n",
    "Giant{T}(weight::T, height::T, intelligence::String) = Giant{T}(weight, height, intelligence)"
   ]
  },
  {
   "cell_type": "code",
   "execution_count": null,
   "metadata": {
    "collapsed": false
   },
   "outputs": [],
   "source": [
    "rare_giant = Giant(5., 4., \"smart\")"
   ]
  },
  {
   "cell_type": "code",
   "execution_count": null,
   "metadata": {
    "collapsed": false
   },
   "outputs": [],
   "source": [
    "giant = Giant(3., 5.)"
   ]
  },
  {
   "cell_type": "markdown",
   "metadata": {},
   "source": [
    "#### Type man"
   ]
  },
  {
   "cell_type": "markdown",
   "metadata": {},
   "source": [
    "\n",
    "The following example is the type man that contains 3 fields, **```heigh```**,**``` weight```** and **```name```**."
   ]
  },
  {
   "cell_type": "code",
   "execution_count": null,
   "metadata": {
    "collapsed": false
   },
   "outputs": [],
   "source": [
    "type man{T}\n",
    "    height::T\n",
    "    weight::T\n",
    "    name::String\n",
    "end"
   ]
  },
  {
   "cell_type": "markdown",
   "metadata": {},
   "source": [
    "A type can be instanciated by assigning values to its fields, the fields of a type can be checked with the **```fieldnames```** function"
   ]
  },
  {
   "cell_type": "code",
   "execution_count": null,
   "metadata": {
    "collapsed": false
   },
   "outputs": [],
   "source": [
    "david = man(183, 80, \"David\")"
   ]
  },
  {
   "cell_type": "code",
   "execution_count": null,
   "metadata": {
    "collapsed": false
   },
   "outputs": [],
   "source": [
    "fieldnames(david)"
   ]
  },
  {
   "cell_type": "markdown",
   "metadata": {
    "collapsed": true
   },
   "source": [
    "Notice that **you cannot specify a particular value on a field**."
   ]
  },
  {
   "cell_type": "code",
   "execution_count": null,
   "metadata": {
    "collapsed": false
   },
   "outputs": [],
   "source": [
    "type girl{T}\n",
    "    height::T\n",
    "    weight::T\n",
    "    name=\"Julia\"\n",
    "end"
   ]
  },
  {
   "cell_type": "markdown",
   "metadata": {},
   "source": [
    "Nevertheless you can define a type and a (so called) inner constructor which might specify a particular value of the type."
   ]
  },
  {
   "cell_type": "code",
   "execution_count": null,
   "metadata": {
    "collapsed": false
   },
   "outputs": [],
   "source": [
    "type girl2{T}\n",
    "    height::T\n",
    "    weight::T\n",
    "    name::String\n",
    "end"
   ]
  },
  {
   "cell_type": "code",
   "execution_count": null,
   "metadata": {
    "collapsed": false
   },
   "outputs": [],
   "source": [
    "girl2(23, 123, \"julia\")"
   ]
  },
  {
   "cell_type": "code",
   "execution_count": null,
   "metadata": {
    "collapsed": false
   },
   "outputs": [],
   "source": [
    "typeof(girl2)"
   ]
  },
  {
   "cell_type": "code",
   "execution_count": null,
   "metadata": {
    "collapsed": false
   },
   "outputs": [],
   "source": [
    "methodswith(girl2)"
   ]
  },
  {
   "cell_type": "markdown",
   "metadata": {},
   "source": [
    "### Inner constructor"
   ]
  },
  {
   "cell_type": "code",
   "execution_count": null,
   "metadata": {
    "collapsed": false
   },
   "outputs": [],
   "source": [
    "type girl4{T}\n",
    "    height::T\n",
    "    weight::T\n",
    "    name::String\n",
    "    \n",
    "    function girl4(height, weight, name)\n",
    "        new(23,12,\"lala\")\n",
    "    end\n",
    "end"
   ]
  },
  {
   "cell_type": "code",
   "execution_count": null,
   "metadata": {
    "collapsed": false
   },
   "outputs": [],
   "source": [
    "girl4(23,123,\"julia\")"
   ]
  },
  {
   "cell_type": "markdown",
   "metadata": {
    "collapsed": true
   },
   "source": [
    "# Making custom print for a defined type\n",
    "\n",
    "Once defined a type we can import ```Base.show``` and define a ```show``` method for the defined type\n"
   ]
  },
  {
   "cell_type": "code",
   "execution_count": null,
   "metadata": {
    "collapsed": true
   },
   "outputs": [],
   "source": [
    "import Base.show"
   ]
  },
  {
   "cell_type": "code",
   "execution_count": null,
   "metadata": {
    "collapsed": false
   },
   "outputs": [],
   "source": [
    "type Point\n",
    "       x::Int\n",
    "       y::Int\n",
    "end"
   ]
  },
  {
   "cell_type": "code",
   "execution_count": null,
   "metadata": {
    "collapsed": false
   },
   "outputs": [],
   "source": [
    "Base.show(io::IO, p::Point) = print(io, \"Point: x=$(p.x), y=$(p.y)\")"
   ]
  },
  {
   "cell_type": "code",
   "execution_count": null,
   "metadata": {
    "collapsed": false
   },
   "outputs": [],
   "source": [
    "#Base.print(io::IO, p::Point) = string(p)"
   ]
  },
  {
   "cell_type": "code",
   "execution_count": null,
   "metadata": {
    "collapsed": false
   },
   "outputs": [],
   "source": [
    "Point(4,5)"
   ]
  },
  {
   "cell_type": "code",
   "execution_count": null,
   "metadata": {
    "collapsed": false
   },
   "outputs": [],
   "source": [
    "print(Point(4,5))"
   ]
  },
  {
   "cell_type": "code",
   "execution_count": null,
   "metadata": {
    "collapsed": false
   },
   "outputs": [],
   "source": [
    "[Point(2,5), Point(1,1), Point(5,6)]"
   ]
  },
  {
   "cell_type": "markdown",
   "metadata": {},
   "source": [
    "### Another example"
   ]
  },
  {
   "cell_type": "code",
   "execution_count": null,
   "metadata": {
    "collapsed": false
   },
   "outputs": [],
   "source": [
    "require(\"Enum\")\n",
    "\n",
    "using Calendar\n",
    "   type LogMessage\n",
    "     stamped::CalendarTime\n",
    "     msgstat::MsgStatus\n",
    "     message::String\n",
    "end\n",
    "   import Base.show\n",
    "   show(m::LogMessage) =\n",
    "   print(\"$(m.stamped): $(m.msgstat) >> $(m.message)\")\n",
    "   msg = LogMessage(Calendar.now(), WARN, \"Be very afraid\")\n",
    "   show(msg)"
   ]
  },
  {
   "cell_type": "markdown",
   "metadata": {},
   "source": [
    "### The importance of declaring code inside functions"
   ]
  },
  {
   "cell_type": "code",
   "execution_count": null,
   "metadata": {
    "collapsed": false
   },
   "outputs": [],
   "source": [
    "@time begin\n",
    "pos = 0\n",
    "num_steps = 10^4\n",
    "numwalkers = 10^4\n",
    "final_square_positions = Int[]\n",
    "\n",
    "for i in 1:numwalkers\n",
    "    for j in 1:num_steps\n",
    "        pos += ifelse( rand() < 0.5, -1, +1)\n",
    "    end\n",
    "        push!(final_square_positions, pos^2)\n",
    "end\n",
    "    \n",
    "end"
   ]
  },
  {
   "cell_type": "code",
   "execution_count": null,
   "metadata": {
    "collapsed": false
   },
   "outputs": [],
   "source": [
    "function fool_function()\n",
    "    pos = 0\n",
    "    num_steps = 10^4\n",
    "    numwalkers = 10^4\n",
    "    final_square_positions = Int[]\n",
    "\n",
    "    for i in 1:numwalkers\n",
    "        for j in 1:num_steps\n",
    "            pos += ifelse( rand() < 0.5, -1, +1)\n",
    "        end\n",
    "            push!(final_square_positions, pos^2)\n",
    "    end\n",
    "end"
   ]
  },
  {
   "cell_type": "code",
   "execution_count": null,
   "metadata": {
    "collapsed": false
   },
   "outputs": [],
   "source": [
    "@time fool_function()"
   ]
  },
  {
   "cell_type": "code",
   "execution_count": null,
   "metadata": {
    "collapsed": true
   },
   "outputs": [],
   "source": []
  }
 ],
 "metadata": {
  "kernelspec": {
   "display_name": "Julia 0.5.0",
   "language": "julia",
   "name": "julia-0.5"
  },
  "language_info": {
   "file_extension": ".jl",
   "mimetype": "application/julia",
   "name": "julia",
   "version": "0.6.0"
  }
 },
 "nbformat": 4,
 "nbformat_minor": 0
}
