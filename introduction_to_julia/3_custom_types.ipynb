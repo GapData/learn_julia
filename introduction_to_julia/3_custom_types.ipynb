{
 "cells": [
  {
   "cell_type": "markdown",
   "metadata": {
    "collapsed": true
   },
   "source": [
    "# Defining your own type\n",
    "\n",
    "\n",
    "Types can be thought as \"boxes\" containing data. Each \"box\" is called  **``field``** and can contain any  **``Type``** inside, each field is identified by a name filed. In order to see the different fields of a type you can use the function **``fieldnames``**.\n",
    "\n",
    "- Each field can have a type, the symbol **`::`** is used to assign a type to a fieldname.\n",
    "    - For example **`x::Float64`** states that `x` has type ``Float64``.\n",
    "- Each field can have a different type"
   ]
  },
  {
   "cell_type": "code",
   "execution_count": 377,
   "metadata": {
    "collapsed": false
   },
   "outputs": [
    {
     "data": {
      "text/plain": [
       "Point(10.0,10.0,2.0)"
      ]
     },
     "execution_count": 377,
     "metadata": {},
     "output_type": "execute_result"
    }
   ],
   "source": [
    "workspace()\n",
    "type Point\n",
    "    x::Float64\n",
    "    y::Float64\n",
    "    z::Float64\n",
    "end\n",
    "p = Point(10,10,2)"
   ]
  },
  {
   "cell_type": "code",
   "execution_count": 378,
   "metadata": {
    "collapsed": false
   },
   "outputs": [
    {
     "data": {
      "text/plain": [
       "3-element Array{Symbol,1}:\n",
       " :x\n",
       " :y\n",
       " :z"
      ]
     },
     "execution_count": 378,
     "metadata": {},
     "output_type": "execute_result"
    }
   ],
   "source": [
    "fieldnames(p)"
   ]
  },
  {
   "cell_type": "code",
   "execution_count": 379,
   "metadata": {
    "collapsed": false
   },
   "outputs": [
    {
     "data": {
      "text/plain": [
       "23"
      ]
     },
     "execution_count": 379,
     "metadata": {},
     "output_type": "execute_result"
    }
   ],
   "source": [
    "p.x = 23"
   ]
  },
  {
   "cell_type": "code",
   "execution_count": 380,
   "metadata": {
    "collapsed": false
   },
   "outputs": [
    {
     "data": {
      "text/plain": [
       "Point(23.0,10.0,2.0)"
      ]
     },
     "execution_count": 380,
     "metadata": {},
     "output_type": "execute_result"
    }
   ],
   "source": [
    "p"
   ]
  },
  {
   "cell_type": "markdown",
   "metadata": {},
   "source": [
    "## Inmutable Types\n",
    "\n",
    "As the name suggests, you cannot mutate the fieldnames of **``immutable``** types.\n",
    "\n",
    "\n",
    "**An immutable object might contain mutable objects**, such as arrays, as fields. Those contained objects will remain mutable; only the fields of the immutable object itself cannot be changed to point to different objects."
   ]
  },
  {
   "cell_type": "code",
   "execution_count": 361,
   "metadata": {
    "collapsed": false
   },
   "outputs": [
    {
     "data": {
      "text/plain": [
       "Point(10.0,10.0,2.0)"
      ]
     },
     "execution_count": 361,
     "metadata": {},
     "output_type": "execute_result"
    }
   ],
   "source": [
    "workspace()\n",
    "immutable Point\n",
    "    x::Float64\n",
    "    y::Float64\n",
    "    z::Float64\n",
    "end\n",
    "p = Point(10,10,2)"
   ]
  },
  {
   "cell_type": "code",
   "execution_count": 362,
   "metadata": {
    "collapsed": false
   },
   "outputs": [
    {
     "ename": "LoadError",
     "evalue": "type Point is immutable",
     "output_type": "error",
     "traceback": [
      "type Point is immutable",
      ""
     ]
    }
   ],
   "source": [
    "p.x = 23"
   ]
  },
  {
   "cell_type": "code",
   "execution_count": 363,
   "metadata": {
    "collapsed": false
   },
   "outputs": [
    {
     "data": {
      "text/plain": [
       "VectorPoint([10.0,2.0],[10.0,1.0],[10.0,10.0])"
      ]
     },
     "execution_count": 363,
     "metadata": {},
     "output_type": "execute_result"
    }
   ],
   "source": [
    "workspace()\n",
    "immutable VectorPoint\n",
    "    x::Array{Float64}\n",
    "    y::Array{Float64}\n",
    "    z::Array{Float64}\n",
    "end\n",
    "p = VectorPoint([10,2],[10,1],[10,10])"
   ]
  },
  {
   "cell_type": "code",
   "execution_count": 367,
   "metadata": {
    "collapsed": false
   },
   "outputs": [
    {
     "ename": "LoadError",
     "evalue": "type VectorPoint is immutable",
     "output_type": "error",
     "traceback": [
      "type VectorPoint is immutable",
      ""
     ]
    }
   ],
   "source": [
    "p.x = [2.,3.]"
   ]
  },
  {
   "cell_type": "code",
   "execution_count": 706,
   "metadata": {
    "collapsed": false
   },
   "outputs": [
    {
     "name": "stderr",
     "output_type": "stream",
     "text": [
      "WARNING: Method definition (::Type{Main.Family})(Array{String, N<:Any}, String) in module Main at In[690]:2 overwritten at In[706]:2.\n",
      "WARNING: Method definition (::Type{Main.Family})(Any, Any) in module Main at In[690]:2 overwritten at In[706]:2.\n"
     ]
    }
   ],
   "source": [
    "immutable Family\n",
    "    members::Array{String}\n",
    "    name::String\n",
    "end"
   ]
  },
  {
   "cell_type": "code",
   "execution_count": 707,
   "metadata": {
    "collapsed": false
   },
   "outputs": [
    {
     "data": {
      "text/plain": [
       "Family(String[\"Lisa\",\"Hommer\",\"Bart\",\"Marge\"],\"Simpson\")"
      ]
     },
     "execution_count": 707,
     "metadata": {},
     "output_type": "execute_result"
    }
   ],
   "source": [
    "simpsons = Family([\"Lisa\",\"Hommer\",\"Bart\",\"Marge\"],\"Simpson\")"
   ]
  },
  {
   "cell_type": "code",
   "execution_count": 708,
   "metadata": {
    "collapsed": false
   },
   "outputs": [
    {
     "data": {
      "text/plain": [
       "5-element Array{String,1}:\n",
       " \"Lisa\"  \n",
       " \"Hommer\"\n",
       " \"Bart\"  \n",
       " \"Marge\" \n",
       " \"maggie\""
      ]
     },
     "execution_count": 708,
     "metadata": {},
     "output_type": "execute_result"
    }
   ],
   "source": [
    "push!(simpsons.members, \"maggie\")"
   ]
  },
  {
   "cell_type": "code",
   "execution_count": 371,
   "metadata": {
    "collapsed": false
   },
   "outputs": [
    {
     "data": {
      "text/plain": [
       "Family(String[\"Lisa\",\"Hommer\",\"Bart\",\"Marge\",\"maggie\"],\"Simpson\")"
      ]
     },
     "execution_count": 371,
     "metadata": {},
     "output_type": "execute_result"
    }
   ],
   "source": [
    "simpsons"
   ]
  },
  {
   "cell_type": "code",
   "execution_count": 710,
   "metadata": {
    "collapsed": true
   },
   "outputs": [],
   "source": [
    "immutable Model\n",
    "    name::String\n",
    "    Θ::Array\n",
    "end"
   ]
  },
  {
   "cell_type": "code",
   "execution_count": 711,
   "metadata": {
    "collapsed": false
   },
   "outputs": [
    {
     "data": {
      "text/plain": [
       "Model(\"Percepton\",[0.0,0.0,0.0,0.0,0.0,0.0,0.0,0.0,0.0,0.0])"
      ]
     },
     "execution_count": 711,
     "metadata": {},
     "output_type": "execute_result"
    }
   ],
   "source": [
    "perceptron = Model(\"Percepton\", zeros(10))"
   ]
  },
  {
   "cell_type": "code",
   "execution_count": 712,
   "metadata": {
    "collapsed": false
   },
   "outputs": [
    {
     "data": {
      "text/plain": [
       "12"
      ]
     },
     "execution_count": 712,
     "metadata": {},
     "output_type": "execute_result"
    }
   ],
   "source": [
    "perceptron.Θ[1] = 12"
   ]
  },
  {
   "cell_type": "code",
   "execution_count": 713,
   "metadata": {
    "collapsed": false
   },
   "outputs": [
    {
     "data": {
      "text/plain": [
       "1×10 Array{Float64,2}:\n",
       " 12.0  0.0  0.0  0.0  0.0  0.0  0.0  0.0  0.0  0.0"
      ]
     },
     "execution_count": 713,
     "metadata": {},
     "output_type": "execute_result"
    }
   ],
   "source": [
    "perceptron.Θ'"
   ]
  },
  {
   "cell_type": "code",
   "execution_count": 714,
   "metadata": {
    "collapsed": false
   },
   "outputs": [
    {
     "ename": "LoadError",
     "evalue": "type Model is immutable",
     "output_type": "error",
     "traceback": [
      "type Model is immutable",
      ""
     ]
    }
   ],
   "source": [
    "perceptron.Θ = perceptron.Θ + 1"
   ]
  },
  {
   "cell_type": "code",
   "execution_count": 715,
   "metadata": {
    "collapsed": false
   },
   "outputs": [
    {
     "data": {
      "text/plain": [
       "10-element Array{Float64,1}:\n",
       " 13.0\n",
       "  1.0\n",
       "  1.0\n",
       "  1.0\n",
       "  1.0\n",
       "  1.0\n",
       "  1.0\n",
       "  1.0\n",
       "  1.0\n",
       "  1.0"
      ]
     },
     "execution_count": 715,
     "metadata": {},
     "output_type": "execute_result"
    }
   ],
   "source": [
    "perceptron.Θ .= perceptron.Θ + 1"
   ]
  },
  {
   "cell_type": "markdown",
   "metadata": {},
   "source": [
    "## Parametric types"
   ]
  },
  {
   "cell_type": "markdown",
   "metadata": {},
   "source": [
    "To make the code more general we can use ** parametric types** which define a family of types by a parameter. \n",
    "\n",
    "- Parametric types can depend on multiple parameters `Point{T1,T2}`.\n"
   ]
  },
  {
   "cell_type": "code",
   "execution_count": 310,
   "metadata": {
    "collapsed": false
   },
   "outputs": [],
   "source": [
    "workspace()\n",
    "type Point{T}\n",
    "    x::T\n",
    "    y::T\n",
    "    z::T\n",
    "end"
   ]
  },
  {
   "cell_type": "code",
   "execution_count": 311,
   "metadata": {
    "collapsed": false
   },
   "outputs": [
    {
     "data": {
      "text/plain": [
       "Point{Int64}(10,10,2)"
      ]
     },
     "execution_count": 311,
     "metadata": {},
     "output_type": "execute_result"
    }
   ],
   "source": [
    "p = Point(10,10,2)"
   ]
  },
  {
   "cell_type": "code",
   "execution_count": 312,
   "metadata": {
    "collapsed": false
   },
   "outputs": [
    {
     "data": {
      "text/plain": [
       "Point{Float64}(10.0,10.0,2.0)"
      ]
     },
     "execution_count": 312,
     "metadata": {},
     "output_type": "execute_result"
    }
   ],
   "source": [
    "p = Point(10.,10.,2.)"
   ]
  },
  {
   "cell_type": "markdown",
   "metadata": {},
   "source": [
    "#### This code\n",
    "``` Julia\n",
    "type Point{T}\n",
    "    x::T\n",
    "    y::T\n",
    "    z::T\n",
    "end\n",
    "```\n",
    "\n",
    "#### Already defines all this\n",
    "\n",
    "\n",
    "``` Julia\n",
    "type Point{T<:Real}\n",
    "  x::T\n",
    "  y::T\n",
    "\n",
    "  Point(x,y,z) = new(x,y,z)\n",
    "end\n",
    "\n",
    "Point{T<:Real}(x::T, y::T, z::T) = Point{T}(x,y,z)\n",
    "```"
   ]
  },
  {
   "cell_type": "code",
   "execution_count": 208,
   "metadata": {
    "collapsed": false
   },
   "outputs": [],
   "source": [
    "workspace()\n",
    "type Point{T1,T2}\n",
    "    x::T1\n",
    "    y::T1\n",
    "    z::T2\n",
    "end"
   ]
  },
  {
   "cell_type": "code",
   "execution_count": 210,
   "metadata": {
    "collapsed": false
   },
   "outputs": [
    {
     "data": {
      "text/plain": [
       "Point{Float64,Int64}(10.0,10.0,2)"
      ]
     },
     "execution_count": 210,
     "metadata": {},
     "output_type": "execute_result"
    }
   ],
   "source": [
    "p = Point(10.,10.,2)"
   ]
  },
  {
   "cell_type": "markdown",
   "metadata": {},
   "source": [
    "## Set restrictions on custom types\n",
    "\n",
    "\n",
    "Sometimes we don't want to have types that are too general and can be missused in unnexpected ways. In order to avoid this we can put restrictions. For example, our `Point` type can be created to be used only with numbers inside its fieldnames, nevertheless, our previous definition\n",
    "\n",
    "``` Julia\n",
    "type Point{T}\n",
    "    x::T\n",
    "    y::T\n",
    "    z::T\n",
    "end\n",
    "```\n",
    "\n",
    "can accept any `Type` inside `x`, `y` and `z` as long as it's the same type for all fieldnames. \n",
    "\n",
    "``` Julia\n",
    "Point(\"This\", \"is\", \"unnexpected\")\n",
    "```\n",
    "```\n",
    "Point{String}(\"This\",\"is\",\"unnexpected\")\n",
    "```\n",
    "\n",
    "#### Using the subtype operator <:\n",
    "\n",
    "The operator **`<:`** allows us to verify if a `Type` is subtype of an `AbstractType`.\n"
   ]
  },
  {
   "cell_type": "code",
   "execution_count": 260,
   "metadata": {
    "collapsed": false
   },
   "outputs": [
    {
     "data": {
      "text/plain": [
       "true"
      ]
     },
     "execution_count": 260,
     "metadata": {},
     "output_type": "execute_result"
    }
   ],
   "source": [
    "Int64 <: Real"
   ]
  },
  {
   "cell_type": "code",
   "execution_count": 261,
   "metadata": {
    "collapsed": false
   },
   "outputs": [],
   "source": [
    "workspace()\n",
    "type Point{T<:Real}\n",
    "    x::T\n",
    "    y::T\n",
    "    z::T\n",
    "end"
   ]
  },
  {
   "cell_type": "code",
   "execution_count": 262,
   "metadata": {
    "collapsed": false
   },
   "outputs": [
    {
     "ename": "LoadError",
     "evalue": "MethodError: no method matching Point{T<:Real}(::String, ::String, ::String)\u001b[0m\nClosest candidates are:\n  Point{T<:Real}{T}(::Any) at sysimg.jl:53\u001b[0m",
     "output_type": "error",
     "traceback": [
      "MethodError: no method matching Point{T<:Real}(::String, ::String, ::String)\u001b[0m\nClosest candidates are:\n  Point{T<:Real}{T}(::Any) at sysimg.jl:53\u001b[0m",
      ""
     ]
    }
   ],
   "source": [
    "Point(\"This\", \"is\", \"unnexpected\")"
   ]
  },
  {
   "cell_type": "code",
   "execution_count": 264,
   "metadata": {
    "collapsed": false
   },
   "outputs": [
    {
     "data": {
      "text/plain": [
       "Point{Int64}(10,10,2)"
      ]
     },
     "execution_count": 264,
     "metadata": {},
     "output_type": "execute_result"
    }
   ],
   "source": [
    "p = Point(10,10,2)"
   ]
  },
  {
   "cell_type": "markdown",
   "metadata": {},
   "source": [
    "## Set default values for a custom type\n",
    "\n",
    "Constructors can be used to generate ways to construct custom types. This could be usefull, for example, in order to set default values to your custom types."
   ]
  },
  {
   "cell_type": "code",
   "execution_count": 860,
   "metadata": {
    "collapsed": false
   },
   "outputs": [
    {
     "data": {
      "text/plain": [
       "Point{T}"
      ]
     },
     "execution_count": 860,
     "metadata": {},
     "output_type": "execute_result"
    }
   ],
   "source": [
    "workspace()\n",
    "type Point{T}\n",
    "    x::T\n",
    "    y::T\n",
    "    z::T\n",
    "end\n",
    "\n",
    "# Make a constructor that sets some default values \n",
    "Point(x,y) = Point(x,y,0)\n",
    "\n",
    "# Make a constructor that sets all values as default\n",
    "Point() = Point(0,0,0)"
   ]
  },
  {
   "cell_type": "code",
   "execution_count": 861,
   "metadata": {
    "collapsed": false
   },
   "outputs": [
    {
     "data": {
      "text/plain": [
       "Point{Int64}(10,10,0)"
      ]
     },
     "execution_count": 861,
     "metadata": {},
     "output_type": "execute_result"
    }
   ],
   "source": [
    "Point(10,10)"
   ]
  },
  {
   "cell_type": "code",
   "execution_count": 862,
   "metadata": {
    "collapsed": false
   },
   "outputs": [
    {
     "data": {
      "text/plain": [
       "Point{Int64}(0,0,0)"
      ]
     },
     "execution_count": 862,
     "metadata": {},
     "output_type": "execute_result"
    }
   ],
   "source": [
    "Point()"
   ]
  },
  {
   "cell_type": "markdown",
   "metadata": {},
   "source": [
    "## Set restrictions for custom types, inner constructors\n",
    "\n",
    "If we want to enforce properties of a type in its construction we can use inner constructors with restriction.\n",
    "\n",
    "We can add a function inside a type used to instanciate the type.\n",
    "\n",
    "This function can be used for example in order to..\n",
    "\n",
    "- Put restrictions on the type, such as..\n",
    "     - not allow negative values \n",
    "     - Not allow 'rare' characters"
   ]
  },
  {
   "cell_type": "code",
   "execution_count": 869,
   "metadata": {
    "collapsed": false
   },
   "outputs": [],
   "source": [
    "workspace()\n",
    "type OrderedPair\n",
    "  x::Real\n",
    "  y::Real\n",
    "  OrderedPair(x,y) = x > y ? error(\"out of order\") : new(x,y)\n",
    "end"
   ]
  },
  {
   "cell_type": "code",
   "execution_count": 870,
   "metadata": {
    "collapsed": false
   },
   "outputs": [
    {
     "data": {
      "text/plain": [
       "OrderedPair(1,10)"
      ]
     },
     "execution_count": 870,
     "metadata": {},
     "output_type": "execute_result"
    }
   ],
   "source": [
    "OrderedPair(1,10)"
   ]
  },
  {
   "cell_type": "code",
   "execution_count": 871,
   "metadata": {
    "collapsed": false
   },
   "outputs": [
    {
     "ename": "LoadError",
     "evalue": "out of order",
     "output_type": "error",
     "traceback": [
      "out of order",
      "",
      " in OrderedPair(::Int64, ::Int64) at ./In[869]:5"
     ]
    }
   ],
   "source": [
    "OrderedPair(10,1)"
   ]
  },
  {
   "cell_type": "markdown",
   "metadata": {},
   "source": [
    "## Parametric types with restrictions\n",
    "#### inner constructor for parametric types => outer constructor needed"
   ]
  },
  {
   "cell_type": "code",
   "execution_count": 885,
   "metadata": {
    "collapsed": false
   },
   "outputs": [
    {
     "ename": "LoadError",
     "evalue": "MethodError: no method matching OrderedPair{T}(::Int64, ::Int64)\u001b[0m\nClosest candidates are:\n  OrderedPair{T}{T}(::Any) at sysimg.jl:53\u001b[0m",
     "output_type": "error",
     "traceback": [
      "MethodError: no method matching OrderedPair{T}(::Int64, ::Int64)\u001b[0m\nClosest candidates are:\n  OrderedPair{T}{T}(::Any) at sysimg.jl:53\u001b[0m",
      ""
     ]
    }
   ],
   "source": [
    "workspace()\n",
    "type OrderedPair{T}\n",
    "  x::T\n",
    "  y::T \n",
    "  OrderedPair(x,y) = x > y ? error(\"out of order\") : new(x,y)\n",
    "end\n",
    "\n",
    "# THIS WILL NOT WORK\n",
    "OrderedPair(1,10)"
   ]
  },
  {
   "cell_type": "code",
   "execution_count": 882,
   "metadata": {
    "collapsed": false
   },
   "outputs": [
    {
     "data": {
      "text/plain": [
       "OrderedPair{T}"
      ]
     },
     "execution_count": 882,
     "metadata": {},
     "output_type": "execute_result"
    }
   ],
   "source": [
    "workspace()\n",
    "type OrderedPair{T}\n",
    "  x::T\n",
    "  y::T \n",
    "  OrderedPair(x,y) = x > y ? error(\"out of order\") : new(x,y)\n",
    "end\n",
    "\n",
    "# Need outer constructor\n",
    "OrderedPair{T}(x::T,y::T) = OrderedPair{T}(x,y) "
   ]
  },
  {
   "cell_type": "code",
   "execution_count": 881,
   "metadata": {
    "collapsed": false
   },
   "outputs": [
    {
     "data": {
      "text/plain": [
       "OrderedPair{Int64}(1,10)"
      ]
     },
     "execution_count": 881,
     "metadata": {},
     "output_type": "execute_result"
    }
   ],
   "source": [
    "OrderedPair(1,10)"
   ]
  },
  {
   "cell_type": "code",
   "execution_count": 916,
   "metadata": {
    "collapsed": false
   },
   "outputs": [
    {
     "ename": "LoadError",
     "evalue": "out of order",
     "output_type": "error",
     "traceback": [
      "out of order",
      "",
      " in Type at ./In[911]:5 [inlined]",
      " in OrderedPair{T}(::Int64, ::Int64) at ./In[911]:9"
     ]
    }
   ],
   "source": [
    "OrderedPair(100,10)"
   ]
  },
  {
   "cell_type": "markdown",
   "metadata": {},
   "source": [
    "#### You can have default values and parametric restricted types"
   ]
  },
  {
   "cell_type": "code",
   "execution_count": 60,
   "metadata": {
    "collapsed": false
   },
   "outputs": [
    {
     "data": {
      "text/plain": [
       "OrderedPair{T}"
      ]
     },
     "execution_count": 60,
     "metadata": {},
     "output_type": "execute_result"
    }
   ],
   "source": [
    "workspace()\n",
    "type OrderedPair{T}\n",
    "  x::T\n",
    "  y::T \n",
    "  OrderedPair(x,y) = x > y ? error(\"out of order\") : new(x,y)\n",
    "end\n",
    "\n",
    "# Need outer constructor\n",
    "OrderedPair{T}(x::T,y::T) = OrderedPair{T}(x,y) \n",
    "OrderedPair{T}(x::T) = OrderedPair{T}(x,x) \n"
   ]
  },
  {
   "cell_type": "code",
   "execution_count": 61,
   "metadata": {
    "collapsed": false
   },
   "outputs": [
    {
     "data": {
      "text/plain": [
       "OrderedPair{Int64}(1,1)"
      ]
     },
     "execution_count": 61,
     "metadata": {},
     "output_type": "execute_result"
    }
   ],
   "source": [
    "OrderedPair(1)"
   ]
  },
  {
   "cell_type": "markdown",
   "metadata": {},
   "source": [
    "## Make custom print for a custom type"
   ]
  },
  {
   "cell_type": "code",
   "execution_count": 829,
   "metadata": {
    "collapsed": true
   },
   "outputs": [],
   "source": [
    "import Base.show"
   ]
  },
  {
   "cell_type": "code",
   "execution_count": 830,
   "metadata": {
    "collapsed": false
   },
   "outputs": [],
   "source": [
    "type Point\n",
    "       x::Int\n",
    "       y::Int\n",
    "end"
   ]
  },
  {
   "cell_type": "code",
   "execution_count": 831,
   "metadata": {
    "collapsed": false
   },
   "outputs": [],
   "source": [
    "Base.show(io::IO, p::Point) = print(io, \"Point: x=$(p.x), y=$(p.y)\")"
   ]
  },
  {
   "cell_type": "code",
   "execution_count": 97,
   "metadata": {
    "collapsed": false
   },
   "outputs": [
    {
     "ename": "LoadError",
     "evalue": "UndefVarError: Point not defined",
     "output_type": "error",
     "traceback": [
      "UndefVarError: Point not defined",
      ""
     ]
    }
   ],
   "source": [
    "Point(4,5)"
   ]
  },
  {
   "cell_type": "code",
   "execution_count": null,
   "metadata": {
    "collapsed": true
   },
   "outputs": [],
   "source": []
  },
  {
   "cell_type": "code",
   "execution_count": null,
   "metadata": {
    "collapsed": true
   },
   "outputs": [],
   "source": []
  },
  {
   "cell_type": "code",
   "execution_count": null,
   "metadata": {
    "collapsed": true
   },
   "outputs": [],
   "source": []
  },
  {
   "cell_type": "code",
   "execution_count": null,
   "metadata": {
    "collapsed": true
   },
   "outputs": [],
   "source": []
  },
  {
   "cell_type": "code",
   "execution_count": null,
   "metadata": {
    "collapsed": true
   },
   "outputs": [],
   "source": []
  },
  {
   "cell_type": "code",
   "execution_count": null,
   "metadata": {
    "collapsed": true
   },
   "outputs": [],
   "source": []
  },
  {
   "cell_type": "code",
   "execution_count": null,
   "metadata": {
    "collapsed": true
   },
   "outputs": [],
   "source": []
  },
  {
   "cell_type": "code",
   "execution_count": null,
   "metadata": {
    "collapsed": true
   },
   "outputs": [],
   "source": []
  },
  {
   "cell_type": "code",
   "execution_count": null,
   "metadata": {
    "collapsed": true
   },
   "outputs": [],
   "source": []
  },
  {
   "cell_type": "markdown",
   "metadata": {},
   "source": [
    "# For another time"
   ]
  },
  {
   "cell_type": "markdown",
   "metadata": {},
   "source": [
    "## Easy default parameters with Parameters package"
   ]
  },
  {
   "cell_type": "code",
   "execution_count": 102,
   "metadata": {
    "collapsed": false
   },
   "outputs": [],
   "source": [
    "\n",
    "#Pkg.add(\"Parameters\")\n",
    "using Parameters"
   ]
  },
  {
   "cell_type": "code",
   "execution_count": 103,
   "metadata": {
    "collapsed": false
   },
   "outputs": [
    {
     "name": "stderr",
     "output_type": "stream",
     "text": [
      "WARNING: Method definition (::Type{Main.A})() in module Main at /Users/davidbuchacaprats/.julia/v0.5/Parameters/src/Parameters.jl:366 overwritten at /Users/davidbuchacaprats/.julia/v0.5/Parameters/src/Parameters.jl:366.\n",
      "WARNING: Method definition Type(Array{Any, 1}, Type{Main.A}) in module Main overwritten.\n",
      "WARNING: Method definition (::Type{Main.A})(Any, Any, Any) in module Main at /Users/davidbuchacaprats/.julia/v0.5/Parameters/src/Parameters.jl:374 overwritten at /Users/davidbuchacaprats/.julia/v0.5/Parameters/src/Parameters.jl:374.\n",
      "WARNING: Method definition (::Type{Main.A})(Main.A) in module Main at /Users/davidbuchacaprats/.julia/v0.5/Parameters/src/Parameters.jl:421 overwritten at /Users/davidbuchacaprats/.julia/v0.5/Parameters/src/Parameters.jl:421.\n",
      "WARNING: Method definition Type(Array{Any, 1}, Type{Main.A}, Main.A) in module Main overwritten.\n",
      "WARNING: Method definition (::Type{Main.A})(Main.A, Main.Base.Associative) in module Main at /Users/davidbuchacaprats/.julia/v0.5/Parameters/src/Parameters.jl:424 overwritten at /Users/davidbuchacaprats/.julia/v0.5/Parameters/src/Parameters.jl:424.\n",
      "WARNING: Method definition (::Type{Main.A})(Main.A, Tuple{Symbol, Any}...) in module Main at /Users/davidbuchacaprats/.julia/v0.5/Parameters/src/Parameters.jl:425 overwritten at /Users/davidbuchacaprats/.julia/v0.5/Parameters/src/Parameters.jl:425.\n",
      "WARNING: Method definition show(IO, Main.A) in module Main at /Users/davidbuchacaprats/.julia/v0.5/Parameters/src/Parameters.jl:439 overwritten at /Users/davidbuchacaprats/.julia/v0.5/Parameters/src/Parameters.jl:439.\n",
      "WARNING: Method definition @unpack_A(ANY<:Any) in module Main at /Users/davidbuchacaprats/.julia/v0.5/Parameters/src/Parameters.jl:442 overwritten at /Users/davidbuchacaprats/.julia/v0.5/Parameters/src/Parameters.jl:442.\n",
      "WARNING: Method definition @pack_A(ANY<:Any) in module Main at /Users/davidbuchacaprats/.julia/v0.5/Parameters/src/Parameters.jl:445 overwritten at /Users/davidbuchacaprats/.julia/v0.5/Parameters/src/Parameters.jl:445.\n"
     ]
    },
    {
     "data": {
      "text/plain": [
       "A"
      ]
     },
     "execution_count": 103,
     "metadata": {},
     "output_type": "execute_result"
    }
   ],
   "source": [
    "@with_kw type A\n",
    "           a::Int = 6\n",
    "           b::Float64 = -1.1\n",
    "           c::UInt64\n",
    "       end\n"
   ]
  },
  {
   "cell_type": "code",
   "execution_count": 104,
   "metadata": {
    "collapsed": false
   },
   "outputs": [
    {
     "data": {
      "text/plain": [
       "A\n",
       "  a: Int64 6\n",
       "  b: Float64 -1.1\n",
       "  c: UInt64 4\n"
      ]
     },
     "execution_count": 104,
     "metadata": {},
     "output_type": "execute_result"
    }
   ],
   "source": [
    "a = A(c=4)"
   ]
  },
  {
   "cell_type": "code",
   "execution_count": 107,
   "metadata": {
    "collapsed": false
   },
   "outputs": [
    {
     "data": {
      "text/plain": [
       "0x0000000000000004"
      ]
     },
     "execution_count": 107,
     "metadata": {},
     "output_type": "execute_result"
    }
   ],
   "source": [
    "a.c"
   ]
  },
  {
   "cell_type": "markdown",
   "metadata": {},
   "source": [
    "### Parameterized type with default values not working"
   ]
  },
  {
   "cell_type": "code",
   "execution_count": 121,
   "metadata": {
    "collapsed": false
   },
   "outputs": [
    {
     "data": {
      "text/plain": [
       "PosPoint{T}"
      ]
     },
     "execution_count": 121,
     "metadata": {},
     "output_type": "execute_result"
    }
   ],
   "source": [
    "workspace()\n",
    "type PosPoint{T}\n",
    "       x::T\n",
    "       y::T\n",
    "    PosPoint(x,y) = x < 0 || y < 0 ? error(\"coordinates must be positive\") : new(x,y)\n",
    "end\n",
    "\n",
    "PosPoint{T}(x::T,y::T) = PosPoint{T}(x,y) \n",
    "#PosPoint() = PosPoint{T}(zero(T),zero(T))  # Not working\n",
    "PosPoint() = PosPoint(0,0)  # Not working\n",
    "\n"
   ]
  },
  {
   "cell_type": "code",
   "execution_count": 117,
   "metadata": {
    "collapsed": false
   },
   "outputs": [
    {
     "data": {
      "text/plain": [
       "PosPoint{Int64}(20,10)"
      ]
     },
     "execution_count": 117,
     "metadata": {},
     "output_type": "execute_result"
    }
   ],
   "source": [
    "PosPoint(20,10)"
   ]
  },
  {
   "cell_type": "code",
   "execution_count": 118,
   "metadata": {
    "collapsed": false
   },
   "outputs": [
    {
     "data": {
      "text/plain": [
       "Float32"
      ]
     },
     "execution_count": 118,
     "metadata": {},
     "output_type": "execute_result"
    }
   ],
   "source": [
    "typeof(zero(Float32))"
   ]
  },
  {
   "cell_type": "code",
   "execution_count": 119,
   "metadata": {
    "collapsed": false
   },
   "outputs": [
    {
     "ename": "LoadError",
     "evalue": "coordinates must be positive",
     "output_type": "error",
     "traceback": [
      "coordinates must be positive",
      "",
      " in PosPoint{Int64}(::Int64, ::Int64) at ./In[116]:5",
      " in PosPoint{T}(::Int64, ::Int64) at ./In[116]:8"
     ]
    }
   ],
   "source": [
    "PosPoint(20,-10)"
   ]
  },
  {
   "cell_type": "code",
   "execution_count": 122,
   "metadata": {
    "collapsed": false
   },
   "outputs": [
    {
     "data": {
      "text/plain": [
       "PosPoint{Int64}(0,0)"
      ]
     },
     "execution_count": 122,
     "metadata": {},
     "output_type": "execute_result"
    }
   ],
   "source": [
    "PosPoint()"
   ]
  },
  {
   "cell_type": "markdown",
   "metadata": {},
   "source": [
    "### Assigning  a default value to a type \n",
    "\n",
    "By default we might think that Giants are quite stupid and therefore we might be interested into assigning \"stupid\" intelligence as default.\n",
    "\n",
    "Notice that default values in Julia are defined after ```;```\n",
    "\n",
    "This can be specially handly in order to provide default values for types, for example when there could be 'standard values' for some of the fileds inside a type and we do not want to bother the user selecting field values. \n",
    "\n",
    "Using this trick we can allow the user to set values to all the fields the user wants to but at the same time, allow the user **not to** define all possible fields ."
   ]
  },
  {
   "cell_type": "code",
   "execution_count": 799,
   "metadata": {
    "collapsed": true
   },
   "outputs": [],
   "source": [
    "workspace()"
   ]
  },
  {
   "cell_type": "code",
   "execution_count": 833,
   "metadata": {
    "collapsed": false
   },
   "outputs": [
    {
     "ename": "LoadError",
     "evalue": "invalid redefinition of constant Giant",
     "output_type": "error",
     "traceback": [
      "invalid redefinition of constant Giant",
      ""
     ]
    }
   ],
   "source": [
    "type Giant{T}\n",
    "    weight::T\n",
    "    height::T\n",
    "    intelligence::String\n",
    "    \n",
    "    function Giant(w, h ; intelligence=\"stupid\")\n",
    "        if h<2\n",
    "            throw(ArgumentError(\"Giants are taller\\n\"))\n",
    "        end\n",
    "        return new(w, h ,  intelligence)\n",
    "    end\n",
    "    \n",
    "end\n",
    "\n",
    "## IMPORTANT TO ADD CONSTRUCTOR FOR EVERY TYPE T !!!!\n",
    "Giant{T}(weight::T, height::T) = Giant{T}(weight, height)\n"
   ]
  },
  {
   "cell_type": "code",
   "execution_count": 834,
   "metadata": {
    "collapsed": false
   },
   "outputs": [
    {
     "data": {
      "text/plain": [
       "Giant{Float64}(3.0,5.0,\"stupid\")"
      ]
     },
     "execution_count": 834,
     "metadata": {},
     "output_type": "execute_result"
    }
   ],
   "source": [
    "giant = Giant(3.,5.)"
   ]
  },
  {
   "cell_type": "code",
   "execution_count": 836,
   "metadata": {
    "collapsed": false
   },
   "outputs": [
    {
     "data": {
      "text/plain": [
       "(3.0,5.0,\"stupid\")"
      ]
     },
     "execution_count": 836,
     "metadata": {},
     "output_type": "execute_result"
    }
   ],
   "source": [
    "giant.weight, giant.height, giant.intelligence"
   ]
  },
  {
   "cell_type": "code",
   "execution_count": 837,
   "metadata": {
    "collapsed": false,
    "scrolled": true
   },
   "outputs": [
    {
     "data": {
      "text/plain": [
       "\"smart\""
      ]
     },
     "execution_count": 837,
     "metadata": {},
     "output_type": "execute_result"
    }
   ],
   "source": [
    "giant.intelligence = \"smart\""
   ]
  },
  {
   "cell_type": "code",
   "execution_count": 838,
   "metadata": {
    "collapsed": false
   },
   "outputs": [
    {
     "data": {
      "text/plain": [
       "(3.0,5.0,\"smart\")"
      ]
     },
     "execution_count": 838,
     "metadata": {},
     "output_type": "execute_result"
    }
   ],
   "source": [
    "giant.weight, giant.height, giant.intelligence"
   ]
  },
  {
   "cell_type": "markdown",
   "metadata": {},
   "source": [
    "Notice that we cannot pass now a value for the field intelligence"
   ]
  },
  {
   "cell_type": "code",
   "execution_count": 839,
   "metadata": {
    "collapsed": false
   },
   "outputs": [
    {
     "data": {
      "text/plain": [
       "Giant{Float64}(5.0,4.0,\"smart\")"
      ]
     },
     "execution_count": 839,
     "metadata": {},
     "output_type": "execute_result"
    }
   ],
   "source": [
    "rare_giant = Giant(5.,4.,\"smart\")"
   ]
  },
  {
   "cell_type": "markdown",
   "metadata": {},
   "source": [
    "Notice that we cannot use this definition since we need to specify how to create a Giant  when we pass the intelligence field."
   ]
  },
  {
   "cell_type": "markdown",
   "metadata": {},
   "source": [
    "### Allowing types to have fields with defeault values\n",
    "\n",
    "https://groups.google.com/forum/#!topic/julia-users/9jM7GIoh7YY"
   ]
  },
  {
   "cell_type": "code",
   "execution_count": 826,
   "metadata": {
    "collapsed": false
   },
   "outputs": [
    {
     "data": {
      "text/plain": [
       "Giant{T}"
      ]
     },
     "execution_count": 826,
     "metadata": {},
     "output_type": "execute_result"
    }
   ],
   "source": [
    "workspace()\n",
    "\n",
    "type Giant{T}\n",
    "    weight::T\n",
    "    height::T\n",
    "    intelligence::String\n",
    "    \n",
    "    function Giant(w, h ; intelligence=\"stupid\")\n",
    "        if h<2\n",
    "            throw(ArgumentError(\"Giants are taller\\n\"))\n",
    "        end\n",
    "        return new(w, h, intelligence)\n",
    "    end\n",
    "    \n",
    "    function Giant(w, h, intelligence)\n",
    "        if h<2\n",
    "            throw(ArgumentError(\"Giants are taller\\n\"))\n",
    "        end\n",
    "        return new(w, h, intelligence)\n",
    "    end\n",
    "end\n",
    "\n",
    "## IMPORTANT TO ADD CONSTRUCTOR FOR EVERY TYPE T !!!!\n",
    "Giant{T}(weight::T, height::T) = Giant{T}(weight, height)\n",
    "Giant{T}(weight::T, height::T, intelligence::String) = Giant{T}(weight, height, intelligence)\n",
    "\n",
    "rare_giant = Giant(5., 4., \"smart\")\n",
    "giant = Giant(3., 5.)"
   ]
  },
  {
   "cell_type": "code",
   "execution_count": 827,
   "metadata": {
    "collapsed": false
   },
   "outputs": [
    {
     "data": {
      "text/plain": [
       "Giant{Float64}(5.0,4.0,\"smart\")"
      ]
     },
     "execution_count": 827,
     "metadata": {},
     "output_type": "execute_result"
    }
   ],
   "source": [
    "rare_giant = Giant(5., 4., \"smart\")"
   ]
  },
  {
   "cell_type": "code",
   "execution_count": 828,
   "metadata": {
    "collapsed": false
   },
   "outputs": [
    {
     "data": {
      "text/plain": [
       "Giant{Float64}(3.0,5.0,\"stupid\")"
      ]
     },
     "execution_count": 828,
     "metadata": {},
     "output_type": "execute_result"
    }
   ],
   "source": [
    "giant = Giant(3., 5.)"
   ]
  },
  {
   "cell_type": "markdown",
   "metadata": {},
   "source": [
    "#### Type man"
   ]
  },
  {
   "cell_type": "markdown",
   "metadata": {},
   "source": [
    "\n",
    "The following example is the type man that contains 3 fields, **```heigh```**,**``` weight```** and **```name```**."
   ]
  },
  {
   "cell_type": "code",
   "execution_count": null,
   "metadata": {
    "collapsed": false
   },
   "outputs": [],
   "source": [
    "fieldnames(david)"
   ]
  },
  {
   "cell_type": "markdown",
   "metadata": {
    "collapsed": true
   },
   "source": [
    "Notice that **you cannot specify a particular value on a field**."
   ]
  },
  {
   "cell_type": "code",
   "execution_count": null,
   "metadata": {
    "collapsed": false
   },
   "outputs": [],
   "source": [
    "type girl{T}\n",
    "    height::T\n",
    "    weight::T\n",
    "    name=\"Julia\"\n",
    "end"
   ]
  },
  {
   "cell_type": "markdown",
   "metadata": {},
   "source": [
    "Nevertheless you can define a type and a (so called) inner constructor which might specify a particular value of the type."
   ]
  },
  {
   "cell_type": "code",
   "execution_count": null,
   "metadata": {
    "collapsed": false
   },
   "outputs": [],
   "source": [
    "type girl2{T}\n",
    "    height::T\n",
    "    weight::T\n",
    "    name::String\n",
    "end"
   ]
  },
  {
   "cell_type": "code",
   "execution_count": null,
   "metadata": {
    "collapsed": false
   },
   "outputs": [],
   "source": [
    "girl2(23, 123, \"julia\")"
   ]
  },
  {
   "cell_type": "code",
   "execution_count": null,
   "metadata": {
    "collapsed": false
   },
   "outputs": [],
   "source": [
    "typeof(girl2)"
   ]
  },
  {
   "cell_type": "code",
   "execution_count": null,
   "metadata": {
    "collapsed": false
   },
   "outputs": [],
   "source": [
    "methodswith(girl2)"
   ]
  },
  {
   "cell_type": "markdown",
   "metadata": {},
   "source": [
    "### Inner constructor"
   ]
  },
  {
   "cell_type": "code",
   "execution_count": 855,
   "metadata": {
    "collapsed": false
   },
   "outputs": [
    {
     "data": {
      "text/plain": [
       "girl4{T}"
      ]
     },
     "execution_count": 855,
     "metadata": {},
     "output_type": "execute_result"
    }
   ],
   "source": [
    "workspace()\n",
    "type girl4{T}\n",
    "    height::T\n",
    "    weight::T\n",
    "    name::String\n",
    "    \n",
    "    function girl4(height, weight)\n",
    "        return new(height,weight,\"NoName\")\n",
    "    end\n",
    "end\n",
    "girl4{T}(x::T, y::T)  = girl4(x,y)"
   ]
  },
  {
   "cell_type": "code",
   "execution_count": 856,
   "metadata": {
    "collapsed": false
   },
   "outputs": [
    {
     "ename": "LoadError",
     "evalue": "StackOverflowError:",
     "output_type": "error",
     "traceback": [
      "StackOverflowError:",
      "",
      " in girl4{T}(::Int64, ::Int64) at ./In[855]:11 (repeats 80000 times)"
     ]
    }
   ],
   "source": [
    "girl4(23,123)"
   ]
  },
  {
   "cell_type": "markdown",
   "metadata": {
    "collapsed": true
   },
   "source": [
    "# Making custom print for a defined type\n",
    "\n",
    "Once defined a type we can import ```Base.show``` and define a ```show``` method for the defined type\n"
   ]
  },
  {
   "cell_type": "code",
   "execution_count": null,
   "metadata": {
    "collapsed": true
   },
   "outputs": [],
   "source": [
    "import Base.show"
   ]
  },
  {
   "cell_type": "code",
   "execution_count": null,
   "metadata": {
    "collapsed": false
   },
   "outputs": [],
   "source": [
    "type Point\n",
    "       x::Int\n",
    "       y::Int\n",
    "end"
   ]
  },
  {
   "cell_type": "code",
   "execution_count": null,
   "metadata": {
    "collapsed": false
   },
   "outputs": [],
   "source": [
    "Base.show(io::IO, p::Point) = print(io, \"Point: x=$(p.x), y=$(p.y)\")"
   ]
  },
  {
   "cell_type": "code",
   "execution_count": null,
   "metadata": {
    "collapsed": false
   },
   "outputs": [],
   "source": [
    "#Base.print(io::IO, p::Point) = string(p)"
   ]
  },
  {
   "cell_type": "code",
   "execution_count": null,
   "metadata": {
    "collapsed": false
   },
   "outputs": [],
   "source": [
    "Point(4,5)"
   ]
  },
  {
   "cell_type": "code",
   "execution_count": null,
   "metadata": {
    "collapsed": false
   },
   "outputs": [],
   "source": [
    "print(Point(4,5))"
   ]
  },
  {
   "cell_type": "code",
   "execution_count": null,
   "metadata": {
    "collapsed": false
   },
   "outputs": [],
   "source": [
    "[Point(2,5), Point(1,1), Point(5,6)]"
   ]
  },
  {
   "cell_type": "markdown",
   "metadata": {},
   "source": [
    "### Another example"
   ]
  },
  {
   "cell_type": "code",
   "execution_count": null,
   "metadata": {
    "collapsed": false
   },
   "outputs": [],
   "source": [
    "require(\"Enum\")\n",
    "\n",
    "using Calendar\n",
    "   type LogMessage\n",
    "     stamped::CalendarTime\n",
    "     msgstat::MsgStatus\n",
    "     message::String\n",
    "end\n",
    "   import Base.show\n",
    "   show(m::LogMessage) =\n",
    "   print(\"$(m.stamped): $(m.msgstat) >> $(m.message)\")\n",
    "   msg = LogMessage(Calendar.now(), WARN, \"Be very afraid\")\n",
    "   show(msg)"
   ]
  },
  {
   "cell_type": "markdown",
   "metadata": {},
   "source": [
    "### The importance of declaring code inside functions"
   ]
  },
  {
   "cell_type": "code",
   "execution_count": 857,
   "metadata": {
    "collapsed": false
   },
   "outputs": [
    {
     "name": "stdout",
     "output_type": "stream",
     "text": [
      " 18.365446 seconds (385.29 M allocations: 7.232 GB, 4.29% gc time)\n"
     ]
    }
   ],
   "source": [
    "@time begin\n",
    "pos = 0\n",
    "num_steps = 10^4\n",
    "numwalkers = 10^4\n",
    "final_square_positions = Int[]\n",
    "\n",
    "for i in 1:numwalkers\n",
    "    for j in 1:num_steps\n",
    "        pos += ifelse( rand() < 0.5, -1, +1)\n",
    "    end\n",
    "        push!(final_square_positions, pos^2)\n",
    "end\n",
    "    \n",
    "end"
   ]
  },
  {
   "cell_type": "code",
   "execution_count": 858,
   "metadata": {
    "collapsed": false
   },
   "outputs": [
    {
     "data": {
      "text/plain": [
       "fool_function (generic function with 1 method)"
      ]
     },
     "execution_count": 858,
     "metadata": {},
     "output_type": "execute_result"
    }
   ],
   "source": [
    "function fool_function()\n",
    "    pos = 0\n",
    "    num_steps = 10^4\n",
    "    numwalkers = 10^4\n",
    "    final_square_positions = Int[]\n",
    "\n",
    "    for i in 1:numwalkers\n",
    "        for j in 1:num_steps\n",
    "            pos += ifelse( rand() < 0.5, -1, +1)\n",
    "        end\n",
    "            push!(final_square_positions, pos^2)\n",
    "    end\n",
    "end"
   ]
  },
  {
   "cell_type": "code",
   "execution_count": 859,
   "metadata": {
    "collapsed": false
   },
   "outputs": [
    {
     "name": "stdout",
     "output_type": "stream",
     "text": [
      "  0.347206 seconds (4.89 k allocations: 473.591 KB)\n"
     ]
    }
   ],
   "source": [
    "@time fool_function()"
   ]
  },
  {
   "cell_type": "code",
   "execution_count": null,
   "metadata": {
    "collapsed": true
   },
   "outputs": [],
   "source": []
  }
 ],
 "metadata": {
  "kernelspec": {
   "display_name": "Julia 0.5.0",
   "language": "julia",
   "name": "julia-0.5"
  },
  "language_info": {
   "file_extension": ".jl",
   "mimetype": "application/julia",
   "name": "julia",
   "version": "0.5.0"
  }
 },
 "nbformat": 4,
 "nbformat_minor": 0
}
