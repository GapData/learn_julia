{
 "cells": [
  {
   "cell_type": "markdown",
   "metadata": {},
   "source": [
    "# High performant Julia code\n",
    "\n",
    "\n",
    "#### Devectorize and NumericExtensions packages\n",
    "\n",
    "- https://github.com/lindahua/NumericExtensions.jl\n",
    "- https://github.com/lindahua/Devectorize.jl\n",
    "\n",
    "\n",
    "#### Write non vectorized code\n",
    "\n",
    "- http://www.juliabloggers.com/fast-numeric-computation-in-julia/\n",
    "\n",
    "\n",
    "\n",
    "#### Using SIMD instructions in Julia \n",
    "- http://ucidatascienceinitiative.github.io/IntroToJulia/Slides/HPCJulia#/\n",
    "\n",
    "- http://www.juliabloggers.com/optimizing-julia-for-performance-a-practical-example/\n",
    "\n",
    "- https://github.com/eschnett/SIMD.jl"
   ]
  },
  {
   "cell_type": "markdown",
   "metadata": {},
   "source": [
    "# Part 1\n",
    "\n",
    "## Example montecarlo pi estimate\n",
    "\n",
    "Let us play with an example from \n",
    "\n"
   ]
  },
  {
   "cell_type": "code",
   "execution_count": null,
   "metadata": {
    "collapsed": false
   },
   "outputs": [],
   "source": [
    "n_cores = 4"
   ]
  },
  {
   "cell_type": "code",
   "execution_count": null,
   "metadata": {
    "collapsed": false
   },
   "outputs": [],
   "source": [
    "workers()"
   ]
  },
  {
   "cell_type": "code",
   "execution_count": null,
   "metadata": {
    "collapsed": false
   },
   "outputs": [],
   "source": [
    "addprocs(4) "
   ]
  },
  {
   "cell_type": "code",
   "execution_count": null,
   "metadata": {
    "collapsed": false
   },
   "outputs": [],
   "source": [
    "workers()"
   ]
  },
  {
   "cell_type": "code",
   "execution_count": null,
   "metadata": {
    "collapsed": false
   },
   "outputs": [],
   "source": [
    "@everywhere function compute_pi(N::Int)\n",
    "    \"\"\"\n",
    "    Compute pi with a Monte Carlo simulation of N darts thrown in [-1,1]^2\n",
    "    Returns estimate of pi\n",
    "    \"\"\"\n",
    "    # counts number of points that have radial coordinate < 1, i.e. in circle\n",
    "    n_landed_in_circle = 0  \n",
    "    for i = 1:N\n",
    "        x = rand() * 2 - 1  # uniformly distributed number on x-axis\n",
    "        y = rand() * 2 - 1  # uniformly distributed number on y-axis\n",
    "\n",
    "        r2 = x*x + y*y  # radius squared, in radial coordinates\n",
    "        if r2 < 1.0\n",
    "            n_landed_in_circle += 1\n",
    "        end\n",
    "    end\n",
    "\n",
    "    return n_landed_in_circle / N * 4.0    \n",
    "end"
   ]
  },
  {
   "cell_type": "code",
   "execution_count": null,
   "metadata": {
    "collapsed": false
   },
   "outputs": [],
   "source": [
    "compute_pi(10)\n",
    "\n",
    "@time compute_pi(1000_000_000)"
   ]
  },
  {
   "cell_type": "markdown",
   "metadata": {},
   "source": [
    "#### Let us go parallel"
   ]
  },
  {
   "cell_type": "code",
   "execution_count": null,
   "metadata": {
    "collapsed": false
   },
   "outputs": [],
   "source": [
    "N = Int(1_000_000_000)"
   ]
  },
  {
   "cell_type": "code",
   "execution_count": null,
   "metadata": {
    "collapsed": false
   },
   "outputs": [],
   "source": [
    "result = pmap(compute_pi, [Int(N/n_cores) for core in 1:n_cores])"
   ]
  },
  {
   "cell_type": "code",
   "execution_count": null,
   "metadata": {
    "collapsed": false
   },
   "outputs": [],
   "source": [
    "@time mean(pmap(compute_pi,[Int(N/n_cores) for core in 1:n_cores]))"
   ]
  },
  {
   "cell_type": "code",
   "execution_count": null,
   "metadata": {
    "collapsed": false
   },
   "outputs": [],
   "source": [
    "function par_pi_computation(N::Int64; ncores::Int64=4)\n",
    "    \"\"\"\n",
    "    Compute pi in parallel, over ncores cores, with a Monte Carlo simulation throwing N total darts\n",
    "    \"\"\"\n",
    "\n",
    "    # compute sum of pi's estimated among all cores in parallel\n",
    "    sum_of_pis = @parallel (+) for i=1:ncores\n",
    "        compute_pi(Int(N / ncores))\n",
    "    end\n",
    "\n",
    "    return sum_of_pis / ncores  # average value\n",
    "end"
   ]
  },
  {
   "cell_type": "code",
   "execution_count": null,
   "metadata": {
    "collapsed": false
   },
   "outputs": [],
   "source": [
    "@time par_pi_computation(1000_000_000)"
   ]
  },
  {
   "cell_type": "markdown",
   "metadata": {},
   "source": [
    "# Part 2 L2 norm\n",
    "### Let us test the numpy-matlab way"
   ]
  },
  {
   "cell_type": "code",
   "execution_count": 1,
   "metadata": {
    "collapsed": false
   },
   "outputs": [],
   "source": [
    "#srand(1234)\n",
    "len = 100000;\n",
    "\n",
    "x = randn(len);\n",
    "y = randn(len);"
   ]
  },
  {
   "cell_type": "code",
   "execution_count": 5,
   "metadata": {
    "collapsed": false
   },
   "outputs": [
    {
     "name": "stdout",
     "output_type": "stream",
     "text": [
      "  0.001707 seconds (12 allocations: 1.526 MB)\n"
     ]
    },
    {
     "data": {
      "text/plain": [
       "2.0019735660543594"
      ]
     },
     "execution_count": 5,
     "metadata": {},
     "output_type": "execute_result"
    }
   ],
   "source": [
    "@time begin sum((x - y).^2)./length(x) end"
   ]
  },
  {
   "cell_type": "code",
   "execution_count": null,
   "metadata": {
    "collapsed": false
   },
   "outputs": [],
   "source": [
    "print(@benchmark sum((x - y).^2)/length(x))"
   ]
  },
  {
   "cell_type": "markdown",
   "metadata": {},
   "source": [
    "#### For loop "
   ]
  },
  {
   "cell_type": "code",
   "execution_count": null,
   "metadata": {
    "collapsed": false
   },
   "outputs": [],
   "source": [
    "function l2_squared(x::Array{Float64},y::Array{Float64})\n",
    "    norm = 0.\n",
    "    for i in 1:length(x)\n",
    "        norm = norm + (x[i] - y[i])^2\n",
    "    end\n",
    "    return norm/length(x)\n",
    "end"
   ]
  },
  {
   "cell_type": "code",
   "execution_count": null,
   "metadata": {
    "collapsed": false
   },
   "outputs": [],
   "source": [
    "@time l2_squared(x,y)"
   ]
  },
  {
   "cell_type": "code",
   "execution_count": null,
   "metadata": {
    "collapsed": false
   },
   "outputs": [],
   "source": [
    "print(@benchmark l2_squared(x,y))"
   ]
  },
  {
   "cell_type": "markdown",
   "metadata": {},
   "source": [
    "#### Only inbounds does not make any improvements"
   ]
  },
  {
   "cell_type": "code",
   "execution_count": 6,
   "metadata": {
    "collapsed": false
   },
   "outputs": [
    {
     "data": {
      "text/plain": [
       "l2_squared_inbounds (generic function with 1 method)"
      ]
     },
     "execution_count": 6,
     "metadata": {},
     "output_type": "execute_result"
    }
   ],
   "source": [
    "function l2_squared_inbounds(x::Array{Float64},y::Array{Float64})\n",
    "    norm = 0.\n",
    "    @inbounds begin\n",
    "    for i in 1:length(x)\n",
    "         norm += (x[i] - y[i])^2\n",
    "        end\n",
    "    end\n",
    "    return norm/length(x)\n",
    "end"
   ]
  },
  {
   "cell_type": "code",
   "execution_count": 7,
   "metadata": {
    "collapsed": false
   },
   "outputs": [
    {
     "name": "stdout",
     "output_type": "stream",
     "text": [
      "  0.008037 seconds (2.32 k allocations: 105.927 KB)\n"
     ]
    },
    {
     "data": {
      "text/plain": [
       "2.0019735660543767"
      ]
     },
     "execution_count": 7,
     "metadata": {},
     "output_type": "execute_result"
    }
   ],
   "source": [
    "@time l2_squared_inbounds(x,y)"
   ]
  },
  {
   "cell_type": "code",
   "execution_count": null,
   "metadata": {
    "collapsed": false
   },
   "outputs": [],
   "source": [
    "print(@benchmark l2_squared_inbounds(x,y))"
   ]
  },
  {
   "cell_type": "markdown",
   "metadata": {},
   "source": [
    "#### improve speed l2_squared with simd\n",
    "\n",
    "We will use now the @simd macro in a for loop. Notice that this does not make every loop faster. In particular, note that using SIMD implies that the order of operations within and across the loop might change. This macro tells the compiler that reordering will be safe before it attempts to parallelize a loop. Therefore, before adding @simd annotation to your code, you need to ensure that the loop has the following properties:\n",
    "\n",
    "- All iterations of the loop are independent of each other.  No iteration of the loop uses a value from a previous iteration or waits for its completion.\n",
    "   \n",
    "   \n",
    "- The arrays being operated upon within the loop do not overlap in memory.\n",
    "\n",
    "\n",
    "-  The loop body is straight-line code without branches or function calls.\n",
    "\n",
    "\n",
    "-   The number of iterations of the loop is obvious. In practical terms, this means that the loop should typically be expressed on the length of the arrays within it.\n",
    "\n",
    "\n",
    "- The subscript (or index variable) within the loop changes by one for each iteration. In other words, the subscript is unit stride.\n",
    "\n",
    "\n",
    "- Bounds checking is disabled for SIMD loops. (Bound checking can cause branches due to exceptional conditions.)\n"
   ]
  },
  {
   "cell_type": "code",
   "execution_count": null,
   "metadata": {
    "collapsed": false
   },
   "outputs": [],
   "source": [
    "typeof(x)"
   ]
  },
  {
   "cell_type": "code",
   "execution_count": null,
   "metadata": {
    "collapsed": false
   },
   "outputs": [],
   "source": [
    "function l2_squared_inbounds_simd(x::Array{Float64},y::Array{Float64})\n",
    "    norm = 0.\n",
    "    n = length(x)\n",
    "    @inbounds @simd for i in 1:n\n",
    "             norm += (x[i] - y[i])^2\n",
    "        end\n",
    "\n",
    "    return norm/length(x)\n",
    "end"
   ]
  },
  {
   "cell_type": "code",
   "execution_count": null,
   "metadata": {
    "collapsed": false
   },
   "outputs": [],
   "source": [
    "@time l2_squared_inbounds_simd(x,y)"
   ]
  },
  {
   "cell_type": "code",
   "execution_count": null,
   "metadata": {
    "collapsed": false
   },
   "outputs": [],
   "source": [
    "print(@benchmark l2_squared_inbounds_simd(x,y))"
   ]
  },
  {
   "cell_type": "markdown",
   "metadata": {},
   "source": [
    "#### SIMD instructions might benefit of lower precision floats"
   ]
  },
  {
   "cell_type": "code",
   "execution_count": null,
   "metadata": {
    "collapsed": false
   },
   "outputs": [],
   "source": [
    "len = 100000\n",
    "srand(1234)\n",
    "x32 = Array{Float32}(randn(len));\n",
    "y32 = Array{Float32}(randn(len));\n",
    "\n",
    "function l2_squared_inbounds_simd(x::Array{Float32},y::Array{Float32})\n",
    "    norm = 0.\n",
    "    n = length(x)\n",
    "    @inbounds @simd for i in 1:n\n",
    "             norm += (x[i] - y[i])^2\n",
    "        end\n",
    "\n",
    "    return norm/length(x)\n",
    "end"
   ]
  },
  {
   "cell_type": "code",
   "execution_count": null,
   "metadata": {
    "collapsed": false
   },
   "outputs": [],
   "source": [
    "@time l2_squared_inbounds_simd(x32,y32)"
   ]
  },
  {
   "cell_type": "code",
   "execution_count": null,
   "metadata": {
    "collapsed": true
   },
   "outputs": [],
   "source": [
    "using BenchmarkTools"
   ]
  },
  {
   "cell_type": "code",
   "execution_count": null,
   "metadata": {
    "collapsed": false
   },
   "outputs": [],
   "source": [
    "print(@benchmark l2_squared_inbounds_simd(x32,y32))"
   ]
  },
  {
   "cell_type": "markdown",
   "metadata": {},
   "source": [
    "#### Go to float 16 -> No improvement !"
   ]
  },
  {
   "cell_type": "code",
   "execution_count": null,
   "metadata": {
    "collapsed": false
   },
   "outputs": [],
   "source": [
    "srand(1234)\n",
    "len = 100000\n",
    "\n",
    "x16 = Array{Float16}(randn(len));\n",
    "y16 = Array{Float16}(randn(len));\n",
    "\n",
    "function l2_squared_inbounds_simd(x::Array{Float16},y::Array{Float16})\n",
    "    norm = 0.\n",
    "    l = Float16(length(x))\n",
    "    @inbounds @simd for i in 1:length(x)\n",
    "             norm += (x[i] - y[i])^2\n",
    "        end\n",
    "\n",
    "    return norm/l\n",
    "end"
   ]
  },
  {
   "cell_type": "code",
   "execution_count": null,
   "metadata": {
    "collapsed": false
   },
   "outputs": [],
   "source": [
    "@time l2_squared_inbounds_simd(x16,y16)"
   ]
  },
  {
   "cell_type": "code",
   "execution_count": null,
   "metadata": {
    "collapsed": false
   },
   "outputs": [],
   "source": [
    "print(@benchmark l2_squared_inbounds_simd(x16,y16))"
   ]
  },
  {
   "cell_type": "markdown",
   "metadata": {},
   "source": [
    "# Using Yeppp for math operations \n",
    "\n",
    "I found this particulary uggly (having a Yeppp before evey operation is not pretty).\n",
    "\n",
    "\n",
    "It would be nice to know how to create an alias and use all implementations from Yeppp without\n",
    "writting Yeppp every time.\n",
    "\n",
    "- http://www.yeppp.info/#arguments"
   ]
  },
  {
   "cell_type": "code",
   "execution_count": null,
   "metadata": {
    "collapsed": true
   },
   "outputs": [],
   "source": [
    "using Yeppp "
   ]
  },
  {
   "cell_type": "code",
   "execution_count": null,
   "metadata": {
    "collapsed": false
   },
   "outputs": [],
   "source": [
    "@time Yeppp.sin(x);"
   ]
  },
  {
   "cell_type": "code",
   "execution_count": null,
   "metadata": {
    "collapsed": false
   },
   "outputs": [],
   "source": [
    "@time [sin(xi) for xi in x];"
   ]
  },
  {
   "cell_type": "code",
   "execution_count": null,
   "metadata": {
    "collapsed": false
   },
   "outputs": [],
   "source": [
    "@time Yeppp.exp(x)/Yeppp.sum(x);"
   ]
  },
  {
   "cell_type": "code",
   "execution_count": null,
   "metadata": {
    "collapsed": false
   },
   "outputs": [],
   "source": [
    "@time exp(x)/sum(x);"
   ]
  },
  {
   "cell_type": "markdown",
   "metadata": {},
   "source": [
    "# Parallel Accelerator\n",
    "\n",
    "- https://github.com/IntelLabs/ParallelAccelerator.jl"
   ]
  }
 ],
 "metadata": {
  "kernelspec": {
   "display_name": "Julia 0.5.0",
   "language": "julia",
   "name": "julia-0.5"
  },
  "language_info": {
   "file_extension": ".jl",
   "mimetype": "application/julia",
   "name": "julia",
   "version": "0.5.0"
  }
 },
 "nbformat": 4,
 "nbformat_minor": 0
}
