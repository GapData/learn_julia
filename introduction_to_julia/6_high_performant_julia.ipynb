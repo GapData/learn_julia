{
 "cells": [
  {
   "cell_type": "markdown",
   "metadata": {},
   "source": [
    "# High performant Julia code\n",
    "\n",
    "\n",
    "#### Devectorize and NumericExtensions packages\n",
    "\n",
    "- https://github.com/lindahua/NumericExtensions.jl\n",
    "- https://github.com/lindahua/Devectorize.jl\n",
    "\n",
    "\n",
    "#### Write non vectorized code\n",
    "\n",
    "- http://www.juliabloggers.com/fast-numeric-computation-in-julia/\n",
    "\n",
    "\n",
    "\n",
    "#### Using SIMD instructions in Julia \n",
    "- http://ucidatascienceinitiative.github.io/IntroToJulia/Slides/HPCJulia#/\n",
    "\n",
    "- http://www.juliabloggers.com/optimizing-julia-for-performance-a-practical-example/\n",
    "\n",
    "- https://github.com/eschnett/SIMD.jl"
   ]
  },
  {
   "cell_type": "markdown",
   "metadata": {},
   "source": [
    "#### Let us test the numpy-matlab way"
   ]
  },
  {
   "cell_type": "code",
   "execution_count": 132,
   "metadata": {
    "collapsed": false
   },
   "outputs": [
    {
     "data": {
      "text/plain": [
       "true"
      ]
     },
     "execution_count": 132,
     "metadata": {},
     "output_type": "execute_result"
    }
   ],
   "source": [
    "dot(x,x')>0."
   ]
  },
  {
   "cell_type": "code",
   "execution_count": null,
   "metadata": {
    "collapsed": true
   },
   "outputs": [],
   "source": [
    "x*x'>0"
   ]
  },
  {
   "cell_type": "code",
   "execution_count": 115,
   "metadata": {
    "collapsed": false
   },
   "outputs": [],
   "source": [
    "srand(1234)\n",
    "len = 100000;\n",
    "\n",
    "x = randn(len);\n",
    "y = randn(len);"
   ]
  },
  {
   "cell_type": "code",
   "execution_count": 116,
   "metadata": {
    "collapsed": true
   },
   "outputs": [],
   "source": [
    "# optimized version\n",
    "# 0.000081 seconds (5 allocations: 176 bytes)"
   ]
  },
  {
   "cell_type": "code",
   "execution_count": 122,
   "metadata": {
    "collapsed": false
   },
   "outputs": [
    {
     "name": "stdout",
     "output_type": "stream",
     "text": [
      "  0.000412 seconds (9 allocations: 781.531 KB)\n"
     ]
    },
    {
     "data": {
      "text/plain": [
       "2.002124027318451"
      ]
     },
     "execution_count": 122,
     "metadata": {},
     "output_type": "execute_result"
    }
   ],
   "source": [
    "@time begin a=x-y; dot(a,a)/length(a) end"
   ]
  },
  {
   "cell_type": "code",
   "execution_count": 120,
   "metadata": {
    "collapsed": false
   },
   "outputs": [
    {
     "name": "stdout",
     "output_type": "stream",
     "text": [
      "  0.035292 seconds (6.07 k allocations: 1.816 MB)\n"
     ]
    },
    {
     "data": {
      "text/plain": [
       "2.0021240273184535"
      ]
     },
     "execution_count": 120,
     "metadata": {},
     "output_type": "execute_result"
    }
   ],
   "source": [
    "@time begin sum((x - y).^2)./length(x) end"
   ]
  },
  {
   "cell_type": "code",
   "execution_count": 63,
   "metadata": {
    "collapsed": false
   },
   "outputs": [
    {
     "data": {
      "text/plain": [
       "365.8536585365853"
      ]
     },
     "execution_count": 63,
     "metadata": {},
     "output_type": "execute_result"
    }
   ],
   "source": [
    "0.03/0.000082 "
   ]
  },
  {
   "cell_type": "code",
   "execution_count": 514,
   "metadata": {
    "collapsed": false
   },
   "outputs": [
    {
     "name": "stdout",
     "output_type": "stream",
     "text": [
      "BenchmarkTools.Trial: \n",
      "  memory estimate:  1.53 mb\n",
      "  allocs estimate:  30\n",
      "  --------------\n",
      "  minimum time:     308.366 μs (0.00% GC)\n",
      "  median time:      731.433 μs (0.00% GC)\n",
      "  mean time:        838.502 μs (17.75% GC)\n",
      "  maximum time:     4.225 ms (66.62% GC)\n",
      "  --------------\n",
      "  samples:          5945\n",
      "  evals/sample:     1\n",
      "  time tolerance:   5.00%\n",
      "  memory tolerance: 1.00%"
     ]
    }
   ],
   "source": [
    "print(@benchmark sum((x - y).^2)/length(x))"
   ]
  },
  {
   "cell_type": "markdown",
   "metadata": {},
   "source": [
    "#### For loop "
   ]
  },
  {
   "cell_type": "code",
   "execution_count": 32,
   "metadata": {
    "collapsed": false
   },
   "outputs": [
    {
     "data": {
      "text/plain": [
       "l2_squared (generic function with 1 method)"
      ]
     },
     "execution_count": 32,
     "metadata": {},
     "output_type": "execute_result"
    }
   ],
   "source": [
    "function l2_squared(x::Array{Float64},y::Array{Float64})\n",
    "    norm = 0.\n",
    "    for i in 1:length(x)\n",
    "        norm = norm + (x[i] - y[i])^2\n",
    "    end\n",
    "    return norm/length(x)\n",
    "end"
   ]
  },
  {
   "cell_type": "code",
   "execution_count": 84,
   "metadata": {
    "collapsed": false
   },
   "outputs": [
    {
     "name": "stdout",
     "output_type": "stream",
     "text": [
      "  0.000211 seconds (5 allocations: 176 bytes)\n"
     ]
    },
    {
     "data": {
      "text/plain": [
       "2.0021240273184464"
      ]
     },
     "execution_count": 84,
     "metadata": {},
     "output_type": "execute_result"
    }
   ],
   "source": [
    "@time l2_squared(x,y)"
   ]
  },
  {
   "cell_type": "code",
   "execution_count": 46,
   "metadata": {
    "collapsed": false
   },
   "outputs": [
    {
     "ename": "LoadError",
     "evalue": "\u001b[91mUndefVarError: @benchmark not defined\u001b[39m",
     "output_type": "error",
     "traceback": [
      "\u001b[91mUndefVarError: @benchmark not defined\u001b[39m",
      ""
     ]
    }
   ],
   "source": [
    "print(@benchmark l2_squared(x,y))"
   ]
  },
  {
   "cell_type": "markdown",
   "metadata": {},
   "source": [
    "#### Only inbounds does not make any improvements"
   ]
  },
  {
   "cell_type": "code",
   "execution_count": 76,
   "metadata": {
    "collapsed": false
   },
   "outputs": [
    {
     "data": {
      "text/plain": [
       "l2_squared_inbounds (generic function with 1 method)"
      ]
     },
     "execution_count": 76,
     "metadata": {},
     "output_type": "execute_result"
    }
   ],
   "source": [
    "function l2_squared_inbounds(x::Array{Float64},y::Array{Float64})\n",
    "    norm = 0.\n",
    "    @inbounds begin\n",
    "    for i in 1:length(x)\n",
    "         norm += (x[i] - y[i])^2\n",
    "        end\n",
    "    end\n",
    "    return norm/length(x)\n",
    "end"
   ]
  },
  {
   "cell_type": "code",
   "execution_count": 83,
   "metadata": {
    "collapsed": false
   },
   "outputs": [
    {
     "name": "stdout",
     "output_type": "stream",
     "text": [
      "  0.000200 seconds (5 allocations: 176 bytes)\n"
     ]
    },
    {
     "data": {
      "text/plain": [
       "2.0021240273184464"
      ]
     },
     "execution_count": 83,
     "metadata": {},
     "output_type": "execute_result"
    }
   ],
   "source": [
    "@time l2_squared_inbounds(x,y)"
   ]
  },
  {
   "cell_type": "code",
   "execution_count": 511,
   "metadata": {
    "collapsed": false
   },
   "outputs": [
    {
     "name": "stdout",
     "output_type": "stream",
     "text": [
      "BenchmarkTools.Trial: \n",
      "  memory estimate:  16.00 bytes\n",
      "  allocs estimate:  1\n",
      "  --------------\n",
      "  minimum time:     91.080 μs (0.00% GC)\n",
      "  median time:      91.523 μs (0.00% GC)\n",
      "  mean time:        102.975 μs (0.00% GC)\n",
      "  maximum time:     720.031 μs (0.00% GC)\n",
      "  --------------\n",
      "  samples:          10000\n",
      "  evals/sample:     1\n",
      "  time tolerance:   5.00%\n",
      "  memory tolerance: 1.00%"
     ]
    }
   ],
   "source": [
    "print(@benchmark l2_squared_inbounds(x,y))"
   ]
  },
  {
   "cell_type": "markdown",
   "metadata": {},
   "source": [
    "#### improve speed l2_squared with simd\n",
    "\n",
    "We will use now the @simd macro in a for loop. Notice that this does not make every loop faster. In particular, note that using SIMD implies that the order of operations within and across the loop might change. This macro tells the compiler that reordering will be safe before it attempts to parallelize a loop. Therefore, before adding @simd annotation to your code, you need to ensure that the loop has the following properties:\n",
    "\n",
    "- All iterations of the loop are independent of each other.  No iteration of the loop uses a value from a previous iteration or waits for its completion.\n",
    "   \n",
    "   \n",
    "- The arrays being operated upon within the loop do not overlap in memory.\n",
    "\n",
    "\n",
    "-  The loop body is straight-line code without branches or function calls.\n",
    "\n",
    "\n",
    "-   The number of iterations of the loop is obvious. In practical terms, this means that the loop should typically be expressed on the length of the arrays within it.\n",
    "\n",
    "\n",
    "- The subscript (or index variable) within the loop changes by one for each iteration. In other words, the subscript is unit stride.\n",
    "\n",
    "\n",
    "- Bounds checking is disabled for SIMD loops. (Bound checking can cause branches due to exceptional conditions.)\n"
   ]
  },
  {
   "cell_type": "code",
   "execution_count": 364,
   "metadata": {
    "collapsed": false
   },
   "outputs": [
    {
     "data": {
      "text/plain": [
       "Array{Float64,1}"
      ]
     },
     "execution_count": 364,
     "metadata": {},
     "output_type": "execute_result"
    }
   ],
   "source": [
    "typeof(x)"
   ]
  },
  {
   "cell_type": "code",
   "execution_count": 471,
   "metadata": {
    "collapsed": false
   },
   "outputs": [
    {
     "data": {
      "text/plain": [
       "l2_squared_inbounds_simd (generic function with 4 methods)"
      ]
     },
     "execution_count": 471,
     "metadata": {},
     "output_type": "execute_result"
    }
   ],
   "source": [
    "function l2_squared_inbounds_simd(x::Array{Float64},y::Array{Float64})\n",
    "    norm = 0.\n",
    "    n = length(x)\n",
    "    @inbounds @simd for i in 1:n\n",
    "             norm += (x[i] - y[i])^2\n",
    "        end\n",
    "\n",
    "    return norm/length(x)\n",
    "end"
   ]
  },
  {
   "cell_type": "code",
   "execution_count": 473,
   "metadata": {
    "collapsed": false
   },
   "outputs": [
    {
     "name": "stdout",
     "output_type": "stream",
     "text": [
      "  0.000135 seconds (5 allocations: 176 bytes)\n"
     ]
    },
    {
     "data": {
      "text/plain": [
       "2.0021240273184526"
      ]
     },
     "execution_count": 473,
     "metadata": {},
     "output_type": "execute_result"
    }
   ],
   "source": [
    "@time l2_squared_inbounds_simd(x,y)"
   ]
  },
  {
   "cell_type": "code",
   "execution_count": 474,
   "metadata": {
    "collapsed": false
   },
   "outputs": [
    {
     "name": "stdout",
     "output_type": "stream",
     "text": [
      "BenchmarkTools.Trial: \n",
      "  memory estimate:  16.00 bytes\n",
      "  allocs estimate:  1\n",
      "  --------------\n",
      "  minimum time:     44.055 μs (0.00% GC)\n",
      "  median time:      44.524 μs (0.00% GC)\n",
      "  mean time:        48.039 μs (0.00% GC)\n",
      "  maximum time:     177.770 μs (0.00% GC)\n",
      "  --------------\n",
      "  samples:          10000\n",
      "  evals/sample:     1\n",
      "  time tolerance:   5.00%\n",
      "  memory tolerance: 1.00%"
     ]
    }
   ],
   "source": [
    "print(@benchmark l2_squared_inbounds_simd(x,y))"
   ]
  },
  {
   "cell_type": "markdown",
   "metadata": {},
   "source": [
    "#### SIMD instructions might benefit of lower precision floats"
   ]
  },
  {
   "cell_type": "code",
   "execution_count": 109,
   "metadata": {
    "collapsed": false
   },
   "outputs": [
    {
     "data": {
      "text/plain": [
       "l2_squared_inbounds_simd (generic function with 1 method)"
      ]
     },
     "execution_count": 109,
     "metadata": {},
     "output_type": "execute_result"
    }
   ],
   "source": [
    "len = 100000\n",
    "srand(1234)\n",
    "x32 = Array{Float32}(randn(len));\n",
    "y32 = Array{Float32}(randn(len));\n",
    "\n",
    "function l2_squared_inbounds_simd(x::Array{Float32},y::Array{Float32})\n",
    "    norm = 0.\n",
    "    n = length(x)\n",
    "    @inbounds @simd for i in 1:n\n",
    "             norm += (x[i] - y[i])^2\n",
    "        end\n",
    "\n",
    "    return norm/length(x)\n",
    "end"
   ]
  },
  {
   "cell_type": "code",
   "execution_count": 114,
   "metadata": {
    "collapsed": false
   },
   "outputs": [
    {
     "name": "stdout",
     "output_type": "stream",
     "text": [
      "  0.000081 seconds (5 allocations: 176 bytes)\n"
     ]
    },
    {
     "data": {
      "text/plain": [
       "2.002124028294853"
      ]
     },
     "execution_count": 114,
     "metadata": {},
     "output_type": "execute_result"
    }
   ],
   "source": [
    "@time l2_squared_inbounds_simd(x32,y32)"
   ]
  },
  {
   "cell_type": "code",
   "execution_count": 464,
   "metadata": {
    "collapsed": true
   },
   "outputs": [],
   "source": [
    "using BenchmarkTools"
   ]
  },
  {
   "cell_type": "code",
   "execution_count": 518,
   "metadata": {
    "collapsed": false
   },
   "outputs": [
    {
     "name": "stdout",
     "output_type": "stream",
     "text": [
      "BenchmarkTools.Trial: \n",
      "  memory estimate:  16.00 bytes\n",
      "  allocs estimate:  1\n",
      "  --------------\n",
      "  minimum time:     39.090 μs (0.00% GC)\n",
      "  median time:      39.354 μs (0.00% GC)\n",
      "  mean time:        44.881 μs (0.00% GC)\n",
      "  maximum time:     195.329 μs (0.00% GC)\n",
      "  --------------\n",
      "  samples:          10000\n",
      "  evals/sample:     1\n",
      "  time tolerance:   5.00%\n",
      "  memory tolerance: 1.00%"
     ]
    }
   ],
   "source": [
    "print(@benchmark l2_squared_inbounds_simd(x32,y32))"
   ]
  },
  {
   "cell_type": "markdown",
   "metadata": {},
   "source": [
    "#### Go to float 16 -> No improvement !"
   ]
  },
  {
   "cell_type": "code",
   "execution_count": 487,
   "metadata": {
    "collapsed": false
   },
   "outputs": [
    {
     "data": {
      "text/plain": [
       "l2_squared_inbounds_simd (generic function with 4 methods)"
      ]
     },
     "execution_count": 487,
     "metadata": {},
     "output_type": "execute_result"
    }
   ],
   "source": [
    "srand(1234)\n",
    "len = 100000\n",
    "\n",
    "x16 = Array{Float16}(randn(len));\n",
    "y16 = Array{Float16}(randn(len));\n",
    "\n",
    "function l2_squared_inbounds_simd(x::Array{Float16},y::Array{Float16})\n",
    "    norm = 0.\n",
    "    l = Float16(length(x))\n",
    "    @inbounds @simd for i in 1:length(x)\n",
    "             norm += (x[i] - y[i])^2\n",
    "        end\n",
    "\n",
    "    return norm/l\n",
    "end"
   ]
  },
  {
   "cell_type": "code",
   "execution_count": 491,
   "metadata": {
    "collapsed": false
   },
   "outputs": [
    {
     "name": "stdout",
     "output_type": "stream",
     "text": [
      "  0.005248 seconds (5 allocations: 176 bytes)\n"
     ]
    },
    {
     "data": {
      "text/plain": [
       "0.0"
      ]
     },
     "execution_count": 491,
     "metadata": {},
     "output_type": "execute_result"
    }
   ],
   "source": [
    "@time l2_squared_inbounds_simd(x16,y16)"
   ]
  },
  {
   "cell_type": "code",
   "execution_count": 493,
   "metadata": {
    "collapsed": false
   },
   "outputs": [
    {
     "name": "stdout",
     "output_type": "stream",
     "text": [
      "BenchmarkTools.Trial: \n",
      "  memory estimate:  16.00 bytes\n",
      "  allocs estimate:  1\n",
      "  --------------\n",
      "  minimum time:     3.616 ms (0.00% GC)\n",
      "  median time:      3.899 ms (0.00% GC)\n",
      "  mean time:        4.141 ms (0.00% GC)\n",
      "  maximum time:     16.481 ms (0.00% GC)\n",
      "  --------------\n",
      "  samples:          1207\n",
      "  evals/sample:     1\n",
      "  time tolerance:   5.00%\n",
      "  memory tolerance: 1.00%"
     ]
    }
   ],
   "source": [
    "print(@benchmark l2_squared_inbounds_simd(x16,y16))"
   ]
  },
  {
   "cell_type": "markdown",
   "metadata": {},
   "source": [
    "# Using Yeppp for math operations \n",
    "\n",
    "I found this particulary uggly (having a Yeppp before evey operation is not pretty).\n",
    "\n",
    "\n",
    "It would be nice to know how to create an alias and use all implementations from Yeppp without\n",
    "writting Yeppp every time.\n",
    "\n",
    "- http://www.yeppp.info/#arguments"
   ]
  },
  {
   "cell_type": "code",
   "execution_count": 521,
   "metadata": {
    "collapsed": true
   },
   "outputs": [],
   "source": [
    "using Yeppp "
   ]
  },
  {
   "cell_type": "code",
   "execution_count": 556,
   "metadata": {
    "collapsed": false
   },
   "outputs": [
    {
     "name": "stdout",
     "output_type": "stream",
     "text": [
      "  0.000454 seconds (6 allocations: 781.484 KB)\n"
     ]
    }
   ],
   "source": [
    "@time Yeppp.sin(x);"
   ]
  },
  {
   "cell_type": "code",
   "execution_count": 557,
   "metadata": {
    "collapsed": false
   },
   "outputs": [
    {
     "name": "stdout",
     "output_type": "stream",
     "text": [
      "  0.002067 seconds (7 allocations: 781.500 KB)\n"
     ]
    }
   ],
   "source": [
    "@time [sin(xi) for xi in x];"
   ]
  },
  {
   "cell_type": "code",
   "execution_count": 569,
   "metadata": {
    "collapsed": false
   },
   "outputs": [
    {
     "name": "stdout",
     "output_type": "stream",
     "text": [
      "  0.000557 seconds (10 allocations: 1.526 MB)\n"
     ]
    }
   ],
   "source": [
    "@time Yeppp.exp(x)/Yeppp.sum(x);"
   ]
  },
  {
   "cell_type": "code",
   "execution_count": 577,
   "metadata": {
    "collapsed": false
   },
   "outputs": [
    {
     "name": "stdout",
     "output_type": "stream",
     "text": [
      "  0.003806 seconds (79 allocations: 1.537 MB)\n"
     ]
    }
   ],
   "source": [
    "@time exp(x)/sum(x);"
   ]
  },
  {
   "cell_type": "markdown",
   "metadata": {},
   "source": [
    "# Parallel Accelerator\n",
    "\n",
    "- https://github.com/IntelLabs/ParallelAccelerator.jl"
   ]
  }
 ],
 "metadata": {
  "kernelspec": {
   "display_name": "Julia 0.6.0-dev",
   "language": "julia",
   "name": "julia-0.6"
  },
  "language_info": {
   "file_extension": ".jl",
   "mimetype": "application/julia",
   "name": "julia",
   "version": "0.6.0"
  }
 },
 "nbformat": 4,
 "nbformat_minor": 0
}
