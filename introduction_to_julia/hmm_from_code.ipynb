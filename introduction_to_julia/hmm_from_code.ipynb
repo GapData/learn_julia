{
 "cells": [
  {
   "cell_type": "markdown",
   "metadata": {},
   "source": [
    "### Use Hmm from hmm.jl"
   ]
  },
  {
   "cell_type": "code",
   "execution_count": 1,
   "metadata": {
    "collapsed": false
   },
   "outputs": [
    {
     "data": {
      "text/plain": [
       "fit! (generic function with 1 method)"
      ]
     },
     "execution_count": 1,
     "metadata": {},
     "output_type": "execute_result"
    }
   ],
   "source": [
    "include(\"hmm.jl\")"
   ]
  },
  {
   "cell_type": "code",
   "execution_count": 2,
   "metadata": {
    "collapsed": false
   },
   "outputs": [
    {
     "data": {
      "text/plain": [
       "build_sequences_from_data (generic function with 1 method)"
      ]
     },
     "execution_count": 2,
     "metadata": {},
     "output_type": "execute_result"
    }
   ],
   "source": [
    "function build_sequences_from_data(file_path; min_sequence_length_allowed=5)\n",
    "    f = open(file_path, \"r\")\n",
    "    lines = readlines(f)\n",
    "    sequences = Array{Sequence}([])\n",
    "    sequence_counter = 0\n",
    "    min_seq_length = min_sequence_length_allowed\n",
    "    max_seq_length = 0\n",
    "    words = Array{String}([])\n",
    "    tags = Array{String}([])\n",
    "\n",
    "    for line in lines\n",
    "        line_splitted = split(line, \"\\t\")\n",
    "\n",
    "        if line_splitted[1] == \"\\n\"\n",
    "            current_lenght = length(words)\n",
    "            \n",
    "            if (current_lenght < min_sequence_length_allowed) continue end\n",
    "            if (current_lenght < min_seq_length) min_seq_length = current_lenght end\n",
    "            if (current_lenght > max_seq_length) max_seq_length = current_lenght end\n",
    "            \n",
    "            push!(sequences, Sequence(words,tags))\n",
    "            words = Array{String}([])\n",
    "            tags = Array{String}([])\n",
    "            sequence_counter +=1\n",
    "        else\n",
    "            push!(words, line_splitted[2])\n",
    "            push!(tags, line_splitted[5])    \n",
    "        end\n",
    "    end\n",
    "    print(\"\\nNumber sequences: \", sequence_counter)\n",
    "    print(\"\\nMin sequence length: \", min_seq_length)\n",
    "    print(\"\\nMax sequence length: \", max_seq_length)\n",
    "    return sequences\n",
    "end"
   ]
  },
  {
   "cell_type": "code",
   "execution_count": 3,
   "metadata": {
    "collapsed": false
   },
   "outputs": [
    {
     "name": "stdout",
     "output_type": "stream",
     "text": [
      "\n",
      "Number sequences: 39642\n",
      "Min sequence length: 3\n",
      "Max sequence length: 141\n",
      "Number sequences: 1684\n",
      "Min sequence length: 3\n",
      "Max sequence length: 118\n",
      "Number sequences: 2408\n",
      "Min sequence length: 3\n",
      "Max sequence length: 67"
     ]
    }
   ],
   "source": [
    "file_path_train = homedir() * \"/Documents/Datasets/conll/train-02-21.conll\"\n",
    "file_path_valid = homedir() * \"/Documents/Datasets/conll/dev-22.conll\"\n",
    "file_path_test = homedir() * \"/Documents/Datasets/conll/test-23.conll\"\n",
    "\n",
    "train_seq = build_sequences_from_data(file_path_train, min_sequence_length_allowed=3);\n",
    "valid_seq = build_sequences_from_data(file_path_valid, min_sequence_length_allowed=3);\n",
    "test_seq = build_sequences_from_data(file_path_test, min_sequence_length_allowed=3);"
   ]
  },
  {
   "cell_type": "code",
   "execution_count": 4,
   "metadata": {
    "collapsed": false
   },
   "outputs": [
    {
     "data": {
      "text/plain": [
       "Hmm(Set{String}(),Set{String}(),Dict{String,Int64}(),Dict{String,Int64}(),Dict{Int64,String}(),Dict{Int64,String}(),Int64[],,,Int64[],Float64[],,,Float64[],false)"
      ]
     },
     "execution_count": 4,
     "metadata": {},
     "output_type": "execute_result"
    }
   ],
   "source": [
    "hmm = Hmm()"
   ]
  },
  {
   "cell_type": "code",
   "execution_count": 5,
   "metadata": {
    "collapsed": false
   },
   "outputs": [],
   "source": [
    "fit!(hmm, train_seq);"
   ]
  },
  {
   "cell_type": "code",
   "execution_count": 6,
   "metadata": {
    "collapsed": false
   },
   "outputs": [
    {
     "name": "stdout",
     "output_type": "stream",
     "text": [
      "119.219159 seconds (838.70 M allocations: 149.905 GB, 11.35% gc time)\n"
     ]
    }
   ],
   "source": [
    "@time begin\n",
    "    total_predicted_states = 0\n",
    "    total_correct = 0\n",
    "    for seq in train_seq\n",
    "        total_correct += sum(seq.labels .== posterior_decode(hmm, seq))\n",
    "        total_predicted_states += length(seq) \n",
    "    end\n",
    "end"
   ]
  },
  {
   "cell_type": "code",
   "execution_count": 7,
   "metadata": {
    "collapsed": false
   },
   "outputs": [
    {
     "name": "stdout",
     "output_type": "stream",
     "text": [
      "accuracy: 0.970337716362044"
     ]
    }
   ],
   "source": [
    "print(\"accuracy: \", total_correct/total_predicted_states)"
   ]
  },
  {
   "cell_type": "markdown",
   "metadata": {},
   "source": [
    "#### Paralelize evaluation"
   ]
  },
  {
   "cell_type": "code",
   "execution_count": 8,
   "metadata": {
    "collapsed": false
   },
   "outputs": [
    {
     "data": {
      "text/plain": [
       "4-element Array{Int64,1}:\n",
       " 2\n",
       " 3\n",
       " 4\n",
       " 5"
      ]
     },
     "execution_count": 8,
     "metadata": {},
     "output_type": "execute_result"
    }
   ],
   "source": [
    "addprocs(4) "
   ]
  },
  {
   "cell_type": "code",
   "execution_count": 20,
   "metadata": {
    "collapsed": false
   },
   "outputs": [],
   "source": [
    "@everywhere function evaluate(hmm,sequences)\n",
    "    total_predicted_states = 0\n",
    "    total_correct = 0\n",
    "    for seq in sequences\n",
    "        total_correct += sum(seq.labels .== posterior_decode(hmm, seq))\n",
    "        total_predicted_states += length(seq)\n",
    "        return total_correct, total_predicted_states\n",
    "    end \n",
    "   return total_correct, total_predicted_states\n",
    "end"
   ]
  },
  {
   "cell_type": "code",
   "execution_count": 27,
   "metadata": {
    "collapsed": false
   },
   "outputs": [],
   "source": [
    "#@everywhere include(\"hmm.jl\")"
   ]
  },
  {
   "cell_type": "code",
   "execution_count": 26,
   "metadata": {
    "collapsed": false
   },
   "outputs": [],
   "source": [
    "#time begin\n",
    "#    # Put the end-2 to make num workers divisible by trian size\n",
    "#    n = length(train_seq[1:end-2])\n",
    "#    n_processors = length(workers())\n",
    "#    splits_ind = [Int(x) for x in 1:(n/n_processors):(n+1)]    \n",
    "#    train_seq_splits = [train_seq[x:y-1] for (x,y) in zip(splits_ind[1:end-1], splits_ind[2:end])]\n",
    "#    res = pmap(evaluate, (hmm,train_seq_splits))\n",
    "#    result_paralel = count_reduce(res);\n",
    "#end"
   ]
  },
  {
   "cell_type": "markdown",
   "metadata": {},
   "source": [
    "#### Problem with the HMM:\n",
    "\n",
    "If a word is not observed during training you cannot use it to predict its tag!\n",
    "\n",
    "- \"Countered\" is not in tran but can be found in test_seq"
   ]
  },
  {
   "cell_type": "code",
   "execution_count": null,
   "metadata": {
    "collapsed": false
   },
   "outputs": [],
   "source": [
    "begin\n",
    "    total_predicted_states = 0\n",
    "    total_correct = 0\n",
    "    for seq in test_seq\n",
    "        total_correct += sum(seq.labels .== posterior_decode(hmm, seq))\n",
    "        total_predicted_states += length(seq) \n",
    "    end\n",
    "end"
   ]
  },
  {
   "cell_type": "code",
   "execution_count": null,
   "metadata": {
    "collapsed": true
   },
   "outputs": [],
   "source": []
  },
  {
   "cell_type": "code",
   "execution_count": null,
   "metadata": {
    "collapsed": true
   },
   "outputs": [],
   "source": []
  }
 ],
 "metadata": {
  "kernelspec": {
   "display_name": "Julia 0.5.0",
   "language": "julia",
   "name": "julia-0.5"
  },
  "language_info": {
   "file_extension": ".jl",
   "mimetype": "application/julia",
   "name": "julia",
   "version": "0.5.0"
  }
 },
 "nbformat": 4,
 "nbformat_minor": 0
}
