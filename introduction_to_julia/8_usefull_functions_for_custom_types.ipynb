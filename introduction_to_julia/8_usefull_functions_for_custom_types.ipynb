{
 "cells": [
  {
   "cell_type": "code",
   "execution_count": null,
   "metadata": {
    "collapsed": true
   },
   "outputs": [],
   "source": []
  },
  {
   "cell_type": "code",
   "execution_count": 47,
   "metadata": {
    "collapsed": false
   },
   "outputs": [],
   "source": [
    "\n",
    "T = rand(100,10);"
   ]
  },
  {
   "cell_type": "code",
   "execution_count": 60,
   "metadata": {
    "collapsed": false
   },
   "outputs": [
    {
     "data": {
      "text/plain": [
       "Dict{String,Int64} with 1 entry:\n",
       "  \"lala\" => 23"
      ]
     },
     "execution_count": 60,
     "metadata": {},
     "output_type": "execute_result"
    }
   ],
   "source": [
    "d = Dict(\"lala\"=>23)"
   ]
  },
  {
   "cell_type": "code",
   "execution_count": 61,
   "metadata": {
    "collapsed": false
   },
   "outputs": [
    {
     "name": "stderr",
     "output_type": "stream",
     "text": [
      "WARNING: Method definition longest_fieldname(Any) in module Main at In[52]:2 overwritten at In[61]:2.\n"
     ]
    },
    {
     "data": {
      "text/plain": [
       "longest_fieldname (generic function with 1 method)"
      ]
     },
     "execution_count": 61,
     "metadata": {},
     "output_type": "execute_result"
    }
   ],
   "source": [
    "function longest_fieldname(T)\n",
    "    if isempty(fieldnames(T))\n",
    "        l = 0\n",
    "    else\n",
    "        l = maximum(length.(string.(fieldnames(T))))\n",
    "    end\n",
    "    return l\n",
    "end"
   ]
  },
  {
   "cell_type": "code",
   "execution_count": 62,
   "metadata": {
    "collapsed": false
   },
   "outputs": [
    {
     "name": "stderr",
     "output_type": "stream",
     "text": [
      "WARNING: Method definition longest_fieldname2(Any) in module Main at In[53]:3 overwritten at In[62]:3.\n"
     ]
    },
    {
     "data": {
      "text/plain": [
       "longest_fieldname2 (generic function with 1 method)"
      ]
     },
     "execution_count": 62,
     "metadata": {},
     "output_type": "execute_result"
    }
   ],
   "source": [
    "\n",
    "function longest_fieldname2(T)\n",
    "    longest_fieldname = 0\n",
    "    for fname in fieldnames(T)\n",
    "        l = length(string(fname))\n",
    "        if l > longest_fieldname\n",
    "            longest_fieldname = l\n",
    "        end\n",
    "    end\n",
    "    return longest_fieldname\n",
    "end"
   ]
  },
  {
   "cell_type": "code",
   "execution_count": 85,
   "metadata": {
    "collapsed": false
   },
   "outputs": [
    {
     "name": "stdout",
     "output_type": "stream",
     "text": [
      "  0.000014 seconds (43 allocations: 2.188 KB)\n"
     ]
    },
    {
     "data": {
      "text/plain": [
       "8"
      ]
     },
     "execution_count": 85,
     "metadata": {},
     "output_type": "execute_result"
    }
   ],
   "source": [
    "@time r = longest_fieldname(d)"
   ]
  },
  {
   "cell_type": "code",
   "execution_count": 86,
   "metadata": {
    "collapsed": false
   },
   "outputs": [
    {
     "name": "stdout",
     "output_type": "stream",
     "text": [
      "  0.000009 seconds (37 allocations: 1.828 KB)\n"
     ]
    },
    {
     "data": {
      "text/plain": [
       "8"
      ]
     },
     "execution_count": 86,
     "metadata": {},
     "output_type": "execute_result"
    }
   ],
   "source": [
    "@time r = longest_fieldname2(d)"
   ]
  },
  {
   "cell_type": "code",
   "execution_count": 112,
   "metadata": {
    "collapsed": false
   },
   "outputs": [
    {
     "name": "stderr",
     "output_type": "stream",
     "text": [
      "WARNING: Method definition fieldnames_sizes(Any) in module Main at In[105]:3 overwritten at In[112]:3.\n"
     ]
    },
    {
     "data": {
      "text/plain": [
       "fieldnames_sizes (generic function with 1 method)"
      ]
     },
     "execution_count": 112,
     "metadata": {},
     "output_type": "execute_result"
    }
   ],
   "source": [
    "function fieldnames_sizes(T)\n",
    "    \n",
    "    if isa(T,DataType)\n",
    "        println(\"The type is DataType; please instanciate a type to use `fieldnames_sizes(T)`\")\n",
    "        return\n",
    "    end    \n",
    "    #longest_fieldname = maximum(length.(string.(fieldnames(T::type))))\n",
    "    longest_fieldname = 0\n",
    "    for fname in fieldnames(T)\n",
    "        l = length(string(fname))\n",
    "        if l > longest_fieldname\n",
    "            longest_fieldname = l\n",
    "        end\n",
    "    end\n",
    "    \n",
    "    if longest_fieldname > length(\"fieldname\")\n",
    "        space = \" \"\n",
    "        for k in 1:longest_fieldname  - length(\"fieldname\") + 2\n",
    "            space = space * \" \"\n",
    "        end\n",
    "        println( \"fieldname\", space , \"size/length\")\n",
    "    else\n",
    "        longest_fieldname = length(\"fieldname\")\n",
    "        space = \" \"\n",
    "        for k in 1:length(\"fieldname\") + 2\n",
    "            space = space * \" \"\n",
    "        end\n",
    "        println( \"fieldname\", space , \"size/length\")\n",
    "    end\n",
    "        println( \"----------------------------------\")\n",
    "\n",
    "    \n",
    "    for fname in fieldnames(T)\n",
    "        empty_space = longest_fieldname + 1 - length(string(fname))\n",
    "        space = \" \"\n",
    "        for k in 1:empty_space\n",
    "            space = space * \" \"\n",
    "        end\n",
    "        \n",
    "        if method_exists(size, Tuple{typeof(getfield(T,fname))})\n",
    "            println(fname, space, \" size \", size(getfield(T,fname)))\n",
    "        elseif  method_exists(legnth,  Tuple{typeof(getfield(T,fname))})\n",
    "            println(fname, space, \" length \", length(getfield(T,fname)))\n",
    "        end\n",
    "    end\n",
    "    \n",
    "end"
   ]
  },
  {
   "cell_type": "code",
   "execution_count": 113,
   "metadata": {
    "collapsed": false
   },
   "outputs": [
    {
     "name": "stderr",
     "output_type": "stream",
     "text": [
      "WARNING: Method definition (::Type{Main.M})(Array, Array, Float32) in module Main at In[106]:2 overwritten at In[113]:2.\n",
      "WARNING: Method definition (::Type{Main.M})(Any, Any, Any) in module Main at In[106]:2 overwritten at In[113]:2.\n"
     ]
    }
   ],
   "source": [
    "type M \n",
    "    x::Array\n",
    "    y::Array\n",
    "    z::Float32\n",
    "end"
   ]
  },
  {
   "cell_type": "code",
   "execution_count": 186,
   "metadata": {
    "collapsed": false
   },
   "outputs": [
    {
     "data": {
      "text/plain": [
       "M([0.183325 0.597595 … 0.409444 0.66002; 0.148862 0.104588 … 0.488497 0.206141; … ; 0.105406 0.627164 … 0.148924 0.583591; 0.954207 0.000590621 … 0.243151 0.998931],[0.584465; 0.502295; … ; 0.560674; 0.721655],23.0f0)"
      ]
     },
     "execution_count": 186,
     "metadata": {},
     "output_type": "execute_result"
    }
   ],
   "source": [
    "p = M(rand(10,10), rand(10,1), 23)"
   ]
  },
  {
   "cell_type": "code",
   "execution_count": 187,
   "metadata": {
    "collapsed": false
   },
   "outputs": [
    {
     "name": "stdout",
     "output_type": "stream",
     "text": [
      "fieldname            size/length\n",
      "----------------------------------\n",
      "x           size (10,10)\n",
      "y           size (10,1)\n",
      "z           size ()\n"
     ]
    }
   ],
   "source": [
    "fieldnames_sizes(p)"
   ]
  },
  {
   "cell_type": "code",
   "execution_count": 188,
   "metadata": {
    "collapsed": false
   },
   "outputs": [
    {
     "name": "stdout",
     "output_type": "stream",
     "text": [
      "The type is DataType; please instanciate a type to use `fieldnames_sizes(T)`\n"
     ]
    }
   ],
   "source": [
    "fieldnames_sizes(M)"
   ]
  },
  {
   "cell_type": "markdown",
   "metadata": {},
   "source": [
    "# Function to describe a type\n",
    "\n",
    "The goal of the function is to give an overview of a type. This includes\n",
    "\n",
    "```julia\n",
    "function overview(T,f1...)\n",
    "```\n",
    "\n",
    "- Get the fieldnames of T\n",
    "- Get the types of the fieldnames of T\n",
    "- Get the memory (RAM) footprint (in MB) of the whole type \n",
    "- Get info from functions applied to every fieldname (if possible)\n",
    "    - Functions can be passed as arguments to `overview`"
   ]
  },
  {
   "cell_type": "code",
   "execution_count": 189,
   "metadata": {
    "collapsed": false
   },
   "outputs": [
    {
     "name": "stderr",
     "output_type": "stream",
     "text": [
      "WARNING: Method definition describe(Any, Any...) in module Main at In[184]:2 overwritten at In[189]:2.\n"
     ]
    },
    {
     "data": {
      "text/plain": [
       "describe (generic function with 2 methods)"
      ]
     },
     "execution_count": 189,
     "metadata": {},
     "output_type": "execute_result"
    }
   ],
   "source": [
    "function overview(T, f1...)\n",
    " \n",
    "    if isa(T,DataType)\n",
    "        println(\"The type is DataType; please instanciate a type to use `overview(T)`\")\n",
    "        return\n",
    "    end    \n",
    "\n",
    "    longest_fieldname = 0\n",
    "    for fname in fieldnames(T)\n",
    "        l = length(string(fname))\n",
    "        if l > longest_fieldname\n",
    "            longest_fieldname = l\n",
    "        end\n",
    "    end\n",
    "    \n",
    "    if longest_fieldname > length(\"fieldname\")\n",
    "        space = \" \"\n",
    "        for k in 1:longest_fieldname  - length(\"fieldname\") + 2\n",
    "            space = space * \" \"\n",
    "        end\n",
    "        println( \"fieldname\", space , \"size/length\")\n",
    "    else\n",
    "        longest_fieldname = length(\"fieldname\")\n",
    "        space = \" \"\n",
    "        for k in 1:length(\"fieldname\") + 2\n",
    "            space = space * \" \"\n",
    "        end\n",
    "        println( \"fieldname\", space , \"size/length\")\n",
    "    end\n",
    "        println( \"----------------------------------\")\n",
    "    \n",
    "    for fname in fieldnames(T)\n",
    "        empty_space = longest_fieldname + 1 - length(string(fname))\n",
    "        space = \" \"\n",
    "        for k in 1:empty_space\n",
    "            space = space * \" \"\n",
    "        end\n",
    "        \n",
    "        if method_exists(f1, Tuple{typeof(getfield(T,fname))})\n",
    "            println(fname, space, \" size \", size(getfield(T,fname)))\n",
    "        elseif  method_exists(legnth,  Tuple{typeof(getfield(T,fname))})\n",
    "            println(fname, space, \" length \", length(getfield(T,fname)))\n",
    "        end\n",
    "    end\n",
    "end"
   ]
  },
  {
   "cell_type": "code",
   "execution_count": 195,
   "metadata": {
    "collapsed": false
   },
   "outputs": [
    {
     "data": {
      "text/plain": [
       "M([0.183325 0.597595 … 0.409444 0.66002; 0.148862 0.104588 … 0.488497 0.206141; … ; 0.105406 0.627164 … 0.148924 0.583591; 0.954207 0.000590621 … 0.243151 0.998931],[0.584465; 0.502295; … ; 0.560674; 0.721655],23.0f0)"
      ]
     },
     "execution_count": 195,
     "metadata": {},
     "output_type": "execute_result"
    }
   ],
   "source": [
    "p"
   ]
  },
  {
   "cell_type": "code",
   "execution_count": null,
   "metadata": {
    "collapsed": true
   },
   "outputs": [],
   "source": []
  },
  {
   "cell_type": "code",
   "execution_count": null,
   "metadata": {
    "collapsed": true
   },
   "outputs": [],
   "source": [
    "dd"
   ]
  },
  {
   "cell_type": "code",
   "execution_count": null,
   "metadata": {
    "collapsed": true
   },
   "outputs": [],
   "source": []
  }
 ],
 "metadata": {
  "kernelspec": {
   "display_name": "Julia 0.6.0-dev",
   "language": "julia",
   "name": "julia-0.6"
  },
  "language_info": {
   "file_extension": ".jl",
   "mimetype": "application/julia",
   "name": "julia",
   "version": "0.6.0"
  }
 },
 "nbformat": 4,
 "nbformat_minor": 0
}
