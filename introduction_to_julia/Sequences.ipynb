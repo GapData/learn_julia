{
 "cells": [
  {
   "cell_type": "markdown",
   "metadata": {},
   "source": [
    "# Important types for sequences\n",
    "\n",
    "During the sequence tutorials we will mostly work using sequences of words. \n",
    "\n",
    "It might be useful then to define a type that will be used in the different assignemnts that you will have to face."
   ]
  },
  {
   "cell_type": "code",
   "execution_count": 2,
   "metadata": {
    "collapsed": false
   },
   "outputs": [],
   "source": [
    "workspace()\n",
    "\n",
    "type sequence\n",
    "    words::Array{String}\n",
    "    labels::Array{String}\n",
    "    \n",
    "    function sequence(words)\n",
    "        states=[\"*\" for x in words]\n",
    "        return new(words, states)\n",
    "    end\n",
    "    \n",
    "    function sequence(words, states)\n",
    "        return new(words, states)\n",
    "    end\n",
    "    \n",
    "end"
   ]
  },
  {
   "cell_type": "code",
   "execution_count": 3,
   "metadata": {
    "collapsed": false
   },
   "outputs": [
    {
     "data": {
      "text/plain": [
       "sequence(String[\"the\",\"house\",\"is\",\"big\"],String[\"*\",\"*\",\"*\",\"*\"])"
      ]
     },
     "execution_count": 3,
     "metadata": {},
     "output_type": "execute_result"
    }
   ],
   "source": [
    "seq1 = sequence([\"the\", \"house\", \"is\", \"big\"])"
   ]
  },
  {
   "cell_type": "code",
   "execution_count": 4,
   "metadata": {
    "collapsed": false
   },
   "outputs": [
    {
     "data": {
      "text/plain": [
       "4-element Array{String,1}:\n",
       " \"*\"\n",
       " \"*\"\n",
       " \"*\"\n",
       " \"*\""
      ]
     },
     "execution_count": 4,
     "metadata": {},
     "output_type": "execute_result"
    }
   ],
   "source": [
    "seq1.labels"
   ]
  },
  {
   "cell_type": "code",
   "execution_count": 5,
   "metadata": {
    "collapsed": false
   },
   "outputs": [
    {
     "data": {
      "text/plain": [
       "4"
      ]
     },
     "execution_count": 5,
     "metadata": {},
     "output_type": "execute_result"
    }
   ],
   "source": [
    "length(seq1.words)"
   ]
  },
  {
   "cell_type": "markdown",
   "metadata": {},
   "source": [
    "### Define a sequence of words with a sequence of labels"
   ]
  },
  {
   "cell_type": "code",
   "execution_count": 6,
   "metadata": {
    "collapsed": false
   },
   "outputs": [
    {
     "data": {
      "text/plain": [
       "sequence(String[\"the\",\"house\",\"is\",\"big\"],String[\"det\",\"noun\",\"verb\",\"adj\"])"
      ]
     },
     "execution_count": 6,
     "metadata": {},
     "output_type": "execute_result"
    }
   ],
   "source": [
    "seq2 = sequence([\"the\", \"house\", \"is\", \"big\"],\n",
    "                [\"det\",\"noun\",\"verb\",\"adj\"])"
   ]
  },
  {
   "cell_type": "code",
   "execution_count": 7,
   "metadata": {
    "collapsed": false
   },
   "outputs": [
    {
     "data": {
      "text/plain": [
       "4-element Array{String,1}:\n",
       " \"det\" \n",
       " \"noun\"\n",
       " \"verb\"\n",
       " \"adj\" "
      ]
     },
     "execution_count": 7,
     "metadata": {},
     "output_type": "execute_result"
    }
   ],
   "source": [
    "seq2.labels"
   ]
  },
  {
   "cell_type": "code",
   "execution_count": 8,
   "metadata": {
    "collapsed": false
   },
   "outputs": [
    {
     "data": {
      "text/plain": [
       "sequence(String[\"the\",\"house\",\"is\",\"big\"],String[\"det\",\"noun\",\"verb\",\"adj\"])"
      ]
     },
     "execution_count": 8,
     "metadata": {},
     "output_type": "execute_result"
    }
   ],
   "source": [
    "seq = sequence([\"the\", \"house\", \"is\", \"big\"], \n",
    "               [\"det\",\"noun\",\"verb\",\"adj\"])"
   ]
  },
  {
   "cell_type": "code",
   "execution_count": 9,
   "metadata": {
    "collapsed": false
   },
   "outputs": [
    {
     "data": {
      "text/plain": [
       "4-element Array{String,1}:\n",
       " \"det\" \n",
       " \"noun\"\n",
       " \"verb\"\n",
       " \"adj\" "
      ]
     },
     "execution_count": 9,
     "metadata": {},
     "output_type": "execute_result"
    }
   ],
   "source": [
    "seq.labels"
   ]
  },
  {
   "cell_type": "markdown",
   "metadata": {},
   "source": [
    "#### Be carefull with phrases\n",
    "\n",
    "The type that we just defined does not accept single strings"
   ]
  },
  {
   "cell_type": "code",
   "execution_count": 10,
   "metadata": {
    "collapsed": false
   },
   "outputs": [
    {
     "ename": "LoadError",
     "evalue": "LoadError: MethodError: Cannot `convert` an object of type String to an object of type Array{String,N}\nThis may have arisen from a call to the constructor Array{String,N}(...),\nsince type constructors fall back to convert methods.\nwhile loading In[10], in expression starting on line 1",
     "output_type": "error",
     "traceback": [
      "LoadError: MethodError: Cannot `convert` an object of type String to an object of type Array{String,N}\nThis may have arisen from a call to the constructor Array{String,N}(...),\nsince type constructors fall back to convert methods.\nwhile loading In[10], in expression starting on line 1",
      "",
      " in sequence(::String) at ./In[2]:9"
     ]
    }
   ],
   "source": [
    "sequence(\"the house is big\")"
   ]
  },
  {
   "cell_type": "markdown",
   "metadata": {},
   "source": [
    "Nevertheless the ```sequence``` type can accept an Array with a single string containing a sequence. \n",
    "\n",
    "This is a behaviour we might not want it"
   ]
  },
  {
   "cell_type": "code",
   "execution_count": 11,
   "metadata": {
    "collapsed": false
   },
   "outputs": [
    {
     "data": {
      "text/plain": [
       "sequence(String[\"the house is big\"],String[\"*\"])"
      ]
     },
     "execution_count": 11,
     "metadata": {},
     "output_type": "execute_result"
    }
   ],
   "source": [
    "seq2 = sequence([\"the house is big\"])"
   ]
  },
  {
   "cell_type": "code",
   "execution_count": 12,
   "metadata": {
    "collapsed": false
   },
   "outputs": [
    {
     "data": {
      "text/plain": [
       "1-element Array{String,1}:\n",
       " \"the house is big\""
      ]
     },
     "execution_count": 12,
     "metadata": {},
     "output_type": "execute_result"
    }
   ],
   "source": [
    "seq2.words"
   ]
  },
  {
   "cell_type": "code",
   "execution_count": 13,
   "metadata": {
    "collapsed": false
   },
   "outputs": [
    {
     "data": {
      "text/plain": [
       "4-element Array{SubString{String},1}:\n",
       " \"the\"  \n",
       " \"house\"\n",
       " \"is\"   \n",
       " \"big\"  "
      ]
     },
     "execution_count": 13,
     "metadata": {},
     "output_type": "execute_result"
    }
   ],
   "source": [
    "split(\"the house is big\")"
   ]
  },
  {
   "cell_type": "code",
   "execution_count": 14,
   "metadata": {
    "collapsed": false
   },
   "outputs": [
    {
     "data": {
      "text/plain": [
       "4-element Array{SubString{String},1}:\n",
       " \"the\"  \n",
       " \"house\"\n",
       " \"is\"   \n",
       " \"big\"  "
      ]
     },
     "execution_count": 14,
     "metadata": {},
     "output_type": "execute_result"
    }
   ],
   "source": [
    "split(\"the house is big\",\" \")"
   ]
  },
  {
   "cell_type": "markdown",
   "metadata": {},
   "source": [
    "### Rainy sunny example"
   ]
  },
  {
   "cell_type": "code",
   "execution_count": 15,
   "metadata": {
    "collapsed": false
   },
   "outputs": [],
   "source": [
    "Sigma = [\"walk\", \"shop\", \"clean\", \"tennis\"]\n",
    "Lambda = [\"rainy\", \"sunny\"]\n",
    "\n",
    "sequence_list = []\n",
    "\n",
    "s1 = sequence([\"walk\", \"walk\", \"shop\", \"clean\"],\n",
    "             [\"rainy\", \"sunny\", \"sunny\", \"sunny\"])\n",
    "\n",
    "s2 = sequence([\"walk\", \"walk\", \"shop\", \"clean\"], \n",
    "              [\"rainy\", \"rainy\", \"rainy\", \"sunny\"])\n",
    "\n",
    "s3 = sequence([\"walk\", \"shop\", \"shop\", \"clean\"], \n",
    "              [\"sunny\", \"sunny\", \"sunny\", \"sunny\"])\n",
    "\n",
    "train_sequences = [s1, s2, s3]\n",
    "\n",
    "s1_t = sequence([\"walk\", \"walk\", \"shop\", \"clean\"], \n",
    "                [\"rainy\", \"sunny\", \"sunny\", \"sunny\"])\n",
    "\n",
    "s2_t = sequence([\"clean\", \"walk\", \"tennis\", \"walk\"], \n",
    "                [\"sunny\", \"sunny\", \"sunny\", \"sunny\"])\n",
    "\n",
    "test_sequences = [s1_t, s2_t];"
   ]
  },
  {
   "cell_type": "code",
   "execution_count": 16,
   "metadata": {
    "collapsed": false
   },
   "outputs": [
    {
     "data": {
      "text/plain": [
       "sequence(String[\"walk\",\"walk\",\"shop\",\"clean\"],String[\"rainy\",\"rainy\",\"rainy\",\"sunny\"])"
      ]
     },
     "execution_count": 16,
     "metadata": {},
     "output_type": "execute_result"
    }
   ],
   "source": [
    "train_sequences[2]"
   ]
  },
  {
   "cell_type": "markdown",
   "metadata": {},
   "source": [
    "# Hidden markov model"
   ]
  },
  {
   "cell_type": "code",
   "execution_count": 17,
   "metadata": {
    "collapsed": false
   },
   "outputs": [
    {
     "data": {
      "text/plain": [
       "Dict{String,Float64} with 1 entry:\n",
       "  \"lala\" => 34.0"
      ]
     },
     "execution_count": 17,
     "metadata": {},
     "output_type": "execute_result"
    }
   ],
   "source": [
    "Dict{String,Float64}([\"lala\"=>34])"
   ]
  },
  {
   "cell_type": "code",
   "execution_count": 18,
   "metadata": {
    "collapsed": false,
    "scrolled": true
   },
   "outputs": [
    {
     "data": {
      "text/plain": [
       "3-element Array{sequence,1}:\n",
       " sequence(String[\"walk\",\"walk\",\"shop\",\"clean\"],String[\"rainy\",\"sunny\",\"sunny\",\"sunny\"])\n",
       " sequence(String[\"walk\",\"walk\",\"shop\",\"clean\"],String[\"rainy\",\"rainy\",\"rainy\",\"sunny\"])\n",
       " sequence(String[\"walk\",\"shop\",\"shop\",\"clean\"],String[\"sunny\",\"sunny\",\"sunny\",\"sunny\"])"
      ]
     },
     "execution_count": 18,
     "metadata": {},
     "output_type": "execute_result"
    }
   ],
   "source": [
    "train_sequences"
   ]
  },
  {
   "cell_type": "code",
   "execution_count": 19,
   "metadata": {
    "collapsed": false,
    "scrolled": true
   },
   "outputs": [
    {
     "data": {
      "text/plain": [
       "2-element Array{sequence,1}:\n",
       " sequence(String[\"walk\",\"walk\",\"shop\",\"clean\"],String[\"rainy\",\"sunny\",\"sunny\",\"sunny\"])  \n",
       " sequence(String[\"clean\",\"walk\",\"tennis\",\"walk\"],String[\"sunny\",\"sunny\",\"sunny\",\"sunny\"])"
      ]
     },
     "execution_count": 19,
     "metadata": {},
     "output_type": "execute_result"
    }
   ],
   "source": [
    "test_sequences"
   ]
  },
  {
   "cell_type": "markdown",
   "metadata": {},
   "source": [
    "#### Get all possible states and all possible words"
   ]
  },
  {
   "cell_type": "code",
   "execution_count": 20,
   "metadata": {
    "collapsed": false
   },
   "outputs": [
    {
     "data": {
      "text/plain": [
       "Dict{String,Int64} with 0 entries"
      ]
     },
     "execution_count": 20,
     "metadata": {},
     "output_type": "execute_result"
    }
   ],
   "source": [
    "word_to_int = Dict{String,Int64}()\n",
    "state_to_int = Dict{String,Int64}()"
   ]
  },
  {
   "cell_type": "code",
   "execution_count": 21,
   "metadata": {
    "collapsed": false
   },
   "outputs": [
    {
     "data": {
      "text/plain": [
       "get_possible_words_and_states (generic function with 1 method)"
      ]
     },
     "execution_count": 21,
     "metadata": {},
     "output_type": "execute_result"
    }
   ],
   "source": [
    "function get_possible_words_and_states(sequences)\n",
    "    state_counter = 1\n",
    "    word_counter = 1\n",
    "    \n",
    "    possible_words = Set{String}()\n",
    "    possible_states = Set{String}()\n",
    "    \n",
    "    for seq in sequences\n",
    "        for (t,w) in zip(seq.labels, seq.words)\n",
    "            push!(possible_states, t)\n",
    "            push!(possible_words, w)\n",
    "        end\n",
    "    end\n",
    "    \n",
    "    return possible_words, possible_states\n",
    "end"
   ]
  },
  {
   "cell_type": "code",
   "execution_count": 22,
   "metadata": {
    "collapsed": false
   },
   "outputs": [
    {
     "data": {
      "text/plain": [
       "(Set(String[\"tennis\",\"walk\",\"clean\",\"shop\"]),Set(String[\"sunny\",\"rainy\"]))"
      ]
     },
     "execution_count": 22,
     "metadata": {},
     "output_type": "execute_result"
    }
   ],
   "source": [
    "possible_words, possible_states = get_possible_words_and_states([train_sequences; test_sequences])"
   ]
  },
  {
   "cell_type": "markdown",
   "metadata": {},
   "source": [
    "#### map words to positions and states to positions"
   ]
  },
  {
   "cell_type": "code",
   "execution_count": 23,
   "metadata": {
    "collapsed": false
   },
   "outputs": [
    {
     "data": {
      "text/plain": [
       "2"
      ]
     },
     "execution_count": 23,
     "metadata": {},
     "output_type": "execute_result"
    }
   ],
   "source": [
    "num_words = length(possible_words)\n",
    "num_states = length(possible_states)"
   ]
  },
  {
   "cell_type": "code",
   "execution_count": 24,
   "metadata": {
    "collapsed": false
   },
   "outputs": [
    {
     "data": {
      "text/plain": [
       "assign_elements_to_integers (generic function with 1 method)"
      ]
     },
     "execution_count": 24,
     "metadata": {},
     "output_type": "execute_result"
    }
   ],
   "source": [
    "function assign_elements_to_integers(elements)\n",
    "    element_to_pos = Dict{String, Int64}()\n",
    "    for (k,e) in enumerate(elements)\n",
    "        element_to_pos[e] = k\n",
    "    end\n",
    "    return element_to_pos\n",
    "end"
   ]
  },
  {
   "cell_type": "code",
   "execution_count": 25,
   "metadata": {
    "collapsed": false
   },
   "outputs": [
    {
     "data": {
      "text/plain": [
       "assign_elements_to_integers2 (generic function with 1 method)"
      ]
     },
     "execution_count": 25,
     "metadata": {},
     "output_type": "execute_result"
    }
   ],
   "source": [
    "function assign_elements_to_integers2(elements)\n",
    "    element_to_pos = Dict{String, Int64}()\n",
    "    k = 1\n",
    "    for e in elements\n",
    "        element_to_pos[e] = k\n",
    "        k +=1\n",
    "    end\n",
    "    return element_to_pos\n",
    "end"
   ]
  },
  {
   "cell_type": "code",
   "execution_count": 26,
   "metadata": {
    "collapsed": false
   },
   "outputs": [],
   "source": [
    "word_to_pos = assign_elements_to_integers(possible_words);\n",
    "state_to_pos = assign_elements_to_integers(possible_states);"
   ]
  },
  {
   "cell_type": "markdown",
   "metadata": {},
   "source": [
    "### Computing  sufficient statistics (counts) of the HMM"
   ]
  },
  {
   "cell_type": "code",
   "execution_count": 27,
   "metadata": {
    "collapsed": false
   },
   "outputs": [
    {
     "data": {
      "text/plain": [
       "update_initial_counts! (generic function with 1 method)"
      ]
     },
     "execution_count": 27,
     "metadata": {},
     "output_type": "execute_result"
    }
   ],
   "source": [
    "\n",
    "function update_initial_counts!(initial_counts, seq, state_to_pos)\n",
    "    initial_counts[state_to_pos[seq.labels[1]]] = initial_counts[state_to_pos[seq.labels[1]]] + 1\n",
    "end"
   ]
  },
  {
   "cell_type": "code",
   "execution_count": 28,
   "metadata": {
    "collapsed": false
   },
   "outputs": [
    {
     "data": {
      "text/plain": [
       "update_transition_counts! (generic function with 1 method)"
      ]
     },
     "execution_count": 28,
     "metadata": {},
     "output_type": "execute_result"
    }
   ],
   "source": [
    "function update_transition_counts!(transition_counts, seq, state_to_pos)\n",
    "    for (t1,t2) in zip(seq.labels[1:end-1], seq.labels[2:end])\n",
    "        transition_counts[state_to_pos[t1], state_to_pos[t2]] += 1 \n",
    "    end\n",
    "    \n",
    "end"
   ]
  },
  {
   "cell_type": "code",
   "execution_count": 29,
   "metadata": {
    "collapsed": false
   },
   "outputs": [
    {
     "data": {
      "text/plain": [
       "update_emission_counts! (generic function with 1 method)"
      ]
     },
     "execution_count": 29,
     "metadata": {},
     "output_type": "execute_result"
    }
   ],
   "source": [
    "function update_emission_counts!(emission_counts, seq, state_to_pos, word_to_pos)\n",
    "   \n",
    "    for (t,w) in zip(seq.labels, seq.words)\n",
    "        emission_counts[state_to_pos[t], word_to_pos[w]] += 1 \n",
    "    end\n",
    "    \n",
    "end"
   ]
  },
  {
   "cell_type": "code",
   "execution_count": 30,
   "metadata": {
    "collapsed": false
   },
   "outputs": [
    {
     "data": {
      "text/plain": [
       "update_final_counts! (generic function with 1 method)"
      ]
     },
     "execution_count": 30,
     "metadata": {},
     "output_type": "execute_result"
    }
   ],
   "source": [
    "function update_final_counts!(final_counts, seq, state_to_pos)\n",
    "    final_counts[state_to_pos[seq.labels[end]]] +=1\n",
    "end"
   ]
  },
  {
   "cell_type": "code",
   "execution_count": 31,
   "metadata": {
    "collapsed": false
   },
   "outputs": [
    {
     "data": {
      "text/plain": [
       "sufficient_statistics_hmm (generic function with 1 method)"
      ]
     },
     "execution_count": 31,
     "metadata": {},
     "output_type": "execute_result"
    }
   ],
   "source": [
    "function sufficient_statistics_hmm(sequences, state_to_pos, word_to_pos)\n",
    "    \n",
    "    n_states = length(state_to_pos)\n",
    "    n_words = length(word_to_pos)\n",
    "    \n",
    "    initial_counts     = zeros(n_states)\n",
    "    transition_counts = zeros(n_states, n_states)\n",
    "    final_counts       = zeros(n_states) \n",
    "    emission_counts     = zeros(n_states, n_words)\n",
    "    \n",
    "    for seq in sequences\n",
    "        update_initial_counts!(initial_counts, seq, state_to_pos)\n",
    "        update_transition_counts!(transition_counts, seq,  state_to_pos)\n",
    "        update_emission_counts!(emission_counts, seq,  state_to_pos, word_to_pos) \n",
    "        update_final_counts!(final_counts, seq,  state_to_pos) \n",
    "    end\n",
    "    \n",
    "    return initial_counts, transition_counts, final_counts, emission_counts\n",
    "    \n",
    "end"
   ]
  },
  {
   "cell_type": "code",
   "execution_count": 32,
   "metadata": {
    "collapsed": false
   },
   "outputs": [],
   "source": [
    "counts = sufficient_statistics_hmm(train_sequences, state_to_pos, word_to_pos);"
   ]
  },
  {
   "cell_type": "code",
   "execution_count": 33,
   "metadata": {
    "collapsed": false
   },
   "outputs": [],
   "source": [
    "initial_counts, transition_counts, final_counts, emission_counts = counts;"
   ]
  },
  {
   "cell_type": "code",
   "execution_count": 34,
   "metadata": {
    "collapsed": false
   },
   "outputs": [
    {
     "data": {
      "text/plain": [
       "2-element Array{Float64,1}:\n",
       " 1.0\n",
       " 2.0"
      ]
     },
     "execution_count": 34,
     "metadata": {},
     "output_type": "execute_result"
    }
   ],
   "source": [
    "initial_counts"
   ]
  },
  {
   "cell_type": "code",
   "execution_count": 35,
   "metadata": {
    "collapsed": false
   },
   "outputs": [
    {
     "data": {
      "text/plain": [
       "2×2 Array{Float64,2}:\n",
       " 5.0  0.0\n",
       " 2.0  2.0"
      ]
     },
     "execution_count": 35,
     "metadata": {},
     "output_type": "execute_result"
    }
   ],
   "source": [
    "transition_counts"
   ]
  },
  {
   "cell_type": "code",
   "execution_count": 36,
   "metadata": {
    "collapsed": false
   },
   "outputs": [
    {
     "data": {
      "text/plain": [
       "2-element Array{Float64,1}:\n",
       " 3.0\n",
       " 0.0"
      ]
     },
     "execution_count": 36,
     "metadata": {},
     "output_type": "execute_result"
    }
   ],
   "source": [
    "final_counts"
   ]
  },
  {
   "cell_type": "code",
   "execution_count": 37,
   "metadata": {
    "collapsed": false
   },
   "outputs": [
    {
     "data": {
      "text/plain": [
       "2×4 Array{Float64,2}:\n",
       " 0.0  2.0  3.0  3.0\n",
       " 0.0  3.0  0.0  1.0"
      ]
     },
     "execution_count": 37,
     "metadata": {},
     "output_type": "execute_result"
    }
   ],
   "source": [
    "emission_counts"
   ]
  },
  {
   "cell_type": "markdown",
   "metadata": {},
   "source": [
    "#### Sanity Checks HMM\n",
    "\n",
    "- Initial counts must sum to the number of sentences  $$ \\sum_{k=1}^K C_{\\text{init}}(c_k) = M$$\n",
    "\n",
    "- Transition counts and Final Counts should sum to the number of tokens: $$\\sum_{k,l=1}^K C_{\\text{trans}}(c_k,c_l)  + \\sum_{k=1}^K C_{\\text{final}}(c_k) = M \\cdot N$$\n",
    "\n",
    "- Emission counts must sum to the number of tokens\n",
    "$$\n",
    "\\sum_{j=1}^J \\sum_{k=1}^K C_{\\text{emiss}}(w_j,c_k) = M \\cdot N \n",
    "$$"
   ]
  },
  {
   "cell_type": "code",
   "execution_count": 38,
   "metadata": {
    "collapsed": false
   },
   "outputs": [
    {
     "data": {
      "text/plain": [
       "2×4 Array{Float64,2}:\n",
       " 0.0  2.0  3.0  3.0\n",
       " 0.0  3.0  0.0  1.0"
      ]
     },
     "execution_count": 38,
     "metadata": {},
     "output_type": "execute_result"
    }
   ],
   "source": [
    "emission_counts"
   ]
  },
  {
   "cell_type": "code",
   "execution_count": 39,
   "metadata": {
    "collapsed": false
   },
   "outputs": [
    {
     "name": "stdout",
     "output_type": "stream",
     "text": [
      "M: 3\n",
      "N: 4\n",
      "M*N: 12"
     ]
    }
   ],
   "source": [
    "M = length(train_sequences)\n",
    "N = length(train_sequences[1].words)\n",
    "print(\"M: \", M, \"\\n\",\"N: \", N,\"\\n\" ,\"M*N: \", M*N)"
   ]
  },
  {
   "cell_type": "code",
   "execution_count": 40,
   "metadata": {
    "collapsed": false
   },
   "outputs": [
    {
     "name": "stdout",
     "output_type": "stream",
     "text": [
      "\n",
      "initial_counts sum: 3.0\n",
      "emission_counts sum: 12.0\n",
      "transition and final counts sum: 12.0"
     ]
    }
   ],
   "source": [
    "print(\"\\ninitial_counts sum: \", sum(initial_counts))\n",
    "print(\"\\nemission_counts sum: \", sum(emission_counts))\n",
    "print(\"\\ntransition and final counts sum: \", sum(transition_counts) + sum(final_counts))"
   ]
  },
  {
   "cell_type": "code",
   "execution_count": 41,
   "metadata": {
    "collapsed": false
   },
   "outputs": [
    {
     "data": {
      "text/plain": [
       "check_counts (generic function with 1 method)"
      ]
     },
     "execution_count": 41,
     "metadata": {},
     "output_type": "execute_result"
    }
   ],
   "source": [
    "function check_counts(data, \n",
    "                      possible_states,\n",
    "                      initial_counts,\n",
    "                      transition_counts, \n",
    "                      emission_counts, \n",
    "                      final_counts)\n",
    "    \"\"\"\n",
    "    This Check is only valid if all instances have the same length!!!!\n",
    "    \"\"\"\n",
    "    n_samples = length(data)\n",
    "    sequence_length = length(data[1].words)\n",
    "    problem_checks = []\n",
    "    \n",
    "    if sum(initial_counts) != n_samples\n",
    "        print(\"\\nERROR: initial_counts are not correctly computed\")\n",
    "        push!(problem_checks,\"initial_counts\")\n",
    "    end\n",
    "    \n",
    "    if sum(transition_counts) + sum(final_counts) != sequence_length*n_samples\n",
    "        print(\"\\nERROR: transition_counts are not correctly computed\")\n",
    "        push!(problem_checks,\"transition_counts\")\n",
    "    end\n",
    "    \n",
    "    if sum(emission_counts)  != sequence_length*n_samples\n",
    "        print(\"\\nERROR: emission_counts are not correctly computed\")\n",
    "        push!(problem_checks,\"emission_counts\")\n",
    "    end\n",
    "    \n",
    "    if length(problem_checks) ==0\n",
    "        print(\"\\nAll checks passed\")\n",
    "    end\n",
    "end\n"
   ]
  },
  {
   "cell_type": "code",
   "execution_count": 42,
   "metadata": {
    "collapsed": false
   },
   "outputs": [
    {
     "name": "stdout",
     "output_type": "stream",
     "text": [
      "\n",
      "All checks passed"
     ]
    }
   ],
   "source": [
    " check_counts(train_sequences, \n",
    "             possible_states,\n",
    "             initial_counts,\n",
    "             transition_counts, \n",
    "             emission_counts, \n",
    "             final_counts)"
   ]
  },
  {
   "cell_type": "markdown",
   "metadata": {},
   "source": [
    "## From counts to probabilities\n",
    "\n",
    "The following formulas specify how to find the parameters of the HMM:\n",
    "\n",
    "$$\n",
    "P_{\\text{init}}(c_k \\,\\vert\\, \\text{start}) = \\frac{C_{\\text{init}}(c_k)}{ \\sum_{k=1}^K\n",
    "C_{\\text{init}} (c_l)}\n",
    "$$\n",
    "\n",
    "$$\n",
    "P_{\\text{final}}(\\text{stop} \\,\\vert\\, c_l) = \\frac{C_{\\text{final}}(c_l) }\n",
    "{\\sum_{k=1}^K C_{\\text{trans}}(c_k,c_l) + C_{\\text{final}}(c_l)}\n",
    "$$\n",
    "\n",
    "$$\n",
    "P_{\\text{trans}}( c_k \\,\\vert\\, c_l) = \\frac{C_{\\text{trans}}(c_k, c_l) }\n",
    "{\\sum_{p=1}^K C_{\\text{trans}}(c_p,c_l) + C_{\\text{final}}(c_l)}\n",
    "$$\n",
    "\n",
    "$$\n",
    "P_{\\text{emiss}} (w_j \\,\\vert\\, c_k) = \\frac{C_{\\text{emiss}} (w_j, c_k) }{\\sum_{q=1}^J C_{\\text{emiss}}(w_q,c_k)}\n",
    "$$\n",
    "\n"
   ]
  },
  {
   "cell_type": "code",
   "execution_count": 43,
   "metadata": {
    "collapsed": false
   },
   "outputs": [
    {
     "data": {
      "text/plain": [
       "2-element Array{Float64,1}:\n",
       " 0.333333\n",
       " 0.666667"
      ]
     },
     "execution_count": 43,
     "metadata": {},
     "output_type": "execute_result"
    }
   ],
   "source": [
    "initial_probs = (initial_counts / sum(initial_counts))"
   ]
  },
  {
   "cell_type": "code",
   "execution_count": 44,
   "metadata": {
    "collapsed": false
   },
   "outputs": [
    {
     "data": {
      "text/plain": [
       "2×2 Array{Float64,2}:\n",
       " 0.625  0.0\n",
       " 0.5    0.5"
      ]
     },
     "execution_count": 44,
     "metadata": {},
     "output_type": "execute_result"
    }
   ],
   "source": [
    "transition_probs = transition_counts./(sum(transition_counts, 2) + final_counts)"
   ]
  },
  {
   "cell_type": "code",
   "execution_count": 53,
   "metadata": {
    "collapsed": false
   },
   "outputs": [
    {
     "data": {
      "text/plain": [
       "2×1 Array{Float64,2}:\n",
       " 0.375\n",
       " 0.0  "
      ]
     },
     "execution_count": 53,
     "metadata": {},
     "output_type": "execute_result"
    }
   ],
   "source": [
    "final_probs =  final_counts ./ (sum(transition_counts, 2) + final_counts )"
   ]
  },
  {
   "cell_type": "code",
   "execution_count": 61,
   "metadata": {
    "collapsed": false
   },
   "outputs": [
    {
     "data": {
      "text/plain": [
       "2-element Array{Float64,1}:\n",
       " 0.375\n",
       " 0.0  "
      ]
     },
     "execution_count": 61,
     "metadata": {},
     "output_type": "execute_result"
    }
   ],
   "source": [
    "final_probs =  [final_probs[1], final_probs[2]]"
   ]
  },
  {
   "cell_type": "code",
   "execution_count": 62,
   "metadata": {
    "collapsed": false
   },
   "outputs": [
    {
     "data": {
      "text/plain": [
       "2×3 Array{Float64,2}:\n",
       " 0.625  0.0  0.375\n",
       " 0.5    0.5  0.0  "
      ]
     },
     "execution_count": 62,
     "metadata": {},
     "output_type": "execute_result"
    }
   ],
   "source": [
    "# notice the sum per row sums to one\n",
    "[transition_probs final_probs]"
   ]
  },
  {
   "cell_type": "code",
   "execution_count": 63,
   "metadata": {
    "collapsed": false
   },
   "outputs": [
    {
     "data": {
      "text/plain": [
       "2×4 Array{Float64,2}:\n",
       " 0.0  0.25  0.375  0.375\n",
       " 0.0  0.75  0.0    0.25 "
      ]
     },
     "execution_count": 63,
     "metadata": {},
     "output_type": "execute_result"
    }
   ],
   "source": [
    "# notice the sum per row sums to one\n",
    "emission_probs = (emission_counts ./ sum(emission_counts, 2))"
   ]
  },
  {
   "cell_type": "code",
   "execution_count": 64,
   "metadata": {
    "collapsed": false
   },
   "outputs": [
    {
     "data": {
      "text/plain": [
       "Dict{String,Int64} with 2 entries:\n",
       "  \"sunny\" => 1\n",
       "  \"rainy\" => 2"
      ]
     },
     "execution_count": 64,
     "metadata": {},
     "output_type": "execute_result"
    }
   ],
   "source": [
    "state_to_pos"
   ]
  },
  {
   "cell_type": "code",
   "execution_count": 65,
   "metadata": {
    "collapsed": false
   },
   "outputs": [
    {
     "data": {
      "text/plain": [
       "Dict{String,Int64} with 4 entries:\n",
       "  \"tennis\" => 1\n",
       "  \"walk\"   => 2\n",
       "  \"clean\"  => 3\n",
       "  \"shop\"   => 4"
      ]
     },
     "execution_count": 65,
     "metadata": {},
     "output_type": "execute_result"
    }
   ],
   "source": [
    "word_to_pos"
   ]
  },
  {
   "cell_type": "markdown",
   "metadata": {},
   "source": [
    "## Defining an HMM"
   ]
  },
  {
   "cell_type": "code",
   "execution_count": 66,
   "metadata": {
    "collapsed": false
   },
   "outputs": [
    {
     "data": {
      "text/plain": [
       "Array{Float64,1}"
      ]
     },
     "execution_count": 66,
     "metadata": {},
     "output_type": "execute_result"
    }
   ],
   "source": [
    "typeof(initial_counts)"
   ]
  },
  {
   "cell_type": "code",
   "execution_count": 67,
   "metadata": {
    "collapsed": false
   },
   "outputs": [
    {
     "name": "stderr",
     "output_type": "stream",
     "text": [
      "WARNING: Method definition (::Type{Main.Hmm})(Main.Base.Set{String}, Main.Base.Set{String}, Main.Base.Dict{String, Int64}, Main.Base.Dict{String, Int64}, Array{Int64, 1}, Array{Int64, 2}, Array{Int64, 2}, Array{Int64, 1}, Array{Float64, 1}, Array{Float64, 2}, Array{Float64, 2}, Array{Float64, 1}) in module Main at In[59]:2 overwritten at In[67]:2.\n",
      "WARNING: Method definition (::Type{Main.Hmm})(Any, Any, Any, Any, Any, Any, Any, Any, Any, Any, Any, Any) in module Main at In[59]:2 overwritten at In[67]:2.\n"
     ]
    }
   ],
   "source": [
    "immutable Hmm\n",
    "    possible_words::Set{String}\n",
    "    possible_tags::Set{String}\n",
    "    \n",
    "    word_to_pos::Dict{String, Int64}\n",
    "    state_to_pos::Dict{String, Int64}\n",
    "    \n",
    "    initial_counts::Vector{Int64}\n",
    "    transition_counts::Matrix{Int64} \n",
    "    emission_counts::Matrix{Int64}\n",
    "    final_counts::Vector{Int64}\n",
    "\n",
    "    initial_probs::Vector{Float64}\n",
    "    transition_probs::Matrix{Float64}\n",
    "    emission_probs::Matrix{Float64}\n",
    "    final_probs::Vector{Float64}\n",
    "end"
   ]
  },
  {
   "cell_type": "code",
   "execution_count": 70,
   "metadata": {
    "collapsed": false
   },
   "outputs": [
    {
     "data": {
      "text/plain": [
       "Hmm(Set(String[\"tennis\",\"walk\",\"clean\",\"shop\"]),Set(String[\"sunny\",\"rainy\"]),Dict(\"tennis\"=>1,\"walk\"=>2,\"clean\"=>3,\"shop\"=>4),Dict(\"sunny\"=>1,\"rainy\"=>2),[1,2],[5 0; 2 2],[0 2 3 3; 0 3 0 1],[3,0],[0.333333,0.666667],[0.625 0.0; 0.5 0.5],[0.0 0.25 0.375 0.375; 0.0 0.75 0.0 0.25],[0.375,0.0])"
      ]
     },
     "execution_count": 70,
     "metadata": {},
     "output_type": "execute_result"
    }
   ],
   "source": [
    "hmm =   Hmm(possible_words,\n",
    "            possible_states,\n",
    "            word_to_pos,\n",
    "            state_to_pos,\n",
    "            initial_counts,\n",
    "            transition_counts,\n",
    "            emission_counts,\n",
    "            final_counts,\n",
    "            initial_probs,\n",
    "            transition_probs,\n",
    "            emission_probs,            \n",
    "            final_probs)"
   ]
  },
  {
   "cell_type": "markdown",
   "metadata": {},
   "source": [
    "## Computing scores for a given sequence\n",
    "\n",
    "\n",
    "For convenience, we will be working with \n",
    "log-probabilities, rather than probabilities. Therefore, if we associate to each circle and arrow in the trellis a score that corresponds\n",
    "to the log-probabilities above, and if we define the score of a path\n",
    "connecting the ${\\tt start}$ and  ${\\tt stop}$ symbols as\n",
    "the sum of the scores of the circles and arrows it traverses, \n",
    "then the goal of **finding the most likely sequence of states (Viterbi decoding) corresponds to finding the path with the highest score**.\n",
    "\n",
    "\n",
    "\n",
    "The trellis scores are given by the following expressions:\n",
    "\n",
    "- For each state $c_k$:\n",
    "\n",
    "\\begin{eqnarray}\n",
    "\\mathrm{score}_{\\mathrm{init}}(c_k) &=&\n",
    "\\log P_{\\mathrm{init}}(Y_{1} = c_k | \\text{start}).\n",
    "\\end{eqnarray}\n",
    "\n",
    "\n",
    "- For each position $i \\in {1,\\ldots,N-1}$ and each pair of states $c_k$ and $c_l$:\n",
    "\n",
    "\\begin{eqnarray}\n",
    "\\mathrm{score}_{\\mathrm{trans}}(i, c_k, c_l) &=&\n",
    "\\log P_{\\mathrm{trans}}(Y_{i+1} = c_k | Y_i = c_l).\n",
    "\\end{eqnarray}\n",
    "\n",
    "\n",
    "- For each state $c_l$:\n",
    "\n",
    "\\begin{eqnarray}\n",
    "\\mathrm{score}_{\\mathrm{final}}(c_l) &=&\n",
    "\\log P_{\\mathrm{final}}(\\text{stop} | Y_N = c_l).\n",
    "\\end{eqnarray}\n",
    "\n",
    "\n",
    "- For each position $i \\in {1,\\ldots,N}$ and state $c_k$:\n",
    "\n",
    "\\begin{eqnarray}\n",
    "\\mathrm{score}_{\\mathrm{emiss}}(i, c_k) &=&\n",
    "\\log P_{\\mathrm{emiss}}(X_i = x_i | Y_i = c_k).\n",
    "\\end{eqnarray}\n",
    "\n",
    "\n",
    "Some python code for computin the scores\n",
    "\n",
    "    def compute_scores(self, sequence):\n",
    "        length = len(sequence.x) # Length of the sequence.\n",
    "        num_states = self.get_num_states() # Number of states of the HMM.\n",
    "\n",
    "        # Initial position.\n",
    "        initial_scores = np.log(self.initial_probs)\n",
    "\n",
    "        # Intermediate positions\n",
    "        transition_scores = np.log(self.transition_probs) \n",
    "        emission_scores = np.log(self.emission_probs[sequence.x,:])\n",
    "\n",
    "        # Final position.\n",
    "        final_scores = np.log(self.final_probs)\n",
    "\n",
    "        return initial_scores, transition_scores, final_scores, emission_scores"
   ]
  },
  {
   "cell_type": "code",
   "execution_count": 112,
   "metadata": {
    "collapsed": false
   },
   "outputs": [
    {
     "name": "stderr",
     "output_type": "stream",
     "text": [
      "WARNING: Method definition compute_scores(Any, Any) in module Main at In[109]:2 overwritten at In[112]:2.\n"
     ]
    },
    {
     "data": {
      "text/plain": [
       "compute_scores (generic function with 1 method)"
      ]
     },
     "execution_count": 112,
     "metadata": {},
     "output_type": "execute_result"
    }
   ],
   "source": [
    "function compute_scores(hmm, sequence)\n",
    "    length_sequence = length(sequence.words)\n",
    "    n_states = length(hmm.possible_tags)\n",
    "    \n",
    "    initial_scores = log(hmm.initial_probs)\n",
    "    transition_scores = log(hmm.transition_probs)\n",
    "\n",
    "    sequence_words_integers = [word_to_pos[x] for x in sequence.words]\n",
    "    emission_scores = log(hmm.emission_probs[:, sequence_words_integers])\n",
    "    final_scores = log(hmm.final_probs)\n",
    "    \n",
    "    return initial_scores, transition_scores, final_scores, emission_scores\n",
    "end"
   ]
  },
  {
   "cell_type": "code",
   "execution_count": 128,
   "metadata": {
    "collapsed": false
   },
   "outputs": [
    {
     "data": {
      "text/plain": [
       "([-1.09861,-0.405465],\n",
       "[-0.470004 -Inf; -0.693147 -0.693147],\n",
       "\n",
       "[-0.980829,-Inf],\n",
       "[-1.38629 -1.38629 -0.980829 -0.980829; -0.287682 -0.287682 -1.38629 -Inf])"
      ]
     },
     "execution_count": 128,
     "metadata": {},
     "output_type": "execute_result"
    }
   ],
   "source": [
    "#log_likelihood, forward = hmm.decoder.run_forward(initial_scores, transition_scores,final_scores, emission_scores)\n",
    "scores = compute_scores(hmm, train_sequences[1])\n"
   ]
  },
  {
   "cell_type": "code",
   "execution_count": 129,
   "metadata": {
    "collapsed": false
   },
   "outputs": [
    {
     "data": {
      "text/plain": [
       "([-1.09861,-0.405465],\n",
       "[-0.470004 -Inf; -0.693147 -0.693147],\n",
       "\n",
       "[-0.980829,-Inf],\n",
       "[-1.38629 -1.38629 -0.980829 -0.980829; -0.287682 -0.287682 -1.38629 -Inf])"
      ]
     },
     "execution_count": 129,
     "metadata": {},
     "output_type": "execute_result"
    }
   ],
   "source": [
    "scores"
   ]
  },
  {
   "cell_type": "markdown",
   "metadata": {},
   "source": [
    "## Posterior decoding\n",
    "\n",
    "\n",
    "Posterior decoding consists\n",
    "in picking state with the highest posterior for each position in the sequence independently; for \n",
    "each $i = 1,\\ldots,N$:\n",
    "\n",
    "\\begin{equation}\n",
    "y_i^* = \\text{argmax}_{y_i \\in \\Lambda} P(Y_i=y_i | X = x).\n",
    "\\end{equation}\n",
    "\n",
    "The **sequence posterior distribution** is the probability of a particular\n",
    "hidden state sequence given that we have observed a particular\n",
    "sequence. Moreover, we will be interested in two other posteriors distributions:\n",
    "the **state posterior distribution**, corresponding to the\n",
    "probability of being in a given state in a certain position given the\n",
    "observed sequence; and the \\textbf{transition posterior distribution},\n",
    "which is the probability of making a particular transition, from position $i$ to\n",
    "$i+1$, given the observed sequence. \n",
    "\n",
    "They are formally defined as follows:\n",
    "\n",
    "- Sequence  Posterior\n",
    "$$P(Y=y|X=x) = \\frac{P(X=x,Y=y)}{P(X=x)}\n",
    "$$\n",
    "\n",
    "- State Posterior\n",
    "$$\n",
    "P(Y_i=y_i | X=x)\n",
    "$$\n",
    "\n",
    "- Transition Posterior\n",
    "$$\n",
    "P(Y_{i+1}=y_{i+1},Y_i=y_i| X=x)\n",
    "$$\n",
    "\n",
    "\n",
    "### Computing posteriors involves beeing able to compute $P(X=x)$\n",
    "To compute the posteriors, a first step is to be able to compute the \n",
    "likelihood of\n",
    "the sequence $P(X=x)$, which corresponds to summing the probability of all\n",
    "possible hidden state sequences.\n",
    "\n",
    "\\begin{equation}\n",
    "\\mathbf{Likelihood\\!:}\\;\\;\\;\\; P(X=x) = \\displaystyle \\sum_{y \\in \\Lambda^N} P(X=x,Y=y).\n",
    "\\end{equation}\n",
    "\n",
    "The number of possible hidden state sequences is exponential in the\n",
    "length of the sequence ($|\\Lambda|^N$),\n",
    " which makes the sum over all of them hard. \n",
    " In our simple\n",
    " example, there are $2^4 = 16$ paths, which we can actually explicitly enumerate\n",
    " and calculate their probability using Equation of the joint probability $P(x,y)$. But this is as far as it goes: for example, for Part-of-Speech\n",
    " tagging with a small tagset of 12 tags and a medium size\n",
    " sentence of length 10, there are $12^{10} = 61 917 364 224$ such\n",
    " paths. \n",
    " \n",
    " Yet, we must be able to compute this sum (sum over $y \\in \\Lambda^N$) to compute the above likelihood\n",
    "formula; this is called the inference problem. For sequence models, there is a well known dynamic programming algorithm,\n",
    "the **Forward-Backward** (FB) algorithm, which allows the computation\n",
    "to be performed in linear time, The runtime is linear with respect\n",
    "to the sequence length. More precisely, \n",
    "the runtime is $O(N|\\Lambda|^2)$. \n",
    "A naive enumeration would cost $O(|\\Lambda|^N)$.\n",
    "\n",
    "The FB algorithm relies on the independence of previous states\n",
    "assumption, which  \n",
    "is illustrated in the trellis view by having arrows only between consecutive states. \n",
    "The FB algorithm defines two auxiliary probabilities, the forward probability and the backward probability. \n",
    "\n",
    "\n",
    "## Efficient forward probability computation\n",
    "\n",
    "The forward probability represents the probability that in position\n",
    "$i$ we are in state $Y_i = c_k$ and that we have observed $x_1,\\ldots,x_i$\n",
    "up to that position. Therefore, its mathematical expression is:\n",
    "\\begin{equation}\n",
    "\\mathbf{Forward \\ Probability\\!:}\\;\\;\\;\\;  \\mathrm{forward}(i, c_k) = P(Y_i = c_k, X_1=x_1,\\ldots, X_i = x_i)\n",
    "\\end{equation}\n",
    "\n",
    "\n",
    "Using the independence assumptions of the HMM we can compute $\\mathrm{forward}(i, c_k)$ using all the forward computations \\{$\\mathrm{forward}(i -1, c)$ for $c \\in \\Lambda$\\}. In order to facilitate the notation of the following argument we will denote by $x_{i:j}$  the assignemnt $X_i = x_i, \\dots, X_j = x_j$. Therefore we can write   $\\mathrm{forward}(i, y_i) $ as $P( y_i, x_{1:i } ) $ and rewrite the forward expression as follows:\n",
    "\n",
    "\\begin{equation}\n",
    "  P( y_i, x_{1:i } ) =  \\sum_{y_{i-1} \\in \\Lambda} P( y_i ,y_{i-1}, x_{1:i } )  =  \\sum_{y_{i-1} \\in \\Lambda} P( x_i  | y_i,  y_{i-1},  x_{1:i-1 } ) \\cdot P(y_i  | y_{i-1},  x_{1:i-1 }) \\cdot P(y_{i-1},  x_{1:i-1 })  \n",
    "\\end{equation}\n",
    "\n",
    "\n",
    "Using the **Observation independence** and the **Independence of previous states** properties of the first order HMM we have $P( x_i  | y_i,  y_{i-1},  x_{1:i-1 } ) = P( x_i  | y_i) $ and $P(y_i  | y_{i-1},  x_{1:i-1 })  = P(y_i  | y_{i-1})  $. Therefore the previous equation can be written, \n",
    "for $i \\in \\{2,\\dots,N\\}$ (where $N$ is the length of the sequence), as \n",
    "\n",
    "\\begin{equation}\n",
    " \\mathrm{forward}(i, y_i)  = \\sum_{y_{i-1} \\in \\Lambda} P( x_i  | y_i, ) \\cdot P(y_i  | y_{i-1}) \\cdot \\mathrm{forward}(i-1, y_{i-1})   \n",
    "\\end{equation}\n",
    "\n",
    "\n",
    "The previous equation proves that  the forward probability can be defined by the\n",
    "following recurrence rule: \n",
    "\n",
    "\\begin{eqnarray}\n",
    "\\mathrm{forward}(1, c_k)&=& P_{\\text{init}}(c_k|\\text{start}) \\times P_{\\mathrm{emiss}}(x_1 | c_k)\n",
    " \\\\\n",
    " \\mathrm{forward}(i, c_k) &=& \\left(  \\sum_{c_l \\in \\Lambda} P_{\\mathrm{trans}}(c_k | c_l) \\times \\mathrm{forward}(i-1, c_l) \\right) \\times P_{\\mathrm{emiss}}(x_i | c_k) \n",
    " \\\\\n",
    "  \\mathrm{forward}(N+1, \\text{stop}) &=& \\sum_{c_l \\in \\Lambda} P_{\\text{final}}(\\text{ stop} | c_l) \\times \\mathrm{forward}(N, c_l).\n",
    "\\end{eqnarray}\n",
    "\n",
    "\n",
    "Using the forward trellis one can compute the likelihood simply as:\n",
    "\n",
    "\\begin{equation}\n",
    "P(X=x) = \\mathrm{forward}(N+1, \\text{ stop}).\n",
    "\\end{equation}\n",
    "\n",
    "Although the forward probability is enough to calculate the likelihood of a given sequence, we will also need the backward probability to calculate the state posteriors. \n",
    "\n",
    "## Efficient backward probability computation\n",
    "\n",
    "\n",
    "\n",
    "The backward probability is similar to the forward probability, but operates in the inverse direction.\n",
    "It represents the probability of observing $x_{i+1},\\ldots,x_N$ from position $i+1$ up to $N$, given that at position $i$ we are at state $Y_i = c_l$:\n",
    "\n",
    "\\begin{equation}\n",
    "\\mathbf{Backward \\ Probability\\!:}\\;\\;\\;\\;  \\text{backward}(i, c_l) = P(X_{i+1}=x_{i+1},\\ldots, X_N=x_N | Y_i = c_l).\n",
    "\\end{equation}\n",
    "\n",
    "\n",
    "\n",
    "Using the independence assumptions of the HMM we can compute $\\text{backward}(i, c_k)$ using all the backward computations $\\text{backward}(i +1, c)$ for $c \\in \\Lambda$.\n",
    "\n",
    "Therefore we can write   $\\text{backward}(i, y_i) $ as $P( x_{i+1:N} | y_i ) $ and rewrite the forward expression as follows:\n",
    "\n",
    "\\begin{equation}\n",
    "  P( x_{i+1:N} | y_i ) =  \\sum_{y_{i+1} \\in \\Lambda} P( x_{i+1:N}, y_{i+1} | y_i)  =  \\sum_{y_{i+1} \\in \\Lambda} P( x_{i+2:N} | y_i, y_{i+1}, x_{i+1}) \n",
    "   P( x_{i+1}, |  y_{i+1},  y_{i}) P( y_{i+1} | y_i)\n",
    "\\end{equation}\n",
    "\n",
    "Using the previous equation we have proved that the backward probability can be defined by the following recurrence rule:\n",
    "\n",
    "\n",
    "\\begin{eqnarray}\n",
    "\\mathrm{backward}(N, c_l) &=& P_{\\text{final}}(\\text{stop} | c_l)  \\\\\n",
    "\\text{backward}(i, c_l) &=&  \\displaystyle \\sum_{c_k \\in \\Lambda} P_{\\text{trans}}(c_k | c_l) \\times \n",
    "\\text{backward}(i+1, c_k) \\times P_{\\text{emiss}}(x_{i+1} | c_k) \n",
    " \\\\\n",
    "  \\mathrm{backward}(0, \\text{start}) &=& \\sum_{c_k \\in \\Lambda} P_{\\mathrm{init}}(c_k | \\text{ start}) \\times \\mathrm{backward}(1, c_k) \\times P_{\\mathrm{emiss}}(x_{1} | c_k).\n",
    " \\end{eqnarray}\n",
    "\n",
    "Using the backward trellis one can compute the likelihood simply as:\n",
    "\n",
    "\\begin{equation}\n",
    "P(X=x) = \\mathrm{backward}(0, \\text{start}).\n",
    "\\end{equation}\n",
    "\n",
    "\n",
    "## The forward backward algorithm\n",
    "\n",
    "We have seen how we can compute the probability of a sequence $x$ using the the forward and backward probabilities by computing  $\\mathrm{forward}(N+1, \\text{ stop})$ and $ \\mathrm{backward}(0, \\text{ start})$ respectively. Moreover,  the probability of a sequence $x$ can be computed with both forward and backward probabilities at a particular position $i$. \n",
    "\n",
    "The probability of a  given sequence $x$ at any position $i$ in the sequence can be computed\n",
    "as follows:\n",
    "\n",
    "\n",
    "\\begin{eqnarray}\n",
    "  P(X=x) &=& \n",
    "  \\sum_{c_k \\in \\Lambda} P(X_1=x_1,\\ldots, X_N=x_N,Y_i=c_k)\\nonumber\\\\\n",
    "  & =&\n",
    "  \\sum_{c_k \\in \\Lambda} \n",
    "  \\underbrace{P(X_1=x_1,\\ldots, X_i=x_i, Y_i=c_k)}_{\\mathrm{forward}(i,c_k)} \\times \n",
    "  \\underbrace{P(X_{i+1}=x_{i+1},\\ldots, X_N=x_N| Y_i=c_k)}_{\\mathrm{backward}(i,c_k)}\\nonumber\\\\\n",
    "  &=& \\sum_{c_k \\in \\Lambda} \\mathrm{forward}(i,c_k) \\times \\mathrm{backward}(i,c_k).\n",
    "\\end{eqnarray}\n",
    "\n",
    "\n",
    "\n",
    "This equation will work for any choice of $i$. Although redundant, this fact is useful when implementing an\n",
    "HMM as a sanity check that the computations are being performed\n",
    "correctly, since one can compute this expression for several $i$; they should all yield the same value. \n",
    "\n",
    "The following pseudocode shows the the forward backward algorithm. \n",
    "\n",
    "<img src=\"./images_for_notebooks/day_2/fb_alg.png\"  style=\"max-width:100%; width: 50%\">\n",
    "\n",
    "The reader can notice that the $forward$ and $backward$ computations in the algorithm make use of $P_{emiss}$ and $P_{trans}$. There are a couple of details that should be taken into account if the reader wants to understand the algorithm using scores instead of probabilities.\n",
    "\n",
    "\n",
    "- $forward(i,\\hat{c})$  is computed using $P_{emiss}(x_i | \\hat{c})$ which does not depend on the sum over all possible states $c_k \\in  \\Lambda $. Therefore when taking the logarithm of the sum over all possible states the recurrence of the forward computations can be split as a sum of two logarithms.\n",
    "\n",
    "\n",
    "- $backward(i,\\hat{c})$  is computed using $ P_{\\text{trans}}(c_k | \\hat{c} )$ and $P_{\\text{emiss}}(x_{i+1} | c_k) $ both of  which  depend on $c_k$. Therefore when taking the logarithm of the sum the expression cannot be split as a sum of logarithms.\n",
    "\n",
    "\n",
    "\n",
    "Given the forward and backward probabilities, one can compute both the state\n",
    "and transition posteriors as follows:\n",
    "\n",
    "\n",
    "\\begin{align}\n",
    " \\mathbf{State \\ Posterior\\!:}\\;\\;\\;\\;  & P(Y_i = y_i| X=x) = \\frac{\\mathrm{forward}(i, y_i) \\times \n",
    " \\mathrm{backward}(i, y_i)}{P(X=x)}\\\\\n",
    " \\mathbf{Transition \\ Posterior\\!:}\\;\\;\\;\\; &\n",
    " P(Y_i = y_i, Y_{i+1} = y_{i+1} | X=x)= \\nonumber\\\\\n",
    " &\n",
    "   \\frac{\\mathrm{forward}(i, y_i) \\times \n",
    "   P_{\\mathrm{trans}}(y_{i+1}|y_i) \\times\n",
    "   P_{\\mathrm{emiss}}(x_{i+1}|y_{i+1}) \\times\n",
    " \\mathrm{backward}(i+1, y_{i+1})}{P(X=x)}\n",
    "\\end{align}\n",
    "\n",
    "As a practical example, given that the person performs the sequence of actions $\\text{ walk} \\text{ walk} \\text{ shop} \\text{ clean}$, we want to know the probability of having been raining in the second day. The state posterior probability for this event can be seen as the probability that the sequence of actions above was generated by a sequence of weathers and where it was raining in the second day. In this case, the possible sequences would be all the sequences which have {\\tt rainy} in the second position.\n",
    "\n",
    "\n",
    "Using the state posteriors, we are ready to perform posterior\n",
    "decoding. \n",
    "The strategy is to compute the state posteriors \n",
    "for each position $i \\in \\{1,\\ldots,N\\}$\n",
    "and each state $c_k \\in \\Lambda$, and \n",
    "then pick the arg-max at each position:\n",
    "\n",
    "$$\n",
    "{\\widehat y_i} := \\text{argmax}_{y_i \\in \\Lambda} P(Y_i=y_i| X=x).\n",
    "$$\n",
    "\n",
    "\n",
    "#### Forward\n",
    "\n",
    "\n",
    "        def run_forward(self, \n",
    "                        initial_scores,\n",
    "                        transition_scores,\n",
    "                        final_scores,\n",
    "                        emission_scores):\n",
    "                length = np.size(emission_scores, 0) \n",
    "                num_states = np.size(initial_scores) # Number of states.\n",
    "\n",
    "                # Forward variables.\n",
    "                forward = np.zeros([length, num_states]) + logzero()\n",
    "\n",
    "                # Initialization.\n",
    "                forward[0,:] = emission_scores[0,:] + initial_scores\n",
    "\n",
    "                # Forward loop.\n",
    "                for pos in xrange(1,length):\n",
    "                    for current_state in xrange(num_states):\n",
    "                        # x log domain turns a sum and sum turns a logsum\n",
    "                        forward[pos, current_state] = \\\n",
    "                                logsum(forward[pos-1, :] +\n",
    "                                transition_scores[pos-1, current_state, :])\n",
    "                        forward[pos, current_state] += emission_scores[pos, current_state]\n",
    "\n",
    "                # Termination.\n",
    "                log_likelihood = logsum(forward[length-1,:] + final_scores)\n",
    "\n",
    "                return log_likelihood, forward"
   ]
  },
  {
   "cell_type": "code",
   "execution_count": null,
   "metadata": {
    "collapsed": true
   },
   "outputs": [],
   "source": [
    "#initial_scores, transition_scores, final_scores, emission_scores = hmm.compute_scores(\n",
    "#                                                                   simple.train.seq_list[0])"
   ]
  },
  {
   "cell_type": "markdown",
   "metadata": {},
   "source": [
    "## Viterbi decoding"
   ]
  },
  {
   "cell_type": "code",
   "execution_count": null,
   "metadata": {
    "collapsed": true
   },
   "outputs": [],
   "source": []
  }
 ],
 "metadata": {
  "kernelspec": {
   "display_name": "Julia 0.5.0",
   "language": "julia",
   "name": "julia-0.5"
  },
  "language_info": {
   "file_extension": ".jl",
   "mimetype": "application/julia",
   "name": "julia",
   "version": "0.5.0"
  }
 },
 "nbformat": 4,
 "nbformat_minor": 0
}
