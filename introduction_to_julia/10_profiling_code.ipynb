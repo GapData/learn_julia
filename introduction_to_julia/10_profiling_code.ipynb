{
 "cells": [
  {
   "cell_type": "markdown",
   "metadata": {},
   "source": [
    "# Profiling Julia code"
   ]
  },
  {
   "cell_type": "code",
   "execution_count": 39,
   "metadata": {
    "collapsed": false
   },
   "outputs": [],
   "source": [
    "using Base.Profile"
   ]
  },
  {
   "cell_type": "code",
   "execution_count": 52,
   "metadata": {
    "collapsed": false
   },
   "outputs": [
    {
     "data": {
      "text/plain": [
       "0.9999998402526629"
      ]
     },
     "execution_count": 52,
     "metadata": {},
     "output_type": "execute_result"
    }
   ],
   "source": [
    "function myfunc()\n",
    "           A = rand(200, 200, 400)\n",
    "           maximum(A)\n",
    "       end\n",
    "\n",
    "myfunc()"
   ]
  },
  {
   "cell_type": "code",
   "execution_count": 62,
   "metadata": {
    "collapsed": true
   },
   "outputs": [],
   "source": [
    "Profile.clear()"
   ]
  },
  {
   "cell_type": "code",
   "execution_count": 63,
   "metadata": {
    "collapsed": false
   },
   "outputs": [
    {
     "data": {
      "text/plain": [
       "0.9999999997074176"
      ]
     },
     "execution_count": 63,
     "metadata": {},
     "output_type": "execute_result"
    }
   ],
   "source": [
    "@profile myfunc()"
   ]
  },
  {
   "cell_type": "code",
   "execution_count": 68,
   "metadata": {
    "collapsed": false,
    "scrolled": true
   },
   "outputs": [
    {
     "name": "stdout",
     "output_type": "stream",
     "text": [
      " Count File                        Line Function                               \n",
      "    56 ./<missing>                   -1 anonymous                              \n",
      "    26 ./In[52]                       2 myfunc()                               \n",
      "    30 ./In[52]                       3 myfunc()                               \n",
      "    24 ./dSFMT.jl                    84 dsfmt_fill_array_close_open!(::Base... \n",
      "    56 ./loading.jl                 515 include_string(::String, ::String)     \n",
      "    56 ./profile.jl                  23 macro expansion                        \n",
      "    24 ./random.jl                  433 rand!(::MersenneTwister, ::Array{Fl... \n",
      "     2 ./random.jl                  279 rand                                   \n",
      "     2 ./random.jl                  280 rand                                   \n",
      "     2 ./random.jl                  368 rand                                   \n",
      "     2 ./random.jl                  371 rand                                   \n",
      "    30 ./reduce.jl                  280 _mapreduce(::Base.#identity, ::Base... \n",
      "     7 ./reduce.jl                  430 mapreduce_impl(::Base.#identity, ::... \n",
      "     5 ./reduce.jl                  431 mapreduce_impl(::Base.#identity, ::... \n",
      "    18 ./reduce.jl                  432 mapreduce_impl(::Base.#identity, ::... \n",
      "    57 ./task.jl                    335 (::IJulia.##14#17)()                   \n",
      "    56 ....6/Compat/src/Compat.jl   478 include_string(::Module, ::String, ... \n",
      "    57 ...IJulia/src/eventloop.jl     8 eventloop(::ZMQ.Socket)                \n",
      "    56 .../src/execute_request.jl   154 execute_request(::ZMQ.Socket, ::IJu... \n",
      "     1 .../src/execute_request.jl   183 execute_request(::ZMQ.Socket, ::IJu... \n"
     ]
    }
   ],
   "source": [
    "Profile.print(format=:flat)"
   ]
  },
  {
   "cell_type": "code",
   "execution_count": 66,
   "metadata": {
    "collapsed": false
   },
   "outputs": [],
   "source": [
    "#Profile.print()"
   ]
  },
  {
   "cell_type": "code",
   "execution_count": null,
   "metadata": {
    "collapsed": true
   },
   "outputs": [],
   "source": []
  },
  {
   "cell_type": "code",
   "execution_count": null,
   "metadata": {
    "collapsed": true
   },
   "outputs": [],
   "source": []
  },
  {
   "cell_type": "code",
   "execution_count": null,
   "metadata": {
    "collapsed": true
   },
   "outputs": [],
   "source": []
  },
  {
   "cell_type": "code",
   "execution_count": null,
   "metadata": {
    "collapsed": true
   },
   "outputs": [],
   "source": []
  },
  {
   "cell_type": "markdown",
   "metadata": {},
   "source": [
    "### More examples"
   ]
  },
  {
   "cell_type": "code",
   "execution_count": 1,
   "metadata": {
    "collapsed": true
   },
   "outputs": [],
   "source": [
    "using Base.Profile"
   ]
  },
  {
   "cell_type": "code",
   "execution_count": 2,
   "metadata": {
    "collapsed": false
   },
   "outputs": [
    {
     "data": {
      "text/plain": [
       "examplefunc (generic function with 1 method)"
      ]
     },
     "execution_count": 2,
     "metadata": {},
     "output_type": "execute_result"
    }
   ],
   "source": [
    "function examplefunc(x)\n",
    "    x = x + 2\n",
    "    x = 2 * x\n",
    "    return x\n",
    "end"
   ]
  },
  {
   "cell_type": "code",
   "execution_count": 3,
   "metadata": {
    "collapsed": true
   },
   "outputs": [],
   "source": [
    "aux = rand(10000);"
   ]
  },
  {
   "cell_type": "code",
   "execution_count": 4,
   "metadata": {
    "collapsed": true
   },
   "outputs": [],
   "source": [
    "Profile.clear()"
   ]
  },
  {
   "cell_type": "code",
   "execution_count": 14,
   "metadata": {
    "collapsed": false
   },
   "outputs": [
    {
     "name": "stdout",
     "output_type": "stream",
     "text": [
      "  0.000102 seconds (8 allocations: 156.563 KiB)\n"
     ]
    }
   ],
   "source": [
    "@time examplefunc(aux);"
   ]
  },
  {
   "cell_type": "code",
   "execution_count": 15,
   "metadata": {
    "collapsed": true
   },
   "outputs": [],
   "source": [
    "@profile examplefunc(aux);"
   ]
  },
  {
   "cell_type": "code",
   "execution_count": 18,
   "metadata": {
    "collapsed": false
   },
   "outputs": [
    {
     "name": "stderr",
     "output_type": "stream",
     "text": [
      "\u001b[1m\u001b[33mWARNING: \u001b[39m\u001b[22m\u001b[33mThere were no samples collected. Run your program longer (perhaps by\n",
      "running it multiple times), or adjust the delay between samples with\n",
      "Profile.init().\u001b[39m\n"
     ]
    }
   ],
   "source": [
    "Profile.print()"
   ]
  },
  {
   "cell_type": "code",
   "execution_count": 19,
   "metadata": {
    "collapsed": true
   },
   "outputs": [],
   "source": [
    "@profile (for i = 1:100; examplefunc(aux); end)"
   ]
  },
  {
   "cell_type": "code",
   "execution_count": 20,
   "metadata": {
    "collapsed": false,
    "scrolled": false
   },
   "outputs": [
    {
     "name": "stdout",
     "output_type": "stream",
     "text": [
      "6 ./task.jl:335; (::IJulia.##14#17)()\n",
      " 6 ...IJulia/src/eventloop.jl:8; eventloop(::ZMQ.Socket)\n",
      "  5 ...src/execute_request.jl:154; execute_request(::ZMQ.Socket, ::I...\n",
      "   5 .../Compat/src/Compat.jl:478; include_string(::Module, ::String...\n",
      "    5 ./loading.jl:515; include_string(::String, ::String)\n",
      "     5 ./<missing>:?; anonymous\n",
      "      5 ./profile.jl:23; macro expansion\n",
      "       5 ./In[19]:1; macro expansion\n",
      "        4 ./In[2]:2; examplefunc\n",
      "         4 ./arraymath.jl:47; +(::Array{Float64,1}, ::Int64)\n",
      "          4 ./broadcast.jl:434; broadcast\n",
      "           4 ./broadcast.jl:314; broadcast_c\n",
      "            4 ./broadcast.jl:268; broadcast_t\n",
      "             4 ./broadcast.jl:139; _broadcast!\n",
      "              4 ./broadcast.jl:147; macro expansion\n",
      "               4 ./simdloop.jl:73; macro expansion\n",
      "                1 ./broadcast.jl:151; macro expansion\n",
      "                3 ./broadcast.jl:153; macro expansion\n",
      "        1 ./In[2]:3; examplefunc\n",
      "         1 ./arraymath.jl:44; *(::Int64, ::Array{Float64,1})\n",
      "          1 ./broadcast.jl:434; broadcast\n",
      "           1 ./broadcast.jl:314; broadcast_c\n",
      "            1 ./broadcast.jl:268; broadcast_t\n",
      "             1 ./broadcast.jl:139; _broadcast!\n",
      "              1 ./broadcast.jl:147; macro expansion\n",
      "               1 ./simdloop.jl:73; macro expansion\n",
      "                1 ./broadcast.jl:154; macro expansion\n",
      "                 1 ...tidimensional.jl:247; setindex!\n",
      "  1 ...src/execute_request.jl:190; execute_request(::ZMQ.Socket, ::I...\n",
      "   1 ...v0.6/IJulia/src/msg.jl:51; send_ipython(::ZMQ.Socket, ::IJul...\n",
      "    1 ./strings/io.jl:66; #sprint#228(::Void, ::Function, :...\n",
      "     1 ....6/JSON/src/Writer.jl:335; print(::Base.AbstractIOBuffer{Ar...\n",
      "      1 ...6/JSON/src/Writer.jl:327; #show_json#3(::Void, ::Function...\n",
      "       1 ...6/JSON/src/Writer.jl:273; show_json(::JSON.Writer.Compac...\n",
      "        1 .../JSON/src/Writer.jl:238; show_pair\n",
      "         1 .../JSON/src/Writer.jl:235; show_pair\n",
      "          1 .../JSON/src/Writer.jl:224; show_key(::JSON.Writer.Compac...\n",
      "           1 ...JSON/src/Writer.jl:117; write(::JSON.Writer.CompactC...\n",
      "            1 ./iobuffer.jl:347; write\n",
      "             1 ./iobuffer.jl:237; ensureroom\n",
      "              1 ./array.jl:737; resize!(::Array{UInt8,1}, ...\n"
     ]
    }
   ],
   "source": [
    "Profile.print()"
   ]
  },
  {
   "cell_type": "code",
   "execution_count": 21,
   "metadata": {
    "collapsed": false
   },
   "outputs": [
    {
     "name": "stdout",
     "output_type": "stream",
     "text": [
      "6 ..._9-x64/build/src/task.c:267; start_task\n",
      " 6 ...64/build/src/./julia.h:1424; jl_apply\n",
      "   6 ./task.jl:335; (::IJulia.##14#17)()\n",
      "    6 ...Julia/src/eventloop.jl:8; eventloop(::ZMQ.Socket)\n",
      "     6 .../build/src/builtins.c:464; jl_f__apply_latest\n",
      "      6 ...build/src/builtins.c:426; jl_f__apply\n",
      "       6 ...build/src/./julia.h:1424; jl_apply\n",
      "         5 .../execute_request.jl:154; execute_request(::ZMQ.Socket,...\n",
      "           5 ...mpat/src/Compat.jl:478; include_string(::Module, ::S...\n",
      "            5 ...ild/src/builtins.c:496; jl_toplevel_eval_in\n",
      "             5 ...ld/src/toplevel.c:577; jl_toplevel_eval_flex\n",
      "              5 ...src/interpreter.c:34; jl_interpret_toplevel_expr\n",
      "               5 ...src/interpreter.c:242; eval\n",
      "                5 ...src/interpreter.c:75; do_call\n",
      "                 5 ...b/julia/sys.dylib:?; jlcall_include_string_26781\n",
      "                  5 ./loading.jl:515; include_string(::String,...\n",
      "                   5 ...build/src/ast.c:873; jl_parse_eval_all\n",
      "                    5 .../src/toplevel.c:589; jl_toplevel_eval_flex\n",
      "                     5 ...lia_internal.h:358; jl_call_method_internal\n",
      "                      5 ...lia_internal.h:339; jl_call_fptr_internal\n",
      "                       5 ./<missing>:?; anonymous\n",
      "                        5 ./profile.jl:23; macro expansion\n",
      "                         5 ./In[19]:1; macro expansion\n",
      "                          4 ./In[2]:2; examplefunc\n",
      "                            4 ./arraymath.jl:47; +(::Array{Float64,...\n",
      "                             4 ./broadcast.jl:434; broadcast\n",
      "                              4 ./broadcast.jl:314; broadcast_c\n",
      "                               4 ...oadcast.jl:268; broadcast_t\n",
      "                                4 ...oadcast.jl:139; _broadcast!\n",
      "                                 4 ...adcast.jl:147; macro expansion\n",
      "                                  4 ...mdloop.jl:73; macro expansion\n",
      "                                   1 ...adcast.jl:151; macro expansion\n",
      "                                   3 ...adcast.jl:153; macro expansion\n",
      "                          1 ./In[2]:3; examplefunc\n",
      "                            1 ./arraymath.jl:44; *(::Int64, ::Array...\n",
      "                             1 ./broadcast.jl:434; broadcast\n",
      "                              1 ./broadcast.jl:314; broadcast_c\n",
      "                               1 ...oadcast.jl:268; broadcast_t\n",
      "                                1 ...oadcast.jl:139; _broadcast!\n",
      "                                 1 ...adcast.jl:147; macro expansion\n",
      "                                  1 ...mdloop.jl:73; macro expansion\n",
      "                                   1 ...adcast.jl:154; macro expansion\n",
      "                                    1 ...ional.jl:247; setindex!\n",
      "         1 .../execute_request.jl:190; execute_request(::ZMQ.Socket,...\n",
      "          1 ...6/IJulia/src/msg.jl:51; send_ipython(::ZMQ.Socket, ::...\n",
      "           1 ./strings/io.jl:66; #sprint#228(::Void, ::Functio...\n",
      "            1 ...ild/src/builtins.c:426; jl_f__apply\n",
      "             1 ...ild/src/./julia.h:1424; jl_apply\n",
      "               1 ...SON/src/Writer.jl:335; print(::Base.AbstractIOBuf...\n",
      "                 1 ...ON/src/Writer.jl:327; #show_json#3(::Void, ::F...\n",
      "                  1 ...N/src/Writer.jl:273; show_json(::JSON.Writer....\n",
      "                   1 ...N/src/Writer.jl:238; show_pair\n",
      "                    1 ...N/src/Writer.jl:235; show_pair\n",
      "                     1 .../src/Writer.jl:224; show_key(::JSON.Writer...\n",
      "                      1 .../src/Writer.jl:117; write(::JSON.Writer.C...\n",
      "                       1 ./iobuffer.jl:347; write\n",
      "                        1 ./iobuffer.jl:237; ensureroom\n",
      "                         1 ./array.jl:737; resize!(::Array{UInt...\n",
      "                          1 .../src/array.c:741; jl_array_grow_at_end\n",
      "                           1 .../src/array.c:580; array_resize_buffer\n",
      "                            1 ...ld/src/gc.c:2333; jl_gc_realloc_string\n",
      "                             1 ...src/array.c:422; jl_alloc_string\n",
      "                              1 ...d/src/gc.c:2129; jl_gc_alloc\n",
      "                               1 ...internal.h:249; jl_gc_alloc_\n",
      "                                1 ...d/src/gc.c:929; jl_gc_pool_alloc\n",
      "2 .../libsystem_kernel.dylib:?; kevent\n"
     ]
    }
   ],
   "source": [
    "Profile.print(C=true)"
   ]
  },
  {
   "cell_type": "markdown",
   "metadata": {},
   "source": [
    "#### example 2"
   ]
  },
  {
   "cell_type": "code",
   "execution_count": 136,
   "metadata": {
    "collapsed": true
   },
   "outputs": [],
   "source": [
    "Profile.clear()"
   ]
  },
  {
   "cell_type": "code",
   "execution_count": 137,
   "metadata": {
    "collapsed": false
   },
   "outputs": [
    {
     "data": {
      "text/plain": [
       "testfunc (generic function with 1 method)"
      ]
     },
     "execution_count": 137,
     "metadata": {},
     "output_type": "execute_result"
    }
   ],
   "source": [
    "function testfunc()\n",
    "    x = rand(10000, 1000)\n",
    "    y = std(x, 1)\n",
    "    return y\n",
    "end"
   ]
  },
  {
   "cell_type": "code",
   "execution_count": 138,
   "metadata": {
    "collapsed": false
   },
   "outputs": [
    {
     "data": {
      "text/plain": [
       "1×1000 Array{Float64,2}:\n",
       " 0.287737  0.289342  0.287736  0.290109  …  0.288354  0.290238  0.288198"
      ]
     },
     "execution_count": 138,
     "metadata": {},
     "output_type": "execute_result"
    }
   ],
   "source": [
    "@profile testfunc()"
   ]
  },
  {
   "cell_type": "code",
   "execution_count": 23,
   "metadata": {
    "collapsed": false
   },
   "outputs": [
    {
     "name": "stdout",
     "output_type": "stream",
     "text": [
      "6 ./task.jl:335; (::IJulia.##14#17)()\n",
      " 6 ...IJulia/src/eventloop.jl:8; eventloop(::ZMQ.Socket)\n",
      "  5 ...src/execute_request.jl:154; execute_request(::ZMQ.Socket, ::I...\n",
      "   5 .../Compat/src/Compat.jl:478; include_string(::Module, ::String...\n",
      "    5 ./loading.jl:515; include_string(::String, ::String)\n",
      "     5 ./<missing>:?; anonymous\n",
      "      5 ./profile.jl:23; macro expansion\n",
      "       5 ./In[19]:1; macro expansion\n",
      "        4 ./In[2]:2; examplefunc\n",
      "         4 ./arraymath.jl:47; +(::Array{Float64,1}, ::Int64)\n",
      "          4 ./broadcast.jl:434; broadcast\n",
      "           4 ./broadcast.jl:314; broadcast_c\n",
      "            4 ./broadcast.jl:268; broadcast_t\n",
      "             4 ./broadcast.jl:139; _broadcast!\n",
      "              4 ./broadcast.jl:147; macro expansion\n",
      "               4 ./simdloop.jl:73; macro expansion\n",
      "                1 ./broadcast.jl:151; macro expansion\n",
      "                3 ./broadcast.jl:153; macro expansion\n",
      "        1 ./In[2]:3; examplefunc\n",
      "         1 ./arraymath.jl:44; *(::Int64, ::Array{Float64,1})\n",
      "          1 ./broadcast.jl:434; broadcast\n",
      "           1 ./broadcast.jl:314; broadcast_c\n",
      "            1 ./broadcast.jl:268; broadcast_t\n",
      "             1 ./broadcast.jl:139; _broadcast!\n",
      "              1 ./broadcast.jl:147; macro expansion\n",
      "               1 ./simdloop.jl:73; macro expansion\n",
      "                1 ./broadcast.jl:154; macro expansion\n",
      "                 1 ...tidimensional.jl:247; setindex!\n",
      "  1 ...src/execute_request.jl:190; execute_request(::ZMQ.Socket, ::I...\n",
      "   1 ...v0.6/IJulia/src/msg.jl:51; send_ipython(::ZMQ.Socket, ::IJul...\n",
      "    1 ./strings/io.jl:66; #sprint#228(::Void, ::Function, :...\n",
      "     1 ....6/JSON/src/Writer.jl:335; print(::Base.AbstractIOBuffer{Ar...\n",
      "      1 ...6/JSON/src/Writer.jl:327; #show_json#3(::Void, ::Function...\n",
      "       1 ...6/JSON/src/Writer.jl:273; show_json(::JSON.Writer.Compac...\n",
      "        1 .../JSON/src/Writer.jl:238; show_pair\n",
      "         1 .../JSON/src/Writer.jl:235; show_pair\n",
      "          1 .../JSON/src/Writer.jl:224; show_key(::JSON.Writer.Compac...\n",
      "           1 ...JSON/src/Writer.jl:117; write(::JSON.Writer.CompactC...\n",
      "            1 ./iobuffer.jl:347; write\n",
      "             1 ./iobuffer.jl:237; ensureroom\n",
      "              1 ./array.jl:737; resize!(::Array{UInt8,1}, ...\n"
     ]
    }
   ],
   "source": [
    "Profile.print()"
   ]
  },
  {
   "cell_type": "markdown",
   "metadata": {},
   "source": [
    "### ProfileView"
   ]
  },
  {
   "cell_type": "code",
   "execution_count": 26,
   "metadata": {
    "collapsed": false
   },
   "outputs": [
    {
     "name": "stderr",
     "output_type": "stream",
     "text": [
      "\u001b[1m\u001b[36mINFO: \u001b[39m\u001b[22m\u001b[36mPrecompiling module ProfileView.\n",
      "\u001b[39m\u001b[1m\u001b[36mINFO: \u001b[39m\u001b[22m\u001b[36mPrecompiling module ProfileViewSVG.\n",
      "\u001b[39m"
     ]
    }
   ],
   "source": [
    "using ProfileView"
   ]
  },
  {
   "cell_type": "code",
   "execution_count": 27,
   "metadata": {
    "collapsed": false
   },
   "outputs": [
    {
     "data": {
      "text/plain": [
       "profile_test (generic function with 1 method)"
      ]
     },
     "execution_count": 27,
     "metadata": {},
     "output_type": "execute_result"
    }
   ],
   "source": [
    "function profile_test(n)\n",
    "    for i = 1:n\n",
    "        A = randn(100,100,20)\n",
    "        m = maximum(A)\n",
    "        Afft = fft(A)\n",
    "        Am = mapslices(sum, A, 2)\n",
    "        B = A[:,:,5]\n",
    "        Bsort = mapslices(sort, B, 1)\n",
    "        b = rand(100)\n",
    "        C = B.*b\n",
    "    end\n",
    "end"
   ]
  },
  {
   "cell_type": "code",
   "execution_count": 28,
   "metadata": {
    "collapsed": true
   },
   "outputs": [],
   "source": [
    "profile_test(1)  # run once to trigger compilation\n",
    "Profile.clear()  # in case we have any previous profiling data\n",
    "@profile  profile_test(100)"
   ]
  },
  {
   "cell_type": "code",
   "execution_count": 33,
   "metadata": {
    "collapsed": false
   },
   "outputs": [],
   "source": [
    "#ProfileView.view()"
   ]
  },
  {
   "cell_type": "code",
   "execution_count": 32,
   "metadata": {
    "collapsed": false
   },
   "outputs": [
    {
     "data": {
      "text/plain": [
       "Base.Profile"
      ]
     },
     "execution_count": 32,
     "metadata": {},
     "output_type": "execute_result"
    }
   ],
   "source": [
    "Base.Profile."
   ]
  },
  {
   "cell_type": "code",
   "execution_count": null,
   "metadata": {
    "collapsed": true
   },
   "outputs": [],
   "source": []
  },
  {
   "cell_type": "code",
   "execution_count": null,
   "metadata": {
    "collapsed": true
   },
   "outputs": [],
   "source": []
  }
 ],
 "metadata": {
  "kernelspec": {
   "display_name": "Julia 0.6.0",
   "language": "julia",
   "name": "julia-0.6"
  },
  "language_info": {
   "file_extension": ".jl",
   "mimetype": "application/julia",
   "name": "julia",
   "version": "0.6.0"
  }
 },
 "nbformat": 4,
 "nbformat_minor": 1
}
