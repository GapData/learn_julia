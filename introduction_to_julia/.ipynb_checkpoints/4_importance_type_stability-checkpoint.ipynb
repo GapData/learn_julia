{
 "cells": [
  {
   "cell_type": "markdown",
   "metadata": {
    "collapsed": true
   },
   "source": [
    "# Benchmarking typed stable code"
   ]
  },
  {
   "cell_type": "code",
   "execution_count": 1,
   "metadata": {
    "collapsed": false
   },
   "outputs": [
    {
     "data": {
      "text/plain": [
       "sumsqrtn (generic function with 1 method)"
      ]
     },
     "execution_count": 1,
     "metadata": {},
     "output_type": "execute_result"
    }
   ],
   "source": [
    "function sumsqrtn(n::Int)\n",
    "    r = 0\n",
    "    for i = 1:n\n",
    "        r = r + sqrt(i)\n",
    "    end\n",
    "return r end"
   ]
  },
  {
   "cell_type": "code",
   "execution_count": 7,
   "metadata": {
    "collapsed": false
   },
   "outputs": [
    {
     "name": "stdout",
     "output_type": "stream",
     "text": [
      "  0.000003 seconds (34 allocations: 640 bytes)\n",
      "  0.266036 seconds (30.00 M allocations: 457.764 MB, 7.69% gc time)\n"
     ]
    },
    {
     "data": {
      "text/plain": [
       "2.1081852648716972e10"
      ]
     },
     "execution_count": 7,
     "metadata": {},
     "output_type": "execute_result"
    }
   ],
   "source": [
    "@time sumsqrtn(10)\n",
    "@time sumsqrtn(10^7)"
   ]
  },
  {
   "cell_type": "code",
   "execution_count": 8,
   "metadata": {
    "collapsed": false
   },
   "outputs": [
    {
     "name": "stderr",
     "output_type": "stream",
     "text": [
      "WARNING: Method definition sumsqrtn2(Any) in module Main at In[4]:2 overwritten at In[8]:2.\n"
     ]
    },
    {
     "data": {
      "text/plain": [
       "sumsqrtn2 (generic function with 1 method)"
      ]
     },
     "execution_count": 8,
     "metadata": {},
     "output_type": "execute_result"
    }
   ],
   "source": [
    "function sumsqrtn2(n) \n",
    "    r = 0.\n",
    "    for i = 1:n\n",
    "        r = r + sqrt(i)\n",
    "    end\n",
    "return r end"
   ]
  },
  {
   "cell_type": "code",
   "execution_count": 9,
   "metadata": {
    "collapsed": false
   },
   "outputs": [
    {
     "name": "stdout",
     "output_type": "stream",
     "text": [
      "  0.006170 seconds (1.49 k allocations: 68.706 KB)\n",
      "  0.089695 seconds (6 allocations: 192 bytes)\n"
     ]
    },
    {
     "data": {
      "text/plain": [
       "2.1081852648716972e10"
      ]
     },
     "execution_count": 9,
     "metadata": {},
     "output_type": "execute_result"
    }
   ],
   "source": [
    "@time sumsqrtn2(10^3)\n",
    "@time sumsqrtn2(10^7)"
   ]
  },
  {
   "cell_type": "markdown",
   "metadata": {
    "collapsed": true
   },
   "source": [
    "#### verify type inestability using @code_warntype"
   ]
  },
  {
   "cell_type": "code",
   "execution_count": 14,
   "metadata": {
    "collapsed": false
   },
   "outputs": [
    {
     "name": "stdout",
     "output_type": "stream",
     "text": [
      "Variables:\n",
      "  #self#::#sumsqrtn\n",
      "  n::Int64\n",
      "  r\u001b[1m\u001b[31m::Any\u001b[0m\n",
      "  #temp#@_4::Int64\n",
      "  i::Int64\n",
      "  #temp#@_6::LambdaInfo\n",
      "  #temp#@_7::Float64\n",
      "\n",
      "Body:\n",
      "  begin \n",
      "      r\u001b[1m\u001b[31m::Any\u001b[0m = 0 # line 3:\n",
      "      SSAValue(2) = (Base.select_value)((Base.sle_int)(1,n::Int64)::Bool,n::Int64,(Base.box)(Int64,(Base.sub_int)(1,1)))::Int64\n",
      "      #temp#@_4::Int64 = 1\n",
      "      5: \n",
      "      unless (Base.box)(Base.Bool,(Base.not_int)((#temp#@_4::Int64 === (Base.box)(Int64,(Base.add_int)(SSAValue(2),1)))::Bool)) goto 30\n",
      "      SSAValue(3) = #temp#@_4::Int64\n",
      "      SSAValue(4) = (Base.box)(Int64,(Base.add_int)(#temp#@_4::Int64,1))\n",
      "      i::Int64 = SSAValue(3)\n",
      "      #temp#@_4::Int64 = SSAValue(4) # line 4:\n",
      "      unless (Core.isa)(r\u001b[1m\u001b[31m::Union{Float64,Int64}\u001b[0m,Float64)\u001b[1m\u001b[31m::Any\u001b[0m goto 15\n",
      "      #temp#@_6::LambdaInfo = LambdaInfo for +(::Float64, ::Float64)\n",
      "      goto 24\n",
      "      15: \n",
      "      unless (Core.isa)(r\u001b[1m\u001b[31m::Union{Float64,Int64}\u001b[0m,Int64)\u001b[1m\u001b[31m::Any\u001b[0m goto 19\n",
      "      #temp#@_6::LambdaInfo = LambdaInfo for +(::Int64, ::Float64)\n",
      "      goto 24\n",
      "      19: \n",
      "      goto 21\n",
      "      21: \n",
      "      #temp#@_7::Float64 = (r\u001b[1m\u001b[31m::Union{Float64,Int64}\u001b[0m + (Base.Math.box)(Base.Math.Float64,(Base.Math.sqrt_llvm)((Base.box)(Float64,(Base.sitofp)(Float64,i::Int64))))::Float64)::Float64\n",
      "      goto 26\n",
      "      24: \n",
      "      #temp#@_7::Float64 = $(Expr(:invoke, :(#temp#@_6), :(Main.+), :(r::Union{Float64,Int64}), :((Base.Math.box)(Base.Math.Float64,(Base.Math.sqrt_llvm)((Base.box)(Float64,(Base.sitofp)(Float64,i))))::Float64)))\n",
      "      26: \n",
      "      r\u001b[1m\u001b[31m::Any\u001b[0m = #temp#@_7::Float64\n",
      "      28: \n",
      "      goto 5\n",
      "      30:  # line 6:\n",
      "      return r\u001b[1m\u001b[31m::Union{Float64,Int64}\u001b[0m\n",
      "  end\u001b[1m\u001b[31m::Union{Float64,Int64}\u001b[0m\n"
     ]
    }
   ],
   "source": [
    "# In this case r is Any \n",
    "# The type of r changes and this heavily penalizes speed\n",
    "@code_warntype sumsqrtn(10);"
   ]
  },
  {
   "cell_type": "code",
   "execution_count": 12,
   "metadata": {
    "collapsed": false
   },
   "outputs": [
    {
     "name": "stdout",
     "output_type": "stream",
     "text": [
      "Variables:\n",
      "  #self#::#sumsqrtn2\n",
      "  n::Int64\n",
      "  r::Float64\n",
      "  #temp#::Int64\n",
      "  i::Int64\n",
      "\n",
      "Body:\n",
      "  begin \n",
      "      r::Float64 = 0.0 # line 3:\n",
      "      SSAValue(2) = (Base.select_value)((Base.sle_int)(1,n::Int64)::Bool,n::Int64,(Base.box)(Int64,(Base.sub_int)(1,1)))::Int64\n",
      "      #temp#::Int64 = 1\n",
      "      5: \n",
      "      unless (Base.box)(Base.Bool,(Base.not_int)((#temp#::Int64 === (Base.box)(Int64,(Base.add_int)(SSAValue(2),1)))::Bool)) goto 15\n",
      "      SSAValue(3) = #temp#::Int64\n",
      "      SSAValue(4) = (Base.box)(Int64,(Base.add_int)(#temp#::Int64,1))\n",
      "      i::Int64 = SSAValue(3)\n",
      "      #temp#::Int64 = SSAValue(4) # line 4:\n",
      "      r::Float64 = (Base.box)(Base.Float64,(Base.add_float)(r::Float64,(Base.Math.box)(Base.Math.Float64,(Base.Math.sqrt_llvm)((Base.box)(Float64,(Base.sitofp)(Float64,i::Int64))))::Float64))\n",
      "      13: \n",
      "      goto 5\n",
      "      15:  # line 6:\n",
      "      return r::Float64\n",
      "  end::Float64\n"
     ]
    }
   ],
   "source": [
    "# In this case r is Float64 during the execution\n",
    "@code_warntype sumsqrtn2(10)"
   ]
  },
  {
   "cell_type": "markdown",
   "metadata": {},
   "source": [
    "## Use ```local``` to fix type of a variable\n",
    "\n",
    "We we do not want to profile the code using @code_warntype we can use '''local''' to ensure the type of the variable."
   ]
  },
  {
   "cell_type": "code",
   "execution_count": 27,
   "metadata": {
    "collapsed": true
   },
   "outputs": [],
   "source": [
    "workspace()"
   ]
  },
  {
   "cell_type": "code",
   "execution_count": 28,
   "metadata": {
    "collapsed": false
   },
   "outputs": [
    {
     "data": {
      "text/plain": [
       "sumsqrtn (generic function with 1 method)"
      ]
     },
     "execution_count": 28,
     "metadata": {},
     "output_type": "execute_result"
    }
   ],
   "source": [
    "function sumsqrtn(n::Int)\n",
    "    local r::Int64 = 0\n",
    "    \n",
    "    for i = 1:n\n",
    "        r = r + sqrt(i)\n",
    "    end\n",
    "return r end"
   ]
  },
  {
   "cell_type": "code",
   "execution_count": 29,
   "metadata": {
    "collapsed": false
   },
   "outputs": [
    {
     "ename": "LoadError",
     "evalue": "InexactError()",
     "output_type": "error",
     "traceback": [
      "InexactError()",
      "",
      " in sumsqrtn(::Int64) at ./In[28]:5"
     ]
    }
   ],
   "source": [
    "sumsqrtn(10)"
   ]
  },
  {
   "cell_type": "code",
   "execution_count": null,
   "metadata": {
    "collapsed": true
   },
   "outputs": [],
   "source": []
  },
  {
   "cell_type": "code",
   "execution_count": null,
   "metadata": {
    "collapsed": true
   },
   "outputs": [],
   "source": []
  },
  {
   "cell_type": "code",
   "execution_count": null,
   "metadata": {
    "collapsed": true
   },
   "outputs": [],
   "source": []
  },
  {
   "cell_type": "code",
   "execution_count": null,
   "metadata": {
    "collapsed": true
   },
   "outputs": [],
   "source": []
  },
  {
   "cell_type": "code",
   "execution_count": null,
   "metadata": {
    "collapsed": true
   },
   "outputs": [],
   "source": []
  }
 ],
 "metadata": {
  "kernelspec": {
   "display_name": "Julia 0.5.0",
   "language": "julia",
   "name": "julia-0.5"
  },
  "language_info": {
   "file_extension": ".jl",
   "mimetype": "application/julia",
   "name": "julia",
   "version": "0.5.0"
  }
 },
 "nbformat": 4,
 "nbformat_minor": 0
}
