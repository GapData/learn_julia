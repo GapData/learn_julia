{
 "cells": [
  {
   "cell_type": "markdown",
   "metadata": {},
   "source": [
    "# vectorization in juia\n"
   ]
  },
  {
   "cell_type": "code",
   "execution_count": 1,
   "metadata": {
    "collapsed": false
   },
   "outputs": [
    {
     "data": {
      "text/plain": [
       "devec! (generic function with 1 method)"
      ]
     },
     "execution_count": 1,
     "metadata": {},
     "output_type": "execute_result"
    }
   ],
   "source": [
    "f(x) = 3x.^2 + 5x + 2\n",
    "\n",
    "# traditional-style vectorization:\n",
    "vec!(X) = X .= f(2X.^2 + 6X.^3 - sqrt.(X))\n",
    "\n",
    "# new-style vectorization (dot operations = syntactic loop fusion):\n",
    "newvec!(X) = X .= f.(2 .* X.^2 .+ 6 .* X.^3 .- sqrt.(X))\n",
    "\n",
    "# devectorized (explicit loops):\n",
    "function devec!(X)\n",
    "    for i in eachindex(X)\n",
    "        x = X[i]\n",
    "        X[i] = f(2x^2 + 6x^3 - sqrt(x))\n",
    "    end\n",
    "    return X\n",
    "end"
   ]
  },
  {
   "cell_type": "code",
   "execution_count": 2,
   "metadata": {
    "collapsed": false
   },
   "outputs": [
    {
     "name": "stderr",
     "output_type": "stream",
     "text": [
      "\u001b[1m\u001b[36mINFO: \u001b[39m\u001b[22m\u001b[36mRecompiling stale cache file /Users/david/.julia/lib/v0.6/JLD.ji for module JLD.\n",
      "\u001b[39m"
     ]
    }
   ],
   "source": [
    "using BenchmarkTools"
   ]
  },
  {
   "cell_type": "code",
   "execution_count": 3,
   "metadata": {
    "collapsed": false
   },
   "outputs": [
    {
     "data": {
      "text/plain": [
       "10"
      ]
     },
     "execution_count": 3,
     "metadata": {},
     "output_type": "execute_result"
    }
   ],
   "source": [
    "BenchmarkTools.DEFAULT_PARAMETERS.seconds = 10 # use 10s benchmarks to reduce timing noise\n"
   ]
  },
  {
   "cell_type": "code",
   "execution_count": 4,
   "metadata": {
    "collapsed": false
   },
   "outputs": [
    {
     "data": {
      "text/plain": [
       "BenchmarkTools.Trial: \n",
       "  memory estimate:  91.55 mb\n",
       "  allocs estimate:  24\n",
       "  --------------\n",
       "  minimum time:     48.337 ms (33.89% GC)\n",
       "  median time:      100.046 ms (63.22% GC)\n",
       "  mean time:        102.237 ms (64.16% GC)\n",
       "  maximum time:     171.490 ms (77.82% GC)\n",
       "  --------------\n",
       "  samples:          98\n",
       "  evals/sample:     1\n",
       "  time tolerance:   5.00%\n",
       "  memory tolerance: 1.00%"
      ]
     },
     "execution_count": 4,
     "metadata": {},
     "output_type": "execute_result"
    }
   ],
   "source": [
    "X = zeros(10^6)\n",
    "t_vec = @benchmark vec!($X)"
   ]
  },
  {
   "cell_type": "code",
   "execution_count": 5,
   "metadata": {
    "collapsed": false
   },
   "outputs": [
    {
     "data": {
      "text/plain": [
       "BenchmarkTools.Trial: \n",
       "  memory estimate:  0.00 bytes\n",
       "  allocs estimate:  0\n",
       "  --------------\n",
       "  minimum time:     3.787 ms (0.00% GC)\n",
       "  median time:      4.060 ms (0.00% GC)\n",
       "  mean time:        4.398 ms (0.00% GC)\n",
       "  maximum time:     10.183 ms (0.00% GC)\n",
       "  --------------\n",
       "  samples:          2271\n",
       "  evals/sample:     1\n",
       "  time tolerance:   5.00%\n",
       "  memory tolerance: 1.00%"
      ]
     },
     "execution_count": 5,
     "metadata": {},
     "output_type": "execute_result"
    }
   ],
   "source": [
    "t_devec = @benchmark devec!($X)"
   ]
  },
  {
   "cell_type": "code",
   "execution_count": 6,
   "metadata": {
    "collapsed": false
   },
   "outputs": [
    {
     "data": {
      "text/plain": [
       "BenchmarkTools.Trial: \n",
       "  memory estimate:  0.00 bytes\n",
       "  allocs estimate:  0\n",
       "  --------------\n",
       "  minimum time:     4.261 ms (0.00% GC)\n",
       "  median time:      4.525 ms (0.00% GC)\n",
       "  mean time:        4.930 ms (0.00% GC)\n",
       "  maximum time:     10.504 ms (0.00% GC)\n",
       "  --------------\n",
       "  samples:          2026\n",
       "  evals/sample:     1\n",
       "  time tolerance:   5.00%\n",
       "  memory tolerance: 1.00%"
      ]
     },
     "execution_count": 6,
     "metadata": {},
     "output_type": "execute_result"
    }
   ],
   "source": [
    "t_newvec = @benchmark newvec!($X)"
   ]
  },
  {
   "cell_type": "code",
   "execution_count": null,
   "metadata": {
    "collapsed": true
   },
   "outputs": [],
   "source": []
  },
  {
   "cell_type": "code",
   "execution_count": 8,
   "metadata": {
    "collapsed": false
   },
   "outputs": [
    {
     "data": {
      "text/plain": [
       "BenchmarkTools.Trial: \n",
       "  memory estimate:  0.00 bytes\n",
       "  allocs estimate:  0\n",
       "  --------------\n",
       "  minimum time:     385.862 ns (0.00% GC)\n",
       "  median time:      387.049 ns (0.00% GC)\n",
       "  mean time:        422.251 ns (0.00% GC)\n",
       "  maximum time:     1.632 μs (0.00% GC)\n",
       "  --------------\n",
       "  samples:          10000\n",
       "  evals/sample:     203\n",
       "  time tolerance:   5.00%\n",
       "  memory tolerance: 1.00%"
      ]
     },
     "execution_count": 8,
     "metadata": {},
     "output_type": "execute_result"
    }
   ],
   "source": [
    "X = zeros(10^2)\n",
    "t_devec = @benchmark devec!($X)"
   ]
  },
  {
   "cell_type": "code",
   "execution_count": 9,
   "metadata": {
    "collapsed": false
   },
   "outputs": [
    {
     "data": {
      "text/plain": [
       "BenchmarkTools.Trial: \n",
       "  memory estimate:  0.00 bytes\n",
       "  allocs estimate:  0\n",
       "  --------------\n",
       "  minimum time:     445.081 ns (0.00% GC)\n",
       "  median time:      458.665 ns (0.00% GC)\n",
       "  mean time:        505.428 ns (0.00% GC)\n",
       "  maximum time:     1.656 μs (0.00% GC)\n",
       "  --------------\n",
       "  samples:          10000\n",
       "  evals/sample:     197\n",
       "  time tolerance:   5.00%\n",
       "  memory tolerance: 1.00%"
      ]
     },
     "execution_count": 9,
     "metadata": {},
     "output_type": "execute_result"
    }
   ],
   "source": [
    "t_newvec = @benchmark newvec!($X)"
   ]
  },
  {
   "cell_type": "code",
   "execution_count": null,
   "metadata": {
    "collapsed": true
   },
   "outputs": [],
   "source": []
  },
  {
   "cell_type": "code",
   "execution_count": 19,
   "metadata": {
    "collapsed": false
   },
   "outputs": [
    {
     "data": {
      "text/plain": [
       "10×5 Array{Float64,2}:\n",
       " 0.983754  0.440438   0.114031  0.684705   0.496662\n",
       " 0.338432  0.998433   0.660499  0.157753   0.335764\n",
       " 0.691727  0.543788   0.503528  0.205895   0.587706\n",
       " 0.287199  0.652762   0.149192  0.648155   0.564834\n",
       " 0.531764  0.806885   0.638482  0.538228   0.651558\n",
       " 0.889328  0.721033   0.692548  0.799072   0.288586\n",
       " 0.93185   0.0193211  0.557542  0.802727   0.286672\n",
       " 0.387499  0.665174   0.238567  0.0782044  0.75774 \n",
       " 0.843337  0.909      0.360855  0.320794   0.819854\n",
       " 0.159578  0.217724   0.405082  0.952411   0.912674"
      ]
     },
     "execution_count": 19,
     "metadata": {},
     "output_type": "execute_result"
    }
   ],
   "source": [
    "X= rand(10,5)"
   ]
  },
  {
   "cell_type": "markdown",
   "metadata": {},
   "source": [
    "### Use broadcasting in non numeric types"
   ]
  },
  {
   "cell_type": "code",
   "execution_count": 21,
   "metadata": {
    "collapsed": false
   },
   "outputs": [
    {
     "data": {
      "text/plain": [
       "2-element Array{Int64,1}:\n",
       " 6\n",
       " 8"
      ]
     },
     "execution_count": 21,
     "metadata": {},
     "output_type": "execute_result"
    }
   ],
   "source": [
    "f.([3,4])"
   ]
  },
  {
   "cell_type": "code",
   "execution_count": 24,
   "metadata": {
    "collapsed": false
   },
   "outputs": [
    {
     "data": {
      "text/plain": [
       "4"
      ]
     },
     "execution_count": 24,
     "metadata": {},
     "output_type": "execute_result"
    }
   ],
   "source": [
    "f.(2)"
   ]
  },
  {
   "cell_type": "code",
   "execution_count": 25,
   "metadata": {
    "collapsed": false
   },
   "outputs": [
    {
     "data": {
      "text/plain": [
       "4-element Array{String,1}:\n",
       " \"Casa\" \n",
       " \"Pepe\" \n",
       " \"maria\"\n",
       " \"Elena\""
      ]
     },
     "execution_count": 25,
     "metadata": {},
     "output_type": "execute_result"
    }
   ],
   "source": [
    "x = [\"Casa\",\"Pepe\",\"maria\",\"Elena\"]"
   ]
  },
  {
   "cell_type": "code",
   "execution_count": 26,
   "metadata": {
    "collapsed": false
   },
   "outputs": [
    {
     "ename": "LoadError",
     "evalue": "\u001b[91mMethodError: no method matching methodswith(::String)\u001b[0m\nClosest candidates are:\n  methodswith(\u001b[91m::Type{T}\u001b[39m) at interactiveutil.jl:545\n  methodswith(\u001b[91m::Type{T}\u001b[39m, \u001b[91m::Function\u001b[39m) at interactiveutil.jl:519\n  methodswith(\u001b[91m::Type{T}\u001b[39m, \u001b[91m::Function\u001b[39m, \u001b[91m::Bool\u001b[39m) at interactiveutil.jl:519\n  ...\u001b[39m",
     "output_type": "error",
     "traceback": [
      "\u001b[91mMethodError: no method matching methodswith(::String)\u001b[0m\nClosest candidates are:\n  methodswith(\u001b[91m::Type{T}\u001b[39m) at interactiveutil.jl:545\n  methodswith(\u001b[91m::Type{T}\u001b[39m, \u001b[91m::Function\u001b[39m) at interactiveutil.jl:519\n  methodswith(\u001b[91m::Type{T}\u001b[39m, \u001b[91m::Function\u001b[39m, \u001b[91m::Bool\u001b[39m) at interactiveutil.jl:519\n  ...\u001b[39m",
      ""
     ]
    }
   ],
   "source": [
    "methodswith(\"Pepe\")"
   ]
  },
  {
   "cell_type": "code",
   "execution_count": null,
   "metadata": {
    "collapsed": true
   },
   "outputs": [],
   "source": []
  },
  {
   "cell_type": "code",
   "execution_count": null,
   "metadata": {
    "collapsed": true
   },
   "outputs": [],
   "source": []
  },
  {
   "cell_type": "code",
   "execution_count": null,
   "metadata": {
    "collapsed": true
   },
   "outputs": [],
   "source": []
  },
  {
   "cell_type": "code",
   "execution_count": 27,
   "metadata": {
    "collapsed": false
   },
   "outputs": [
    {
     "data": {
      "text/plain": [
       "0"
      ]
     },
     "execution_count": 27,
     "metadata": {},
     "output_type": "execute_result"
    }
   ],
   "source": [
    "aux = 0"
   ]
  },
  {
   "cell_type": "code",
   "execution_count": 95,
   "metadata": {
    "collapsed": false
   },
   "outputs": [
    {
     "data": {
      "text/plain": [
       "suma (generic function with 1 method)"
      ]
     },
     "execution_count": 95,
     "metadata": {},
     "output_type": "execute_result"
    }
   ],
   "source": [
    "function suma(N)\n",
    "    N_ = float(N)\n",
    "    aux = 0.0\n",
    "    for i in 1:N\n",
    "        aux += i/N_\n",
    "    end\n",
    "    return aux\n",
    "end"
   ]
  },
  {
   "cell_type": "code",
   "execution_count": 96,
   "metadata": {
    "collapsed": false
   },
   "outputs": [
    {
     "data": {
      "text/plain": [
       "BenchmarkTools.Trial: \n",
       "  memory estimate:  0.00 bytes\n",
       "  allocs estimate:  0\n",
       "  --------------\n",
       "  minimum time:     4.264 ms (0.00% GC)\n",
       "  median time:      4.473 ms (0.00% GC)\n",
       "  mean time:        4.848 ms (0.00% GC)\n",
       "  maximum time:     8.498 ms (0.00% GC)\n",
       "  --------------\n",
       "  samples:          2062\n",
       "  evals/sample:     1\n",
       "  time tolerance:   5.00%\n",
       "  memory tolerance: 1.00%"
      ]
     },
     "execution_count": 96,
     "metadata": {},
     "output_type": "execute_result"
    }
   ],
   "source": [
    "@benchmark suma(10^6)"
   ]
  },
  {
   "cell_type": "code",
   "execution_count": 97,
   "metadata": {
    "collapsed": false
   },
   "outputs": [
    {
     "data": {
      "text/plain": [
       "suma_simd (generic function with 1 method)"
      ]
     },
     "execution_count": 97,
     "metadata": {},
     "output_type": "execute_result"
    }
   ],
   "source": [
    "function suma_simd(N)\n",
    "    N_ = float(N)\n",
    "    aux = 0.0\n",
    "    @simd for i in 1:N\n",
    "        aux += i/N_\n",
    "    end\n",
    "    return aux\n",
    "end"
   ]
  },
  {
   "cell_type": "code",
   "execution_count": 98,
   "metadata": {
    "collapsed": false
   },
   "outputs": [
    {
     "data": {
      "text/plain": [
       "BenchmarkTools.Trial: \n",
       "  memory estimate:  0.00 bytes\n",
       "  allocs estimate:  0\n",
       "  --------------\n",
       "  minimum time:     4.258 ms (0.00% GC)\n",
       "  median time:      4.276 ms (0.00% GC)\n",
       "  mean time:        4.661 ms (0.00% GC)\n",
       "  maximum time:     8.321 ms (0.00% GC)\n",
       "  --------------\n",
       "  samples:          2145\n",
       "  evals/sample:     1\n",
       "  time tolerance:   5.00%\n",
       "  memory tolerance: 1.00%"
      ]
     },
     "execution_count": 98,
     "metadata": {},
     "output_type": "execute_result"
    }
   ],
   "source": [
    "@benchmark suma_simd(10^6)"
   ]
  },
  {
   "cell_type": "code",
   "execution_count": 182,
   "metadata": {
    "collapsed": false
   },
   "outputs": [],
   "source": [
    "X = rand(10^4,3);"
   ]
  },
  {
   "cell_type": "code",
   "execution_count": 157,
   "metadata": {
    "collapsed": false
   },
   "outputs": [
    {
     "data": {
      "text/plain": [
       "triple! (generic function with 1 method)"
      ]
     },
     "execution_count": 157,
     "metadata": {},
     "output_type": "execute_result"
    }
   ],
   "source": [
    "function triple!(X, positions)\n",
    "    X[positions,:] *=3\n",
    "end"
   ]
  },
  {
   "cell_type": "code",
   "execution_count": 158,
   "metadata": {
    "collapsed": false
   },
   "outputs": [],
   "source": [
    "positions = Array(1:10:size(X)[1]);"
   ]
  },
  {
   "cell_type": "code",
   "execution_count": 177,
   "metadata": {
    "collapsed": false
   },
   "outputs": [
    {
     "data": {
      "text/plain": [
       "BenchmarkTools.Trial: \n",
       "  memory estimate:  47.13 kb\n",
       "  allocs estimate:  8\n",
       "  --------------\n",
       "  minimum time:     16.357 μs (0.00% GC)\n",
       "  median time:      19.391 μs (0.00% GC)\n",
       "  mean time:        28.756 μs (18.50% GC)\n",
       "  maximum time:     2.994 ms (98.09% GC)\n",
       "  --------------\n",
       "  samples:          10000\n",
       "  evals/sample:     1\n",
       "  time tolerance:   5.00%\n",
       "  memory tolerance: 1.00%"
      ]
     },
     "execution_count": 177,
     "metadata": {},
     "output_type": "execute_result"
    }
   ],
   "source": [
    "@benchmark triple!(X, positions)"
   ]
  },
  {
   "cell_type": "code",
   "execution_count": 179,
   "metadata": {
    "collapsed": false
   },
   "outputs": [
    {
     "data": {
      "text/plain": [
       "triple (generic function with 1 method)"
      ]
     },
     "execution_count": 179,
     "metadata": {},
     "output_type": "execute_result"
    }
   ],
   "source": [
    "function triple(X, positions)\n",
    "    aux = 3*X[positions,:]\n",
    "    return aux\n",
    "end"
   ]
  },
  {
   "cell_type": "code",
   "execution_count": 180,
   "metadata": {
    "collapsed": false
   },
   "outputs": [
    {
     "data": {
      "text/plain": [
       "BenchmarkTools.Trial: \n",
       "  memory estimate:  47.30 kb\n",
       "  allocs estimate:  14\n",
       "  --------------\n",
       "  minimum time:     17.399 μs (0.00% GC)\n",
       "  median time:      23.043 μs (0.00% GC)\n",
       "  mean time:        33.345 μs (14.35% GC)\n",
       "  maximum time:     4.563 ms (96.67% GC)\n",
       "  --------------\n",
       "  samples:          10000\n",
       "  evals/sample:     1\n",
       "  time tolerance:   5.00%\n",
       "  memory tolerance: 1.00%"
      ]
     },
     "execution_count": 180,
     "metadata": {},
     "output_type": "execute_result"
    }
   ],
   "source": [
    "@benchmark X[positions,:] = triple(X, positions)"
   ]
  },
  {
   "cell_type": "code",
   "execution_count": null,
   "metadata": {
    "collapsed": true
   },
   "outputs": [],
   "source": []
  }
 ],
 "metadata": {
  "kernelspec": {
   "display_name": "Julia 0.6.0-dev",
   "language": "julia",
   "name": "julia-0.6"
  },
  "language_info": {
   "file_extension": ".jl",
   "mimetype": "application/julia",
   "name": "julia",
   "version": "0.6.0"
  }
 },
 "nbformat": 4,
 "nbformat_minor": 0
}
