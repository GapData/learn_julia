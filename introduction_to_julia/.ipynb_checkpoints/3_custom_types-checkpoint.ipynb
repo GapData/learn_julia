{
 "cells": [
  {
   "cell_type": "markdown",
   "metadata": {
    "collapsed": true
   },
   "source": [
    "# Defining your own type\n",
    "\n",
    "Types can be thought as boxes containing fields. Every field has a name and it is highly recoomended to have a type as well (but not required)\n",
    "\n"
   ]
  },
  {
   "cell_type": "code",
   "execution_count": null,
   "metadata": {
    "collapsed": true
   },
   "outputs": [],
   "source": [
    "workspace()\n",
    "type troll{T}\n",
    "    weigsht::T\n",
    "    height::T\n",
    "end"
   ]
  },
  {
   "cell_type": "code",
   "execution_count": null,
   "metadata": {
    "collapsed": false
   },
   "outputs": [],
   "source": [
    "a_troll = troll(3,4)"
   ]
  },
  {
   "cell_type": "code",
   "execution_count": null,
   "metadata": {
    "collapsed": false
   },
   "outputs": [],
   "source": [
    "a_troll"
   ]
  },
  {
   "cell_type": "markdown",
   "metadata": {},
   "source": [
    "WE can use other types to define a troll"
   ]
  },
  {
   "cell_type": "code",
   "execution_count": null,
   "metadata": {
    "collapsed": false
   },
   "outputs": [],
   "source": [
    "a_troll = troll(3., 4.)"
   ]
  },
  {
   "cell_type": "markdown",
   "metadata": {},
   "source": [
    "Nevertheless we defined ty type stating that every filed had to be form the same type. Therefore troll(3,4.) will not work"
   ]
  },
  {
   "cell_type": "code",
   "execution_count": null,
   "metadata": {
    "collapsed": false
   },
   "outputs": [],
   "source": [
    "a_troll = troll(3,4.)"
   ]
  },
  {
   "cell_type": "markdown",
   "metadata": {},
   "source": [
    "### Creating inner constructors\n",
    "\n",
    "We can add a function inside a type used to instanciate the type.\n",
    "\n",
    "This function can be used for example in order to..\n",
    "\n",
    "- Put restrictions on the type, such as..\n",
    "     - not allow negative values \n",
    "     - Not allow 'rare' characters"
   ]
  },
  {
   "cell_type": "code",
   "execution_count": null,
   "metadata": {
    "collapsed": true
   },
   "outputs": [],
   "source": [
    "workspace()"
   ]
  },
  {
   "cell_type": "code",
   "execution_count": null,
   "metadata": {
    "collapsed": false
   },
   "outputs": [],
   "source": [
    "type Giant{T}\n",
    "    weight::T\n",
    "    height::T\n",
    "    intelligence::String\n",
    "    \n",
    "    function Giant(w, h, i)\n",
    "        if h<2\n",
    "            throw(ArgumentError(\"Giants are taller\\n\"))\n",
    "        end\n",
    "        return new(w,h,i)\n",
    "    end\n",
    "end"
   ]
  },
  {
   "cell_type": "code",
   "execution_count": null,
   "metadata": {
    "collapsed": false
   },
   "outputs": [],
   "source": [
    "methodswith(Giant)"
   ]
  },
  {
   "cell_type": "markdown",
   "metadata": {},
   "source": [
    "Notice that if a constructor is defined inside a type we must explicitly define a way to instanciate new elements for every possible type T."
   ]
  },
  {
   "cell_type": "code",
   "execution_count": null,
   "metadata": {
    "collapsed": false
   },
   "outputs": [],
   "source": [
    "Giant(3.,4.,\"low\")"
   ]
  },
  {
   "cell_type": "markdown",
   "metadata": {},
   "source": [
    "Let us do it"
   ]
  },
  {
   "cell_type": "code",
   "execution_count": null,
   "metadata": {
    "collapsed": false
   },
   "outputs": [],
   "source": [
    "Giant{T}(weight::T, height::T, intelligence::String) = Giant{T}(weight, height, intelligence)\n",
    "\n",
    "#Giant{T}(weight::T, height::T) = Giant{T}(weight, height ; intelligence=\"low\")"
   ]
  },
  {
   "cell_type": "code",
   "execution_count": null,
   "metadata": {
    "collapsed": false
   },
   "outputs": [],
   "source": [
    "methodswith(Giant)"
   ]
  },
  {
   "cell_type": "code",
   "execution_count": null,
   "metadata": {
    "collapsed": false
   },
   "outputs": [],
   "source": [
    "giant = Giant(3., 4., \"low\")"
   ]
  },
  {
   "cell_type": "code",
   "execution_count": null,
   "metadata": {
    "collapsed": false
   },
   "outputs": [],
   "source": [
    "giant.height, giant.weight, giant.intelligence"
   ]
  },
  {
   "cell_type": "markdown",
   "metadata": {},
   "source": [
    "Notice that, sice we have written a restriction on the height of the giant\n",
    "we cannot instanciate giants with less than 2 meter height"
   ]
  },
  {
   "cell_type": "code",
   "execution_count": null,
   "metadata": {
    "collapsed": false
   },
   "outputs": [],
   "source": [
    "giant = Giant(3.,4.,\"medium\")"
   ]
  },
  {
   "cell_type": "code",
   "execution_count": null,
   "metadata": {
    "collapsed": false
   },
   "outputs": [],
   "source": [
    "giant.height, giant.weight, giant.intelligence"
   ]
  },
  {
   "cell_type": "code",
   "execution_count": null,
   "metadata": {
    "collapsed": false
   },
   "outputs": [],
   "source": [
    "giant = Giant(3.,1.,\"medium\")"
   ]
  },
  {
   "cell_type": "markdown",
   "metadata": {},
   "source": [
    "### Assigning  a default value to a type \n",
    "\n",
    "By default we might think that Giants are quite stupid and therefore we might be interested into assigning \"stupid\" intelligence as default.\n",
    "\n",
    "Notice that default values in Julia are defined after ```;```\n",
    "\n",
    "This can be specially handly in order to provide default values for types, for example when there could be 'standard values' for some of the fileds inside a type and we do not want to bother the user selecting field values. \n",
    "\n",
    "Using this trick we can allow the user to set values to all the fields the user wants to but at the same time, allow the user **not to** define all possible fields ."
   ]
  },
  {
   "cell_type": "code",
   "execution_count": null,
   "metadata": {
    "collapsed": true
   },
   "outputs": [],
   "source": [
    "workspace()"
   ]
  },
  {
   "cell_type": "code",
   "execution_count": null,
   "metadata": {
    "collapsed": false
   },
   "outputs": [],
   "source": [
    "type Giant{T}\n",
    "    weight::T\n",
    "    height::T\n",
    "    intelligence::String\n",
    "    \n",
    "    function Giant(w, h ; intelligence=\"stupid\")\n",
    "        if h<2\n",
    "            throw(ArgumentError(\"Giants are taller\\n\"))\n",
    "        end\n",
    "        return new(w, h ,  intelligence)\n",
    "    end\n",
    "    \n",
    "end\n",
    "\n",
    "## IMPORTANT TO ADD CONSTRUCTOR FOR EVERY TYPE T !!!!\n",
    "Giant{T}(weight::T, height::T) = Giant{T}(weight, height)\n"
   ]
  },
  {
   "cell_type": "code",
   "execution_count": null,
   "metadata": {
    "collapsed": false
   },
   "outputs": [],
   "source": [
    "giant = Giant(3.,5.)"
   ]
  },
  {
   "cell_type": "code",
   "execution_count": null,
   "metadata": {
    "collapsed": false
   },
   "outputs": [],
   "source": [
    "giant.weight, giant.height, giant.intelligence"
   ]
  },
  {
   "cell_type": "code",
   "execution_count": null,
   "metadata": {
    "collapsed": false,
    "scrolled": true
   },
   "outputs": [],
   "source": [
    "giant.intelligence = \"smart\""
   ]
  },
  {
   "cell_type": "code",
   "execution_count": null,
   "metadata": {
    "collapsed": false
   },
   "outputs": [],
   "source": [
    "giant.weight, giant.height, giant.intelligence"
   ]
  },
  {
   "cell_type": "markdown",
   "metadata": {},
   "source": [
    "Notice that we cannot pass now a value for the field intelligence"
   ]
  },
  {
   "cell_type": "code",
   "execution_count": null,
   "metadata": {
    "collapsed": false
   },
   "outputs": [],
   "source": [
    "rare_giant = Giant(5.,4.,\"smart\")"
   ]
  },
  {
   "cell_type": "markdown",
   "metadata": {},
   "source": [
    "Notice that we cannot use this definition since we need to specify how to create a Giant  when we pass the intelligence field."
   ]
  },
  {
   "cell_type": "markdown",
   "metadata": {},
   "source": [
    "### Allowing types to have fields with defeault values\n",
    "\n",
    "https://groups.google.com/forum/#!topic/julia-users/9jM7GIoh7YY"
   ]
  },
  {
   "cell_type": "code",
   "execution_count": null,
   "metadata": {
    "collapsed": false
   },
   "outputs": [],
   "source": [
    "workspace()\n",
    "\n",
    "type Giant{T}\n",
    "    weight::T\n",
    "    height::T\n",
    "    intelligence::String\n",
    "    \n",
    "    function Giant(w, h ; intelligence=\"stupid\")\n",
    "        if h<2\n",
    "            throw(ArgumentError(\"Giants are taller\\n\"))\n",
    "        end\n",
    "        return new(w, h, intelligence)\n",
    "    end\n",
    "    \n",
    "    function Giant(w, h, intelligence)\n",
    "        if h<2\n",
    "            throw(ArgumentError(\"Giants are taller\\n\"))\n",
    "        end\n",
    "        return new(w, h, intelligence)\n",
    "    end\n",
    "end\n",
    "\n",
    "## IMPORTANT TO ADD CONSTRUCTOR FOR EVERY TYPE T !!!!\n",
    "Giant{T}(weight::T, height::T) = Giant{T}(weight, height)\n",
    "Giant{T}(weight::T, height::T, intelligence::String) = Giant{T}(weight, height, intelligence)"
   ]
  },
  {
   "cell_type": "code",
   "execution_count": null,
   "metadata": {
    "collapsed": false
   },
   "outputs": [],
   "source": [
    "rare_giant = Giant(5., 4., \"smart\")"
   ]
  },
  {
   "cell_type": "code",
   "execution_count": null,
   "metadata": {
    "collapsed": false
   },
   "outputs": [],
   "source": [
    "giant = Giant(3., 5.)"
   ]
  },
  {
   "cell_type": "markdown",
   "metadata": {},
   "source": [
    "#### Type man"
   ]
  },
  {
   "cell_type": "markdown",
   "metadata": {},
   "source": [
    "\n",
    "The following example is the type man that contains 3 fields, **```heigh```**,**``` weight```** and **```name```**."
   ]
  },
  {
   "cell_type": "code",
   "execution_count": null,
   "metadata": {
    "collapsed": false
   },
   "outputs": [],
   "source": [
    "type man{T}\n",
    "    height::T\n",
    "    weight::T\n",
    "    name::String\n",
    "end"
   ]
  },
  {
   "cell_type": "markdown",
   "metadata": {},
   "source": [
    "A type can be instanciated by assigning values to its fields, the fields of a type can be checked with the **```fieldnames```** function"
   ]
  },
  {
   "cell_type": "code",
   "execution_count": null,
   "metadata": {
    "collapsed": false
   },
   "outputs": [],
   "source": [
    "david = man(183, 80, \"David\")"
   ]
  },
  {
   "cell_type": "code",
   "execution_count": null,
   "metadata": {
    "collapsed": false
   },
   "outputs": [],
   "source": [
    "fieldnames(david)"
   ]
  },
  {
   "cell_type": "markdown",
   "metadata": {
    "collapsed": true
   },
   "source": [
    "Notice that **you cannot specify a particular value on a field**."
   ]
  },
  {
   "cell_type": "code",
   "execution_count": null,
   "metadata": {
    "collapsed": false
   },
   "outputs": [],
   "source": [
    "type girl{T}\n",
    "    height::T\n",
    "    weight::T\n",
    "    name=\"Julia\"\n",
    "end"
   ]
  },
  {
   "cell_type": "markdown",
   "metadata": {},
   "source": [
    "Nevertheless you can define a type and a (so called) inner constructor which might specify a particular value of the type."
   ]
  },
  {
   "cell_type": "code",
   "execution_count": null,
   "metadata": {
    "collapsed": false
   },
   "outputs": [],
   "source": [
    "type girl2{T}\n",
    "    height::T\n",
    "    weight::T\n",
    "    name::String\n",
    "end"
   ]
  },
  {
   "cell_type": "code",
   "execution_count": null,
   "metadata": {
    "collapsed": false
   },
   "outputs": [],
   "source": [
    "girl2(23, 123, \"julia\")"
   ]
  },
  {
   "cell_type": "code",
   "execution_count": null,
   "metadata": {
    "collapsed": false
   },
   "outputs": [],
   "source": [
    "typeof(girl2)"
   ]
  },
  {
   "cell_type": "code",
   "execution_count": null,
   "metadata": {
    "collapsed": false
   },
   "outputs": [],
   "source": [
    "methodswith(girl2)"
   ]
  },
  {
   "cell_type": "markdown",
   "metadata": {},
   "source": [
    "### Inner constructor"
   ]
  },
  {
   "cell_type": "code",
   "execution_count": null,
   "metadata": {
    "collapsed": false
   },
   "outputs": [],
   "source": [
    "type girl4{T}\n",
    "    height::T\n",
    "    weight::T\n",
    "    name::String\n",
    "    \n",
    "    function girl4(height, weight, name)\n",
    "        new(23,12,\"lala\")\n",
    "    end\n",
    "end"
   ]
  },
  {
   "cell_type": "code",
   "execution_count": null,
   "metadata": {
    "collapsed": false
   },
   "outputs": [],
   "source": [
    "girl4(23,123,\"julia\")"
   ]
  },
  {
   "cell_type": "markdown",
   "metadata": {
    "collapsed": true
   },
   "source": [
    "# Making custom print for a defined type\n",
    "\n",
    "Once defined a type we can import ```Base.show``` and define a ```show``` method for the defined type\n"
   ]
  },
  {
   "cell_type": "code",
   "execution_count": 15,
   "metadata": {
    "collapsed": true
   },
   "outputs": [],
   "source": [
    "import Base.show"
   ]
  },
  {
   "cell_type": "code",
   "execution_count": 16,
   "metadata": {
    "collapsed": false
   },
   "outputs": [
    {
     "name": "stderr",
     "output_type": "stream",
     "text": [
      "WARNING: Method definition (::Type{Main.Point})(Int64, Int64) in module Main at In[10]:2 overwritten at In[16]:2.\n",
      "WARNING: Method definition (::Type{Main.Point})(Any, Any) in module Main at In[10]:2 overwritten at In[16]:2.\n"
     ]
    }
   ],
   "source": [
    "type Point\n",
    "       x::Int\n",
    "       y::Int\n",
    "end"
   ]
  },
  {
   "cell_type": "code",
   "execution_count": 17,
   "metadata": {
    "collapsed": false
   },
   "outputs": [
    {
     "name": "stderr",
     "output_type": "stream",
     "text": [
      "WARNING: Method definition show(IO, Main.Point) in module Main at In[11]:1 overwritten at In[17]:1.\n"
     ]
    }
   ],
   "source": [
    "Base.show(io::IO, p::Point) = print(io, \"Point: x=$(p.x), y=$(p.y)\")"
   ]
  },
  {
   "cell_type": "code",
   "execution_count": 18,
   "metadata": {
    "collapsed": false
   },
   "outputs": [],
   "source": [
    "#Base.print(io::IO, p::Point) = string(p)"
   ]
  },
  {
   "cell_type": "code",
   "execution_count": 19,
   "metadata": {
    "collapsed": false
   },
   "outputs": [
    {
     "data": {
      "text/plain": [
       "Point: x=4, y=5"
      ]
     },
     "execution_count": 19,
     "metadata": {},
     "output_type": "execute_result"
    }
   ],
   "source": [
    "Point(4,5)"
   ]
  },
  {
   "cell_type": "code",
   "execution_count": 14,
   "metadata": {
    "collapsed": false
   },
   "outputs": [
    {
     "name": "stdout",
     "output_type": "stream",
     "text": [
      "Point: x=4, y=5"
     ]
    }
   ],
   "source": [
    "print(Point(4,5))"
   ]
  },
  {
   "cell_type": "code",
   "execution_count": 8,
   "metadata": {
    "collapsed": false
   },
   "outputs": [
    {
     "data": {
      "text/plain": [
       "3-element Array{Point,1}:\n",
       " Point: x=2, y=5\n",
       " Point: x=1, y=1\n",
       " Point: x=5, y=6"
      ]
     },
     "execution_count": 8,
     "metadata": {},
     "output_type": "execute_result"
    }
   ],
   "source": [
    "[Point(2,5), Point(1,1), Point(5,6)]"
   ]
  },
  {
   "cell_type": "markdown",
   "metadata": {},
   "source": [
    "### Another example"
   ]
  },
  {
   "cell_type": "code",
   "execution_count": null,
   "metadata": {
    "collapsed": false
   },
   "outputs": [],
   "source": [
    "require(\"Enum\")\n",
    "\n",
    "using Calendar\n",
    "   type LogMessage\n",
    "     stamped::CalendarTime\n",
    "     msgstat::MsgStatus\n",
    "     message::String\n",
    "end\n",
    "   import Base.show\n",
    "   show(m::LogMessage) =\n",
    "   print(\"$(m.stamped): $(m.msgstat) >> $(m.message)\")\n",
    "   msg = LogMessage(Calendar.now(), WARN, \"Be very afraid\")\n",
    "   show(msg)"
   ]
  },
  {
   "cell_type": "markdown",
   "metadata": {},
   "source": [
    "### The importance of declaring code inside functions"
   ]
  },
  {
   "cell_type": "code",
   "execution_count": null,
   "metadata": {
    "collapsed": false
   },
   "outputs": [],
   "source": [
    "@time begin\n",
    "pos = 0\n",
    "num_steps = 10^4\n",
    "numwalkers = 10^4\n",
    "final_square_positions = Int[]\n",
    "\n",
    "for i in 1:numwalkers\n",
    "    for j in 1:num_steps\n",
    "        pos += ifelse( rand() < 0.5, -1, +1)\n",
    "    end\n",
    "        push!(final_square_positions, pos^2)\n",
    "end\n",
    "    \n",
    "end"
   ]
  },
  {
   "cell_type": "code",
   "execution_count": null,
   "metadata": {
    "collapsed": false
   },
   "outputs": [],
   "source": [
    "function fool_function()\n",
    "    pos = 0\n",
    "    num_steps = 10^4\n",
    "    numwalkers = 10^4\n",
    "    final_square_positions = Int[]\n",
    "\n",
    "    for i in 1:numwalkers\n",
    "        for j in 1:num_steps\n",
    "            pos += ifelse( rand() < 0.5, -1, +1)\n",
    "        end\n",
    "            push!(final_square_positions, pos^2)\n",
    "    end\n",
    "end"
   ]
  },
  {
   "cell_type": "code",
   "execution_count": null,
   "metadata": {
    "collapsed": false
   },
   "outputs": [],
   "source": [
    "@time fool_function()"
   ]
  },
  {
   "cell_type": "code",
   "execution_count": null,
   "metadata": {
    "collapsed": true
   },
   "outputs": [],
   "source": []
  }
 ],
 "metadata": {
  "kernelspec": {
   "display_name": "Julia 0.5.0",
   "language": "julia",
   "name": "julia-0.5"
  },
  "language_info": {
   "file_extension": ".jl",
   "mimetype": "application/julia",
   "name": "julia",
   "version": "0.5.0"
  }
 },
 "nbformat": 4,
 "nbformat_minor": 0
}
