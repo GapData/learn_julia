{
 "cells": [
  {
   "cell_type": "markdown",
   "metadata": {},
   "source": [
    "# Multidimensional Arrays in Julia"
   ]
  },
  {
   "cell_type": "code",
   "execution_count": 56,
   "metadata": {
    "collapsed": false
   },
   "outputs": [
    {
     "data": {
      "text/plain": [
       "10×3 Array{Float64,2}:\n",
       " 0.768448   0.163666  0.70586 \n",
       " 0.940515   0.473017  0.291978\n",
       " 0.673959   0.865412  0.281066\n",
       " 0.395453   0.617492  0.792931\n",
       " 0.313244   0.285698  0.20923 \n",
       " 0.662555   0.463847  0.918165\n",
       " 0.586022   0.275819  0.614255\n",
       " 0.0521332  0.446568  0.802665\n",
       " 0.26864    0.582318  0.555668\n",
       " 0.108871   0.255981  0.940782"
      ]
     },
     "execution_count": 56,
     "metadata": {},
     "output_type": "execute_result"
    }
   ],
   "source": [
    "srand(123) # seend for the next random array\n",
    "probs = rand(10,3)"
   ]
  },
  {
   "cell_type": "code",
   "execution_count": 57,
   "metadata": {
    "collapsed": false
   },
   "outputs": [
    {
     "data": {
      "text/plain": [
       "10×3 Array{Float64,2}:\n",
       " 0.161106   0.0369464  0.115476 \n",
       " 0.19718    0.10678    0.0477666\n",
       " 0.141296   0.195361   0.0459814\n",
       " 0.082907   0.139394   0.129721 \n",
       " 0.0656718  0.0644943  0.0342293\n",
       " 0.138905   0.10471    0.150209 \n",
       " 0.12286    0.0622642  0.10049  \n",
       " 0.0109298  0.10081    0.131313 \n",
       " 0.0563205  0.131454   0.0909054\n",
       " 0.0228248  0.057786   0.153909 "
      ]
     },
     "execution_count": 57,
     "metadata": {},
     "output_type": "execute_result"
    }
   ],
   "source": [
    "probs = probs./sum(probs,1)"
   ]
  },
  {
   "cell_type": "code",
   "execution_count": 58,
   "metadata": {
    "collapsed": false
   },
   "outputs": [
    {
     "data": {
      "text/plain": [
       "3-element Array{Int64,1}:\n",
       " 2\n",
       " 5\n",
       " 6"
      ]
     },
     "execution_count": 58,
     "metadata": {},
     "output_type": "execute_result"
    }
   ],
   "source": [
    "y = [2,5,6]"
   ]
  },
  {
   "cell_type": "markdown",
   "metadata": {},
   "source": [
    "Let us imagine ```probs``` refers to the probabilities of 3 samples ob beein from class 1 to 10.\n",
    "\n",
    "We want to take:\n",
    "\n",
    "    - coordinate 2 from sample 1 -> probs[2,1]\n",
    "    - coordinate 5 from sample 2 -> probs[5,2]\n",
    "    - coordinate 6 from sample 3 -> probs[6,3]\n",
    "\n",
    "\n"
   ]
  },
  {
   "cell_type": "code",
   "execution_count": 61,
   "metadata": {
    "collapsed": false
   },
   "outputs": [
    {
     "data": {
      "text/plain": [
       "(0.19717961755230948,0.06449427444744894,0.15020858589737746)"
      ]
     },
     "execution_count": 61,
     "metadata": {},
     "output_type": "execute_result"
    }
   ],
   "source": [
    "probs[2,1], probs[5,2], probs[6,3]"
   ]
  },
  {
   "cell_type": "code",
   "execution_count": 77,
   "metadata": {
    "collapsed": false
   },
   "outputs": [
    {
     "data": {
      "text/plain": [
       "3×3 Array{Float64,2}:\n",
       " 0.19718    0.10678    0.0477666\n",
       " 0.0656718  0.0644943  0.0342293\n",
       " 0.138905   0.10471    0.150209 "
      ]
     },
     "execution_count": 77,
     "metadata": {},
     "output_type": "execute_result"
    }
   ],
   "source": [
    "probs[[2,5,6],[1,2,3]]"
   ]
  },
  {
   "cell_type": "code",
   "execution_count": 79,
   "metadata": {
    "collapsed": false
   },
   "outputs": [
    {
     "data": {
      "text/plain": [
       "3-element Array{Float64,1}:\n",
       " 0.19718  \n",
       " 0.0644943\n",
       " 0.150209 "
      ]
     },
     "execution_count": 79,
     "metadata": {},
     "output_type": "execute_result"
    }
   ],
   "source": [
    "[probs[i,j] for (i,j) in zip([2,5,6],[1,2,3])]"
   ]
  },
  {
   "cell_type": "code",
   "execution_count": 76,
   "metadata": {
    "collapsed": false
   },
   "outputs": [
    {
     "data": {
      "text/plain": [
       "3-element Array{Float64,1}:\n",
       " 0.19718  \n",
       " 0.0644943\n",
       " 0.150209 "
      ]
     },
     "execution_count": 76,
     "metadata": {},
     "output_type": "execute_result"
    }
   ],
   "source": [
    "# Is there a more natural way to do it?\n",
    "diag(probs[[2,5,6],[1,2,3]])"
   ]
  },
  {
   "cell_type": "code",
   "execution_count": 94,
   "metadata": {
    "collapsed": false
   },
   "outputs": [
    {
     "data": {
      "text/plain": [
       "3×3 Array{Float64,2}:\n",
       " 0.19718   0.10678   0.0477666\n",
       " 0.19718   0.10678   0.0477666\n",
       " 0.082907  0.139394  0.129721 "
      ]
     },
     "execution_count": 94,
     "metadata": {},
     "output_type": "execute_result"
    }
   ],
   "source": [
    "probs[[2;2;4],[1,2,3]]"
   ]
  },
  {
   "cell_type": "code",
   "execution_count": null,
   "metadata": {
    "collapsed": true
   },
   "outputs": [],
   "source": []
  },
  {
   "cell_type": "code",
   "execution_count": null,
   "metadata": {
    "collapsed": true
   },
   "outputs": [],
   "source": []
  },
  {
   "cell_type": "code",
   "execution_count": null,
   "metadata": {
    "collapsed": true
   },
   "outputs": [],
   "source": []
  },
  {
   "cell_type": "code",
   "execution_count": 31,
   "metadata": {
    "collapsed": false
   },
   "outputs": [
    {
     "name": "stdout",
     "output_type": "stream",
     "text": [
      "(101,)(13,)"
     ]
    },
    {
     "ename": "LoadError",
     "evalue": "DimensionMismatch(\"arrays could not be broadcast to a common size\")",
     "output_type": "error",
     "traceback": [
      "DimensionMismatch(\"arrays could not be broadcast to a common size\")",
      "",
      " in _bcs1(::Base.OneTo{Int64}, ::Base.OneTo{Int64}) at ./broadcast.jl:47",
      " in _bcs at ./broadcast.jl:40 [inlined]",
      " in broadcast_shape at ./broadcast.jl:34 [inlined] (repeats 2 times)",
      " in broadcast_shape at ./broadcast.jl:31 [inlined]",
      " in broadcast_t at ./broadcast.jl:228 [inlined]",
      " in broadcast at ./broadcast.jl:230 [inlined]",
      " in broadcast_zpreserving at ./sparse/sparsematrix.jl:1681 [inlined]",
      " in .*(::Array{Float64,1}, ::Array{Float64,1}) at ./sparse/sparsematrix.jl:1718",
      " in macro expansion; at ./In[31]:16 [inlined]",
      " in anonymous at ./<missing>:?"
     ]
    }
   ],
   "source": [
    "N = 100 # number of points per class\n",
    "D = 2 # dimensionality\n",
    "K = 3 # number of classes\n",
    "X = zeros((N*K,D)) # data matrix (each row = single example)\n",
    "y = zeros(N*K) # class labels\n",
    "\n",
    "num_examples = size(X)[1]\n",
    "\n",
    "for j in 1:K\n",
    "    ix = N*j:N*(j+1)\n",
    "    r = [x for x in 0.0:1:N]  # radius\n",
    "    t = [x+ rand()* 0.2 for x in j*4:(j+1)*4:N]# + rand(N)* 0.2\n",
    "    \n",
    "    print(size(r))\n",
    "    print(size(t))\n",
    "    X[ix] = [r.*sin(t), r.*cos(t)]\n",
    "  #y[ix] = j\n",
    "end\n",
    "\n",
    "# lets visualize the data:\n",
    "#plt.scatter(X[:, 0], X[:, 1], c=y, s=40, cmap=plt.cm.Spectral)"
   ]
  },
  {
   "cell_type": "raw",
   "metadata": {},
   "source": [
    " [x for x in j*4:(j+1)*4:N] "
   ]
  },
  {
   "cell_type": "code",
   "execution_count": 24,
   "metadata": {
    "collapsed": false
   },
   "outputs": [
    {
     "ename": "LoadError",
     "evalue": "UndefVarError: r not defined",
     "output_type": "error",
     "traceback": [
      "UndefVarError: r not defined",
      ""
     ]
    }
   ],
   "source": [
    "r"
   ]
  },
  {
   "cell_type": "code",
   "execution_count": 26,
   "metadata": {
    "collapsed": false
   },
   "outputs": [
    {
     "data": {
      "text/plain": [
       "0.9092974268256817"
      ]
     },
     "execution_count": 26,
     "metadata": {},
     "output_type": "execute_result"
    }
   ],
   "source": [
    "\n",
    "sin(2)"
   ]
  },
  {
   "cell_type": "code",
   "execution_count": null,
   "metadata": {
    "collapsed": true
   },
   "outputs": [],
   "source": []
  }
 ],
 "metadata": {
  "anaconda-cloud": {},
  "kernelspec": {
   "display_name": "Julia 0.5.0",
   "language": "julia",
   "name": "julia-0.5"
  },
  "language_info": {
   "file_extension": ".jl",
   "mimetype": "application/julia",
   "name": "julia",
   "version": "0.5.0"
  }
 },
 "nbformat": 4,
 "nbformat_minor": 0
}
