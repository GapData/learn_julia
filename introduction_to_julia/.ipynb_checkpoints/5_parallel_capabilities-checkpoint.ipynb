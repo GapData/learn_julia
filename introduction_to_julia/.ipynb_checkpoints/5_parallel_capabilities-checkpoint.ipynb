{
 "cells": [
  {
   "cell_type": "markdown",
   "metadata": {},
   "source": [
    "# Parallelize code using native julia methods\n",
    "\n",
    "\n",
    "This notebook will focus on the use of the functions pmap\n",
    "\n",
    "- https://github.com/JuliaLang/julia/blob/master/examples/wordcount.jl\n",
    "- https://blog.ajdecon.org/parallel-word-count-with-julia-an-interesting/"
   ]
  },
  {
   "cell_type": "code",
   "execution_count": 283,
   "metadata": {
    "collapsed": false
   },
   "outputs": [],
   "source": [
    "big_array = rand(1:10, 10^8);"
   ]
  },
  {
   "cell_type": "code",
   "execution_count": 284,
   "metadata": {
    "collapsed": false
   },
   "outputs": [
    {
     "name": "stderr",
     "output_type": "stream",
     "text": [
      "WARNING: Method definition count_elements(Array{Int64, N<:Any}) in module Main at In[52]:2 overwritten at In[284]:2.\n"
     ]
    },
    {
     "data": {
      "text/plain": [
       "count_elements (generic function with 1 method)"
      ]
     },
     "execution_count": 284,
     "metadata": {},
     "output_type": "execute_result"
    }
   ],
   "source": [
    "function count_elements(array::Array{Int64})\n",
    "    n = length(array)\n",
    "    counts = Dict{Int64}{Int64}()\n",
    "    for i in array\n",
    "        if i in keys(counts)\n",
    "            counts[i] += 1 \n",
    "        else\n",
    "            counts[i] = 1\n",
    "        end\n",
    "    end\n",
    "    return counts\n",
    "end"
   ]
  },
  {
   "cell_type": "code",
   "execution_count": 285,
   "metadata": {
    "collapsed": false
   },
   "outputs": [
    {
     "name": "stdout",
     "output_type": "stream",
     "text": [
      "  4.991269 seconds (3.19 k allocations: 137.589 KB)\n"
     ]
    }
   ],
   "source": [
    "@time count_elements(big_array);"
   ]
  },
  {
   "cell_type": "code",
   "execution_count": 53,
   "metadata": {
    "collapsed": false
   },
   "outputs": [
    {
     "data": {
      "text/plain": [
       "count_elements2 (generic function with 1 method)"
      ]
     },
     "execution_count": 53,
     "metadata": {},
     "output_type": "execute_result"
    }
   ],
   "source": [
    "function count_elements2(array::Array{Int64})\n",
    "    n = length(array)\n",
    "    counts = Dict{Int64}{Int64}()\n",
    "    for i in array\n",
    "        counts[i] = get(counts,i,0) + 1\n",
    "    end\n",
    "    return counts\n",
    "end"
   ]
  },
  {
   "cell_type": "code",
   "execution_count": 220,
   "metadata": {
    "collapsed": false
   },
   "outputs": [
    {
     "name": "stdout",
     "output_type": "stream",
     "text": [
      "  0.424855 seconds (14 allocations: 1.125 KB)\n"
     ]
    }
   ],
   "source": [
    "@time count_elements2(big_array);"
   ]
  },
  {
   "cell_type": "markdown",
   "metadata": {},
   "source": [
    "## Paralelizing dict counts"
   ]
  },
  {
   "cell_type": "code",
   "execution_count": 286,
   "metadata": {
    "collapsed": false
   },
   "outputs": [
    {
     "name": "stderr",
     "output_type": "stream",
     "text": [
      "WARNING: Method definition count_reduce(Any) in module Main at In[276]:3 overwritten at In[286]:3.\n"
     ]
    },
    {
     "data": {
      "text/plain": [
       "count_reduce (generic function with 2 methods)"
      ]
     },
     "execution_count": 286,
     "metadata": {},
     "output_type": "execute_result"
    }
   ],
   "source": [
    "# reducer\n",
    "function count_reduce(array_of_count_dicts)\n",
    "    counts_combined = Dict{Int64}{Int64}()\n",
    "    \n",
    "    for d in array_of_count_dicts\n",
    "        for k in keys(d)\n",
    "            if k in keys(counts_combined)\n",
    "                counts_combined[k] += d[k]  \n",
    "            else\n",
    "                counts_combined[k] = d[k] \n",
    "            end\n",
    "        end\n",
    "    end\n",
    "    return counts_combined\n",
    "end"
   ]
  },
  {
   "cell_type": "code",
   "execution_count": 287,
   "metadata": {
    "collapsed": false
   },
   "outputs": [
    {
     "name": "stderr",
     "output_type": "stream",
     "text": [
      "WARNING: Method definition parallel_wordcount(Any, Any) in module Main at In[277]:7 overwritten at In[287]:7.\n"
     ]
    },
    {
     "data": {
      "text/plain": [
       "parallel_wordcount (generic function with 1 method)"
      ]
     },
     "execution_count": 287,
     "metadata": {},
     "output_type": "execute_result"
    }
   ],
   "source": [
    "# 1) Splits input string into nprocs() equal-sized chunks (last one rounds up),\n",
    "# 2) @spawns wordcount() for each chunk to run in parallel. \n",
    "# 3) Then fetch()s results and performs count_reduce().\n",
    "\n",
    "function parallel_wordcount(big_array, n_processors)\n",
    "    \n",
    "    n = length(big_array)\n",
    "    splits_ind = [Int(x) for x in 1:(n/n_processors):(n+1)]\n",
    "    big_array_splits = [big_array[x:y-1] for (x,y) in zip(splits_ind[1:end-1], splits_ind[2:end])]\n",
    "    \n",
    "    partial_res = []\n",
    "    for subarray in big_array_splits\n",
    "        push!(partial_res, @spawn count_elements(subarray) )\n",
    "    end    \n",
    "    results = [fetch(partial_res[i]) for i in 1:length(partial_res)]\n",
    "    return count_reduce(results)\n",
    "end\n"
   ]
  },
  {
   "cell_type": "code",
   "execution_count": 289,
   "metadata": {
    "collapsed": false
   },
   "outputs": [
    {
     "name": "stdout",
     "output_type": "stream",
     "text": [
      "  5.607081 seconds (170 allocations: 762.950 MB, 3.02% gc time)\n"
     ]
    },
    {
     "data": {
      "text/plain": [
       "Dict{Int64,Int64} with 10 entries:\n",
       "  7  => 10001575\n",
       "  9  => 9998597\n",
       "  4  => 10000766\n",
       "  10 => 9995546\n",
       "  2  => 10002138\n",
       "  3  => 10004073\n",
       "  5  => 9999662\n",
       "  8  => 10002225\n",
       "  6  => 9997214\n",
       "  1  => 9998204"
      ]
     },
     "execution_count": 289,
     "metadata": {},
     "output_type": "execute_result"
    }
   ],
   "source": [
    "@time r = parallel_wordcount(big_array, 2)"
   ]
  },
  {
   "cell_type": "markdown",
   "metadata": {},
   "source": [
    "## Let us look at the code piece by piece"
   ]
  },
  {
   "cell_type": "code",
   "execution_count": 271,
   "metadata": {
    "collapsed": false,
    "scrolled": true
   },
   "outputs": [
    {
     "data": {
      "text/plain": [
       "4-element Array{Array{Int64,1},1}:\n",
       " [7,5,2,6,1,1,4,1,6,3  …  9,4,3,10,7,4,8,5,5,3] \n",
       " [3,10,2,8,8,3,6,7,2,9  …  9,8,2,6,10,3,3,4,9,7]\n",
       " [6,3,1,5,5,9,5,8,5,8  …  5,1,7,8,5,4,6,1,1,7]  \n",
       " [2,5,3,9,3,9,9,4,5,7  …  2,10,5,3,1,8,1,2,1,9] "
      ]
     },
     "execution_count": 271,
     "metadata": {},
     "output_type": "execute_result"
    }
   ],
   "source": [
    "# notice in this example n_processors divides n, if not this code will not work\n",
    "# think how to solve this problem\n",
    "n = length(big_array)\n",
    "n_processors = 4\n",
    "splits_ind = [Int(x) for x in 1:(n/n_processors):(n+1)]\n",
    "big_array_splits = [big_array[x:y-1] for (x,y) in zip(splits_ind[1:end-1], splits_ind[2:end])]"
   ]
  },
  {
   "cell_type": "code",
   "execution_count": 272,
   "metadata": {
    "collapsed": true
   },
   "outputs": [],
   "source": [
    "partial_res = []\n",
    "for subarray in big_array_splits\n",
    "    push!(partial_res, @spawn count_elements(subarray) )\n",
    "end"
   ]
  },
  {
   "cell_type": "code",
   "execution_count": 273,
   "metadata": {
    "collapsed": false
   },
   "outputs": [
    {
     "data": {
      "text/plain": [
       "4-element Array{Dict{Int64,Int64},1}:\n",
       " Dict(7=>250508,4=>249515,9=>249632,10=>250443,2=>250866,3=>249778,5=>249493,8=>249654,6=>249803,1=>250308…)\n",
       " Dict(7=>249996,9=>249945,4=>250435,10=>249986,2=>250057,3=>249377,8=>249414,5=>250152,6=>250384,1=>250254…)\n",
       " Dict(7=>250889,9=>250171,4=>249754,10=>249813,2=>249146,3=>250076,5=>250093,8=>250303,6=>249935,1=>249820…)\n",
       " Dict(7=>250696,9=>250296,4=>249746,10=>249503,2=>250417,3=>250455,5=>250033,8=>249077,6=>249843,1=>249934…)"
      ]
     },
     "execution_count": 273,
     "metadata": {},
     "output_type": "execute_result"
    }
   ],
   "source": [
    "results = [fetch(partial_res[i]) for i in 1:length(partial_res)]"
   ]
  },
  {
   "cell_type": "code",
   "execution_count": 274,
   "metadata": {
    "collapsed": false
   },
   "outputs": [
    {
     "data": {
      "text/plain": [
       "Dict{Int64,Int64} with 10 entries:\n",
       "  7  => 1002089\n",
       "  4  => 999450\n",
       "  9  => 1000044\n",
       "  10 => 999745\n",
       "  2  => 1000486\n",
       "  3  => 999686\n",
       "  5  => 999771\n",
       "  8  => 998448\n",
       "  6  => 999965\n",
       "  1  => 1000316"
      ]
     },
     "execution_count": 274,
     "metadata": {},
     "output_type": "execute_result"
    }
   ],
   "source": [
    "x = count_reduce(results)"
   ]
  },
  {
   "cell_type": "code",
   "execution_count": null,
   "metadata": {
    "collapsed": true
   },
   "outputs": [],
   "source": []
  }
 ],
 "metadata": {
  "kernelspec": {
   "display_name": "Julia 0.5.0",
   "language": "julia",
   "name": "julia-0.5"
  },
  "language_info": {
   "file_extension": ".jl",
   "mimetype": "application/julia",
   "name": "julia",
   "version": "0.5.0"
  }
 },
 "nbformat": 4,
 "nbformat_minor": 0
}
