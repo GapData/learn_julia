{
 "cells": [
  {
   "cell_type": "markdown",
   "metadata": {},
   "source": [
    "# RBM and CRBM\n",
    "\n",
    "Objective: Implement CRBM in Julia for time series analysis"
   ]
  },
  {
   "cell_type": "code",
   "execution_count": 1,
   "metadata": {
    "collapsed": false
   },
   "outputs": [],
   "source": [
    "# Import Distributions to generate the W matrix of the RBM\n",
    "using Distributions"
   ]
  },
  {
   "cell_type": "markdown",
   "metadata": {},
   "source": [
    "### Define a type RBM"
   ]
  },
  {
   "cell_type": "code",
   "execution_count": 3,
   "metadata": {
    "collapsed": false
   },
   "outputs": [
    {
     "ename": "LoadError",
     "evalue": "LoadError: invalid redefinition of constant RBM\nwhile loading In[3], in expression starting on line 1",
     "output_type": "error",
     "traceback": [
      "LoadError: invalid redefinition of constant RBM\nwhile loading In[3], in expression starting on line 1",
      ""
     ]
    }
   ],
   "source": [
    "type RBM{T <: Real}\n",
    "    W::Matrix{T}         \n",
    "    vis_bias::Vector{T}     \n",
    "    hid_bias::Vector{T}   \n",
    "    n_vis::Int32\n",
    "    n_hid::Int32\n",
    "    trained::Bool\n",
    "end"
   ]
  },
  {
   "cell_type": "markdown",
   "metadata": {},
   "source": [
    "The following function allow us to define what will be printed once we type RBM in our julia terminal (or notebook)"
   ]
  },
  {
   "cell_type": "code",
   "execution_count": null,
   "metadata": {
    "collapsed": false
   },
   "outputs": [],
   "source": [
    "function Base.show{T}(io::IO, rbm::RBM{T})\n",
    "    n_vis = size(rbm.vis_bias, 1)\n",
    "    n_hid = size(rbm.hid_bias, 1)\n",
    "    trained = rbm.trained\n",
    "    print(io, \"RBM{$T}(n_vis=$n_vis, n_hid=$n_hid, trained=$trained)\")\n",
    "end"
   ]
  },
  {
   "cell_type": "code",
   "execution_count": null,
   "metadata": {
    "collapsed": false
   },
   "outputs": [],
   "source": [
    "function initializeRBM(n_vis::Int64, n_hid::Int64; sigma=0.01, T=Float64)\n",
    "    return RBM{T}( rand(Normal(0,sigma),(n_vis, n_hid)),  # weight matrix\n",
    "                   zeros(n_vis),                          # visible vector  \n",
    "                   zeros(n_hid),                          # Hidden vector\n",
    "                   n_vis,                                 # num visible units \n",
    "                   n_hid,                                 # num hidden unnits\n",
    "                   false)                                 # trained\n",
    "\n",
    "\n",
    "end\n"
   ]
  },
  {
   "cell_type": "code",
   "execution_count": null,
   "metadata": {
    "collapsed": false
   },
   "outputs": [],
   "source": [
    "rbm = initializeRBM(784, 10)"
   ]
  },
  {
   "cell_type": "code",
   "execution_count": null,
   "metadata": {
    "collapsed": false
   },
   "outputs": [],
   "source": [
    "size(rbm.vis_bias), size(rbm.hid_bias), size(rbm.W)"
   ]
  },
  {
   "cell_type": "markdown",
   "metadata": {},
   "source": [
    "### Train and RBM"
   ]
  },
  {
   "cell_type": "markdown",
   "metadata": {
    "collapsed": true
   },
   "source": [
    "\n",
    "    def update_CDK(self, \n",
    "                   Xbatch, \n",
    "                   lr=0.1,\n",
    "                   K=1):\n",
    "\n",
    "        batch_size = Xbatch.shape[0]\n",
    "\n",
    "        Delta_W = 0\n",
    "        Delta_b = 0\n",
    "        Delta_c = 0\n",
    "\n",
    "        for x in Xbatch:\n",
    "            xneg = x\n",
    "        \n",
    "            for k in range(0, K):\n",
    "                hneg = sig( npdot(xneg, self.W) + self.c) > np.random.random(self.hidden_dim).astype(np.float32)\n",
    "                xneg = sig( npdot(hneg, self.W.T) + self.b) > np.random.random(self.visible_dim).astype(np.float32)\n",
    "        \n",
    "            ehp = sig( npdot(x, self.W) + self.c )\n",
    "            ehn = sig( npdot(xneg, self.W) + self.c)\n",
    "\n",
    "            Delta_W += lr * (np_outer(x, ehp) - np_outer(xneg, ehn))\n",
    "            Delta_b += lr * (x - xneg)\n",
    "            Delta_c += lr * (ehp - ehn)\n",
    "\n",
    "        self.W += Delta_W * (1. / batch_size)\n",
    "        self.b += Delta_b * (1. / batch_size)\n",
    "        self.c += Delta_c * (1. / batch_size)"
   ]
  },
  {
   "cell_type": "code",
   "execution_count": null,
   "metadata": {
    "collapsed": false
   },
   "outputs": [],
   "source": [
    "transpose(ones(5,2))"
   ]
  },
  {
   "cell_type": "markdown",
   "metadata": {},
   "source": []
  },
  {
   "cell_type": "raw",
   "metadata": {},
   "source": [
    "ones(5,2)'"
   ]
  },
  {
   "cell_type": "code",
   "execution_count": null,
   "metadata": {
    "collapsed": false
   },
   "outputs": [],
   "source": [
    "mean(rand(1000))"
   ]
  },
  {
   "cell_type": "code",
   "execution_count": null,
   "metadata": {
    "collapsed": true
   },
   "outputs": [],
   "source": [
    "?"
   ]
  },
  {
   "cell_type": "code",
   "execution_count": null,
   "metadata": {
    "collapsed": false
   },
   "outputs": [],
   "source": [
    "function Contrastive_divergence_K(Xbatch::Array, rbm::RBM, K::Int8, n_epochs::Int16)\n",
    "        \n",
    "    batch_size = size(Xbatch)[0]\n",
    "\n",
    "    Delta_W = zeros(size(RBM.W))\n",
    "    Delta_b = zeros(size(RBM.vis_bias))\n",
    "    Delta_c = zeros(size(RBM.hid_bias))\n",
    "\n",
    "    for i in size(Xbatch,1)\n",
    "        xneg = Xbatch[i]\n",
    "      \n",
    "        for k in 1: K\n",
    "            hneg = sig( xneg * rbm.W .+ rbm.hid_bias) > random(rbm.hidden_dim)\n",
    "            xneg = sig( hneg * rbm.W' .+ rbm.vis_bias) > random(rbm.visible_dim)\n",
    "        end\n",
    "    \n",
    "        ehp = sig( x * rbm.W + rbm.hid_bias )\n",
    "        ehn = sig( xneg * rbm.W + self.hid_bias)\n",
    "\n",
    "        Delta_W += lr * (kron(x, ehp') - kron(xneg, ehn'))\n",
    "        Delta_b += lr * (x - xneg)\n",
    "        Delta_c += lr * (ehp - ehn)\n",
    "    end\n",
    "\n",
    "    rbm.W += Delta_W * (1. / batch_size)\n",
    "    rbm.vis_bias += Delta_b * (1. / batch_size)\n",
    "    rbm.hid_bias += Delta_c * (1. / batch_size)\n",
    "end"
   ]
  },
  {
   "cell_type": "code",
   "execution_count": null,
   "metadata": {
    "collapsed": false
   },
   "outputs": [],
   "source": [
    "A = rand(5,4)"
   ]
  },
  {
   "cell_type": "code",
   "execution_count": null,
   "metadata": {
    "collapsed": false
   },
   "outputs": [],
   "source": [
    "A"
   ]
  },
  {
   "cell_type": "code",
   "execution_count": null,
   "metadata": {
    "collapsed": false
   },
   "outputs": [],
   "source": [
    "size(A)[1]"
   ]
  },
  {
   "cell_type": "code",
   "execution_count": null,
   "metadata": {
    "collapsed": false
   },
   "outputs": [],
   "source": [
    "for i in 1:size(A)[1]\n",
    "    print(A[i,:],'\\n')\n",
    "end"
   ]
  },
  {
   "cell_type": "code",
   "execution_count": null,
   "metadata": {
    "collapsed": false
   },
   "outputs": [],
   "source": [
    "kron(Array([3,2]),Array([4,5]),outer)"
   ]
  },
  {
   "cell_type": "code",
   "execution_count": null,
   "metadata": {
    "collapsed": false
   },
   "outputs": [],
   "source": [
    "\\AEhelp"
   ]
  },
  {
   "cell_type": "code",
   "execution_count": null,
   "metadata": {
    "collapsed": false
   },
   "outputs": [],
   "source": [
    "Array([3,2]) kron Array([4,5])'"
   ]
  },
  {
   "cell_type": "code",
   "execution_count": null,
   "metadata": {
    "collapsed": true
   },
   "outputs": [],
   "source": []
  }
 ],
 "metadata": {
  "kernelspec": {
   "display_name": "Julia 0.5.0",
   "language": "julia",
   "name": "julia-0.5"
  },
  "language_info": {
   "file_extension": ".jl",
   "mimetype": "application/julia",
   "name": "julia",
   "version": "0.5.0"
  }
 },
 "nbformat": 4,
 "nbformat_minor": 0
}
