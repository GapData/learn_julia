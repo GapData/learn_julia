{
 "cells": [
  {
   "cell_type": "code",
   "execution_count": 1,
   "metadata": {
    "collapsed": false
   },
   "outputs": [
    {
     "ename": "LoadError",
     "evalue": "LoadError: LoadError: LoadError: UndefVarError: LambdaInfo not defined\nwhile loading /home/david/.julia/v0.6/Tk/src/core.jl, in expression starting on line 116\nwhile loading /home/david/.julia/v0.6/Tk/src/Tk.jl, in expression starting on line 39\nwhile loading /home/david/.julia/v0.6/ImageView/src/ImageView.jl, in expression starting on line 10",
     "output_type": "error",
     "traceback": [
      "LoadError: LoadError: LoadError: UndefVarError: LambdaInfo not defined\nwhile loading /home/david/.julia/v0.6/Tk/src/core.jl, in expression starting on line 116\nwhile loading /home/david/.julia/v0.6/Tk/src/Tk.jl, in expression starting on line 39\nwhile loading /home/david/.julia/v0.6/ImageView/src/ImageView.jl, in expression starting on line 10",
      "",
      " in include_from_node1(::String) at ./loading.jl:532",
      " in include(::String) at ./sysimg.jl:14",
      " in include_from_node1(::String) at ./loading.jl:532",
      " in eval(::Module, ::Any) at ./boot.jl:236",
      " in require(::Symbol) at ./loading.jl:446",
      " in include_from_node1(::String) at ./loading.jl:532",
      " in eval(::Module, ::Any) at ./boot.jl:236",
      " in require(::Symbol) at ./loading.jl:446"
     ]
    }
   ],
   "source": [
    "# Import Distributions to generate random numbers W matrix of the RBM\n",
    "using Distributions\n",
    "using MNIST\n",
    "using BenchmarkTools\n",
    "using PyPlot\n",
    "using Combinatorics\n",
    "using ImageView"
   ]
  },
  {
   "cell_type": "code",
   "execution_count": 2,
   "metadata": {
    "collapsed": false
   },
   "outputs": [],
   "source": [
    "X_train, y_train = MNIST.traindata()\n",
    "X_test, y_test = MNIST.testdata()\n",
    "\n",
    "T = Float32\n",
    "X_train = Array{T}( (X_train - minimum(X_train))/(maximum(X_train) - minimum(X_train)) )\n",
    "y_train = Array{T}(y_train)\n",
    "X_test = Array{T}(X_test - minimum(X_test))/(maximum(X_test) - minimum(X_test)) \n",
    "y_test = Array{T}(y_test);"
   ]
  },
  {
   "cell_type": "code",
   "execution_count": 3,
   "metadata": {
    "collapsed": false
   },
   "outputs": [
    {
     "data": {
      "text/plain": [
       "generate_M (generic function with 1 method)"
      ]
     },
     "execution_count": 3,
     "metadata": {},
     "output_type": "execute_result"
    }
   ],
   "source": [
    "function sigmoid(x::Float32)\n",
    "    return 1/(1 + exp(-x))\n",
    "end\n",
    "\n",
    "type RBM{T <: Real}\n",
    "    n_vis::Int\n",
    "    n_hid::Int\n",
    "    W::Matrix{T}         \n",
    "    vis_bias::Vector{T}     \n",
    "    hid_bias::Vector{T}   \n",
    "    trained::Bool\n",
    "    n_epochs_trained::Int\n",
    "end\n",
    "\n",
    "function initialize_RBM(n_vis, n_hid, sigma, T)\n",
    "    \n",
    "    return RBM{T}( n_vis,                                 # num visible units \n",
    "                   n_hid,                                 # num hidden unnits\n",
    "                   rand(Normal(0,sigma), n_hid, n_vis),  # weight matrix\n",
    "                   zeros(n_vis),                          # visible vector  \n",
    "                   zeros(n_hid),                          # Hidden vector\n",
    "                   false,0)                                 # trained\n",
    "end\n",
    "\n",
    "function Base.show{T}(io::IO, rbm::RBM{T})\n",
    "    n_vis = size(rbm.vis_bias, 1)\n",
    "    n_hid = size(rbm.hid_bias, 1)\n",
    "    trained = rbm.trained\n",
    "    print(io, \"RBM{$T}(n_vis=$n_vis, n_hid=$n_hid, trained=$trained)\")\n",
    "end\n",
    "\n",
    "function generate_M(W, n_columns)\n",
    "\n",
    "    n_hid = size(W)[1]\n",
    "    n_vis = size(W)[2]\n",
    "    costat = Int(sqrt(n_vis))    \n",
    "    n_rows = Int(round(n_hid/n_columns))   \n",
    "\n",
    "    print(\"\\ncostat: \",costat,\n",
    "          \" \\nn_rows: \", n_rows,\n",
    "          \"\\nn_cols: \", n_columns)\n",
    "    \n",
    "    M = zeros(costat * n_rows, costat * n_columns)\n",
    "    \n",
    "    n_im = 1\n",
    "    for r in 1:costat:size(M)[1]\n",
    "        for c in 1:costat:size(M)[2]\n",
    "            M[r:r+costat-1, c:c+costat-1] = reshape(W[n_im,:],costat,costat)\n",
    "            n_im +=1\n",
    "        end\n",
    "    end\n",
    "    return M\n",
    "end\n",
    "\n"
   ]
  },
  {
   "cell_type": "code",
   "execution_count": 11,
   "metadata": {
    "collapsed": false
   },
   "outputs": [
    {
     "name": "stderr",
     "output_type": "stream",
     "text": [
      "WARNING: Method definition fit_vec!(Any, Any, Integer, Integer, Integer, Real, Any, Any) in module Main at In[9]:27 overwritten at In[11]:4.\n"
     ]
    },
    {
     "data": {
      "text/plain": [
       "fit_vec! (generic function with 1 method)"
      ]
     },
     "execution_count": 11,
     "metadata": {},
     "output_type": "execute_result"
    }
   ],
   "source": [
    "\n",
    "function fit_vec!(rbm, X, batch_size::Integer,  n_epochs::Integer, K::Integer, lr::Real,T, shuffle_data)\n",
    "        \n",
    "    n_samples = size(X)[2]\n",
    "    indicies = [x:min(x + batch_size-1, n_samples) for x in 1:batch_size:n_samples]\n",
    "    sample_perm = Vector(1:n_samples)\n",
    "    n_minibatches = Float32(length(indicies))\n",
    "    rec_errors = Vector{Float32}([])\n",
    "   \n",
    "    for epoch in 1:n_epochs\n",
    "        rec_error = Float32(0.)\n",
    "        \n",
    "        if shuffle_data==true\n",
    "            shuffle!(sample_perm)\n",
    "            X .= X[:,sample_perm]\n",
    "        end\n",
    "        \n",
    "       for minibatch_ind in indicies          \n",
    "            rec_error += partial_fit_vec!(rbm, X[:, minibatch_ind], K, lr,T)\n",
    "        end\n",
    "        \n",
    "        push!(rec_errors, rec_error/n_minibatches)\n",
    "        print(rec_errors[end], \"\\n\")\n",
    "        rbm.n_epochs_trained +=1\n",
    "    end\n",
    "    rbm.trained = true\n",
    "    return rec_errors\n",
    "end\n"
   ]
  },
  {
   "cell_type": "code",
   "execution_count": 12,
   "metadata": {
    "collapsed": false
   },
   "outputs": [
    {
     "name": "stderr",
     "output_type": "stream",
     "text": [
      "WARNING: Method definition partial_fit_vec!(Any, Any, Integer, Real, Any) in module Main at In[10]:4 overwritten at In[12]:4.\n"
     ]
    },
    {
     "data": {
      "text/plain": [
       "partial_fit_vec! (generic function with 1 method)"
      ]
     },
     "execution_count": 12,
     "metadata": {},
     "output_type": "execute_result"
    }
   ],
   "source": [
    "\n",
    "function partial_fit_vec!(rbm, X, K::Integer, lr::Real, T)\n",
    "    \n",
    "    Xneg = X\n",
    "    batch_size = size(X)[2]   \n",
    "    local Hneg::Array{T} = zeros(rbm.n_hid, batch_size)\n",
    "    local Xneg::Array{T} = zeros(rbm.n_vis, batch_size)\n",
    "    local Ehn::Array{T} = zeros(rbm.n_hid, batch_size)\n",
    "    Ehp = sigmoid.(rbm.W * X .+ rbm.hid_bias)\n",
    "    \n",
    "    for k in 1:K\n",
    "        Hneg .= sigmoid.(rbm.W * Xneg .+ rbm.hid_bias) .> rand()\n",
    "        Xneg .= sigmoid.(rbm.W' * Hneg  .+ rbm.vis_bias) .> rand()\n",
    "    end\n",
    "          \n",
    "    Ehn .= sigmoid.(rbm.W * Xneg .+ rbm.hid_bias)\n",
    "    \n",
    "    rbm.W .+= lr.*( Ehp * X' .-  Ehn*Xneg') ./ batch_size; \n",
    "    #rbm.vis_bias .+= lr .* vec(sum((X .- Xneg), 2))./ batch_size;\n",
    "    #rbm.hid_bias .+= lr .* vec(sum((Ehp .- Ehn), 2)) ./ batch_size;\n",
    "\n",
    "    return sqrt(sum((X.-Xneg).^2))\n",
    "end\n"
   ]
  },
  {
   "cell_type": "code",
   "execution_count": 5,
   "metadata": {
    "collapsed": false
   },
   "outputs": [
    {
     "data": {
      "text/plain": [
       "RBM{Float32}(n_vis=784, n_hid=100, trained=false)"
      ]
     },
     "execution_count": 5,
     "metadata": {},
     "output_type": "execute_result"
    }
   ],
   "source": [
    "rbm = initialize_RBM(784, 100, 0.01, Float32)"
   ]
  },
  {
   "cell_type": "code",
   "execution_count": null,
   "metadata": {
    "collapsed": true
   },
   "outputs": [],
   "source": []
  },
  {
   "cell_type": "code",
   "execution_count": null,
   "metadata": {
    "collapsed": true
   },
   "outputs": [],
   "source": []
  },
  {
   "cell_type": "code",
   "execution_count": null,
   "metadata": {
    "collapsed": true
   },
   "outputs": [],
   "source": []
  },
  {
   "cell_type": "code",
   "execution_count": null,
   "metadata": {
    "collapsed": true
   },
   "outputs": [],
   "source": []
  },
  {
   "cell_type": "code",
   "execution_count": null,
   "metadata": {
    "collapsed": true
   },
   "outputs": [],
   "source": []
  },
  {
   "cell_type": "code",
   "execution_count": null,
   "metadata": {
    "collapsed": true
   },
   "outputs": [],
   "source": []
  },
  {
   "cell_type": "code",
   "execution_count": null,
   "metadata": {
    "collapsed": true
   },
   "outputs": [],
   "source": []
  },
  {
   "cell_type": "code",
   "execution_count": null,
   "metadata": {
    "collapsed": true
   },
   "outputs": [],
   "source": []
  },
  {
   "cell_type": "code",
   "execution_count": null,
   "metadata": {
    "collapsed": true
   },
   "outputs": [],
   "source": []
  },
  {
   "cell_type": "code",
   "execution_count": null,
   "metadata": {
    "collapsed": false
   },
   "outputs": [],
   "source": [
    "@benchmark partial_fit!(rbm, X_train[:,1:500],1, 0.1,Float32)"
   ]
  },
  {
   "cell_type": "code",
   "execution_count": null,
   "metadata": {
    "collapsed": false
   },
   "outputs": [],
   "source": [
    "n_epochs = 1\n",
    "batch_size = 500\n",
    "K = 1\n",
    "lr = 0.001\n",
    "\n",
    "@benchmark fit!(rbm, X_train, batch_size,  n_epochs, K, lr, T, false)"
   ]
  },
  {
   "cell_type": "code",
   "execution_count": 23,
   "metadata": {
    "collapsed": false
   },
   "outputs": [
    {
     "name": "stdout",
     "output_type": "stream",
     "text": [
      "353.44296\n",
      "393.31046\n",
      "374.1345\n",
      "387.32233\n",
      "397.81717\n",
      "352.6328\n",
      "392.1898\n",
      "399.90366\n",
      "389.44666\n",
      "355.38416\n"
     ]
    },
    {
     "data": {
      "text/plain": [
       "10-element Array{Float32,1}:\n",
       " 353.443\n",
       " 393.31 \n",
       " 374.134\n",
       " 387.322\n",
       " 397.817\n",
       " 352.633\n",
       " 392.19 \n",
       " 399.904\n",
       " 389.447\n",
       " 355.384"
      ]
     },
     "execution_count": 23,
     "metadata": {},
     "output_type": "execute_result"
    }
   ],
   "source": [
    "n_epochs = 10\n",
    "batch_size = 500\n",
    "K = 1\n",
    "lr = 0.0001\n",
    "\n",
    "res = fit!(rbm, X_train, batch_size,  n_epochs, K, lr, T, false)"
   ]
  },
  {
   "cell_type": "code",
   "execution_count": 61,
   "metadata": {
    "collapsed": false
   },
   "outputs": [
    {
     "data": {
      "image/png": "[encoded data removed]",
      "text/plain": [
       "PyPlot.Figure(PyObject <matplotlib.figure.Figure object at 0x7fee9feabc90>)"
      ]
     },
     "metadata": {},
     "output_type": "display_data"
    },
    {
     "data": {
      "text/plain": [
       "1-element Array{Any,1}:\n",
       " PyObject <matplotlib.lines.Line2D object at 0x7fee9fa42dd0>"
      ]
     },
     "execution_count": 61,
     "metadata": {},
     "output_type": "execute_result"
    }
   ],
   "source": [
    "PyPlot.plot(res)"
   ]
  },
  {
   "cell_type": "code",
   "execution_count": null,
   "metadata": {
    "collapsed": true
   },
   "outputs": [],
   "source": []
  },
  {
   "cell_type": "code",
   "execution_count": null,
   "metadata": {
    "collapsed": true
   },
   "outputs": [],
   "source": []
  },
  {
   "cell_type": "code",
   "execution_count": null,
   "metadata": {
    "collapsed": true
   },
   "outputs": [],
   "source": []
  },
  {
   "cell_type": "code",
   "execution_count": 101,
   "metadata": {
    "collapsed": true
   },
   "outputs": [],
   "source": [
    "import StatsBase: predict"
   ]
  },
  {
   "cell_type": "code",
   "execution_count": 102,
   "metadata": {
    "collapsed": false
   },
   "outputs": [
    {
     "ename": "LoadError",
     "evalue": "UndefVarError: scal! not defined",
     "output_type": "error",
     "traceback": [
      "UndefVarError: scal! not defined",
      ""
     ]
    }
   ],
   "source": [
    "scal!"
   ]
  },
  {
   "cell_type": "code",
   "execution_count": null,
   "metadata": {
    "collapsed": true
   },
   "outputs": [],
   "source": [
    "#### "
   ]
  },
  {
   "cell_type": "code",
   "execution_count": null,
   "metadata": {
    "collapsed": false
   },
   "outputs": [],
   "source": [
    "M = generate_M(rbm.W,25);\n",
    "PyPlot.imshow(M,\"gray\")"
   ]
  },
  {
   "cell_type": "code",
   "execution_count": null,
   "metadata": {
    "collapsed": false
   },
   "outputs": [],
   "source": [
    "M = generate_M(rbm.W, 10);\n",
    "\n",
    "PyPlot.imshow(M,\"gray\")"
   ]
  },
  {
   "cell_type": "code",
   "execution_count": null,
   "metadata": {
    "collapsed": true
   },
   "outputs": [],
   "source": []
  },
  {
   "cell_type": "code",
   "execution_count": null,
   "metadata": {
    "collapsed": true
   },
   "outputs": [],
   "source": []
  },
  {
   "cell_type": "code",
   "execution_count": null,
   "metadata": {
    "collapsed": true
   },
   "outputs": [],
   "source": []
  },
  {
   "cell_type": "code",
   "execution_count": null,
   "metadata": {
    "collapsed": true
   },
   "outputs": [],
   "source": []
  },
  {
   "cell_type": "code",
   "execution_count": null,
   "metadata": {
    "collapsed": true
   },
   "outputs": [],
   "source": []
  },
  {
   "cell_type": "code",
   "execution_count": null,
   "metadata": {
    "collapsed": true
   },
   "outputs": [],
   "source": []
  },
  {
   "cell_type": "code",
   "execution_count": null,
   "metadata": {
    "collapsed": true
   },
   "outputs": [],
   "source": []
  },
  {
   "cell_type": "markdown",
   "metadata": {},
   "source": [
    "### Function to plot the weights"
   ]
  },
  {
   "cell_type": "code",
   "execution_count": null,
   "metadata": {
    "collapsed": false
   },
   "outputs": [],
   "source": [
    "# https://github.com/dfdx/Boltzmann.jl/blob/master/examples/mnistexample.jl\n",
    "\n",
    "function plot_weights(W, imsize)\n",
    "    padding=10\n",
    "    h, w = imsize\n",
    "    n = size(W, 1)\n",
    "    rows = Int(floor(sqrt(n)))\n",
    "    cols = Int(ceil(n / rows))\n",
    "    halfpad = div(padding, 2)\n",
    "    dat = zeros(rows * (h + padding), cols * (w + padding))\n",
    "    for i=1:n\n",
    "        wt = W[i, :]\n",
    "        wim = reshape(wt, imsize)\n",
    "        wim = wim ./ (maximum(wim) - minimum(wim))\n",
    "        r = div(i - 1, cols) + 1\n",
    "        c = rem(i - 1, cols) + 1\n",
    "        dat[(r-1)*(h+padding)+halfpad+1 : r*(h+padding)-halfpad,\n",
    "            (c-1)*(w+padding)+halfpad+1 : c*(w+padding)-halfpad] = wim\n",
    "    end\n",
    "    #ImageView.view(dat)\n",
    "    return dat\n",
    "end"
   ]
  },
  {
   "cell_type": "code",
   "execution_count": null,
   "metadata": {
    "collapsed": false
   },
   "outputs": [],
   "source": [
    "rbm = initialize_RBM(784, 50, 0.01, Float32)\n",
    "M = generate_M(rbm.W,25);\n",
    "PyPlot.imshow(M,\"gray\")"
   ]
  },
  {
   "cell_type": "markdown",
   "metadata": {},
   "source": [
    "## Train model several epochs \n",
    "\n",
    "Plot the weights after training"
   ]
  },
  {
   "cell_type": "code",
   "execution_count": null,
   "metadata": {
    "collapsed": false
   },
   "outputs": [],
   "source": [
    "rbm = initialize_RBM(784, 50, 0.01, Float32)\n",
    "M = generate_M(rbm.W,25);\n",
    "PyPlot.imshow(M,\"gray\")"
   ]
  },
  {
   "cell_type": "code",
   "execution_count": null,
   "metadata": {
    "collapsed": false
   },
   "outputs": [],
   "source": [
    "n_epochs = 100\n",
    "batch_size = 200\n",
    "K = 1\n",
    "lr = 0.01\n",
    "\n",
    "fit!(rbm, X_train,  batch_size,  n_epochs, K, lr, T, true)"
   ]
  },
  {
   "cell_type": "code",
   "execution_count": null,
   "metadata": {
    "collapsed": false
   },
   "outputs": [],
   "source": [
    "M = generate_M(rbm.W, 10);\n",
    "PyPlot.imshow(M,\"gray\")"
   ]
  },
  {
   "cell_type": "code",
   "execution_count": null,
   "metadata": {
    "collapsed": false
   },
   "outputs": [],
   "source": [
    "PyPlot.imshow(M,\"gray\", vmin=minimum(M), vmax = maximum(M))"
   ]
  },
  {
   "cell_type": "code",
   "execution_count": null,
   "metadata": {
    "collapsed": false
   },
   "outputs": [],
   "source": [
    "dat = plot_weights(rbm.W[1:50,:], (28,28));\n",
    "PyPlot.imshow(dat,\"gray\")"
   ]
  },
  {
   "cell_type": "code",
   "execution_count": null,
   "metadata": {
    "collapsed": true
   },
   "outputs": [],
   "source": []
  },
  {
   "cell_type": "code",
   "execution_count": null,
   "metadata": {
    "collapsed": true
   },
   "outputs": [],
   "source": []
  },
  {
   "cell_type": "code",
   "execution_count": null,
   "metadata": {
    "collapsed": true
   },
   "outputs": [],
   "source": []
  },
  {
   "cell_type": "code",
   "execution_count": null,
   "metadata": {
    "collapsed": true
   },
   "outputs": [],
   "source": []
  },
  {
   "cell_type": "code",
   "execution_count": null,
   "metadata": {
    "collapsed": true
   },
   "outputs": [],
   "source": []
  },
  {
   "cell_type": "code",
   "execution_count": null,
   "metadata": {
    "collapsed": true
   },
   "outputs": [],
   "source": []
  },
  {
   "cell_type": "markdown",
   "metadata": {
    "collapsed": true
   },
   "source": [
    "## Scaling individually the features of the plot: TO DO\n",
    "\n",
    "#### Python code for printing the feature detectors\n",
    "\n",
    "\n",
    "    for i, comp in enumerate(self.W.T):\n",
    "        plt.subplot(15, 15, i + 1)\n",
    "        if min_max_scale:\n",
    "            plt.imshow(comp.reshape((28, 28)),\n",
    "                       cmap= plt.get_cmap('gray'), vmin=min_, vmax=max_)"
   ]
  },
  {
   "cell_type": "code",
   "execution_count": null,
   "metadata": {
    "collapsed": false
   },
   "outputs": [],
   "source": [
    "function plot_per_hidden_unit(W, n_columns, minmax_scale)\n",
    "    n_hid = size(W)[1]\n",
    "    n_vis = size(W)[2]\n",
    "    costat = Int(sqrt(n_vis))    \n",
    "    n_rows = Int(round(n_hid/n_columns))   \n",
    "\n",
    "    print(\"\\ncostat: \", costat,\n",
    "          \"\\nn_rows: \", n_rows,\n",
    "          \"\\nn_cols: \", n_columns)\n",
    "    \n",
    "    if minmax_scale == true\n",
    "        min_ = minimum(W)\n",
    "        max_ = maximum(W)\n",
    "    end\n",
    "                    \n",
    "    for i in 1:n_hid\n",
    "        comp = W[i,:]\n",
    "        PyPlot.subplot(10, 10, i+1)\n",
    "        if minmax_scale == true\n",
    "            PyPlot.imshow(reshape(comp, 28, 28),\n",
    "            cmap= PyPlot.get_cmap(\"gray\"), vmin=min_, vmax=max_)\n",
    "        end\n",
    "    end\n",
    "    \n",
    "end"
   ]
  },
  {
   "cell_type": "code",
   "execution_count": null,
   "metadata": {
    "collapsed": false
   },
   "outputs": [],
   "source": [
    "plot_per_hidden_unit(rbm.W, rbm.n_hid, true)"
   ]
  },
  {
   "cell_type": "code",
   "execution_count": null,
   "metadata": {
    "collapsed": true
   },
   "outputs": [],
   "source": []
  }
 ],
 "metadata": {
  "kernelspec": {
   "display_name": "Julia 0.6.0-dev",
   "language": "julia",
   "name": "julia-0.6"
  },
  "language_info": {
   "file_extension": ".jl",
   "mimetype": "application/julia",
   "name": "julia",
   "version": "0.6.0"
  }
 },
 "nbformat": 4,
 "nbformat_minor": 0
}
