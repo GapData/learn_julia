{
 "cells": [
  {
   "cell_type": "code",
   "execution_count": 63,
   "metadata": {
    "collapsed": false
   },
   "outputs": [],
   "source": [
    "T = Float64\n",
    "W = Array{T}(rand(784,200))\n",
    "Xb = Array{T}(rand(784,25))\n",
    "bias_vis = Array{T}(rand(784))\n",
    "bias_hid = Array{T}(rand(200));\n",
    "aux = Array{T}(zeros(200,25));"
   ]
  },
  {
   "cell_type": "code",
   "execution_count": 64,
   "metadata": {
    "collapsed": true
   },
   "outputs": [],
   "source": [
    "using BenchmarkTools"
   ]
  },
  {
   "cell_type": "code",
   "execution_count": 65,
   "metadata": {
    "collapsed": false
   },
   "outputs": [
    {
     "data": {
      "text/plain": [
       ":(W * Xb + bias_hid)"
      ]
     },
     "execution_count": 65,
     "metadata": {},
     "output_type": "execute_result"
    }
   ],
   "source": [
    "expand(:(W*Xb + bias_hid))"
   ]
  },
  {
   "cell_type": "code",
   "execution_count": 66,
   "metadata": {
    "collapsed": false
   },
   "outputs": [
    {
     "data": {
      "text/plain": [
       ":(W * Xb .+ bias_hid)"
      ]
     },
     "execution_count": 66,
     "metadata": {},
     "output_type": "execute_result"
    }
   ],
   "source": [
    "expand(:(W*Xb .+ bias_hid))"
   ]
  },
  {
   "cell_type": "code",
   "execution_count": 67,
   "metadata": {
    "collapsed": false
   },
   "outputs": [
    {
     "data": {
      "text/plain": [
       ":((Base.broadcast!)(Base.identity,aux,W * Xb .+ bias_hid))"
      ]
     },
     "execution_count": 67,
     "metadata": {},
     "output_type": "execute_result"
    }
   ],
   "source": [
    "expand(:(aux.= W * Xb .+ bias_hid))"
   ]
  },
  {
   "cell_type": "code",
   "execution_count": 68,
   "metadata": {
    "collapsed": false
   },
   "outputs": [
    {
     "data": {
      "text/plain": [
       ":($(Expr(:thunk, CodeInfo(:(begin \n",
       "        SSAValue(0) = W * Xb .+ bias_hid\n",
       "        aux = SSAValue(0)\n",
       "        return SSAValue(0)\n",
       "    end)))))"
      ]
     },
     "execution_count": 68,
     "metadata": {},
     "output_type": "execute_result"
    }
   ],
   "source": [
    "expand(:(aux= W * Xb .+ bias_hid))"
   ]
  },
  {
   "cell_type": "code",
   "execution_count": 69,
   "metadata": {
    "collapsed": false,
    "scrolled": true
   },
   "outputs": [
    {
     "data": {
      "text/plain": [
       "BenchmarkTools.Trial: \n",
       "  memory estimate:  78.31 KiB\n",
       "  allocs estimate:  5\n",
       "  --------------\n",
       "  minimum time:     304.727 μs (0.00% GC)\n",
       "  median time:      318.386 μs (0.00% GC)\n",
       "  mean time:        492.831 μs (0.60% GC)\n",
       "  maximum time:     30.012 ms (0.00% GC)\n",
       "  --------------\n",
       "  samples:          9867\n",
       "  evals/sample:     1\n",
       "  time tolerance:   5.00%\n",
       "  memory tolerance: 1.00%"
      ]
     },
     "execution_count": 69,
     "metadata": {},
     "output_type": "execute_result"
    }
   ],
   "source": [
    "@benchmark aux.= W' * Xb .+ bias_hid"
   ]
  },
  {
   "cell_type": "code",
   "execution_count": 70,
   "metadata": {
    "collapsed": false
   },
   "outputs": [
    {
     "data": {
      "text/plain": [
       "BenchmarkTools.Trial: \n",
       "  memory estimate:  78.31 KiB\n",
       "  allocs estimate:  5\n",
       "  --------------\n",
       "  minimum time:     299.659 μs (0.00% GC)\n",
       "  median time:      318.264 μs (0.00% GC)\n",
       "  mean time:        633.818 μs (0.72% GC)\n",
       "  maximum time:     30.690 ms (0.00% GC)\n",
       "  --------------\n",
       "  samples:          7675\n",
       "  evals/sample:     1\n",
       "  time tolerance:   5.00%\n",
       "  memory tolerance: 1.00%"
      ]
     },
     "execution_count": 70,
     "metadata": {},
     "output_type": "execute_result"
    }
   ],
   "source": [
    "@benchmark aux= W' * Xb .+ bias_hid"
   ]
  },
  {
   "cell_type": "code",
   "execution_count": 71,
   "metadata": {
    "collapsed": false,
    "scrolled": true
   },
   "outputs": [
    {
     "data": {
      "text/plain": [
       "BenchmarkTools.Trial: \n",
       "  memory estimate:  78.31 KiB\n",
       "  allocs estimate:  5\n",
       "  --------------\n",
       "  minimum time:     305.507 μs (0.00% GC)\n",
       "  median time:      365.806 μs (0.00% GC)\n",
       "  mean time:        701.331 μs (0.60% GC)\n",
       "  maximum time:     24.593 ms (0.00% GC)\n",
       "  --------------\n",
       "  samples:          6962\n",
       "  evals/sample:     1\n",
       "  time tolerance:   5.00%\n",
       "  memory tolerance: 1.00%"
      ]
     },
     "execution_count": 71,
     "metadata": {},
     "output_type": "execute_result"
    }
   ],
   "source": [
    "@benchmark aux.= At_mul_B(W,Xb) .+ bias_hid"
   ]
  },
  {
   "cell_type": "markdown",
   "metadata": {
    "collapsed": true
   },
   "source": [
    "# Float 32"
   ]
  },
  {
   "cell_type": "code",
   "execution_count": 72,
   "metadata": {
    "collapsed": true
   },
   "outputs": [],
   "source": [
    "T = Float32\n",
    "W = Array{T}(rand(784,200))\n",
    "Xb = Array{T}(rand(784,25))\n",
    "bias_vis = Array{T}(rand(784))\n",
    "bias_hid = Array{T}(rand(200));\n",
    "aux = Array{T}(zeros(200,25));"
   ]
  },
  {
   "cell_type": "code",
   "execution_count": 73,
   "metadata": {
    "collapsed": false,
    "scrolled": true
   },
   "outputs": [
    {
     "data": {
      "text/plain": [
       "BenchmarkTools.Trial: \n",
       "  memory estimate:  39.31 KiB\n",
       "  allocs estimate:  5\n",
       "  --------------\n",
       "  minimum time:     180.116 μs (0.00% GC)\n",
       "  median time:      183.193 μs (0.00% GC)\n",
       "  mean time:        350.576 μs (0.56% GC)\n",
       "  maximum time:     25.210 ms (0.00% GC)\n",
       "  --------------\n",
       "  samples:          10000\n",
       "  evals/sample:     1\n",
       "  time tolerance:   5.00%\n",
       "  memory tolerance: 1.00%"
      ]
     },
     "execution_count": 73,
     "metadata": {},
     "output_type": "execute_result"
    }
   ],
   "source": [
    "@benchmark aux.= W' * Xb .+ bias_hid"
   ]
  },
  {
   "cell_type": "code",
   "execution_count": 74,
   "metadata": {
    "collapsed": false
   },
   "outputs": [
    {
     "data": {
      "text/plain": [
       "BenchmarkTools.Trial: \n",
       "  memory estimate:  39.31 KiB\n",
       "  allocs estimate:  5\n",
       "  --------------\n",
       "  minimum time:     179.495 μs (0.00% GC)\n",
       "  median time:      210.137 μs (0.00% GC)\n",
       "  mean time:        440.335 μs (0.51% GC)\n",
       "  maximum time:     35.544 ms (0.00% GC)\n",
       "  --------------\n",
       "  samples:          10000\n",
       "  evals/sample:     1\n",
       "  time tolerance:   5.00%\n",
       "  memory tolerance: 1.00%"
      ]
     },
     "execution_count": 74,
     "metadata": {},
     "output_type": "execute_result"
    }
   ],
   "source": [
    "@benchmark aux= W' * Xb .+ bias_hid"
   ]
  },
  {
   "cell_type": "code",
   "execution_count": 75,
   "metadata": {
    "collapsed": false,
    "scrolled": true
   },
   "outputs": [
    {
     "data": {
      "text/plain": [
       "BenchmarkTools.Trial: \n",
       "  memory estimate:  39.31 KiB\n",
       "  allocs estimate:  5\n",
       "  --------------\n",
       "  minimum time:     178.594 μs (0.00% GC)\n",
       "  median time:      208.265 μs (0.00% GC)\n",
       "  mean time:        428.708 μs (0.55% GC)\n",
       "  maximum time:     39.211 ms (0.00% GC)\n",
       "  --------------\n",
       "  samples:          10000\n",
       "  evals/sample:     1\n",
       "  time tolerance:   5.00%\n",
       "  memory tolerance: 1.00%"
      ]
     },
     "execution_count": 75,
     "metadata": {},
     "output_type": "execute_result"
    }
   ],
   "source": [
    "@benchmark aux.= At_mul_B(W,Xb) .+ bias_hid"
   ]
  },
  {
   "cell_type": "markdown",
   "metadata": {},
   "source": [
    "## Float 16\n",
    "\n",
    "- Notice this does not use all threads"
   ]
  },
  {
   "cell_type": "code",
   "execution_count": 77,
   "metadata": {
    "collapsed": true
   },
   "outputs": [],
   "source": [
    "T = Float16\n",
    "W = Array{T}(rand(784,200))\n",
    "Xb = Array{T}(rand(784,25))\n",
    "bias_vis = Array{T}(rand(784))\n",
    "bias_hid = Array{T}(rand(200));\n",
    "aux = Array{T}(zeros(200,25));"
   ]
  },
  {
   "cell_type": "code",
   "execution_count": 78,
   "metadata": {
    "collapsed": false
   },
   "outputs": [
    {
     "data": {
      "text/plain": [
       "BenchmarkTools.Trial: \n",
       "  memory estimate:  19.91 KiB\n",
       "  allocs estimate:  3\n",
       "  --------------\n",
       "  minimum time:     154.617 ms (0.00% GC)\n",
       "  median time:      159.545 ms (0.00% GC)\n",
       "  mean time:        160.633 ms (0.00% GC)\n",
       "  maximum time:     183.797 ms (0.00% GC)\n",
       "  --------------\n",
       "  samples:          32\n",
       "  evals/sample:     1\n",
       "  time tolerance:   5.00%\n",
       "  memory tolerance: 1.00%"
      ]
     },
     "execution_count": 78,
     "metadata": {},
     "output_type": "execute_result"
    }
   ],
   "source": [
    "@benchmark aux.= W' * Xb .+ bias_hid"
   ]
  },
  {
   "cell_type": "code",
   "execution_count": 79,
   "metadata": {
    "collapsed": false
   },
   "outputs": [
    {
     "data": {
      "text/plain": [
       "BenchmarkTools.Trial: \n",
       "  memory estimate:  19.91 KiB\n",
       "  allocs estimate:  3\n",
       "  --------------\n",
       "  minimum time:     155.085 ms (0.00% GC)\n",
       "  median time:      162.414 ms (0.00% GC)\n",
       "  mean time:        165.489 ms (0.00% GC)\n",
       "  maximum time:     191.037 ms (0.00% GC)\n",
       "  --------------\n",
       "  samples:          31\n",
       "  evals/sample:     1\n",
       "  time tolerance:   5.00%\n",
       "  memory tolerance: 1.00%"
      ]
     },
     "execution_count": 79,
     "metadata": {},
     "output_type": "execute_result"
    }
   ],
   "source": [
    "@benchmark aux= W' * Xb .+ bias_hid"
   ]
  },
  {
   "cell_type": "code",
   "execution_count": 80,
   "metadata": {
    "collapsed": false
   },
   "outputs": [
    {
     "data": {
      "text/plain": [
       "BenchmarkTools.Trial: \n",
       "  memory estimate:  19.91 KiB\n",
       "  allocs estimate:  3\n",
       "  --------------\n",
       "  minimum time:     154.429 ms (0.00% GC)\n",
       "  median time:      159.703 ms (0.00% GC)\n",
       "  mean time:        161.358 ms (0.00% GC)\n",
       "  maximum time:     187.295 ms (0.00% GC)\n",
       "  --------------\n",
       "  samples:          31\n",
       "  evals/sample:     1\n",
       "  time tolerance:   5.00%\n",
       "  memory tolerance: 1.00%"
      ]
     },
     "execution_count": 80,
     "metadata": {},
     "output_type": "execute_result"
    }
   ],
   "source": [
    "@benchmark aux.= At_mul_B(W,Xb) .+ bias_hid"
   ]
  },
  {
   "cell_type": "code",
   "execution_count": null,
   "metadata": {
    "collapsed": true
   },
   "outputs": [],
   "source": []
  }
 ],
 "metadata": {
  "kernelspec": {
   "display_name": "Julia 0.5.0",
   "language": "julia",
   "name": "julia-0.5"
  },
  "language_info": {
   "file_extension": ".jl",
   "mimetype": "application/julia",
   "name": "julia",
   "version": "0.6.0"
  }
 },
 "nbformat": 4,
 "nbformat_minor": 0
}
