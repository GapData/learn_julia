{
 "cells": [
  {
   "cell_type": "code",
   "execution_count": 1,
   "metadata": {
    "collapsed": false
   },
   "outputs": [
    {
     "ename": "LoadError",
     "evalue": "LoadError: LoadError: LoadError: UndefVarError: LambdaInfo not defined\nwhile loading /home/david/.julia/v0.6/Tk/src/core.jl, in expression starting on line 116\nwhile loading /home/david/.julia/v0.6/Tk/src/Tk.jl, in expression starting on line 39\nwhile loading /home/david/.julia/v0.6/ImageView/src/ImageView.jl, in expression starting on line 10",
     "output_type": "error",
     "traceback": [
      "LoadError: LoadError: LoadError: UndefVarError: LambdaInfo not defined\nwhile loading /home/david/.julia/v0.6/Tk/src/core.jl, in expression starting on line 116\nwhile loading /home/david/.julia/v0.6/Tk/src/Tk.jl, in expression starting on line 39\nwhile loading /home/david/.julia/v0.6/ImageView/src/ImageView.jl, in expression starting on line 10",
      "",
      " in include_from_node1(::String) at ./loading.jl:532",
      " in include(::String) at ./sysimg.jl:14",
      " in include_from_node1(::String) at ./loading.jl:532",
      " in eval(::Module, ::Any) at ./boot.jl:236",
      " in require(::Symbol) at ./loading.jl:446",
      " in include_from_node1(::String) at ./loading.jl:532",
      " in eval(::Module, ::Any) at ./boot.jl:236",
      " in require(::Symbol) at ./loading.jl:446"
     ]
    }
   ],
   "source": [
    "# Import Distributions to generate random numbers W matrix of the RBM\n",
    "using Distributions\n",
    "using MNIST\n",
    "using BenchmarkTools\n",
    "using PyPlot\n",
    "using Combinatorics\n",
    "using ImageView"
   ]
  },
  {
   "cell_type": "code",
   "execution_count": 7,
   "metadata": {
    "collapsed": false
   },
   "outputs": [],
   "source": [
    "X_train, y_train = MNIST.traindata()\n",
    "X_test, y_test = MNIST.testdata()\n",
    "\n",
    "T = Float32\n",
    "X_train = Array{T}( (X_train - minimum(X_train))/(maximum(X_train) - minimum(X_train)) )\n",
    "y_train = Array{T}(y_train)\n",
    "X_test = Array{T}(X_test - minimum(X_test))/(maximum(X_test) - minimum(X_test)) \n",
    "y_test = Array{T}(y_test);"
   ]
  },
  {
   "cell_type": "code",
   "execution_count": 126,
   "metadata": {
    "collapsed": false
   },
   "outputs": [
    {
     "name": "stderr",
     "output_type": "stream",
     "text": [
      "WARNING: Method definition sigmoid(Float32) in module Main at In[59]:2 overwritten at In[126]:2.\n",
      "WARNING: Method definition (::Type{Main.RBM{#T<:Real}})(Any, Any, Any, Any, Any, Any) in module Main at In[59]:6 overwritten at In[126]:6.\n",
      "WARNING: Method definition (::Type{Main.RBM})(Int64, Int64, Array{#T<:Real, 2}, Array{#T<:Real, 1}, Array{#T<:Real, 1}, Bool) in module Main at In[59]:6 overwritten at In[126]:6.\n",
      "WARNING: Method definition initialize_RBM(Any, Any, Any, Any) in module Main at In[59]:16 overwritten at In[126]:16.\n",
      "WARNING: Method definition show(IO, Main.RBM{#T<:Any}) in module Main at In[59]:25 overwritten at In[126]:25.\n",
      "WARNING: Method definition generate_M(Any, Any) in module Main at In[59]:33 overwritten at In[126]:33.\n",
      "WARNING: Method definition fit!(Any, Any, Integer, Integer, Integer, Real, Any, Any) in module Main at In[59]:57 overwritten at In[126]:57.\n",
      "WARNING: Method definition partial_fit!(Any, Any, Integer, Real, Any) in module Main at In[59]:85 overwritten at In[126]:85.\n"
     ]
    },
    {
     "data": {
      "text/plain": [
       "partial_fit! (generic function with 1 method)"
      ]
     },
     "execution_count": 126,
     "metadata": {},
     "output_type": "execute_result"
    }
   ],
   "source": [
    "function sigmoid(x::Float32)\n",
    "    return 1/(1 + exp(-x))\n",
    "end\n",
    "\n",
    "type RBM{T <: Real}\n",
    "    n_vis::Int\n",
    "    n_hid::Int\n",
    "    W::Matrix{T}         \n",
    "    vis_bias::Vector{T}     \n",
    "    hid_bias::Vector{T}   \n",
    "    trained::Bool\n",
    "end\n",
    "\n",
    "function initialize_RBM(n_vis, n_hid, sigma, T)\n",
    "    \n",
    "    return RBM{T}( n_vis,                                 # num visible units \n",
    "                   n_hid,                                 # num hidden unnits\n",
    "                   rand(Normal(0,sigma), n_hid, n_vis),  # weight matrix\n",
    "                   zeros(n_vis),                          # visible vector  \n",
    "                   zeros(n_hid),                          # Hidden vector\n",
    "                   false)                                 # trained\n",
    "end\n",
    "\n",
    "function Base.show{T}(io::IO, rbm::RBM{T})\n",
    "    n_vis = size(rbm.vis_bias, 1)\n",
    "    n_hid = size(rbm.hid_bias, 1)\n",
    "    trained = rbm.trained\n",
    "    print(io, \"RBM{$T}(n_vis=$n_vis, n_hid=$n_hid, trained=$trained)\")\n",
    "end\n",
    "\n",
    "function generate_M(W, n_columns)\n",
    "\n",
    "    n_hid = size(W)[1]\n",
    "    n_vis = size(W)[2]\n",
    "    costat = Int(sqrt(n_vis))    \n",
    "    n_rows = Int(round(n_hid/n_columns))   \n",
    "\n",
    "    print(\"\\ncostat: \",costat,\n",
    "          \" \\nn_rows: \", n_rows,\n",
    "          \"\\nn_cols: \", n_columns)\n",
    "    \n",
    "    M = zeros(costat * n_rows, costat * n_columns)\n",
    "    \n",
    "    n_im = 1\n",
    "    for r in 1:costat:size(M)[1]\n",
    "        for c in 1:costat:size(M)[2]\n",
    "            M[r:r+costat-1, c:c+costat-1] = reshape(W[n_im,:],costat,costat)\n",
    "            n_im +=1\n",
    "        end\n",
    "    end\n",
    "    return M\n",
    "end\n",
    "\n",
    "\n",
    "function fit!(rbm, X, batch_size::Integer,  n_epochs::Integer, K::Integer, lr::Real,T, shuffle_data)\n",
    "        \n",
    "    n_samples = size(X)[2]\n",
    "    indicies = [x:min(x + batch_size-1, n_samples) for x in 1:batch_size:n_samples]\n",
    "    sample_perm = Vector(1:n_samples)\n",
    "    \n",
    "    mb = 1\n",
    "    rec_errors = Vector{Float32}([])\n",
    "    \n",
    "    for epoch in 1:n_epochs\n",
    "        rec_error = Float32(0.)\n",
    "        if shuffle_data==true\n",
    "            shuffle!(sample_perm)\n",
    "            X = X[:,sample_perm]\n",
    "        end\n",
    "        \n",
    "        for minibatch_ind in indicies\n",
    "            rec_error += partial_fit!(rbm, X[:, minibatch_ind], K, lr,T)\n",
    "        end\n",
    "        \n",
    "        push!(rec_errors, rec_error/length(indicies))\n",
    "\n",
    "    end\n",
    "    rbm.trained = true\n",
    "    return rec_errors\n",
    "end\n",
    "\n",
    "\n",
    "function partial_fit!(rbm, Xbatch, K::Integer, lr::Real, T)\n",
    "    \n",
    "    Xneg = Xbatch\n",
    "    batch_size = size(Xbatch)[2]\n",
    "    \n",
    "    local Hneg::Array{T} = zeros(rbm.n_hid, batch_size)\n",
    "    local Xneg::Array{T} = zeros(rbm.n_vis, batch_size)\n",
    "    local Ehp::Array{T} = zeros(rbm.n_hid, batch_size)\n",
    "    local Ehn::Array{T} = zeros(rbm.n_hid, batch_size)\n",
    "    \n",
    "    for k in 1:K\n",
    "        Hneg .= sigmoid.(rbm.W * Xneg .+ rbm.hid_bias) .> rand()\n",
    "        Xneg .= sigmoid.(rbm.W' * Hneg  .+ rbm.vis_bias) .> rand()\n",
    "    end\n",
    "       \n",
    "    Ehp .= sigmoid.(rbm.W * Xbatch .+ rbm.hid_bias)\n",
    "    Ehn .= sigmoid.(rbm.W * Xneg .+ rbm.hid_bias)\n",
    "    \n",
    "    rbm.W .+= lr.*( Ehp * Xbatch' .-  Ehn *  Xneg') ./ batch_size;\n",
    "    rbm.vis_bias .+= sum(lr .* (Xbatch .- Xneg), 2)[:]./ batch_size;\n",
    "    rbm.hid_bias .+= sum(lr .* (Ehp .- Ehn), 2)[:] ./ batch_size;\n",
    "\n",
    "    return sqrt(sum((Xbatch.-Xneg).^2))\n",
    "\n",
    "end\n"
   ]
  },
  {
   "cell_type": "code",
   "execution_count": 138,
   "metadata": {
    "collapsed": false
   },
   "outputs": [
    {
     "data": {
      "text/plain": [
       "RBM{Float32}(n_vis=784, n_hid=100, trained=false)"
      ]
     },
     "execution_count": 138,
     "metadata": {},
     "output_type": "execute_result"
    }
   ],
   "source": [
    "rbm = initialize_RBM(784, 100, 0.01, Float32)"
   ]
  },
  {
   "cell_type": "code",
   "execution_count": 139,
   "metadata": {
    "collapsed": false
   },
   "outputs": [
    {
     "data": {
      "text/html": [
       "44.0383"
      ],
      "text/plain": [
       "44.0383f0"
      ]
     },
     "execution_count": 139,
     "metadata": {},
     "output_type": "execute_result"
    }
   ],
   "source": [
    "X_batch = X_train[:, 1:25]\n",
    "partial_fit!(rbm,X_batch, 1, 0.01, T)"
   ]
  },
  {
   "cell_type": "code",
   "execution_count": 142,
   "metadata": {
    "collapsed": false
   },
   "outputs": [
    {
     "data": {
      "text/plain": [
       "40-element Array{Float32,1}:\n",
       " 258.678\n",
       " 253.191\n",
       " 257.89 \n",
       " 245.765\n",
       " 251.318\n",
       " 242.411\n",
       " 257.443\n",
       " 245.565\n",
       " 240.81 \n",
       " 253.108\n",
       " 250.994\n",
       " 254.787\n",
       " 240.274\n",
       "   ⋮    \n",
       " 240.974\n",
       " 248.81 \n",
       " 252.131\n",
       " 253.399\n",
       " 245.536\n",
       " 247.782\n",
       " 242.261\n",
       " 247.143\n",
       " 244.41 \n",
       " 243.653\n",
       " 247.161\n",
       " 241.974"
      ]
     },
     "execution_count": 142,
     "metadata": {},
     "output_type": "execute_result"
    }
   ],
   "source": [
    "n_epochs = 40\n",
    "batch_size = 500\n",
    "K = 1\n",
    "lr = 0.01\n",
    "\n",
    "rec_errors = fit!(rbm, X_train, batch_size,  n_epochs, K, lr, T, false)"
   ]
  },
  {
   "cell_type": "code",
   "execution_count": 143,
   "metadata": {
    "collapsed": false
   },
   "outputs": [
    {
     "data": {
      "image/png": "[encoded data removed]",
      "text/plain": [
       "PyPlot.Figure(PyObject <matplotlib.figure.Figure object at 0x7f0beea37910>)"
      ]
     },
     "metadata": {},
     "output_type": "display_data"
    },
    {
     "data": {
      "text/plain": [
       "1-element Array{Any,1}:\n",
       " PyObject <matplotlib.lines.Line2D object at 0x7f0bee9dca50>"
      ]
     },
     "execution_count": 143,
     "metadata": {},
     "output_type": "execute_result"
    }
   ],
   "source": [
    "PyPlot.plot(rec_errors)"
   ]
  },
  {
   "cell_type": "markdown",
   "metadata": {},
   "source": [
    "### Function to plot the weights"
   ]
  },
  {
   "cell_type": "code",
   "execution_count": null,
   "metadata": {
    "collapsed": false
   },
   "outputs": [],
   "source": [
    "# https://github.com/dfdx/Boltzmann.jl/blob/master/examples/mnistexample.jl\n",
    "\n",
    "function plot_weights(W, imsize)\n",
    "    padding=10\n",
    "    h, w = imsize\n",
    "    n = size(W, 1)\n",
    "    rows = Int(floor(sqrt(n)))\n",
    "    cols = Int(ceil(n / rows))\n",
    "    halfpad = div(padding, 2)\n",
    "    dat = zeros(rows * (h + padding), cols * (w + padding))\n",
    "    for i=1:n\n",
    "        wt = W[i, :]\n",
    "        wim = reshape(wt, imsize)\n",
    "        wim = wim ./ (maximum(wim) - minimum(wim))\n",
    "        r = div(i - 1, cols) + 1\n",
    "        c = rem(i - 1, cols) + 1\n",
    "        dat[(r-1)*(h+padding)+halfpad+1 : r*(h+padding)-halfpad,\n",
    "            (c-1)*(w+padding)+halfpad+1 : c*(w+padding)-halfpad] = wim\n",
    "    end\n",
    "    #ImageView.view(dat)\n",
    "    return dat\n",
    "end"
   ]
  },
  {
   "cell_type": "code",
   "execution_count": null,
   "metadata": {
    "collapsed": false
   },
   "outputs": [],
   "source": [
    "rbm = initialize_RBM(784, 50, 0.01, Float32)\n",
    "M = generate_M(rbm.W,25);\n",
    "PyPlot.imshow(M,\"gray\")"
   ]
  },
  {
   "cell_type": "markdown",
   "metadata": {},
   "source": [
    "## Train model several epochs \n",
    "\n",
    "Plot the weights after training"
   ]
  },
  {
   "cell_type": "code",
   "execution_count": null,
   "metadata": {
    "collapsed": false
   },
   "outputs": [],
   "source": [
    "n_epochs = 100\n",
    "batch_size = 200\n",
    "K = 1\n",
    "lr = 0.01\n",
    "\n",
    "fit!(rbm, X_train,  batch_size,  n_epochs, K, lr, T, true)"
   ]
  },
  {
   "cell_type": "code",
   "execution_count": null,
   "metadata": {
    "collapsed": false
   },
   "outputs": [],
   "source": [
    "M = generate_M(rbm.W, 10);\n",
    "PyPlot.imshow(M,\"gray\")"
   ]
  },
  {
   "cell_type": "code",
   "execution_count": null,
   "metadata": {
    "collapsed": false
   },
   "outputs": [],
   "source": [
    "PyPlot.imshow(M,\"gray\", vmin=minimum(M), vmax = maximum(M))"
   ]
  },
  {
   "cell_type": "code",
   "execution_count": null,
   "metadata": {
    "collapsed": false
   },
   "outputs": [],
   "source": [
    "dat = plot_weights(rbm.W[1:50,:], (28,28));\n",
    "PyPlot.imshow(dat,\"gray\")"
   ]
  },
  {
   "cell_type": "code",
   "execution_count": null,
   "metadata": {
    "collapsed": true
   },
   "outputs": [],
   "source": []
  },
  {
   "cell_type": "code",
   "execution_count": null,
   "metadata": {
    "collapsed": true
   },
   "outputs": [],
   "source": []
  },
  {
   "cell_type": "code",
   "execution_count": null,
   "metadata": {
    "collapsed": true
   },
   "outputs": [],
   "source": []
  },
  {
   "cell_type": "code",
   "execution_count": null,
   "metadata": {
    "collapsed": true
   },
   "outputs": [],
   "source": []
  },
  {
   "cell_type": "code",
   "execution_count": null,
   "metadata": {
    "collapsed": true
   },
   "outputs": [],
   "source": []
  },
  {
   "cell_type": "code",
   "execution_count": null,
   "metadata": {
    "collapsed": true
   },
   "outputs": [],
   "source": []
  },
  {
   "cell_type": "markdown",
   "metadata": {
    "collapsed": true
   },
   "source": [
    "## Scaling individually the features of the plot: TO DO\n",
    "\n",
    "#### Python code for printing the feature detectors\n",
    "\n",
    "\n",
    "    for i, comp in enumerate(self.W.T):\n",
    "        plt.subplot(15, 15, i + 1)\n",
    "        if min_max_scale:\n",
    "            plt.imshow(comp.reshape((28, 28)),\n",
    "                       cmap= plt.get_cmap('gray'), vmin=min_, vmax=max_)"
   ]
  },
  {
   "cell_type": "code",
   "execution_count": null,
   "metadata": {
    "collapsed": false
   },
   "outputs": [],
   "source": [
    "function plot_per_hidden_unit(W, n_columns, minmax_scale)\n",
    "    n_hid = size(W)[1]\n",
    "    n_vis = size(W)[2]\n",
    "    costat = Int(sqrt(n_vis))    \n",
    "    n_rows = Int(round(n_hid/n_columns))   \n",
    "\n",
    "    print(\"\\ncostat: \", costat,\n",
    "          \"\\nn_rows: \", n_rows,\n",
    "          \"\\nn_cols: \", n_columns)\n",
    "    \n",
    "    if minmax_scale == true\n",
    "        min_ = minimum(W)\n",
    "        max_ = maximum(W)\n",
    "    end\n",
    "                    \n",
    "    for i in 1:n_hid\n",
    "        comp = W[i,:]\n",
    "        PyPlot.subplot(10, 10, i+1)\n",
    "        if minmax_scale == true\n",
    "            PyPlot.imshow(reshape(comp, 28, 28),\n",
    "            cmap= PyPlot.get_cmap(\"gray\"), vmin=min_, vmax=max_)\n",
    "        end\n",
    "    end\n",
    "    \n",
    "end"
   ]
  },
  {
   "cell_type": "code",
   "execution_count": null,
   "metadata": {
    "collapsed": false
   },
   "outputs": [],
   "source": [
    "plot_per_hidden_unit(rbm.W, rbm.n_hid, true)"
   ]
  },
  {
   "cell_type": "code",
   "execution_count": null,
   "metadata": {
    "collapsed": true
   },
   "outputs": [],
   "source": []
  }
 ],
 "metadata": {
  "kernelspec": {
   "display_name": "Julia 0.6.0-dev",
   "language": "julia",
   "name": "julia-0.6"
  },
  "language_info": {
   "file_extension": ".jl",
   "mimetype": "application/julia",
   "name": "julia",
   "version": "0.6.0"
  }
 },
 "nbformat": 4,
 "nbformat_minor": 0
}
