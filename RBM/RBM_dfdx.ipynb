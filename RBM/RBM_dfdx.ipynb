{
 "cells": [
  {
   "cell_type": "code",
   "execution_count": 2,
   "metadata": {
    "collapsed": false
   },
   "outputs": [],
   "source": [
    "using Boltzmann\n",
    "using MNIST\n",
    "using ImageView\n",
    "using Distributions"
   ]
  },
  {
   "cell_type": "code",
   "execution_count": 3,
   "metadata": {
    "collapsed": false
   },
   "outputs": [
    {
     "data": {
      "text/plain": [
       "plot_weights (generic function with 2 methods)"
      ]
     },
     "execution_count": 3,
     "metadata": {},
     "output_type": "execute_result"
    }
   ],
   "source": [
    "\n",
    "function plot_weights(W, imsize, padding=10)\n",
    "    h, w = imsize\n",
    "    n = size(W, 1)\n",
    "    rows = Int(floor(sqrt(n)))\n",
    "    cols = Int(ceil(n / rows))\n",
    "    halfpad = div(padding, 2)\n",
    "    dat = zeros(rows * (h + padding), cols * (w + padding))\n",
    "    for i=1:n\n",
    "        wt = W[i, :]\n",
    "        wim = reshape(wt, imsize)\n",
    "        wim = wim ./ (maximum(wim) - minimum(wim))\n",
    "        r = div(i - 1, cols) + 1\n",
    "        c = rem(i - 1, cols) + 1\n",
    "        dat[(r-1)*(h+padding)+halfpad+1 : r*(h+padding)-halfpad,\n",
    "            (c-1)*(w+padding)+halfpad+1 : c*(w+padding)-halfpad] = wim\n",
    "    end\n",
    "    ImageView.view(dat)\n",
    "    return dat\n",
    "end\n",
    "\n",
    "\n"
   ]
  },
  {
   "cell_type": "code",
   "execution_count": 4,
   "metadata": {
    "collapsed": false
   },
   "outputs": [
    {
     "ename": "LoadError",
     "evalue": "MethodError: Cannot `convert` an object of type Tuple{Int64,Int64} to an object of type Array{Float64,1}\nThis may have arisen from a call to the constructor Array{Float64,1}(...),\nsince type constructors fall back to convert methods.",
     "output_type": "error",
     "traceback": [
      "MethodError: Cannot `convert` an object of type Tuple{Int64,Int64} to an object of type Array{Float64,1}\nThis may have arisen from a call to the constructor Array{Float64,1}(...),\nsince type constructors fall back to convert methods.",
      "",
      " in #RBM#2 at /home/david/.julia/v0.6/Boltzmann/src/rbm.jl:69 [inlined]",
      " in (::Core.#kw#Type)(::Array{Any,1}, ::Type{Boltzmann.RBM}, ::Type{T}, ::Type{T}, ::Type{T}, ::Int64, ::Int64) at ./<missing>:0",
      " in Boltzmann.RBM{T,V,H}(::Type{T}, ::Type{T}, ::Int64, ::Int64) at /home/david/.julia/v0.6/Boltzmann/src/rbm.jl:73"
     ]
    }
   ],
   "source": [
    "X, y = testdata()  # test data is smaller, no need to downsample\n",
    "X = X ./ (maximum(X) - minimum(X));\n",
    "RBM(Degenerate, Bernoulli, 28*28, 300)"
   ]
  },
  {
   "cell_type": "code",
   "execution_count": null,
   "metadata": {
    "collapsed": true
   },
   "outputs": [],
   "source": [
    "    fit(m, X, n_epochs=20, randomize=true)\n",
    "    plot_weights(m.W[1:64, :], (28, 28))"
   ]
  },
  {
   "cell_type": "code",
   "execution_count": null,
   "metadata": {
    "collapsed": true
   },
   "outputs": [],
   "source": []
  }
 ],
 "metadata": {
  "kernelspec": {
   "display_name": "Julia 0.5.0",
   "language": "julia",
   "name": "julia-0.5"
  },
  "language_info": {
   "file_extension": ".jl",
   "mimetype": "application/julia",
   "name": "julia",
   "version": "0.6.0"
  }
 },
 "nbformat": 4,
 "nbformat_minor": 0
}
