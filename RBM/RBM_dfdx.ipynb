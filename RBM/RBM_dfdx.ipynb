{
 "cells": [
  {
   "cell_type": "code",
   "execution_count": 62,
   "metadata": {
    "collapsed": false
   },
   "outputs": [],
   "source": [
    "using Boltzmann\n",
    "using MNIST\n",
    "using ImageView\n",
    "using Distributions\n",
    "\n",
    "## https://makandracards.com/mark/6817-bm-rbm-for-beginners\n",
    "## https://www.slideshare.net/sogo1127/learning-rbmrestricted-boltzmann-machine-in-practice"
   ]
  },
  {
   "cell_type": "code",
   "execution_count": 63,
   "metadata": {
    "collapsed": false
   },
   "outputs": [
    {
     "name": "stderr",
     "output_type": "stream",
     "text": [
      "WARNING: Method definition plot_weights(Any, Any) in module Main at In[4]:3 overwritten at In[63]:3.\n",
      "WARNING: Method definition plot_weights(Any, Any, Any) in module Main at In[4]:3 overwritten at In[63]:3.\n"
     ]
    },
    {
     "data": {
      "text/plain": [
       "plot_weights (generic function with 2 methods)"
      ]
     },
     "execution_count": 63,
     "metadata": {},
     "output_type": "execute_result"
    }
   ],
   "source": [
    "\n",
    "function plot_weights(W, imsize, padding=10)\n",
    "    h, w = imsize\n",
    "    n = size(W, 1)\n",
    "    rows = Int(floor(sqrt(n)))\n",
    "    cols = Int(ceil(n / rows))\n",
    "    halfpad = div(padding, 2)\n",
    "    dat = zeros(rows * (h + padding), cols * (w + padding))\n",
    "    for i=1:n\n",
    "        wt = W[i, :]\n",
    "        wim = reshape(wt, imsize)\n",
    "        wim = wim ./ (maximum(wim) - minimum(wim))\n",
    "        r = div(i - 1, cols) + 1\n",
    "        c = rem(i - 1, cols) + 1\n",
    "        dat[(r-1)*(h+padding)+halfpad+1 : r*(h+padding)-halfpad,\n",
    "            (c-1)*(w+padding)+halfpad+1 : c*(w+padding)-halfpad] = wim\n",
    "    end\n",
    "    #ImageView.view(dat)\n",
    "    return dat\n",
    "end\n",
    "\n",
    "\n"
   ]
  },
  {
   "cell_type": "code",
   "execution_count": 64,
   "metadata": {
    "collapsed": false
   },
   "outputs": [],
   "source": [
    "X, y = testdata()  # test data is smaller, no need to downsample\n",
    "X = X ./ (maximum(X) - minimum(X));\n"
   ]
  },
  {
   "cell_type": "code",
   "execution_count": 65,
   "metadata": {
    "collapsed": false
   },
   "outputs": [
    {
     "data": {
      "text/markdown": [
       "Construct RBM. Parameters:\n",
       "\n",
       "  * T - type of RBM parameters (e.g. weights and biases; by default, Float64)\n",
       "  * V - type of visible units\n",
       "  * H - type of hidden units\n",
       "  * n_vis - number of visible units\n",
       "  * n_hid - number of hidden units\n",
       "\n",
       "Optional parameters:\n",
       "\n",
       "  * sigma - variance to use during parameter initialization\n"
      ],
      "text/plain": [
       "Construct RBM. Parameters:\n",
       "\n",
       "  * T - type of RBM parameters (e.g. weights and biases; by default, Float64)\n",
       "  * V - type of visible units\n",
       "  * H - type of hidden units\n",
       "  * n_vis - number of visible units\n",
       "  * n_hid - number of hidden units\n",
       "\n",
       "Optional parameters:\n",
       "\n",
       "  * sigma - variance to use during parameter initialization\n"
      ]
     },
     "execution_count": 65,
     "metadata": {},
     "output_type": "execute_result"
    }
   ],
   "source": [
    "?Boltzmann.RBM"
   ]
  },
  {
   "cell_type": "code",
   "execution_count": 66,
   "metadata": {
    "collapsed": false
   },
   "outputs": [],
   "source": [
    "#RBM(T=Float32,V=Float32,H=Float32,n_vis=28*28, n_hid=300, 0.1)"
   ]
  },
  {
   "cell_type": "code",
   "execution_count": 67,
   "metadata": {
    "collapsed": false
   },
   "outputs": [
    {
     "data": {
      "text/plain": [
       "DataType"
      ]
     },
     "execution_count": 67,
     "metadata": {},
     "output_type": "execute_result"
    }
   ],
   "source": [
    "typeof(RBM)"
   ]
  },
  {
   "cell_type": "code",
   "execution_count": 75,
   "metadata": {
    "collapsed": false
   },
   "outputs": [
    {
     "ename": "LoadError",
     "evalue": "MethodError: no method matching Boltzmann.RBM{T,V,H}(::Array{Float32,2}, ::Array{Float32,1}, ::Array{Float32,1})\u001b[0m\nClosest candidates are:\n  Boltzmann.RBM{T,V,H}{T}(::Any) at sysimg.jl:66\u001b[0m",
     "output_type": "error",
     "traceback": [
      "MethodError: no method matching Boltzmann.RBM{T,V,H}(::Array{Float32,2}, ::Array{Float32,1}, ::Array{Float32,1})\u001b[0m\nClosest candidates are:\n  Boltzmann.RBM{T,V,H}{T}(::Any) at sysimg.jl:66\u001b[0m",
      ""
     ]
    }
   ],
   "source": [
    "T = Float32\n",
    "sigma=0.01\n",
    "n_vis=28*28\n",
    "n_hid = 100\n",
    "W=map(T, rand(Normal(0, sigma), n_hid, n_vis));\n",
    "\n",
    "rbm = RBM(map(T, rand(Normal(0, sigma), n_hid, n_vis)),\n",
    "          map(T,zeros(784)), \n",
    "          map(T,zeros(100)))"
   ]
  },
  {
   "cell_type": "code",
   "execution_count": 76,
   "metadata": {
    "collapsed": false
   },
   "outputs": [],
   "source": [
    "W=map(T, rand(Normal(0, sigma), n_hid, n_vis));"
   ]
  },
  {
   "cell_type": "code",
   "execution_count": 77,
   "metadata": {
    "collapsed": false
   },
   "outputs": [],
   "source": [
    "#fit(m, X, n_epochs=20, randomize=true)\n",
    "#plot_weights(m.W[1:64, :], (28, 28))"
   ]
  },
  {
   "cell_type": "code",
   "execution_count": 78,
   "metadata": {
    "collapsed": false
   },
   "outputs": [
    {
     "ename": "LoadError",
     "evalue": "error in method definition: function Boltzmann.BernoulliRBM must be explicitly imported to be extended",
     "output_type": "error",
     "traceback": [
      "error in method definition: function Boltzmann.BernoulliRBM must be explicitly imported to be extended",
      ""
     ]
    }
   ],
   "source": [
    "BernoulliRBM(n_vis::Int, n_hid::Int; sigma=0.01) =\n",
    "    RBM(Float64, Degenerate, Bernoulli, n_vis, n_hid; sigma=sigma)\n"
   ]
  },
  {
   "cell_type": "code",
   "execution_count": null,
   "metadata": {
    "collapsed": true
   },
   "outputs": [],
   "source": []
  }
 ],
 "metadata": {
  "kernelspec": {
   "display_name": "Julia 0.5.0",
   "language": "julia",
   "name": "julia-0.5"
  },
  "language_info": {
   "file_extension": ".jl",
   "mimetype": "application/julia",
   "name": "julia",
   "version": "0.6.0"
  }
 },
 "nbformat": 4,
 "nbformat_minor": 0
}
