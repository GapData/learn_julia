{
 "cells": [
  {
   "cell_type": "markdown",
   "metadata": {},
   "source": [
    "# RBM and CRBM\n",
    "\n",
    "Objective: Implement CRBM in Julia for time series analysis"
   ]
  },
  {
   "cell_type": "code",
   "execution_count": 1,
   "metadata": {
    "collapsed": false
   },
   "outputs": [],
   "source": [
    "# Import Distributions to generate the W matrix of the RBM\n",
    "using Distributions"
   ]
  },
  {
   "cell_type": "code",
   "execution_count": 2,
   "metadata": {
    "collapsed": false
   },
   "outputs": [],
   "source": [
    "# Import MNIST dataset for experimenting\n",
    "using MNIST"
   ]
  },
  {
   "cell_type": "code",
   "execution_count": 3,
   "metadata": {
    "collapsed": false,
    "scrolled": true
   },
   "outputs": [],
   "source": [
    "X_train, y_train = MNIST.traindata()\n",
    "X_train_rows = X_train';\n",
    "X_train_rows = X_train_rows[1:42000,:];\n",
    "X_train_cols = X_train[:,1:42000];"
   ]
  },
  {
   "cell_type": "code",
   "execution_count": 4,
   "metadata": {
    "collapsed": false
   },
   "outputs": [
    {
     "data": {
      "text/plain": [
       "((42000,784),(60000,))"
      ]
     },
     "execution_count": 4,
     "metadata": {},
     "output_type": "execute_result"
    }
   ],
   "source": [
    "# Data\n",
    "size(X_train_rows), size(y_train)"
   ]
  },
  {
   "cell_type": "markdown",
   "metadata": {},
   "source": [
    "### Define a type RBM"
   ]
  },
  {
   "cell_type": "code",
   "execution_count": 5,
   "metadata": {
    "collapsed": false
   },
   "outputs": [],
   "source": [
    "type RBM_rows{T <: Real}\n",
    "    W::Matrix{T}\n",
    "    vis_bias::Vector{T}\n",
    "    hid_bias::Vector{T}\n",
    "    n_vis::Int32\n",
    "    n_hid::Int32\n",
    "    trained::Bool\n",
    "end"
   ]
  },
  {
   "cell_type": "markdown",
   "metadata": {},
   "source": [
    "The following function allow us to define what will be printed once we type RBM in our julia terminal (or notebook)"
   ]
  },
  {
   "cell_type": "code",
   "execution_count": 6,
   "metadata": {
    "collapsed": false
   },
   "outputs": [],
   "source": [
    "function Base.show{T}(io::IO, rbm::RBM_rows{T})\n",
    "    n_vis = size(rbm.vis_bias, 1)\n",
    "    n_hid = size(rbm.hid_bias, 1)\n",
    "    trained = rbm.trained\n",
    "    print(io, \"RBM{$T}(n_vis=$n_vis, n_hid=$n_hid, trained=$trained)\")\n",
    "end"
   ]
  },
  {
   "cell_type": "markdown",
   "metadata": {},
   "source": [
    "The following function is used to instanciate an RBM"
   ]
  },
  {
   "cell_type": "code",
   "execution_count": 7,
   "metadata": {
    "collapsed": false
   },
   "outputs": [
    {
     "data": {
      "text/plain": [
       "initializeRBM_rows (generic function with 1 method)"
      ]
     },
     "execution_count": 7,
     "metadata": {},
     "output_type": "execute_result"
    }
   ],
   "source": [
    "function initializeRBM_rows(n_vis::Int64, n_hid::Int64; sigma=0.01, T=Float64)\n",
    "    \n",
    "    return RBM_rows{T}( rand(Normal(0,sigma),n_vis, n_hid),  # weight matrix\n",
    "                   zeros(n_vis),                          # visible vector  \n",
    "                   zeros(n_hid),                          # Hidden vector\n",
    "                   n_vis,                                 # num visible units \n",
    "                   n_hid,                                 # num hidden unnits\n",
    "                   false)                                 # trained\n",
    "end"
   ]
  },
  {
   "cell_type": "code",
   "execution_count": 8,
   "metadata": {
    "collapsed": false
   },
   "outputs": [
    {
     "data": {
      "text/plain": [
       "RBM{Float64}(n_vis=784, n_hid=225, trained=false)"
      ]
     },
     "execution_count": 8,
     "metadata": {},
     "output_type": "execute_result"
    }
   ],
   "source": [
    "rbm = initializeRBM_rows(784, 225)"
   ]
  },
  {
   "cell_type": "markdown",
   "metadata": {},
   "source": [
    "### Train and RBM"
   ]
  },
  {
   "cell_type": "code",
   "execution_count": 11,
   "metadata": {
    "collapsed": false
   },
   "outputs": [
    {
     "data": {
      "text/plain": [
       "sigmoid (generic function with 1 method)"
      ]
     },
     "execution_count": 11,
     "metadata": {},
     "output_type": "execute_result"
    }
   ],
   "source": [
    "function sigmoid(vector::Array{Float64})\n",
    "    return 1./(1 + e.^(-vector))\n",
    "end"
   ]
  },
  {
   "cell_type": "markdown",
   "metadata": {},
   "source": [
    "# Thinking the data as rows (Julia stores it as columns)"
   ]
  },
  {
   "cell_type": "code",
   "execution_count": 12,
   "metadata": {
    "collapsed": false
   },
   "outputs": [
    {
     "data": {
      "text/plain": [
       "contrastive_divergence_rows_K (generic function with 1 method)"
      ]
     },
     "execution_count": 12,
     "metadata": {},
     "output_type": "execute_result"
    }
   ],
   "source": [
    "function contrastive_divergence_rows_K(Xbatch, rbm, K::Int64, lr::Float64)\n",
    "        \n",
    "    batch_size = size(Xbatch)[1]\n",
    "\n",
    "    Delta_W = zeros(rbm.W)\n",
    "    Delta_b = zeros(rbm.vis_bias)\n",
    "    Delta_c = zeros(rbm.hid_bias)\n",
    "\n",
    "    for i in 1:batch_size\n",
    "        x =  Xbatch[i:i,:]\n",
    "        xneg = Xbatch[i:i,:]\n",
    "\n",
    "        for k in 1:K\n",
    "            hneg = sigmoid( xneg * rbm.W .+ rbm.hid_bias') .> rand(1,rbm.n_hid)\n",
    "            xneg = sigmoid( hneg * rbm.W' .+ rbm.vis_bias') .> rand(1,rbm.n_vis)\n",
    "        end\n",
    "\n",
    "        ehp = sigmoid(x * rbm.W + rbm.hid_bias')\n",
    "        ehn = sigmoid(xneg * rbm.W + rbm.hid_bias')\n",
    "        \n",
    "        Delta_W += lr * (kron(x, ehp') - kron(xneg, ehn'))'\n",
    "        Delta_b += lr * (x - xneg)'\n",
    "        Delta_c += lr * (ehp - ehn)'\n",
    "    end\n",
    "    \n",
    "    rbm.W += Delta_W / batch_size;\n",
    "    rbm.vis_bias += vec(Delta_b / batch_size);\n",
    "    rbm.hid_bias += vec(Delta_c / batch_size);\n",
    "    \n",
    "end"
   ]
  },
  {
   "cell_type": "code",
   "execution_count": 13,
   "metadata": {
    "collapsed": false
   },
   "outputs": [],
   "source": [
    "X_batch_rows = X_train_rows[1:200,:];"
   ]
  },
  {
   "cell_type": "code",
   "execution_count": null,
   "metadata": {
    "collapsed": false
   },
   "outputs": [],
   "source": [
    "@time contrastive_divergence_rows_K(X_batch_rows, rbm, 1, 0.01);"
   ]
  },
  {
   "cell_type": "markdown",
   "metadata": {},
   "source": [
    "### split in 2 functions"
   ]
  },
  {
   "cell_type": "code",
   "execution_count": 15,
   "metadata": {
    "collapsed": false
   },
   "outputs": [
    {
     "ename": "LoadError",
     "evalue": "syntax: extra token \")\" after end of expression",
     "output_type": "error",
     "traceback": [
      "syntax: extra token \")\" after end of expression",
      ""
     ]
    }
   ],
   "source": [
    "function updates(x, xneg, rbm,  Delta_W, Delta_b, Delta_c, K, lr)\n",
    "\n",
    "        for k in 1:K\n",
    "            hneg = sigmoid( xneg * rbm.W .+ rbm.hid_bias') .> rand(1,rbm.n_hid)\n",
    "            xneg = sigmoid( hneg * rbm.W' .+ rbm.vis_bias') .> rand(1,rbm.n_vis)\n",
    "        end\n",
    "\n",
    "        ehp = sigmoid(x * rbm.W + rbm.hid_bias')\n",
    "        ehn = sigmoid(xneg * rbm.W + rbm.hid_bias')\n",
    "        \n",
    "        Delta_W += lr * x*ehp' - xneg* ehn')'\n",
    "        Delta_b += lr * (x - xneg)'\n",
    "        Delta_c += lr * (ehp - ehn)'\n",
    "end"
   ]
  },
  {
   "cell_type": "code",
   "execution_count": 16,
   "metadata": {
    "collapsed": false
   },
   "outputs": [
    {
     "data": {
      "text/plain": [
       "contrastive_divergence_rows_K_split (generic function with 1 method)"
      ]
     },
     "execution_count": 16,
     "metadata": {},
     "output_type": "execute_result"
    }
   ],
   "source": [
    "function contrastive_divergence_rows_K_split(Xbatch, rbm, K::Int64, lr::Float64)\n",
    "        \n",
    "    batch_size = size(Xbatch)[1]\n",
    "\n",
    "    Delta_W = zeros(rbm.W)\n",
    "    Delta_b = zeros(rbm.vis_bias)\n",
    "    Delta_c = zeros(rbm.hid_bias)\n",
    "\n",
    "    for i in 1:batch_size\n",
    "        x =  Xbatch[i:i,:]\n",
    "        xneg = Xbatch[i:i,:]\n",
    "        updates(x,xneg,rbm, Delta_W, Delta_b, Delta_c, K, lr)\n",
    "    end\n",
    "    \n",
    "    rbm.W += Delta_W / batch_size;\n",
    "    rbm.vis_bias += vec(Delta_b / batch_size);\n",
    "    rbm.hid_bias += vec(Delta_c / batch_size);\n",
    "    \n",
    "end"
   ]
  },
  {
   "cell_type": "code",
   "execution_count": 17,
   "metadata": {
    "collapsed": false
   },
   "outputs": [
    {
     "ename": "LoadError",
     "evalue": "UndefVarError: updates not defined",
     "output_type": "error",
     "traceback": [
      "UndefVarError: updates not defined",
      "",
      " in contrastive_divergence_rows_K_split(::Array{Float64,2}, ::RBM_rows{Float64}, ::Int64, ::Float64) at ./In[16]:12"
     ]
    }
   ],
   "source": [
    "@time contrastive_divergence_rows_K_split(X_batch_rows, rbm, 1, 0.01);"
   ]
  },
  {
   "cell_type": "markdown",
   "metadata": {},
   "source": [
    "#### Generate indicies for the minibatches"
   ]
  },
  {
   "cell_type": "code",
   "execution_count": 45,
   "metadata": {
    "collapsed": false
   },
   "outputs": [
    {
     "name": "stderr",
     "output_type": "stream",
     "text": [
      "WARNING: Method definition fit_CDK_rows(Any, Any, Integer, Integer, Integer, Real) in module Main at In[39]:3 overwritten at In[45]:3.\n"
     ]
    },
    {
     "data": {
      "text/plain": [
       "fit_CDK_rows (generic function with 1 method)"
      ]
     },
     "execution_count": 45,
     "metadata": {},
     "output_type": "execute_result"
    }
   ],
   "source": [
    "function fit_CDK_rows(X, rbm, batch_size::Integer, n_epochs::Integer, K::Integer, lr::Real)\n",
    "        \n",
    "    n_samples = size(X)[1]\n",
    "    indicies = [x:min(x + batch_size-1, n_samples) for x in 1:batch_size:n_samples]\n",
    "\n",
    "    for epoch in 1:n_epochs\n",
    "        tic();\n",
    "        for minibatch_ind in indicies\n",
    "            contrastive_divergence_rows_K(X[minibatch_ind, :], rbm, K, lr)\n",
    "        end\n",
    "        print(\"\\nepoch \", epoch, \"  time epoch:\", toq())\n",
    "        \n",
    "    end\n",
    "    rbm.trained = true\n",
    "end"
   ]
  },
  {
   "cell_type": "code",
   "execution_count": 46,
   "metadata": {
    "collapsed": false
   },
   "outputs": [
    {
     "data": {
      "text/plain": [
       "(42000,784)"
      ]
     },
     "execution_count": 46,
     "metadata": {},
     "output_type": "execute_result"
    }
   ],
   "source": [
    "size(X_train_rows)"
   ]
  },
  {
   "cell_type": "code",
   "execution_count": 48,
   "metadata": {
    "collapsed": false
   },
   "outputs": [
    {
     "name": "stdout",
     "output_type": "stream",
     "text": [
      "\n",
      "epoch 1  time epoch:186.911796912"
     ]
    },
    {
     "data": {
      "text/plain": [
       "true"
      ]
     },
     "execution_count": 48,
     "metadata": {},
     "output_type": "execute_result"
    }
   ],
   "source": [
    "# 175 seconds in julia\n",
    "# 86.36 seconds in python\n",
    "# System monitors shows python version uses several cores\n",
    "\n",
    "n_epochs = 1\n",
    "batch_size = 200\n",
    "K = 1\n",
    "lr = 0.01\n",
    "\n",
    "fit_CDK_rows(X_train_rows, rbm, batch_size,  n_epochs, K, lr)"
   ]
  },
  {
   "cell_type": "markdown",
   "metadata": {},
   "source": [
    "# Thinking the data as columns\n"
   ]
  },
  {
   "cell_type": "markdown",
   "metadata": {},
   "source": [
    "Now we will implement the same as cols\n",
    "\n"
   ]
  },
  {
   "cell_type": "code",
   "execution_count": 49,
   "metadata": {
    "collapsed": false
   },
   "outputs": [],
   "source": [
    "type RBM_col{T <: Real}\n",
    "    W::Matrix{T}         \n",
    "    vis_bias::Vector{T}     \n",
    "    hid_bias::Vector{T}   \n",
    "    n_vis::Int32\n",
    "    n_hid::Int32\n",
    "    trained::Bool\n",
    "end"
   ]
  },
  {
   "cell_type": "code",
   "execution_count": 50,
   "metadata": {
    "collapsed": false
   },
   "outputs": [],
   "source": [
    "function Base.show{T}(io::IO, rbm::RBM_col{T})\n",
    "    n_vis = size(rbm.vis_bias, 1)\n",
    "    n_hid = size(rbm.hid_bias, 1)\n",
    "    trained = rbm.trained\n",
    "    print(io, \"RBM{$T}(n_vis=$n_vis, n_hid=$n_hid, trained=$trained)\")\n",
    "end"
   ]
  },
  {
   "cell_type": "code",
   "execution_count": 51,
   "metadata": {
    "collapsed": false
   },
   "outputs": [
    {
     "data": {
      "text/plain": [
       "initialize_RBM_col (generic function with 1 method)"
      ]
     },
     "execution_count": 51,
     "metadata": {},
     "output_type": "execute_result"
    }
   ],
   "source": [
    "function initialize_RBM_col(n_vis::Int64, n_hid::Int64; sigma=0.01, T=Float64)\n",
    "    \n",
    "    return RBM_col{T}( rand(Normal(0,sigma),(n_hid,n_vis)),  # weight matrix\n",
    "                   zeros(n_vis),                             # visible vector  \n",
    "                   zeros(n_hid),                             # Hidden vector\n",
    "                   n_vis,                                    # num visible units \n",
    "                   n_hid,                                    # num hidden unnits\n",
    "                   false)                                    # trained\n",
    "\n",
    "\n",
    "end"
   ]
  },
  {
   "cell_type": "code",
   "execution_count": 52,
   "metadata": {
    "collapsed": false
   },
   "outputs": [
    {
     "name": "stderr",
     "output_type": "stream",
     "text": [
      "WARNING: Method definition sigmoid(Array{Float64, N<:Any}) in module Main at In[14]:2 overwritten at In[52]:2.\n"
     ]
    },
    {
     "data": {
      "text/plain": [
       "sigmoid (generic function with 1 method)"
      ]
     },
     "execution_count": 52,
     "metadata": {},
     "output_type": "execute_result"
    }
   ],
   "source": [
    "function sigmoid(vector::Array{Float64})\n",
    "    return 1./(1 + e.^(-vector))\n",
    "end"
   ]
  },
  {
   "cell_type": "code",
   "execution_count": 53,
   "metadata": {
    "collapsed": false
   },
   "outputs": [
    {
     "data": {
      "text/plain": [
       "RBM{Float64}(n_vis=784, n_hid=225, trained=false)"
      ]
     },
     "execution_count": 53,
     "metadata": {},
     "output_type": "execute_result"
    }
   ],
   "source": [
    "rbm = initialize_RBM_col(784, 225)"
   ]
  },
  {
   "cell_type": "code",
   "execution_count": 66,
   "metadata": {
    "collapsed": false
   },
   "outputs": [
    {
     "name": "stderr",
     "output_type": "stream",
     "text": [
      "WARNING: Method definition contrastive_divergence_K(Any, Any, Integer, Real) in module Main at In[64]:3 overwritten at In[66]:3.\n"
     ]
    },
    {
     "data": {
      "text/plain": [
       "contrastive_divergence_K (generic function with 1 method)"
      ]
     },
     "execution_count": 66,
     "metadata": {},
     "output_type": "execute_result"
    }
   ],
   "source": [
    "function contrastive_divergence_K(Xbatch, rbm, K::Int64, lr::Float64)\n",
    "        \n",
    "    batch_size = size(Xbatch)[2]\n",
    "\n",
    "    Delta_W = zeros(size(rbm.W))\n",
    "    Delta_b = zeros(size(rbm.vis_bias))\n",
    "    Delta_c = zeros(size(rbm.hid_bias))\n",
    "\n",
    "    for i in 1:batch_size\n",
    "        x =  Xbatch[:,i]\n",
    "        xneg = Xbatch[:,i]\n",
    "\n",
    "        for k in 1:K\n",
    "            hneg = sigmoid( rbm.W * xneg .+ rbm.hid_bias) .> rand(rbm.n_hid)\n",
    "            xneg = sigmoid( rbm.W' * hneg .+ rbm.vis_bias) .> rand(rbm.n_vis)\n",
    "        end\n",
    "\n",
    "        ehp = sigmoid(rbm.W * x + rbm.hid_bias)\n",
    "        ehn = sigmoid(rbm.W * xneg + rbm.hid_bias)\n",
    "     \n",
    "        Delta_W += lr * (kron(x, ehp') - kron(xneg, ehn'))'\n",
    "        Delta_b += lr * (x - xneg)\n",
    "        Delta_c += lr * (ehp - ehn)\n",
    "\n",
    "    end\n",
    "\n",
    "    rbm.W += Delta_W / batch_size;\n",
    "    rbm.vis_bias += Delta_b / batch_size;\n",
    "    rbm.hid_bias += Delta_c / batch_size;\n",
    "    \n",
    "    return \n",
    "end"
   ]
  },
  {
   "cell_type": "code",
   "execution_count": 70,
   "metadata": {
    "collapsed": false
   },
   "outputs": [],
   "source": [
    "X_batch_cols = X_train_cols[:,1:200];"
   ]
  },
  {
   "cell_type": "code",
   "execution_count": 72,
   "metadata": {
    "collapsed": false
   },
   "outputs": [
    {
     "data": {
      "text/plain": [
       "(784,200)"
      ]
     },
     "execution_count": 72,
     "metadata": {},
     "output_type": "execute_result"
    }
   ],
   "source": [
    "size(X_batch_cols)"
   ]
  },
  {
   "cell_type": "code",
   "execution_count": 76,
   "metadata": {
    "collapsed": false
   },
   "outputs": [
    {
     "name": "stdout",
     "output_type": "stream",
     "text": [
      "  1.279093 seconds (21.22 k allocations: 1.608 GB, 3.56% gc time)\n"
     ]
    }
   ],
   "source": [
    "@time contrastive_divergence_K(X_batch_cols, rbm, 1, 0.01)"
   ]
  },
  {
   "cell_type": "code",
   "execution_count": 77,
   "metadata": {
    "collapsed": false
   },
   "outputs": [
    {
     "data": {
      "text/plain": [
       "fit_CDK_cols (generic function with 1 method)"
      ]
     },
     "execution_count": 77,
     "metadata": {},
     "output_type": "execute_result"
    }
   ],
   "source": [
    "function fit_CDK_cols(X, rbm, batch_size::Integer,  n_epochs::Integer, K::Integer, lr::Real)\n",
    "        \n",
    "    n_samples = size(X)[2]\n",
    "    indicies = [x:min(x + batch_size-1, n_samples) for x in 1:batch_size:n_samples]\n",
    "\n",
    "    for epoch in 1:n_epochs\n",
    "        tic();\n",
    "        for minibatch_ind in indicies\n",
    "            contrastive_divergence_K(X[:, minibatch_ind], rbm, K, lr)\n",
    "        end\n",
    "        print(\"\\nepoch \", epoch, \"  time epoch:\", toq())\n",
    "    end\n",
    "    rbm.trained = true\n",
    "end"
   ]
  },
  {
   "cell_type": "code",
   "execution_count": 81,
   "metadata": {
    "collapsed": false
   },
   "outputs": [
    {
     "data": {
      "text/plain": [
       "(784,42000)"
      ]
     },
     "execution_count": 81,
     "metadata": {},
     "output_type": "execute_result"
    }
   ],
   "source": [
    "size(X_train_cols)"
   ]
  },
  {
   "cell_type": "code",
   "execution_count": null,
   "metadata": {
    "collapsed": false
   },
   "outputs": [],
   "source": [
    "n_epochs = 3\n",
    "batch_size = 200\n",
    "K = 1\n",
    "lr = 0.01\n",
    "\n",
    "@time fit_CDK_cols(X_train_cols, rbm, batch_size,  n_epochs, K, lr)"
   ]
  },
  {
   "cell_type": "code",
   "execution_count": null,
   "metadata": {
    "collapsed": true
   },
   "outputs": [],
   "source": []
  }
 ],
 "metadata": {
  "kernelspec": {
   "display_name": "Julia 0.5.0",
   "language": "julia",
   "name": "julia-0.5"
  },
  "language_info": {
   "file_extension": ".jl",
   "mimetype": "application/julia",
   "name": "julia",
   "version": "0.6.0"
  }
 },
 "nbformat": 4,
 "nbformat_minor": 0
}
