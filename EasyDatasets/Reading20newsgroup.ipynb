{
 "cells": [
  {
   "cell_type": "markdown",
   "metadata": {},
   "source": [
    "# 20 newsgroup\n",
    "\n",
    "Sklearn info \n",
    "\n",
    "- http://scikit-learn.org/stable/datasets/twenty_newsgroups.html\n",
    "\n",
    "Dataset \n",
    "\n",
    "- http://people.csail.mit.edu/jrennie/20Newsgroups/20news-bydate.tar.gz \n"
   ]
  },
  {
   "cell_type": "code",
   "execution_count": 12,
   "metadata": {
    "collapsed": true
   },
   "outputs": [],
   "source": [
    "#wij ←wij −η(yj −tj)·xi"
   ]
  },
  {
   "cell_type": "code",
   "execution_count": 13,
   "metadata": {},
   "outputs": [
    {
     "data": {
      "text/plain": [
       "read20newsgroup"
      ]
     },
     "execution_count": 13,
     "metadata": {},
     "output_type": "execute_result"
    }
   ],
   "source": [
    "\"\"\"\n",
    "This function retrieves the raw textual data\n",
    "from the 20 newsgroup dataset and returns \n",
    "\"\"\"\n",
    "function read20newsgroup(path)\n",
    "    class_names = readdir(path)\n",
    "    X = Array{String}([])\n",
    "    y = Array{String}([])\n",
    "    doc_paths = Array{String}([])\n",
    "    for class_name in class_names\n",
    "        docs = readdir(path * \"/\" * class_name)\n",
    "        for doc in docs\n",
    "            data = readlines(path * \"/\" * class_name * \"/\" * doc)\n",
    "            datajoined = \"\"\n",
    "            # This is wrong, but some files contain extrange characters at the last\n",
    "            # position. Need to do it more elegantly.\n",
    "            for line in data[1:end-1] \n",
    "                datajoined =  datajoined * line * \"\\n\"\n",
    "            end\n",
    "            push!(X, datajoined)\n",
    "            push!(y, class_name)\n",
    "        end\n",
    "    end\n",
    "   return (X,y)\n",
    "end"
   ]
  },
  {
   "cell_type": "code",
   "execution_count": 14,
   "metadata": {},
   "outputs": [
    {
     "data": {
      "text/plain": [
       "\"/Users/macpro/Documents/Datasets/20news-bydate/20news-bydate-train/\""
      ]
     },
     "execution_count": 14,
     "metadata": {},
     "output_type": "execute_result"
    }
   ],
   "source": [
    "datapathtrain = homedir() * \"/Documents/Datasets/20news-bydate/20news-bydate-train/\""
   ]
  },
  {
   "cell_type": "code",
   "execution_count": 15,
   "metadata": {},
   "outputs": [
    {
     "data": {
      "text/plain": [
       "\"/Users/macpro/Documents/Datasets/20news-bydate/20news-bydate-test/\""
      ]
     },
     "execution_count": 15,
     "metadata": {},
     "output_type": "execute_result"
    }
   ],
   "source": [
    "datapathtest = homedir() * \"/Documents/Datasets/20news-bydate/20news-bydate-test/\""
   ]
  },
  {
   "cell_type": "code",
   "execution_count": 16,
   "metadata": {},
   "outputs": [
    {
     "ename": "LoadError",
     "evalue": "\u001b[91mSystemError: unable to read directory /Users/macpro/Documents/Datasets/20news-bydate/20news-bydate-train/: No such file or directory\u001b[39m",
     "output_type": "error",
     "traceback": [
      "\u001b[91mSystemError: unable to read directory /Users/macpro/Documents/Datasets/20news-bydate/20news-bydate-train/: No such file or directory\u001b[39m",
      "",
      "Stacktrace:",
      " [1] \u001b[1mreaddir\u001b[22m\u001b[22m\u001b[1m(\u001b[22m\u001b[22m::String\u001b[1m)\u001b[22m\u001b[22m at \u001b[1m./file.jl:413\u001b[22m\u001b[22m",
      " [2] \u001b[1mread20newsgroup\u001b[22m\u001b[22m\u001b[1m(\u001b[22m\u001b[22m::String\u001b[1m)\u001b[22m\u001b[22m at \u001b[1m./In[13]:6\u001b[22m\u001b[22m"
     ]
    }
   ],
   "source": [
    "@time (X_tr,y_tr) = read20newsgroup(datapathtrain);"
   ]
  },
  {
   "cell_type": "code",
   "execution_count": 17,
   "metadata": {},
   "outputs": [
    {
     "ename": "LoadError",
     "evalue": "\u001b[91mSystemError: unable to read directory /Users/macpro/Documents/Datasets/20news-bydate/20news-bydate-test/: No such file or directory\u001b[39m",
     "output_type": "error",
     "traceback": [
      "\u001b[91mSystemError: unable to read directory /Users/macpro/Documents/Datasets/20news-bydate/20news-bydate-test/: No such file or directory\u001b[39m",
      "",
      "Stacktrace:",
      " [1] \u001b[1mreaddir\u001b[22m\u001b[22m\u001b[1m(\u001b[22m\u001b[22m::String\u001b[1m)\u001b[22m\u001b[22m at \u001b[1m./file.jl:413\u001b[22m\u001b[22m",
      " [2] \u001b[1mread20newsgroup\u001b[22m\u001b[22m\u001b[1m(\u001b[22m\u001b[22m::String\u001b[1m)\u001b[22m\u001b[22m at \u001b[1m./In[13]:6\u001b[22m\u001b[22m"
     ]
    }
   ],
   "source": [
    "@time (X_te,y_te) = read20newsgroup(datapathtest);"
   ]
  },
  {
   "cell_type": "code",
   "execution_count": 18,
   "metadata": {},
   "outputs": [
    {
     "ename": "LoadError",
     "evalue": "\u001b[91mUndefVarError: X_tr not defined\u001b[39m",
     "output_type": "error",
     "traceback": [
      "\u001b[91mUndefVarError: X_tr not defined\u001b[39m",
      ""
     ]
    }
   ],
   "source": [
    "length(X_tr)"
   ]
  },
  {
   "cell_type": "code",
   "execution_count": 19,
   "metadata": {},
   "outputs": [
    {
     "ename": "LoadError",
     "evalue": "\u001b[91mUndefVarError: X_tr not defined\u001b[39m",
     "output_type": "error",
     "traceback": [
      "\u001b[91mUndefVarError: X_tr not defined\u001b[39m",
      ""
     ]
    }
   ],
   "source": [
    "X_tr[4]"
   ]
  },
  {
   "cell_type": "code",
   "execution_count": 25,
   "metadata": {
    "collapsed": true
   },
   "outputs": [],
   "source": [
    "#Pkg.add(\"TextAnalysis\")"
   ]
  },
  {
   "cell_type": "code",
   "execution_count": 26,
   "metadata": {
    "collapsed": true
   },
   "outputs": [],
   "source": [
    "#using TextAnalysis"
   ]
  },
  {
   "cell_type": "code",
   "execution_count": 27,
   "metadata": {
    "collapsed": true
   },
   "outputs": [],
   "source": [
    "#a = TextAnalysis.tokenize(\"lala\",8)"
   ]
  },
  {
   "cell_type": "code",
   "execution_count": 28,
   "metadata": {
    "collapsed": true
   },
   "outputs": [],
   "source": [
    "#tok(X_tr[4])"
   ]
  },
  {
   "cell_type": "code",
   "execution_count": null,
   "metadata": {
    "collapsed": true
   },
   "outputs": [],
   "source": []
  }
 ],
 "metadata": {
  "anaconda-cloud": {},
  "kernelspec": {
   "display_name": "Julia 0.6.0-pre.beta",
   "language": "julia",
   "name": "julia-0.6"
  },
  "language_info": {
   "file_extension": ".jl",
   "mimetype": "application/julia",
   "name": "julia",
   "version": "0.6.0"
  }
 },
 "nbformat": 4,
 "nbformat_minor": 1
}
