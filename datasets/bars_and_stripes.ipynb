{
 "cells": [
  {
   "cell_type": "code",
   "execution_count": 204,
   "metadata": {},
   "outputs": [
    {
     "name": "stderr",
     "output_type": "stream",
     "text": [
      "WARNING: Method definition generate_bars_and_stripes(Any, Any) in module Main at In[177]:4 overwritten at In[204]:4.\n",
      "WARNING: Method definition generate_bars_and_stripes(Any, Any, DataType) in module Main at In[177]:4 overwritten at In[204]:4.\n"
     ]
    },
    {
     "data": {
      "text/plain": [
       "generate_bars_and_stripes (generic function with 2 methods)"
      ]
     },
     "execution_count": 204,
     "metadata": {},
     "output_type": "execute_result"
    }
   ],
   "source": [
    "\n",
    "function generate_bars_and_stripes(n_row, n_col, T::DataType=Float32)\n",
    "    \n",
    "    function generate_rows(n_row,n_col, T::DataType=Float32)\n",
    "        data = Array{T}[]\n",
    "        perms =[ [ bit == '1' ? 1 : 0 for bit in bin(n,n_row) ] for n in 0:2^(n_row) ][1:end-1]\n",
    "        for p in perms\n",
    "            x = zeros(T, n_row, n_col)\n",
    "            for (pos,val) in enumerate(p)\n",
    "               if val == 1\n",
    "                   x[pos,:] = 1\n",
    "               end\n",
    "            end\n",
    "            push!(data, x)\n",
    "        end\n",
    "        return data\n",
    "    end\n",
    "\n",
    "    function generate_cols(n_row, n_col, T=Float32)\n",
    "        data = Array{T}[]\n",
    "        perms =[ [ bit == '1' ? 1 : 0 for bit in bin(n,n_col) ] for n in 0:2^(n_col) ][1:end-1]\n",
    "        for p in perms\n",
    "            x = zeros(T, n_row, n_col)\n",
    "            for (pos,val) in enumerate(p)\n",
    "               if val == 1\n",
    "                   x[:,pos] = 1\n",
    "               end\n",
    "            end\n",
    "            push!(data, x)\n",
    "        end\n",
    "        return data\n",
    "    end\n",
    "\n",
    "    X = Array{T}[]\n",
    "    X_cols = generate_cols(n_row, n_col, T)\n",
    "    X_rows = generate_rows(n_row, n_col, T)\n",
    "\n",
    "    for x in X_cols\n",
    "        push!(X, x)\n",
    "    end\n",
    "    \n",
    "    for x in X_rows\n",
    "        push!(X, x)\n",
    "    end\n",
    "    \n",
    "    return X\n",
    "end"
   ]
  },
  {
   "cell_type": "code",
   "execution_count": 205,
   "metadata": {},
   "outputs": [],
   "source": [
    "X = generate_bars_and_stripes(10,4, Float32);"
   ]
  },
  {
   "cell_type": "code",
   "execution_count": 211,
   "metadata": {},
   "outputs": [
    {
     "data": {
      "text/plain": [
       "10×4 Array{Float32,2}:\n",
       " 0.0  0.0  0.0  1.0\n",
       " 0.0  0.0  0.0  1.0\n",
       " 0.0  0.0  0.0  1.0\n",
       " 0.0  0.0  0.0  1.0\n",
       " 0.0  0.0  0.0  1.0\n",
       " 0.0  0.0  0.0  1.0\n",
       " 0.0  0.0  0.0  1.0\n",
       " 0.0  0.0  0.0  1.0\n",
       " 0.0  0.0  0.0  1.0\n",
       " 0.0  0.0  0.0  1.0"
      ]
     },
     "execution_count": 211,
     "metadata": {},
     "output_type": "execute_result"
    }
   ],
   "source": [
    "X[]"
   ]
  },
  {
   "cell_type": "code",
   "execution_count": null,
   "metadata": {
    "collapsed": true
   },
   "outputs": [],
   "source": []
  }
 ],
 "metadata": {
  "kernelspec": {
   "display_name": "Julia 0.5.0",
   "language": "julia",
   "name": "julia-0.5"
  },
  "language_info": {
   "file_extension": ".jl",
   "mimetype": "application/julia",
   "name": "julia",
   "version": "0.5.0"
  }
 },
 "nbformat": 4,
 "nbformat_minor": 1
}
