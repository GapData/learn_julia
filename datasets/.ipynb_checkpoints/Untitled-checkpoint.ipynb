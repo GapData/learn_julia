{
 "cells": [
  {
   "cell_type": "markdown",
   "metadata": {},
   "source": [
    "\n",
    "```python\n",
    "def generate_bars_stripes(neuron_type, num_rows, num_cols):\n",
    "    dataset = []\n",
    "\n",
    "    # Add stripes\n",
    "    for n in range(1, num_rows):\n",
    "        for idx in itertools.combinations(range(num_rows), n):\n",
    "            s = np.zeros((num_rows, num_cols))\n",
    "            s[idx, :] = 1\n",
    "            dataset.append(s.flatten())\n",
    "\n",
    "    # Add bars\n",
    "    for n in range(1, num_cols):\n",
    "        for idx in itertools.combinations(range(num_cols), n):\n",
    "            s = np.zeros((num_rows, num_cols))\n",
    "            s[:, idx] = 1\n",
    "            dataset.append(s.flatten())\n",
    "\n",
    "    # Add full and empty cases\n",
    "    dataset.append(np.zeros(num_rows * num_cols))\n",
    "    dataset.append(np.ones (num_rows * num_cols))\n",
    "\n",
    "    # Convert to array\n",
    "    tset = np.array(dataset, dtype=int)\n",
    "\n",
    "    # Correct it for {-1, 1} neurons\n",
    "    if neuron_type == 1:\n",
    "        tset[tset==0] = -1\n",
    "\n",
    "    return tset\n",
    "```\n",
    "\n",
    "#### What itertools does \n",
    "\n",
    "```python\n",
    ">>> itertools.combinations(range(5), 2)\n",
    "<itertools.combinations object at 0x1006ddba8>\n",
    ">>> for ids in itertools.combinations(range(5), 2):\n",
    "...     print ids\n",
    "... \n",
    "(0, 1)\n",
    "(0, 2)\n",
    "(0, 3)\n",
    "(0, 4)\n",
    "(1, 2)\n",
    "(1, 3)\n",
    "(1, 4)\n",
    "(2, 3)\n",
    "(2, 4)\n",
    "(3, 4)\n",
    "```\n"
   ]
  },
  {
   "cell_type": "code",
   "execution_count": null,
   "metadata": {
    "collapsed": true
   },
   "outputs": [],
   "source": [
    "zeros()"
   ]
  },
  {
   "cell_type": "code",
   "execution_count": null,
   "metadata": {
    "collapsed": true
   },
   "outputs": [],
   "source": [
    "function generate_bars_and_stripes(n_rows, n_cols)\n",
    "    for n in 1:n_rows\n",
    "        \n",
    "    end\n",
    "    \n",
    "end"
   ]
  }
 ],
 "metadata": {
  "kernelspec": {
   "display_name": "Julia 0.5.0",
   "language": "julia",
   "name": "julia-0.5"
  },
  "language_info": {
   "file_extension": ".jl",
   "mimetype": "application/julia",
   "name": "julia",
   "version": "0.5.0"
  }
 },
 "nbformat": 4,
 "nbformat_minor": 0
}
