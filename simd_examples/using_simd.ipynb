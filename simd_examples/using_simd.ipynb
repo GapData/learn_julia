{
 "cells": [
  {
   "cell_type": "markdown",
   "metadata": {},
   "source": [
    "\n",
    "## Simd examples\n",
    "\n",
    "\n",
    "Run \n",
    "```\n",
    "include(joinpath(dirname(JULIA_HOME),\"share\",\"julia\",\"build_sysimg.jl\")); build_sysimg(force=true)\n",
    "```\n",
    "if julia is not build in source.\n"
   ]
  },
  {
   "cell_type": "code",
   "execution_count": 1,
   "metadata": {},
   "outputs": [
    {
     "data": {
      "text/plain": [
       "simdwidth (generic function with 1 method)"
      ]
     },
     "execution_count": 1,
     "metadata": {},
     "output_type": "execute_result"
    }
   ],
   "source": [
    "using BenchmarkTools\n",
    "using SIMD\n",
    "Base.@pure simdwidth(::Type{T}) where {T} = Int(256/8/sizeof(T))"
   ]
  },
  {
   "cell_type": "code",
   "execution_count": 13,
   "metadata": {
    "scrolled": true
   },
   "outputs": [
    {
     "name": "stdout",
     "output_type": "stream",
     "text": [
      "simdwitdth Float16: 16\n",
      "simdwitdth Float32: 8\n",
      "simdwitdth Float64: 4\n",
      "\n",
      "simdwitdth Int16: 16\n",
      "simdwitdth Int32: 8\n",
      "simdwitdth Int64: 4\n"
     ]
    }
   ],
   "source": [
    "println(\"simdwitdth Float16: \", simdwidth(Float16))\n",
    "println(\"simdwitdth Float32: \", simdwidth(Float32))\n",
    "println(\"simdwitdth Float64: \", simdwidth(Float64))\n",
    "\n",
    "println(\"\\nsimdwitdth Int16: \", simdwidth(Int16))\n",
    "println(\"simdwitdth Int32: \", simdwidth(Int32))\n",
    "println(\"simdwitdth Int64: \", simdwidth(Int64))"
   ]
  },
  {
   "cell_type": "code",
   "execution_count": 23,
   "metadata": {},
   "outputs": [
    {
     "data": {
      "text/plain": [
       "mysum_simd (generic function with 1 method)"
      ]
     },
     "execution_count": 23,
     "metadata": {},
     "output_type": "execute_result"
    }
   ],
   "source": [
    "function mysum(a::Vector)\n",
    "    total = zero(eltype(a))\n",
    "    for x in a\n",
    "        total += x\n",
    "    end\n",
    "    return total\n",
    "end\n",
    "\n",
    "function mysum_simd(a::Vector)\n",
    "    total = zero(eltype(a))\n",
    "    @simd for x in a\n",
    "        total += x\n",
    "    end\n",
    "    return total\n",
    "end"
   ]
  },
  {
   "cell_type": "code",
   "execution_count": 24,
   "metadata": {
    "collapsed": true
   },
   "outputs": [],
   "source": [
    "x = rand(Float64 , 100000);"
   ]
  },
  {
   "cell_type": "code",
   "execution_count": 25,
   "metadata": {
    "scrolled": true
   },
   "outputs": [
    {
     "name": "stdout",
     "output_type": "stream",
     "text": [
      "\t.section\t__TEXT,__text,regular,pure_instructions\n",
      "Filename: In[23]\n",
      "Source line: 67\n",
      "\tmovq\t8(%rdi), %rax\n",
      "Source line: 64\n",
      "\tmovq\t24(%rdi), %rdx\n",
      "\txorl\t%ecx, %ecx\n",
      "Source line: 79\n",
      "\ttestq\t%rdx, %rdx\n",
      "\tcmovnsq\t%rdx, %rcx\n",
      "Source line: 68\n",
      "\ttestq\t%rax, %rax\n",
      "\tjle\tL206\n",
      "Source line: 79\n",
      "\tleaq\t-1(%rcx), %rsi\n",
      "\tcmpq\t%rdx, %rsi\n",
      "\tjae\tL210\n",
      "Source line: 50\n",
      "\tmovq\t(%rdi), %r9\n",
      "Source line: 66\n",
      "\tleaq\t16(%r9), %r8\n",
      "\tmovq\t%rax, %r10\n",
      "\tandq\t$-4, %r10\n",
      "\tpxor\t%xmm0, %xmm0\n",
      "\txorl\t%edi, %edi\n",
      "\tjmp\tL192\n",
      "Source line: 71\n",
      "L64:\n",
      "\ttestq\t%rax, %rax\n",
      "\tjle\tL192\n",
      "Source line: 50\n",
      "\tcmpq\t$4, %rax\n",
      "\tjae\tL79\n",
      "\txorl\t%edx, %edx\n",
      "\tjmp\tL156\n",
      "L79:\n",
      "\tmovq\t%rax, %rdx\n",
      "\tandq\t$-4, %rdx\n",
      "\tje\tL154\n",
      "\tmovq\t%xmm0, %xmm1            ## xmm1 = xmm0[0],zero\n",
      "\tpxor\t%xmm0, %xmm0\n",
      "Source line: 74\n",
      "\tmovq\t%r10, %rsi\n",
      "\tmovq\t%r8, %rcx\n",
      "\tnopw\t%cs:(%rax,%rax)\n",
      "Source line: 50\n",
      "L112:\n",
      "\tmovupd\t-16(%rcx), %xmm2\n",
      "\tmovupd\t(%rcx), %xmm3\n",
      "Source line: 13\n",
      "\taddpd\t%xmm2, %xmm1\n",
      "\taddpd\t%xmm3, %xmm0\n",
      "Source line: 50\n",
      "\taddq\t$32, %rcx\n",
      "\taddq\t$-4, %rsi\n",
      "\tjne\tL112\n",
      "Source line: 13\n",
      "\taddpd\t%xmm1, %xmm0\n",
      "\thaddpd\t%xmm0, %xmm0\n",
      "\tcmpq\t%rdx, %rax\n",
      "\tje\tL192\n",
      "\tjmp\tL156\n",
      "L154:\n",
      "\txorl\t%edx, %edx\n",
      "Source line: 50\n",
      "L156:\n",
      "\tmovq\t%rax, %rcx\n",
      "\tsubq\t%rdx, %rcx\n",
      "\tleaq\t(%r9,%rdx,8), %rdx\n",
      "\tnopw\t%cs:(%rax,%rax)\n",
      "Source line: 13\n",
      "L176:\n",
      "\taddsd\t(%rdx), %xmm0\n",
      "Source line: 71\n",
      "\taddq\t$8, %rdx\n",
      "\tdecq\t%rcx\n",
      "\tjne\tL176\n",
      "\tnopl\t(%rax)\n",
      "Source line: 66\n",
      "L192:\n",
      "\tincq\t%rdi\n",
      "\tcmpq\t$2, %rdi\n",
      "\tjne\tL64\n",
      "Source line: 15\n",
      "\tretq\n",
      "L206:\n",
      "\txorps\t%xmm0, %xmm0\n",
      "\tretq\n",
      "L210:\n",
      "\tpushq\t%rbp\n",
      "\tmovq\t%rsp, %rbp\n",
      "Source line: 79\n",
      "\tmovq\t%rsp, %rax\n",
      "\tleaq\t-16(%rax), %rsi\n",
      "\tmovq\t%rsi, %rsp\n",
      "\tmovq\t%rcx, -16(%rax)\n",
      "\tmovabsq\t$jl_bounds_error_ints, %rax\n",
      "\tmovl\t$1, %edx\n",
      "\tcallq\t*%rax\n",
      "\tnopw\t%cs:(%rax,%rax)\n"
     ]
    }
   ],
   "source": [
    "@code_native mysum_simd(x)"
   ]
  },
  {
   "cell_type": "code",
   "execution_count": 26,
   "metadata": {
    "scrolled": true
   },
   "outputs": [
    {
     "name": "stdout",
     "output_type": "stream",
     "text": [
      "\t.section\t__TEXT,__text,regular,pure_instructions\n",
      "Filename: In[23]\n",
      "Source line: 4\n",
      "\tmovq\t8(%rdi), %rax\n",
      "\txorpd\t%xmm0, %xmm0\n",
      "\ttestq\t%rax, %rax\n",
      "\tje\tL50\n",
      "\tmovq\t(%rdi), %rdx\n",
      "\tmovq\t24(%rdi), %rsi\n",
      "\txorpd\t%xmm0, %xmm0\n",
      "\txorl\t%ecx, %ecx\n",
      "\tnopw\t(%rax,%rax)\n",
      "L32:\n",
      "\tcmpq\t%rsi, %rcx\n",
      "\tjae\tL51\n",
      "Source line: 5\n",
      "\taddsd\t(%rdx,%rcx,8), %xmm0\n",
      "Source line: 4\n",
      "\tincq\t%rcx\n",
      "\tcmpq\t%rcx, %rax\n",
      "\tjne\tL32\n",
      "Source line: 7\n",
      "L50:\n",
      "\tretq\n",
      "L51:\n",
      "\tpushq\t%rbp\n",
      "\tmovq\t%rsp, %rbp\n",
      "Source line: 4\n",
      "\tmovq\t%rsp, %rax\n",
      "\tleaq\t-16(%rax), %rsi\n",
      "\tmovq\t%rsi, %rsp\n",
      "\tincq\t%rcx\n",
      "\tmovq\t%rcx, -16(%rax)\n",
      "\tmovabsq\t$jl_bounds_error_ints, %rax\n",
      "\tmovl\t$1, %edx\n",
      "\tcallq\t*%rax\n",
      "\tnopl\t(%rax)\n"
     ]
    }
   ],
   "source": [
    "@code_native mysum(x)"
   ]
  },
  {
   "cell_type": "code",
   "execution_count": 27,
   "metadata": {
    "scrolled": true
   },
   "outputs": [
    {
     "data": {
      "text/plain": [
       "BenchmarkTools.Trial: \n",
       "  memory estimate:  16 bytes\n",
       "  allocs estimate:  1\n",
       "  --------------\n",
       "  minimum time:     91.016 μs (0.00% GC)\n",
       "  median time:      91.069 μs (0.00% GC)\n",
       "  mean time:        96.762 μs (0.00% GC)\n",
       "  maximum time:     527.553 μs (0.00% GC)\n",
       "  --------------\n",
       "  samples:          10000\n",
       "  evals/sample:     1"
      ]
     },
     "execution_count": 27,
     "metadata": {},
     "output_type": "execute_result"
    }
   ],
   "source": [
    "@benchmark mysum(x)"
   ]
  },
  {
   "cell_type": "code",
   "execution_count": 22,
   "metadata": {},
   "outputs": [
    {
     "data": {
      "text/plain": [
       "BenchmarkTools.Trial: \n",
       "  memory estimate:  16 bytes\n",
       "  allocs estimate:  1\n",
       "  --------------\n",
       "  minimum time:     24.119 μs (0.00% GC)\n",
       "  median time:      24.479 μs (0.00% GC)\n",
       "  mean time:        26.302 μs (0.00% GC)\n",
       "  maximum time:     123.887 μs (0.00% GC)\n",
       "  --------------\n",
       "  samples:          10000\n",
       "  evals/sample:     1"
      ]
     },
     "execution_count": 22,
     "metadata": {},
     "output_type": "execute_result"
    }
   ],
   "source": [
    "@benchmark mysum_simd(x)"
   ]
  },
  {
   "cell_type": "code",
   "execution_count": 44,
   "metadata": {},
   "outputs": [
    {
     "data": {
      "text/plain": [
       "400000"
      ]
     },
     "execution_count": 44,
     "metadata": {},
     "output_type": "execute_result"
    }
   ],
   "source": [
    "x = rand(Float32 , 100000);\n",
    "sizeof(x)"
   ]
  },
  {
   "cell_type": "code",
   "execution_count": 17,
   "metadata": {},
   "outputs": [
    {
     "data": {
      "text/plain": [
       "BenchmarkTools.Trial: \n",
       "  memory estimate:  16 bytes\n",
       "  allocs estimate:  1\n",
       "  --------------\n",
       "  minimum time:     77.045 μs (0.00% GC)\n",
       "  median time:      81.218 μs (0.00% GC)\n",
       "  mean time:        80.775 μs (0.00% GC)\n",
       "  maximum time:     231.363 μs (0.00% GC)\n",
       "  --------------\n",
       "  samples:          10000\n",
       "  evals/sample:     1"
      ]
     },
     "execution_count": 17,
     "metadata": {},
     "output_type": "execute_result"
    }
   ],
   "source": [
    "@benchmark mysum(x)"
   ]
  },
  {
   "cell_type": "code",
   "execution_count": 32,
   "metadata": {},
   "outputs": [
    {
     "data": {
      "text/plain": [
       "BenchmarkTools.Trial: \n",
       "  memory estimate:  16 bytes\n",
       "  allocs estimate:  1\n",
       "  --------------\n",
       "  minimum time:     12.128 μs (0.00% GC)\n",
       "  median time:      13.784 μs (0.00% GC)\n",
       "  mean time:        15.891 μs (0.00% GC)\n",
       "  maximum time:     167.141 μs (0.00% GC)\n",
       "  --------------\n",
       "  samples:          10000\n",
       "  evals/sample:     1"
      ]
     },
     "execution_count": 32,
     "metadata": {},
     "output_type": "execute_result"
    }
   ],
   "source": [
    "@benchmark mysum_simd(x)"
   ]
  },
  {
   "cell_type": "code",
   "execution_count": 34,
   "metadata": {
    "collapsed": true
   },
   "outputs": [],
   "source": [
    "x = rand(Float16, 100000);"
   ]
  },
  {
   "cell_type": "code",
   "execution_count": 35,
   "metadata": {},
   "outputs": [
    {
     "data": {
      "text/plain": [
       "BenchmarkTools.Trial: \n",
       "  memory estimate:  16 bytes\n",
       "  allocs estimate:  1\n",
       "  --------------\n",
       "  minimum time:     1.235 ms (0.00% GC)\n",
       "  median time:      1.315 ms (0.00% GC)\n",
       "  mean time:        1.465 ms (0.00% GC)\n",
       "  maximum time:     3.632 ms (0.00% GC)\n",
       "  --------------\n",
       "  samples:          3399\n",
       "  evals/sample:     1"
      ]
     },
     "execution_count": 35,
     "metadata": {},
     "output_type": "execute_result"
    }
   ],
   "source": [
    "# TO CHECK\n",
    "# much slower than Float32, why?\n",
    "@benchmark mysum_simd(x)"
   ]
  },
  {
   "cell_type": "code",
   "execution_count": 41,
   "metadata": {},
   "outputs": [
    {
     "data": {
      "text/plain": [
       "200000"
      ]
     },
     "execution_count": 41,
     "metadata": {},
     "output_type": "execute_result"
    }
   ],
   "source": [
    "sizeof(x)"
   ]
  },
  {
   "cell_type": "code",
   "execution_count": 45,
   "metadata": {},
   "outputs": [],
   "source": [
    "#?sizeof"
   ]
  },
  {
   "cell_type": "markdown",
   "metadata": {},
   "source": [
    "### indices"
   ]
  },
  {
   "cell_type": "code",
   "execution_count": 51,
   "metadata": {
    "scrolled": false
   },
   "outputs": [
    {
     "data": {
      "text/plain": [
       "5×6×7 Array{Float64,3}:\n",
       "[:, :, 1] =\n",
       " 1.0  1.0  1.0  1.0  1.0  1.0\n",
       " 1.0  1.0  1.0  1.0  1.0  1.0\n",
       " 1.0  1.0  1.0  1.0  1.0  1.0\n",
       " 1.0  1.0  1.0  1.0  1.0  1.0\n",
       " 1.0  1.0  1.0  1.0  1.0  1.0\n",
       "\n",
       "[:, :, 2] =\n",
       " 1.0  1.0  1.0  1.0  1.0  1.0\n",
       " 1.0  1.0  1.0  1.0  1.0  1.0\n",
       " 1.0  1.0  1.0  1.0  1.0  1.0\n",
       " 1.0  1.0  1.0  1.0  1.0  1.0\n",
       " 1.0  1.0  1.0  1.0  1.0  1.0\n",
       "\n",
       "[:, :, 3] =\n",
       " 1.0  1.0  1.0  1.0  1.0  1.0\n",
       " 1.0  1.0  1.0  1.0  1.0  1.0\n",
       " 1.0  1.0  1.0  1.0  1.0  1.0\n",
       " 1.0  1.0  1.0  1.0  1.0  1.0\n",
       " 1.0  1.0  1.0  1.0  1.0  1.0\n",
       "\n",
       "[:, :, 4] =\n",
       " 1.0  1.0  1.0  1.0  1.0  1.0\n",
       " 1.0  1.0  1.0  1.0  1.0  1.0\n",
       " 1.0  1.0  1.0  1.0  1.0  1.0\n",
       " 1.0  1.0  1.0  1.0  1.0  1.0\n",
       " 1.0  1.0  1.0  1.0  1.0  1.0\n",
       "\n",
       "[:, :, 5] =\n",
       " 1.0  1.0  1.0  1.0  1.0  1.0\n",
       " 1.0  1.0  1.0  1.0  1.0  1.0\n",
       " 1.0  1.0  1.0  1.0  1.0  1.0\n",
       " 1.0  1.0  1.0  1.0  1.0  1.0\n",
       " 1.0  1.0  1.0  1.0  1.0  1.0\n",
       "\n",
       "[:, :, 6] =\n",
       " 1.0  1.0  1.0  1.0  1.0  1.0\n",
       " 1.0  1.0  1.0  1.0  1.0  1.0\n",
       " 1.0  1.0  1.0  1.0  1.0  1.0\n",
       " 1.0  1.0  1.0  1.0  1.0  1.0\n",
       " 1.0  1.0  1.0  1.0  1.0  1.0\n",
       "\n",
       "[:, :, 7] =\n",
       " 1.0  1.0  1.0  1.0  1.0  1.0\n",
       " 1.0  1.0  1.0  1.0  1.0  1.0\n",
       " 1.0  1.0  1.0  1.0  1.0  1.0\n",
       " 1.0  1.0  1.0  1.0  1.0  1.0\n",
       " 1.0  1.0  1.0  1.0  1.0  1.0"
      ]
     },
     "execution_count": 51,
     "metadata": {},
     "output_type": "execute_result"
    }
   ],
   "source": [
    "A = ones(5,6,7)"
   ]
  },
  {
   "cell_type": "markdown",
   "metadata": {},
   "source": [
    "### Example cost function simd"
   ]
  },
  {
   "cell_type": "code",
   "execution_count": 22,
   "metadata": {
    "collapsed": true
   },
   "outputs": [],
   "source": [
    "y =  rand(Float32 , 100000);\n",
    "y_hat =  rand(Float32 , 100000);"
   ]
  },
  {
   "cell_type": "code",
   "execution_count": 36,
   "metadata": {},
   "outputs": [
    {
     "data": {
      "text/plain": [
       "MSE (generic function with 1 method)"
      ]
     },
     "execution_count": 36,
     "metadata": {},
     "output_type": "execute_result"
    }
   ],
   "source": [
    "function MSE_simd{T}(y::Vector{T},y_pred::Vector{T})\n",
    "   cost = zero(eltype(y))\n",
    "   @simd for i in 1:length(y)\n",
    "       @inbounds cost += (y[i] - y_pred[i])^2\n",
    "   end\n",
    "   return sqrt(cost)\n",
    "end\n",
    "\n",
    "function MSE{T}(y::Vector{T},y_pred::Vector{T})\n",
    "   cost = zero(eltype(y))\n",
    "    \n",
    "    @inbounds for i in 1:length(y)\n",
    "        cost += (y[i] - y_pred[i])^2\n",
    "    end\n",
    "    return sqrt(cost)\n",
    "end"
   ]
  },
  {
   "cell_type": "code",
   "execution_count": 49,
   "metadata": {
    "scrolled": true
   },
   "outputs": [
    {
     "data": {
      "text/plain": [
       "BenchmarkTools.Trial: \n",
       "  memory estimate:  16 bytes\n",
       "  allocs estimate:  1\n",
       "  --------------\n",
       "  minimum time:     77.087 μs (0.00% GC)\n",
       "  median time:      81.340 μs (0.00% GC)\n",
       "  mean time:        82.346 μs (0.00% GC)\n",
       "  maximum time:     310.952 μs (0.00% GC)\n",
       "  --------------\n",
       "  samples:          10000\n",
       "  evals/sample:     1"
      ]
     },
     "execution_count": 49,
     "metadata": {},
     "output_type": "execute_result"
    }
   ],
   "source": [
    "@benchmark MSE(y,y_hat)"
   ]
  },
  {
   "cell_type": "code",
   "execution_count": 289,
   "metadata": {
    "scrolled": false
   },
   "outputs": [
    {
     "data": {
      "text/plain": [
       "BenchmarkTools.Trial: \n",
       "  memory estimate:  16 bytes\n",
       "  allocs estimate:  1\n",
       "  --------------\n",
       "  minimum time:     21.102 μs (0.00% GC)\n",
       "  median time:      22.396 μs (0.00% GC)\n",
       "  mean time:        22.892 μs (0.00% GC)\n",
       "  maximum time:     295.311 μs (0.00% GC)\n",
       "  --------------\n",
       "  samples:          10000\n",
       "  evals/sample:     1"
      ]
     },
     "execution_count": 289,
     "metadata": {},
     "output_type": "execute_result"
    }
   ],
   "source": [
    "@benchmark MSE_simd(y, y_hat)"
   ]
  },
  {
   "cell_type": "markdown",
   "metadata": {},
   "source": [
    "### cross entropy minibatch"
   ]
  },
  {
   "cell_type": "code",
   "execution_count": 58,
   "metadata": {},
   "outputs": [],
   "source": [
    "T = Float32\n",
    "p_y_given_x = rand(T, 10, 256);\n",
    "onehot_y= zeros(T, 10, 256);\n"
   ]
  },
  {
   "cell_type": "code",
   "execution_count": 59,
   "metadata": {},
   "outputs": [
    {
     "data": {
      "text/plain": [
       "10×256 Array{Float32,2}:\n",
       " 0.0  0.0  0.0  0.0  0.0  0.0  0.0  0.0  …  0.0  0.0  0.0  0.0  0.0  0.0  0.0\n",
       " 0.0  0.0  0.0  0.0  0.0  0.0  0.0  0.0     0.0  0.0  0.0  0.0  0.0  0.0  0.0\n",
       " 0.0  0.0  0.0  0.0  0.0  0.0  0.0  0.0     0.0  0.0  0.0  0.0  0.0  0.0  0.0\n",
       " 0.0  0.0  0.0  0.0  0.0  0.0  0.0  0.0     0.0  0.0  0.0  0.0  0.0  0.0  0.0\n",
       " 0.0  0.0  0.0  0.0  0.0  0.0  0.0  0.0     0.0  0.0  0.0  0.0  0.0  0.0  0.0\n",
       " 0.0  0.0  0.0  0.0  0.0  0.0  0.0  0.0  …  0.0  0.0  0.0  0.0  0.0  0.0  0.0\n",
       " 0.0  0.0  0.0  0.0  0.0  0.0  0.0  0.0     0.0  0.0  0.0  0.0  0.0  0.0  0.0\n",
       " 0.0  0.0  0.0  0.0  0.0  0.0  0.0  0.0     0.0  0.0  0.0  0.0  0.0  0.0  0.0\n",
       " 0.0  0.0  0.0  0.0  0.0  0.0  0.0  0.0     0.0  0.0  0.0  0.0  0.0  0.0  0.0\n",
       " 0.0  0.0  0.0  0.0  0.0  0.0  0.0  0.0     0.0  0.0  0.0  0.0  0.0  0.0  0.0"
      ]
     },
     "execution_count": 59,
     "metadata": {},
     "output_type": "execute_result"
    }
   ],
   "source": [
    "onehot_y"
   ]
  },
  {
   "cell_type": "code",
   "execution_count": 56,
   "metadata": {},
   "outputs": [
    {
     "data": {
      "text/plain": [
       "(10, 256)"
      ]
     },
     "execution_count": 56,
     "metadata": {},
     "output_type": "execute_result"
    }
   ],
   "source": []
  },
  {
   "cell_type": "markdown",
   "metadata": {},
   "source": [
    "### median pooling"
   ]
  },
  {
   "cell_type": "code",
   "execution_count": 46,
   "metadata": {
    "collapsed": true
   },
   "outputs": [],
   "source": [
    "#https://discourse.julialang.org/t/make-this-code-fast-median-pooling/6405"
   ]
  },
  {
   "cell_type": "code",
   "execution_count": 8,
   "metadata": {},
   "outputs": [
    {
     "data": {
      "text/plain": [
       "medmedpool55! (generic function with 1 method)"
      ]
     },
     "execution_count": 8,
     "metadata": {},
     "output_type": "execute_result"
    }
   ],
   "source": [
    "@inline function median5_swap(a,b,c,d,e)\n",
    "    # https://github.com/JeffreySarnoff/SortingNetworks.jl/blob/master/src/swapsort.jl\n",
    "    a,b = minmax(a,b)\n",
    "    c,d = minmax(c,d)\n",
    "    a,c = minmax(a,c)\n",
    "    b,d = minmax(b,d)\n",
    "    c,e = minmax(e,c)\n",
    "    max(c, min(e,b))\n",
    "end\n",
    "\n",
    "@inline median5(args...) = median5_swap(args...)\n",
    "\n",
    "function medmedpool55!(out::AbstractMatrix, img::AbstractMatrix)\n",
    "    @assert size(out, 1) >= size(img, 1) ÷ 5\n",
    "    @assert size(out, 2) >= size(img, 2) ÷ 5\n",
    "    @inbounds for j ∈ indices(out)[2]\n",
    "        @simd for i ∈ indices(out)[1]\n",
    "            x11 = img[5i-4, 5j-4]\n",
    "            x21 = img[5i-3, 5j-4]\n",
    "            x31 = img[5i-2, 5j-4]\n",
    "            x41 = img[5i-1, 5j-4]\n",
    "            x51 = img[5i-0, 5j-4]\n",
    "            \n",
    "            x12 = img[5i-4, 5j-3]\n",
    "            x22 = img[5i-3, 5j-3]\n",
    "            x32 = img[5i-2, 5j-3]\n",
    "            x42 = img[5i-1, 5j-3]\n",
    "            x52 = img[5i-0, 5j-3]\n",
    "            \n",
    "            x13 = img[5i-4, 5j-2]\n",
    "            x23 = img[5i-3, 5j-2]\n",
    "            x33 = img[5i-2, 5j-2]\n",
    "            x43 = img[5i-1, 5j-2]\n",
    "            x53 = img[5i-0, 5j-2]\n",
    "            \n",
    "            x14 = img[5i-4, 5j-1]\n",
    "            x24 = img[5i-3, 5j-1]\n",
    "            x34 = img[5i-2, 5j-1]\n",
    "            x44 = img[5i-1, 5j-1]\n",
    "            x54 = img[5i-0, 5j-1]\n",
    "            \n",
    "            x15 = img[5i-4, 5j-0]\n",
    "            x25 = img[5i-3, 5j-0]\n",
    "            x35 = img[5i-2, 5j-0]\n",
    "            x45 = img[5i-1, 5j-0]\n",
    "            x55 = img[5i-0, 5j-0]\n",
    "            \n",
    "            y1 = median5(x11,x12,x13,x14,x15)\n",
    "            y2 = median5(x21,x22,x23,x24,x25)\n",
    "            y3 = median5(x31,x32,x33,x34,x35)\n",
    "            y4 = median5(x41,x42,x43,x44,x45)\n",
    "            y5 = median5(x51,x52,x53,x54,x55)\n",
    "            \n",
    "            z = median5(y1,y2,y3,y4,y5)\n",
    "            out[i,j] = z\n",
    "        end\n",
    "    end\n",
    "    out\n",
    "end"
   ]
  },
  {
   "cell_type": "code",
   "execution_count": 5,
   "metadata": {},
   "outputs": [
    {
     "data": {
      "text/plain": [
       "BenchmarkTools.Trial: \n",
       "  memory estimate:  0 bytes\n",
       "  allocs estimate:  0\n",
       "  --------------\n",
       "  minimum time:     8.746 ms (0.00% GC)\n",
       "  median time:      10.786 ms (0.00% GC)\n",
       "  mean time:        11.430 ms (0.00% GC)\n",
       "  maximum time:     47.553 ms (0.00% GC)\n",
       "  --------------\n",
       "  samples:          437\n",
       "  evals/sample:     1"
      ]
     },
     "execution_count": 5,
     "metadata": {},
     "output_type": "execute_result"
    }
   ],
   "source": [
    "using BenchmarkTools\n",
    "imgs = randn(Float32, 1024,1024, 10)\n",
    "img = view(imgs, :,:,1)\n",
    "out = similar(img, size(img) .÷ 5)\n",
    "@benchmark medmedpool55!(out, img)"
   ]
  },
  {
   "cell_type": "code",
   "execution_count": 13,
   "metadata": {},
   "outputs": [
    {
     "data": {
      "text/plain": [
       "((1024, 1024, 10), (6,))"
      ]
     },
     "execution_count": 13,
     "metadata": {},
     "output_type": "execute_result"
    }
   ],
   "source": [
    "size(imgs),size([rand(T,N) for _ in 1:6])"
   ]
  },
  {
   "cell_type": "code",
   "execution_count": null,
   "metadata": {
    "collapsed": true,
    "scrolled": true
   },
   "outputs": [],
   "source": [
    "Base.@pure simdwidth(::Type{T}) where {T} = Int(256/8/sizeof(T))\n",
    "\n",
    "@inline function median3(a,b,c)\n",
    "    max(min(a,b), min(c,max(a,b)))\n",
    "end\n",
    "\n",
    "@inline function median5(a,b,c,d,e)\n",
    "    # https://stackoverflow.com/questions/480960/code-to-calculate-median-of-five-in-c-sharp\n",
    "    f=max(min(a,b),min(c,d))\n",
    "    g=min(max(a,b),max(c,d))\n",
    "    median3(e,f,g)\n",
    "end\n",
    "\n",
    "@noinline function median5_vectors!(out, a,b,c,d,e)\n",
    "    K = simdwidth(eltype(out))\n",
    "    N = length(out)\n",
    "    T = eltype(out)\n",
    "    V = Vec{K,T}\n",
    "    @assert mod(N,K) == 0\n",
    "\n",
    "    @inbounds for i in 1:K:N\n",
    "        va = vload(V,a, i)\n",
    "        vb = vload(V,b, i)\n",
    "        vc = vload(V,c, i)\n",
    "        vd = vload(V,d, i)\n",
    "        ve = vload(V,e, i)\n",
    "        vo = median5(va,vb,vc,vd,ve)\n",
    "        vstore(vo,out, i)\n",
    "    end\n",
    "    out\n",
    "end\n",
    "\n",
    "using BenchmarkTools\n",
    "T = UInt8\n",
    "T = Float32\n",
    "N = 10^6\n",
    "N = N ÷ simdwidth(T) * simdwidth(T)\n",
    "out, a,b,c,d,e = [rand(T,N) for _ in 1:6]\n",
    "@benchmark median5_vectors!(out, a,b,c,d,e)\n"
   ]
  },
  {
   "cell_type": "code",
   "execution_count": 47,
   "metadata": {},
   "outputs": [
    {
     "data": {
      "text/plain": [
       "16"
      ]
     },
     "execution_count": 47,
     "metadata": {},
     "output_type": "execute_result"
    }
   ],
   "source": [
    "simdwidth(Float16)"
   ]
  },
  {
   "cell_type": "markdown",
   "metadata": {},
   "source": [
    "### Test views"
   ]
  },
  {
   "cell_type": "code",
   "execution_count": 304,
   "metadata": {},
   "outputs": [
    {
     "data": {
      "text/plain": [
       "10×5 Array{Float64,2}:\n",
       "  2.0   2.0   2.0   2.0   2.0\n",
       "  3.0   3.0   3.0   3.0   3.0\n",
       "  4.0   4.0   4.0   4.0   4.0\n",
       "  5.0   5.0   5.0   5.0   5.0\n",
       "  6.0   6.0   6.0   6.0   6.0\n",
       "  7.0   7.0   7.0   7.0   7.0\n",
       "  8.0   8.0   8.0   8.0   8.0\n",
       "  9.0   9.0   9.0   9.0   9.0\n",
       " 10.0  10.0  10.0  10.0  10.0\n",
       " 11.0  11.0  11.0  11.0  11.0"
      ]
     },
     "execution_count": 304,
     "metadata": {},
     "output_type": "execute_result"
    }
   ],
   "source": [
    "X = ones(10,5)\n",
    "x = Array(1:10);\n",
    "X2 = x.+X"
   ]
  },
  {
   "cell_type": "code",
   "execution_count": 305,
   "metadata": {},
   "outputs": [
    {
     "data": {
      "text/plain": [
       "10×5 Array{Float64,2}:\n",
       "  4.0   4.0   4.0   4.0   4.0\n",
       "  6.0   6.0   6.0   6.0   6.0\n",
       "  8.0   8.0   8.0   8.0   8.0\n",
       " 10.0  10.0  10.0  10.0  10.0\n",
       " 12.0  12.0  12.0  12.0  12.0\n",
       " 14.0  14.0  14.0  14.0  14.0\n",
       " 16.0  16.0  16.0  16.0  16.0\n",
       " 18.0  18.0  18.0  18.0  18.0\n",
       " 20.0  20.0  20.0  20.0  20.0\n",
       " 22.0  22.0  22.0  22.0  22.0"
      ]
     },
     "execution_count": 305,
     "metadata": {},
     "output_type": "execute_result"
    }
   ],
   "source": [
    "v = view(X2,1,:)\n",
    "for i in 1:size(X2,1)\n",
    "    v = view(X2,i,:)\n",
    "    X2[i,:] += v\n",
    "end\n",
    "X2"
   ]
  },
  {
   "cell_type": "code",
   "execution_count": 302,
   "metadata": {},
   "outputs": [
    {
     "data": {
      "text/plain": [
       "10×5 Array{Float64,2}:\n",
       "  2.0   2.0   2.0   2.0   2.0\n",
       "  3.0   3.0   3.0   3.0   3.0\n",
       "  4.0   4.0   4.0   4.0   4.0\n",
       "  5.0   5.0   5.0   5.0   5.0\n",
       "  6.0   6.0   6.0   6.0   6.0\n",
       "  7.0   7.0   7.0   7.0   7.0\n",
       "  8.0   8.0   8.0   8.0   8.0\n",
       "  9.0   9.0   9.0   9.0   9.0\n",
       " 10.0  10.0  10.0  10.0  10.0\n",
       " 11.0  11.0  11.0  11.0  11.0"
      ]
     },
     "execution_count": 302,
     "metadata": {},
     "output_type": "execute_result"
    }
   ],
   "source": [
    "X = ones(10,5)\n",
    "x = Array(1:10);\n",
    "X2 = x.+X"
   ]
  },
  {
   "cell_type": "code",
   "execution_count": 303,
   "metadata": {},
   "outputs": [
    {
     "data": {
      "text/plain": [
       "10×5 Array{Float64,2}:\n",
       " 11.0  11.0  11.0  11.0  11.0\n",
       "  6.0   6.0   6.0   6.0   6.0\n",
       "  8.0   8.0   8.0   8.0   8.0\n",
       " 10.0  10.0  10.0  10.0  10.0\n",
       " 12.0  12.0  12.0  12.0  12.0\n",
       " 14.0  14.0  14.0  14.0  14.0\n",
       " 16.0  16.0  16.0  16.0  16.0\n",
       " 18.0  18.0  18.0  18.0  18.0\n",
       " 20.0  20.0  20.0  20.0  20.0\n",
       " 22.0  22.0  22.0  22.0  22.0"
      ]
     },
     "execution_count": 303,
     "metadata": {},
     "output_type": "execute_result"
    }
   ],
   "source": [
    "v = view(X2,1,:)\n",
    "for i in 1:size(X2,1)\n",
    "    v .= view(X2,i,:)\n",
    "    X2[i,:] += v\n",
    "end\n",
    "\n",
    "X2"
   ]
  },
  {
   "cell_type": "code",
   "execution_count": 325,
   "metadata": {},
   "outputs": [
    {
     "data": {
      "text/plain": [
       "10×5 Array{Float64,2}:\n",
       "  4.0   4.0   4.0   4.0   4.0\n",
       "  6.0   6.0   6.0   6.0   6.0\n",
       "  8.0   8.0   8.0   8.0   8.0\n",
       " 10.0  10.0  10.0  10.0  10.0\n",
       " 12.0  12.0  12.0  12.0  12.0\n",
       " 14.0  14.0  14.0  14.0  14.0\n",
       " 16.0  16.0  16.0  16.0  16.0\n",
       " 18.0  18.0  18.0  18.0  18.0\n",
       " 20.0  20.0  20.0  20.0  20.0\n",
       " 22.0  22.0  22.0  22.0  22.0"
      ]
     },
     "execution_count": 325,
     "metadata": {},
     "output_type": "execute_result"
    }
   ],
   "source": [
    "X = ones(10,5)\n",
    "x = Array(1:10);\n",
    "X2 = x.+X\n",
    "\n",
    "v = deepcopy(view(X2,1,:))\n",
    "for i in 1:size(X2,1)\n",
    "    v .= view(X2,i,:)\n",
    "    X2[i,:] += v\n",
    "end\n",
    "X2"
   ]
  },
  {
   "cell_type": "code",
   "execution_count": 324,
   "metadata": {},
   "outputs": [
    {
     "data": {
      "text/plain": [
       "10×5 Array{Float64,2}:\n",
       "  4.0   4.0   4.0   4.0   4.0\n",
       "  6.0   6.0   6.0   6.0   6.0\n",
       "  8.0   8.0   8.0   8.0   8.0\n",
       " 10.0  10.0  10.0  10.0  10.0\n",
       " 12.0  12.0  12.0  12.0  12.0\n",
       " 14.0  14.0  14.0  14.0  14.0\n",
       " 16.0  16.0  16.0  16.0  16.0\n",
       " 18.0  18.0  18.0  18.0  18.0\n",
       " 20.0  20.0  20.0  20.0  20.0\n",
       " 22.0  22.0  22.0  22.0  22.0"
      ]
     },
     "execution_count": 324,
     "metadata": {},
     "output_type": "execute_result"
    }
   ],
   "source": [
    "X = ones(10,5)\n",
    "x = Array(1:10);\n",
    "X2 = x.+X\n",
    "\n",
    "v = zeros(X2[1,:])\n",
    "for i in 1:size(X2,1)\n",
    "    v .= view(X2,i,:)\n",
    "    X2[i,:] += v\n",
    "end\n",
    "X2"
   ]
  },
  {
   "cell_type": "code",
   "execution_count": 315,
   "metadata": {},
   "outputs": [
    {
     "name": "stdout",
     "output_type": "stream",
     "text": [
      "  0.000056 seconds (37 allocations: 1.813 KiB)\n"
     ]
    },
    {
     "data": {
      "text/plain": [
       "5-element SubArray{Float64,1,Array{Float64,2},Tuple{Int64,Base.Slice{Base.OneTo{Int64}}},true}:\n",
       " 4.0\n",
       " 4.0\n",
       " 4.0\n",
       " 4.0\n",
       " 4.0"
      ]
     },
     "execution_count": 315,
     "metadata": {},
     "output_type": "execute_result"
    }
   ],
   "source": [
    "@time v = deepcopy(view(X2,1,:))"
   ]
  },
  {
   "cell_type": "code",
   "execution_count": null,
   "metadata": {
    "collapsed": true
   },
   "outputs": [],
   "source": [
    "@time v = deepcopy(view(X2,1,:))"
   ]
  },
  {
   "cell_type": "code",
   "execution_count": 313,
   "metadata": {},
   "outputs": [
    {
     "name": "stdout",
     "output_type": "stream",
     "text": [
      "  0.000043 seconds (21 allocations: 512 bytes)\n"
     ]
    },
    {
     "data": {
      "text/plain": [
       "5-element SubArray{Float64,1,Array{Float64,2},Tuple{Int64,Base.Slice{Base.OneTo{Int64}}},true}:\n",
       " 4.0\n",
       " 4.0\n",
       " 4.0\n",
       " 4.0\n",
       " 4.0"
      ]
     },
     "execution_count": 313,
     "metadata": {},
     "output_type": "execute_result"
    }
   ],
   "source": [
    "@time auxiliar = view(X2,1,:)"
   ]
  },
  {
   "cell_type": "code",
   "execution_count": null,
   "metadata": {
    "collapsed": true
   },
   "outputs": [],
   "source": []
  },
  {
   "cell_type": "code",
   "execution_count": null,
   "metadata": {
    "collapsed": true
   },
   "outputs": [],
   "source": []
  }
 ],
 "metadata": {
  "kernelspec": {
   "display_name": "Julia 0.6.0",
   "language": "julia",
   "name": "julia-0.6"
  },
  "language_info": {
   "file_extension": ".jl",
   "mimetype": "application/julia",
   "name": "julia",
   "version": "0.6.0"
  }
 },
 "nbformat": 4,
 "nbformat_minor": 2
}
