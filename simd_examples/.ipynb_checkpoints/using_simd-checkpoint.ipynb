{
 "cells": [
  {
   "cell_type": "markdown",
   "metadata": {},
   "source": [
    "\n",
    "## Simd examples\n",
    "\n",
    "\n",
    "Run \n",
    "```\n",
    "include(joinpath(dirname(JULIA_HOME),\"share\",\"julia\",\"build_sysimg.jl\")); build_sysimg(force=true)\n",
    "```\n",
    "if julia is not build in source.\n"
   ]
  },
  {
   "cell_type": "code",
   "execution_count": 11,
   "metadata": {
    "collapsed": true
   },
   "outputs": [],
   "source": [
    "using BenchmarkTools"
   ]
  },
  {
   "cell_type": "code",
   "execution_count": 1,
   "metadata": {},
   "outputs": [
    {
     "data": {
      "text/plain": [
       "mysum_simd (generic function with 1 method)"
      ]
     },
     "execution_count": 1,
     "metadata": {},
     "output_type": "execute_result"
    }
   ],
   "source": [
    "\n",
    "function mysum(a::Vector)\n",
    "    total = zero(eltype(a))\n",
    "    for x in a\n",
    "        total += x\n",
    "    end\n",
    "    return total\n",
    "end\n",
    "\n",
    "function mysum_simd(a::Vector)\n",
    "    total = zero(eltype(a))\n",
    "    @simd for x in a\n",
    "        total += x\n",
    "    end\n",
    "    return total\n",
    "end"
   ]
  },
  {
   "cell_type": "code",
   "execution_count": 3,
   "metadata": {},
   "outputs": [],
   "source": [
    "x = rand(Float64 , 100000);"
   ]
  },
  {
   "cell_type": "code",
   "execution_count": 4,
   "metadata": {
    "scrolled": true
   },
   "outputs": [
    {
     "name": "stdout",
     "output_type": "stream",
     "text": [
      "\t.section\t__TEXT,__text,regular,pure_instructions\n",
      "Filename: In[1]\n",
      "Source line: 67\n",
      "\tmovq\t8(%rdi), %rax\n",
      "Source line: 64\n",
      "\tmovq\t24(%rdi), %rdx\n",
      "\txorl\t%ecx, %ecx\n",
      "Source line: 79\n",
      "\ttestq\t%rdx, %rdx\n",
      "\tcmovnsq\t%rdx, %rcx\n",
      "Source line: 68\n",
      "\ttestq\t%rax, %rax\n",
      "\tjle\tL305\n",
      "Source line: 79\n",
      "\tleaq\t-1(%rcx), %rsi\n",
      "\tcmpq\t%rdx, %rsi\n",
      "\tjae\tL313\n",
      "Source line: 50\n",
      "\tmovq\t(%rdi), %r9\n",
      "Source line: 66\n",
      "\tleaq\t96(%r9), %r8\n",
      "\tmovq\t%rax, %r10\n",
      "\tandq\t$-16, %r10\n",
      "\tvxorpd\t%xmm0, %xmm0, %xmm0\n",
      "\txorl\t%edi, %edi\n",
      "Source line: 50\n",
      "\tvxorpd\t%ymm1, %ymm1, %ymm1\n",
      "Source line: 66\n",
      "\tjmp\tL288\n",
      "\tnopw\t%cs:(%rax,%rax)\n",
      "Source line: 71\n",
      "L80:\n",
      "\ttestq\t%rax, %rax\n",
      "\tjle\tL288\n",
      "Source line: 50\n",
      "\tcmpq\t$16, %rax\n",
      "\tjae\tL102\n",
      "\txorl\t%edx, %edx\n",
      "\tjmp\tL253\n",
      "L102:\n",
      "\tmovq\t%rax, %rdx\n",
      "\tandq\t$-16, %rdx\n",
      "\tje\tL251\n",
      "\tvblendpd\t$1, %ymm0, %ymm1, %ymm0 ## ymm0 = ymm0[0],ymm1[1,2,3]\n",
      "\tvxorpd\t%ymm2, %ymm2, %ymm2\n",
      "Source line: 74\n",
      "\tmovq\t%r10, %rsi\n",
      "\tmovq\t%r8, %rcx\n",
      "\tvxorpd\t%ymm3, %ymm3, %ymm3\n",
      "\tvxorpd\t%ymm4, %ymm4, %ymm4\n",
      "\tnopl\t(%rax,%rax)\n",
      "Source line: 50\n",
      "L144:\n",
      "\tvmovupd\t-96(%rcx), %xmm5\n",
      "\tvmovupd\t-64(%rcx), %xmm6\n",
      "\tvmovupd\t-32(%rcx), %xmm7\n",
      "\tvmovupd\t(%rcx), %xmm8\n",
      "\tvinsertf128\t$1, -80(%rcx), %ymm5, %ymm5\n",
      "\tvinsertf128\t$1, -48(%rcx), %ymm6, %ymm6\n",
      "\tvinsertf128\t$1, -16(%rcx), %ymm7, %ymm7\n",
      "\tvinsertf128\t$1, 16(%rcx), %ymm8, %ymm8\n",
      "Source line: 13\n",
      "\tvaddpd\t%ymm5, %ymm0, %ymm0\n",
      "\tvaddpd\t%ymm6, %ymm2, %ymm2\n",
      "\tvaddpd\t%ymm7, %ymm3, %ymm3\n",
      "\tvaddpd\t%ymm8, %ymm4, %ymm4\n",
      "Source line: 50\n",
      "\tsubq\t$-128, %rcx\n",
      "\taddq\t$-16, %rsi\n",
      "\tjne\tL144\n",
      "Source line: 13\n",
      "\tvaddpd\t%ymm0, %ymm2, %ymm0\n",
      "\tvaddpd\t%ymm0, %ymm3, %ymm0\n",
      "\tvaddpd\t%ymm0, %ymm4, %ymm0\n",
      "\tvextractf128\t$1, %ymm0, %xmm2\n",
      "\tvaddpd\t%ymm2, %ymm0, %ymm0\n",
      "\tvhaddpd\t%ymm0, %ymm0, %ymm0\n",
      "\tcmpq\t%rdx, %rax\n",
      "\tje\tL288\n",
      "\tjmp\tL253\n",
      "L251:\n",
      "\txorl\t%edx, %edx\n",
      "Source line: 50\n",
      "L253:\n",
      "\tmovq\t%rax, %rcx\n",
      "\tsubq\t%rdx, %rcx\n",
      "\tleaq\t(%r9,%rdx,8), %rdx\n",
      "\tnopw\t(%rax,%rax)\n",
      "Source line: 13\n",
      "L272:\n",
      "\tvaddsd\t(%rdx), %xmm0, %xmm0\n",
      "Source line: 71\n",
      "\taddq\t$8, %rdx\n",
      "\tdecq\t%rcx\n",
      "\tjne\tL272\n",
      "\tnopl\t(%rax)\n",
      "Source line: 66\n",
      "L288:\n",
      "\tincq\t%rdi\n",
      "\tcmpq\t$2, %rdi\n",
      "\tjne\tL80\n",
      "Source line: 15\n",
      "\tvzeroupper\n",
      "\tretq\n",
      "L305:\n",
      "\tvxorps\t%xmm0, %xmm0, %xmm0\n",
      "\tvzeroupper\n",
      "\tretq\n",
      "L313:\n",
      "\tpushq\t%rbp\n",
      "\tmovq\t%rsp, %rbp\n",
      "Source line: 79\n",
      "\tmovq\t%rsp, %rax\n",
      "\tleaq\t-16(%rax), %rsi\n",
      "\tmovq\t%rsi, %rsp\n",
      "\tmovq\t%rcx, -16(%rax)\n",
      "\tmovabsq\t$jl_bounds_error_ints, %rax\n",
      "\tmovl\t$1, %edx\n",
      "\tcallq\t*%rax\n",
      "\tnopl\t(%rax)\n"
     ]
    }
   ],
   "source": [
    "@code_native mysum_simd(x)"
   ]
  },
  {
   "cell_type": "code",
   "execution_count": 5,
   "metadata": {},
   "outputs": [
    {
     "name": "stdout",
     "output_type": "stream",
     "text": [
      "\t.section\t__TEXT,__text,regular,pure_instructions\n",
      "Filename: In[1]\n",
      "Source line: 4\n",
      "\tmovq\t8(%rdi), %rax\n",
      "\tvxorpd\t%xmm0, %xmm0, %xmm0\n",
      "\ttestq\t%rax, %rax\n",
      "\tje\tL50\n",
      "\tmovq\t(%rdi), %rdx\n",
      "\tmovq\t24(%rdi), %rsi\n",
      "\tvxorpd\t%xmm0, %xmm0, %xmm0\n",
      "\txorl\t%ecx, %ecx\n",
      "\tnopw\t(%rax,%rax)\n",
      "L32:\n",
      "\tcmpq\t%rsi, %rcx\n",
      "\tjae\tL51\n",
      "Source line: 5\n",
      "\tvaddsd\t(%rdx,%rcx,8), %xmm0, %xmm0\n",
      "Source line: 4\n",
      "\tincq\t%rcx\n",
      "\tcmpq\t%rcx, %rax\n",
      "\tjne\tL32\n",
      "Source line: 7\n",
      "L50:\n",
      "\tretq\n",
      "L51:\n",
      "\tpushq\t%rbp\n",
      "\tmovq\t%rsp, %rbp\n",
      "Source line: 4\n",
      "\tmovq\t%rsp, %rax\n",
      "\tleaq\t-16(%rax), %rsi\n",
      "\tmovq\t%rsi, %rsp\n",
      "\tincq\t%rcx\n",
      "\tmovq\t%rcx, -16(%rax)\n",
      "\tmovabsq\t$jl_bounds_error_ints, %rax\n",
      "\tmovl\t$1, %edx\n",
      "\tcallq\t*%rax\n",
      "\tnopl\t(%rax)\n"
     ]
    }
   ],
   "source": [
    "@code_native mysum(x)"
   ]
  },
  {
   "cell_type": "code",
   "execution_count": 12,
   "metadata": {},
   "outputs": [
    {
     "data": {
      "text/plain": [
       "BenchmarkTools.Trial: \n",
       "  memory estimate:  16 bytes\n",
       "  allocs estimate:  1\n",
       "  --------------\n",
       "  minimum time:     77.049 μs (0.00% GC)\n",
       "  median time:      81.257 μs (0.00% GC)\n",
       "  mean time:        80.911 μs (0.00% GC)\n",
       "  maximum time:     204.574 μs (0.00% GC)\n",
       "  --------------\n",
       "  samples:          10000\n",
       "  evals/sample:     1"
      ]
     },
     "execution_count": 12,
     "metadata": {},
     "output_type": "execute_result"
    }
   ],
   "source": [
    "@benchmark mysum(x)"
   ]
  },
  {
   "cell_type": "code",
   "execution_count": 15,
   "metadata": {},
   "outputs": [
    {
     "data": {
      "text/plain": [
       "BenchmarkTools.Trial: \n",
       "  memory estimate:  16 bytes\n",
       "  allocs estimate:  1\n",
       "  --------------\n",
       "  minimum time:     21.971 μs (0.00% GC)\n",
       "  median time:      23.424 μs (0.00% GC)\n",
       "  mean time:        23.785 μs (0.00% GC)\n",
       "  maximum time:     106.059 μs (0.00% GC)\n",
       "  --------------\n",
       "  samples:          10000\n",
       "  evals/sample:     1"
      ]
     },
     "execution_count": 15,
     "metadata": {},
     "output_type": "execute_result"
    }
   ],
   "source": [
    "@benchmark mysum_simd(x)"
   ]
  },
  {
   "cell_type": "code",
   "execution_count": 16,
   "metadata": {
    "collapsed": true
   },
   "outputs": [],
   "source": [
    "x = rand(Float32 , 100000);"
   ]
  },
  {
   "cell_type": "code",
   "execution_count": 17,
   "metadata": {},
   "outputs": [
    {
     "data": {
      "text/plain": [
       "BenchmarkTools.Trial: \n",
       "  memory estimate:  16 bytes\n",
       "  allocs estimate:  1\n",
       "  --------------\n",
       "  minimum time:     77.045 μs (0.00% GC)\n",
       "  median time:      81.218 μs (0.00% GC)\n",
       "  mean time:        80.775 μs (0.00% GC)\n",
       "  maximum time:     231.363 μs (0.00% GC)\n",
       "  --------------\n",
       "  samples:          10000\n",
       "  evals/sample:     1"
      ]
     },
     "execution_count": 17,
     "metadata": {},
     "output_type": "execute_result"
    }
   ],
   "source": [
    "@benchmark mysum(x)"
   ]
  },
  {
   "cell_type": "code",
   "execution_count": 19,
   "metadata": {},
   "outputs": [
    {
     "data": {
      "text/plain": [
       "BenchmarkTools.Trial: \n",
       "  memory estimate:  16 bytes\n",
       "  allocs estimate:  1\n",
       "  --------------\n",
       "  minimum time:     10.932 μs (0.00% GC)\n",
       "  median time:      11.602 μs (0.00% GC)\n",
       "  mean time:        11.816 μs (0.00% GC)\n",
       "  maximum time:     78.097 μs (0.00% GC)\n",
       "  --------------\n",
       "  samples:          10000\n",
       "  evals/sample:     1"
      ]
     },
     "execution_count": 19,
     "metadata": {},
     "output_type": "execute_result"
    }
   ],
   "source": [
    "@benchmark mysum_simd(x)"
   ]
  },
  {
   "cell_type": "markdown",
   "metadata": {},
   "source": [
    "### Example cost function simd"
   ]
  },
  {
   "cell_type": "code",
   "execution_count": 22,
   "metadata": {
    "collapsed": true
   },
   "outputs": [],
   "source": [
    "y =  rand(Float32 , 100000);\n",
    "y_hat =  rand(Float32 , 100000);"
   ]
  },
  {
   "cell_type": "code",
   "execution_count": 36,
   "metadata": {},
   "outputs": [
    {
     "data": {
      "text/plain": [
       "MSE (generic function with 1 method)"
      ]
     },
     "execution_count": 36,
     "metadata": {},
     "output_type": "execute_result"
    }
   ],
   "source": [
    "function MSE_simd{T}(y::Vector{T},y_pred::Vector{T})\n",
    "   cost = zero(eltype(y))\n",
    "    \n",
    "   @simd for i in 1:length(y)\n",
    "       @inbounds cost += (y[i] - y_pred[i])^2\n",
    "   end\n",
    "   return sqrt(cost)\n",
    "end\n",
    "\n",
    "function MSE{T}(y::Vector{T},y_pred::Vector{T})\n",
    "   cost = zero(eltype(y))\n",
    "    \n",
    "    @inbounds for i in 1:length(y)\n",
    "        cost += (y[i] - y_pred[i])^2\n",
    "    end\n",
    "    return sqrt(cost)\n",
    "end"
   ]
  },
  {
   "cell_type": "code",
   "execution_count": 49,
   "metadata": {},
   "outputs": [
    {
     "data": {
      "text/plain": [
       "BenchmarkTools.Trial: \n",
       "  memory estimate:  16 bytes\n",
       "  allocs estimate:  1\n",
       "  --------------\n",
       "  minimum time:     77.087 μs (0.00% GC)\n",
       "  median time:      81.340 μs (0.00% GC)\n",
       "  mean time:        82.346 μs (0.00% GC)\n",
       "  maximum time:     310.952 μs (0.00% GC)\n",
       "  --------------\n",
       "  samples:          10000\n",
       "  evals/sample:     1"
      ]
     },
     "execution_count": 49,
     "metadata": {},
     "output_type": "execute_result"
    }
   ],
   "source": [
    "@benchmark MSE(y,y_hat)"
   ]
  },
  {
   "cell_type": "code",
   "execution_count": 289,
   "metadata": {},
   "outputs": [
    {
     "data": {
      "text/plain": [
       "BenchmarkTools.Trial: \n",
       "  memory estimate:  16 bytes\n",
       "  allocs estimate:  1\n",
       "  --------------\n",
       "  minimum time:     21.102 μs (0.00% GC)\n",
       "  median time:      22.396 μs (0.00% GC)\n",
       "  mean time:        22.892 μs (0.00% GC)\n",
       "  maximum time:     295.311 μs (0.00% GC)\n",
       "  --------------\n",
       "  samples:          10000\n",
       "  evals/sample:     1"
      ]
     },
     "execution_count": 289,
     "metadata": {},
     "output_type": "execute_result"
    }
   ],
   "source": [
    "@benchmark MSE_simd(y, y_hat)"
   ]
  },
  {
   "cell_type": "markdown",
   "metadata": {},
   "source": [
    "### Test views"
   ]
  },
  {
   "cell_type": "code",
   "execution_count": 291,
   "metadata": {},
   "outputs": [
    {
     "data": {
      "text/plain": [
       "200×5 Array{Float64,2}:\n",
       "   2.0    2.0    2.0    2.0    2.0\n",
       "   3.0    3.0    3.0    3.0    3.0\n",
       "   4.0    4.0    4.0    4.0    4.0\n",
       "   5.0    5.0    5.0    5.0    5.0\n",
       "   6.0    6.0    6.0    6.0    6.0\n",
       "   7.0    7.0    7.0    7.0    7.0\n",
       "   8.0    8.0    8.0    8.0    8.0\n",
       "   9.0    9.0    9.0    9.0    9.0\n",
       "  10.0   10.0   10.0   10.0   10.0\n",
       "  11.0   11.0   11.0   11.0   11.0\n",
       "  12.0   12.0   12.0   12.0   12.0\n",
       "  13.0   13.0   13.0   13.0   13.0\n",
       "  14.0   14.0   14.0   14.0   14.0\n",
       "   ⋮                              \n",
       " 190.0  190.0  190.0  190.0  190.0\n",
       " 191.0  191.0  191.0  191.0  191.0\n",
       " 192.0  192.0  192.0  192.0  192.0\n",
       " 193.0  193.0  193.0  193.0  193.0\n",
       " 194.0  194.0  194.0  194.0  194.0\n",
       " 195.0  195.0  195.0  195.0  195.0\n",
       " 196.0  196.0  196.0  196.0  196.0\n",
       " 197.0  197.0  197.0  197.0  197.0\n",
       " 198.0  198.0  198.0  198.0  198.0\n",
       " 199.0  199.0  199.0  199.0  199.0\n",
       " 200.0  200.0  200.0  200.0  200.0\n",
       " 201.0  201.0  201.0  201.0  201.0"
      ]
     },
     "execution_count": 291,
     "metadata": {},
     "output_type": "execute_result"
    }
   ],
   "source": [
    "X = ones(200,5)\n",
    "x = Array(1:200);\n",
    "X2 = x.+X\n",
    "\n"
   ]
  },
  {
   "cell_type": "code",
   "execution_count": 286,
   "metadata": {},
   "outputs": [
    {
     "name": "stdout",
     "output_type": "stream",
     "text": [
      "[2.0 2.0 2.0 2.0 2.0; 3.0 3.0 3.0 3.0 3.0; 4.0 4.0 4.0 4.0 4.0; 5.0 5.0 5.0 5.0 5.0; 6.0 6.0 6.0 6.0 6.0]\n",
      "\n",
      "[4.0 4.0 4.0 4.0 4.0; 6.0 6.0 6.0 6.0 6.0; 8.0 8.0 8.0 8.0 8.0; 10.0 10.0 10.0 10.0 10.0; 12.0 12.0 12.0 12.0 12.0]\n"
     ]
    }
   ],
   "source": [
    "X = ones(200,5)\n",
    "x = Array(1:200);\n",
    "X2 = x.+X\n",
    "\n",
    "println(X2[1:5,:],\"\\n\")\n",
    "\n",
    "v = view(X2,1,:)\n",
    "for i in 1:size(X2,1)\n",
    "    v = view(X2,i,:)\n",
    "    X2[i,:] += v\n",
    "end\n",
    "\n",
    "println(X2[1:5,:])\n",
    "\n"
   ]
  },
  {
   "cell_type": "code",
   "execution_count": 287,
   "metadata": {},
   "outputs": [
    {
     "data": {
      "text/plain": [
       "200×5 Array{Float64,2}:\n",
       "   4.0    4.0    4.0    4.0    4.0\n",
       "   6.0    6.0    6.0    6.0    6.0\n",
       "   8.0    8.0    8.0    8.0    8.0\n",
       "  10.0   10.0   10.0   10.0   10.0\n",
       "  12.0   12.0   12.0   12.0   12.0\n",
       "  14.0   14.0   14.0   14.0   14.0\n",
       "  16.0   16.0   16.0   16.0   16.0\n",
       "  18.0   18.0   18.0   18.0   18.0\n",
       "  20.0   20.0   20.0   20.0   20.0\n",
       "  22.0   22.0   22.0   22.0   22.0\n",
       "  24.0   24.0   24.0   24.0   24.0\n",
       "  26.0   26.0   26.0   26.0   26.0\n",
       "  28.0   28.0   28.0   28.0   28.0\n",
       "   ⋮                              \n",
       " 380.0  380.0  380.0  380.0  380.0\n",
       " 382.0  382.0  382.0  382.0  382.0\n",
       " 384.0  384.0  384.0  384.0  384.0\n",
       " 386.0  386.0  386.0  386.0  386.0\n",
       " 388.0  388.0  388.0  388.0  388.0\n",
       " 390.0  390.0  390.0  390.0  390.0\n",
       " 392.0  392.0  392.0  392.0  392.0\n",
       " 394.0  394.0  394.0  394.0  394.0\n",
       " 396.0  396.0  396.0  396.0  396.0\n",
       " 398.0  398.0  398.0  398.0  398.0\n",
       " 400.0  400.0  400.0  400.0  400.0\n",
       " 402.0  402.0  402.0  402.0  402.0"
      ]
     },
     "execution_count": 287,
     "metadata": {},
     "output_type": "execute_result"
    }
   ],
   "source": [
    "X2"
   ]
  },
  {
   "cell_type": "code",
   "execution_count": 282,
   "metadata": {},
   "outputs": [
    {
     "name": "stdout",
     "output_type": "stream",
     "text": [
      "[2.0 2.0 2.0 2.0 2.0; 3.0 3.0 3.0 3.0 3.0; 4.0 4.0 4.0 4.0 4.0; 5.0 5.0 5.0 5.0 5.0; 6.0 6.0 6.0 6.0 6.0]\n",
      "\n",
      "[201.0 201.0 201.0 201.0 201.0; 6.0 6.0 6.0 6.0 6.0; 8.0 8.0 8.0 8.0 8.0; 10.0 10.0 10.0 10.0 10.0; 12.0 12.0 12.0 12.0 12.0]\n"
     ]
    }
   ],
   "source": [
    "X = ones(200,5)\n",
    "x = Array(1:200);\n",
    "X2 = x.+X\n",
    "\n",
    "println(X2[1:5,:],\"\\n\")\n",
    "\n",
    "v = view(X2,1,:)\n",
    "for i in 1:size(X2,1)\n",
    "    v .= view(X2,i,:)\n",
    "    X2[i,:] += v\n",
    "end\n",
    "\n",
    "println(X2[1:5,:])\n"
   ]
  },
  {
   "cell_type": "code",
   "execution_count": 283,
   "metadata": {},
   "outputs": [
    {
     "data": {
      "text/plain": [
       "200×5 Array{Float64,2}:\n",
       " 201.0  201.0  201.0  201.0  201.0\n",
       "   6.0    6.0    6.0    6.0    6.0\n",
       "   8.0    8.0    8.0    8.0    8.0\n",
       "  10.0   10.0   10.0   10.0   10.0\n",
       "  12.0   12.0   12.0   12.0   12.0\n",
       "  14.0   14.0   14.0   14.0   14.0\n",
       "  16.0   16.0   16.0   16.0   16.0\n",
       "  18.0   18.0   18.0   18.0   18.0\n",
       "  20.0   20.0   20.0   20.0   20.0\n",
       "  22.0   22.0   22.0   22.0   22.0\n",
       "  24.0   24.0   24.0   24.0   24.0\n",
       "  26.0   26.0   26.0   26.0   26.0\n",
       "  28.0   28.0   28.0   28.0   28.0\n",
       "   ⋮                              \n",
       " 380.0  380.0  380.0  380.0  380.0\n",
       " 382.0  382.0  382.0  382.0  382.0\n",
       " 384.0  384.0  384.0  384.0  384.0\n",
       " 386.0  386.0  386.0  386.0  386.0\n",
       " 388.0  388.0  388.0  388.0  388.0\n",
       " 390.0  390.0  390.0  390.0  390.0\n",
       " 392.0  392.0  392.0  392.0  392.0\n",
       " 394.0  394.0  394.0  394.0  394.0\n",
       " 396.0  396.0  396.0  396.0  396.0\n",
       " 398.0  398.0  398.0  398.0  398.0\n",
       " 400.0  400.0  400.0  400.0  400.0\n",
       " 402.0  402.0  402.0  402.0  402.0"
      ]
     },
     "execution_count": 283,
     "metadata": {},
     "output_type": "execute_result"
    }
   ],
   "source": [
    "X2"
   ]
  },
  {
   "cell_type": "code",
   "execution_count": null,
   "metadata": {
    "collapsed": true
   },
   "outputs": [],
   "source": []
  }
 ],
 "metadata": {
  "kernelspec": {
   "display_name": "Julia 0.6.0",
   "language": "julia",
   "name": "julia-0.6"
  },
  "language_info": {
   "file_extension": ".jl",
   "mimetype": "application/julia",
   "name": "julia",
   "version": "0.6.0"
  }
 },
 "nbformat": 4,
 "nbformat_minor": 2
}
