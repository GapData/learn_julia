{
 "cells": [
  {
   "cell_type": "markdown",
   "metadata": {},
   "source": [
    "# Dataframe"
   ]
  },
  {
   "cell_type": "code",
   "execution_count": 2,
   "metadata": {
    "collapsed": true
   },
   "outputs": [],
   "source": [
    "using DataFrames"
   ]
  },
  {
   "cell_type": "code",
   "execution_count": 34,
   "metadata": {
    "collapsed": false
   },
   "outputs": [
    {
     "data": {
      "text/plain": [
       "Dict{String,Any} with 2 entries:\n",
       "  \"name\" => String[\"David\",\"Jose\",\"Josep\",\"Ilia\",\"David\"]\n",
       "  \"age\"  => [10.0,20.0,32.0,60.0,5.0]"
      ]
     },
     "execution_count": 34,
     "metadata": {},
     "output_type": "execute_result"
    }
   ],
   "source": [
    "data = Dict(\"name\"=>[\"David\", \"Jose\", \"Josep\", \"Ilia\", \"David\"],\n",
    "            \"age\"=>[ 10., 20., 32., 60., 5.])"
   ]
  },
  {
   "cell_type": "markdown",
   "metadata": {},
   "source": [
    "Construct dataframe from dictionary"
   ]
  },
  {
   "cell_type": "code",
   "execution_count": 35,
   "metadata": {
    "collapsed": false
   },
   "outputs": [
    {
     "data": {
      "text/html": [
       "<table class=\"data-frame\"><thead><tr><th></th><th>age</th><th>name</th></tr></thead><tbody><tr><th>1</th><td>10.0</td><td>David</td></tr><tr><th>2</th><td>20.0</td><td>Jose</td></tr><tr><th>3</th><td>32.0</td><td>Josep</td></tr><tr><th>4</th><td>60.0</td><td>Ilia</td></tr><tr><th>5</th><td>5.0</td><td>David</td></tr></tbody></table>"
      ],
      "text/plain": [
       "5×2 DataFrames.DataFrame\n",
       "│ Row │ age  │ name    │\n",
       "├─────┼──────┼─────────┤\n",
       "│ 1   │ 10.0 │ \"David\" │\n",
       "│ 2   │ 20.0 │ \"Jose\"  │\n",
       "│ 3   │ 32.0 │ \"Josep\" │\n",
       "│ 4   │ 60.0 │ \"Ilia\"  │\n",
       "│ 5   │ 5.0  │ \"David\" │"
      ]
     },
     "execution_count": 35,
     "metadata": {},
     "output_type": "execute_result"
    }
   ],
   "source": [
    "df = DataFrame(data)"
   ]
  },
  {
   "cell_type": "markdown",
   "metadata": {},
   "source": [
    "Select a column with **df[:colname]**"
   ]
  },
  {
   "cell_type": "code",
   "execution_count": 36,
   "metadata": {
    "collapsed": false
   },
   "outputs": [
    {
     "data": {
      "text/plain": [
       "5-element DataArrays.DataArray{Float64,1}:\n",
       " 10.0\n",
       " 20.0\n",
       " 32.0\n",
       " 60.0\n",
       "  5.0"
      ]
     },
     "execution_count": 36,
     "metadata": {},
     "output_type": "execute_result"
    }
   ],
   "source": [
    "df[:age]"
   ]
  },
  {
   "cell_type": "markdown",
   "metadata": {},
   "source": [
    "Change a value from the dataframe\n",
    "\n",
    "- by coordinate **X[i,j] = value**"
   ]
  },
  {
   "cell_type": "code",
   "execution_count": 37,
   "metadata": {
    "collapsed": false
   },
   "outputs": [
    {
     "data": {
      "text/plain": [
       "50"
      ]
     },
     "execution_count": 37,
     "metadata": {},
     "output_type": "execute_result"
    }
   ],
   "source": [
    "df[3,1] = 50"
   ]
  },
  {
   "cell_type": "code",
   "execution_count": 42,
   "metadata": {
    "collapsed": false
   },
   "outputs": [
    {
     "data": {
      "text/html": [
       "<table class=\"data-frame\"><thead><tr><th></th><th>age</th><th>name</th></tr></thead><tbody><tr><th>1</th><td>10.0</td><td>David</td></tr><tr><th>2</th><td>20.0</td><td>Jose</td></tr><tr><th>3</th><td>50.0</td><td>Josep</td></tr><tr><th>4</th><td>60.0</td><td>Ilia</td></tr><tr><th>5</th><td>5.0</td><td>David</td></tr></tbody></table>"
      ],
      "text/plain": [
       "5×2 DataFrames.DataFrame\n",
       "│ Row │ age  │ name    │\n",
       "├─────┼──────┼─────────┤\n",
       "│ 1   │ 10.0 │ \"David\" │\n",
       "│ 2   │ 20.0 │ \"Jose\"  │\n",
       "│ 3   │ 50.0 │ \"Josep\" │\n",
       "│ 4   │ 60.0 │ \"Ilia\"  │\n",
       "│ 5   │ 5.0  │ \"David\" │"
      ]
     },
     "execution_count": 42,
     "metadata": {},
     "output_type": "execute_result"
    }
   ],
   "source": [
    "df"
   ]
  },
  {
   "cell_type": "code",
   "execution_count": 43,
   "metadata": {
    "collapsed": false
   },
   "outputs": [
    {
     "data": {
      "text/plain": [
       "29.0"
      ]
     },
     "execution_count": 43,
     "metadata": {},
     "output_type": "execute_result"
    }
   ],
   "source": [
    "mean(df[:age])"
   ]
  },
  {
   "cell_type": "markdown",
   "metadata": {},
   "source": [
    "Select subset of a column"
   ]
  },
  {
   "cell_type": "code",
   "execution_count": 69,
   "metadata": {
    "collapsed": false
   },
   "outputs": [
    {
     "data": {
      "text/plain": [
       "3-element DataArrays.DataArray{Float64,1}:\n",
       " 20.0\n",
       " 50.0\n",
       " 60.0"
      ]
     },
     "execution_count": 69,
     "metadata": {},
     "output_type": "execute_result"
    }
   ],
   "source": [
    "df[:age][2:4]"
   ]
  },
  {
   "cell_type": "markdown",
   "metadata": {},
   "source": [
    "Select people older than 20"
   ]
  },
  {
   "cell_type": "code",
   "execution_count": 70,
   "metadata": {
    "collapsed": false
   },
   "outputs": [
    {
     "data": {
      "text/plain": [
       "2-element DataArrays.DataArray{String,1}:\n",
       " \"Josep\"\n",
       " \"Ilia\" "
      ]
     },
     "execution_count": 70,
     "metadata": {},
     "output_type": "execute_result"
    }
   ],
   "source": [
    "df[:name][df[:age] .>20]"
   ]
  },
  {
   "cell_type": "code",
   "execution_count": 77,
   "metadata": {
    "collapsed": false
   },
   "outputs": [
    {
     "data": {
      "text/plain": [
       "3-element DataArrays.DataArray{String,1}:\n",
       " \"Jose\" \n",
       " \"Josep\"\n",
       " \"Ilia\" "
      ]
     },
     "execution_count": 77,
     "metadata": {},
     "output_type": "execute_result"
    }
   ],
   "source": [
    "df[:name][df[:age] .>= 20]"
   ]
  },
  {
   "cell_type": "code",
   "execution_count": 94,
   "metadata": {
    "collapsed": false
   },
   "outputs": [
    {
     "data": {
      "text/plain": [
       "5-element DataArrays.DataArray{Float64,1}:\n",
       " 10.0\n",
       " 20.0\n",
       " 50.0\n",
       " 60.0\n",
       "  5.0"
      ]
     },
     "execution_count": 94,
     "metadata": {},
     "output_type": "execute_result"
    }
   ],
   "source": [
    "df[:age]"
   ]
  },
  {
   "cell_type": "markdown",
   "metadata": {},
   "source": [
    "Subset of a dataframe with all rows of people named David"
   ]
  },
  {
   "cell_type": "code",
   "execution_count": 105,
   "metadata": {
    "collapsed": false
   },
   "outputs": [
    {
     "data": {
      "text/html": [
       "<table class=\"data-frame\"><thead><tr><th></th><th>age</th><th>name</th></tr></thead><tbody><tr><th>1</th><td>10.0</td><td>David</td></tr><tr><th>2</th><td>5.0</td><td>David</td></tr></tbody></table>"
      ],
      "text/plain": [
       "2×2 DataFrames.DataFrame\n",
       "│ Row │ age  │ name    │\n",
       "├─────┼──────┼─────────┤\n",
       "│ 1   │ 10.0 │ \"David\" │\n",
       "│ 2   │ 5.0  │ \"David\" │"
      ]
     },
     "execution_count": 105,
     "metadata": {},
     "output_type": "execute_result"
    }
   ],
   "source": [
    "df[df[:name] .==\"David\",:]"
   ]
  },
  {
   "cell_type": "markdown",
   "metadata": {},
   "source": [
    "Select row of People named David and age older than 6"
   ]
  },
  {
   "cell_type": "code",
   "execution_count": 109,
   "metadata": {
    "collapsed": false
   },
   "outputs": [
    {
     "data": {
      "text/plain": [
       "5-element DataArrays.DataArray{Bool,1}:\n",
       "  true\n",
       " false\n",
       " false\n",
       " false\n",
       " false"
      ]
     },
     "execution_count": 109,
     "metadata": {},
     "output_type": "execute_result"
    }
   ],
   "source": [
    "(df[:name] .==\"David\")&(df[:age] .> 6)"
   ]
  },
  {
   "cell_type": "code",
   "execution_count": 107,
   "metadata": {
    "collapsed": false
   },
   "outputs": [
    {
     "data": {
      "text/html": [
       "<table class=\"data-frame\"><thead><tr><th></th><th>age</th><th>name</th></tr></thead><tbody><tr><th>1</th><td>10.0</td><td>David</td></tr></tbody></table>"
      ],
      "text/plain": [
       "1×2 DataFrames.DataFrame\n",
       "│ Row │ age  │ name    │\n",
       "├─────┼──────┼─────────┤\n",
       "│ 1   │ 10.0 │ \"David\" │"
      ]
     },
     "execution_count": 107,
     "metadata": {},
     "output_type": "execute_result"
    }
   ],
   "source": [
    "df[(df[:name] .==\"David\")&(df[:age] .>6) ,:]"
   ]
  },
  {
   "cell_type": "code",
   "execution_count": 115,
   "metadata": {
    "collapsed": false
   },
   "outputs": [
    {
     "data": {
      "text/plain": [
       "5-element DataArrays.DataArray{Bool,1}:\n",
       "  true\n",
       " false\n",
       " false\n",
       " false\n",
       "  true"
      ]
     },
     "execution_count": 115,
     "metadata": {},
     "output_type": "execute_result"
    }
   ],
   "source": [
    "df[:name] .==\"David\""
   ]
  },
  {
   "cell_type": "code",
   "execution_count": 120,
   "metadata": {
    "collapsed": false
   },
   "outputs": [
    {
     "name": "stdout",
     "output_type": "stream",
     "text": [
      "10.020.050.060.05.0"
     ]
    }
   ],
   "source": [
    "for i in 1:5\n",
    "    print(df[i,1])\n",
    "end"
   ]
  },
  {
   "cell_type": "code",
   "execution_count": 121,
   "metadata": {
    "collapsed": false
   },
   "outputs": [
    {
     "data": {
      "text/plain": [
       "5-element DataArrays.DataArray{Float64,1}:\n",
       " 10.0\n",
       " 20.0\n",
       " 50.0\n",
       " 60.0\n",
       "  5.0"
      ]
     },
     "execution_count": 121,
     "metadata": {},
     "output_type": "execute_result"
    }
   ],
   "source": [
    "df[1:5,1]"
   ]
  },
  {
   "cell_type": "code",
   "execution_count": null,
   "metadata": {
    "collapsed": true
   },
   "outputs": [],
   "source": []
  }
 ],
 "metadata": {
  "kernelspec": {
   "display_name": "Julia 0.5.0",
   "language": "julia",
   "name": "julia-0.5"
  },
  "language_info": {
   "file_extension": ".jl",
   "mimetype": "application/julia",
   "name": "julia",
   "version": "0.5.0"
  }
 },
 "nbformat": 4,
 "nbformat_minor": 0
}
