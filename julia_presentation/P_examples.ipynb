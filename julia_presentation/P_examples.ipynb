{
 "cells": [
  {
   "cell_type": "markdown",
   "metadata": {},
   "source": [
    "# Easy programming for everybody"
   ]
  },
  {
   "cell_type": "markdown",
   "metadata": {},
   "source": [
    "http://tullo.ch/articles/python-vs-julia/"
   ]
  },
  {
   "cell_type": "code",
   "execution_count": 5,
   "metadata": {
    "collapsed": false
   },
   "outputs": [],
   "source": [
    "import numpy as np\n",
    "import time"
   ]
  },
  {
   "cell_type": "markdown",
   "metadata": {},
   "source": [
    "## 1) Summing a series "
   ]
  },
  {
   "cell_type": "code",
   "execution_count": 67,
   "metadata": {
    "collapsed": false
   },
   "outputs": [],
   "source": [
    "def one_over_n(n):\n",
    "    aux = 0.\n",
    "    for i in range(1,n+1):\n",
    "        aux += 1./i          \n",
    "    return aux"
   ]
  },
  {
   "cell_type": "code",
   "execution_count": 74,
   "metadata": {
    "collapsed": false
   },
   "outputs": [
    {
     "name": "stdout",
     "output_type": "stream",
     "text": [
      "('time needed:', 0.12250494956970215)\n",
      "14.3927267229\n"
     ]
    }
   ],
   "source": [
    "t0 = time.time()\n",
    "aux = one_over_n(1000000)\n",
    "print(\"time needed:\", time.time() - t0)\n",
    "print(aux)"
   ]
  },
  {
   "cell_type": "markdown",
   "metadata": {},
   "source": [
    "## 2) Controlling outliers ( or clipping gradients)"
   ]
  },
  {
   "cell_type": "code",
   "execution_count": 204,
   "metadata": {
    "collapsed": false
   },
   "outputs": [],
   "source": [
    "def clip( x, a=0 , b= 1 ):\n",
    "    for i in range(len(x)):\n",
    "        if x[i] < a:\n",
    "            x[i] = a\n",
    "        elif x[i] > b:\n",
    "            x[i] = b\n",
    "    return x"
   ]
  },
  {
   "cell_type": "code",
   "execution_count": 205,
   "metadata": {
    "collapsed": false
   },
   "outputs": [],
   "source": [
    "x = np.random.randn(10**7)"
   ]
  },
  {
   "cell_type": "code",
   "execution_count": 207,
   "metadata": {
    "collapsed": false
   },
   "outputs": [
    {
     "name": "stdout",
     "output_type": "stream",
     "text": [
      "5.8660948276519775\n"
     ]
    }
   ],
   "source": [
    "t0 = time.time()\n",
    "x = clip(x,0,1)\n",
    "print(time.time() - t0)"
   ]
  },
  {
   "cell_type": "code",
   "execution_count": 174,
   "metadata": {
    "collapsed": false
   },
   "outputs": [
    {
     "data": {
      "text/plain": [
       "array([ 0.        ,  0.        ,  0.71956263,  0.        ,  0.72998114,\n",
       "        1.        ,  1.        ,  0.402447  ,  0.        ])"
      ]
     },
     "execution_count": 174,
     "metadata": {},
     "output_type": "execute_result"
    }
   ],
   "source": [
    "x[1:10]"
   ]
  },
  {
   "cell_type": "markdown",
   "metadata": {},
   "source": [
    "### Yeah but I not as noob, I would never do that"
   ]
  },
  {
   "cell_type": "code",
   "execution_count": 191,
   "metadata": {
    "collapsed": true
   },
   "outputs": [],
   "source": [
    "x = np.random.randn(10**7)"
   ]
  },
  {
   "cell_type": "code",
   "execution_count": 192,
   "metadata": {
    "collapsed": false
   },
   "outputs": [
    {
     "name": "stdout",
     "output_type": "stream",
     "text": [
      "0.1246480941772461\n"
     ]
    }
   ],
   "source": [
    "t0 = time.time()\n",
    "x[x>1] = 1.\n",
    "x[x<0] = 0.\n",
    "print(time.time() - t0)"
   ]
  },
  {
   "cell_type": "code",
   "execution_count": 193,
   "metadata": {
    "collapsed": false
   },
   "outputs": [
    {
     "data": {
      "text/plain": [
       "array([ 0.68872952,  1.        ,  0.75399274, ...,  1.        ,\n",
       "        0.        ,  0.        ])"
      ]
     },
     "execution_count": 193,
     "metadata": {},
     "output_type": "execute_result"
    }
   ],
   "source": [
    "x"
   ]
  },
  {
   "cell_type": "markdown",
   "metadata": {},
   "source": [
    "### Maybe in float32 this is faster"
   ]
  },
  {
   "cell_type": "code",
   "execution_count": 222,
   "metadata": {
    "collapsed": false
   },
   "outputs": [],
   "source": [
    "x = np.array(np.random.randn(10**7), dtype=\"float32\")"
   ]
  },
  {
   "cell_type": "code",
   "execution_count": 223,
   "metadata": {
    "collapsed": false
   },
   "outputs": [
    {
     "name": "stdout",
     "output_type": "stream",
     "text": [
      "0.11884403228759766\n"
     ]
    }
   ],
   "source": [
    "t0 = time.time()\n",
    "x[x>1] = 1.\n",
    "x[x<0] = 0.\n",
    "print(time.time() - t0)"
   ]
  },
  {
   "cell_type": "markdown",
   "metadata": {},
   "source": [
    "## 3) Computing a quantity depending on a \"custom criteria\""
   ]
  },
  {
   "cell_type": "code",
   "execution_count": 224,
   "metadata": {
    "collapsed": false
   },
   "outputs": [],
   "source": [
    "def compute_taxes(salary):\n",
    "    if salary < 18000:\n",
    "        return salary * 0.2\n",
    "    elif  18000 < salary < 25000:\n",
    "        return salary * 0.3\n",
    "    elif   25000 < salary < 70000:\n",
    "        return salary * 0.4\n",
    "    else:\n",
    "        return salary * 0.5"
   ]
  },
  {
   "cell_type": "code",
   "execution_count": 63,
   "metadata": {
    "collapsed": false
   },
   "outputs": [
    {
     "data": {
      "text/plain": [
       "array([47600, 26032, 61791, 47482, 75478, 27669, 55756, 28307, 74294, 19458])"
      ]
     },
     "execution_count": 63,
     "metadata": {},
     "output_type": "execute_result"
    }
   ],
   "source": [
    "np.random.randint(18000, 80000, 10)"
   ]
  },
  {
   "cell_type": "code",
   "execution_count": 225,
   "metadata": {
    "collapsed": false
   },
   "outputs": [
    {
     "name": "stdout",
     "output_type": "stream",
     "text": [
      "2.1521639823913574\n"
     ]
    }
   ],
   "source": [
    "salaries = np.array(np.random.randint(18.000, 100000, 10**6), \"int64\")\n",
    "t0 = time.time()\n",
    "taxes = [compute_taxes(x) for x in salaries ]\n",
    "print(time.time() - t0)"
   ]
  },
  {
   "cell_type": "markdown",
   "metadata": {
    "collapsed": true
   },
   "source": [
    "## 4) L2 norm"
   ]
  },
  {
   "cell_type": "code",
   "execution_count": 46,
   "metadata": {
    "collapsed": false
   },
   "outputs": [],
   "source": [
    "len_ = 1000000;\n",
    "x = np.random.rand(len_);\n",
    "y = np.random.rand(len_);"
   ]
  },
  {
   "cell_type": "code",
   "execution_count": 35,
   "metadata": {
    "collapsed": false
   },
   "outputs": [
    {
     "name": "stdout",
     "output_type": "stream",
     "text": [
      "0.0132551193237\n"
     ]
    }
   ],
   "source": [
    "t0 = time.time()\n",
    "(x - y)**2/x.shape[0]\n",
    "print(time.time() - t0)"
   ]
  },
  {
   "cell_type": "code",
   "execution_count": 51,
   "metadata": {
    "collapsed": false
   },
   "outputs": [],
   "source": [
    "def l2_squared(x,y):\n",
    "    norm = 0.\n",
    "    for i in range(x.shape[0]):\n",
    "        norm = norm + (x[i] - y[i])**2\n",
    "    return norm/x.shape[0]"
   ]
  },
  {
   "cell_type": "code",
   "execution_count": 52,
   "metadata": {
    "collapsed": false
   },
   "outputs": [
    {
     "name": "stdout",
     "output_type": "stream",
     "text": [
      "0.620918035507\n"
     ]
    }
   ],
   "source": [
    "t0 = time.time()\n",
    "l2_squared(x,y)\n",
    "print(time.time() - t0)"
   ]
  },
  {
   "cell_type": "code",
   "execution_count": 58,
   "metadata": {
    "collapsed": false
   },
   "outputs": [
    {
     "name": "stdout",
     "output_type": "stream",
     "text": [
      "0.00598287582397\n"
     ]
    }
   ],
   "source": [
    "t0 = time.time()\n",
    "np.linalg.norm(x-y,2)**2\n",
    "print(time.time() - t0)"
   ]
  },
  {
   "cell_type": "code",
   "execution_count": null,
   "metadata": {
    "collapsed": true
   },
   "outputs": [],
   "source": [
    "\n"
   ]
  }
 ],
 "metadata": {
  "kernelspec": {
   "display_name": "Python 2",
   "language": "python",
   "name": "python2"
  },
  "language_info": {
   "codemirror_mode": {
    "name": "ipython",
    "version": 2
   },
   "file_extension": ".py",
   "mimetype": "text/x-python",
   "name": "python",
   "nbconvert_exporter": "python",
   "pygments_lexer": "ipython2",
   "version": "2.7.11"
  }
 },
 "nbformat": 4,
 "nbformat_minor": 0
}
