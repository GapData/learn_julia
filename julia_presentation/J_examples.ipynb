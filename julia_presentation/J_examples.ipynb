{
 "cells": [
  {
   "cell_type": "markdown",
   "metadata": {
    "collapsed": true
   },
   "source": [
    "# High perfomance code for everybody \n",
    "#### (Tell those C, Fortran bullies to go away)\n",
    "#### (Even better, show them you code runs as fast as their code )\n",
    "#### (Disclaimer -> Usual response: \"this benchmark is not representative\" )"
   ]
  },
  {
   "cell_type": "code",
   "execution_count": 3,
   "metadata": {
    "collapsed": true
   },
   "outputs": [],
   "source": [
    "using BenchmarkTools"
   ]
  },
  {
   "cell_type": "markdown",
   "metadata": {
    "collapsed": true
   },
   "source": [
    "## 1) Summing a series "
   ]
  },
  {
   "cell_type": "code",
   "execution_count": 41,
   "metadata": {
    "collapsed": false
   },
   "outputs": [
    {
     "data": {
      "text/plain": [
       "one_over_n (generic function with 1 method)"
      ]
     },
     "execution_count": 41,
     "metadata": {},
     "output_type": "execute_result"
    }
   ],
   "source": [
    "function one_over_n(n)\n",
    "    aux = 0.\n",
    "    for i in 1:n\n",
    "        aux += 1/i\n",
    "    end\n",
    "    return aux\n",
    "end"
   ]
  },
  {
   "cell_type": "code",
   "execution_count": 49,
   "metadata": {
    "collapsed": false
   },
   "outputs": [
    {
     "name": "stdout",
     "output_type": "stream",
     "text": [
      "  0.004884 seconds (5 allocations: 176 bytes)\n"
     ]
    },
    {
     "data": {
      "text/plain": [
       "14.392726722864989"
      ]
     },
     "execution_count": 49,
     "metadata": {},
     "output_type": "execute_result"
    }
   ],
   "source": [
    "@time aux = one_over_n(1000_000)"
   ]
  },
  {
   "cell_type": "code",
   "execution_count": 142,
   "metadata": {
    "collapsed": false
   },
   "outputs": [
    {
     "name": "stdout",
     "output_type": "stream",
     "text": [
      "  0.005252 seconds (6 allocations: 192 bytes)\n"
     ]
    },
    {
     "data": {
      "text/plain": [
       "14.392726722864989"
      ]
     },
     "execution_count": 142,
     "metadata": {},
     "output_type": "execute_result"
    }
   ],
   "source": [
    "@time aux = one_over_n(10^6)"
   ]
  },
  {
   "cell_type": "code",
   "execution_count": 154,
   "metadata": {
    "collapsed": false
   },
   "outputs": [
    {
     "data": {
      "text/plain": [
       "one_over_n2 (generic function with 1 method)"
      ]
     },
     "execution_count": 154,
     "metadata": {},
     "output_type": "execute_result"
    }
   ],
   "source": [
    "function one_over_n2(n)\n",
    "    aux = 0.\n",
    "    for i in 1:n\n",
    "        @fastmath aux += 1./i\n",
    "    end\n",
    "    return aux\n",
    "end"
   ]
  },
  {
   "cell_type": "code",
   "execution_count": 158,
   "metadata": {
    "collapsed": false
   },
   "outputs": [
    {
     "name": "stdout",
     "output_type": "stream",
     "text": [
      "  0.004459 seconds (6 allocations: 192 bytes)\n"
     ]
    },
    {
     "data": {
      "text/plain": [
       "14.392726722864989"
      ]
     },
     "execution_count": 158,
     "metadata": {},
     "output_type": "execute_result"
    }
   ],
   "source": [
    "@time aux = one_over_n2(10^6)"
   ]
  },
  {
   "cell_type": "markdown",
   "metadata": {},
   "source": [
    "## 2) Controlling outliers (or clipping gradients)"
   ]
  },
  {
   "cell_type": "code",
   "execution_count": 1198,
   "metadata": {
    "collapsed": false
   },
   "outputs": [
    {
     "data": {
      "text/plain": [
       "clip! (generic function with 3 methods)"
      ]
     },
     "execution_count": 1198,
     "metadata": {},
     "output_type": "execute_result"
    }
   ],
   "source": [
    "function clip!( x, a=0, b= 1)\n",
    "    for i in 1:length(x)\n",
    "        if x[i] < a\n",
    "            x[i] = a\n",
    "        elseif x[i] > b\n",
    "            x[i] = b\n",
    "        end\n",
    "    end\n",
    "end"
   ]
  },
  {
   "cell_type": "code",
   "execution_count": 1199,
   "metadata": {
    "collapsed": false
   },
   "outputs": [],
   "source": [
    "x = randn(10^7);"
   ]
  },
  {
   "cell_type": "code",
   "execution_count": 1202,
   "metadata": {
    "collapsed": false
   },
   "outputs": [
    {
     "name": "stdout",
     "output_type": "stream",
     "text": [
      "  0.012998 seconds (4 allocations: 160 bytes)\n"
     ]
    }
   ],
   "source": [
    "@time clip!(x,0,1)"
   ]
  },
  {
   "cell_type": "code",
   "execution_count": 1203,
   "metadata": {
    "collapsed": false
   },
   "outputs": [
    {
     "data": {
      "text/plain": [
       "10000000-element BitArray{1}:\n",
       " false\n",
       " false\n",
       " false\n",
       " false\n",
       " false\n",
       " false\n",
       " false\n",
       " false\n",
       " false\n",
       " false\n",
       " false\n",
       " false\n",
       " false\n",
       "     ⋮\n",
       " false\n",
       " false\n",
       " false\n",
       " false\n",
       " false\n",
       " false\n",
       " false\n",
       " false\n",
       " false\n",
       " false\n",
       " false\n",
       " false"
      ]
     },
     "execution_count": 1203,
     "metadata": {},
     "output_type": "execute_result"
    }
   ],
   "source": [
    "x .>1."
   ]
  },
  {
   "cell_type": "code",
   "execution_count": 904,
   "metadata": {
    "collapsed": false
   },
   "outputs": [
    {
     "name": "stdout",
     "output_type": "stream",
     "text": [
      "  0.111007 seconds (32.15 k allocations: 3.961 MB)\n"
     ]
    },
    {
     "data": {
      "text/plain": [
       "0.0"
      ]
     },
     "execution_count": 904,
     "metadata": {},
     "output_type": "execute_result"
    }
   ],
   "source": [
    "@time  begin\n",
    "    x[x.>1.] = 1.\n",
    "    x[x.<0.] = 0.\n",
    "end"
   ]
  },
  {
   "cell_type": "markdown",
   "metadata": {},
   "source": [
    "#### Do you know (because you are a good programmer) that you will acces only \"acceptable\" positions  in the array?\n",
    "#### Tell the compiler! -> @inbounds"
   ]
  },
  {
   "cell_type": "code",
   "execution_count": 1204,
   "metadata": {
    "collapsed": false
   },
   "outputs": [
    {
     "data": {
      "text/plain": [
       "clip2! (generic function with 3 methods)"
      ]
     },
     "execution_count": 1204,
     "metadata": {},
     "output_type": "execute_result"
    }
   ],
   "source": [
    "function clip2!( x, a=0., b= 1.)\n",
    "    @inbounds for i in 1:length(x)\n",
    "        if x[i] < a\n",
    "            x[i] = a\n",
    "        elseif x[i] > b\n",
    "            x[i] = b\n",
    "        end\n",
    "    end\n",
    "end"
   ]
  },
  {
   "cell_type": "code",
   "execution_count": 1206,
   "metadata": {
    "collapsed": false
   },
   "outputs": [
    {
     "name": "stdout",
     "output_type": "stream",
     "text": [
      "  0.012076 seconds (4 allocations: 160 bytes)\n"
     ]
    }
   ],
   "source": [
    "x = randn(10^7);\n",
    "@time clip2!(x)"
   ]
  },
  {
   "cell_type": "markdown",
   "metadata": {},
   "source": [
    "#### maybe in float32 this is faster"
   ]
  },
  {
   "cell_type": "code",
   "execution_count": 1207,
   "metadata": {
    "collapsed": false
   },
   "outputs": [
    {
     "data": {
      "text/plain": [
       "clip_float32! (generic function with 3 methods)"
      ]
     },
     "execution_count": 1207,
     "metadata": {},
     "output_type": "execute_result"
    }
   ],
   "source": [
    "function clip_float32!( x::Array{Float32}, a=Float32(0.), b=Float32( 1.))\n",
    "    \n",
    "   @inbounds for i in 1:length(x)\n",
    "        if x[i] < a\n",
    "            x[i] = a\n",
    "        elseif x[i] > b\n",
    "            x[i] = b\n",
    "        end\n",
    "    end\n",
    "end"
   ]
  },
  {
   "cell_type": "code",
   "execution_count": 1208,
   "metadata": {
    "collapsed": true
   },
   "outputs": [],
   "source": [
    "x = randn(10^7);\n",
    "x = Array{Float32}(randn(10^7));"
   ]
  },
  {
   "cell_type": "code",
   "execution_count": 1210,
   "metadata": {
    "collapsed": false
   },
   "outputs": [
    {
     "name": "stdout",
     "output_type": "stream",
     "text": [
      "  0.004193 seconds (4 allocations: 160 bytes)\n"
     ]
    }
   ],
   "source": [
    "@time clip_float32_nosimd!(x)"
   ]
  },
  {
   "cell_type": "markdown",
   "metadata": {},
   "source": [
    "## 3) Computing a quantity depending on a \"custom criteria\""
   ]
  },
  {
   "cell_type": "code",
   "execution_count": 1211,
   "metadata": {
    "collapsed": false
   },
   "outputs": [
    {
     "data": {
      "text/plain": [
       "compute_taxes (generic function with 3 methods)"
      ]
     },
     "execution_count": 1211,
     "metadata": {},
     "output_type": "execute_result"
    }
   ],
   "source": [
    "function compute_taxes(salary)\n",
    "    if salary < 18000\n",
    "        return salary * 0.2\n",
    "    elseif  18000 < salary < 25000\n",
    "        return salary * 0.3\n",
    "    elseif   25000 < salary < 70000\n",
    "        return salary * 0.4\n",
    "    else\n",
    "        return salary * 0.5\n",
    "    end\n",
    "end        "
   ]
  },
  {
   "cell_type": "code",
   "execution_count": 1212,
   "metadata": {
    "collapsed": false
   },
   "outputs": [],
   "source": [
    "salaries = Array{Int64}(round.(rand(10^6,1)* 100000));"
   ]
  },
  {
   "cell_type": "code",
   "execution_count": 1215,
   "metadata": {
    "collapsed": false
   },
   "outputs": [
    {
     "name": "stdout",
     "output_type": "stream",
     "text": [
      "  0.032079 seconds (14.46 k allocations: 8.343 MB)\n"
     ]
    }
   ],
   "source": [
    "@time taxes = [compute_taxes.(x) for x in salaries ];"
   ]
  },
  {
   "cell_type": "code",
   "execution_count": 1222,
   "metadata": {
    "collapsed": false
   },
   "outputs": [
    {
     "data": {
      "text/plain": [
       "f (generic function with 1 method)"
      ]
     },
     "execution_count": 1222,
     "metadata": {},
     "output_type": "execute_result"
    }
   ],
   "source": [
    "f(x::Float64) = 2x"
   ]
  },
  {
   "cell_type": "code",
   "execution_count": 1223,
   "metadata": {
    "collapsed": false
   },
   "outputs": [
    {
     "data": {
      "text/plain": [
       "10.0"
      ]
     },
     "execution_count": 1223,
     "metadata": {},
     "output_type": "execute_result"
    }
   ],
   "source": [
    "g(5.)"
   ]
  },
  {
   "cell_type": "code",
   "execution_count": 1227,
   "metadata": {
    "collapsed": false
   },
   "outputs": [
    {
     "data": {
      "text/plain": [
       "3-element Array{Float64,1}:\n",
       " 4.0\n",
       " 6.0\n",
       " 8.0"
      ]
     },
     "execution_count": 1227,
     "metadata": {},
     "output_type": "execute_result"
    }
   ],
   "source": [
    "f.([2.,3.,4.])"
   ]
  },
  {
   "cell_type": "code",
   "execution_count": 1228,
   "metadata": {
    "collapsed": false
   },
   "outputs": [
    {
     "data": {
      "text/plain": [
       "3-element Array{Float64,1}:\n",
       " 4.0\n",
       " 6.0\n",
       " 8.0"
      ]
     },
     "execution_count": 1228,
     "metadata": {},
     "output_type": "execute_result"
    }
   ],
   "source": [
    "map(f,[2.,3.,4.])"
   ]
  },
  {
   "cell_type": "code",
   "execution_count": null,
   "metadata": {
    "collapsed": false
   },
   "outputs": [],
   "source": []
  },
  {
   "cell_type": "code",
   "execution_count": 267,
   "metadata": {
    "collapsed": false
   },
   "outputs": [],
   "source": [
    "# Let us consider the worst case scenario: \n",
    "salaries = Array{Int64}(round.( [1_000_000 for x in 1:10^6]));"
   ]
  },
  {
   "cell_type": "code",
   "execution_count": 1231,
   "metadata": {
    "collapsed": false
   },
   "outputs": [
    {
     "name": "stdout",
     "output_type": "stream",
     "text": [
      "  0.034641 seconds (14.45 k allocations: 8.303 MB)\n"
     ]
    }
   ],
   "source": [
    "@time taxes = [compute_taxes.(x) for x in salaries ];"
   ]
  },
  {
   "cell_type": "markdown",
   "metadata": {},
   "source": [
    "### 3.1) Allocating memory of taxes before\n",
    "\n",
    "Make your code cache friendly ! (what do you have 20 Mb of cache in your chip?)\n"
   ]
  },
  {
   "cell_type": "code",
   "execution_count": 1232,
   "metadata": {
    "collapsed": false
   },
   "outputs": [],
   "source": [
    "taxes =  Array{Float64}(zeros(10^6));"
   ]
  },
  {
   "cell_type": "code",
   "execution_count": 1233,
   "metadata": {
    "collapsed": false
   },
   "outputs": [
    {
     "data": {
      "text/plain": [
       "compute_taxes! (generic function with 1 method)"
      ]
     },
     "execution_count": 1233,
     "metadata": {},
     "output_type": "execute_result"
    }
   ],
   "source": [
    "function compute_taxes!( taxes, salaries)\n",
    "    \n",
    "    for (i, salary) in enumerate(salaries)\n",
    "        if salary < 18000\n",
    "            taxes[i] = salary * 0.2\n",
    "        elseif  18000 < salary < 25000\n",
    "            taxes[i] = salary * 0.3\n",
    "        elseif   25000 < salary < 70000\n",
    "            taxes[i] = salary * 0.4\n",
    "        else\n",
    "            taxes[i] = salary * 0.5\n",
    "        end\n",
    "    end\n",
    "end      "
   ]
  },
  {
   "cell_type": "code",
   "execution_count": 1235,
   "metadata": {
    "collapsed": false
   },
   "outputs": [
    {
     "name": "stdout",
     "output_type": "stream",
     "text": [
      "  0.008861 seconds (4 allocations: 160 bytes)\n"
     ]
    }
   ],
   "source": [
    "@time compute_taxes!(taxes, salaries)"
   ]
  },
  {
   "cell_type": "code",
   "execution_count": 259,
   "metadata": {
    "collapsed": false
   },
   "outputs": [
    {
     "name": "stdout",
     "output_type": "stream",
     "text": [
      "  0.002241 seconds (13 allocations: 7.630 MB)\n"
     ]
    }
   ],
   "source": [
    "@time Array{Float64}(zeros(10^6));"
   ]
  },
  {
   "cell_type": "markdown",
   "metadata": {},
   "source": [
    "### 3.2) paralelizing computations using pmap"
   ]
  },
  {
   "cell_type": "code",
   "execution_count": 1236,
   "metadata": {
    "collapsed": false
   },
   "outputs": [
    {
     "data": {
      "text/plain": [
       "4"
      ]
     },
     "execution_count": 1236,
     "metadata": {},
     "output_type": "execute_result"
    }
   ],
   "source": [
    "nprocs()"
   ]
  },
  {
   "cell_type": "code",
   "execution_count": 979,
   "metadata": {
    "collapsed": false
   },
   "outputs": [
    {
     "data": {
      "text/plain": [
       "3-element Array{Int64,1}:\n",
       " 2\n",
       " 3\n",
       " 4"
      ]
     },
     "execution_count": 979,
     "metadata": {},
     "output_type": "execute_result"
    }
   ],
   "source": [
    "addprocs(3)"
   ]
  },
  {
   "cell_type": "code",
   "execution_count": 1099,
   "metadata": {
    "collapsed": false
   },
   "outputs": [
    {
     "data": {
      "text/plain": [
       "4"
      ]
     },
     "execution_count": 1099,
     "metadata": {},
     "output_type": "execute_result"
    }
   ],
   "source": [
    "nprocs()"
   ]
  },
  {
   "cell_type": "code",
   "execution_count": 1100,
   "metadata": {
    "collapsed": true
   },
   "outputs": [],
   "source": [
    "salaries = Array{Int64}(round.(rand(10^8,1)* 100000));"
   ]
  },
  {
   "cell_type": "code",
   "execution_count": 1101,
   "metadata": {
    "collapsed": false
   },
   "outputs": [],
   "source": [
    "@everywhere function compute_taxes(salaries::Array)\n",
    "    taxes = zeros(length(salaries))\n",
    "    \n",
    "    for (i, salary) in enumerate(salaries)\n",
    "        if salary < 18000\n",
    "            taxes[i] = salary * 0.2\n",
    "        elseif  18000 < salary < 25000\n",
    "            taxes[i] = salary * 0.3\n",
    "        elseif   25000 < salary < 70000\n",
    "            taxes[i] = salary * 0.4\n",
    "        else\n",
    "            taxes[i] = salary * 0.5\n",
    "        end\n",
    "    end\n",
    "    return taxes\n",
    "end     "
   ]
  },
  {
   "cell_type": "code",
   "execution_count": 1105,
   "metadata": {
    "collapsed": false
   },
   "outputs": [
    {
     "data": {
      "text/plain": [
       "4"
      ]
     },
     "execution_count": 1105,
     "metadata": {},
     "output_type": "execute_result"
    }
   ],
   "source": [
    "n = length(salaries)\n",
    "n_processors = nprocs()"
   ]
  },
  {
   "cell_type": "code",
   "execution_count": 1104,
   "metadata": {
    "collapsed": false
   },
   "outputs": [
    {
     "name": "stdout",
     "output_type": "stream",
     "text": [
      "  3.628292 seconds (14.59 k allocations: 763.622 MB, 0.49% gc time)\n"
     ]
    }
   ],
   "source": [
    "@time taxes = [compute_taxes.(x) for x in salaries ];"
   ]
  },
  {
   "cell_type": "code",
   "execution_count": 1103,
   "metadata": {
    "collapsed": false
   },
   "outputs": [
    {
     "name": "stdout",
     "output_type": "stream",
     "text": [
      " 10.140195 seconds (62.58 k allocations: 1.493 GB, 6.01% gc time)\n"
     ]
    },
    {
     "data": {
      "text/plain": [
       "4-element Array{Array{Float64,1},1}:\n",
       " [11441.2,1659.2,49470.5,26370.4,45633.0,18969.2,14466.0,14968.4,15699.2,44601.5  …  2143.4,40227.5,13803.2,3128.8,20832.4,24445.6,41667.5,2432.6,25048.8,37231.5]\n",
       " [16823.6,27015.2,245.0,42648.0,693.2,16959.2,24253.2,14373.6,2363.0,37932.5  …  22446.8,37655.5,1861.2,37260.5,16394.8,42229.5,12740.0,17375.6,6868.8,14959.2]   \n",
       " [19766.4,7179.0,40640.5,27244.8,41927.0,2963.8,25670.0,2650.8,1667.4,44551.5  …  890.8,45291.5,40100.0,24187.2,13953.2,16663.6,2681.0,19727.2,38687.5,48795.5]   \n",
       " [13319.6,23017.6,42234.0,14661.2,6112.8,5745.6,21870.4,17387.6,42004.0,7359.9  …  16957.6,24809.2,1408.2,27023.2,10074.8,25002.8,1841.2,6972.6,39987.5,27.6]     "
      ]
     },
     "execution_count": 1103,
     "metadata": {},
     "output_type": "execute_result"
    }
   ],
   "source": [
    "@time begin\n",
    "splits_ind = [Int(x) for x in 1:(n/n_processors):(n+1)]\n",
    "salaries_array_splits = [salaries[x:y-1] for (x,y) in zip(splits_ind[1:end-1], splits_ind[2:end])]\n",
    "res = pmap(compute_taxes, salaries_array_splits);\n",
    "end"
   ]
  },
  {
   "cell_type": "markdown",
   "metadata": {
    "collapsed": true
   },
   "source": [
    "## 4) L2 norm"
   ]
  },
  {
   "cell_type": "code",
   "execution_count": 28,
   "metadata": {
    "collapsed": false
   },
   "outputs": [],
   "source": [
    "len = 1000_000;\n",
    "\n",
    "x = randn(len);\n",
    "y = randn(len);"
   ]
  },
  {
   "cell_type": "code",
   "execution_count": 30,
   "metadata": {
    "collapsed": false
   },
   "outputs": [
    {
     "name": "stdout",
     "output_type": "stream",
     "text": [
      "  0.047551 seconds (6.28 k allocations: 15.554 MiB, 16.05% gc time)\n"
     ]
    },
    {
     "data": {
      "text/plain": [
       "2.002433468450592"
      ]
     },
     "execution_count": 30,
     "metadata": {},
     "output_type": "execute_result"
    }
   ],
   "source": [
    "@time sum((x - y).^2)/length(x)"
   ]
  },
  {
   "cell_type": "code",
   "execution_count": 29,
   "metadata": {
    "collapsed": false
   },
   "outputs": [
    {
     "data": {
      "text/plain": [
       "BenchmarkTools.Trial: \n",
       "  memory estimate:  15.26 MiB\n",
       "  allocs estimate:  31\n",
       "  --------------\n",
       "  minimum time:     5.391 ms (0.00% GC)\n",
       "  median time:      8.729 ms (24.36% GC)\n",
       "  mean time:        8.748 ms (23.47% GC)\n",
       "  maximum time:     17.909 ms (26.64% GC)\n",
       "  --------------\n",
       "  samples:          564\n",
       "  evals/sample:     1"
      ]
     },
     "execution_count": 29,
     "metadata": {},
     "output_type": "execute_result"
    }
   ],
   "source": [
    "@benchmark sum((x - y).^2)/length(x)"
   ]
  },
  {
   "cell_type": "markdown",
   "metadata": {},
   "source": [
    "#### For loop"
   ]
  },
  {
   "cell_type": "code",
   "execution_count": 5,
   "metadata": {
    "collapsed": false
   },
   "outputs": [
    {
     "data": {
      "text/plain": [
       "l2_squared (generic function with 1 method)"
      ]
     },
     "execution_count": 5,
     "metadata": {},
     "output_type": "execute_result"
    }
   ],
   "source": [
    "function l2_squared(x::Array{Float64},y::Array{Float64})\n",
    "    norm = 0.\n",
    "    for i in 1:length(x)\n",
    "        norm = norm + (x[i] - y[i])^2\n",
    "    end\n",
    "    return norm/length(x)\n",
    "end"
   ]
  },
  {
   "cell_type": "code",
   "execution_count": 161,
   "metadata": {
    "collapsed": false
   },
   "outputs": [
    {
     "name": "stdout",
     "output_type": "stream",
     "text": [
      "  0.001501 seconds (5 allocations: 176 bytes)\n"
     ]
    },
    {
     "data": {
      "text/plain": [
       "2.00218357699933"
      ]
     },
     "execution_count": 161,
     "metadata": {},
     "output_type": "execute_result"
    }
   ],
   "source": [
    "@time l2_squared(x,y)"
   ]
  },
  {
   "cell_type": "markdown",
   "metadata": {},
   "source": [
    "#### Inbounds"
   ]
  },
  {
   "cell_type": "code",
   "execution_count": 183,
   "metadata": {
    "collapsed": false
   },
   "outputs": [
    {
     "ename": "LoadError",
     "evalue": "\u001b[91mUndefVarError: @inbouds not defined\u001b[39m",
     "output_type": "error",
     "traceback": [
      "\u001b[91mUndefVarError: @inbouds not defined\u001b[39m",
      ""
     ]
    }
   ],
   "source": [
    "function l2_squared_inbounds(x::Array{Float64},y::Array{Float64})\n",
    "    norm = 0.\n",
    "    @inbouds for i in 1:length(x)\n",
    "               norm += (x[i] - y[i])^2\n",
    "             end\n",
    "    return norm/length(x)\n",
    "end"
   ]
  },
  {
   "cell_type": "code",
   "execution_count": 187,
   "metadata": {
    "collapsed": false
   },
   "outputs": [
    {
     "name": "stdout",
     "output_type": "stream",
     "text": [
      "  0.001101 seconds (5 allocations: 176 bytes)\n"
     ]
    },
    {
     "data": {
      "text/plain": [
       "2.00218357699933"
      ]
     },
     "execution_count": 187,
     "metadata": {},
     "output_type": "execute_result"
    }
   ],
   "source": [
    "@time l2_squared_inbounds(x,y)"
   ]
  },
  {
   "cell_type": "code",
   "execution_count": 186,
   "metadata": {
    "collapsed": false
   },
   "outputs": [
    {
     "data": {
      "text/plain": [
       "BenchmarkTools.Trial: \n",
       "  memory estimate:  16 bytes\n",
       "  allocs estimate:  1\n",
       "  --------------\n",
       "  minimum time:     994.200 μs (0.00% GC)\n",
       "  median time:      1.068 ms (0.00% GC)\n",
       "  mean time:        1.126 ms (0.00% GC)\n",
       "  maximum time:     4.023 ms (0.00% GC)\n",
       "  --------------\n",
       "  samples:          4293\n",
       "  evals/sample:     1"
      ]
     },
     "execution_count": 186,
     "metadata": {},
     "output_type": "execute_result"
    }
   ],
   "source": [
    "@benchmark l2_squared_inbounds(x,y)"
   ]
  },
  {
   "cell_type": "markdown",
   "metadata": {},
   "source": [
    "#### SIMD"
   ]
  },
  {
   "cell_type": "code",
   "execution_count": 174,
   "metadata": {
    "collapsed": false
   },
   "outputs": [
    {
     "data": {
      "text/plain": [
       "l2_squared_inbounds_simd (generic function with 2 methods)"
      ]
     },
     "execution_count": 174,
     "metadata": {},
     "output_type": "execute_result"
    }
   ],
   "source": [
    "function l2_squared_inbounds_simd(x::Array{Float64},y::Array{Float64})\n",
    "    norm = 0.\n",
    "    n = length(x)\n",
    "    @simd for i in 1:n\n",
    "        @inbounds norm += (x[i] - y[i])^2\n",
    "        end\n",
    "\n",
    "    return norm/length(x)\n",
    "end"
   ]
  },
  {
   "cell_type": "code",
   "execution_count": 178,
   "metadata": {
    "collapsed": false
   },
   "outputs": [
    {
     "name": "stdout",
     "output_type": "stream",
     "text": [
      "  0.001026 seconds (5 allocations: 176 bytes)\n"
     ]
    },
    {
     "data": {
      "text/plain": [
       "2.0021835769993483"
      ]
     },
     "execution_count": 178,
     "metadata": {},
     "output_type": "execute_result"
    }
   ],
   "source": [
    "@time l2_squared_inbounds_simd(x,y)"
   ]
  },
  {
   "cell_type": "code",
   "execution_count": 180,
   "metadata": {
    "collapsed": false
   },
   "outputs": [
    {
     "data": {
      "text/plain": [
       "BenchmarkTools.Trial: \n",
       "  memory estimate:  16 bytes\n",
       "  allocs estimate:  1\n",
       "  --------------\n",
       "  minimum time:     812.198 μs (0.00% GC)\n",
       "  median time:      894.543 μs (0.00% GC)\n",
       "  mean time:        962.800 μs (0.00% GC)\n",
       "  maximum time:     4.048 ms (0.00% GC)\n",
       "  --------------\n",
       "  samples:          4989\n",
       "  evals/sample:     1"
      ]
     },
     "execution_count": 180,
     "metadata": {},
     "output_type": "execute_result"
    }
   ],
   "source": [
    "@benchmark l2_squared_inbounds_simd(x,y)"
   ]
  },
  {
   "cell_type": "markdown",
   "metadata": {},
   "source": [
    "### Float 32"
   ]
  },
  {
   "cell_type": "code",
   "execution_count": 23,
   "metadata": {
    "collapsed": false
   },
   "outputs": [
    {
     "data": {
      "text/plain": [
       "l2_squared_inbounds_simd (generic function with 2 methods)"
      ]
     },
     "execution_count": 23,
     "metadata": {},
     "output_type": "execute_result"
    }
   ],
   "source": [
    "len = 1000_000\n",
    "srand(1234)\n",
    "x32 = Array{Float32}(randn(len));\n",
    "y32 = Array{Float32}(randn(len));\n",
    "\n",
    "function l2_squared_inbounds_simd(x::Array{Float32},y::Array{Float32})\n",
    "    norm = 0.\n",
    "    n = length(x)\n",
    "    @inbounds @simd for i in 1:n\n",
    "             norm += (x[i] - y[i])^2\n",
    "        end\n",
    "\n",
    "    return norm/length(x)\n",
    "end"
   ]
  },
  {
   "cell_type": "code",
   "execution_count": 27,
   "metadata": {
    "collapsed": false
   },
   "outputs": [
    {
     "name": "stdout",
     "output_type": "stream",
     "text": [
      "  0.000712 seconds (5 allocations: 176 bytes)\n"
     ]
    },
    {
     "data": {
      "text/plain": [
       "1.9997882696165643"
      ]
     },
     "execution_count": 27,
     "metadata": {},
     "output_type": "execute_result"
    }
   ],
   "source": [
    "@time l2_squared_inbounds_simd(x32,y32)"
   ]
  },
  {
   "cell_type": "code",
   "execution_count": null,
   "metadata": {
    "collapsed": true
   },
   "outputs": [],
   "source": []
  }
 ],
 "metadata": {
  "anaconda-cloud": {},
  "kernelspec": {
   "display_name": "Julia 0.6.0-dev",
   "language": "julia",
   "name": "julia-0.6"
  },
  "language_info": {
   "file_extension": ".jl",
   "mimetype": "application/julia",
   "name": "julia",
   "version": "0.6.0"
  }
 },
 "nbformat": 4,
 "nbformat_minor": 0
}
